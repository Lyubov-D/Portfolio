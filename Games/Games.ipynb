{
 "cells": [
  {
   "cell_type": "markdown",
   "metadata": {},
   "source": [
    "# Определение закономерностей успешности игры\n",
    "\n",
    "Интернет-магазине «Стримчик» - продаёт по всему миру компьютерные игры. Из открытых источников доступны исторические данные о продажах игр, оценки пользователей и экспертов, жанры и платформы (например, Xbox или PlayStation). \n",
    "\n",
    "Необходимо выявить определяющие успешность игры закономерности, что позволит определить потенциально популярный продукт и спланировать рекламные кампании.\n",
    "\n",
    "В наборе данных попадается аббревиатура ESRB (Entertainment Software Rating Board) — это ассоциация, определяющая возрастной рейтинг компьютерных игр. ESRB оценивает игровой контент и присваивает ему подходящую возрастную категорию, например, «Для взрослых», «Для детей младшего возраста» или «Для подростков».\n",
    "\n",
    "**Описание данных**\n",
    "\n",
    "- Name — название игры\n",
    "- Platform — платформа\n",
    "- Year_of_Release — год выпуска\n",
    "- Genre — жанр игры\n",
    "- NA_sales — продажи в Северной Америке (миллионы проданных копий)\n",
    "- EU_sales — продажи в Европе (миллионы проданных копий)\n",
    "- JP_sales — продажи в Японии (миллионы проданных копий)\n",
    "- Other_sales — продажи в других странах (миллионы проданных копий)\n",
    "- Critic_Score — оценка критиков (максимум 100)\n",
    "- User_Score — оценка пользователей (максимум 10)\n",
    "- Rating — рейтинг от организации ESRB (англ. Entertainment Software Rating Board). Эта ассоциация определяет рейтинг компьютерных игр и присваивает им подходящую возрастную категорию."
   ]
  },
  {
   "cell_type": "markdown",
   "metadata": {},
   "source": [
    "## Изучение данных из файла и предобработка данных"
   ]
  },
  {
   "cell_type": "code",
   "execution_count": 1,
   "metadata": {
    "scrolled": true
   },
   "outputs": [
    {
     "data": {
      "text/html": [
       "<div>\n",
       "<style scoped>\n",
       "    .dataframe tbody tr th:only-of-type {\n",
       "        vertical-align: middle;\n",
       "    }\n",
       "\n",
       "    .dataframe tbody tr th {\n",
       "        vertical-align: top;\n",
       "    }\n",
       "\n",
       "    .dataframe thead th {\n",
       "        text-align: right;\n",
       "    }\n",
       "</style>\n",
       "<table border=\"1\" class=\"dataframe\">\n",
       "  <thead>\n",
       "    <tr style=\"text-align: right;\">\n",
       "      <th></th>\n",
       "      <th>Name</th>\n",
       "      <th>Platform</th>\n",
       "      <th>Year_of_Release</th>\n",
       "      <th>Genre</th>\n",
       "      <th>NA_sales</th>\n",
       "      <th>EU_sales</th>\n",
       "      <th>JP_sales</th>\n",
       "      <th>Other_sales</th>\n",
       "      <th>Critic_Score</th>\n",
       "      <th>User_Score</th>\n",
       "      <th>Rating</th>\n",
       "    </tr>\n",
       "  </thead>\n",
       "  <tbody>\n",
       "    <tr>\n",
       "      <th>0</th>\n",
       "      <td>Wii Sports</td>\n",
       "      <td>Wii</td>\n",
       "      <td>2006.0</td>\n",
       "      <td>Sports</td>\n",
       "      <td>41.36</td>\n",
       "      <td>28.96</td>\n",
       "      <td>3.77</td>\n",
       "      <td>8.45</td>\n",
       "      <td>76.0</td>\n",
       "      <td>8</td>\n",
       "      <td>E</td>\n",
       "    </tr>\n",
       "    <tr>\n",
       "      <th>1</th>\n",
       "      <td>Super Mario Bros.</td>\n",
       "      <td>NES</td>\n",
       "      <td>1985.0</td>\n",
       "      <td>Platform</td>\n",
       "      <td>29.08</td>\n",
       "      <td>3.58</td>\n",
       "      <td>6.81</td>\n",
       "      <td>0.77</td>\n",
       "      <td>NaN</td>\n",
       "      <td>NaN</td>\n",
       "      <td>NaN</td>\n",
       "    </tr>\n",
       "    <tr>\n",
       "      <th>2</th>\n",
       "      <td>Mario Kart Wii</td>\n",
       "      <td>Wii</td>\n",
       "      <td>2008.0</td>\n",
       "      <td>Racing</td>\n",
       "      <td>15.68</td>\n",
       "      <td>12.76</td>\n",
       "      <td>3.79</td>\n",
       "      <td>3.29</td>\n",
       "      <td>82.0</td>\n",
       "      <td>8.3</td>\n",
       "      <td>E</td>\n",
       "    </tr>\n",
       "    <tr>\n",
       "      <th>3</th>\n",
       "      <td>Wii Sports Resort</td>\n",
       "      <td>Wii</td>\n",
       "      <td>2009.0</td>\n",
       "      <td>Sports</td>\n",
       "      <td>15.61</td>\n",
       "      <td>10.93</td>\n",
       "      <td>3.28</td>\n",
       "      <td>2.95</td>\n",
       "      <td>80.0</td>\n",
       "      <td>8</td>\n",
       "      <td>E</td>\n",
       "    </tr>\n",
       "    <tr>\n",
       "      <th>4</th>\n",
       "      <td>Pokemon Red/Pokemon Blue</td>\n",
       "      <td>GB</td>\n",
       "      <td>1996.0</td>\n",
       "      <td>Role-Playing</td>\n",
       "      <td>11.27</td>\n",
       "      <td>8.89</td>\n",
       "      <td>10.22</td>\n",
       "      <td>1.00</td>\n",
       "      <td>NaN</td>\n",
       "      <td>NaN</td>\n",
       "      <td>NaN</td>\n",
       "    </tr>\n",
       "    <tr>\n",
       "      <th>5</th>\n",
       "      <td>Tetris</td>\n",
       "      <td>GB</td>\n",
       "      <td>1989.0</td>\n",
       "      <td>Puzzle</td>\n",
       "      <td>23.20</td>\n",
       "      <td>2.26</td>\n",
       "      <td>4.22</td>\n",
       "      <td>0.58</td>\n",
       "      <td>NaN</td>\n",
       "      <td>NaN</td>\n",
       "      <td>NaN</td>\n",
       "    </tr>\n",
       "    <tr>\n",
       "      <th>6</th>\n",
       "      <td>New Super Mario Bros.</td>\n",
       "      <td>DS</td>\n",
       "      <td>2006.0</td>\n",
       "      <td>Platform</td>\n",
       "      <td>11.28</td>\n",
       "      <td>9.14</td>\n",
       "      <td>6.50</td>\n",
       "      <td>2.88</td>\n",
       "      <td>89.0</td>\n",
       "      <td>8.5</td>\n",
       "      <td>E</td>\n",
       "    </tr>\n",
       "    <tr>\n",
       "      <th>7</th>\n",
       "      <td>Wii Play</td>\n",
       "      <td>Wii</td>\n",
       "      <td>2006.0</td>\n",
       "      <td>Misc</td>\n",
       "      <td>13.96</td>\n",
       "      <td>9.18</td>\n",
       "      <td>2.93</td>\n",
       "      <td>2.84</td>\n",
       "      <td>58.0</td>\n",
       "      <td>6.6</td>\n",
       "      <td>E</td>\n",
       "    </tr>\n",
       "    <tr>\n",
       "      <th>8</th>\n",
       "      <td>New Super Mario Bros. Wii</td>\n",
       "      <td>Wii</td>\n",
       "      <td>2009.0</td>\n",
       "      <td>Platform</td>\n",
       "      <td>14.44</td>\n",
       "      <td>6.94</td>\n",
       "      <td>4.70</td>\n",
       "      <td>2.24</td>\n",
       "      <td>87.0</td>\n",
       "      <td>8.4</td>\n",
       "      <td>E</td>\n",
       "    </tr>\n",
       "    <tr>\n",
       "      <th>9</th>\n",
       "      <td>Duck Hunt</td>\n",
       "      <td>NES</td>\n",
       "      <td>1984.0</td>\n",
       "      <td>Shooter</td>\n",
       "      <td>26.93</td>\n",
       "      <td>0.63</td>\n",
       "      <td>0.28</td>\n",
       "      <td>0.47</td>\n",
       "      <td>NaN</td>\n",
       "      <td>NaN</td>\n",
       "      <td>NaN</td>\n",
       "    </tr>\n",
       "    <tr>\n",
       "      <th>10</th>\n",
       "      <td>Nintendogs</td>\n",
       "      <td>DS</td>\n",
       "      <td>2005.0</td>\n",
       "      <td>Simulation</td>\n",
       "      <td>9.05</td>\n",
       "      <td>10.95</td>\n",
       "      <td>1.93</td>\n",
       "      <td>2.74</td>\n",
       "      <td>NaN</td>\n",
       "      <td>NaN</td>\n",
       "      <td>NaN</td>\n",
       "    </tr>\n",
       "    <tr>\n",
       "      <th>11</th>\n",
       "      <td>Mario Kart DS</td>\n",
       "      <td>DS</td>\n",
       "      <td>2005.0</td>\n",
       "      <td>Racing</td>\n",
       "      <td>9.71</td>\n",
       "      <td>7.47</td>\n",
       "      <td>4.13</td>\n",
       "      <td>1.90</td>\n",
       "      <td>91.0</td>\n",
       "      <td>8.6</td>\n",
       "      <td>E</td>\n",
       "    </tr>\n",
       "    <tr>\n",
       "      <th>12</th>\n",
       "      <td>Pokemon Gold/Pokemon Silver</td>\n",
       "      <td>GB</td>\n",
       "      <td>1999.0</td>\n",
       "      <td>Role-Playing</td>\n",
       "      <td>9.00</td>\n",
       "      <td>6.18</td>\n",
       "      <td>7.20</td>\n",
       "      <td>0.71</td>\n",
       "      <td>NaN</td>\n",
       "      <td>NaN</td>\n",
       "      <td>NaN</td>\n",
       "    </tr>\n",
       "    <tr>\n",
       "      <th>13</th>\n",
       "      <td>Wii Fit</td>\n",
       "      <td>Wii</td>\n",
       "      <td>2007.0</td>\n",
       "      <td>Sports</td>\n",
       "      <td>8.92</td>\n",
       "      <td>8.03</td>\n",
       "      <td>3.60</td>\n",
       "      <td>2.15</td>\n",
       "      <td>80.0</td>\n",
       "      <td>7.7</td>\n",
       "      <td>E</td>\n",
       "    </tr>\n",
       "    <tr>\n",
       "      <th>14</th>\n",
       "      <td>Kinect Adventures!</td>\n",
       "      <td>X360</td>\n",
       "      <td>2010.0</td>\n",
       "      <td>Misc</td>\n",
       "      <td>15.00</td>\n",
       "      <td>4.89</td>\n",
       "      <td>0.24</td>\n",
       "      <td>1.69</td>\n",
       "      <td>61.0</td>\n",
       "      <td>6.3</td>\n",
       "      <td>E</td>\n",
       "    </tr>\n",
       "    <tr>\n",
       "      <th>15</th>\n",
       "      <td>Wii Fit Plus</td>\n",
       "      <td>Wii</td>\n",
       "      <td>2009.0</td>\n",
       "      <td>Sports</td>\n",
       "      <td>9.01</td>\n",
       "      <td>8.49</td>\n",
       "      <td>2.53</td>\n",
       "      <td>1.77</td>\n",
       "      <td>80.0</td>\n",
       "      <td>7.4</td>\n",
       "      <td>E</td>\n",
       "    </tr>\n",
       "    <tr>\n",
       "      <th>16</th>\n",
       "      <td>Grand Theft Auto V</td>\n",
       "      <td>PS3</td>\n",
       "      <td>2013.0</td>\n",
       "      <td>Action</td>\n",
       "      <td>7.02</td>\n",
       "      <td>9.09</td>\n",
       "      <td>0.98</td>\n",
       "      <td>3.96</td>\n",
       "      <td>97.0</td>\n",
       "      <td>8.2</td>\n",
       "      <td>M</td>\n",
       "    </tr>\n",
       "    <tr>\n",
       "      <th>17</th>\n",
       "      <td>Grand Theft Auto: San Andreas</td>\n",
       "      <td>PS2</td>\n",
       "      <td>2004.0</td>\n",
       "      <td>Action</td>\n",
       "      <td>9.43</td>\n",
       "      <td>0.40</td>\n",
       "      <td>0.41</td>\n",
       "      <td>10.57</td>\n",
       "      <td>95.0</td>\n",
       "      <td>9</td>\n",
       "      <td>M</td>\n",
       "    </tr>\n",
       "    <tr>\n",
       "      <th>18</th>\n",
       "      <td>Super Mario World</td>\n",
       "      <td>SNES</td>\n",
       "      <td>1990.0</td>\n",
       "      <td>Platform</td>\n",
       "      <td>12.78</td>\n",
       "      <td>3.75</td>\n",
       "      <td>3.54</td>\n",
       "      <td>0.55</td>\n",
       "      <td>NaN</td>\n",
       "      <td>NaN</td>\n",
       "      <td>NaN</td>\n",
       "    </tr>\n",
       "    <tr>\n",
       "      <th>19</th>\n",
       "      <td>Brain Age: Train Your Brain in Minutes a Day</td>\n",
       "      <td>DS</td>\n",
       "      <td>2005.0</td>\n",
       "      <td>Misc</td>\n",
       "      <td>4.74</td>\n",
       "      <td>9.20</td>\n",
       "      <td>4.16</td>\n",
       "      <td>2.04</td>\n",
       "      <td>77.0</td>\n",
       "      <td>7.9</td>\n",
       "      <td>E</td>\n",
       "    </tr>\n",
       "    <tr>\n",
       "      <th>20</th>\n",
       "      <td>Pokemon Diamond/Pokemon Pearl</td>\n",
       "      <td>DS</td>\n",
       "      <td>2006.0</td>\n",
       "      <td>Role-Playing</td>\n",
       "      <td>6.38</td>\n",
       "      <td>4.46</td>\n",
       "      <td>6.04</td>\n",
       "      <td>1.36</td>\n",
       "      <td>NaN</td>\n",
       "      <td>NaN</td>\n",
       "      <td>NaN</td>\n",
       "    </tr>\n",
       "    <tr>\n",
       "      <th>21</th>\n",
       "      <td>Super Mario Land</td>\n",
       "      <td>GB</td>\n",
       "      <td>1989.0</td>\n",
       "      <td>Platform</td>\n",
       "      <td>10.83</td>\n",
       "      <td>2.71</td>\n",
       "      <td>4.18</td>\n",
       "      <td>0.42</td>\n",
       "      <td>NaN</td>\n",
       "      <td>NaN</td>\n",
       "      <td>NaN</td>\n",
       "    </tr>\n",
       "    <tr>\n",
       "      <th>22</th>\n",
       "      <td>Super Mario Bros. 3</td>\n",
       "      <td>NES</td>\n",
       "      <td>1988.0</td>\n",
       "      <td>Platform</td>\n",
       "      <td>9.54</td>\n",
       "      <td>3.44</td>\n",
       "      <td>3.84</td>\n",
       "      <td>0.46</td>\n",
       "      <td>NaN</td>\n",
       "      <td>NaN</td>\n",
       "      <td>NaN</td>\n",
       "    </tr>\n",
       "    <tr>\n",
       "      <th>23</th>\n",
       "      <td>Grand Theft Auto V</td>\n",
       "      <td>X360</td>\n",
       "      <td>2013.0</td>\n",
       "      <td>Action</td>\n",
       "      <td>9.66</td>\n",
       "      <td>5.14</td>\n",
       "      <td>0.06</td>\n",
       "      <td>1.41</td>\n",
       "      <td>97.0</td>\n",
       "      <td>8.1</td>\n",
       "      <td>M</td>\n",
       "    </tr>\n",
       "    <tr>\n",
       "      <th>24</th>\n",
       "      <td>Grand Theft Auto: Vice City</td>\n",
       "      <td>PS2</td>\n",
       "      <td>2002.0</td>\n",
       "      <td>Action</td>\n",
       "      <td>8.41</td>\n",
       "      <td>5.49</td>\n",
       "      <td>0.47</td>\n",
       "      <td>1.78</td>\n",
       "      <td>95.0</td>\n",
       "      <td>8.7</td>\n",
       "      <td>M</td>\n",
       "    </tr>\n",
       "    <tr>\n",
       "      <th>25</th>\n",
       "      <td>Pokemon Ruby/Pokemon Sapphire</td>\n",
       "      <td>GBA</td>\n",
       "      <td>2002.0</td>\n",
       "      <td>Role-Playing</td>\n",
       "      <td>6.06</td>\n",
       "      <td>3.90</td>\n",
       "      <td>5.38</td>\n",
       "      <td>0.50</td>\n",
       "      <td>NaN</td>\n",
       "      <td>NaN</td>\n",
       "      <td>NaN</td>\n",
       "    </tr>\n",
       "    <tr>\n",
       "      <th>26</th>\n",
       "      <td>Brain Age 2: More Training in Minutes a Day</td>\n",
       "      <td>DS</td>\n",
       "      <td>2005.0</td>\n",
       "      <td>Puzzle</td>\n",
       "      <td>3.43</td>\n",
       "      <td>5.35</td>\n",
       "      <td>5.32</td>\n",
       "      <td>1.18</td>\n",
       "      <td>77.0</td>\n",
       "      <td>7.1</td>\n",
       "      <td>E</td>\n",
       "    </tr>\n",
       "    <tr>\n",
       "      <th>27</th>\n",
       "      <td>Pokemon Black/Pokemon White</td>\n",
       "      <td>DS</td>\n",
       "      <td>2010.0</td>\n",
       "      <td>Role-Playing</td>\n",
       "      <td>5.51</td>\n",
       "      <td>3.17</td>\n",
       "      <td>5.65</td>\n",
       "      <td>0.80</td>\n",
       "      <td>NaN</td>\n",
       "      <td>NaN</td>\n",
       "      <td>NaN</td>\n",
       "    </tr>\n",
       "    <tr>\n",
       "      <th>28</th>\n",
       "      <td>Gran Turismo 3: A-Spec</td>\n",
       "      <td>PS2</td>\n",
       "      <td>2001.0</td>\n",
       "      <td>Racing</td>\n",
       "      <td>6.85</td>\n",
       "      <td>5.09</td>\n",
       "      <td>1.87</td>\n",
       "      <td>1.16</td>\n",
       "      <td>95.0</td>\n",
       "      <td>8.4</td>\n",
       "      <td>E</td>\n",
       "    </tr>\n",
       "    <tr>\n",
       "      <th>29</th>\n",
       "      <td>Call of Duty: Modern Warfare 3</td>\n",
       "      <td>X360</td>\n",
       "      <td>2011.0</td>\n",
       "      <td>Shooter</td>\n",
       "      <td>9.04</td>\n",
       "      <td>4.24</td>\n",
       "      <td>0.13</td>\n",
       "      <td>1.32</td>\n",
       "      <td>88.0</td>\n",
       "      <td>3.4</td>\n",
       "      <td>M</td>\n",
       "    </tr>\n",
       "  </tbody>\n",
       "</table>\n",
       "</div>"
      ],
      "text/plain": [
       "                                            Name Platform  Year_of_Release  \\\n",
       "0                                     Wii Sports      Wii           2006.0   \n",
       "1                              Super Mario Bros.      NES           1985.0   \n",
       "2                                 Mario Kart Wii      Wii           2008.0   \n",
       "3                              Wii Sports Resort      Wii           2009.0   \n",
       "4                       Pokemon Red/Pokemon Blue       GB           1996.0   \n",
       "5                                         Tetris       GB           1989.0   \n",
       "6                          New Super Mario Bros.       DS           2006.0   \n",
       "7                                       Wii Play      Wii           2006.0   \n",
       "8                      New Super Mario Bros. Wii      Wii           2009.0   \n",
       "9                                      Duck Hunt      NES           1984.0   \n",
       "10                                    Nintendogs       DS           2005.0   \n",
       "11                                 Mario Kart DS       DS           2005.0   \n",
       "12                   Pokemon Gold/Pokemon Silver       GB           1999.0   \n",
       "13                                       Wii Fit      Wii           2007.0   \n",
       "14                            Kinect Adventures!     X360           2010.0   \n",
       "15                                  Wii Fit Plus      Wii           2009.0   \n",
       "16                            Grand Theft Auto V      PS3           2013.0   \n",
       "17                 Grand Theft Auto: San Andreas      PS2           2004.0   \n",
       "18                             Super Mario World     SNES           1990.0   \n",
       "19  Brain Age: Train Your Brain in Minutes a Day       DS           2005.0   \n",
       "20                 Pokemon Diamond/Pokemon Pearl       DS           2006.0   \n",
       "21                              Super Mario Land       GB           1989.0   \n",
       "22                           Super Mario Bros. 3      NES           1988.0   \n",
       "23                            Grand Theft Auto V     X360           2013.0   \n",
       "24                   Grand Theft Auto: Vice City      PS2           2002.0   \n",
       "25                 Pokemon Ruby/Pokemon Sapphire      GBA           2002.0   \n",
       "26   Brain Age 2: More Training in Minutes a Day       DS           2005.0   \n",
       "27                   Pokemon Black/Pokemon White       DS           2010.0   \n",
       "28                        Gran Turismo 3: A-Spec      PS2           2001.0   \n",
       "29                Call of Duty: Modern Warfare 3     X360           2011.0   \n",
       "\n",
       "           Genre  NA_sales  EU_sales  JP_sales  Other_sales  Critic_Score  \\\n",
       "0         Sports     41.36     28.96      3.77         8.45          76.0   \n",
       "1       Platform     29.08      3.58      6.81         0.77           NaN   \n",
       "2         Racing     15.68     12.76      3.79         3.29          82.0   \n",
       "3         Sports     15.61     10.93      3.28         2.95          80.0   \n",
       "4   Role-Playing     11.27      8.89     10.22         1.00           NaN   \n",
       "5         Puzzle     23.20      2.26      4.22         0.58           NaN   \n",
       "6       Platform     11.28      9.14      6.50         2.88          89.0   \n",
       "7           Misc     13.96      9.18      2.93         2.84          58.0   \n",
       "8       Platform     14.44      6.94      4.70         2.24          87.0   \n",
       "9        Shooter     26.93      0.63      0.28         0.47           NaN   \n",
       "10    Simulation      9.05     10.95      1.93         2.74           NaN   \n",
       "11        Racing      9.71      7.47      4.13         1.90          91.0   \n",
       "12  Role-Playing      9.00      6.18      7.20         0.71           NaN   \n",
       "13        Sports      8.92      8.03      3.60         2.15          80.0   \n",
       "14          Misc     15.00      4.89      0.24         1.69          61.0   \n",
       "15        Sports      9.01      8.49      2.53         1.77          80.0   \n",
       "16        Action      7.02      9.09      0.98         3.96          97.0   \n",
       "17        Action      9.43      0.40      0.41        10.57          95.0   \n",
       "18      Platform     12.78      3.75      3.54         0.55           NaN   \n",
       "19          Misc      4.74      9.20      4.16         2.04          77.0   \n",
       "20  Role-Playing      6.38      4.46      6.04         1.36           NaN   \n",
       "21      Platform     10.83      2.71      4.18         0.42           NaN   \n",
       "22      Platform      9.54      3.44      3.84         0.46           NaN   \n",
       "23        Action      9.66      5.14      0.06         1.41          97.0   \n",
       "24        Action      8.41      5.49      0.47         1.78          95.0   \n",
       "25  Role-Playing      6.06      3.90      5.38         0.50           NaN   \n",
       "26        Puzzle      3.43      5.35      5.32         1.18          77.0   \n",
       "27  Role-Playing      5.51      3.17      5.65         0.80           NaN   \n",
       "28        Racing      6.85      5.09      1.87         1.16          95.0   \n",
       "29       Shooter      9.04      4.24      0.13         1.32          88.0   \n",
       "\n",
       "   User_Score Rating  \n",
       "0           8      E  \n",
       "1         NaN    NaN  \n",
       "2         8.3      E  \n",
       "3           8      E  \n",
       "4         NaN    NaN  \n",
       "5         NaN    NaN  \n",
       "6         8.5      E  \n",
       "7         6.6      E  \n",
       "8         8.4      E  \n",
       "9         NaN    NaN  \n",
       "10        NaN    NaN  \n",
       "11        8.6      E  \n",
       "12        NaN    NaN  \n",
       "13        7.7      E  \n",
       "14        6.3      E  \n",
       "15        7.4      E  \n",
       "16        8.2      M  \n",
       "17          9      M  \n",
       "18        NaN    NaN  \n",
       "19        7.9      E  \n",
       "20        NaN    NaN  \n",
       "21        NaN    NaN  \n",
       "22        NaN    NaN  \n",
       "23        8.1      M  \n",
       "24        8.7      M  \n",
       "25        NaN    NaN  \n",
       "26        7.1      E  \n",
       "27        NaN    NaN  \n",
       "28        8.4      E  \n",
       "29        3.4      M  "
      ]
     },
     "execution_count": 1,
     "metadata": {},
     "output_type": "execute_result"
    }
   ],
   "source": [
    "import pandas as pd  # импорт библиотеки pandas\n",
    "import matplotlib.pyplot as plt #\n",
    "import numpy as np\n",
    "from scipy import stats as st\n",
    "df = pd.read_csv('/datasets/games.csv') # чтение файла с данными и сохранение в df\n",
    "df.head(30) # получение первых 30 строк таблицы df"
   ]
  },
  {
   "cell_type": "code",
   "execution_count": 2,
   "metadata": {},
   "outputs": [
    {
     "name": "stdout",
     "output_type": "stream",
     "text": [
      "<class 'pandas.core.frame.DataFrame'>\n",
      "RangeIndex: 16715 entries, 0 to 16714\n",
      "Data columns (total 11 columns):\n",
      " #   Column           Non-Null Count  Dtype  \n",
      "---  ------           --------------  -----  \n",
      " 0   Name             16713 non-null  object \n",
      " 1   Platform         16715 non-null  object \n",
      " 2   Year_of_Release  16446 non-null  float64\n",
      " 3   Genre            16713 non-null  object \n",
      " 4   NA_sales         16715 non-null  float64\n",
      " 5   EU_sales         16715 non-null  float64\n",
      " 6   JP_sales         16715 non-null  float64\n",
      " 7   Other_sales      16715 non-null  float64\n",
      " 8   Critic_Score     8137 non-null   float64\n",
      " 9   User_Score       10014 non-null  object \n",
      " 10  Rating           9949 non-null   object \n",
      "dtypes: float64(6), object(5)\n",
      "memory usage: 1.4+ MB\n"
     ]
    }
   ],
   "source": [
    "df.info()"
   ]
  },
  {
   "cell_type": "markdown",
   "metadata": {},
   "source": [
    "**Вывод**\n",
    "\n",
    "Встречается множество пропущенных значений в столбцах. Столбецы записаны не в «змеином_регистре». В большинстве исходные данные относятся к вещественному типу."
   ]
  },
  {
   "cell_type": "code",
   "execution_count": 3,
   "metadata": {},
   "outputs": [
    {
     "data": {
      "text/plain": [
       "Index(['name', 'platform', 'year_of_release', 'genre', 'na_sales', 'eu_sales',\n",
       "       'jp_sales', 'other_sales', 'critic_score', 'user_score', 'rating'],\n",
       "      dtype='object')"
      ]
     },
     "execution_count": 3,
     "metadata": {},
     "output_type": "execute_result"
    }
   ],
   "source": [
    "df = df.rename(columns={'Name':'name','Platform':'platform','Year_of_Release':'year_of_release','Genre':'genre','NA_sales':'na_sales','EU_sales':'eu_sales','JP_sales':'jp_sales','Other_sales':'other_sales','Critic_Score':'critic_score','User_Score':'user_score','Rating':'rating'}) # переименование столбцов (приводим к нижнему регистру)\n",
    "df.columns # проверка результатов - перечень названий столбцов"
   ]
  },
  {
   "cell_type": "markdown",
   "metadata": {},
   "source": [
    "**Вывод**\n",
    "\n",
    "Столбцы были приведены к нижнему регистру."
   ]
  },
  {
   "cell_type": "code",
   "execution_count": 4,
   "metadata": {},
   "outputs": [
    {
     "data": {
      "text/plain": [
       "name                  2\n",
       "platform              0\n",
       "year_of_release     269\n",
       "genre                 2\n",
       "na_sales              0\n",
       "eu_sales              0\n",
       "jp_sales              0\n",
       "other_sales           0\n",
       "critic_score       8578\n",
       "user_score         6701\n",
       "rating             6766\n",
       "dtype: int64"
      ]
     },
     "execution_count": 4,
     "metadata": {},
     "output_type": "execute_result"
    }
   ],
   "source": [
    "df.isna().sum() # найдем строки с пропусками"
   ]
  },
  {
   "cell_type": "code",
   "execution_count": 5,
   "metadata": {},
   "outputs": [
    {
     "data": {
      "text/plain": [
       "name                  2\n",
       "platform              0\n",
       "year_of_release       0\n",
       "genre                 2\n",
       "na_sales              0\n",
       "eu_sales              0\n",
       "jp_sales              0\n",
       "other_sales           0\n",
       "critic_score       8463\n",
       "user_score         6607\n",
       "rating             6678\n",
       "dtype: int64"
      ]
     },
     "execution_count": 5,
     "metadata": {},
     "output_type": "execute_result"
    }
   ],
   "source": [
    "df=df.dropna(subset=['year_of_release']) # удаляем пропущенные значения в столбце\n",
    "df['year_of_release'] = df['year_of_release'].astype('Int64') #преобразуем тип данных к нужному\n",
    "df.isna().sum() # проверим действие"
   ]
  },
  {
   "cell_type": "markdown",
   "metadata": {},
   "source": [
    "**Вывод**\n",
    "\n",
    "В столбце year_of_release пропуски были удалены, также исходные данные столбца year_of_release относились к вещественному типу, что некорректно для дальнейшего анализа данных.Методом astype() перевела в целое число.\n",
    "\n",
    "Столбцы critic_score, user_score, rating имеют множество пропусков, оптимальный вариант замены пропусков не был найден.Оставляем данные столбцов без изменений."
   ]
  },
  {
   "cell_type": "code",
   "execution_count": 6,
   "metadata": {},
   "outputs": [
    {
     "data": {
      "text/plain": [
       "array(['8', nan, '8.3', '8.5', '6.6', '8.4', '8.6', '7.7', '6.3', '7.4',\n",
       "       '8.2', '9', '7.9', '8.1', '8.7', '7.1', '3.4', '5.3', '4.8', '3.2',\n",
       "       '8.9', '6.4', '7.8', '7.5', '2.6', '7.2', '9.2', '7', '7.3', '4.3',\n",
       "       '7.6', '5.7', '5', '9.1', '6.5', 'tbd', '8.8', '6.9', '9.4', '6.8',\n",
       "       '6.1', '6.7', '5.4', '4', '4.9', '4.5', '9.3', '6.2', '4.2', '6',\n",
       "       '3.7', '4.1', '5.8', '5.6', '5.5', '4.4', '4.6', '5.9', '3.9',\n",
       "       '3.1', '2.9', '5.2', '3.3', '4.7', '5.1', '3.5', '2.5', '1.9', '3',\n",
       "       '2.7', '2.2', '2', '9.5', '2.1', '3.6', '2.8', '1.8', '3.8', '0',\n",
       "       '1.6', '9.6', '2.4', '1.7', '1.1', '0.3', '1.5', '0.7', '1.2',\n",
       "       '2.3', '0.5', '1.3', '0.2', '0.6', '1.4', '0.9', '1', '9.7'],\n",
       "      dtype=object)"
      ]
     },
     "execution_count": 6,
     "metadata": {},
     "output_type": "execute_result"
    }
   ],
   "source": [
    "df['user_score'].unique() # Посмотрим на данные столбца"
   ]
  },
  {
   "cell_type": "code",
   "execution_count": 7,
   "metadata": {
    "scrolled": false
   },
   "outputs": [
    {
     "data": {
      "text/plain": [
       "array(['8', nan, '8.3', '8.5', '6.6', '8.4', '8.6', '7.7', '6.3', '7.4',\n",
       "       '8.2', '9', '7.9', '8.1', '8.7', '7.1', '3.4', '5.3', '4.8', '3.2',\n",
       "       '8.9', '6.4', '7.8', '7.5', '2.6', '7.2', '9.2', '7', '7.3', '4.3',\n",
       "       '7.6', '5.7', '5', '9.1', '6.5', '8.8', '6.9', '9.4', '6.8', '6.1',\n",
       "       '6.7', '5.4', '4', '4.9', '4.5', '9.3', '6.2', '4.2', '6', '3.7',\n",
       "       '4.1', '5.8', '5.6', '5.5', '4.4', '4.6', '5.9', '3.9', '3.1',\n",
       "       '2.9', '5.2', '3.3', '4.7', '5.1', '3.5', '2.5', '1.9', '3', '2.7',\n",
       "       '2.2', '2', '9.5', '2.1', '3.6', '2.8', '1.8', '3.8', '0', '1.6',\n",
       "       '9.6', '2.4', '1.7', '1.1', '0.3', '1.5', '0.7', '1.2', '2.3',\n",
       "       '0.5', '1.3', '0.2', '0.6', '1.4', '0.9', '1', '9.7'], dtype=object)"
      ]
     },
     "execution_count": 7,
     "metadata": {},
     "output_type": "execute_result"
    }
   ],
   "source": [
    "df['user_score'] = df['user_score'].replace('tbd',None) #заменим значение 'tbt' на NaN\n",
    "df['user_score'].unique() #проверим действие"
   ]
  },
  {
   "cell_type": "code",
   "execution_count": 8,
   "metadata": {
    "scrolled": true
   },
   "outputs": [
    {
     "name": "stdout",
     "output_type": "stream",
     "text": [
      "<class 'pandas.core.frame.DataFrame'>\n",
      "Int64Index: 16446 entries, 0 to 16714\n",
      "Data columns (total 11 columns):\n",
      " #   Column           Non-Null Count  Dtype  \n",
      "---  ------           --------------  -----  \n",
      " 0   name             16444 non-null  object \n",
      " 1   platform         16446 non-null  object \n",
      " 2   year_of_release  16446 non-null  Int64  \n",
      " 3   genre            16444 non-null  object \n",
      " 4   na_sales         16446 non-null  float64\n",
      " 5   eu_sales         16446 non-null  float64\n",
      " 6   jp_sales         16446 non-null  float64\n",
      " 7   other_sales      16446 non-null  float64\n",
      " 8   critic_score     7983 non-null   float64\n",
      " 9   user_score       8610 non-null   float64\n",
      " 10  rating           9768 non-null   object \n",
      "dtypes: Int64(1), float64(6), object(4)\n",
      "memory usage: 1.5+ MB\n"
     ]
    }
   ],
   "source": [
    "df['user_score'] = df['user_score'].astype('float64') #преобразуем тип данных к нужному\n",
    "df.info()"
   ]
  },
  {
   "cell_type": "markdown",
   "metadata": {},
   "source": [
    "**Вывод**\n",
    "\n",
    "В столбце user_score заменили значение 'tbt' на NaN, преобразовала тип данных из стокового в числовой."
   ]
  },
  {
   "cell_type": "code",
   "execution_count": 9,
   "metadata": {
    "scrolled": true
   },
   "outputs": [
    {
     "data": {
      "text/html": [
       "<div>\n",
       "<style scoped>\n",
       "    .dataframe tbody tr th:only-of-type {\n",
       "        vertical-align: middle;\n",
       "    }\n",
       "\n",
       "    .dataframe tbody tr th {\n",
       "        vertical-align: top;\n",
       "    }\n",
       "\n",
       "    .dataframe thead th {\n",
       "        text-align: right;\n",
       "    }\n",
       "</style>\n",
       "<table border=\"1\" class=\"dataframe\">\n",
       "  <thead>\n",
       "    <tr style=\"text-align: right;\">\n",
       "      <th></th>\n",
       "      <th>name</th>\n",
       "      <th>platform</th>\n",
       "      <th>year_of_release</th>\n",
       "      <th>genre</th>\n",
       "      <th>na_sales</th>\n",
       "      <th>eu_sales</th>\n",
       "      <th>jp_sales</th>\n",
       "      <th>other_sales</th>\n",
       "      <th>critic_score</th>\n",
       "      <th>user_score</th>\n",
       "      <th>rating</th>\n",
       "      <th>total_sales</th>\n",
       "    </tr>\n",
       "  </thead>\n",
       "  <tbody>\n",
       "    <tr>\n",
       "      <th>0</th>\n",
       "      <td>Wii Sports</td>\n",
       "      <td>Wii</td>\n",
       "      <td>2006</td>\n",
       "      <td>Sports</td>\n",
       "      <td>41.36</td>\n",
       "      <td>28.96</td>\n",
       "      <td>3.77</td>\n",
       "      <td>8.45</td>\n",
       "      <td>76.0</td>\n",
       "      <td>8.0</td>\n",
       "      <td>E</td>\n",
       "      <td>82.54</td>\n",
       "    </tr>\n",
       "    <tr>\n",
       "      <th>1</th>\n",
       "      <td>Super Mario Bros.</td>\n",
       "      <td>NES</td>\n",
       "      <td>1985</td>\n",
       "      <td>Platform</td>\n",
       "      <td>29.08</td>\n",
       "      <td>3.58</td>\n",
       "      <td>6.81</td>\n",
       "      <td>0.77</td>\n",
       "      <td>NaN</td>\n",
       "      <td>NaN</td>\n",
       "      <td>NaN</td>\n",
       "      <td>40.24</td>\n",
       "    </tr>\n",
       "    <tr>\n",
       "      <th>2</th>\n",
       "      <td>Mario Kart Wii</td>\n",
       "      <td>Wii</td>\n",
       "      <td>2008</td>\n",
       "      <td>Racing</td>\n",
       "      <td>15.68</td>\n",
       "      <td>12.76</td>\n",
       "      <td>3.79</td>\n",
       "      <td>3.29</td>\n",
       "      <td>82.0</td>\n",
       "      <td>8.3</td>\n",
       "      <td>E</td>\n",
       "      <td>35.52</td>\n",
       "    </tr>\n",
       "    <tr>\n",
       "      <th>3</th>\n",
       "      <td>Wii Sports Resort</td>\n",
       "      <td>Wii</td>\n",
       "      <td>2009</td>\n",
       "      <td>Sports</td>\n",
       "      <td>15.61</td>\n",
       "      <td>10.93</td>\n",
       "      <td>3.28</td>\n",
       "      <td>2.95</td>\n",
       "      <td>80.0</td>\n",
       "      <td>8.0</td>\n",
       "      <td>E</td>\n",
       "      <td>32.77</td>\n",
       "    </tr>\n",
       "    <tr>\n",
       "      <th>4</th>\n",
       "      <td>Pokemon Red/Pokemon Blue</td>\n",
       "      <td>GB</td>\n",
       "      <td>1996</td>\n",
       "      <td>Role-Playing</td>\n",
       "      <td>11.27</td>\n",
       "      <td>8.89</td>\n",
       "      <td>10.22</td>\n",
       "      <td>1.00</td>\n",
       "      <td>NaN</td>\n",
       "      <td>NaN</td>\n",
       "      <td>NaN</td>\n",
       "      <td>31.38</td>\n",
       "    </tr>\n",
       "  </tbody>\n",
       "</table>\n",
       "</div>"
      ],
      "text/plain": [
       "                       name platform  year_of_release         genre  na_sales  \\\n",
       "0                Wii Sports      Wii             2006        Sports     41.36   \n",
       "1         Super Mario Bros.      NES             1985      Platform     29.08   \n",
       "2            Mario Kart Wii      Wii             2008        Racing     15.68   \n",
       "3         Wii Sports Resort      Wii             2009        Sports     15.61   \n",
       "4  Pokemon Red/Pokemon Blue       GB             1996  Role-Playing     11.27   \n",
       "\n",
       "   eu_sales  jp_sales  other_sales  critic_score  user_score rating  \\\n",
       "0     28.96      3.77         8.45          76.0         8.0      E   \n",
       "1      3.58      6.81         0.77           NaN         NaN    NaN   \n",
       "2     12.76      3.79         3.29          82.0         8.3      E   \n",
       "3     10.93      3.28         2.95          80.0         8.0      E   \n",
       "4      8.89     10.22         1.00           NaN         NaN    NaN   \n",
       "\n",
       "   total_sales  \n",
       "0        82.54  \n",
       "1        40.24  \n",
       "2        35.52  \n",
       "3        32.77  \n",
       "4        31.38  "
      ]
     },
     "execution_count": 9,
     "metadata": {},
     "output_type": "execute_result"
    }
   ],
   "source": [
    "df['total_sales'] = df['na_sales']+df['eu_sales']+df['jp_sales']+df['other_sales'] #считаем суммарные продажи во всех регионах\n",
    "df.head() # проверим данные в новом столбце"
   ]
  },
  {
   "cell_type": "markdown",
   "metadata": {},
   "source": [
    "**Вывод**\n",
    "\n",
    "Добавила столбец total_sales с суммой продаж во всех регионах."
   ]
  },
  {
   "cell_type": "markdown",
   "metadata": {},
   "source": [
    "## Анализ данных"
   ]
  },
  {
   "cell_type": "code",
   "execution_count": 10,
   "metadata": {
    "scrolled": true
   },
   "outputs": [
    {
     "data": {
      "text/plain": [
       "year_of_release\n",
       "1980       9\n",
       "1981      46\n",
       "1982      36\n",
       "1983      17\n",
       "1984      14\n",
       "1985      14\n",
       "1986      21\n",
       "1987      16\n",
       "1988      15\n",
       "1989      17\n",
       "1990      16\n",
       "1991      41\n",
       "1992      43\n",
       "1993      60\n",
       "1994     121\n",
       "1995     219\n",
       "1996     263\n",
       "1997     289\n",
       "1998     379\n",
       "1999     338\n",
       "2000     350\n",
       "2001     482\n",
       "2002     829\n",
       "2003     775\n",
       "2004     762\n",
       "2005     939\n",
       "2006    1006\n",
       "2007    1197\n",
       "2008    1427\n",
       "2009    1426\n",
       "2010    1255\n",
       "2011    1136\n",
       "2012     653\n",
       "2013     544\n",
       "2014     581\n",
       "2015     606\n",
       "2016     502\n",
       "Name: name, dtype: int64"
      ]
     },
     "execution_count": 10,
     "metadata": {},
     "output_type": "execute_result"
    }
   ],
   "source": [
    "df.groupby('year_of_release')['name'].count() #посмотрим, сколько игр выпускалось в разные годы"
   ]
  },
  {
   "cell_type": "markdown",
   "metadata": {},
   "source": [
    "**Вывод**\n",
    "\n",
    "Игры выпускались с 1980 года по 2016"
   ]
  },
  {
   "cell_type": "code",
   "execution_count": 11,
   "metadata": {
    "scrolled": true
   },
   "outputs": [
    {
     "data": {
      "image/png": "[encoded data removed]",
      "text/plain": [
       "<Figure size 720x720 with 1 Axes>"
      ]
     },
     "metadata": {
      "needs_background": "light"
     },
     "output_type": "display_data"
    }
   ],
   "source": [
    "df.groupby(['platform','year_of_release'])['total_sales'].sum().unstack('platform').plot(figsize=(10,10),title='График продаж по платформам') #посторим распределение по годам, платформам и суммарными продажами\n",
    "\n",
    "plt.show()"
   ]
  },
  {
   "cell_type": "code",
   "execution_count": 12,
   "metadata": {},
   "outputs": [
    {
     "data": {
      "text/plain": [
       "platform\n",
       "PS2     2127\n",
       "DS      2121\n",
       "PS3     1306\n",
       "Wii     1286\n",
       "X360    1232\n",
       "Name: total_sales, dtype: int64"
      ]
     },
     "metadata": {},
     "output_type": "display_data"
    }
   ],
   "source": [
    "top5_platform = df.groupby('platform')['total_sales'].count().sort_values(ascending=False).head() # найдем пять платформ с наибольшимим суммарными продажами\n",
    "display(top5_platform)"
   ]
  },
  {
   "cell_type": "code",
   "execution_count": 13,
   "metadata": {},
   "outputs": [
    {
     "data": {
      "text/html": [
       "<div>\n",
       "<style scoped>\n",
       "    .dataframe tbody tr th:only-of-type {\n",
       "        vertical-align: middle;\n",
       "    }\n",
       "\n",
       "    .dataframe tbody tr th {\n",
       "        vertical-align: top;\n",
       "    }\n",
       "\n",
       "    .dataframe thead th {\n",
       "        text-align: right;\n",
       "    }\n",
       "</style>\n",
       "<table border=\"1\" class=\"dataframe\">\n",
       "  <thead>\n",
       "    <tr style=\"text-align: right;\">\n",
       "      <th></th>\n",
       "      <th>name</th>\n",
       "      <th>platform</th>\n",
       "      <th>year_of_release</th>\n",
       "      <th>genre</th>\n",
       "      <th>na_sales</th>\n",
       "      <th>eu_sales</th>\n",
       "      <th>jp_sales</th>\n",
       "      <th>other_sales</th>\n",
       "      <th>critic_score</th>\n",
       "      <th>user_score</th>\n",
       "      <th>rating</th>\n",
       "      <th>total_sales</th>\n",
       "    </tr>\n",
       "  </thead>\n",
       "  <tbody>\n",
       "    <tr>\n",
       "      <th>0</th>\n",
       "      <td>Wii Sports</td>\n",
       "      <td>Wii</td>\n",
       "      <td>2006</td>\n",
       "      <td>Sports</td>\n",
       "      <td>41.36</td>\n",
       "      <td>28.96</td>\n",
       "      <td>3.77</td>\n",
       "      <td>8.45</td>\n",
       "      <td>76.0</td>\n",
       "      <td>8.0</td>\n",
       "      <td>E</td>\n",
       "      <td>82.54</td>\n",
       "    </tr>\n",
       "    <tr>\n",
       "      <th>2</th>\n",
       "      <td>Mario Kart Wii</td>\n",
       "      <td>Wii</td>\n",
       "      <td>2008</td>\n",
       "      <td>Racing</td>\n",
       "      <td>15.68</td>\n",
       "      <td>12.76</td>\n",
       "      <td>3.79</td>\n",
       "      <td>3.29</td>\n",
       "      <td>82.0</td>\n",
       "      <td>8.3</td>\n",
       "      <td>E</td>\n",
       "      <td>35.52</td>\n",
       "    </tr>\n",
       "    <tr>\n",
       "      <th>3</th>\n",
       "      <td>Wii Sports Resort</td>\n",
       "      <td>Wii</td>\n",
       "      <td>2009</td>\n",
       "      <td>Sports</td>\n",
       "      <td>15.61</td>\n",
       "      <td>10.93</td>\n",
       "      <td>3.28</td>\n",
       "      <td>2.95</td>\n",
       "      <td>80.0</td>\n",
       "      <td>8.0</td>\n",
       "      <td>E</td>\n",
       "      <td>32.77</td>\n",
       "    </tr>\n",
       "    <tr>\n",
       "      <th>6</th>\n",
       "      <td>New Super Mario Bros.</td>\n",
       "      <td>DS</td>\n",
       "      <td>2006</td>\n",
       "      <td>Platform</td>\n",
       "      <td>11.28</td>\n",
       "      <td>9.14</td>\n",
       "      <td>6.50</td>\n",
       "      <td>2.88</td>\n",
       "      <td>89.0</td>\n",
       "      <td>8.5</td>\n",
       "      <td>E</td>\n",
       "      <td>29.80</td>\n",
       "    </tr>\n",
       "    <tr>\n",
       "      <th>7</th>\n",
       "      <td>Wii Play</td>\n",
       "      <td>Wii</td>\n",
       "      <td>2006</td>\n",
       "      <td>Misc</td>\n",
       "      <td>13.96</td>\n",
       "      <td>9.18</td>\n",
       "      <td>2.93</td>\n",
       "      <td>2.84</td>\n",
       "      <td>58.0</td>\n",
       "      <td>6.6</td>\n",
       "      <td>E</td>\n",
       "      <td>28.91</td>\n",
       "    </tr>\n",
       "    <tr>\n",
       "      <th>...</th>\n",
       "      <td>...</td>\n",
       "      <td>...</td>\n",
       "      <td>...</td>\n",
       "      <td>...</td>\n",
       "      <td>...</td>\n",
       "      <td>...</td>\n",
       "      <td>...</td>\n",
       "      <td>...</td>\n",
       "      <td>...</td>\n",
       "      <td>...</td>\n",
       "      <td>...</td>\n",
       "      <td>...</td>\n",
       "    </tr>\n",
       "    <tr>\n",
       "      <th>16700</th>\n",
       "      <td>Mezase!! Tsuri Master DS</td>\n",
       "      <td>DS</td>\n",
       "      <td>2009</td>\n",
       "      <td>Sports</td>\n",
       "      <td>0.00</td>\n",
       "      <td>0.00</td>\n",
       "      <td>0.01</td>\n",
       "      <td>0.00</td>\n",
       "      <td>NaN</td>\n",
       "      <td>NaN</td>\n",
       "      <td>NaN</td>\n",
       "      <td>0.01</td>\n",
       "    </tr>\n",
       "    <tr>\n",
       "      <th>16704</th>\n",
       "      <td>Plushees</td>\n",
       "      <td>DS</td>\n",
       "      <td>2008</td>\n",
       "      <td>Simulation</td>\n",
       "      <td>0.01</td>\n",
       "      <td>0.00</td>\n",
       "      <td>0.00</td>\n",
       "      <td>0.00</td>\n",
       "      <td>NaN</td>\n",
       "      <td>NaN</td>\n",
       "      <td>E</td>\n",
       "      <td>0.01</td>\n",
       "    </tr>\n",
       "    <tr>\n",
       "      <th>16709</th>\n",
       "      <td>SCORE International Baja 1000: The Official Game</td>\n",
       "      <td>PS2</td>\n",
       "      <td>2008</td>\n",
       "      <td>Racing</td>\n",
       "      <td>0.00</td>\n",
       "      <td>0.00</td>\n",
       "      <td>0.00</td>\n",
       "      <td>0.00</td>\n",
       "      <td>NaN</td>\n",
       "      <td>NaN</td>\n",
       "      <td>NaN</td>\n",
       "      <td>0.00</td>\n",
       "    </tr>\n",
       "    <tr>\n",
       "      <th>16710</th>\n",
       "      <td>Samurai Warriors: Sanada Maru</td>\n",
       "      <td>PS3</td>\n",
       "      <td>2016</td>\n",
       "      <td>Action</td>\n",
       "      <td>0.00</td>\n",
       "      <td>0.00</td>\n",
       "      <td>0.01</td>\n",
       "      <td>0.00</td>\n",
       "      <td>NaN</td>\n",
       "      <td>NaN</td>\n",
       "      <td>NaN</td>\n",
       "      <td>0.01</td>\n",
       "    </tr>\n",
       "    <tr>\n",
       "      <th>16711</th>\n",
       "      <td>LMA Manager 2007</td>\n",
       "      <td>X360</td>\n",
       "      <td>2006</td>\n",
       "      <td>Sports</td>\n",
       "      <td>0.00</td>\n",
       "      <td>0.01</td>\n",
       "      <td>0.00</td>\n",
       "      <td>0.00</td>\n",
       "      <td>NaN</td>\n",
       "      <td>NaN</td>\n",
       "      <td>NaN</td>\n",
       "      <td>0.01</td>\n",
       "    </tr>\n",
       "  </tbody>\n",
       "</table>\n",
       "<p>8072 rows × 12 columns</p>\n",
       "</div>"
      ],
      "text/plain": [
       "                                                   name platform  \\\n",
       "0                                            Wii Sports      Wii   \n",
       "2                                        Mario Kart Wii      Wii   \n",
       "3                                     Wii Sports Resort      Wii   \n",
       "6                                 New Super Mario Bros.       DS   \n",
       "7                                              Wii Play      Wii   \n",
       "...                                                 ...      ...   \n",
       "16700                          Mezase!! Tsuri Master DS       DS   \n",
       "16704                                          Plushees       DS   \n",
       "16709  SCORE International Baja 1000: The Official Game      PS2   \n",
       "16710                     Samurai Warriors: Sanada Maru      PS3   \n",
       "16711                                  LMA Manager 2007     X360   \n",
       "\n",
       "       year_of_release       genre  na_sales  eu_sales  jp_sales  other_sales  \\\n",
       "0                 2006      Sports     41.36     28.96      3.77         8.45   \n",
       "2                 2008      Racing     15.68     12.76      3.79         3.29   \n",
       "3                 2009      Sports     15.61     10.93      3.28         2.95   \n",
       "6                 2006    Platform     11.28      9.14      6.50         2.88   \n",
       "7                 2006        Misc     13.96      9.18      2.93         2.84   \n",
       "...                ...         ...       ...       ...       ...          ...   \n",
       "16700             2009      Sports      0.00      0.00      0.01         0.00   \n",
       "16704             2008  Simulation      0.01      0.00      0.00         0.00   \n",
       "16709             2008      Racing      0.00      0.00      0.00         0.00   \n",
       "16710             2016      Action      0.00      0.00      0.01         0.00   \n",
       "16711             2006      Sports      0.00      0.01      0.00         0.00   \n",
       "\n",
       "       critic_score  user_score rating  total_sales  \n",
       "0              76.0         8.0      E        82.54  \n",
       "2              82.0         8.3      E        35.52  \n",
       "3              80.0         8.0      E        32.77  \n",
       "6              89.0         8.5      E        29.80  \n",
       "7              58.0         6.6      E        28.91  \n",
       "...             ...         ...    ...          ...  \n",
       "16700           NaN         NaN    NaN         0.01  \n",
       "16704           NaN         NaN      E         0.01  \n",
       "16709           NaN         NaN    NaN         0.00  \n",
       "16710           NaN         NaN    NaN         0.01  \n",
       "16711           NaN         NaN    NaN         0.01  \n",
       "\n",
       "[8072 rows x 12 columns]"
      ]
     },
     "execution_count": 13,
     "metadata": {},
     "output_type": "execute_result"
    }
   ],
   "source": [
    "df_top5_platform = df[df['platform'].isin(top5_platform.index)] #посмотрим на данные по пяти top - платформам\n",
    "df_top5_platform"
   ]
  },
  {
   "cell_type": "code",
   "execution_count": 14,
   "metadata": {
    "scrolled": true
   },
   "outputs": [
    {
     "data": {
      "image/png": "[encoded data removed]",
      "text/plain": [
       "<Figure size 864x504 with 1 Axes>"
      ]
     },
     "metadata": {
      "needs_background": "light"
     },
     "output_type": "display_data"
    }
   ],
   "source": [
    "df_top5_platform.pivot_table(index=(['platform','year_of_release']),values='total_sales',aggfunc='sum').plot(kind='bar',grid=True,figsize=(12,7),title='График продаж top-платформ') #посторим распределение по годам, top-платформам и суммарными продажами\n",
    "    \n",
    "plt.show()"
   ]
  },
  {
   "cell_type": "markdown",
   "metadata": {},
   "source": [
    "**Вывод**\n",
    "\n",
    "Посмотрели распределение по годам, платформам и суммарными продажами, отобрали пять платформ с наибольшими продажами.Приблизительно 4-5 лет платформы находятся на пике и за такое же время проходит снижение и исчезают.\n"
   ]
  },
  {
   "cell_type": "code",
   "execution_count": 15,
   "metadata": {
    "scrolled": true
   },
   "outputs": [
    {
     "data": {
      "text/html": [
       "<div>\n",
       "<style scoped>\n",
       "    .dataframe tbody tr th:only-of-type {\n",
       "        vertical-align: middle;\n",
       "    }\n",
       "\n",
       "    .dataframe tbody tr th {\n",
       "        vertical-align: top;\n",
       "    }\n",
       "\n",
       "    .dataframe thead th {\n",
       "        text-align: right;\n",
       "    }\n",
       "</style>\n",
       "<table border=\"1\" class=\"dataframe\">\n",
       "  <thead>\n",
       "    <tr style=\"text-align: right;\">\n",
       "      <th></th>\n",
       "      <th>name</th>\n",
       "      <th>platform</th>\n",
       "      <th>year_of_release</th>\n",
       "      <th>genre</th>\n",
       "      <th>na_sales</th>\n",
       "      <th>eu_sales</th>\n",
       "      <th>jp_sales</th>\n",
       "      <th>other_sales</th>\n",
       "      <th>critic_score</th>\n",
       "      <th>user_score</th>\n",
       "      <th>rating</th>\n",
       "      <th>total_sales</th>\n",
       "    </tr>\n",
       "  </thead>\n",
       "  <tbody>\n",
       "    <tr>\n",
       "      <th>16</th>\n",
       "      <td>Grand Theft Auto V</td>\n",
       "      <td>PS3</td>\n",
       "      <td>2013</td>\n",
       "      <td>Action</td>\n",
       "      <td>7.02</td>\n",
       "      <td>9.09</td>\n",
       "      <td>0.98</td>\n",
       "      <td>3.96</td>\n",
       "      <td>97.0</td>\n",
       "      <td>8.2</td>\n",
       "      <td>M</td>\n",
       "      <td>21.05</td>\n",
       "    </tr>\n",
       "    <tr>\n",
       "      <th>23</th>\n",
       "      <td>Grand Theft Auto V</td>\n",
       "      <td>X360</td>\n",
       "      <td>2013</td>\n",
       "      <td>Action</td>\n",
       "      <td>9.66</td>\n",
       "      <td>5.14</td>\n",
       "      <td>0.06</td>\n",
       "      <td>1.41</td>\n",
       "      <td>97.0</td>\n",
       "      <td>8.1</td>\n",
       "      <td>M</td>\n",
       "      <td>16.27</td>\n",
       "    </tr>\n",
       "    <tr>\n",
       "      <th>31</th>\n",
       "      <td>Call of Duty: Black Ops 3</td>\n",
       "      <td>PS4</td>\n",
       "      <td>2015</td>\n",
       "      <td>Shooter</td>\n",
       "      <td>6.03</td>\n",
       "      <td>5.86</td>\n",
       "      <td>0.36</td>\n",
       "      <td>2.38</td>\n",
       "      <td>NaN</td>\n",
       "      <td>NaN</td>\n",
       "      <td>NaN</td>\n",
       "      <td>14.63</td>\n",
       "    </tr>\n",
       "    <tr>\n",
       "      <th>33</th>\n",
       "      <td>Pokemon X/Pokemon Y</td>\n",
       "      <td>3DS</td>\n",
       "      <td>2013</td>\n",
       "      <td>Role-Playing</td>\n",
       "      <td>5.28</td>\n",
       "      <td>4.19</td>\n",
       "      <td>4.35</td>\n",
       "      <td>0.78</td>\n",
       "      <td>NaN</td>\n",
       "      <td>NaN</td>\n",
       "      <td>NaN</td>\n",
       "      <td>14.60</td>\n",
       "    </tr>\n",
       "    <tr>\n",
       "      <th>42</th>\n",
       "      <td>Grand Theft Auto V</td>\n",
       "      <td>PS4</td>\n",
       "      <td>2014</td>\n",
       "      <td>Action</td>\n",
       "      <td>3.96</td>\n",
       "      <td>6.31</td>\n",
       "      <td>0.38</td>\n",
       "      <td>1.97</td>\n",
       "      <td>97.0</td>\n",
       "      <td>8.3</td>\n",
       "      <td>M</td>\n",
       "      <td>12.62</td>\n",
       "    </tr>\n",
       "    <tr>\n",
       "      <th>...</th>\n",
       "      <td>...</td>\n",
       "      <td>...</td>\n",
       "      <td>...</td>\n",
       "      <td>...</td>\n",
       "      <td>...</td>\n",
       "      <td>...</td>\n",
       "      <td>...</td>\n",
       "      <td>...</td>\n",
       "      <td>...</td>\n",
       "      <td>...</td>\n",
       "      <td>...</td>\n",
       "      <td>...</td>\n",
       "    </tr>\n",
       "    <tr>\n",
       "      <th>16703</th>\n",
       "      <td>Strawberry Nauts</td>\n",
       "      <td>PSV</td>\n",
       "      <td>2016</td>\n",
       "      <td>Adventure</td>\n",
       "      <td>0.00</td>\n",
       "      <td>0.00</td>\n",
       "      <td>0.01</td>\n",
       "      <td>0.00</td>\n",
       "      <td>NaN</td>\n",
       "      <td>NaN</td>\n",
       "      <td>NaN</td>\n",
       "      <td>0.01</td>\n",
       "    </tr>\n",
       "    <tr>\n",
       "      <th>16707</th>\n",
       "      <td>Aiyoku no Eustia</td>\n",
       "      <td>PSV</td>\n",
       "      <td>2014</td>\n",
       "      <td>Misc</td>\n",
       "      <td>0.00</td>\n",
       "      <td>0.00</td>\n",
       "      <td>0.01</td>\n",
       "      <td>0.00</td>\n",
       "      <td>NaN</td>\n",
       "      <td>NaN</td>\n",
       "      <td>NaN</td>\n",
       "      <td>0.01</td>\n",
       "    </tr>\n",
       "    <tr>\n",
       "      <th>16710</th>\n",
       "      <td>Samurai Warriors: Sanada Maru</td>\n",
       "      <td>PS3</td>\n",
       "      <td>2016</td>\n",
       "      <td>Action</td>\n",
       "      <td>0.00</td>\n",
       "      <td>0.00</td>\n",
       "      <td>0.01</td>\n",
       "      <td>0.00</td>\n",
       "      <td>NaN</td>\n",
       "      <td>NaN</td>\n",
       "      <td>NaN</td>\n",
       "      <td>0.01</td>\n",
       "    </tr>\n",
       "    <tr>\n",
       "      <th>16712</th>\n",
       "      <td>Haitaka no Psychedelica</td>\n",
       "      <td>PSV</td>\n",
       "      <td>2016</td>\n",
       "      <td>Adventure</td>\n",
       "      <td>0.00</td>\n",
       "      <td>0.00</td>\n",
       "      <td>0.01</td>\n",
       "      <td>0.00</td>\n",
       "      <td>NaN</td>\n",
       "      <td>NaN</td>\n",
       "      <td>NaN</td>\n",
       "      <td>0.01</td>\n",
       "    </tr>\n",
       "    <tr>\n",
       "      <th>16714</th>\n",
       "      <td>Winning Post 8 2016</td>\n",
       "      <td>PSV</td>\n",
       "      <td>2016</td>\n",
       "      <td>Simulation</td>\n",
       "      <td>0.00</td>\n",
       "      <td>0.00</td>\n",
       "      <td>0.01</td>\n",
       "      <td>0.00</td>\n",
       "      <td>NaN</td>\n",
       "      <td>NaN</td>\n",
       "      <td>NaN</td>\n",
       "      <td>0.01</td>\n",
       "    </tr>\n",
       "  </tbody>\n",
       "</table>\n",
       "<p>2233 rows × 12 columns</p>\n",
       "</div>"
      ],
      "text/plain": [
       "                                name platform  year_of_release         genre  \\\n",
       "16                Grand Theft Auto V      PS3             2013        Action   \n",
       "23                Grand Theft Auto V     X360             2013        Action   \n",
       "31         Call of Duty: Black Ops 3      PS4             2015       Shooter   \n",
       "33               Pokemon X/Pokemon Y      3DS             2013  Role-Playing   \n",
       "42                Grand Theft Auto V      PS4             2014        Action   \n",
       "...                              ...      ...              ...           ...   \n",
       "16703               Strawberry Nauts      PSV             2016     Adventure   \n",
       "16707               Aiyoku no Eustia      PSV             2014          Misc   \n",
       "16710  Samurai Warriors: Sanada Maru      PS3             2016        Action   \n",
       "16712        Haitaka no Psychedelica      PSV             2016     Adventure   \n",
       "16714            Winning Post 8 2016      PSV             2016    Simulation   \n",
       "\n",
       "       na_sales  eu_sales  jp_sales  other_sales  critic_score  user_score  \\\n",
       "16         7.02      9.09      0.98         3.96          97.0         8.2   \n",
       "23         9.66      5.14      0.06         1.41          97.0         8.1   \n",
       "31         6.03      5.86      0.36         2.38           NaN         NaN   \n",
       "33         5.28      4.19      4.35         0.78           NaN         NaN   \n",
       "42         3.96      6.31      0.38         1.97          97.0         8.3   \n",
       "...         ...       ...       ...          ...           ...         ...   \n",
       "16703      0.00      0.00      0.01         0.00           NaN         NaN   \n",
       "16707      0.00      0.00      0.01         0.00           NaN         NaN   \n",
       "16710      0.00      0.00      0.01         0.00           NaN         NaN   \n",
       "16712      0.00      0.00      0.01         0.00           NaN         NaN   \n",
       "16714      0.00      0.00      0.01         0.00           NaN         NaN   \n",
       "\n",
       "      rating  total_sales  \n",
       "16         M        21.05  \n",
       "23         M        16.27  \n",
       "31       NaN        14.63  \n",
       "33       NaN        14.60  \n",
       "42         M        12.62  \n",
       "...      ...          ...  \n",
       "16703    NaN         0.01  \n",
       "16707    NaN         0.01  \n",
       "16710    NaN         0.01  \n",
       "16712    NaN         0.01  \n",
       "16714    NaN         0.01  \n",
       "\n",
       "[2233 rows x 12 columns]"
      ]
     },
     "metadata": {},
     "output_type": "display_data"
    }
   ],
   "source": [
    "df_actually = df.query('year_of_release >= 2013') # выделяем сегмент актуального периода с 2013 года по 2016\n",
    "display(df_actually)"
   ]
  },
  {
   "cell_type": "code",
   "execution_count": 16,
   "metadata": {},
   "outputs": [
    {
     "data": {
      "image/png": "[encoded data removed]",
      "text/plain": [
       "<Figure size 864x504 with 1 Axes>"
      ]
     },
     "metadata": {
      "needs_background": "light"
     },
     "output_type": "display_data"
    }
   ],
   "source": [
    "df_actually.pivot_table(index=(['platform','year_of_release']),values='total_sales',aggfunc='sum').plot(kind='bar',grid=True,figsize=(12,7),title='График продаж игр за актуальный период') #посторим распределение продаж игр по платформам за актуальный период с 2013 по 2016 г.\n",
    "    \n",
    "plt.show()"
   ]
  },
  {
   "cell_type": "markdown",
   "metadata": {},
   "source": [
    "**Вывод**\n",
    "\n",
    "Выделили сегмент актуального периода с 2013 года по 2016. Продажи игр на всех платформах за актуальный период снижаются.\n",
    "Более перспективными выделяю платформы:PC,PS4,PSV,XOne."
   ]
  },
  {
   "cell_type": "code",
   "execution_count": 17,
   "metadata": {
    "scrolled": false
   },
   "outputs": [
    {
     "data": {
      "image/png": "[encoded data removed]",
      "text/plain": [
       "<Figure size 432x288 with 1 Axes>"
      ]
     },
     "metadata": {
      "needs_background": "light"
     },
     "output_type": "display_data"
    },
    {
     "data": {
      "image/png": "[encoded data removed]",
      "text/plain": [
       "<Figure size 432x288 with 1 Axes>"
      ]
     },
     "metadata": {
      "needs_background": "light"
     },
     "output_type": "display_data"
    },
    {
     "data": {
      "image/png": "[encoded data removed]",
      "text/plain": [
       "<Figure size 432x288 with 1 Axes>"
      ]
     },
     "metadata": {
      "needs_background": "light"
     },
     "output_type": "display_data"
    },
    {
     "data": {
      "image/png": "[encoded data removed]",
      "text/plain": [
       "<Figure size 432x288 with 1 Axes>"
      ]
     },
     "metadata": {
      "needs_background": "light"
     },
     "output_type": "display_data"
    }
   ],
   "source": [
    "leader_platform = df_actually[df_actually['platform'].isin(['PC','PS4','PSV','XOne'])] #выделим лидирующие платформы\n",
    "pc_platform = leader_platform[leader_platform['platform'] == 'PC']\n",
    "ps4_platform = leader_platform[leader_platform['platform'] == 'PS4']\n",
    "psv_platform = leader_platform[leader_platform['platform'] == 'PSV']\n",
    "xone_platform = leader_platform[leader_platform['platform'] == 'XOne']\n",
    "\n",
    "# строим диаграмму размаха по глобальным продажам игр в разбивке по платформам.\n",
    "pc_platform.boxplot('total_sales')\n",
    "plt.title('pc_platform')\n",
    "plt.ylim(-1,5)\n",
    "plt.xlim(0,2)\n",
    "plt.show()\n",
    "\n",
    "ps4_platform.boxplot('total_sales')\n",
    "plt.title('ps4_platform')\n",
    "plt.ylim(-1,5)\n",
    "plt.xlim(0,2)\n",
    "plt.show()\n",
    "\n",
    "psv_platform.boxplot('total_sales')\n",
    "plt.title('psv_platform')\n",
    "plt.ylim(-1,5)\n",
    "plt.xlim(0,2)\n",
    "plt.show()\n",
    "\n",
    "xone_platform.boxplot('total_sales')\n",
    "plt.title('xone_platform')\n",
    "plt.ylim(-1,5)\n",
    "plt.xlim(0,2)\n",
    "plt.show()\n"
   ]
  },
  {
   "cell_type": "markdown",
   "metadata": {},
   "source": [
    "**Вывод**\n",
    "\n",
    "Выделила лидирующие платформы и постоила диаграмму размаха по глобальным продажам игр в разбивке по платформам. По рузельтатам гарфиков можно выделить две успешные платформы- PS4,XOne.\n"
   ]
  },
  {
   "cell_type": "code",
   "execution_count": 18,
   "metadata": {},
   "outputs": [
    {
     "data": {
      "image/png": "[encoded data removed]",
      "text/plain": [
       "<Figure size 720x720 with 1 Axes>"
      ]
     },
     "metadata": {
      "needs_background": "light"
     },
     "output_type": "display_data"
    }
   ],
   "source": [
    "ps4_platform.plot(x='critic_score',y='total_sales',kind='scatter',figsize=(10,10)) #посмотрим на цену игр платформы PS4 и отзывы критиков\n",
    "plt.title('Зависимость цены игр платформы PS4 от отзывов критиков')\n",
    "plt.show()"
   ]
  },
  {
   "cell_type": "code",
   "execution_count": 19,
   "metadata": {
    "scrolled": true
   },
   "outputs": [
    {
     "data": {
      "text/plain": [
       "0.406567902061781"
      ]
     },
     "metadata": {},
     "output_type": "display_data"
    }
   ],
   "source": [
    "display(ps4_platform['total_sales'].corr(ps4_platform['critic_score'])) #считаем корреляцию между отзывами критиков и глобальными продажами."
   ]
  },
  {
   "cell_type": "markdown",
   "metadata": {},
   "source": [
    "**Вывод**\n",
    "\n",
    "Постоила диаграмму рассеяния и посчитала корреляцию.\n",
    "Величина 0.40 говорит о наличии связи, от увеличения оценки критиков растет цена игр платформы PS4."
   ]
  },
  {
   "cell_type": "code",
   "execution_count": 20,
   "metadata": {},
   "outputs": [
    {
     "data": {
      "image/png": "[encoded data removed]",
      "text/plain": [
       "<Figure size 720x720 with 1 Axes>"
      ]
     },
     "metadata": {
      "needs_background": "light"
     },
     "output_type": "display_data"
    }
   ],
   "source": [
    "ps4_platform.plot(x='user_score',y='total_sales',kind='scatter',figsize=(10,10)) #посмотрим на цену игр платформы PS4 и отзывы пользователей\n",
    "plt.title('Зависимость цены игр платформы PS4 от отзывов пользователей')\n",
    "plt.show()"
   ]
  },
  {
   "cell_type": "code",
   "execution_count": 21,
   "metadata": {},
   "outputs": [
    {
     "data": {
      "text/plain": [
       "-0.027427851974847157"
      ]
     },
     "metadata": {},
     "output_type": "display_data"
    }
   ],
   "source": [
    "display(ps4_platform['total_sales'].corr(ps4_platform['user_score']))"
   ]
  },
  {
   "cell_type": "markdown",
   "metadata": {},
   "source": [
    "**Вывод**\n",
    "\n",
    "Постоила диаграмму рассеяния и посчитала корреляцию. Величина -0.02 говорит об отсутсвии связи между оценками пользователей и увеличением цены игр платформы PS4."
   ]
  },
  {
   "cell_type": "code",
   "execution_count": 22,
   "metadata": {},
   "outputs": [
    {
     "data": {
      "image/png": "[encoded data removed]",
      "text/plain": [
       "<Figure size 360x360 with 1 Axes>"
      ]
     },
     "metadata": {
      "needs_background": "light"
     },
     "output_type": "display_data"
    },
    {
     "data": {
      "image/png": "[encoded data removed]",
      "text/plain": [
       "<Figure size 360x360 with 1 Axes>"
      ]
     },
     "metadata": {
      "needs_background": "light"
     },
     "output_type": "display_data"
    }
   ],
   "source": [
    "for column in ['critic_score','user_score']: #посмотрим на диаграммы рассеяния\n",
    "    leader_platform.plot(\n",
    "    kind='scatter',\n",
    "    x='total_sales',\n",
    "    y=column,\n",
    "    alpha=0.5,\n",
    "    figsize=(5,5))\n",
    "    plt.show()"
   ]
  },
  {
   "cell_type": "code",
   "execution_count": 23,
   "metadata": {
    "scrolled": false
   },
   "outputs": [
    {
     "data": {
      "text/html": [
       "<div>\n",
       "<style scoped>\n",
       "    .dataframe tbody tr th:only-of-type {\n",
       "        vertical-align: middle;\n",
       "    }\n",
       "\n",
       "    .dataframe tbody tr th {\n",
       "        vertical-align: top;\n",
       "    }\n",
       "\n",
       "    .dataframe thead th {\n",
       "        text-align: right;\n",
       "    }\n",
       "</style>\n",
       "<table border=\"1\" class=\"dataframe\">\n",
       "  <thead>\n",
       "    <tr style=\"text-align: right;\">\n",
       "      <th></th>\n",
       "      <th>total_sales</th>\n",
       "      <th>critic_score</th>\n",
       "      <th>user_score</th>\n",
       "    </tr>\n",
       "  </thead>\n",
       "  <tbody>\n",
       "    <tr>\n",
       "      <th>total_sales</th>\n",
       "      <td>1.000000</td>\n",
       "      <td>0.196030</td>\n",
       "      <td>-0.097723</td>\n",
       "    </tr>\n",
       "    <tr>\n",
       "      <th>critic_score</th>\n",
       "      <td>0.196030</td>\n",
       "      <td>1.000000</td>\n",
       "      <td>0.429562</td>\n",
       "    </tr>\n",
       "    <tr>\n",
       "      <th>user_score</th>\n",
       "      <td>-0.097723</td>\n",
       "      <td>0.429562</td>\n",
       "      <td>1.000000</td>\n",
       "    </tr>\n",
       "  </tbody>\n",
       "</table>\n",
       "</div>"
      ],
      "text/plain": [
       "              total_sales  critic_score  user_score\n",
       "total_sales      1.000000      0.196030   -0.097723\n",
       "critic_score     0.196030      1.000000    0.429562\n",
       "user_score      -0.097723      0.429562    1.000000"
      ]
     },
     "metadata": {},
     "output_type": "display_data"
    },
    {
     "data": {
      "text/html": [
       "<div>\n",
       "<style scoped>\n",
       "    .dataframe tbody tr th:only-of-type {\n",
       "        vertical-align: middle;\n",
       "    }\n",
       "\n",
       "    .dataframe tbody tr th {\n",
       "        vertical-align: top;\n",
       "    }\n",
       "\n",
       "    .dataframe thead th {\n",
       "        text-align: right;\n",
       "    }\n",
       "</style>\n",
       "<table border=\"1\" class=\"dataframe\">\n",
       "  <thead>\n",
       "    <tr style=\"text-align: right;\">\n",
       "      <th></th>\n",
       "      <th>total_sales</th>\n",
       "      <th>critic_score</th>\n",
       "      <th>user_score</th>\n",
       "    </tr>\n",
       "  </thead>\n",
       "  <tbody>\n",
       "    <tr>\n",
       "      <th>total_sales</th>\n",
       "      <td>1.000000</td>\n",
       "      <td>0.254742</td>\n",
       "      <td>0.009816</td>\n",
       "    </tr>\n",
       "    <tr>\n",
       "      <th>critic_score</th>\n",
       "      <td>0.254742</td>\n",
       "      <td>1.000000</td>\n",
       "      <td>0.509862</td>\n",
       "    </tr>\n",
       "    <tr>\n",
       "      <th>user_score</th>\n",
       "      <td>0.009816</td>\n",
       "      <td>0.509862</td>\n",
       "      <td>1.000000</td>\n",
       "    </tr>\n",
       "  </tbody>\n",
       "</table>\n",
       "</div>"
      ],
      "text/plain": [
       "              total_sales  critic_score  user_score\n",
       "total_sales      1.000000      0.254742    0.009816\n",
       "critic_score     0.254742      1.000000    0.509862\n",
       "user_score       0.009816      0.509862    1.000000"
      ]
     },
     "metadata": {},
     "output_type": "display_data"
    },
    {
     "data": {
      "text/html": [
       "<div>\n",
       "<style scoped>\n",
       "    .dataframe tbody tr th:only-of-type {\n",
       "        vertical-align: middle;\n",
       "    }\n",
       "\n",
       "    .dataframe tbody tr th {\n",
       "        vertical-align: top;\n",
       "    }\n",
       "\n",
       "    .dataframe thead th {\n",
       "        text-align: right;\n",
       "    }\n",
       "</style>\n",
       "<table border=\"1\" class=\"dataframe\">\n",
       "  <thead>\n",
       "    <tr style=\"text-align: right;\">\n",
       "      <th></th>\n",
       "      <th>total_sales</th>\n",
       "      <th>critic_score</th>\n",
       "      <th>user_score</th>\n",
       "    </tr>\n",
       "  </thead>\n",
       "  <tbody>\n",
       "    <tr>\n",
       "      <th>total_sales</th>\n",
       "      <td>1.000000</td>\n",
       "      <td>0.416998</td>\n",
       "      <td>-0.070505</td>\n",
       "    </tr>\n",
       "    <tr>\n",
       "      <th>critic_score</th>\n",
       "      <td>0.416998</td>\n",
       "      <td>1.000000</td>\n",
       "      <td>0.453023</td>\n",
       "    </tr>\n",
       "    <tr>\n",
       "      <th>user_score</th>\n",
       "      <td>-0.070505</td>\n",
       "      <td>0.453023</td>\n",
       "      <td>1.000000</td>\n",
       "    </tr>\n",
       "  </tbody>\n",
       "</table>\n",
       "</div>"
      ],
      "text/plain": [
       "              total_sales  critic_score  user_score\n",
       "total_sales      1.000000      0.416998   -0.070505\n",
       "critic_score     0.416998      1.000000    0.453023\n",
       "user_score      -0.070505      0.453023    1.000000"
      ]
     },
     "metadata": {},
     "output_type": "display_data"
    }
   ],
   "source": [
    "platform = ['PC','PSV','XOne'] #применим функцию для подсчета корреляции по 3-м другим платформам актуального периода \n",
    "for platform in platform:\n",
    "    display(leader_platform[leader_platform['platform'] == platform][['total_sales','critic_score','user_score']].corr())"
   ]
  },
  {
   "cell_type": "markdown",
   "metadata": {},
   "source": [
    "**Вывод**\n",
    "\n",
    "Построила диаграммы рассеяния по платформам PC,PSV,XOne актуального периода.\n",
    "\n",
    "При помощи функции посчитали корреляцию по платформам PC,PSV,XOne актуального периода:\n",
    "_________\n",
    "- Величина 0.19 говорит о наличии слабой связи - от увеличения оценки критиков растет цена игр платформы PC.\n",
    "- Величина 0.25 говорит о наличии связи - от увеличения оценки критиков растет цена игр платформы PSV.\n",
    "- Величина 0.41 говорит о наличии связи - от увеличения оценки критиков растет цена игр платформы XOne.\n",
    "_________\n",
    "- Величина -0.09 говорит об отсутсвии связи между оценками пользователей и увеличением цены игр платформы PC.\n",
    "- Величина 0.009 говорит об отсутсвии связи между оценками пользователей и увеличением цены игр платформы PSV.\n",
    "- Величина -0.07 говорит об отсутсвии связи между оценками пользователей и увеличением цены игр платформы XOne."
   ]
  },
  {
   "cell_type": "code",
   "execution_count": 24,
   "metadata": {},
   "outputs": [
    {
     "data": {
      "image/png": "[encoded data removed]",
      "text/plain": [
       "<Figure size 864x504 with 1 Axes>"
      ]
     },
     "metadata": {
      "needs_background": "light"
     },
     "output_type": "display_data"
    }
   ],
   "source": [
    "df_actually.pivot_table(index='genre', values='total_sales',aggfunc='median').plot(kind='bar',grid=True,figsize=(12,7),title='График медианного значения продаж игр по жанрам') #проверим зависят ли продажи от жанра игр\n",
    "    \n",
    "plt.show()"
   ]
  },
  {
   "cell_type": "markdown",
   "metadata": {},
   "source": [
    "**Вывод**\n",
    "\n",
    "Посторили столбчатую диаграмму, чтобы посмотреть на зависимость продаж игр и их жанров.\n",
    "Самые прибыльные по жанрам игры: Shooter, Sports, Platform.\n",
    "Также можно выделить жанры с самыми низкими продажами: Puzzle, Adventure."
   ]
  },
  {
   "cell_type": "code",
   "execution_count": 25,
   "metadata": {
    "scrolled": true
   },
   "outputs": [
    {
     "data": {
      "image/png": "[encoded data removed]",
      "text/plain": [
       "<Figure size 720x360 with 1 Axes>"
      ]
     },
     "metadata": {
      "needs_background": "light"
     },
     "output_type": "display_data"
    },
    {
     "data": {
      "image/png": "[encoded data removed]",
      "text/plain": [
       "<Figure size 720x360 with 1 Axes>"
      ]
     },
     "metadata": {
      "needs_background": "light"
     },
     "output_type": "display_data"
    },
    {
     "data": {
      "image/png": "[encoded data removed]",
      "text/plain": [
       "<Figure size 720x360 with 1 Axes>"
      ]
     },
     "metadata": {
      "needs_background": "light"
     },
     "output_type": "display_data"
    }
   ],
   "source": [
    "df_actually.groupby(['platform']).agg({'na_sales':'sum'}).sort_values(by='na_sales',ascending=False).head().plot(kind='bar',color='pink',grid=True,figsize=(10,5),title='Cамые популярные платформы в Северной Америке')\n",
    "plt.show()\n",
    "\n",
    "df_actually.groupby(['platform']).agg({'eu_sales':'sum'}).sort_values(by='eu_sales',ascending=False).head().plot(kind='bar',color='grey',grid=True,figsize=(10,5),title='Cамые популярные платформы в Европе')\n",
    "plt.show()\n",
    "\n",
    "df_actually.groupby(['platform']).agg({'jp_sales':'sum'}).sort_values(by='jp_sales',ascending=False).head().plot(kind='bar',color='yellow',grid=True,figsize=(10,5),title='Cамые популярные платформы в Японии')\n",
    "plt.show()\n"
   ]
  },
  {
   "cell_type": "markdown",
   "metadata": {},
   "source": [
    "**Вывод**\n",
    "\n",
    "Определили самые популярные платформы для Северной Америки, Европы и Японии(топ-5). \n",
    "\n",
    "Основные различия: \n",
    "\n",
    "- в Северной Америке самые популярные платформы:PS4,Xone,X360\n",
    "- в Европе самые популярные платформы:PS4,PS3,Xone\n",
    "- в Японии самые популярные платформы: 3DS,PS3,PSV"
   ]
  },
  {
   "cell_type": "code",
   "execution_count": 26,
   "metadata": {
    "scrolled": true
   },
   "outputs": [
    {
     "data": {
      "text/plain": [
       "'Самые популярные жанры игр в Северной Америке'"
      ]
     },
     "metadata": {},
     "output_type": "display_data"
    },
    {
     "data": {
      "text/html": [
       "<div>\n",
       "<style scoped>\n",
       "    .dataframe tbody tr th:only-of-type {\n",
       "        vertical-align: middle;\n",
       "    }\n",
       "\n",
       "    .dataframe tbody tr th {\n",
       "        vertical-align: top;\n",
       "    }\n",
       "\n",
       "    .dataframe thead th {\n",
       "        text-align: right;\n",
       "    }\n",
       "</style>\n",
       "<table border=\"1\" class=\"dataframe\">\n",
       "  <thead>\n",
       "    <tr style=\"text-align: right;\">\n",
       "      <th></th>\n",
       "      <th>na_sales</th>\n",
       "    </tr>\n",
       "    <tr>\n",
       "      <th>genre</th>\n",
       "      <th></th>\n",
       "    </tr>\n",
       "  </thead>\n",
       "  <tbody>\n",
       "    <tr>\n",
       "      <th>Action</th>\n",
       "      <td>126.05</td>\n",
       "    </tr>\n",
       "    <tr>\n",
       "      <th>Shooter</th>\n",
       "      <td>109.74</td>\n",
       "    </tr>\n",
       "    <tr>\n",
       "      <th>Sports</th>\n",
       "      <td>65.27</td>\n",
       "    </tr>\n",
       "    <tr>\n",
       "      <th>Role-Playing</th>\n",
       "      <td>46.40</td>\n",
       "    </tr>\n",
       "    <tr>\n",
       "      <th>Misc</th>\n",
       "      <td>27.49</td>\n",
       "    </tr>\n",
       "  </tbody>\n",
       "</table>\n",
       "</div>"
      ],
      "text/plain": [
       "              na_sales\n",
       "genre                 \n",
       "Action          126.05\n",
       "Shooter         109.74\n",
       "Sports           65.27\n",
       "Role-Playing     46.40\n",
       "Misc             27.49"
      ]
     },
     "metadata": {},
     "output_type": "display_data"
    }
   ],
   "source": [
    "na_sales_genre = df_actually.pivot_table(index='genre', values='na_sales',aggfunc='sum').sort_values('na_sales',ascending=False).head() # посмотрим на самые популярные жанры игр в Северной Америке\n",
    "display('Самые популярные жанры игр в Северной Америке',na_sales_genre)"
   ]
  },
  {
   "cell_type": "code",
   "execution_count": 27,
   "metadata": {},
   "outputs": [
    {
     "data": {
      "text/plain": [
       "'Самые популярные жанры игр в Европе'"
      ]
     },
     "metadata": {},
     "output_type": "display_data"
    },
    {
     "data": {
      "text/html": [
       "<div>\n",
       "<style scoped>\n",
       "    .dataframe tbody tr th:only-of-type {\n",
       "        vertical-align: middle;\n",
       "    }\n",
       "\n",
       "    .dataframe tbody tr th {\n",
       "        vertical-align: top;\n",
       "    }\n",
       "\n",
       "    .dataframe thead th {\n",
       "        text-align: right;\n",
       "    }\n",
       "</style>\n",
       "<table border=\"1\" class=\"dataframe\">\n",
       "  <thead>\n",
       "    <tr style=\"text-align: right;\">\n",
       "      <th></th>\n",
       "      <th>eu_sales</th>\n",
       "    </tr>\n",
       "    <tr>\n",
       "      <th>genre</th>\n",
       "      <th></th>\n",
       "    </tr>\n",
       "  </thead>\n",
       "  <tbody>\n",
       "    <tr>\n",
       "      <th>Action</th>\n",
       "      <td>118.13</td>\n",
       "    </tr>\n",
       "    <tr>\n",
       "      <th>Shooter</th>\n",
       "      <td>87.86</td>\n",
       "    </tr>\n",
       "    <tr>\n",
       "      <th>Sports</th>\n",
       "      <td>60.52</td>\n",
       "    </tr>\n",
       "    <tr>\n",
       "      <th>Role-Playing</th>\n",
       "      <td>36.97</td>\n",
       "    </tr>\n",
       "    <tr>\n",
       "      <th>Racing</th>\n",
       "      <td>20.19</td>\n",
       "    </tr>\n",
       "  </tbody>\n",
       "</table>\n",
       "</div>"
      ],
      "text/plain": [
       "              eu_sales\n",
       "genre                 \n",
       "Action          118.13\n",
       "Shooter          87.86\n",
       "Sports           60.52\n",
       "Role-Playing     36.97\n",
       "Racing           20.19"
      ]
     },
     "metadata": {},
     "output_type": "display_data"
    }
   ],
   "source": [
    "eu_sales_genre = df_actually.pivot_table(index='genre', values='eu_sales',aggfunc='sum').sort_values('eu_sales',ascending=False).head()  # посмотрим на самые популярные жанры игр в Европе\n",
    "display('Самые популярные жанры игр в Европе',eu_sales_genre)"
   ]
  },
  {
   "cell_type": "code",
   "execution_count": 28,
   "metadata": {},
   "outputs": [
    {
     "data": {
      "text/plain": [
       "'Самые популярные жанры игр в Японии '"
      ]
     },
     "metadata": {},
     "output_type": "display_data"
    },
    {
     "data": {
      "text/html": [
       "<div>\n",
       "<style scoped>\n",
       "    .dataframe tbody tr th:only-of-type {\n",
       "        vertical-align: middle;\n",
       "    }\n",
       "\n",
       "    .dataframe tbody tr th {\n",
       "        vertical-align: top;\n",
       "    }\n",
       "\n",
       "    .dataframe thead th {\n",
       "        text-align: right;\n",
       "    }\n",
       "</style>\n",
       "<table border=\"1\" class=\"dataframe\">\n",
       "  <thead>\n",
       "    <tr style=\"text-align: right;\">\n",
       "      <th></th>\n",
       "      <th>jp_sales</th>\n",
       "    </tr>\n",
       "    <tr>\n",
       "      <th>genre</th>\n",
       "      <th></th>\n",
       "    </tr>\n",
       "  </thead>\n",
       "  <tbody>\n",
       "    <tr>\n",
       "      <th>Role-Playing</th>\n",
       "      <td>51.04</td>\n",
       "    </tr>\n",
       "    <tr>\n",
       "      <th>Action</th>\n",
       "      <td>40.49</td>\n",
       "    </tr>\n",
       "    <tr>\n",
       "      <th>Misc</th>\n",
       "      <td>9.20</td>\n",
       "    </tr>\n",
       "    <tr>\n",
       "      <th>Fighting</th>\n",
       "      <td>7.65</td>\n",
       "    </tr>\n",
       "    <tr>\n",
       "      <th>Shooter</th>\n",
       "      <td>6.61</td>\n",
       "    </tr>\n",
       "  </tbody>\n",
       "</table>\n",
       "</div>"
      ],
      "text/plain": [
       "              jp_sales\n",
       "genre                 \n",
       "Role-Playing     51.04\n",
       "Action           40.49\n",
       "Misc              9.20\n",
       "Fighting          7.65\n",
       "Shooter           6.61"
      ]
     },
     "metadata": {},
     "output_type": "display_data"
    }
   ],
   "source": [
    "jp_sales_genre = df_actually.pivot_table(index='genre', values='jp_sales',aggfunc='sum').sort_values('jp_sales',ascending=False).head() # посмотрим на самые популярные жанры игр в Японии\n",
    "display('Самые популярные жанры игр в Японии ',jp_sales_genre)"
   ]
  },
  {
   "cell_type": "markdown",
   "metadata": {},
   "source": [
    "**Вывод**\n",
    "\n",
    "Определили для каждого региона (NA, EU, JP) самые популярные жанры игр. В Северной Америке и Европе лидируют продажи игр жанра Action, в Японии - Role-Playing."
   ]
  },
  {
   "cell_type": "code",
   "execution_count": 29,
   "metadata": {
    "scrolled": true
   },
   "outputs": [
    {
     "data": {
      "text/plain": [
       "'Рейтинг и продажи игр в Северной Америке'"
      ]
     },
     "metadata": {},
     "output_type": "display_data"
    },
    {
     "data": {
      "text/html": [
       "<div>\n",
       "<style scoped>\n",
       "    .dataframe tbody tr th:only-of-type {\n",
       "        vertical-align: middle;\n",
       "    }\n",
       "\n",
       "    .dataframe tbody tr th {\n",
       "        vertical-align: top;\n",
       "    }\n",
       "\n",
       "    .dataframe thead th {\n",
       "        text-align: right;\n",
       "    }\n",
       "</style>\n",
       "<table border=\"1\" class=\"dataframe\">\n",
       "  <thead>\n",
       "    <tr style=\"text-align: right;\">\n",
       "      <th></th>\n",
       "      <th>na_sales</th>\n",
       "    </tr>\n",
       "    <tr>\n",
       "      <th>rating</th>\n",
       "      <th></th>\n",
       "    </tr>\n",
       "  </thead>\n",
       "  <tbody>\n",
       "    <tr>\n",
       "      <th>M</th>\n",
       "      <td>165.21</td>\n",
       "    </tr>\n",
       "    <tr>\n",
       "      <th>E</th>\n",
       "      <td>79.05</td>\n",
       "    </tr>\n",
       "    <tr>\n",
       "      <th>E10+</th>\n",
       "      <td>54.24</td>\n",
       "    </tr>\n",
       "    <tr>\n",
       "      <th>T</th>\n",
       "      <td>49.79</td>\n",
       "    </tr>\n",
       "  </tbody>\n",
       "</table>\n",
       "</div>"
      ],
      "text/plain": [
       "        na_sales\n",
       "rating          \n",
       "M         165.21\n",
       "E          79.05\n",
       "E10+       54.24\n",
       "T          49.79"
      ]
     },
     "metadata": {},
     "output_type": "display_data"
    }
   ],
   "source": [
    "na_sales_rating = df_actually.pivot_table(index='rating', values='na_sales',aggfunc='sum').sort_values('na_sales',ascending=False) # посмотрим на рейтинг и продажи игр в Северной Америке\n",
    "display('Рейтинг и продажи игр в Северной Америке',na_sales_rating)"
   ]
  },
  {
   "cell_type": "code",
   "execution_count": 30,
   "metadata": {},
   "outputs": [
    {
     "data": {
      "text/plain": [
       "'Рейтинг и продажи игр в Европе'"
      ]
     },
     "metadata": {},
     "output_type": "display_data"
    },
    {
     "data": {
      "text/html": [
       "<div>\n",
       "<style scoped>\n",
       "    .dataframe tbody tr th:only-of-type {\n",
       "        vertical-align: middle;\n",
       "    }\n",
       "\n",
       "    .dataframe tbody tr th {\n",
       "        vertical-align: top;\n",
       "    }\n",
       "\n",
       "    .dataframe thead th {\n",
       "        text-align: right;\n",
       "    }\n",
       "</style>\n",
       "<table border=\"1\" class=\"dataframe\">\n",
       "  <thead>\n",
       "    <tr style=\"text-align: right;\">\n",
       "      <th></th>\n",
       "      <th>eu_sales</th>\n",
       "    </tr>\n",
       "    <tr>\n",
       "      <th>rating</th>\n",
       "      <th></th>\n",
       "    </tr>\n",
       "  </thead>\n",
       "  <tbody>\n",
       "    <tr>\n",
       "      <th>M</th>\n",
       "      <td>145.32</td>\n",
       "    </tr>\n",
       "    <tr>\n",
       "      <th>E</th>\n",
       "      <td>83.36</td>\n",
       "    </tr>\n",
       "    <tr>\n",
       "      <th>E10+</th>\n",
       "      <td>42.69</td>\n",
       "    </tr>\n",
       "    <tr>\n",
       "      <th>T</th>\n",
       "      <td>41.95</td>\n",
       "    </tr>\n",
       "  </tbody>\n",
       "</table>\n",
       "</div>"
      ],
      "text/plain": [
       "        eu_sales\n",
       "rating          \n",
       "M         145.32\n",
       "E          83.36\n",
       "E10+       42.69\n",
       "T          41.95"
      ]
     },
     "metadata": {},
     "output_type": "display_data"
    }
   ],
   "source": [
    "eu_sales_rating = df_actually.pivot_table(index='rating', values='eu_sales',aggfunc='sum').sort_values('eu_sales',ascending=False)  # посмотрим на рейтинг и продажи игр в Европе\n",
    "display('Рейтинг и продажи игр в Европе',eu_sales_rating)"
   ]
  },
  {
   "cell_type": "code",
   "execution_count": 31,
   "metadata": {},
   "outputs": [
    {
     "data": {
      "text/plain": [
       "'Рейтинг и продажи игр в Японии '"
      ]
     },
     "metadata": {},
     "output_type": "display_data"
    },
    {
     "data": {
      "text/html": [
       "<div>\n",
       "<style scoped>\n",
       "    .dataframe tbody tr th:only-of-type {\n",
       "        vertical-align: middle;\n",
       "    }\n",
       "\n",
       "    .dataframe tbody tr th {\n",
       "        vertical-align: top;\n",
       "    }\n",
       "\n",
       "    .dataframe thead th {\n",
       "        text-align: right;\n",
       "    }\n",
       "</style>\n",
       "<table border=\"1\" class=\"dataframe\">\n",
       "  <thead>\n",
       "    <tr style=\"text-align: right;\">\n",
       "      <th></th>\n",
       "      <th>jp_sales</th>\n",
       "    </tr>\n",
       "    <tr>\n",
       "      <th>rating</th>\n",
       "      <th></th>\n",
       "    </tr>\n",
       "  </thead>\n",
       "  <tbody>\n",
       "    <tr>\n",
       "      <th>T</th>\n",
       "      <td>20.59</td>\n",
       "    </tr>\n",
       "    <tr>\n",
       "      <th>E</th>\n",
       "      <td>15.14</td>\n",
       "    </tr>\n",
       "    <tr>\n",
       "      <th>M</th>\n",
       "      <td>14.11</td>\n",
       "    </tr>\n",
       "    <tr>\n",
       "      <th>E10+</th>\n",
       "      <td>5.89</td>\n",
       "    </tr>\n",
       "  </tbody>\n",
       "</table>\n",
       "</div>"
      ],
      "text/plain": [
       "        jp_sales\n",
       "rating          \n",
       "T          20.59\n",
       "E          15.14\n",
       "M          14.11\n",
       "E10+        5.89"
      ]
     },
     "metadata": {},
     "output_type": "display_data"
    }
   ],
   "source": [
    "jp_sales_rating = df_actually.pivot_table(index='rating', values='jp_sales',aggfunc='sum').sort_values('jp_sales',ascending=False).head() # посмотрим рейтинг и продажи игр в Японии\n",
    "display('Рейтинг и продажи игр в Японии ',jp_sales_rating)"
   ]
  },
  {
   "cell_type": "markdown",
   "metadata": {},
   "source": [
    "**Вывод**\n",
    "\n",
    "Определили рейтинг продаж по регионам. В Северной Америке и Европе лидируют продажи игр рейтинга ESRB M(Mature)-от 17 лет.\n",
    "В Японии T(Teen)- для подростков 13-19 лет."
   ]
  },
  {
   "cell_type": "markdown",
   "metadata": {},
   "source": [
    "## Проверка гипотез"
   ]
  },
  {
   "cell_type": "markdown",
   "metadata": {},
   "source": [
    "**Средние пользовательские рейтинги платформ Xbox One и PC одинаковые**\n",
    "\n",
    "Сформулируем нулевую и альтернативную гипотезы:\n",
    "\n",
    "- H0 - средние пользовательские рейтинги платформ Xbox One и PC равны\n",
    "- H1 - средние пользовательские рейтинги платформ Xbox One и PC не равны\n",
    "\n"
   ]
  },
  {
   "cell_type": "code",
   "execution_count": 32,
   "metadata": {},
   "outputs": [
    {
     "name": "stdout",
     "output_type": "stream",
     "text": [
      "p-значение: 0.16097023533449004\n",
      "Не получилось отвергнуть нулевую гипотезу\n"
     ]
    }
   ],
   "source": [
    "xone = df_actually.query('platform == \"XOne\"')['user_score']\n",
    "pc = df_actually.query('platform == \"PC\"')['user_score']\n",
    "alpha = 0.05 #задаем критический уровень статистической значимости\n",
    "results = st.ttest_ind(xone,pc,equal_var=False,nan_policy='omit')\n",
    "print('p-значение:',results.pvalue)\n",
    "if results.pvalue < alpha: #сравниваем получившееся p-значение с заданным уровнем статистической значимости\n",
    "    print(\"Отвергаем нулевую гипотезу\")\n",
    "else:\n",
    "    print(\"Не получилось отвергнуть нулевую гипотезу\")"
   ]
  },
  {
   "cell_type": "markdown",
   "metadata": {},
   "source": [
    "**Средние пользовательские рейтинги жанров Action (англ. «действие», экшен-игры) и Sports (англ. «спортивные соревнования») разные.**\n",
    "\n",
    "Сформулируем нулевую и альтернативную гипотезы:\n",
    "\n",
    "- H0 - средние пользовательские рейтинги жанров Action и Sports равны\n",
    "- H1 - средние пользовательские рейтинги жанров Action и Sports не равны"
   ]
  },
  {
   "cell_type": "code",
   "execution_count": 33,
   "metadata": {},
   "outputs": [
    {
     "name": "stdout",
     "output_type": "stream",
     "text": [
      "p-значение: 7.631940781789286e-19\n",
      "Отвергаем нулевую гипотезу\n"
     ]
    }
   ],
   "source": [
    "action = df_actually.query('genre == \"Action\"')['user_score']\n",
    "sports = df_actually.query('genre == \"Sports\"')['user_score']\n",
    "alpha = 0.05 #задаем критический уровень статистической значимости\n",
    "results = st.ttest_ind(action,sports,equal_var=False,nan_policy='omit')\n",
    "print('p-значение:',results.pvalue)\n",
    "if results.pvalue < alpha: #сравниваем получившееся p-значение с заданным уровнем статистической значимости\n",
    "    print(\"Отвергаем нулевую гипотезу\")\n",
    "else:\n",
    "    print(\"Не получилось отвергнуть нулевую гипотезу\")"
   ]
  },
  {
   "cell_type": "markdown",
   "metadata": {},
   "source": [
    "**Вывод**\n",
    "\n",
    "После проверки гипотез вывлено, что средние пользовательские рейтинги платформ Xbox One и PC одинаковые, а средние пользовательские рейтинги жанров Action и Sports разные.\n",
    "\n"
   ]
  },
  {
   "cell_type": "markdown",
   "metadata": {},
   "source": [
    "## Общий вывод\n",
    "\n",
    "Посмотрели данные распределение по годам, платформам и суммарными продажами, отобрали пять платформ с наибольшими продажами. Более перспективными выделили платформы:PC,PS4,PSV,XOne. Проанализировав данные выявили, что от увеличения оценки критиков растет цена игр перспективных платформ, а от оценок пользователей увеличение цены игр не зависит.\n",
    "\n",
    "Самые прибыльные по жанрам игры: Shooter, Sports, Platform. В Северной Америке и Европе лидируют продажи игр жанра Action, в Японии - Role-Playing. В Северной Америке и Европе лидируют продажи игр рейтинга ESRB M(Mature)-от 17 лет. В Японии T(Teen)- для подростков 13-19 лет.\n",
    "\n",
    "После проверки гипотез вывлено, что средние пользовательские рейтинги платформ Xbox One и PC одинаковые, а средние пользовательские рейтинги жанров Action и Sports разные."
   ]
  }
 ],
 "metadata": {
  "ExecuteTimeLog": [
   {
    "duration": 556,
    "start_time": "2022-01-26T20:53:49.477Z"
   },
   {
    "duration": 8,
    "start_time": "2022-01-26T21:49:09.235Z"
   },
   {
    "duration": 11,
    "start_time": "2022-01-26T21:50:21.856Z"
   },
   {
    "duration": 464,
    "start_time": "2022-01-26T21:53:41.857Z"
   },
   {
    "duration": 314,
    "start_time": "2022-01-27T10:22:45.812Z"
   },
   {
    "duration": 1158,
    "start_time": "2022-01-27T10:23:11.146Z"
   },
   {
    "duration": 11,
    "start_time": "2022-01-27T10:23:12.306Z"
   },
   {
    "duration": 10,
    "start_time": "2022-01-27T10:23:12.319Z"
   },
   {
    "duration": 393,
    "start_time": "2022-01-27T10:23:12.331Z"
   },
   {
    "duration": 12,
    "start_time": "2022-01-27T10:23:44.648Z"
   },
   {
    "duration": 15,
    "start_time": "2022-01-27T10:24:10.620Z"
   },
   {
    "duration": 10,
    "start_time": "2022-01-27T10:31:49.718Z"
   },
   {
    "duration": 6,
    "start_time": "2022-01-27T10:36:11.633Z"
   },
   {
    "duration": 13,
    "start_time": "2022-01-27T10:45:28.087Z"
   },
   {
    "duration": 5,
    "start_time": "2022-01-27T10:46:13.207Z"
   },
   {
    "duration": 5,
    "start_time": "2022-01-27T10:50:50.081Z"
   },
   {
    "duration": 5,
    "start_time": "2022-01-27T10:50:56.444Z"
   },
   {
    "duration": 10,
    "start_time": "2022-01-27T10:52:17.642Z"
   },
   {
    "duration": 8,
    "start_time": "2022-01-27T10:52:31.314Z"
   },
   {
    "duration": 12,
    "start_time": "2022-01-27T10:52:47.903Z"
   },
   {
    "duration": 10,
    "start_time": "2022-01-27T10:53:07.216Z"
   },
   {
    "duration": 5,
    "start_time": "2022-01-27T10:53:14.507Z"
   },
   {
    "duration": 1245,
    "start_time": "2022-01-27T10:53:27.421Z"
   },
   {
    "duration": 11,
    "start_time": "2022-01-27T10:53:28.668Z"
   },
   {
    "duration": 9,
    "start_time": "2022-01-27T10:53:28.682Z"
   },
   {
    "duration": 17,
    "start_time": "2022-01-27T10:53:28.692Z"
   },
   {
    "duration": 9,
    "start_time": "2022-01-27T10:53:28.711Z"
   },
   {
    "duration": 5,
    "start_time": "2022-01-27T10:53:28.722Z"
   },
   {
    "duration": 6,
    "start_time": "2022-01-27T10:53:28.729Z"
   },
   {
    "duration": 6,
    "start_time": "2022-01-27T10:53:28.738Z"
   },
   {
    "duration": 8,
    "start_time": "2022-01-27T10:55:05.727Z"
   },
   {
    "duration": 19,
    "start_time": "2022-01-27T11:34:02.670Z"
   },
   {
    "duration": 16,
    "start_time": "2022-01-27T11:35:42.745Z"
   },
   {
    "duration": 10,
    "start_time": "2022-01-27T11:46:08.309Z"
   },
   {
    "duration": 7523,
    "start_time": "2022-01-27T12:13:44.189Z"
   },
   {
    "duration": 17,
    "start_time": "2022-01-27T12:14:21.817Z"
   },
   {
    "duration": 11,
    "start_time": "2022-01-27T12:14:26.485Z"
   },
   {
    "duration": 7472,
    "start_time": "2022-01-27T12:14:56.118Z"
   },
   {
    "duration": 329,
    "start_time": "2022-01-27T12:15:34.759Z"
   },
   {
    "duration": 221,
    "start_time": "2022-01-27T12:17:33.852Z"
   },
   {
    "duration": 6611,
    "start_time": "2022-01-27T12:18:20.867Z"
   },
   {
    "duration": 524,
    "start_time": "2022-01-27T12:19:43.912Z"
   },
   {
    "duration": 514,
    "start_time": "2022-01-27T12:20:08.264Z"
   },
   {
    "duration": 558,
    "start_time": "2022-01-27T12:20:37.046Z"
   },
   {
    "duration": 724,
    "start_time": "2022-01-27T12:20:50.243Z"
   },
   {
    "duration": 623,
    "start_time": "2022-01-27T12:21:25.109Z"
   },
   {
    "duration": 3692,
    "start_time": "2022-01-27T13:16:07.671Z"
   },
   {
    "duration": 3722,
    "start_time": "2022-01-27T13:16:41.238Z"
   },
   {
    "duration": 4087,
    "start_time": "2022-01-27T13:17:22.636Z"
   },
   {
    "duration": 4597,
    "start_time": "2022-01-27T13:17:49.367Z"
   },
   {
    "duration": 6886,
    "start_time": "2022-01-27T13:18:21.702Z"
   },
   {
    "duration": 3919,
    "start_time": "2022-01-27T13:18:45.490Z"
   },
   {
    "duration": 3629,
    "start_time": "2022-01-27T13:19:08.046Z"
   },
   {
    "duration": 3686,
    "start_time": "2022-01-27T13:19:47.437Z"
   },
   {
    "duration": 3572,
    "start_time": "2022-01-27T13:20:18.064Z"
   },
   {
    "duration": 1164,
    "start_time": "2022-01-27T13:38:22.757Z"
   },
   {
    "duration": 1246,
    "start_time": "2022-01-27T13:39:11.353Z"
   },
   {
    "duration": 472,
    "start_time": "2022-01-27T13:40:39.384Z"
   },
   {
    "duration": 534,
    "start_time": "2022-01-27T13:41:39.123Z"
   },
   {
    "duration": 3564,
    "start_time": "2022-01-27T13:41:46.790Z"
   },
   {
    "duration": 287,
    "start_time": "2022-01-27T13:42:21.824Z"
   },
   {
    "duration": 3656,
    "start_time": "2022-01-27T13:42:30.627Z"
   },
   {
    "duration": 6753,
    "start_time": "2022-01-27T13:44:45.142Z"
   },
   {
    "duration": 6802,
    "start_time": "2022-01-27T13:45:18.247Z"
   },
   {
    "duration": 523,
    "start_time": "2022-01-27T14:11:42.953Z"
   },
   {
    "duration": 837,
    "start_time": "2022-01-27T14:12:11.215Z"
   },
   {
    "duration": 1093,
    "start_time": "2022-01-28T10:21:32.449Z"
   },
   {
    "duration": 11,
    "start_time": "2022-01-28T10:21:33.544Z"
   },
   {
    "duration": 10,
    "start_time": "2022-01-28T10:21:33.557Z"
   },
   {
    "duration": 29,
    "start_time": "2022-01-28T10:21:33.569Z"
   },
   {
    "duration": 9,
    "start_time": "2022-01-28T10:21:33.600Z"
   },
   {
    "duration": 7,
    "start_time": "2022-01-28T10:21:33.610Z"
   },
   {
    "duration": 9,
    "start_time": "2022-01-28T10:21:33.619Z"
   },
   {
    "duration": 18,
    "start_time": "2022-01-28T10:21:33.630Z"
   },
   {
    "duration": 10,
    "start_time": "2022-01-28T10:21:33.650Z"
   },
   {
    "duration": 53,
    "start_time": "2022-01-28T10:21:33.662Z"
   },
   {
    "duration": -317,
    "start_time": "2022-01-28T10:21:34.034Z"
   },
   {
    "duration": 10,
    "start_time": "2022-01-28T10:35:08.544Z"
   },
   {
    "duration": 13,
    "start_time": "2022-01-28T10:37:45.525Z"
   },
   {
    "duration": 11,
    "start_time": "2022-01-28T10:38:04.837Z"
   },
   {
    "duration": 1086,
    "start_time": "2022-01-28T10:43:44.961Z"
   },
   {
    "duration": 11,
    "start_time": "2022-01-28T10:43:46.049Z"
   },
   {
    "duration": 9,
    "start_time": "2022-01-28T10:43:46.062Z"
   },
   {
    "duration": 25,
    "start_time": "2022-01-28T10:43:46.074Z"
   },
   {
    "duration": 12,
    "start_time": "2022-01-28T10:43:46.100Z"
   },
   {
    "duration": 5,
    "start_time": "2022-01-28T10:43:46.114Z"
   },
   {
    "duration": 8,
    "start_time": "2022-01-28T10:43:46.121Z"
   },
   {
    "duration": 18,
    "start_time": "2022-01-28T10:43:46.131Z"
   },
   {
    "duration": 51,
    "start_time": "2022-01-28T10:43:46.151Z"
   },
   {
    "duration": 58,
    "start_time": "2022-01-28T10:43:46.204Z"
   },
   {
    "duration": -345,
    "start_time": "2022-01-28T10:43:46.609Z"
   },
   {
    "duration": 521,
    "start_time": "2022-01-28T10:44:38.974Z"
   },
   {
    "duration": 537,
    "start_time": "2022-01-28T10:45:32.093Z"
   },
   {
    "duration": 475,
    "start_time": "2022-01-28T10:46:49.129Z"
   },
   {
    "duration": 253,
    "start_time": "2022-01-28T10:54:39.679Z"
   },
   {
    "duration": 215,
    "start_time": "2022-01-28T10:54:51.171Z"
   },
   {
    "duration": 15,
    "start_time": "2022-01-28T10:56:38.168Z"
   },
   {
    "duration": 1083,
    "start_time": "2022-01-28T10:58:56.556Z"
   },
   {
    "duration": 11,
    "start_time": "2022-01-28T10:58:57.640Z"
   },
   {
    "duration": 15,
    "start_time": "2022-01-28T10:58:57.653Z"
   },
   {
    "duration": 8,
    "start_time": "2022-01-28T10:58:57.670Z"
   },
   {
    "duration": 27,
    "start_time": "2022-01-28T10:58:57.680Z"
   },
   {
    "duration": 5,
    "start_time": "2022-01-28T10:58:57.709Z"
   },
   {
    "duration": 8,
    "start_time": "2022-01-28T10:58:57.716Z"
   },
   {
    "duration": 18,
    "start_time": "2022-01-28T10:58:57.726Z"
   },
   {
    "duration": 11,
    "start_time": "2022-01-28T10:58:57.746Z"
   },
   {
    "duration": 538,
    "start_time": "2022-01-28T10:58:57.759Z"
   },
   {
    "duration": 482,
    "start_time": "2022-01-28T10:59:26.976Z"
   },
   {
    "duration": 16,
    "start_time": "2022-01-28T15:54:36.845Z"
   },
   {
    "duration": 10,
    "start_time": "2022-01-28T15:55:01.427Z"
   },
   {
    "duration": 283,
    "start_time": "2022-01-28T15:56:03.362Z"
   },
   {
    "duration": 11,
    "start_time": "2022-01-28T15:56:20.374Z"
   },
   {
    "duration": 8,
    "start_time": "2022-01-28T15:56:39.399Z"
   },
   {
    "duration": 8,
    "start_time": "2022-01-28T15:57:30.913Z"
   },
   {
    "duration": 30,
    "start_time": "2022-01-28T15:59:04.461Z"
   },
   {
    "duration": 7,
    "start_time": "2022-01-28T16:06:55.903Z"
   },
   {
    "duration": 28,
    "start_time": "2022-01-28T16:07:19.976Z"
   },
   {
    "duration": 326,
    "start_time": "2022-01-28T16:08:34.296Z"
   },
   {
    "duration": 256,
    "start_time": "2022-01-28T16:09:17.136Z"
   },
   {
    "duration": 230,
    "start_time": "2022-01-28T16:09:29.220Z"
   },
   {
    "duration": 262,
    "start_time": "2022-01-28T16:09:39.176Z"
   },
   {
    "duration": 57,
    "start_time": "2022-01-28T16:12:08.987Z"
   },
   {
    "duration": 240,
    "start_time": "2022-01-28T16:12:28.157Z"
   },
   {
    "duration": 639,
    "start_time": "2022-01-28T16:13:24.836Z"
   },
   {
    "duration": 230,
    "start_time": "2022-01-28T16:13:50.787Z"
   },
   {
    "duration": 1555,
    "start_time": "2022-01-30T12:46:17.202Z"
   },
   {
    "duration": 16,
    "start_time": "2022-01-30T12:46:18.760Z"
   },
   {
    "duration": 10,
    "start_time": "2022-01-30T12:46:18.779Z"
   },
   {
    "duration": 36,
    "start_time": "2022-01-30T12:46:18.791Z"
   },
   {
    "duration": 20,
    "start_time": "2022-01-30T12:46:18.830Z"
   },
   {
    "duration": 7,
    "start_time": "2022-01-30T12:46:18.852Z"
   },
   {
    "duration": 9,
    "start_time": "2022-01-30T12:46:18.861Z"
   },
   {
    "duration": 71,
    "start_time": "2022-01-30T12:46:18.874Z"
   },
   {
    "duration": 13,
    "start_time": "2022-01-30T12:46:18.948Z"
   },
   {
    "duration": 820,
    "start_time": "2022-01-30T12:46:18.964Z"
   },
   {
    "duration": 10,
    "start_time": "2022-01-30T12:46:19.787Z"
   },
   {
    "duration": 55,
    "start_time": "2022-01-30T12:46:19.799Z"
   },
   {
    "duration": 363,
    "start_time": "2022-01-30T12:46:19.856Z"
   },
   {
    "duration": 1326,
    "start_time": "2022-01-30T13:16:42.912Z"
   },
   {
    "duration": 16,
    "start_time": "2022-01-30T13:16:44.241Z"
   },
   {
    "duration": 11,
    "start_time": "2022-01-30T13:16:44.261Z"
   },
   {
    "duration": 11,
    "start_time": "2022-01-30T13:16:44.274Z"
   },
   {
    "duration": 52,
    "start_time": "2022-01-30T13:16:44.287Z"
   },
   {
    "duration": 7,
    "start_time": "2022-01-30T13:16:44.341Z"
   },
   {
    "duration": 11,
    "start_time": "2022-01-30T13:16:44.350Z"
   },
   {
    "duration": 61,
    "start_time": "2022-01-30T13:16:44.364Z"
   },
   {
    "duration": 13,
    "start_time": "2022-01-30T13:16:44.427Z"
   },
   {
    "duration": 755,
    "start_time": "2022-01-30T13:16:44.442Z"
   },
   {
    "duration": 26,
    "start_time": "2022-01-30T13:16:45.200Z"
   },
   {
    "duration": 33,
    "start_time": "2022-01-30T13:16:45.228Z"
   },
   {
    "duration": 341,
    "start_time": "2022-01-30T13:16:45.264Z"
   },
   {
    "duration": 743,
    "start_time": "2022-01-30T14:00:16.964Z"
   },
   {
    "duration": 9,
    "start_time": "2022-01-30T14:00:27.093Z"
   },
   {
    "duration": 102,
    "start_time": "2022-01-30T14:06:18.985Z"
   },
   {
    "duration": 1740,
    "start_time": "2022-01-30T14:06:54.556Z"
   },
   {
    "duration": 1501,
    "start_time": "2022-01-30T14:09:36.850Z"
   },
   {
    "duration": 1440,
    "start_time": "2022-01-30T14:10:18.744Z"
   },
   {
    "duration": 1711,
    "start_time": "2022-01-30T14:17:41.949Z"
   },
   {
    "duration": 1668,
    "start_time": "2022-01-30T14:18:07.278Z"
   },
   {
    "duration": 10,
    "start_time": "2022-01-30T16:04:18.795Z"
   },
   {
    "duration": 25,
    "start_time": "2022-01-30T16:05:05.693Z"
   },
   {
    "duration": 34,
    "start_time": "2022-01-30T16:05:21.290Z"
   },
   {
    "duration": 36,
    "start_time": "2022-01-30T16:06:51.684Z"
   },
   {
    "duration": 10,
    "start_time": "2022-01-30T16:57:34.909Z"
   },
   {
    "duration": 771,
    "start_time": "2022-01-30T17:16:50.691Z"
   },
   {
    "duration": 748,
    "start_time": "2022-01-30T17:19:08.036Z"
   },
   {
    "duration": 750,
    "start_time": "2022-01-30T17:20:00.835Z"
   },
   {
    "duration": 10,
    "start_time": "2022-01-30T17:21:35.610Z"
   },
   {
    "duration": 351,
    "start_time": "2022-01-30T17:52:40.252Z"
   },
   {
    "duration": 328,
    "start_time": "2022-01-30T17:53:06.128Z"
   },
   {
    "duration": 261,
    "start_time": "2022-01-30T17:54:28.137Z"
   },
   {
    "duration": 231,
    "start_time": "2022-01-30T17:56:38.262Z"
   },
   {
    "duration": 242,
    "start_time": "2022-01-30T17:57:49.483Z"
   },
   {
    "duration": 215,
    "start_time": "2022-01-30T17:59:57.128Z"
   },
   {
    "duration": 37,
    "start_time": "2022-01-30T18:09:41.930Z"
   },
   {
    "duration": 222,
    "start_time": "2022-01-30T18:24:20.848Z"
   },
   {
    "duration": 209,
    "start_time": "2022-01-30T18:25:30.752Z"
   },
   {
    "duration": 218,
    "start_time": "2022-01-30T18:25:55.492Z"
   },
   {
    "duration": 343,
    "start_time": "2022-01-30T18:26:10.994Z"
   },
   {
    "duration": 681,
    "start_time": "2022-01-30T18:27:17.542Z"
   },
   {
    "duration": 930,
    "start_time": "2022-01-30T18:40:33.144Z"
   },
   {
    "duration": 794,
    "start_time": "2022-01-30T18:41:26.282Z"
   },
   {
    "duration": 892,
    "start_time": "2022-01-30T18:42:28.911Z"
   },
   {
    "duration": 882,
    "start_time": "2022-01-30T18:44:44.469Z"
   },
   {
    "duration": 804,
    "start_time": "2022-01-30T18:45:12.407Z"
   },
   {
    "duration": 949,
    "start_time": "2022-01-30T18:45:58.841Z"
   },
   {
    "duration": 962,
    "start_time": "2022-01-30T18:47:08.121Z"
   },
   {
    "duration": 874,
    "start_time": "2022-01-30T18:56:14.549Z"
   },
   {
    "duration": 11,
    "start_time": "2022-01-30T18:58:40.359Z"
   },
   {
    "duration": 7,
    "start_time": "2022-01-30T19:19:30.916Z"
   },
   {
    "duration": 1429,
    "start_time": "2022-01-30T19:20:19.579Z"
   },
   {
    "duration": 12,
    "start_time": "2022-01-30T19:21:10.218Z"
   },
   {
    "duration": 17,
    "start_time": "2022-01-30T19:25:48.105Z"
   },
   {
    "duration": 868,
    "start_time": "2022-01-30T19:26:05.322Z"
   },
   {
    "duration": 1466,
    "start_time": "2022-01-30T19:26:37.058Z"
   },
   {
    "duration": 14,
    "start_time": "2022-01-30T19:26:38.526Z"
   },
   {
    "duration": 11,
    "start_time": "2022-01-30T19:26:38.547Z"
   },
   {
    "duration": 11,
    "start_time": "2022-01-30T19:26:38.560Z"
   },
   {
    "duration": 60,
    "start_time": "2022-01-30T19:26:38.574Z"
   },
   {
    "duration": 7,
    "start_time": "2022-01-30T19:26:38.636Z"
   },
   {
    "duration": 12,
    "start_time": "2022-01-30T19:26:38.647Z"
   },
   {
    "duration": 27,
    "start_time": "2022-01-30T19:26:38.662Z"
   },
   {
    "duration": 47,
    "start_time": "2022-01-30T19:26:38.692Z"
   },
   {
    "duration": 14,
    "start_time": "2022-01-30T19:26:38.742Z"
   },
   {
    "duration": 775,
    "start_time": "2022-01-30T19:26:38.758Z"
   },
   {
    "duration": 9,
    "start_time": "2022-01-30T19:26:39.536Z"
   },
   {
    "duration": 36,
    "start_time": "2022-01-30T19:26:39.548Z"
   },
   {
    "duration": 1507,
    "start_time": "2022-01-30T19:26:39.586Z"
   },
   {
    "duration": 48,
    "start_time": "2022-01-30T19:26:41.096Z"
   },
   {
    "duration": 762,
    "start_time": "2022-01-30T19:26:41.146Z"
   },
   {
    "duration": 917,
    "start_time": "2022-01-30T19:26:41.911Z"
   },
   {
    "duration": 6,
    "start_time": "2022-01-30T19:26:42.830Z"
   },
   {
    "duration": 10,
    "start_time": "2022-01-30T19:26:42.839Z"
   },
   {
    "duration": 6,
    "start_time": "2022-01-30T19:26:42.851Z"
   },
   {
    "duration": 495,
    "start_time": "2022-01-30T19:30:36.372Z"
   },
   {
    "duration": 287,
    "start_time": "2022-01-30T19:31:13.452Z"
   },
   {
    "duration": 71,
    "start_time": "2022-01-30T19:31:22.110Z"
   },
   {
    "duration": 19,
    "start_time": "2022-01-30T19:31:25.250Z"
   },
   {
    "duration": 11,
    "start_time": "2022-01-30T19:31:33.122Z"
   },
   {
    "duration": 15,
    "start_time": "2022-01-30T19:31:37.588Z"
   },
   {
    "duration": 7,
    "start_time": "2022-01-30T19:31:44.355Z"
   },
   {
    "duration": 11,
    "start_time": "2022-01-30T19:31:52.906Z"
   },
   {
    "duration": 1165,
    "start_time": "2022-01-30T19:32:00.434Z"
   },
   {
    "duration": 18,
    "start_time": "2022-01-30T19:32:36.585Z"
   },
   {
    "duration": 6,
    "start_time": "2022-01-30T19:33:08.410Z"
   },
   {
    "duration": 559,
    "start_time": "2022-01-30T19:46:04.188Z"
   },
   {
    "duration": 539,
    "start_time": "2022-01-30T19:46:44.660Z"
   },
   {
    "duration": 533,
    "start_time": "2022-01-30T19:48:18.356Z"
   },
   {
    "duration": 539,
    "start_time": "2022-01-30T19:50:19.921Z"
   },
   {
    "duration": 562,
    "start_time": "2022-01-30T19:51:40.884Z"
   },
   {
    "duration": 327,
    "start_time": "2022-01-30T20:09:17.284Z"
   },
   {
    "duration": 15,
    "start_time": "2022-01-30T20:09:30.075Z"
   },
   {
    "duration": 104,
    "start_time": "2022-01-30T20:10:11.802Z"
   },
   {
    "duration": 125,
    "start_time": "2022-01-30T20:10:27.756Z"
   },
   {
    "duration": 15,
    "start_time": "2022-01-30T20:11:22.418Z"
   },
   {
    "duration": 35,
    "start_time": "2022-01-30T20:11:50.341Z"
   },
   {
    "duration": 2110,
    "start_time": "2022-01-30T20:30:28.994Z"
   },
   {
    "duration": 784,
    "start_time": "2022-01-30T20:30:59.730Z"
   },
   {
    "duration": 920,
    "start_time": "2022-01-30T20:32:16.414Z"
   },
   {
    "duration": 1216,
    "start_time": "2022-01-30T20:32:25.819Z"
   },
   {
    "duration": 684,
    "start_time": "2022-01-30T20:32:48.472Z"
   },
   {
    "duration": 571,
    "start_time": "2022-01-30T20:33:14.726Z"
   },
   {
    "duration": 936,
    "start_time": "2022-01-30T20:34:35.426Z"
   },
   {
    "duration": 772,
    "start_time": "2022-01-30T20:35:50.065Z"
   },
   {
    "duration": 19,
    "start_time": "2022-01-30T20:45:19.100Z"
   },
   {
    "duration": 22,
    "start_time": "2022-01-30T20:47:16.604Z"
   },
   {
    "duration": 21,
    "start_time": "2022-01-30T20:47:36.945Z"
   },
   {
    "duration": 21,
    "start_time": "2022-01-30T20:48:29.688Z"
   },
   {
    "duration": 19,
    "start_time": "2022-01-30T20:49:24.630Z"
   },
   {
    "duration": 481,
    "start_time": "2022-01-30T20:53:54.890Z"
   },
   {
    "duration": 462,
    "start_time": "2022-01-30T20:55:58.884Z"
   },
   {
    "duration": 422,
    "start_time": "2022-01-30T21:17:09.729Z"
   },
   {
    "duration": 305,
    "start_time": "2022-01-30T21:36:45.777Z"
   },
   {
    "duration": 333,
    "start_time": "2022-01-30T21:37:35.840Z"
   },
   {
    "duration": 607,
    "start_time": "2022-01-30T21:40:28.804Z"
   },
   {
    "duration": 684,
    "start_time": "2022-01-30T21:42:11.239Z"
   },
   {
    "duration": 901,
    "start_time": "2022-01-30T21:42:49.458Z"
   },
   {
    "duration": 621,
    "start_time": "2022-01-30T21:43:20.726Z"
   },
   {
    "duration": 910,
    "start_time": "2022-01-30T21:45:31.328Z"
   },
   {
    "duration": 365,
    "start_time": "2022-01-30T22:05:55.207Z"
   },
   {
    "duration": 362,
    "start_time": "2022-01-30T22:07:32.843Z"
   },
   {
    "duration": 25,
    "start_time": "2022-01-30T22:10:48.810Z"
   },
   {
    "duration": 26,
    "start_time": "2022-01-30T22:13:05.601Z"
   },
   {
    "duration": 27,
    "start_time": "2022-01-30T22:20:19.542Z"
   },
   {
    "duration": 24,
    "start_time": "2022-01-30T22:21:15.924Z"
   },
   {
    "duration": 300,
    "start_time": "2022-01-30T22:23:16.772Z"
   },
   {
    "duration": 23,
    "start_time": "2022-01-30T22:23:26.954Z"
   },
   {
    "duration": 23,
    "start_time": "2022-01-30T22:26:48.279Z"
   },
   {
    "duration": 24,
    "start_time": "2022-01-30T22:27:33.348Z"
   },
   {
    "duration": 22,
    "start_time": "2022-01-30T22:28:25.541Z"
   },
   {
    "duration": 24,
    "start_time": "2022-01-30T22:29:15.954Z"
   },
   {
    "duration": 1190,
    "start_time": "2022-01-31T09:09:48.423Z"
   },
   {
    "duration": 11,
    "start_time": "2022-01-31T09:09:49.615Z"
   },
   {
    "duration": 8,
    "start_time": "2022-01-31T09:09:49.630Z"
   },
   {
    "duration": 21,
    "start_time": "2022-01-31T09:09:49.640Z"
   },
   {
    "duration": 16,
    "start_time": "2022-01-31T09:09:49.663Z"
   },
   {
    "duration": 5,
    "start_time": "2022-01-31T09:09:49.681Z"
   },
   {
    "duration": 8,
    "start_time": "2022-01-31T09:09:49.689Z"
   },
   {
    "duration": 15,
    "start_time": "2022-01-31T09:09:49.699Z"
   },
   {
    "duration": 46,
    "start_time": "2022-01-31T09:09:49.716Z"
   },
   {
    "duration": 12,
    "start_time": "2022-01-31T09:09:49.764Z"
   },
   {
    "duration": 519,
    "start_time": "2022-01-31T09:09:49.778Z"
   },
   {
    "duration": 10,
    "start_time": "2022-01-31T09:09:50.299Z"
   },
   {
    "duration": 22,
    "start_time": "2022-01-31T09:09:50.311Z"
   },
   {
    "duration": 1013,
    "start_time": "2022-01-31T09:09:50.335Z"
   },
   {
    "duration": 29,
    "start_time": "2022-01-31T09:09:51.350Z"
   },
   {
    "duration": 506,
    "start_time": "2022-01-31T09:09:51.381Z"
   },
   {
    "duration": 627,
    "start_time": "2022-01-31T09:09:51.890Z"
   },
   {
    "duration": 401,
    "start_time": "2022-01-31T09:09:52.519Z"
   },
   {
    "duration": 6,
    "start_time": "2022-01-31T09:09:52.922Z"
   },
   {
    "duration": 405,
    "start_time": "2022-01-31T09:09:52.929Z"
   },
   {
    "duration": 5,
    "start_time": "2022-01-31T09:09:53.336Z"
   },
   {
    "duration": 625,
    "start_time": "2022-01-31T09:09:53.344Z"
   },
   {
    "duration": 23,
    "start_time": "2022-01-31T09:09:53.971Z"
   },
   {
    "duration": 304,
    "start_time": "2022-01-31T09:09:53.996Z"
   },
   {
    "duration": 724,
    "start_time": "2022-01-31T09:09:54.302Z"
   },
   {
    "duration": 16,
    "start_time": "2022-01-31T09:09:55.028Z"
   },
   {
    "duration": 18,
    "start_time": "2022-01-31T09:09:55.061Z"
   },
   {
    "duration": 22,
    "start_time": "2022-01-31T09:09:55.081Z"
   },
   {
    "duration": 15,
    "start_time": "2022-01-31T09:20:06.370Z"
   },
   {
    "duration": 17,
    "start_time": "2022-01-31T09:23:19.532Z"
   },
   {
    "duration": 21,
    "start_time": "2022-01-31T09:26:01.832Z"
   },
   {
    "duration": 16,
    "start_time": "2022-01-31T09:26:30.173Z"
   },
   {
    "duration": 17,
    "start_time": "2022-01-31T09:26:58.236Z"
   },
   {
    "duration": 390,
    "start_time": "2022-01-31T09:49:44.679Z"
   },
   {
    "duration": 325,
    "start_time": "2022-01-31T09:50:57.123Z"
   },
   {
    "duration": 263,
    "start_time": "2022-01-31T09:52:14.502Z"
   },
   {
    "duration": 253,
    "start_time": "2022-01-31T09:53:20.856Z"
   },
   {
    "duration": 308,
    "start_time": "2022-01-31T09:56:24.385Z"
   },
   {
    "duration": 289,
    "start_time": "2022-01-31T09:58:53.901Z"
   },
   {
    "duration": 12,
    "start_time": "2022-01-31T10:03:48.720Z"
   },
   {
    "duration": 13,
    "start_time": "2022-01-31T10:04:25.322Z"
   },
   {
    "duration": 11,
    "start_time": "2022-01-31T10:04:41.242Z"
   },
   {
    "duration": 12,
    "start_time": "2022-01-31T10:13:06.299Z"
   },
   {
    "duration": 17,
    "start_time": "2022-01-31T10:34:09.841Z"
   },
   {
    "duration": 1531,
    "start_time": "2022-02-09T13:58:17.895Z"
   },
   {
    "duration": 14,
    "start_time": "2022-02-09T13:58:19.428Z"
   },
   {
    "duration": 22,
    "start_time": "2022-02-09T13:58:19.445Z"
   },
   {
    "duration": 11,
    "start_time": "2022-02-09T13:58:19.470Z"
   },
   {
    "duration": 18,
    "start_time": "2022-02-09T13:58:19.484Z"
   },
   {
    "duration": 7,
    "start_time": "2022-02-09T13:58:19.504Z"
   },
   {
    "duration": 50,
    "start_time": "2022-02-09T13:58:19.513Z"
   },
   {
    "duration": 19,
    "start_time": "2022-02-09T13:58:19.566Z"
   },
   {
    "duration": 25,
    "start_time": "2022-02-09T13:58:19.591Z"
   },
   {
    "duration": 50,
    "start_time": "2022-02-09T13:58:19.619Z"
   },
   {
    "duration": 789,
    "start_time": "2022-02-09T13:58:19.672Z"
   },
   {
    "duration": 10,
    "start_time": "2022-02-09T13:58:20.463Z"
   },
   {
    "duration": 34,
    "start_time": "2022-02-09T13:58:20.475Z"
   },
   {
    "duration": 1652,
    "start_time": "2022-02-09T13:58:20.511Z"
   },
   {
    "duration": 36,
    "start_time": "2022-02-09T13:58:22.165Z"
   },
   {
    "duration": 799,
    "start_time": "2022-02-09T13:58:22.204Z"
   },
   {
    "duration": 117,
    "start_time": "2022-02-09T13:58:23.006Z"
   },
   {
    "duration": 234,
    "start_time": "2022-02-09T13:58:22.891Z"
   },
   {
    "duration": 233,
    "start_time": "2022-02-09T13:58:22.894Z"
   },
   {
    "duration": 233,
    "start_time": "2022-02-09T13:58:22.896Z"
   },
   {
    "duration": 229,
    "start_time": "2022-02-09T13:58:22.901Z"
   },
   {
    "duration": 229,
    "start_time": "2022-02-09T13:58:22.903Z"
   },
   {
    "duration": 228,
    "start_time": "2022-02-09T13:58:22.905Z"
   },
   {
    "duration": 228,
    "start_time": "2022-02-09T13:58:22.907Z"
   },
   {
    "duration": 224,
    "start_time": "2022-02-09T13:58:22.913Z"
   },
   {
    "duration": 224,
    "start_time": "2022-02-09T13:58:22.914Z"
   },
   {
    "duration": 223,
    "start_time": "2022-02-09T13:58:22.916Z"
   },
   {
    "duration": 223,
    "start_time": "2022-02-09T13:58:22.918Z"
   },
   {
    "duration": 223,
    "start_time": "2022-02-09T13:58:22.919Z"
   },
   {
    "duration": 223,
    "start_time": "2022-02-09T13:58:22.921Z"
   },
   {
    "duration": 223,
    "start_time": "2022-02-09T13:58:22.923Z"
   },
   {
    "duration": 224,
    "start_time": "2022-02-09T13:58:22.924Z"
   },
   {
    "duration": 223,
    "start_time": "2022-02-09T13:58:22.926Z"
   },
   {
    "duration": 219,
    "start_time": "2022-02-09T13:58:22.932Z"
   },
   {
    "duration": 1930,
    "start_time": "2022-02-09T14:01:05.890Z"
   },
   {
    "duration": 22,
    "start_time": "2022-02-09T14:01:07.823Z"
   },
   {
    "duration": 24,
    "start_time": "2022-02-09T14:01:07.849Z"
   },
   {
    "duration": 18,
    "start_time": "2022-02-09T14:01:07.876Z"
   },
   {
    "duration": 27,
    "start_time": "2022-02-09T14:01:07.897Z"
   },
   {
    "duration": 9,
    "start_time": "2022-02-09T14:01:07.960Z"
   },
   {
    "duration": 13,
    "start_time": "2022-02-09T14:01:07.972Z"
   },
   {
    "duration": 23,
    "start_time": "2022-02-09T14:01:07.990Z"
   },
   {
    "duration": 69,
    "start_time": "2022-02-09T14:01:08.017Z"
   },
   {
    "duration": 20,
    "start_time": "2022-02-09T14:01:08.089Z"
   },
   {
    "duration": 1169,
    "start_time": "2022-02-09T14:01:08.111Z"
   },
   {
    "duration": 13,
    "start_time": "2022-02-09T14:01:09.283Z"
   },
   {
    "duration": 61,
    "start_time": "2022-02-09T14:01:09.298Z"
   },
   {
    "duration": 1508,
    "start_time": "2022-02-09T14:01:09.362Z"
   },
   {
    "duration": 37,
    "start_time": "2022-02-09T14:01:10.872Z"
   },
   {
    "duration": 795,
    "start_time": "2022-02-09T14:01:10.911Z"
   },
   {
    "duration": 1297,
    "start_time": "2022-02-09T14:01:11.709Z"
   },
   {
    "duration": 606,
    "start_time": "2022-02-09T14:01:13.008Z"
   },
   {
    "duration": 6,
    "start_time": "2022-02-09T14:01:13.617Z"
   },
   {
    "duration": 590,
    "start_time": "2022-02-09T14:01:13.626Z"
   },
   {
    "duration": 6,
    "start_time": "2022-02-09T14:01:14.218Z"
   },
   {
    "duration": 965,
    "start_time": "2022-02-09T14:01:14.227Z"
   },
   {
    "duration": 34,
    "start_time": "2022-02-09T14:01:15.197Z"
   },
   {
    "duration": 482,
    "start_time": "2022-02-09T14:01:15.233Z"
   },
   {
    "duration": 978,
    "start_time": "2022-02-09T14:01:15.718Z"
   },
   {
    "duration": 21,
    "start_time": "2022-02-09T14:01:16.699Z"
   },
   {
    "duration": 44,
    "start_time": "2022-02-09T14:01:16.723Z"
   },
   {
    "duration": 22,
    "start_time": "2022-02-09T14:01:16.769Z"
   },
   {
    "duration": 29,
    "start_time": "2022-02-09T14:01:16.793Z"
   },
   {
    "duration": 22,
    "start_time": "2022-02-09T14:01:16.864Z"
   },
   {
    "duration": 20,
    "start_time": "2022-02-09T14:01:16.889Z"
   },
   {
    "duration": 16,
    "start_time": "2022-02-09T14:01:16.913Z"
   },
   {
    "duration": 40,
    "start_time": "2022-02-09T14:01:16.960Z"
   },
   {
    "duration": 73,
    "start_time": "2022-02-09T14:23:10.567Z"
   },
   {
    "duration": 27,
    "start_time": "2022-02-09T14:23:10.642Z"
   },
   {
    "duration": 11,
    "start_time": "2022-02-09T14:23:10.672Z"
   },
   {
    "duration": 12,
    "start_time": "2022-02-09T14:23:10.685Z"
   },
   {
    "duration": 67,
    "start_time": "2022-02-09T14:23:10.699Z"
   },
   {
    "duration": 6,
    "start_time": "2022-02-09T14:23:10.768Z"
   },
   {
    "duration": 9,
    "start_time": "2022-02-09T14:23:10.777Z"
   },
   {
    "duration": 15,
    "start_time": "2022-02-09T14:23:10.790Z"
   },
   {
    "duration": 71,
    "start_time": "2022-02-09T14:23:10.808Z"
   },
   {
    "duration": 16,
    "start_time": "2022-02-09T14:23:10.881Z"
   },
   {
    "duration": 959,
    "start_time": "2022-02-09T14:23:10.900Z"
   },
   {
    "duration": 10,
    "start_time": "2022-02-09T14:23:11.861Z"
   },
   {
    "duration": 35,
    "start_time": "2022-02-09T14:23:11.873Z"
   },
   {
    "duration": 1688,
    "start_time": "2022-02-09T14:23:11.911Z"
   },
   {
    "duration": 35,
    "start_time": "2022-02-09T14:23:13.601Z"
   },
   {
    "duration": 792,
    "start_time": "2022-02-09T14:23:13.638Z"
   },
   {
    "duration": 849,
    "start_time": "2022-02-09T14:23:14.433Z"
   },
   {
    "duration": 540,
    "start_time": "2022-02-09T14:23:15.285Z"
   },
   {
    "duration": 7,
    "start_time": "2022-02-09T14:23:15.828Z"
   },
   {
    "duration": 599,
    "start_time": "2022-02-09T14:23:15.837Z"
   },
   {
    "duration": 7,
    "start_time": "2022-02-09T14:23:16.439Z"
   },
   {
    "duration": 915,
    "start_time": "2022-02-09T14:23:16.461Z"
   },
   {
    "duration": 34,
    "start_time": "2022-02-09T14:23:17.381Z"
   },
   {
    "duration": 491,
    "start_time": "2022-02-09T14:23:17.417Z"
   },
   {
    "duration": 1018,
    "start_time": "2022-02-09T14:23:17.911Z"
   },
   {
    "duration": 107,
    "start_time": "2022-02-09T14:23:18.932Z"
   },
   {
    "duration": 251,
    "start_time": "2022-02-09T14:23:18.790Z"
   },
   {
    "duration": 250,
    "start_time": "2022-02-09T14:23:18.793Z"
   },
   {
    "duration": 249,
    "start_time": "2022-02-09T14:23:18.795Z"
   },
   {
    "duration": 240,
    "start_time": "2022-02-09T14:23:18.805Z"
   },
   {
    "duration": 240,
    "start_time": "2022-02-09T14:23:18.807Z"
   },
   {
    "duration": 239,
    "start_time": "2022-02-09T14:23:18.809Z"
   },
   {
    "duration": 238,
    "start_time": "2022-02-09T14:23:18.811Z"
   },
   {
    "duration": 237,
    "start_time": "2022-02-09T14:23:18.814Z"
   },
   {
    "duration": 236,
    "start_time": "2022-02-09T14:23:18.816Z"
   },
   {
    "duration": 1107,
    "start_time": "2022-02-25T19:15:05.441Z"
   },
   {
    "duration": 10,
    "start_time": "2022-02-25T19:15:06.550Z"
   },
   {
    "duration": 8,
    "start_time": "2022-02-25T19:15:06.563Z"
   },
   {
    "duration": 7,
    "start_time": "2022-02-25T19:15:06.572Z"
   },
   {
    "duration": 12,
    "start_time": "2022-02-25T19:15:06.580Z"
   },
   {
    "duration": 5,
    "start_time": "2022-02-25T19:15:06.593Z"
   },
   {
    "duration": 13,
    "start_time": "2022-02-25T19:15:06.631Z"
   },
   {
    "duration": 12,
    "start_time": "2022-02-25T19:15:06.645Z"
   },
   {
    "duration": 13,
    "start_time": "2022-02-25T19:15:06.660Z"
   },
   {
    "duration": 9,
    "start_time": "2022-02-25T19:15:06.676Z"
   },
   {
    "duration": 460,
    "start_time": "2022-02-25T19:15:06.687Z"
   },
   {
    "duration": 6,
    "start_time": "2022-02-25T19:15:07.148Z"
   },
   {
    "duration": 17,
    "start_time": "2022-02-25T19:15:07.156Z"
   },
   {
    "duration": 881,
    "start_time": "2022-02-25T19:15:07.175Z"
   },
   {
    "duration": 19,
    "start_time": "2022-02-25T19:15:08.057Z"
   },
   {
    "duration": 450,
    "start_time": "2022-02-25T19:15:08.077Z"
   },
   {
    "duration": 535,
    "start_time": "2022-02-25T19:15:08.532Z"
   },
   {
    "duration": 330,
    "start_time": "2022-02-25T19:15:09.068Z"
   },
   {
    "duration": 4,
    "start_time": "2022-02-25T19:15:09.400Z"
   },
   {
    "duration": 379,
    "start_time": "2022-02-25T19:15:09.406Z"
   },
   {
    "duration": 4,
    "start_time": "2022-02-25T19:15:09.786Z"
   },
   {
    "duration": 545,
    "start_time": "2022-02-25T19:15:09.792Z"
   },
   {
    "duration": 19,
    "start_time": "2022-02-25T19:15:10.339Z"
   },
   {
    "duration": 271,
    "start_time": "2022-02-25T19:15:10.360Z"
   },
   {
    "duration": 520,
    "start_time": "2022-02-25T19:15:10.633Z"
   },
   {
    "duration": 12,
    "start_time": "2022-02-25T19:15:11.155Z"
   },
   {
    "duration": 12,
    "start_time": "2022-02-25T19:15:11.170Z"
   },
   {
    "duration": 12,
    "start_time": "2022-02-25T19:15:11.184Z"
   },
   {
    "duration": 42,
    "start_time": "2022-02-25T19:15:11.198Z"
   },
   {
    "duration": 12,
    "start_time": "2022-02-25T19:15:11.242Z"
   },
   {
    "duration": 11,
    "start_time": "2022-02-25T19:15:11.255Z"
   },
   {
    "duration": 8,
    "start_time": "2022-02-25T19:15:11.268Z"
   },
   {
    "duration": 8,
    "start_time": "2022-02-25T19:15:11.278Z"
   },
   {
    "duration": 132,
    "start_time": "2022-02-25T19:17:24.144Z"
   },
   {
    "duration": 574,
    "start_time": "2022-02-25T19:40:03.878Z"
   },
   {
    "duration": 1271,
    "start_time": "2022-06-21T15:17:17.820Z"
   },
   {
    "duration": 16,
    "start_time": "2022-06-21T15:17:19.093Z"
   },
   {
    "duration": 8,
    "start_time": "2022-06-21T15:17:19.110Z"
   },
   {
    "duration": 17,
    "start_time": "2022-06-21T15:17:19.122Z"
   },
   {
    "duration": 28,
    "start_time": "2022-06-21T15:17:19.141Z"
   },
   {
    "duration": 7,
    "start_time": "2022-06-21T15:17:19.172Z"
   },
   {
    "duration": 39,
    "start_time": "2022-06-21T15:17:19.180Z"
   },
   {
    "duration": 137,
    "start_time": "2022-06-21T15:17:19.221Z"
   },
   {
    "duration": 0,
    "start_time": "2022-06-21T15:17:19.361Z"
   },
   {
    "duration": 0,
    "start_time": "2022-06-21T15:17:19.362Z"
   },
   {
    "duration": 0,
    "start_time": "2022-06-21T15:17:19.363Z"
   },
   {
    "duration": 0,
    "start_time": "2022-06-21T15:17:19.366Z"
   },
   {
    "duration": 0,
    "start_time": "2022-06-21T15:17:19.367Z"
   },
   {
    "duration": 0,
    "start_time": "2022-06-21T15:17:19.368Z"
   },
   {
    "duration": 0,
    "start_time": "2022-06-21T15:17:19.369Z"
   },
   {
    "duration": 0,
    "start_time": "2022-06-21T15:17:19.370Z"
   },
   {
    "duration": 0,
    "start_time": "2022-06-21T15:17:19.371Z"
   },
   {
    "duration": 0,
    "start_time": "2022-06-21T15:17:19.372Z"
   },
   {
    "duration": 0,
    "start_time": "2022-06-21T15:17:19.373Z"
   },
   {
    "duration": 0,
    "start_time": "2022-06-21T15:17:19.374Z"
   },
   {
    "duration": 0,
    "start_time": "2022-06-21T15:17:19.376Z"
   },
   {
    "duration": 0,
    "start_time": "2022-06-21T15:17:19.377Z"
   },
   {
    "duration": 0,
    "start_time": "2022-06-21T15:17:19.378Z"
   },
   {
    "duration": 0,
    "start_time": "2022-06-21T15:17:19.379Z"
   },
   {
    "duration": 0,
    "start_time": "2022-06-21T15:17:19.380Z"
   },
   {
    "duration": 0,
    "start_time": "2022-06-21T15:17:19.381Z"
   },
   {
    "duration": 0,
    "start_time": "2022-06-21T15:17:19.383Z"
   },
   {
    "duration": 0,
    "start_time": "2022-06-21T15:17:19.384Z"
   },
   {
    "duration": 0,
    "start_time": "2022-06-21T15:17:19.385Z"
   },
   {
    "duration": 0,
    "start_time": "2022-06-21T15:17:19.424Z"
   },
   {
    "duration": 0,
    "start_time": "2022-06-21T15:17:19.424Z"
   },
   {
    "duration": 0,
    "start_time": "2022-06-21T15:17:19.425Z"
   },
   {
    "duration": 0,
    "start_time": "2022-06-21T15:17:19.426Z"
   },
   {
    "duration": 1376,
    "start_time": "2022-06-21T15:18:08.346Z"
   },
   {
    "duration": 21,
    "start_time": "2022-06-21T15:18:09.726Z"
   },
   {
    "duration": 15,
    "start_time": "2022-06-21T15:18:09.749Z"
   },
   {
    "duration": 13,
    "start_time": "2022-06-21T15:18:09.766Z"
   },
   {
    "duration": 45,
    "start_time": "2022-06-21T15:18:09.781Z"
   },
   {
    "duration": 10,
    "start_time": "2022-06-21T15:18:09.832Z"
   },
   {
    "duration": 12,
    "start_time": "2022-06-21T15:18:09.844Z"
   },
   {
    "duration": 133,
    "start_time": "2022-06-21T15:18:09.858Z"
   },
   {
    "duration": 0,
    "start_time": "2022-06-21T15:18:09.994Z"
   },
   {
    "duration": 0,
    "start_time": "2022-06-21T15:18:09.996Z"
   },
   {
    "duration": 0,
    "start_time": "2022-06-21T15:18:09.997Z"
   },
   {
    "duration": 0,
    "start_time": "2022-06-21T15:18:10.000Z"
   },
   {
    "duration": 0,
    "start_time": "2022-06-21T15:18:10.002Z"
   },
   {
    "duration": 0,
    "start_time": "2022-06-21T15:18:10.003Z"
   },
   {
    "duration": 0,
    "start_time": "2022-06-21T15:18:10.004Z"
   },
   {
    "duration": 0,
    "start_time": "2022-06-21T15:18:10.027Z"
   },
   {
    "duration": 0,
    "start_time": "2022-06-21T15:18:10.028Z"
   },
   {
    "duration": 0,
    "start_time": "2022-06-21T15:18:10.028Z"
   },
   {
    "duration": 0,
    "start_time": "2022-06-21T15:18:10.030Z"
   },
   {
    "duration": 0,
    "start_time": "2022-06-21T15:18:10.034Z"
   },
   {
    "duration": 0,
    "start_time": "2022-06-21T15:18:10.035Z"
   },
   {
    "duration": 0,
    "start_time": "2022-06-21T15:18:10.036Z"
   },
   {
    "duration": 0,
    "start_time": "2022-06-21T15:18:10.038Z"
   },
   {
    "duration": 0,
    "start_time": "2022-06-21T15:18:10.039Z"
   },
   {
    "duration": 0,
    "start_time": "2022-06-21T15:18:10.040Z"
   },
   {
    "duration": 0,
    "start_time": "2022-06-21T15:18:10.041Z"
   },
   {
    "duration": 0,
    "start_time": "2022-06-21T15:18:10.044Z"
   },
   {
    "duration": 0,
    "start_time": "2022-06-21T15:18:10.045Z"
   },
   {
    "duration": 0,
    "start_time": "2022-06-21T15:18:10.050Z"
   },
   {
    "duration": 0,
    "start_time": "2022-06-21T15:18:10.051Z"
   },
   {
    "duration": 0,
    "start_time": "2022-06-21T15:18:10.051Z"
   },
   {
    "duration": 0,
    "start_time": "2022-06-21T15:18:10.052Z"
   },
   {
    "duration": 0,
    "start_time": "2022-06-21T15:18:10.054Z"
   },
   {
    "duration": 25,
    "start_time": "2022-06-21T15:19:13.916Z"
   },
   {
    "duration": 17,
    "start_time": "2022-06-21T15:19:31.072Z"
   },
   {
    "duration": 18,
    "start_time": "2022-06-21T15:20:06.628Z"
   },
   {
    "duration": 25,
    "start_time": "2022-06-21T15:21:26.408Z"
   },
   {
    "duration": 14,
    "start_time": "2022-06-21T15:23:38.896Z"
   },
   {
    "duration": 1176,
    "start_time": "2022-06-21T15:24:06.683Z"
   },
   {
    "duration": 23,
    "start_time": "2022-06-21T15:24:07.861Z"
   },
   {
    "duration": 9,
    "start_time": "2022-06-21T15:24:07.886Z"
   },
   {
    "duration": 26,
    "start_time": "2022-06-21T15:24:07.898Z"
   },
   {
    "duration": 23,
    "start_time": "2022-06-21T15:24:07.925Z"
   },
   {
    "duration": 9,
    "start_time": "2022-06-21T15:24:07.950Z"
   },
   {
    "duration": 15,
    "start_time": "2022-06-21T15:24:07.960Z"
   },
   {
    "duration": 118,
    "start_time": "2022-06-21T15:24:07.977Z"
   },
   {
    "duration": 0,
    "start_time": "2022-06-21T15:24:08.098Z"
   },
   {
    "duration": 0,
    "start_time": "2022-06-21T15:24:08.099Z"
   },
   {
    "duration": 0,
    "start_time": "2022-06-21T15:24:08.100Z"
   },
   {
    "duration": 0,
    "start_time": "2022-06-21T15:24:08.101Z"
   },
   {
    "duration": 0,
    "start_time": "2022-06-21T15:24:08.103Z"
   },
   {
    "duration": 0,
    "start_time": "2022-06-21T15:24:08.104Z"
   },
   {
    "duration": 0,
    "start_time": "2022-06-21T15:24:08.126Z"
   },
   {
    "duration": 1,
    "start_time": "2022-06-21T15:24:08.127Z"
   },
   {
    "duration": 0,
    "start_time": "2022-06-21T15:24:08.129Z"
   },
   {
    "duration": 0,
    "start_time": "2022-06-21T15:24:08.130Z"
   },
   {
    "duration": 0,
    "start_time": "2022-06-21T15:24:08.131Z"
   },
   {
    "duration": 0,
    "start_time": "2022-06-21T15:24:08.133Z"
   },
   {
    "duration": 0,
    "start_time": "2022-06-21T15:24:08.135Z"
   },
   {
    "duration": 0,
    "start_time": "2022-06-21T15:24:08.135Z"
   },
   {
    "duration": 0,
    "start_time": "2022-06-21T15:24:08.137Z"
   },
   {
    "duration": 0,
    "start_time": "2022-06-21T15:24:08.138Z"
   },
   {
    "duration": 0,
    "start_time": "2022-06-21T15:24:08.139Z"
   },
   {
    "duration": 0,
    "start_time": "2022-06-21T15:24:08.141Z"
   },
   {
    "duration": 0,
    "start_time": "2022-06-21T15:24:08.142Z"
   },
   {
    "duration": 0,
    "start_time": "2022-06-21T15:24:08.143Z"
   },
   {
    "duration": 0,
    "start_time": "2022-06-21T15:24:08.144Z"
   },
   {
    "duration": 0,
    "start_time": "2022-06-21T15:24:08.145Z"
   },
   {
    "duration": 0,
    "start_time": "2022-06-21T15:24:08.146Z"
   },
   {
    "duration": 0,
    "start_time": "2022-06-21T15:24:08.147Z"
   },
   {
    "duration": 0,
    "start_time": "2022-06-21T15:24:08.148Z"
   },
   {
    "duration": 14,
    "start_time": "2022-06-21T15:25:12.375Z"
   },
   {
    "duration": 1244,
    "start_time": "2022-06-21T15:25:24.810Z"
   },
   {
    "duration": 16,
    "start_time": "2022-06-21T15:25:26.056Z"
   },
   {
    "duration": 7,
    "start_time": "2022-06-21T15:25:26.073Z"
   },
   {
    "duration": 10,
    "start_time": "2022-06-21T15:25:26.082Z"
   },
   {
    "duration": 40,
    "start_time": "2022-06-21T15:25:26.095Z"
   },
   {
    "duration": 5,
    "start_time": "2022-06-21T15:25:26.137Z"
   },
   {
    "duration": 10,
    "start_time": "2022-06-21T15:25:26.144Z"
   },
   {
    "duration": 20,
    "start_time": "2022-06-21T15:25:26.156Z"
   },
   {
    "duration": 18,
    "start_time": "2022-06-21T15:25:26.178Z"
   },
   {
    "duration": 9,
    "start_time": "2022-06-21T15:25:26.224Z"
   },
   {
    "duration": 564,
    "start_time": "2022-06-21T15:25:26.235Z"
   },
   {
    "duration": 7,
    "start_time": "2022-06-21T15:25:26.801Z"
   },
   {
    "duration": 29,
    "start_time": "2022-06-21T15:25:26.809Z"
   },
   {
    "duration": 1040,
    "start_time": "2022-06-21T15:25:26.841Z"
   },
   {
    "duration": 27,
    "start_time": "2022-06-21T15:25:27.883Z"
   },
   {
    "duration": 438,
    "start_time": "2022-06-21T15:25:27.911Z"
   },
   {
    "duration": 496,
    "start_time": "2022-06-21T15:25:28.351Z"
   },
   {
    "duration": 198,
    "start_time": "2022-06-21T15:25:28.849Z"
   },
   {
    "duration": 6,
    "start_time": "2022-06-21T15:25:29.048Z"
   },
   {
    "duration": 201,
    "start_time": "2022-06-21T15:25:29.055Z"
   },
   {
    "duration": 5,
    "start_time": "2022-06-21T15:25:29.257Z"
   },
   {
    "duration": 297,
    "start_time": "2022-06-21T15:25:29.264Z"
   },
   {
    "duration": 25,
    "start_time": "2022-06-21T15:25:29.563Z"
   },
   {
    "duration": 236,
    "start_time": "2022-06-21T15:25:29.589Z"
   },
   {
    "duration": 485,
    "start_time": "2022-06-21T15:25:29.827Z"
   },
   {
    "duration": 20,
    "start_time": "2022-06-21T15:25:30.313Z"
   },
   {
    "duration": 23,
    "start_time": "2022-06-21T15:25:30.335Z"
   },
   {
    "duration": 22,
    "start_time": "2022-06-21T15:25:30.360Z"
   },
   {
    "duration": 39,
    "start_time": "2022-06-21T15:25:30.384Z"
   },
   {
    "duration": 29,
    "start_time": "2022-06-21T15:25:30.426Z"
   },
   {
    "duration": 32,
    "start_time": "2022-06-21T15:25:30.457Z"
   },
   {
    "duration": 30,
    "start_time": "2022-06-21T15:25:30.491Z"
   },
   {
    "duration": 39,
    "start_time": "2022-06-21T15:25:30.523Z"
   },
   {
    "duration": 122,
    "start_time": "2022-06-21T15:44:23.391Z"
   },
   {
    "duration": 23,
    "start_time": "2022-06-21T15:44:31.767Z"
   },
   {
    "duration": 1307,
    "start_time": "2022-06-21T15:44:57.591Z"
   },
   {
    "duration": 15,
    "start_time": "2022-06-21T15:44:58.900Z"
   },
   {
    "duration": 29,
    "start_time": "2022-06-21T15:44:58.918Z"
   },
   {
    "duration": 25,
    "start_time": "2022-06-21T15:44:58.949Z"
   },
   {
    "duration": 30,
    "start_time": "2022-06-21T15:44:58.976Z"
   },
   {
    "duration": 13,
    "start_time": "2022-06-21T15:44:59.008Z"
   },
   {
    "duration": 36,
    "start_time": "2022-06-21T15:44:59.023Z"
   },
   {
    "duration": 128,
    "start_time": "2022-06-21T15:44:59.061Z"
   },
   {
    "duration": 0,
    "start_time": "2022-06-21T15:44:59.191Z"
   },
   {
    "duration": 0,
    "start_time": "2022-06-21T15:44:59.193Z"
   },
   {
    "duration": 0,
    "start_time": "2022-06-21T15:44:59.196Z"
   },
   {
    "duration": 0,
    "start_time": "2022-06-21T15:44:59.198Z"
   },
   {
    "duration": 0,
    "start_time": "2022-06-21T15:44:59.199Z"
   },
   {
    "duration": 0,
    "start_time": "2022-06-21T15:44:59.202Z"
   },
   {
    "duration": 0,
    "start_time": "2022-06-21T15:44:59.205Z"
   },
   {
    "duration": 0,
    "start_time": "2022-06-21T15:44:59.206Z"
   },
   {
    "duration": 0,
    "start_time": "2022-06-21T15:44:59.225Z"
   },
   {
    "duration": 0,
    "start_time": "2022-06-21T15:44:59.226Z"
   },
   {
    "duration": 0,
    "start_time": "2022-06-21T15:44:59.229Z"
   },
   {
    "duration": 0,
    "start_time": "2022-06-21T15:44:59.230Z"
   },
   {
    "duration": 0,
    "start_time": "2022-06-21T15:44:59.234Z"
   },
   {
    "duration": 0,
    "start_time": "2022-06-21T15:44:59.235Z"
   },
   {
    "duration": 0,
    "start_time": "2022-06-21T15:44:59.236Z"
   },
   {
    "duration": 0,
    "start_time": "2022-06-21T15:44:59.237Z"
   },
   {
    "duration": 0,
    "start_time": "2022-06-21T15:44:59.238Z"
   },
   {
    "duration": 0,
    "start_time": "2022-06-21T15:44:59.239Z"
   },
   {
    "duration": 0,
    "start_time": "2022-06-21T15:44:59.240Z"
   },
   {
    "duration": 0,
    "start_time": "2022-06-21T15:44:59.240Z"
   },
   {
    "duration": 0,
    "start_time": "2022-06-21T15:44:59.241Z"
   },
   {
    "duration": 0,
    "start_time": "2022-06-21T15:44:59.245Z"
   },
   {
    "duration": 0,
    "start_time": "2022-06-21T15:44:59.247Z"
   },
   {
    "duration": 0,
    "start_time": "2022-06-21T15:44:59.249Z"
   },
   {
    "duration": 0,
    "start_time": "2022-06-21T15:44:59.250Z"
   },
   {
    "duration": 11,
    "start_time": "2022-06-21T15:45:40.571Z"
   },
   {
    "duration": 21,
    "start_time": "2022-06-21T15:45:44.016Z"
   },
   {
    "duration": 10,
    "start_time": "2022-06-21T15:45:51.470Z"
   },
   {
    "duration": 22,
    "start_time": "2022-06-21T15:45:58.966Z"
   },
   {
    "duration": 25,
    "start_time": "2022-06-21T15:55:51.223Z"
   },
   {
    "duration": 1415,
    "start_time": "2022-06-21T15:56:02.193Z"
   },
   {
    "duration": 29,
    "start_time": "2022-06-21T15:56:03.611Z"
   },
   {
    "duration": 12,
    "start_time": "2022-06-21T15:56:03.644Z"
   },
   {
    "duration": 20,
    "start_time": "2022-06-21T15:56:03.658Z"
   },
   {
    "duration": 17,
    "start_time": "2022-06-21T15:56:03.680Z"
   },
   {
    "duration": 5,
    "start_time": "2022-06-21T15:56:03.699Z"
   },
   {
    "duration": 9,
    "start_time": "2022-06-21T15:56:03.706Z"
   },
   {
    "duration": 28,
    "start_time": "2022-06-21T15:56:03.716Z"
   },
   {
    "duration": 32,
    "start_time": "2022-06-21T15:56:03.751Z"
   },
   {
    "duration": 8,
    "start_time": "2022-06-21T15:56:03.786Z"
   },
   {
    "duration": 598,
    "start_time": "2022-06-21T15:56:03.795Z"
   },
   {
    "duration": 8,
    "start_time": "2022-06-21T15:56:04.396Z"
   },
   {
    "duration": 44,
    "start_time": "2022-06-21T15:56:04.406Z"
   },
   {
    "duration": 1153,
    "start_time": "2022-06-21T15:56:04.457Z"
   },
   {
    "duration": 43,
    "start_time": "2022-06-21T15:56:05.612Z"
   },
   {
    "duration": 453,
    "start_time": "2022-06-21T15:56:05.657Z"
   },
   {
    "duration": 543,
    "start_time": "2022-06-21T15:56:06.111Z"
   },
   {
    "duration": 218,
    "start_time": "2022-06-21T15:56:06.657Z"
   },
   {
    "duration": 5,
    "start_time": "2022-06-21T15:56:06.877Z"
   },
   {
    "duration": 208,
    "start_time": "2022-06-21T15:56:06.884Z"
   },
   {
    "duration": 5,
    "start_time": "2022-06-21T15:56:07.094Z"
   },
   {
    "duration": 342,
    "start_time": "2022-06-21T15:56:07.101Z"
   },
   {
    "duration": 29,
    "start_time": "2022-06-21T15:56:07.445Z"
   },
   {
    "duration": 259,
    "start_time": "2022-06-21T15:56:07.476Z"
   },
   {
    "duration": 537,
    "start_time": "2022-06-21T15:56:07.738Z"
   },
   {
    "duration": 18,
    "start_time": "2022-06-21T15:56:08.277Z"
   },
   {
    "duration": 49,
    "start_time": "2022-06-21T15:56:08.297Z"
   },
   {
    "duration": 35,
    "start_time": "2022-06-21T15:56:08.348Z"
   },
   {
    "duration": 16,
    "start_time": "2022-06-21T15:56:08.384Z"
   },
   {
    "duration": 33,
    "start_time": "2022-06-21T15:56:08.402Z"
   },
   {
    "duration": 25,
    "start_time": "2022-06-21T15:56:08.441Z"
   },
   {
    "duration": 19,
    "start_time": "2022-06-21T15:56:08.470Z"
   },
   {
    "duration": 23,
    "start_time": "2022-06-21T15:56:08.491Z"
   }
  ],
  "kernelspec": {
   "display_name": "Python 3 (ipykernel)",
   "language": "python",
   "name": "python3"
  },
  "language_info": {
   "codemirror_mode": {
    "name": "ipython",
    "version": 3
   },
   "file_extension": ".py",
   "mimetype": "text/x-python",
   "name": "python",
   "nbconvert_exporter": "python",
   "pygments_lexer": "ipython3",
   "version": "3.9.5"
  },
  "toc": {
   "base_numbering": 1,
   "nav_menu": {},
   "number_sections": true,
   "sideBar": true,
   "skip_h1_title": true,
   "title_cell": "Table of Contents",
   "title_sidebar": "Contents",
   "toc_cell": false,
   "toc_position": {
    "height": "calc(100% - 180px)",
    "left": "10px",
    "top": "150px",
    "width": "165px"
   },
   "toc_section_display": true,
   "toc_window_display": true
  }
 },
 "nbformat": 4,
 "nbformat_minor": 2
}
