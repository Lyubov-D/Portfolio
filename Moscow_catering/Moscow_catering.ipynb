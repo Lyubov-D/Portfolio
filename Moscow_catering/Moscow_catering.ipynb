{
 "cells": [
  {
   "cell_type": "markdown",
   "metadata": {},
   "source": [
    "# Анализ рынка заведений общественного питания Москвы\n",
    "\n",
    "Решили открыть небольшое кафе в Москве. Гостей в кафе должны обслуживать роботы. Необходимо привлечь инвесторов.\n",
    "Инвесторы готовы предоставить финансовую помощь на проект, но им важно понимать состояние дел на рынке общественного питания в Москве.\n",
    "\n",
    "План:\n",
    "- Исследуем соотношение видов объектов общественного питания по количеству;\n",
    "- Исследуем количество сетевых и несетевых заведений;\n",
    "- Посмотрим, для какого вида характерно сетевое распространение;\n",
    "- Узнаем,много заведений с небольшим числом посадочных мест в каждом или мало заведений с большим количеством посадочных мест;\n",
    "- Для каждого вида объекта общественного питания опишем среднее количество посадочных мест. Какой вид предоставляет в среднем самое большое количество посадочных мест;\n",
    "- Выделим в отдельный столбец информацию об улице из столбца address;\n",
    "- Построим график топ-10 улиц по количеству объектов общественного питания. Узнаем, в каких районах Москвы находятся эти улицы;\n",
    "- Найдем число улиц с одним объектом общественного питания. Ответим на вопрос — в каких районах Москвы находятся эти улицы?;\n",
    "- Посмотрим на распределение количества посадочных мест для улиц с большим количеством объектов общественного питания. Выявим закономерности.\n",
    "\n",
    "**Описание данных**\n",
    "\n",
    "- id — идентификатор объекта;\n",
    "- object_name — название объекта общественного питания;\n",
    "- chain — сетевой ресторан;\n",
    "- object_type — тип объекта общественного питания;\n",
    "- address — адрес;\n",
    "- number — количество посадочных мест."
   ]
  },
  {
   "cell_type": "markdown",
   "metadata": {},
   "source": [
    "## Изучение данных из файла и подготовка к анализу"
   ]
  },
  {
   "cell_type": "code",
   "execution_count": 1,
   "metadata": {
    "scrolled": true
   },
   "outputs": [
    {
     "data": {
      "text/html": [
       "<div>\n",
       "<style scoped>\n",
       "    .dataframe tbody tr th:only-of-type {\n",
       "        vertical-align: middle;\n",
       "    }\n",
       "\n",
       "    .dataframe tbody tr th {\n",
       "        vertical-align: top;\n",
       "    }\n",
       "\n",
       "    .dataframe thead th {\n",
       "        text-align: right;\n",
       "    }\n",
       "</style>\n",
       "<table border=\"1\" class=\"dataframe\">\n",
       "  <thead>\n",
       "    <tr style=\"text-align: right;\">\n",
       "      <th></th>\n",
       "      <th>id</th>\n",
       "      <th>object_name</th>\n",
       "      <th>chain</th>\n",
       "      <th>object_type</th>\n",
       "      <th>address</th>\n",
       "      <th>number</th>\n",
       "    </tr>\n",
       "  </thead>\n",
       "  <tbody>\n",
       "    <tr>\n",
       "      <th>0</th>\n",
       "      <td>151635</td>\n",
       "      <td>СМЕТАНА</td>\n",
       "      <td>нет</td>\n",
       "      <td>кафе</td>\n",
       "      <td>город Москва, улица Егора Абакумова, дом 9</td>\n",
       "      <td>48</td>\n",
       "    </tr>\n",
       "    <tr>\n",
       "      <th>1</th>\n",
       "      <td>77874</td>\n",
       "      <td>Родник</td>\n",
       "      <td>нет</td>\n",
       "      <td>кафе</td>\n",
       "      <td>город Москва, улица Талалихина, дом 2/1, корпус 1</td>\n",
       "      <td>35</td>\n",
       "    </tr>\n",
       "    <tr>\n",
       "      <th>2</th>\n",
       "      <td>24309</td>\n",
       "      <td>Кафе «Академия»</td>\n",
       "      <td>нет</td>\n",
       "      <td>кафе</td>\n",
       "      <td>город Москва, Абельмановская улица, дом 6</td>\n",
       "      <td>95</td>\n",
       "    </tr>\n",
       "    <tr>\n",
       "      <th>3</th>\n",
       "      <td>21894</td>\n",
       "      <td>ПИЦЦЕТОРИЯ</td>\n",
       "      <td>да</td>\n",
       "      <td>кафе</td>\n",
       "      <td>город Москва, Абрамцевская улица, дом 1</td>\n",
       "      <td>40</td>\n",
       "    </tr>\n",
       "    <tr>\n",
       "      <th>4</th>\n",
       "      <td>119365</td>\n",
       "      <td>Кафе «Вишневая метель»</td>\n",
       "      <td>нет</td>\n",
       "      <td>кафе</td>\n",
       "      <td>город Москва, Абрамцевская улица, дом 9, корпус 1</td>\n",
       "      <td>50</td>\n",
       "    </tr>\n",
       "    <tr>\n",
       "      <th>5</th>\n",
       "      <td>27429</td>\n",
       "      <td>СТОЛ. ПРИ ГОУ СОШ № 1051</td>\n",
       "      <td>нет</td>\n",
       "      <td>столовая</td>\n",
       "      <td>город Москва, Абрамцевская улица, дом 15, корп...</td>\n",
       "      <td>240</td>\n",
       "    </tr>\n",
       "    <tr>\n",
       "      <th>6</th>\n",
       "      <td>148815</td>\n",
       "      <td>Брусника</td>\n",
       "      <td>да</td>\n",
       "      <td>кафе</td>\n",
       "      <td>город Москва, переулок Сивцев Вражек, дом 6/2</td>\n",
       "      <td>10</td>\n",
       "    </tr>\n",
       "    <tr>\n",
       "      <th>7</th>\n",
       "      <td>20957</td>\n",
       "      <td>Буфет МТУСИ</td>\n",
       "      <td>нет</td>\n",
       "      <td>столовая</td>\n",
       "      <td>город Москва, Авиамоторная улица, дом 8, строе...</td>\n",
       "      <td>90</td>\n",
       "    </tr>\n",
       "    <tr>\n",
       "      <th>8</th>\n",
       "      <td>20958</td>\n",
       "      <td>КПФ СЕМЬЯ-1</td>\n",
       "      <td>нет</td>\n",
       "      <td>столовая</td>\n",
       "      <td>город Москва, Авиамоторная улица, дом 8, строе...</td>\n",
       "      <td>150</td>\n",
       "    </tr>\n",
       "    <tr>\n",
       "      <th>9</th>\n",
       "      <td>28858</td>\n",
       "      <td>Столовая МТУСИ</td>\n",
       "      <td>нет</td>\n",
       "      <td>столовая</td>\n",
       "      <td>город Москва, Авиамоторная улица, дом 8, строе...</td>\n",
       "      <td>120</td>\n",
       "    </tr>\n",
       "    <tr>\n",
       "      <th>10</th>\n",
       "      <td>148595</td>\n",
       "      <td>Пекарня 24</td>\n",
       "      <td>нет</td>\n",
       "      <td>закусочная</td>\n",
       "      <td>город Москва, Авиамоторная улица, дом 47</td>\n",
       "      <td>5</td>\n",
       "    </tr>\n",
       "    <tr>\n",
       "      <th>11</th>\n",
       "      <td>23394</td>\n",
       "      <td>Гогиели</td>\n",
       "      <td>нет</td>\n",
       "      <td>кафе</td>\n",
       "      <td>город Москва, Авиамоторная улица, дом 49/1</td>\n",
       "      <td>24</td>\n",
       "    </tr>\n",
       "    <tr>\n",
       "      <th>12</th>\n",
       "      <td>28582</td>\n",
       "      <td>ШКОЛА 735</td>\n",
       "      <td>нет</td>\n",
       "      <td>столовая</td>\n",
       "      <td>город Москва, Авиамоторная улица, дом 51</td>\n",
       "      <td>140</td>\n",
       "    </tr>\n",
       "    <tr>\n",
       "      <th>13</th>\n",
       "      <td>22579</td>\n",
       "      <td>Алло Пицца</td>\n",
       "      <td>да</td>\n",
       "      <td>кафе</td>\n",
       "      <td>город Москва, улица Авиаторов, дом 14</td>\n",
       "      <td>32</td>\n",
       "    </tr>\n",
       "    <tr>\n",
       "      <th>14</th>\n",
       "      <td>23670</td>\n",
       "      <td>Гимназия 1542</td>\n",
       "      <td>нет</td>\n",
       "      <td>столовая</td>\n",
       "      <td>город Москва, улица Авиаторов, дом 16</td>\n",
       "      <td>270</td>\n",
       "    </tr>\n",
       "    <tr>\n",
       "      <th>15</th>\n",
       "      <td>23663</td>\n",
       "      <td>Школа 1011</td>\n",
       "      <td>нет</td>\n",
       "      <td>столовая</td>\n",
       "      <td>город Москва, улица Авиаторов, дом 18</td>\n",
       "      <td>320</td>\n",
       "    </tr>\n",
       "    <tr>\n",
       "      <th>16</th>\n",
       "      <td>144107</td>\n",
       "      <td>Суши Wok</td>\n",
       "      <td>да</td>\n",
       "      <td>предприятие быстрого обслуживания</td>\n",
       "      <td>город Москва, Азовская улица, дом 3</td>\n",
       "      <td>7</td>\n",
       "    </tr>\n",
       "    <tr>\n",
       "      <th>17</th>\n",
       "      <td>154654</td>\n",
       "      <td>Донер Кебаб</td>\n",
       "      <td>нет</td>\n",
       "      <td>предприятие быстрого обслуживания</td>\n",
       "      <td>город Москва, Азовская улица, дом 4</td>\n",
       "      <td>2</td>\n",
       "    </tr>\n",
       "    <tr>\n",
       "      <th>18</th>\n",
       "      <td>58565</td>\n",
       "      <td>Тануки</td>\n",
       "      <td>да</td>\n",
       "      <td>ресторан</td>\n",
       "      <td>город Москва, Большая Академическая улица, дом 65</td>\n",
       "      <td>160</td>\n",
       "    </tr>\n",
       "    <tr>\n",
       "      <th>19</th>\n",
       "      <td>153644</td>\n",
       "      <td>Американская Лаборатория Десертов</td>\n",
       "      <td>нет</td>\n",
       "      <td>кафе</td>\n",
       "      <td>город Москва, Филипповский переулок, дом 15/5</td>\n",
       "      <td>20</td>\n",
       "    </tr>\n",
       "    <tr>\n",
       "      <th>20</th>\n",
       "      <td>21950</td>\n",
       "      <td>Кафе</td>\n",
       "      <td>нет</td>\n",
       "      <td>кафе</td>\n",
       "      <td>город Москва, Алтайская улица, дом 33/7</td>\n",
       "      <td>30</td>\n",
       "    </tr>\n",
       "    <tr>\n",
       "      <th>21</th>\n",
       "      <td>84832</td>\n",
       "      <td>КАФЕ УЮТ</td>\n",
       "      <td>нет</td>\n",
       "      <td>кафе</td>\n",
       "      <td>город Москва, Алтуфьевское шоссе, дом 14</td>\n",
       "      <td>110</td>\n",
       "    </tr>\n",
       "    <tr>\n",
       "      <th>22</th>\n",
       "      <td>26931</td>\n",
       "      <td>Долина Чайхона</td>\n",
       "      <td>нет</td>\n",
       "      <td>кафе</td>\n",
       "      <td>город Москва, Алтуфьевское шоссе, дом 14</td>\n",
       "      <td>150</td>\n",
       "    </tr>\n",
       "    <tr>\n",
       "      <th>23</th>\n",
       "      <td>28751</td>\n",
       "      <td>ГБОУ Школа № 1411 (970)</td>\n",
       "      <td>нет</td>\n",
       "      <td>столовая</td>\n",
       "      <td>город Москва, Алтуфьевское шоссе, дом 42Б</td>\n",
       "      <td>120</td>\n",
       "    </tr>\n",
       "    <tr>\n",
       "      <th>24</th>\n",
       "      <td>125608</td>\n",
       "      <td>Кафетерий</td>\n",
       "      <td>нет</td>\n",
       "      <td>кафетерий</td>\n",
       "      <td>город Москва, Алтуфьевское шоссе, дом 56</td>\n",
       "      <td>6</td>\n",
       "    </tr>\n",
       "    <tr>\n",
       "      <th>25</th>\n",
       "      <td>81554</td>\n",
       "      <td>Домино'с Пицца</td>\n",
       "      <td>да</td>\n",
       "      <td>кафе</td>\n",
       "      <td>город Москва, Алтуфьевское шоссе, дом 56</td>\n",
       "      <td>24</td>\n",
       "    </tr>\n",
       "    <tr>\n",
       "      <th>26</th>\n",
       "      <td>21304</td>\n",
       "      <td>РАХИМКУЛОВА Т.Х.</td>\n",
       "      <td>нет</td>\n",
       "      <td>буфет</td>\n",
       "      <td>город Москва, Алтуфьевское шоссе, дом 102Б</td>\n",
       "      <td>20</td>\n",
       "    </tr>\n",
       "    <tr>\n",
       "      <th>27</th>\n",
       "      <td>29223</td>\n",
       "      <td>СТОЛОВАЯ ПРИ ГУП ОБЪЕДИНЕННЫЙ КОМБИНАТ ШКОЛЬНО...</td>\n",
       "      <td>нет</td>\n",
       "      <td>столовая</td>\n",
       "      <td>город Москва, улица Амундсена, дом 10</td>\n",
       "      <td>192</td>\n",
       "    </tr>\n",
       "    <tr>\n",
       "      <th>28</th>\n",
       "      <td>27439</td>\n",
       "      <td>ШКОЛА 1444</td>\n",
       "      <td>нет</td>\n",
       "      <td>столовая</td>\n",
       "      <td>город Москва, Анадырский проезд, дом 55</td>\n",
       "      <td>240</td>\n",
       "    </tr>\n",
       "    <tr>\n",
       "      <th>29</th>\n",
       "      <td>22767</td>\n",
       "      <td>Мархал</td>\n",
       "      <td>нет</td>\n",
       "      <td>кафе</td>\n",
       "      <td>город Москва, Ангарская улица, дом 1, корпус 2</td>\n",
       "      <td>120</td>\n",
       "    </tr>\n",
       "  </tbody>\n",
       "</table>\n",
       "</div>"
      ],
      "text/plain": [
       "        id                                        object_name chain  \\\n",
       "0   151635                                            СМЕТАНА   нет   \n",
       "1    77874                                             Родник   нет   \n",
       "2    24309                                    Кафе «Академия»   нет   \n",
       "3    21894                                         ПИЦЦЕТОРИЯ    да   \n",
       "4   119365                             Кафе «Вишневая метель»   нет   \n",
       "5    27429                           СТОЛ. ПРИ ГОУ СОШ № 1051   нет   \n",
       "6   148815                                           Брусника    да   \n",
       "7    20957                                        Буфет МТУСИ   нет   \n",
       "8    20958                                        КПФ СЕМЬЯ-1   нет   \n",
       "9    28858                                     Столовая МТУСИ   нет   \n",
       "10  148595                                         Пекарня 24   нет   \n",
       "11   23394                                            Гогиели   нет   \n",
       "12   28582                                          ШКОЛА 735   нет   \n",
       "13   22579                                         Алло Пицца    да   \n",
       "14   23670                                      Гимназия 1542   нет   \n",
       "15   23663                                         Школа 1011   нет   \n",
       "16  144107                                           Суши Wok    да   \n",
       "17  154654                                        Донер Кебаб   нет   \n",
       "18   58565                                             Тануки    да   \n",
       "19  153644                  Американская Лаборатория Десертов   нет   \n",
       "20   21950                                               Кафе   нет   \n",
       "21   84832                                           КАФЕ УЮТ   нет   \n",
       "22   26931                                     Долина Чайхона   нет   \n",
       "23   28751                            ГБОУ Школа № 1411 (970)   нет   \n",
       "24  125608                                          Кафетерий   нет   \n",
       "25   81554                                     Домино'с Пицца    да   \n",
       "26   21304                                   РАХИМКУЛОВА Т.Х.   нет   \n",
       "27   29223  СТОЛОВАЯ ПРИ ГУП ОБЪЕДИНЕННЫЙ КОМБИНАТ ШКОЛЬНО...   нет   \n",
       "28   27439                                         ШКОЛА 1444   нет   \n",
       "29   22767                                             Мархал   нет   \n",
       "\n",
       "                          object_type  \\\n",
       "0                                кафе   \n",
       "1                                кафе   \n",
       "2                                кафе   \n",
       "3                                кафе   \n",
       "4                                кафе   \n",
       "5                            столовая   \n",
       "6                                кафе   \n",
       "7                            столовая   \n",
       "8                            столовая   \n",
       "9                            столовая   \n",
       "10                         закусочная   \n",
       "11                               кафе   \n",
       "12                           столовая   \n",
       "13                               кафе   \n",
       "14                           столовая   \n",
       "15                           столовая   \n",
       "16  предприятие быстрого обслуживания   \n",
       "17  предприятие быстрого обслуживания   \n",
       "18                           ресторан   \n",
       "19                               кафе   \n",
       "20                               кафе   \n",
       "21                               кафе   \n",
       "22                               кафе   \n",
       "23                           столовая   \n",
       "24                          кафетерий   \n",
       "25                               кафе   \n",
       "26                              буфет   \n",
       "27                           столовая   \n",
       "28                           столовая   \n",
       "29                               кафе   \n",
       "\n",
       "                                              address  number  \n",
       "0          город Москва, улица Егора Абакумова, дом 9      48  \n",
       "1   город Москва, улица Талалихина, дом 2/1, корпус 1      35  \n",
       "2           город Москва, Абельмановская улица, дом 6      95  \n",
       "3             город Москва, Абрамцевская улица, дом 1      40  \n",
       "4   город Москва, Абрамцевская улица, дом 9, корпус 1      50  \n",
       "5   город Москва, Абрамцевская улица, дом 15, корп...     240  \n",
       "6       город Москва, переулок Сивцев Вражек, дом 6/2      10  \n",
       "7   город Москва, Авиамоторная улица, дом 8, строе...      90  \n",
       "8   город Москва, Авиамоторная улица, дом 8, строе...     150  \n",
       "9   город Москва, Авиамоторная улица, дом 8, строе...     120  \n",
       "10           город Москва, Авиамоторная улица, дом 47       5  \n",
       "11         город Москва, Авиамоторная улица, дом 49/1      24  \n",
       "12           город Москва, Авиамоторная улица, дом 51     140  \n",
       "13              город Москва, улица Авиаторов, дом 14      32  \n",
       "14              город Москва, улица Авиаторов, дом 16     270  \n",
       "15              город Москва, улица Авиаторов, дом 18     320  \n",
       "16                город Москва, Азовская улица, дом 3       7  \n",
       "17                город Москва, Азовская улица, дом 4       2  \n",
       "18  город Москва, Большая Академическая улица, дом 65     160  \n",
       "19      город Москва, Филипповский переулок, дом 15/5      20  \n",
       "20            город Москва, Алтайская улица, дом 33/7      30  \n",
       "21           город Москва, Алтуфьевское шоссе, дом 14     110  \n",
       "22           город Москва, Алтуфьевское шоссе, дом 14     150  \n",
       "23          город Москва, Алтуфьевское шоссе, дом 42Б     120  \n",
       "24           город Москва, Алтуфьевское шоссе, дом 56       6  \n",
       "25           город Москва, Алтуфьевское шоссе, дом 56      24  \n",
       "26         город Москва, Алтуфьевское шоссе, дом 102Б      20  \n",
       "27              город Москва, улица Амундсена, дом 10     192  \n",
       "28            город Москва, Анадырский проезд, дом 55     240  \n",
       "29     город Москва, Ангарская улица, дом 1, корпус 2     120  "
      ]
     },
     "execution_count": 1,
     "metadata": {},
     "output_type": "execute_result"
    }
   ],
   "source": [
    "import pandas as pd\n",
    "import numpy as np\n",
    "import seaborn as sns\n",
    "from matplotlib import pyplot as plt\n",
    "rest_data = pd.read_csv('/datasets/rest_data.csv') # чтение файла с данными и сохранение в rest_data\n",
    "pd.set_option('display.max_columns',None) # отображаем все столбцы\n",
    "rest_data.head(30) # получение первых 10 строк таблицы rest_data"
   ]
  },
  {
   "cell_type": "code",
   "execution_count": 2,
   "metadata": {
    "scrolled": true
   },
   "outputs": [
    {
     "name": "stdout",
     "output_type": "stream",
     "text": [
      "<class 'pandas.core.frame.DataFrame'>\n",
      "RangeIndex: 15366 entries, 0 to 15365\n",
      "Data columns (total 6 columns):\n",
      " #   Column       Non-Null Count  Dtype \n",
      "---  ------       --------------  ----- \n",
      " 0   id           15366 non-null  int64 \n",
      " 1   object_name  15366 non-null  object\n",
      " 2   chain        15366 non-null  object\n",
      " 3   object_type  15366 non-null  object\n",
      " 4   address      15366 non-null  object\n",
      " 5   number       15366 non-null  int64 \n",
      "dtypes: int64(2), object(4)\n",
      "memory usage: 720.4+ KB\n"
     ]
    }
   ],
   "source": [
    "rest_data.info()"
   ]
  },
  {
   "cell_type": "code",
   "execution_count": 3,
   "metadata": {
    "scrolled": false
   },
   "outputs": [
    {
     "data": {
      "text/plain": [
       "id             0\n",
       "object_name    0\n",
       "chain          0\n",
       "object_type    0\n",
       "address        0\n",
       "number         0\n",
       "dtype: int64"
      ]
     },
     "metadata": {},
     "output_type": "display_data"
    }
   ],
   "source": [
    "display(rest_data.isna().sum()) # подсчёт пропусков"
   ]
  },
  {
   "cell_type": "code",
   "execution_count": 4,
   "metadata": {},
   "outputs": [
    {
     "data": {
      "text/plain": [
       "0                     сметана\n",
       "1                      родник\n",
       "2             кафе «академия»\n",
       "3                  пиццетория\n",
       "4      кафе «вишневая метель»\n",
       "5    стол. при гоу сош № 1051\n",
       "6                    брусника\n",
       "7                 буфет мтуси\n",
       "8                 кпф семья-1\n",
       "9              столовая мтуси\n",
       "Name: object_name, dtype: object"
      ]
     },
     "metadata": {},
     "output_type": "display_data"
    }
   ],
   "source": [
    "rest_data['object_name'] = rest_data['object_name'].str.lower() #приведем названия заведений к нижнему регистру\n",
    "display(rest_data['object_name'].head(10)) #проверим выполнение действия"
   ]
  },
  {
   "cell_type": "code",
   "execution_count": 5,
   "metadata": {},
   "outputs": [
    {
     "data": {
      "text/plain": [
       "id             0\n",
       "object_name    0\n",
       "chain          0\n",
       "object_type    0\n",
       "address        0\n",
       "number         0\n",
       "dtype: int64"
      ]
     },
     "execution_count": 5,
     "metadata": {},
     "output_type": "execute_result"
    }
   ],
   "source": [
    "rest_data.isna().sum() # посмотрим пропуски в данных"
   ]
  },
  {
   "cell_type": "code",
   "execution_count": 6,
   "metadata": {
    "scrolled": true
   },
   "outputs": [
    {
     "data": {
      "text/plain": [
       "0"
      ]
     },
     "metadata": {},
     "output_type": "display_data"
    }
   ],
   "source": [
    "display(rest_data.duplicated().sum())# подсчёт явных дубликатов"
   ]
  },
  {
   "cell_type": "code",
   "execution_count": 7,
   "metadata": {
    "scrolled": true
   },
   "outputs": [
    {
     "data": {
      "text/plain": [
       "5442"
      ]
     },
     "execution_count": 7,
     "metadata": {},
     "output_type": "execute_result"
    }
   ],
   "source": [
    "rest_data['object_name'].duplicated().sum() # подсчёт явных дубликатов в столбце object_name"
   ]
  },
  {
   "cell_type": "code",
   "execution_count": 8,
   "metadata": {
    "scrolled": true
   },
   "outputs": [
    {
     "data": {
      "text/plain": [
       "6258"
      ]
     },
     "execution_count": 8,
     "metadata": {},
     "output_type": "execute_result"
    }
   ],
   "source": [
    "rest_data['address'].duplicated().sum() # подсчёт явных дубликатов в столбце address"
   ]
  },
  {
   "cell_type": "code",
   "execution_count": 9,
   "metadata": {},
   "outputs": [
    {
     "data": {
      "text/plain": [
       "15051"
      ]
     },
     "execution_count": 9,
     "metadata": {},
     "output_type": "execute_result"
    }
   ],
   "source": [
    "rest_data['number'].duplicated().sum() # подсчёт явных дубликатов в столбце number"
   ]
  },
  {
   "cell_type": "markdown",
   "metadata": {},
   "source": [
    "**Вывод**\n",
    "\n",
    "Данные столбца object_name указаны в разном регистре, привела к нижнему.\n",
    "\n",
    "Пропущенные данные не обнаружены.\n",
    "\n",
    "Были выявлены дубликаты в столбцах:\n",
    "\n",
    "- object_name - дубликаты в названиях заведений это возможно названия сетевых точек(не удаляем);\n",
    "- address - дубликаты в адресе возможно связаны с тем, что в одном здании находится несколько разных заведений(не удаляем);\n",
    "- number - дубликаты в количестве посадочных мест связаны с повторяющимся числом у различных заведений(не удаляем)."
   ]
  },
  {
   "cell_type": "markdown",
   "metadata": {},
   "source": [
    "## Анализ данных"
   ]
  },
  {
   "cell_type": "markdown",
   "metadata": {},
   "source": [
    "**Исследуем соотношение видов объектов общественного питания по количеству**"
   ]
  },
  {
   "cell_type": "code",
   "execution_count": 10,
   "metadata": {
    "scrolled": true
   },
   "outputs": [
    {
     "data": {
      "text/plain": [
       "кафе                                 6099\n",
       "столовая                             2587\n",
       "ресторан                             2285\n",
       "предприятие быстрого обслуживания    1923\n",
       "бар                                   856\n",
       "буфет                                 585\n",
       "кафетерий                             398\n",
       "закусочная                            360\n",
       "магазин (отдел кулинарии)             273\n",
       "Name: object_type, dtype: int64"
      ]
     },
     "metadata": {},
     "output_type": "display_data"
    }
   ],
   "source": [
    "types = rest_data['object_type'].value_counts() #посчитаем объекты общественного питания\n",
    "display(types)"
   ]
  },
  {
   "cell_type": "code",
   "execution_count": 11,
   "metadata": {
    "scrolled": true
   },
   "outputs": [
    {
     "data": {
      "image/png": "[encoded data removed]",
      "text/plain": [
       "<Figure size 432x288 with 1 Axes>"
      ]
     },
     "metadata": {
      "needs_background": "light"
     },
     "output_type": "display_data"
    }
   ],
   "source": [
    "types.plot(kind = 'bar', title = 'Объекты общественного питания') #построим график видов объектов общественного питания по их количеству\n",
    "plt.xlabel('Тип объекта')\n",
    "plt.ylabel('Количество объектов')\n",
    "plt.show()"
   ]
  },
  {
   "cell_type": "markdown",
   "metadata": {},
   "source": [
    "**Вывод**\n",
    "\n",
    "Больше всего кафе, столовых, ресторанов и предприятий быстрого обслуживания."
   ]
  },
  {
   "cell_type": "markdown",
   "metadata": {},
   "source": [
    "**Исследуем соотношение сетевых и несетевых заведений по количеству**"
   ]
  },
  {
   "cell_type": "code",
   "execution_count": 12,
   "metadata": {
    "scrolled": true
   },
   "outputs": [
    {
     "data": {
      "text/plain": [
       "нет    12398\n",
       "да      2968\n",
       "Name: chain, dtype: int64"
      ]
     },
     "metadata": {},
     "output_type": "display_data"
    }
   ],
   "source": [
    "chain = rest_data['chain'].value_counts() #посчитаем сетевые и несетевые заведения\n",
    "display(chain)"
   ]
  },
  {
   "cell_type": "code",
   "execution_count": 13,
   "metadata": {},
   "outputs": [
    {
     "data": {
      "image/png": "[encoded data removed]",
      "text/plain": [
       "<Figure size 432x288 with 1 Axes>"
      ]
     },
     "metadata": {
      "needs_background": "light"
     },
     "output_type": "display_data"
    }
   ],
   "source": [
    "chain.plot(kind = 'bar', title = 'Сетевые и несетевые объекты') #построим график сетевых и несетевых заведений \n",
    "plt.xlabel('Сеть/не сеть')\n",
    "plt.ylabel('Количество')\n",
    "plt.show()"
   ]
  },
  {
   "cell_type": "markdown",
   "metadata": {},
   "source": [
    "**Вывод**\n",
    "\n",
    "Несетевые заведения лидируют."
   ]
  },
  {
   "cell_type": "markdown",
   "metadata": {},
   "source": [
    "**Посмотрим для какого вида объекта общественного питания характерно сетевое распространение**"
   ]
  },
  {
   "cell_type": "code",
   "execution_count": 14,
   "metadata": {
    "scrolled": true
   },
   "outputs": [
    {
     "data": {
      "text/html": [
       "<div>\n",
       "<style scoped>\n",
       "    .dataframe tbody tr th:only-of-type {\n",
       "        vertical-align: middle;\n",
       "    }\n",
       "\n",
       "    .dataframe tbody tr th {\n",
       "        vertical-align: top;\n",
       "    }\n",
       "\n",
       "    .dataframe thead th {\n",
       "        text-align: right;\n",
       "    }\n",
       "</style>\n",
       "<table border=\"1\" class=\"dataframe\">\n",
       "  <thead>\n",
       "    <tr style=\"text-align: right;\">\n",
       "      <th></th>\n",
       "      <th>chain</th>\n",
       "    </tr>\n",
       "    <tr>\n",
       "      <th>object_type</th>\n",
       "      <th></th>\n",
       "    </tr>\n",
       "  </thead>\n",
       "  <tbody>\n",
       "    <tr>\n",
       "      <th>бар</th>\n",
       "      <td>37</td>\n",
       "    </tr>\n",
       "    <tr>\n",
       "      <th>буфет</th>\n",
       "      <td>11</td>\n",
       "    </tr>\n",
       "    <tr>\n",
       "      <th>закусочная</th>\n",
       "      <td>56</td>\n",
       "    </tr>\n",
       "    <tr>\n",
       "      <th>кафе</th>\n",
       "      <td>1396</td>\n",
       "    </tr>\n",
       "    <tr>\n",
       "      <th>кафетерий</th>\n",
       "      <td>52</td>\n",
       "    </tr>\n",
       "    <tr>\n",
       "      <th>магазин (отдел кулинарии)</th>\n",
       "      <td>78</td>\n",
       "    </tr>\n",
       "    <tr>\n",
       "      <th>предприятие быстрого обслуживания</th>\n",
       "      <td>791</td>\n",
       "    </tr>\n",
       "    <tr>\n",
       "      <th>ресторан</th>\n",
       "      <td>544</td>\n",
       "    </tr>\n",
       "    <tr>\n",
       "      <th>столовая</th>\n",
       "      <td>3</td>\n",
       "    </tr>\n",
       "  </tbody>\n",
       "</table>\n",
       "</div>"
      ],
      "text/plain": [
       "                                   chain\n",
       "object_type                             \n",
       "бар                                   37\n",
       "буфет                                 11\n",
       "закусочная                            56\n",
       "кафе                                1396\n",
       "кафетерий                             52\n",
       "магазин (отдел кулинарии)             78\n",
       "предприятие быстрого обслуживания    791\n",
       "ресторан                             544\n",
       "столовая                               3"
      ]
     },
     "execution_count": 14,
     "metadata": {},
     "output_type": "execute_result"
    }
   ],
   "source": [
    "chain_object = rest_data.query('chain == \"да\"') #выделяем сеть\n",
    "chain_yes = chain_object.pivot_table(index='object_type', values='chain',aggfunc='count') # посмотрим какие виды объектов общественного питания имеют сетевое распространение \n",
    "chain_yes"
   ]
  },
  {
   "cell_type": "code",
   "execution_count": 15,
   "metadata": {},
   "outputs": [
    {
     "data": {
      "text/html": [
       "<div>\n",
       "<style scoped>\n",
       "    .dataframe tbody tr th:only-of-type {\n",
       "        vertical-align: middle;\n",
       "    }\n",
       "\n",
       "    .dataframe tbody tr th {\n",
       "        vertical-align: top;\n",
       "    }\n",
       "\n",
       "    .dataframe thead th {\n",
       "        text-align: right;\n",
       "    }\n",
       "</style>\n",
       "<table border=\"1\" class=\"dataframe\">\n",
       "  <thead>\n",
       "    <tr style=\"text-align: right;\">\n",
       "      <th></th>\n",
       "      <th>chain</th>\n",
       "      <th>chain%</th>\n",
       "    </tr>\n",
       "    <tr>\n",
       "      <th>object_type</th>\n",
       "      <th></th>\n",
       "      <th></th>\n",
       "    </tr>\n",
       "  </thead>\n",
       "  <tbody>\n",
       "    <tr>\n",
       "      <th>бар</th>\n",
       "      <td>37</td>\n",
       "      <td>5.0</td>\n",
       "    </tr>\n",
       "    <tr>\n",
       "      <th>буфет</th>\n",
       "      <td>11</td>\n",
       "      <td>2.0</td>\n",
       "    </tr>\n",
       "    <tr>\n",
       "      <th>закусочная</th>\n",
       "      <td>56</td>\n",
       "      <td>16.0</td>\n",
       "    </tr>\n",
       "    <tr>\n",
       "      <th>кафе</th>\n",
       "      <td>1396</td>\n",
       "      <td>23.0</td>\n",
       "    </tr>\n",
       "    <tr>\n",
       "      <th>кафетерий</th>\n",
       "      <td>52</td>\n",
       "      <td>14.0</td>\n",
       "    </tr>\n",
       "    <tr>\n",
       "      <th>магазин (отдел кулинарии)</th>\n",
       "      <td>78</td>\n",
       "      <td>29.0</td>\n",
       "    </tr>\n",
       "    <tr>\n",
       "      <th>предприятие быстрого обслуживания</th>\n",
       "      <td>791</td>\n",
       "      <td>42.0</td>\n",
       "    </tr>\n",
       "    <tr>\n",
       "      <th>ресторан</th>\n",
       "      <td>544</td>\n",
       "      <td>24.0</td>\n",
       "    </tr>\n",
       "    <tr>\n",
       "      <th>столовая</th>\n",
       "      <td>3</td>\n",
       "      <td>1.0</td>\n",
       "    </tr>\n",
       "  </tbody>\n",
       "</table>\n",
       "</div>"
      ],
      "text/plain": [
       "                                   chain  chain%\n",
       "object_type                                     \n",
       "бар                                   37     5.0\n",
       "буфет                                 11     2.0\n",
       "закусочная                            56    16.0\n",
       "кафе                                1396    23.0\n",
       "кафетерий                             52    14.0\n",
       "магазин (отдел кулинарии)             78    29.0\n",
       "предприятие быстрого обслуживания    791    42.0\n",
       "ресторан                             544    24.0\n",
       "столовая                               3     1.0"
      ]
     },
     "execution_count": 15,
     "metadata": {},
     "output_type": "execute_result"
    }
   ],
   "source": [
    "chain_yes['chain%'] = chain_yes['chain'] /  types* 100 #найдем процент сетевых заведений от общего количества заведений\n",
    "chain_yes['chain%'] = chain_yes['chain%'].apply(np.ceil)\n",
    "chain_yes"
   ]
  },
  {
   "cell_type": "code",
   "execution_count": 16,
   "metadata": {},
   "outputs": [
    {
     "data": {
      "image/png": "[encoded data removed]",
      "text/plain": [
       "<Figure size 432x288 with 1 Axes>"
      ]
     },
     "metadata": {
      "needs_background": "light"
     },
     "output_type": "display_data"
    }
   ],
   "source": [
    "chain_yes = chain_yes.drop('chain', axis = 1) # удалим столбец chain\n",
    "chain_yes.plot(kind = 'bar', title = 'Процент сетевых заведений') # посмотрим на процент сетевых заведений общественного питания\n",
    "plt.xlabel('Тип заведения')\n",
    "plt.ylabel('Процент сетевых')\n",
    "plt.show()"
   ]
  },
  {
   "cell_type": "markdown",
   "metadata": {},
   "source": [
    "**Вывод**\n",
    "\n",
    "Наибольшую долю сетевых заведений имеют предприятия быстрого обслуживания - 42%. На втором месте магазины с отделом кулинарии -29%"
   ]
  },
  {
   "cell_type": "markdown",
   "metadata": {},
   "source": [
    "**Узнаем много заведений с небольшим числом посадочных мест или мало заведений с большим количеством посадочных мест?**"
   ]
  },
  {
   "cell_type": "code",
   "execution_count": 17,
   "metadata": {
    "scrolled": true
   },
   "outputs": [
    {
     "data": {
      "text/html": [
       "<div>\n",
       "<style scoped>\n",
       "    .dataframe tbody tr th:only-of-type {\n",
       "        vertical-align: middle;\n",
       "    }\n",
       "\n",
       "    .dataframe tbody tr th {\n",
       "        vertical-align: top;\n",
       "    }\n",
       "\n",
       "    .dataframe thead th {\n",
       "        text-align: right;\n",
       "    }\n",
       "</style>\n",
       "<table border=\"1\" class=\"dataframe\">\n",
       "  <thead>\n",
       "    <tr style=\"text-align: right;\">\n",
       "      <th></th>\n",
       "      <th>id</th>\n",
       "      <th>number</th>\n",
       "    </tr>\n",
       "    <tr>\n",
       "      <th>object_name</th>\n",
       "      <th></th>\n",
       "      <th></th>\n",
       "    </tr>\n",
       "  </thead>\n",
       "  <tbody>\n",
       "    <tr>\n",
       "      <th>шоколадница</th>\n",
       "      <td>157</td>\n",
       "      <td>57.18</td>\n",
       "    </tr>\n",
       "    <tr>\n",
       "      <th>kfc</th>\n",
       "      <td>155</td>\n",
       "      <td>55.34</td>\n",
       "    </tr>\n",
       "    <tr>\n",
       "      <th>макдоналдс</th>\n",
       "      <td>151</td>\n",
       "      <td>87.12</td>\n",
       "    </tr>\n",
       "    <tr>\n",
       "      <th>бургер кинг</th>\n",
       "      <td>137</td>\n",
       "      <td>46.65</td>\n",
       "    </tr>\n",
       "    <tr>\n",
       "      <th>теремок</th>\n",
       "      <td>94</td>\n",
       "      <td>25.61</td>\n",
       "    </tr>\n",
       "    <tr>\n",
       "      <th>крошка картошка</th>\n",
       "      <td>90</td>\n",
       "      <td>21.86</td>\n",
       "    </tr>\n",
       "    <tr>\n",
       "      <th>домино'с пицца</th>\n",
       "      <td>90</td>\n",
       "      <td>18.34</td>\n",
       "    </tr>\n",
       "    <tr>\n",
       "      <th>милти</th>\n",
       "      <td>72</td>\n",
       "      <td>1.33</td>\n",
       "    </tr>\n",
       "    <tr>\n",
       "      <th>суши wok</th>\n",
       "      <td>72</td>\n",
       "      <td>6.71</td>\n",
       "    </tr>\n",
       "    <tr>\n",
       "      <th>папа джонс</th>\n",
       "      <td>51</td>\n",
       "      <td>22.04</td>\n",
       "    </tr>\n",
       "    <tr>\n",
       "      <th>додо пицца</th>\n",
       "      <td>49</td>\n",
       "      <td>32.55</td>\n",
       "    </tr>\n",
       "    <tr>\n",
       "      <th>кофе с собой</th>\n",
       "      <td>46</td>\n",
       "      <td>0.78</td>\n",
       "    </tr>\n",
       "    <tr>\n",
       "      <th>чайхона №1</th>\n",
       "      <td>43</td>\n",
       "      <td>148.81</td>\n",
       "    </tr>\n",
       "    <tr>\n",
       "      <th>якитория</th>\n",
       "      <td>38</td>\n",
       "      <td>117.16</td>\n",
       "    </tr>\n",
       "    <tr>\n",
       "      <th>хинкальная</th>\n",
       "      <td>38</td>\n",
       "      <td>52.45</td>\n",
       "    </tr>\n",
       "    <tr>\n",
       "      <th>кофе хаус</th>\n",
       "      <td>35</td>\n",
       "      <td>55.86</td>\n",
       "    </tr>\n",
       "    <tr>\n",
       "      <th>subway</th>\n",
       "      <td>34</td>\n",
       "      <td>17.35</td>\n",
       "    </tr>\n",
       "    <tr>\n",
       "      <th>тануки</th>\n",
       "      <td>32</td>\n",
       "      <td>113.88</td>\n",
       "    </tr>\n",
       "    <tr>\n",
       "      <th>хлеб насущный</th>\n",
       "      <td>32</td>\n",
       "      <td>41.94</td>\n",
       "    </tr>\n",
       "    <tr>\n",
       "      <th>starbucks</th>\n",
       "      <td>30</td>\n",
       "      <td>44.57</td>\n",
       "    </tr>\n",
       "    <tr>\n",
       "      <th>прайм стар</th>\n",
       "      <td>26</td>\n",
       "      <td>37.12</td>\n",
       "    </tr>\n",
       "    <tr>\n",
       "      <th>иль патио</th>\n",
       "      <td>25</td>\n",
       "      <td>121.08</td>\n",
       "    </tr>\n",
       "    <tr>\n",
       "      <th>cofix</th>\n",
       "      <td>25</td>\n",
       "      <td>9.60</td>\n",
       "    </tr>\n",
       "    <tr>\n",
       "      <th>мята lounge</th>\n",
       "      <td>24</td>\n",
       "      <td>48.50</td>\n",
       "    </tr>\n",
       "    <tr>\n",
       "      <th>му-му</th>\n",
       "      <td>24</td>\n",
       "      <td>143.12</td>\n",
       "    </tr>\n",
       "    <tr>\n",
       "      <th>старбакс</th>\n",
       "      <td>21</td>\n",
       "      <td>42.48</td>\n",
       "    </tr>\n",
       "    <tr>\n",
       "      <th>сабвей</th>\n",
       "      <td>19</td>\n",
       "      <td>16.79</td>\n",
       "    </tr>\n",
       "    <tr>\n",
       "      <th>андерсон</th>\n",
       "      <td>19</td>\n",
       "      <td>73.79</td>\n",
       "    </tr>\n",
       "    <tr>\n",
       "      <th>пицца хат</th>\n",
       "      <td>18</td>\n",
       "      <td>20.67</td>\n",
       "    </tr>\n",
       "    <tr>\n",
       "      <th>кафе «шоколадница»</th>\n",
       "      <td>16</td>\n",
       "      <td>57.75</td>\n",
       "    </tr>\n",
       "    <tr>\n",
       "      <th>кулинарная лавка братьев караваевых</th>\n",
       "      <td>16</td>\n",
       "      <td>28.44</td>\n",
       "    </tr>\n",
       "    <tr>\n",
       "      <th>алло пицца</th>\n",
       "      <td>15</td>\n",
       "      <td>38.47</td>\n",
       "    </tr>\n",
       "    <tr>\n",
       "      <th>сушишоп</th>\n",
       "      <td>15</td>\n",
       "      <td>8.07</td>\n",
       "    </tr>\n",
       "    <tr>\n",
       "      <th>кофемания</th>\n",
       "      <td>15</td>\n",
       "      <td>64.73</td>\n",
       "    </tr>\n",
       "    <tr>\n",
       "      <th>пицца паоло</th>\n",
       "      <td>15</td>\n",
       "      <td>0.93</td>\n",
       "    </tr>\n",
       "    <tr>\n",
       "      <th>стардогs</th>\n",
       "      <td>14</td>\n",
       "      <td>0.71</td>\n",
       "    </tr>\n",
       "    <tr>\n",
       "      <th>кружка</th>\n",
       "      <td>14</td>\n",
       "      <td>106.71</td>\n",
       "    </tr>\n",
       "    <tr>\n",
       "      <th>штолле</th>\n",
       "      <td>13</td>\n",
       "      <td>30.08</td>\n",
       "    </tr>\n",
       "    <tr>\n",
       "      <th>суши сет</th>\n",
       "      <td>13</td>\n",
       "      <td>7.92</td>\n",
       "    </tr>\n",
       "    <tr>\n",
       "      <th>суши вок</th>\n",
       "      <td>13</td>\n",
       "      <td>6.23</td>\n",
       "    </tr>\n",
       "    <tr>\n",
       "      <th>волконский</th>\n",
       "      <td>12</td>\n",
       "      <td>17.58</td>\n",
       "    </tr>\n",
       "    <tr>\n",
       "      <th>баскин роббинс</th>\n",
       "      <td>12</td>\n",
       "      <td>11.25</td>\n",
       "    </tr>\n",
       "    <tr>\n",
       "      <th>кафе «kfc»</th>\n",
       "      <td>11</td>\n",
       "      <td>55.27</td>\n",
       "    </tr>\n",
       "    <tr>\n",
       "      <th>ваби-саби</th>\n",
       "      <td>11</td>\n",
       "      <td>77.18</td>\n",
       "    </tr>\n",
       "    <tr>\n",
       "      <th>ресторан «тануки»</th>\n",
       "      <td>11</td>\n",
       "      <td>110.27</td>\n",
       "    </tr>\n",
       "    <tr>\n",
       "      <th>прайм</th>\n",
       "      <td>10</td>\n",
       "      <td>35.10</td>\n",
       "    </tr>\n",
       "    <tr>\n",
       "      <th>пиццерия «папа джонс»</th>\n",
       "      <td>10</td>\n",
       "      <td>24.30</td>\n",
       "    </tr>\n",
       "    <tr>\n",
       "      <th>вареничная №1</th>\n",
       "      <td>10</td>\n",
       "      <td>74.10</td>\n",
       "    </tr>\n",
       "    <tr>\n",
       "      <th>джон джоли</th>\n",
       "      <td>10</td>\n",
       "      <td>115.40</td>\n",
       "    </tr>\n",
       "    <tr>\n",
       "      <th>грабли</th>\n",
       "      <td>10</td>\n",
       "      <td>150.00</td>\n",
       "    </tr>\n",
       "  </tbody>\n",
       "</table>\n",
       "</div>"
      ],
      "text/plain": [
       "                                      id  number\n",
       "object_name                                     \n",
       "шоколадница                          157   57.18\n",
       "kfc                                  155   55.34\n",
       "макдоналдс                           151   87.12\n",
       "бургер кинг                          137   46.65\n",
       "теремок                               94   25.61\n",
       "крошка картошка                       90   21.86\n",
       "домино'с пицца                        90   18.34\n",
       "милти                                 72    1.33\n",
       "суши wok                              72    6.71\n",
       "папа джонс                            51   22.04\n",
       "додо пицца                            49   32.55\n",
       "кофе с собой                          46    0.78\n",
       "чайхона №1                            43  148.81\n",
       "якитория                              38  117.16\n",
       "хинкальная                            38   52.45\n",
       "кофе хаус                             35   55.86\n",
       "subway                                34   17.35\n",
       "тануки                                32  113.88\n",
       "хлеб насущный                         32   41.94\n",
       "starbucks                             30   44.57\n",
       "прайм стар                            26   37.12\n",
       "иль патио                             25  121.08\n",
       "cofix                                 25    9.60\n",
       "мята lounge                           24   48.50\n",
       "му-му                                 24  143.12\n",
       "старбакс                              21   42.48\n",
       "сабвей                                19   16.79\n",
       "андерсон                              19   73.79\n",
       "пицца хат                             18   20.67\n",
       "кафе «шоколадница»                    16   57.75\n",
       "кулинарная лавка братьев караваевых   16   28.44\n",
       "алло пицца                            15   38.47\n",
       "сушишоп                               15    8.07\n",
       "кофемания                             15   64.73\n",
       "пицца паоло                           15    0.93\n",
       "стардогs                              14    0.71\n",
       "кружка                                14  106.71\n",
       "штолле                                13   30.08\n",
       "суши сет                              13    7.92\n",
       "суши вок                              13    6.23\n",
       "волконский                            12   17.58\n",
       "баскин роббинс                        12   11.25\n",
       "кафе «kfc»                            11   55.27\n",
       "ваби-саби                             11   77.18\n",
       "ресторан «тануки»                     11  110.27\n",
       "прайм                                 10   35.10\n",
       "пиццерия «папа джонс»                 10   24.30\n",
       "вареничная №1                         10   74.10\n",
       "джон джоли                            10  115.40\n",
       "грабли                                10  150.00"
      ]
     },
     "execution_count": 17,
     "metadata": {},
     "output_type": "execute_result"
    }
   ],
   "source": [
    "many_or_few = chain_object.groupby('object_name').agg({'id' : 'nunique', 'number' : 'mean'}).round(2) # посмотрим на заведения с числом посадочных мест\n",
    "many_or_few = many_or_few.sort_values(by = 'id', ascending = False).head(50)\n",
    "many_or_few"
   ]
  },
  {
   "cell_type": "code",
   "execution_count": 18,
   "metadata": {
    "scrolled": false
   },
   "outputs": [
    {
     "data": {
      "image/png": "[encoded data removed]",
      "text/plain": [
       "<Figure size 432x288 with 1 Axes>"
      ]
     },
     "metadata": {
      "needs_background": "light"
     },
     "output_type": "display_data"
    }
   ],
   "source": [
    "plt.scatter(x = \"id\", y = \"number\", data = many_or_few) #построим диаграмму количества заведений сети и среднего количества посадочных мест\n",
    "plt.title('Взаимосвязь количества заведений сети и среднего количества посадочных мест')\n",
    "plt.xlabel('Количество заведений')\n",
    "plt.ylabel('Количество посадочных мест')\n",
    "plt.show()"
   ]
  },
  {
   "cell_type": "markdown",
   "metadata": {},
   "source": [
    "**Вывод**\n",
    "\n",
    "Между количеством точек и количеством посадочных мест взаимосвязи нет. Есть сетевые заведения с малым количеством точек, но с большим количеством посадочных мест и сетевые заведения, где меньше 10 точек, но и малым количеством посадочных мест."
   ]
  },
  {
   "cell_type": "markdown",
   "metadata": {},
   "source": [
    "**Для каждого вида объекта общественного питания опишите среднее количество посадочных мест. Какой вид предоставляет в среднем самое большое количество посадочных мест?**"
   ]
  },
  {
   "cell_type": "code",
   "execution_count": 19,
   "metadata": {
    "scrolled": true
   },
   "outputs": [
    {
     "data": {
      "text/html": [
       "<div>\n",
       "<style scoped>\n",
       "    .dataframe tbody tr th:only-of-type {\n",
       "        vertical-align: middle;\n",
       "    }\n",
       "\n",
       "    .dataframe tbody tr th {\n",
       "        vertical-align: top;\n",
       "    }\n",
       "\n",
       "    .dataframe thead th {\n",
       "        text-align: right;\n",
       "    }\n",
       "</style>\n",
       "<table border=\"1\" class=\"dataframe\">\n",
       "  <thead>\n",
       "    <tr style=\"text-align: right;\">\n",
       "      <th></th>\n",
       "      <th>number</th>\n",
       "    </tr>\n",
       "    <tr>\n",
       "      <th>object_type</th>\n",
       "      <th></th>\n",
       "    </tr>\n",
       "  </thead>\n",
       "  <tbody>\n",
       "    <tr>\n",
       "      <th>бар</th>\n",
       "      <td>43.49</td>\n",
       "    </tr>\n",
       "    <tr>\n",
       "      <th>буфет</th>\n",
       "      <td>51.13</td>\n",
       "    </tr>\n",
       "    <tr>\n",
       "      <th>закусочная</th>\n",
       "      <td>7.61</td>\n",
       "    </tr>\n",
       "    <tr>\n",
       "      <th>кафе</th>\n",
       "      <td>39.72</td>\n",
       "    </tr>\n",
       "    <tr>\n",
       "      <th>кафетерий</th>\n",
       "      <td>9.12</td>\n",
       "    </tr>\n",
       "    <tr>\n",
       "      <th>магазин (отдел кулинарии)</th>\n",
       "      <td>5.59</td>\n",
       "    </tr>\n",
       "    <tr>\n",
       "      <th>предприятие быстрого обслуживания</th>\n",
       "      <td>20.55</td>\n",
       "    </tr>\n",
       "    <tr>\n",
       "      <th>ресторан</th>\n",
       "      <td>96.83</td>\n",
       "    </tr>\n",
       "    <tr>\n",
       "      <th>столовая</th>\n",
       "      <td>130.25</td>\n",
       "    </tr>\n",
       "  </tbody>\n",
       "</table>\n",
       "</div>"
      ],
      "text/plain": [
       "                                   number\n",
       "object_type                              \n",
       "бар                                 43.49\n",
       "буфет                               51.13\n",
       "закусочная                           7.61\n",
       "кафе                                39.72\n",
       "кафетерий                            9.12\n",
       "магазин (отдел кулинарии)            5.59\n",
       "предприятие быстрого обслуживания   20.55\n",
       "ресторан                            96.83\n",
       "столовая                           130.25"
      ]
     },
     "execution_count": 19,
     "metadata": {},
     "output_type": "execute_result"
    }
   ],
   "source": [
    "seat = rest_data.groupby('object_type').agg({'number' : 'mean'}).round(2) #посмотрим на среднее количество посадочных мест каждого вида объекта общественного питания\n",
    "seat"
   ]
  },
  {
   "cell_type": "code",
   "execution_count": 20,
   "metadata": {
    "scrolled": true
   },
   "outputs": [
    {
     "data": {
      "image/png": "[encoded data removed]",
      "text/plain": [
       "<Figure size 1080x576 with 1 Axes>"
      ]
     },
     "metadata": {
      "needs_background": "light"
     },
     "output_type": "display_data"
    }
   ],
   "source": [
    "plt.figure(figsize = (15, 8))  #построим график среднего количества посадочных мест в заведениях разного типа\n",
    "seat_number = sns.barplot(x=\"object_type\", y=\"number\", data = rest_data)\n",
    "plt.xlabel('Вид заведения')\n",
    "plt.ylabel('Количестов посадочных мест')\n",
    "plt.title('Среднее количество посадочных мест в заведениях разного типа')\n",
    "seat_number.set_xticklabels(seat_number.get_xticklabels(), rotation=45)\n",
    "plt.show()"
   ]
  },
  {
   "cell_type": "markdown",
   "metadata": {},
   "source": [
    "**Вывод**\n",
    "\n",
    "По колличеству посадочных мест лидирует Столовые, на втором месте - Рестораны."
   ]
  },
  {
   "cell_type": "markdown",
   "metadata": {},
   "source": [
    "**Выделим в отдельный столбец информацию об улице из столбца address**"
   ]
  },
  {
   "cell_type": "code",
   "execution_count": 21,
   "metadata": {},
   "outputs": [
    {
     "data": {
      "text/html": [
       "<div>\n",
       "<style scoped>\n",
       "    .dataframe tbody tr th:only-of-type {\n",
       "        vertical-align: middle;\n",
       "    }\n",
       "\n",
       "    .dataframe tbody tr th {\n",
       "        vertical-align: top;\n",
       "    }\n",
       "\n",
       "    .dataframe thead th {\n",
       "        text-align: right;\n",
       "    }\n",
       "</style>\n",
       "<table border=\"1\" class=\"dataframe\">\n",
       "  <thead>\n",
       "    <tr style=\"text-align: right;\">\n",
       "      <th></th>\n",
       "      <th>id</th>\n",
       "      <th>object_name</th>\n",
       "      <th>chain</th>\n",
       "      <th>object_type</th>\n",
       "      <th>address</th>\n",
       "      <th>number</th>\n",
       "      <th>street</th>\n",
       "    </tr>\n",
       "  </thead>\n",
       "  <tbody>\n",
       "    <tr>\n",
       "      <th>0</th>\n",
       "      <td>151635</td>\n",
       "      <td>сметана</td>\n",
       "      <td>нет</td>\n",
       "      <td>кафе</td>\n",
       "      <td>город Москва, улица Егора Абакумова, дом 9</td>\n",
       "      <td>48</td>\n",
       "      <td>улица Егора Абакумова</td>\n",
       "    </tr>\n",
       "    <tr>\n",
       "      <th>1</th>\n",
       "      <td>77874</td>\n",
       "      <td>родник</td>\n",
       "      <td>нет</td>\n",
       "      <td>кафе</td>\n",
       "      <td>город Москва, улица Талалихина, дом 2/1, корпус 1</td>\n",
       "      <td>35</td>\n",
       "      <td>улица Талалихина</td>\n",
       "    </tr>\n",
       "    <tr>\n",
       "      <th>2</th>\n",
       "      <td>24309</td>\n",
       "      <td>кафе «академия»</td>\n",
       "      <td>нет</td>\n",
       "      <td>кафе</td>\n",
       "      <td>город Москва, Абельмановская улица, дом 6</td>\n",
       "      <td>95</td>\n",
       "      <td>Абельмановская улица</td>\n",
       "    </tr>\n",
       "    <tr>\n",
       "      <th>3</th>\n",
       "      <td>21894</td>\n",
       "      <td>пиццетория</td>\n",
       "      <td>да</td>\n",
       "      <td>кафе</td>\n",
       "      <td>город Москва, Абрамцевская улица, дом 1</td>\n",
       "      <td>40</td>\n",
       "      <td>Абрамцевская улица</td>\n",
       "    </tr>\n",
       "    <tr>\n",
       "      <th>4</th>\n",
       "      <td>119365</td>\n",
       "      <td>кафе «вишневая метель»</td>\n",
       "      <td>нет</td>\n",
       "      <td>кафе</td>\n",
       "      <td>город Москва, Абрамцевская улица, дом 9, корпус 1</td>\n",
       "      <td>50</td>\n",
       "      <td>Абрамцевская улица</td>\n",
       "    </tr>\n",
       "  </tbody>\n",
       "</table>\n",
       "</div>"
      ],
      "text/plain": [
       "       id             object_name chain object_type  \\\n",
       "0  151635                 сметана   нет        кафе   \n",
       "1   77874                  родник   нет        кафе   \n",
       "2   24309         кафе «академия»   нет        кафе   \n",
       "3   21894              пиццетория    да        кафе   \n",
       "4  119365  кафе «вишневая метель»   нет        кафе   \n",
       "\n",
       "                                             address  number  \\\n",
       "0         город Москва, улица Егора Абакумова, дом 9      48   \n",
       "1  город Москва, улица Талалихина, дом 2/1, корпус 1      35   \n",
       "2          город Москва, Абельмановская улица, дом 6      95   \n",
       "3            город Москва, Абрамцевская улица, дом 1      40   \n",
       "4  город Москва, Абрамцевская улица, дом 9, корпус 1      50   \n",
       "\n",
       "                  street  \n",
       "0  улица Егора Абакумова  \n",
       "1       улица Талалихина  \n",
       "2   Абельмановская улица  \n",
       "3     Абрамцевская улица  \n",
       "4     Абрамцевская улица  "
      ]
     },
     "execution_count": 21,
     "metadata": {},
     "output_type": "execute_result"
    }
   ],
   "source": [
    "street_def = ['улица', 'проезд', 'бульвар', 'шоссе','переулоук'] #построим функцию, чтобы выделить улицу в отдельный столбец из столбца address\n",
    "\n",
    "def get_street(row):\n",
    "    for e in row.split(','):\n",
    "        for i in street_def:\n",
    "            if i in e.lower():\n",
    "                return e\n",
    "rest_data['street'] = rest_data['address'].apply(get_street)\n",
    "rest_data['street'] = rest_data['street'].str.strip()\n",
    "rest_data.head()"
   ]
  },
  {
   "cell_type": "markdown",
   "metadata": {},
   "source": [
    "**Узнаем, в каких районах Москвы находятся эти улицы**"
   ]
  },
  {
   "cell_type": "code",
   "execution_count": 22,
   "metadata": {
    "scrolled": true
   },
   "outputs": [
    {
     "data": {
      "text/html": [
       "<div>\n",
       "<style scoped>\n",
       "    .dataframe tbody tr th:only-of-type {\n",
       "        vertical-align: middle;\n",
       "    }\n",
       "\n",
       "    .dataframe tbody tr th {\n",
       "        vertical-align: top;\n",
       "    }\n",
       "\n",
       "    .dataframe thead th {\n",
       "        text-align: right;\n",
       "    }\n",
       "</style>\n",
       "<table border=\"1\" class=\"dataframe\">\n",
       "  <thead>\n",
       "    <tr style=\"text-align: right;\">\n",
       "      <th></th>\n",
       "      <th>street</th>\n",
       "      <th>id</th>\n",
       "    </tr>\n",
       "  </thead>\n",
       "  <tbody>\n",
       "    <tr>\n",
       "      <th>0</th>\n",
       "      <td>Профсоюзная улица</td>\n",
       "      <td>183</td>\n",
       "    </tr>\n",
       "    <tr>\n",
       "      <th>1</th>\n",
       "      <td>Варшавское шоссе</td>\n",
       "      <td>165</td>\n",
       "    </tr>\n",
       "    <tr>\n",
       "      <th>2</th>\n",
       "      <td>Каширское шоссе</td>\n",
       "      <td>112</td>\n",
       "    </tr>\n",
       "    <tr>\n",
       "      <th>3</th>\n",
       "      <td>Кировоградская улица</td>\n",
       "      <td>110</td>\n",
       "    </tr>\n",
       "    <tr>\n",
       "      <th>4</th>\n",
       "      <td>Ходынский бульвар</td>\n",
       "      <td>102</td>\n",
       "    </tr>\n",
       "    <tr>\n",
       "      <th>5</th>\n",
       "      <td>Ленинградское шоссе</td>\n",
       "      <td>100</td>\n",
       "    </tr>\n",
       "    <tr>\n",
       "      <th>6</th>\n",
       "      <td>Дмитровское шоссе</td>\n",
       "      <td>100</td>\n",
       "    </tr>\n",
       "    <tr>\n",
       "      <th>7</th>\n",
       "      <td>улица Новый Арбат</td>\n",
       "      <td>92</td>\n",
       "    </tr>\n",
       "    <tr>\n",
       "      <th>8</th>\n",
       "      <td>улица Ленинская Слобода</td>\n",
       "      <td>89</td>\n",
       "    </tr>\n",
       "    <tr>\n",
       "      <th>9</th>\n",
       "      <td>улица Сущёвский Вал</td>\n",
       "      <td>86</td>\n",
       "    </tr>\n",
       "  </tbody>\n",
       "</table>\n",
       "</div>"
      ],
      "text/plain": [
       "                    street   id\n",
       "0        Профсоюзная улица  183\n",
       "1         Варшавское шоссе  165\n",
       "2          Каширское шоссе  112\n",
       "3     Кировоградская улица  110\n",
       "4        Ходынский бульвар  102\n",
       "5      Ленинградское шоссе  100\n",
       "6        Дмитровское шоссе  100\n",
       "7        улица Новый Арбат   92\n",
       "8  улица Ленинская Слобода   89\n",
       "9      улица Сущёвский Вал   86"
      ]
     },
     "execution_count": 22,
     "metadata": {},
     "output_type": "execute_result"
    }
   ],
   "source": [
    "street = rest_data.groupby('street')['id'].agg('count').sort_values(ascending = False).reset_index().head(10) # сгруппируем данные с улицами\n",
    "street"
   ]
  },
  {
   "cell_type": "code",
   "execution_count": 23,
   "metadata": {
    "scrolled": false
   },
   "outputs": [
    {
     "data": {
      "image/png": "[encoded data removed]",
      "text/plain": [
       "<Figure size 720x360 with 1 Axes>"
      ]
     },
     "metadata": {
      "needs_background": "light"
     },
     "output_type": "display_data"
    }
   ],
   "source": [
    "plt.figure(figsize = (10, 5))\n",
    "street_st = sns.barplot(x=\"street\", y=\"id\", data = street)\n",
    "plt.xlabel('Улица')\n",
    "plt.ylabel('Количество заведений')\n",
    "plt.title('Количество заведений на улицах')\n",
    "street_st.set_xticklabels(street_st.get_xticklabels(), rotation=45)\n",
    "plt.show()"
   ]
  },
  {
   "cell_type": "code",
   "execution_count": 24,
   "metadata": {
    "scrolled": true
   },
   "outputs": [
    {
     "data": {
      "text/html": [
       "<div>\n",
       "<style scoped>\n",
       "    .dataframe tbody tr th:only-of-type {\n",
       "        vertical-align: middle;\n",
       "    }\n",
       "\n",
       "    .dataframe tbody tr th {\n",
       "        vertical-align: top;\n",
       "    }\n",
       "\n",
       "    .dataframe thead th {\n",
       "        text-align: right;\n",
       "    }\n",
       "</style>\n",
       "<table border=\"1\" class=\"dataframe\">\n",
       "  <thead>\n",
       "    <tr style=\"text-align: right;\">\n",
       "      <th></th>\n",
       "      <th>street</th>\n",
       "      <th>areaid</th>\n",
       "      <th>okrug</th>\n",
       "      <th>area</th>\n",
       "    </tr>\n",
       "  </thead>\n",
       "  <tbody>\n",
       "    <tr>\n",
       "      <th>0</th>\n",
       "      <td>Выставочный переулок</td>\n",
       "      <td>17</td>\n",
       "      <td>ЦАО</td>\n",
       "      <td>Пресненский район</td>\n",
       "    </tr>\n",
       "    <tr>\n",
       "      <th>1</th>\n",
       "      <td>улица Гашека</td>\n",
       "      <td>17</td>\n",
       "      <td>ЦАО</td>\n",
       "      <td>Пресненский район</td>\n",
       "    </tr>\n",
       "    <tr>\n",
       "      <th>2</th>\n",
       "      <td>Большая Никитская улица</td>\n",
       "      <td>17</td>\n",
       "      <td>ЦАО</td>\n",
       "      <td>Пресненский район</td>\n",
       "    </tr>\n",
       "    <tr>\n",
       "      <th>3</th>\n",
       "      <td>Глубокий переулок</td>\n",
       "      <td>17</td>\n",
       "      <td>ЦАО</td>\n",
       "      <td>Пресненский район</td>\n",
       "    </tr>\n",
       "    <tr>\n",
       "      <th>4</th>\n",
       "      <td>Большой Гнездниковский переулок</td>\n",
       "      <td>17</td>\n",
       "      <td>ЦАО</td>\n",
       "      <td>Пресненский район</td>\n",
       "    </tr>\n",
       "    <tr>\n",
       "      <th>...</th>\n",
       "      <td>...</td>\n",
       "      <td>...</td>\n",
       "      <td>...</td>\n",
       "      <td>...</td>\n",
       "    </tr>\n",
       "    <tr>\n",
       "      <th>4393</th>\n",
       "      <td>Вознесенский проезд</td>\n",
       "      <td>17</td>\n",
       "      <td>ЦАО</td>\n",
       "      <td>Пресненский район</td>\n",
       "    </tr>\n",
       "    <tr>\n",
       "      <th>4394</th>\n",
       "      <td>Волков переулок</td>\n",
       "      <td>17</td>\n",
       "      <td>ЦАО</td>\n",
       "      <td>Пресненский район</td>\n",
       "    </tr>\n",
       "    <tr>\n",
       "      <th>4395</th>\n",
       "      <td>Поварская улица</td>\n",
       "      <td>17</td>\n",
       "      <td>ЦАО</td>\n",
       "      <td>Пресненский район</td>\n",
       "    </tr>\n",
       "    <tr>\n",
       "      <th>4396</th>\n",
       "      <td>Кудринская площадь</td>\n",
       "      <td>17</td>\n",
       "      <td>ЦАО</td>\n",
       "      <td>Пресненский район</td>\n",
       "    </tr>\n",
       "    <tr>\n",
       "      <th>4397</th>\n",
       "      <td>Вспольный переулок</td>\n",
       "      <td>17</td>\n",
       "      <td>ЦАО</td>\n",
       "      <td>Пресненский район</td>\n",
       "    </tr>\n",
       "  </tbody>\n",
       "</table>\n",
       "<p>4398 rows × 4 columns</p>\n",
       "</div>"
      ],
      "text/plain": [
       "                               street  areaid okrug               area\n",
       "0                Выставочный переулок      17   ЦАО  Пресненский район\n",
       "1                        улица Гашека      17   ЦАО  Пресненский район\n",
       "2             Большая Никитская улица      17   ЦАО  Пресненский район\n",
       "3                   Глубокий переулок      17   ЦАО  Пресненский район\n",
       "4     Большой Гнездниковский переулок      17   ЦАО  Пресненский район\n",
       "...                               ...     ...   ...                ...\n",
       "4393              Вознесенский проезд      17   ЦАО  Пресненский район\n",
       "4394                  Волков переулок      17   ЦАО  Пресненский район\n",
       "4395                  Поварская улица      17   ЦАО  Пресненский район\n",
       "4396               Кудринская площадь      17   ЦАО  Пресненский район\n",
       "4397               Вспольный переулок      17   ЦАО  Пресненский район\n",
       "\n",
       "[4398 rows x 4 columns]"
      ]
     },
     "execution_count": 24,
     "metadata": {},
     "output_type": "execute_result"
    }
   ],
   "source": [
    "moscow_streets = pd.read_csv('https://frs.noosphere.ru/xmlui/bitstream/handle/20.500.11925/714058/mosgaz-streets.csv') #подгружаем внешний источник данных с районами Москвы\n",
    "moscow_streets = moscow_streets.rename (columns= {'streetname': 'street'}) #переименуем столбец\n",
    "moscow_streets"
   ]
  },
  {
   "cell_type": "code",
   "execution_count": 25,
   "metadata": {},
   "outputs": [
    {
     "data": {
      "text/html": [
       "<div>\n",
       "<style scoped>\n",
       "    .dataframe tbody tr th:only-of-type {\n",
       "        vertical-align: middle;\n",
       "    }\n",
       "\n",
       "    .dataframe tbody tr th {\n",
       "        vertical-align: top;\n",
       "    }\n",
       "\n",
       "    .dataframe thead th {\n",
       "        text-align: right;\n",
       "    }\n",
       "</style>\n",
       "<table border=\"1\" class=\"dataframe\">\n",
       "  <thead>\n",
       "    <tr style=\"text-align: right;\">\n",
       "      <th></th>\n",
       "      <th>street</th>\n",
       "      <th>id</th>\n",
       "      <th>areaid</th>\n",
       "      <th>okrug</th>\n",
       "      <th>area</th>\n",
       "    </tr>\n",
       "  </thead>\n",
       "  <tbody>\n",
       "    <tr>\n",
       "      <th>0</th>\n",
       "      <td>Профсоюзная улица</td>\n",
       "      <td>183</td>\n",
       "      <td>123</td>\n",
       "      <td>ЮЗАО</td>\n",
       "      <td>Академический район</td>\n",
       "    </tr>\n",
       "    <tr>\n",
       "      <th>1</th>\n",
       "      <td>Профсоюзная улица</td>\n",
       "      <td>183</td>\n",
       "      <td>132</td>\n",
       "      <td>ЮЗАО</td>\n",
       "      <td>Район Черемушки</td>\n",
       "    </tr>\n",
       "    <tr>\n",
       "      <th>2</th>\n",
       "      <td>Профсоюзная улица</td>\n",
       "      <td>183</td>\n",
       "      <td>134</td>\n",
       "      <td>ЮЗАО</td>\n",
       "      <td>Район Ясенево</td>\n",
       "    </tr>\n",
       "    <tr>\n",
       "      <th>3</th>\n",
       "      <td>Профсоюзная улица</td>\n",
       "      <td>183</td>\n",
       "      <td>126</td>\n",
       "      <td>ЮЗАО</td>\n",
       "      <td>Район Коньково</td>\n",
       "    </tr>\n",
       "    <tr>\n",
       "      <th>4</th>\n",
       "      <td>Профсоюзная улица</td>\n",
       "      <td>183</td>\n",
       "      <td>129</td>\n",
       "      <td>ЮЗАО</td>\n",
       "      <td>Обручевский район</td>\n",
       "    </tr>\n",
       "    <tr>\n",
       "      <th>5</th>\n",
       "      <td>Профсоюзная улица</td>\n",
       "      <td>183</td>\n",
       "      <td>131</td>\n",
       "      <td>ЮЗАО</td>\n",
       "      <td>Район Теплый Стан</td>\n",
       "    </tr>\n",
       "    <tr>\n",
       "      <th>6</th>\n",
       "      <td>Варшавское шоссе</td>\n",
       "      <td>165</td>\n",
       "      <td>109</td>\n",
       "      <td>ЮАО</td>\n",
       "      <td>Район Чертаново Центральное</td>\n",
       "    </tr>\n",
       "    <tr>\n",
       "      <th>7</th>\n",
       "      <td>Варшавское шоссе</td>\n",
       "      <td>165</td>\n",
       "      <td>108</td>\n",
       "      <td>ЮАО</td>\n",
       "      <td>Район Чертаново Северное</td>\n",
       "    </tr>\n",
       "    <tr>\n",
       "      <th>8</th>\n",
       "      <td>Варшавское шоссе</td>\n",
       "      <td>165</td>\n",
       "      <td>110</td>\n",
       "      <td>ЮАО</td>\n",
       "      <td>Район Чертаново Южное</td>\n",
       "    </tr>\n",
       "    <tr>\n",
       "      <th>9</th>\n",
       "      <td>Варшавское шоссе</td>\n",
       "      <td>165</td>\n",
       "      <td>99</td>\n",
       "      <td>ЮАО</td>\n",
       "      <td>Донской район</td>\n",
       "    </tr>\n",
       "    <tr>\n",
       "      <th>10</th>\n",
       "      <td>Варшавское шоссе</td>\n",
       "      <td>165</td>\n",
       "      <td>102</td>\n",
       "      <td>ЮАО</td>\n",
       "      <td>Район Нагатино-Садовники</td>\n",
       "    </tr>\n",
       "    <tr>\n",
       "      <th>11</th>\n",
       "      <td>Варшавское шоссе</td>\n",
       "      <td>165</td>\n",
       "      <td>104</td>\n",
       "      <td>ЮАО</td>\n",
       "      <td>Нагорный район</td>\n",
       "    </tr>\n",
       "    <tr>\n",
       "      <th>12</th>\n",
       "      <td>Варшавское шоссе</td>\n",
       "      <td>165</td>\n",
       "      <td>130</td>\n",
       "      <td>ЮЗАО</td>\n",
       "      <td>Район Северное Бутово</td>\n",
       "    </tr>\n",
       "    <tr>\n",
       "      <th>13</th>\n",
       "      <td>Варшавское шоссе</td>\n",
       "      <td>165</td>\n",
       "      <td>133</td>\n",
       "      <td>ЮЗАО</td>\n",
       "      <td>Район Южное Бутово</td>\n",
       "    </tr>\n",
       "    <tr>\n",
       "      <th>14</th>\n",
       "      <td>Каширское шоссе</td>\n",
       "      <td>112</td>\n",
       "      <td>101</td>\n",
       "      <td>ЮАО</td>\n",
       "      <td>Район Москворечье-Сабурово</td>\n",
       "    </tr>\n",
       "    <tr>\n",
       "      <th>15</th>\n",
       "      <td>Каширское шоссе</td>\n",
       "      <td>112</td>\n",
       "      <td>102</td>\n",
       "      <td>ЮАО</td>\n",
       "      <td>Район Нагатино-Садовники</td>\n",
       "    </tr>\n",
       "    <tr>\n",
       "      <th>16</th>\n",
       "      <td>Каширское шоссе</td>\n",
       "      <td>112</td>\n",
       "      <td>106</td>\n",
       "      <td>ЮАО</td>\n",
       "      <td>Район Орехово-Борисово Южное</td>\n",
       "    </tr>\n",
       "    <tr>\n",
       "      <th>17</th>\n",
       "      <td>Каширское шоссе</td>\n",
       "      <td>112</td>\n",
       "      <td>105</td>\n",
       "      <td>ЮАО</td>\n",
       "      <td>Район Орехово-Борисово Северное</td>\n",
       "    </tr>\n",
       "    <tr>\n",
       "      <th>18</th>\n",
       "      <td>Кировоградская улица</td>\n",
       "      <td>110</td>\n",
       "      <td>109</td>\n",
       "      <td>ЮАО</td>\n",
       "      <td>Район Чертаново Центральное</td>\n",
       "    </tr>\n",
       "    <tr>\n",
       "      <th>19</th>\n",
       "      <td>Кировоградская улица</td>\n",
       "      <td>110</td>\n",
       "      <td>108</td>\n",
       "      <td>ЮАО</td>\n",
       "      <td>Район Чертаново Северное</td>\n",
       "    </tr>\n",
       "    <tr>\n",
       "      <th>20</th>\n",
       "      <td>Кировоградская улица</td>\n",
       "      <td>110</td>\n",
       "      <td>110</td>\n",
       "      <td>ЮАО</td>\n",
       "      <td>Район Чертаново Южное</td>\n",
       "    </tr>\n",
       "    <tr>\n",
       "      <th>21</th>\n",
       "      <td>Ходынский бульвар</td>\n",
       "      <td>102</td>\n",
       "      <td>69</td>\n",
       "      <td>САО</td>\n",
       "      <td>Хорошевский район</td>\n",
       "    </tr>\n",
       "    <tr>\n",
       "      <th>22</th>\n",
       "      <td>Ленинградское шоссе</td>\n",
       "      <td>100</td>\n",
       "      <td>52</td>\n",
       "      <td>Зеленоград</td>\n",
       "      <td>Район Матушкино-Савелки</td>\n",
       "    </tr>\n",
       "    <tr>\n",
       "      <th>23</th>\n",
       "      <td>Ленинградское шоссе</td>\n",
       "      <td>100</td>\n",
       "      <td>59</td>\n",
       "      <td>САО</td>\n",
       "      <td>Головинский район</td>\n",
       "    </tr>\n",
       "    <tr>\n",
       "      <th>24</th>\n",
       "      <td>Ленинградское шоссе</td>\n",
       "      <td>100</td>\n",
       "      <td>63</td>\n",
       "      <td>САО</td>\n",
       "      <td>Район Левобережный</td>\n",
       "    </tr>\n",
       "    <tr>\n",
       "      <th>25</th>\n",
       "      <td>Ленинградское шоссе</td>\n",
       "      <td>100</td>\n",
       "      <td>64</td>\n",
       "      <td>САО</td>\n",
       "      <td>Молжаниновский район</td>\n",
       "    </tr>\n",
       "    <tr>\n",
       "      <th>26</th>\n",
       "      <td>Ленинградское шоссе</td>\n",
       "      <td>100</td>\n",
       "      <td>66</td>\n",
       "      <td>САО</td>\n",
       "      <td>Район Сокол</td>\n",
       "    </tr>\n",
       "    <tr>\n",
       "      <th>27</th>\n",
       "      <td>Ленинградское шоссе</td>\n",
       "      <td>100</td>\n",
       "      <td>57</td>\n",
       "      <td>САО</td>\n",
       "      <td>Войковский Район</td>\n",
       "    </tr>\n",
       "    <tr>\n",
       "      <th>28</th>\n",
       "      <td>Дмитровское шоссе</td>\n",
       "      <td>100</td>\n",
       "      <td>56</td>\n",
       "      <td>САО</td>\n",
       "      <td>Бескудниковский Район</td>\n",
       "    </tr>\n",
       "    <tr>\n",
       "      <th>29</th>\n",
       "      <td>Дмитровское шоссе</td>\n",
       "      <td>100</td>\n",
       "      <td>60</td>\n",
       "      <td>САО</td>\n",
       "      <td>Дмитровский район</td>\n",
       "    </tr>\n",
       "    <tr>\n",
       "      <th>30</th>\n",
       "      <td>Дмитровское шоссе</td>\n",
       "      <td>100</td>\n",
       "      <td>67</td>\n",
       "      <td>САО</td>\n",
       "      <td>Тимирязевский Район</td>\n",
       "    </tr>\n",
       "    <tr>\n",
       "      <th>31</th>\n",
       "      <td>Дмитровское шоссе</td>\n",
       "      <td>100</td>\n",
       "      <td>58</td>\n",
       "      <td>САО</td>\n",
       "      <td>Район Восточное Дегунино</td>\n",
       "    </tr>\n",
       "    <tr>\n",
       "      <th>32</th>\n",
       "      <td>Дмитровское шоссе</td>\n",
       "      <td>100</td>\n",
       "      <td>61</td>\n",
       "      <td>САО</td>\n",
       "      <td>Район Западное Дегунино</td>\n",
       "    </tr>\n",
       "    <tr>\n",
       "      <th>33</th>\n",
       "      <td>Дмитровское шоссе</td>\n",
       "      <td>100</td>\n",
       "      <td>75</td>\n",
       "      <td>СВАО</td>\n",
       "      <td>Район Лианозово</td>\n",
       "    </tr>\n",
       "    <tr>\n",
       "      <th>34</th>\n",
       "      <td>Дмитровское шоссе</td>\n",
       "      <td>100</td>\n",
       "      <td>84</td>\n",
       "      <td>СВАО</td>\n",
       "      <td>Район Северный</td>\n",
       "    </tr>\n",
       "    <tr>\n",
       "      <th>35</th>\n",
       "      <td>улица Новый Арбат</td>\n",
       "      <td>92</td>\n",
       "      <td>12</td>\n",
       "      <td>ЦАО</td>\n",
       "      <td>Район Арбат</td>\n",
       "    </tr>\n",
       "    <tr>\n",
       "      <th>36</th>\n",
       "      <td>улица Ленинская Слобода</td>\n",
       "      <td>89</td>\n",
       "      <td>98</td>\n",
       "      <td>ЮАО</td>\n",
       "      <td>Даниловский район</td>\n",
       "    </tr>\n",
       "    <tr>\n",
       "      <th>37</th>\n",
       "      <td>улица Сущёвский Вал</td>\n",
       "      <td>86</td>\n",
       "      <td>19</td>\n",
       "      <td>ЦАО</td>\n",
       "      <td>Тверской район</td>\n",
       "    </tr>\n",
       "    <tr>\n",
       "      <th>38</th>\n",
       "      <td>улица Сущёвский Вал</td>\n",
       "      <td>86</td>\n",
       "      <td>78</td>\n",
       "      <td>СВАО</td>\n",
       "      <td>Район Марьина роща</td>\n",
       "    </tr>\n",
       "    <tr>\n",
       "      <th>39</th>\n",
       "      <td>улица Сущёвский Вал</td>\n",
       "      <td>86</td>\n",
       "      <td>16</td>\n",
       "      <td>ЦАО</td>\n",
       "      <td>Мещанский район</td>\n",
       "    </tr>\n",
       "  </tbody>\n",
       "</table>\n",
       "</div>"
      ],
      "text/plain": [
       "                     street   id  areaid       okrug  \\\n",
       "0         Профсоюзная улица  183     123        ЮЗАО   \n",
       "1         Профсоюзная улица  183     132        ЮЗАО   \n",
       "2         Профсоюзная улица  183     134        ЮЗАО   \n",
       "3         Профсоюзная улица  183     126        ЮЗАО   \n",
       "4         Профсоюзная улица  183     129        ЮЗАО   \n",
       "5         Профсоюзная улица  183     131        ЮЗАО   \n",
       "6          Варшавское шоссе  165     109         ЮАО   \n",
       "7          Варшавское шоссе  165     108         ЮАО   \n",
       "8          Варшавское шоссе  165     110         ЮАО   \n",
       "9          Варшавское шоссе  165      99         ЮАО   \n",
       "10         Варшавское шоссе  165     102         ЮАО   \n",
       "11         Варшавское шоссе  165     104         ЮАО   \n",
       "12         Варшавское шоссе  165     130        ЮЗАО   \n",
       "13         Варшавское шоссе  165     133        ЮЗАО   \n",
       "14          Каширское шоссе  112     101         ЮАО   \n",
       "15          Каширское шоссе  112     102         ЮАО   \n",
       "16          Каширское шоссе  112     106         ЮАО   \n",
       "17          Каширское шоссе  112     105         ЮАО   \n",
       "18     Кировоградская улица  110     109         ЮАО   \n",
       "19     Кировоградская улица  110     108         ЮАО   \n",
       "20     Кировоградская улица  110     110         ЮАО   \n",
       "21        Ходынский бульвар  102      69         САО   \n",
       "22      Ленинградское шоссе  100      52  Зеленоград   \n",
       "23      Ленинградское шоссе  100      59         САО   \n",
       "24      Ленинградское шоссе  100      63         САО   \n",
       "25      Ленинградское шоссе  100      64         САО   \n",
       "26      Ленинградское шоссе  100      66         САО   \n",
       "27      Ленинградское шоссе  100      57         САО   \n",
       "28        Дмитровское шоссе  100      56         САО   \n",
       "29        Дмитровское шоссе  100      60         САО   \n",
       "30        Дмитровское шоссе  100      67         САО   \n",
       "31        Дмитровское шоссе  100      58         САО   \n",
       "32        Дмитровское шоссе  100      61         САО   \n",
       "33        Дмитровское шоссе  100      75        СВАО   \n",
       "34        Дмитровское шоссе  100      84        СВАО   \n",
       "35        улица Новый Арбат   92      12         ЦАО   \n",
       "36  улица Ленинская Слобода   89      98         ЮАО   \n",
       "37      улица Сущёвский Вал   86      19         ЦАО   \n",
       "38      улица Сущёвский Вал   86      78        СВАО   \n",
       "39      улица Сущёвский Вал   86      16         ЦАО   \n",
       "\n",
       "                               area  \n",
       "0               Академический район  \n",
       "1                   Район Черемушки  \n",
       "2                     Район Ясенево  \n",
       "3                    Район Коньково  \n",
       "4                 Обручевский район  \n",
       "5                 Район Теплый Стан  \n",
       "6       Район Чертаново Центральное  \n",
       "7          Район Чертаново Северное  \n",
       "8             Район Чертаново Южное  \n",
       "9                     Донской район  \n",
       "10         Район Нагатино-Садовники  \n",
       "11                   Нагорный район  \n",
       "12            Район Северное Бутово  \n",
       "13               Район Южное Бутово  \n",
       "14       Район Москворечье-Сабурово  \n",
       "15         Район Нагатино-Садовники  \n",
       "16     Район Орехово-Борисово Южное  \n",
       "17  Район Орехово-Борисово Северное  \n",
       "18      Район Чертаново Центральное  \n",
       "19         Район Чертаново Северное  \n",
       "20            Район Чертаново Южное  \n",
       "21                Хорошевский район  \n",
       "22          Район Матушкино-Савелки  \n",
       "23                Головинский район  \n",
       "24               Район Левобережный  \n",
       "25             Молжаниновский район  \n",
       "26                      Район Сокол  \n",
       "27                 Войковский Район  \n",
       "28            Бескудниковский Район  \n",
       "29                Дмитровский район  \n",
       "30              Тимирязевский Район  \n",
       "31         Район Восточное Дегунино  \n",
       "32          Район Западное Дегунино  \n",
       "33                  Район Лианозово  \n",
       "34                   Район Северный  \n",
       "35                      Район Арбат  \n",
       "36                Даниловский район  \n",
       "37                   Тверской район  \n",
       "38               Район Марьина роща  \n",
       "39                  Мещанский район  "
      ]
     },
     "execution_count": 25,
     "metadata": {},
     "output_type": "execute_result"
    }
   ],
   "source": [
    "area_street = street.merge(moscow_streets,on='street', how='left') #объединяем таблицы\n",
    "area_street"
   ]
  },
  {
   "cell_type": "markdown",
   "metadata": {},
   "source": [
    "**Вывод**\n",
    "\n",
    "Проспекты и шоссе имеют большую протяженность на несколько административных окургов. Можно выделить Юго-Западный, Южный административный округ,муниципальный округ Чертаново и Северный административный округ."
   ]
  },
  {
   "cell_type": "markdown",
   "metadata": {},
   "source": [
    "**Найдем число улиц с одним объектом общественного питания**"
   ]
  },
  {
   "cell_type": "code",
   "execution_count": 26,
   "metadata": {
    "scrolled": true
   },
   "outputs": [
    {
     "data": {
      "text/html": [
       "<div>\n",
       "<style scoped>\n",
       "    .dataframe tbody tr th:only-of-type {\n",
       "        vertical-align: middle;\n",
       "    }\n",
       "\n",
       "    .dataframe tbody tr th {\n",
       "        vertical-align: top;\n",
       "    }\n",
       "\n",
       "    .dataframe thead th {\n",
       "        text-align: right;\n",
       "    }\n",
       "</style>\n",
       "<table border=\"1\" class=\"dataframe\">\n",
       "  <thead>\n",
       "    <tr style=\"text-align: right;\">\n",
       "      <th></th>\n",
       "      <th>street</th>\n",
       "      <th>count_object</th>\n",
       "    </tr>\n",
       "  </thead>\n",
       "  <tbody>\n",
       "    <tr>\n",
       "      <th>1102</th>\n",
       "      <td>2-я Гражданская улица</td>\n",
       "      <td>1</td>\n",
       "    </tr>\n",
       "    <tr>\n",
       "      <th>1103</th>\n",
       "      <td>1-й Краснокурсантский проезд</td>\n",
       "      <td>1</td>\n",
       "    </tr>\n",
       "    <tr>\n",
       "      <th>1104</th>\n",
       "      <td>1-й Курьяновский проезд</td>\n",
       "      <td>1</td>\n",
       "    </tr>\n",
       "    <tr>\n",
       "      <th>1105</th>\n",
       "      <td>2-й Кабельный проезд</td>\n",
       "      <td>1</td>\n",
       "    </tr>\n",
       "    <tr>\n",
       "      <th>1106</th>\n",
       "      <td>улица Лефортовский Вал</td>\n",
       "      <td>1</td>\n",
       "    </tr>\n",
       "    <tr>\n",
       "      <th>...</th>\n",
       "      <td>...</td>\n",
       "      <td>...</td>\n",
       "    </tr>\n",
       "    <tr>\n",
       "      <th>1461</th>\n",
       "      <td>Большая Юшуньская улица</td>\n",
       "      <td>1</td>\n",
       "    </tr>\n",
       "    <tr>\n",
       "      <th>1462</th>\n",
       "      <td>Боровая улица</td>\n",
       "      <td>1</td>\n",
       "    </tr>\n",
       "    <tr>\n",
       "      <th>1463</th>\n",
       "      <td>Боровский проезд</td>\n",
       "      <td>1</td>\n",
       "    </tr>\n",
       "    <tr>\n",
       "      <th>1464</th>\n",
       "      <td>Янтарный проезд</td>\n",
       "      <td>1</td>\n",
       "    </tr>\n",
       "    <tr>\n",
       "      <th>1465</th>\n",
       "      <td>Большая Внуковская улица</td>\n",
       "      <td>1</td>\n",
       "    </tr>\n",
       "  </tbody>\n",
       "</table>\n",
       "<p>364 rows × 2 columns</p>\n",
       "</div>"
      ],
      "text/plain": [
       "                            street  count_object\n",
       "1102         2-я Гражданская улица             1\n",
       "1103  1-й Краснокурсантский проезд             1\n",
       "1104       1-й Курьяновский проезд             1\n",
       "1105          2-й Кабельный проезд             1\n",
       "1106        улица Лефортовский Вал             1\n",
       "...                            ...           ...\n",
       "1461       Большая Юшуньская улица             1\n",
       "1462                 Боровая улица             1\n",
       "1463              Боровский проезд             1\n",
       "1464               Янтарный проезд             1\n",
       "1465      Большая Внуковская улица             1\n",
       "\n",
       "[364 rows x 2 columns]"
      ]
     },
     "execution_count": 26,
     "metadata": {},
     "output_type": "execute_result"
    }
   ],
   "source": [
    "one_object = (rest_data   #найдем улицы с одним объектом общественного пистания\n",
    "    .pivot_table(index='street', values='id', aggfunc='count')\n",
    "    .sort_values(by='id', ascending=False).reset_index()\n",
    "    )\n",
    "one_object.columns=['street','count_object']\n",
    "one_object=one_object[one_object['count_object']==1]\n",
    "one_object"
   ]
  },
  {
   "cell_type": "markdown",
   "metadata": {},
   "source": [
    "**Вывод**\n",
    "\n",
    "Улиц с одним заведением общественного питания 364."
   ]
  },
  {
   "cell_type": "code",
   "execution_count": 27,
   "metadata": {
    "scrolled": true
   },
   "outputs": [
    {
     "data": {
      "text/html": [
       "<div>\n",
       "<style scoped>\n",
       "    .dataframe tbody tr th:only-of-type {\n",
       "        vertical-align: middle;\n",
       "    }\n",
       "\n",
       "    .dataframe tbody tr th {\n",
       "        vertical-align: top;\n",
       "    }\n",
       "\n",
       "    .dataframe thead th {\n",
       "        text-align: right;\n",
       "    }\n",
       "</style>\n",
       "<table border=\"1\" class=\"dataframe\">\n",
       "  <thead>\n",
       "    <tr style=\"text-align: right;\">\n",
       "      <th></th>\n",
       "      <th>street</th>\n",
       "      <th>count_object</th>\n",
       "      <th>areaid</th>\n",
       "      <th>okrug</th>\n",
       "      <th>area</th>\n",
       "    </tr>\n",
       "  </thead>\n",
       "  <tbody>\n",
       "    <tr>\n",
       "      <th>0</th>\n",
       "      <td>2-я Гражданская улица</td>\n",
       "      <td>1</td>\n",
       "      <td>22.0</td>\n",
       "      <td>ВАО</td>\n",
       "      <td>Район Богородское</td>\n",
       "    </tr>\n",
       "    <tr>\n",
       "      <th>1</th>\n",
       "      <td>1-й Краснокурсантский проезд</td>\n",
       "      <td>1</td>\n",
       "      <td>114.0</td>\n",
       "      <td>ЮВАО</td>\n",
       "      <td>Район Лефортово</td>\n",
       "    </tr>\n",
       "    <tr>\n",
       "      <th>2</th>\n",
       "      <td>1-й Курьяновский проезд</td>\n",
       "      <td>1</td>\n",
       "      <td>118.0</td>\n",
       "      <td>ЮВАО</td>\n",
       "      <td>Район Печатники</td>\n",
       "    </tr>\n",
       "    <tr>\n",
       "      <th>3</th>\n",
       "      <td>2-й Кабельный проезд</td>\n",
       "      <td>1</td>\n",
       "      <td>114.0</td>\n",
       "      <td>ЮВАО</td>\n",
       "      <td>Район Лефортово</td>\n",
       "    </tr>\n",
       "    <tr>\n",
       "      <th>4</th>\n",
       "      <td>улица Лефортовский Вал</td>\n",
       "      <td>1</td>\n",
       "      <td>114.0</td>\n",
       "      <td>ЮВАО</td>\n",
       "      <td>Район Лефортово</td>\n",
       "    </tr>\n",
       "    <tr>\n",
       "      <th>5</th>\n",
       "      <td>1-й Саратовский проезд</td>\n",
       "      <td>1</td>\n",
       "      <td>121.0</td>\n",
       "      <td>ЮВАО</td>\n",
       "      <td>Район Текстильщики</td>\n",
       "    </tr>\n",
       "    <tr>\n",
       "      <th>6</th>\n",
       "      <td>2-й Иртышский проезд</td>\n",
       "      <td>1</td>\n",
       "      <td>25.0</td>\n",
       "      <td>ВАО</td>\n",
       "      <td>Район Гольяново</td>\n",
       "    </tr>\n",
       "    <tr>\n",
       "      <th>7</th>\n",
       "      <td>3-я Железногорская улица</td>\n",
       "      <td>1</td>\n",
       "      <td>133.0</td>\n",
       "      <td>ЮЗАО</td>\n",
       "      <td>Район Южное Бутово</td>\n",
       "    </tr>\n",
       "    <tr>\n",
       "      <th>8</th>\n",
       "      <td>улица Новая Дорога</td>\n",
       "      <td>1</td>\n",
       "      <td>13.0</td>\n",
       "      <td>ЦАО</td>\n",
       "      <td>Басманный район</td>\n",
       "    </tr>\n",
       "    <tr>\n",
       "      <th>9</th>\n",
       "      <td>улица Фонвизина</td>\n",
       "      <td>1</td>\n",
       "      <td>74.0</td>\n",
       "      <td>СВАО</td>\n",
       "      <td>Бутырский район</td>\n",
       "    </tr>\n",
       "    <tr>\n",
       "      <th>10</th>\n",
       "      <td>улица Линии Октябрьской Железной Дороги</td>\n",
       "      <td>1</td>\n",
       "      <td>67.0</td>\n",
       "      <td>САО</td>\n",
       "      <td>Тимирязевский Район</td>\n",
       "    </tr>\n",
       "    <tr>\n",
       "      <th>11</th>\n",
       "      <td>улица Крутицкий Вал</td>\n",
       "      <td>1</td>\n",
       "      <td>122.0</td>\n",
       "      <td>ЮВАО</td>\n",
       "      <td>Южнопортовый Район</td>\n",
       "    </tr>\n",
       "    <tr>\n",
       "      <th>12</th>\n",
       "      <td>улица Фадеева</td>\n",
       "      <td>1</td>\n",
       "      <td>19.0</td>\n",
       "      <td>ЦАО</td>\n",
       "      <td>Тверской район</td>\n",
       "    </tr>\n",
       "    <tr>\n",
       "      <th>13</th>\n",
       "      <td>1-й Ботанический проезд</td>\n",
       "      <td>1</td>\n",
       "      <td>82.0</td>\n",
       "      <td>СВАО</td>\n",
       "      <td>Район Свиблово</td>\n",
       "    </tr>\n",
       "    <tr>\n",
       "      <th>14</th>\n",
       "      <td>улица Немчинова</td>\n",
       "      <td>1</td>\n",
       "      <td>67.0</td>\n",
       "      <td>САО</td>\n",
       "      <td>Тимирязевский Район</td>\n",
       "    </tr>\n",
       "    <tr>\n",
       "      <th>15</th>\n",
       "      <td>улица Паперника</td>\n",
       "      <td>1</td>\n",
       "      <td>120.0</td>\n",
       "      <td>ЮВАО</td>\n",
       "      <td>Рязанский район</td>\n",
       "    </tr>\n",
       "    <tr>\n",
       "      <th>16</th>\n",
       "      <td>шоссе Фрезер</td>\n",
       "      <td>1</td>\n",
       "      <td>117.0</td>\n",
       "      <td>ЮВАО</td>\n",
       "      <td>Нижегородский район</td>\n",
       "    </tr>\n",
       "    <tr>\n",
       "      <th>17</th>\n",
       "      <td>2-я Барышевская улица</td>\n",
       "      <td>1</td>\n",
       "      <td>NaN</td>\n",
       "      <td>NaN</td>\n",
       "      <td>NaN</td>\n",
       "    </tr>\n",
       "    <tr>\n",
       "      <th>18</th>\n",
       "      <td>улица Павла Андреева</td>\n",
       "      <td>1</td>\n",
       "      <td>14.0</td>\n",
       "      <td>ЦАО</td>\n",
       "      <td>Район Замоскворечье</td>\n",
       "    </tr>\n",
       "    <tr>\n",
       "      <th>19</th>\n",
       "      <td>улица Павла Андреева</td>\n",
       "      <td>1</td>\n",
       "      <td>98.0</td>\n",
       "      <td>ЮАО</td>\n",
       "      <td>Даниловский район</td>\n",
       "    </tr>\n",
       "    <tr>\n",
       "      <th>20</th>\n",
       "      <td>3-й Стрелецкий проезд</td>\n",
       "      <td>1</td>\n",
       "      <td>78.0</td>\n",
       "      <td>СВАО</td>\n",
       "      <td>Район Марьина роща</td>\n",
       "    </tr>\n",
       "    <tr>\n",
       "      <th>21</th>\n",
       "      <td>2-й Сельскохозяйственный проезд</td>\n",
       "      <td>1</td>\n",
       "      <td>81.0</td>\n",
       "      <td>СВАО</td>\n",
       "      <td>Район Ростокино</td>\n",
       "    </tr>\n",
       "    <tr>\n",
       "      <th>22</th>\n",
       "      <td>улица Щорса</td>\n",
       "      <td>1</td>\n",
       "      <td>46.0</td>\n",
       "      <td>ЗАО</td>\n",
       "      <td>Район Солнцево</td>\n",
       "    </tr>\n",
       "    <tr>\n",
       "      <th>23</th>\n",
       "      <td>улица Шумкина</td>\n",
       "      <td>1</td>\n",
       "      <td>26.0</td>\n",
       "      <td>ВАО</td>\n",
       "      <td>Район Сокольники</td>\n",
       "    </tr>\n",
       "    <tr>\n",
       "      <th>24</th>\n",
       "      <td>улица Шумилова</td>\n",
       "      <td>1</td>\n",
       "      <td>113.0</td>\n",
       "      <td>ЮВАО</td>\n",
       "      <td>Район Кузьминки</td>\n",
       "    </tr>\n",
       "    <tr>\n",
       "      <th>25</th>\n",
       "      <td>улица Недорубова</td>\n",
       "      <td>1</td>\n",
       "      <td>NaN</td>\n",
       "      <td>NaN</td>\n",
       "      <td>NaN</td>\n",
       "    </tr>\n",
       "    <tr>\n",
       "      <th>26</th>\n",
       "      <td>3-й Угрешский проезд</td>\n",
       "      <td>1</td>\n",
       "      <td>118.0</td>\n",
       "      <td>ЮВАО</td>\n",
       "      <td>Район Печатники</td>\n",
       "    </tr>\n",
       "    <tr>\n",
       "      <th>27</th>\n",
       "      <td>улица Кубинка</td>\n",
       "      <td>1</td>\n",
       "      <td>41.0</td>\n",
       "      <td>ЗАО</td>\n",
       "      <td>Можайский Район</td>\n",
       "    </tr>\n",
       "    <tr>\n",
       "      <th>28</th>\n",
       "      <td>3-й Кожуховский проезд</td>\n",
       "      <td>1</td>\n",
       "      <td>122.0</td>\n",
       "      <td>ЮВАО</td>\n",
       "      <td>Южнопортовый Район</td>\n",
       "    </tr>\n",
       "    <tr>\n",
       "      <th>29</th>\n",
       "      <td>улица Школа-интернат</td>\n",
       "      <td>1</td>\n",
       "      <td>NaN</td>\n",
       "      <td>NaN</td>\n",
       "      <td>NaN</td>\n",
       "    </tr>\n",
       "  </tbody>\n",
       "</table>\n",
       "</div>"
      ],
      "text/plain": [
       "                                     street  count_object  areaid okrug  \\\n",
       "0                     2-я Гражданская улица             1    22.0   ВАО   \n",
       "1              1-й Краснокурсантский проезд             1   114.0  ЮВАО   \n",
       "2                   1-й Курьяновский проезд             1   118.0  ЮВАО   \n",
       "3                      2-й Кабельный проезд             1   114.0  ЮВАО   \n",
       "4                    улица Лефортовский Вал             1   114.0  ЮВАО   \n",
       "5                    1-й Саратовский проезд             1   121.0  ЮВАО   \n",
       "6                      2-й Иртышский проезд             1    25.0   ВАО   \n",
       "7                  3-я Железногорская улица             1   133.0  ЮЗАО   \n",
       "8                        улица Новая Дорога             1    13.0   ЦАО   \n",
       "9                           улица Фонвизина             1    74.0  СВАО   \n",
       "10  улица Линии Октябрьской Железной Дороги             1    67.0   САО   \n",
       "11                      улица Крутицкий Вал             1   122.0  ЮВАО   \n",
       "12                            улица Фадеева             1    19.0   ЦАО   \n",
       "13                  1-й Ботанический проезд             1    82.0  СВАО   \n",
       "14                          улица Немчинова             1    67.0   САО   \n",
       "15                          улица Паперника             1   120.0  ЮВАО   \n",
       "16                             шоссе Фрезер             1   117.0  ЮВАО   \n",
       "17                    2-я Барышевская улица             1     NaN   NaN   \n",
       "18                     улица Павла Андреева             1    14.0   ЦАО   \n",
       "19                     улица Павла Андреева             1    98.0   ЮАО   \n",
       "20                    3-й Стрелецкий проезд             1    78.0  СВАО   \n",
       "21          2-й Сельскохозяйственный проезд             1    81.0  СВАО   \n",
       "22                              улица Щорса             1    46.0   ЗАО   \n",
       "23                            улица Шумкина             1    26.0   ВАО   \n",
       "24                           улица Шумилова             1   113.0  ЮВАО   \n",
       "25                         улица Недорубова             1     NaN   NaN   \n",
       "26                     3-й Угрешский проезд             1   118.0  ЮВАО   \n",
       "27                            улица Кубинка             1    41.0   ЗАО   \n",
       "28                   3-й Кожуховский проезд             1   122.0  ЮВАО   \n",
       "29                     улица Школа-интернат             1     NaN   NaN   \n",
       "\n",
       "                   area  \n",
       "0     Район Богородское  \n",
       "1       Район Лефортово  \n",
       "2       Район Печатники  \n",
       "3       Район Лефортово  \n",
       "4       Район Лефортово  \n",
       "5    Район Текстильщики  \n",
       "6       Район Гольяново  \n",
       "7    Район Южное Бутово  \n",
       "8       Басманный район  \n",
       "9       Бутырский район  \n",
       "10  Тимирязевский Район  \n",
       "11   Южнопортовый Район  \n",
       "12       Тверской район  \n",
       "13       Район Свиблово  \n",
       "14  Тимирязевский Район  \n",
       "15      Рязанский район  \n",
       "16  Нижегородский район  \n",
       "17                  NaN  \n",
       "18  Район Замоскворечье  \n",
       "19    Даниловский район  \n",
       "20   Район Марьина роща  \n",
       "21      Район Ростокино  \n",
       "22       Район Солнцево  \n",
       "23     Район Сокольники  \n",
       "24      Район Кузьминки  \n",
       "25                  NaN  \n",
       "26      Район Печатники  \n",
       "27      Можайский Район  \n",
       "28   Южнопортовый Район  \n",
       "29                  NaN  "
      ]
     },
     "execution_count": 27,
     "metadata": {},
     "output_type": "execute_result"
    }
   ],
   "source": [
    "area_one_object = one_object.merge(moscow_streets,on='street', how='left') #объединяем таблицы\n",
    "area_one_object.head(30)"
   ]
  },
  {
   "cell_type": "code",
   "execution_count": 28,
   "metadata": {
    "scrolled": true
   },
   "outputs": [
    {
     "data": {
      "text/plain": [
       "Район Марьина роща        15\n",
       "Район Лефортово           11\n",
       "Район Богородское          9\n",
       "Нижегородский район        9\n",
       "Таганский район            9\n",
       "Район Сокольники           8\n",
       "Район Южное Бутово         8\n",
       "Можайский Район            8\n",
       "Даниловский район          8\n",
       "Район Внуково              8\n",
       "Лосиноостровский район     7\n",
       "Район Люблино              7\n",
       "Район Соколиная Гора       7\n",
       "Тимирязевский Район        6\n",
       "Район Кунцево              6\n",
       "Пресненский район          6\n",
       "Район Солнцево             6\n",
       "Донской район              6\n",
       "Дмитровский район          6\n",
       "Район Выхино-Жулебино      5\n",
       "Name: area, dtype: int64"
      ]
     },
     "execution_count": 28,
     "metadata": {},
     "output_type": "execute_result"
    }
   ],
   "source": [
    "area_one_object['area'].value_counts().head(20) #посмотрим на районы, где на улице одно заведение общественного питания"
   ]
  },
  {
   "cell_type": "markdown",
   "metadata": {},
   "source": [
    "**Вывод**\n",
    "\n",
    "Лидирующими можно выделить Район Марьина роща, Район Лефортово,Таганский район, Нижегородский район, Район Богородское."
   ]
  },
  {
   "cell_type": "markdown",
   "metadata": {},
   "source": [
    "**Посмотрим на распределение количества посадочных мест для улиц с большим количеством объектов общественного питания**"
   ]
  },
  {
   "cell_type": "code",
   "execution_count": 29,
   "metadata": {
    "scrolled": true
   },
   "outputs": [
    {
     "data": {
      "text/html": [
       "<div>\n",
       "<style scoped>\n",
       "    .dataframe tbody tr th:only-of-type {\n",
       "        vertical-align: middle;\n",
       "    }\n",
       "\n",
       "    .dataframe tbody tr th {\n",
       "        vertical-align: top;\n",
       "    }\n",
       "\n",
       "    .dataframe thead th {\n",
       "        text-align: right;\n",
       "    }\n",
       "</style>\n",
       "<table border=\"1\" class=\"dataframe\">\n",
       "  <thead>\n",
       "    <tr style=\"text-align: right;\">\n",
       "      <th></th>\n",
       "      <th>id</th>\n",
       "      <th>number</th>\n",
       "    </tr>\n",
       "    <tr>\n",
       "      <th>street</th>\n",
       "      <th></th>\n",
       "      <th></th>\n",
       "    </tr>\n",
       "  </thead>\n",
       "  <tbody>\n",
       "    <tr>\n",
       "      <th>Профсоюзная улица</th>\n",
       "      <td>183</td>\n",
       "      <td>47.36</td>\n",
       "    </tr>\n",
       "    <tr>\n",
       "      <th>Варшавское шоссе</th>\n",
       "      <td>165</td>\n",
       "      <td>52.28</td>\n",
       "    </tr>\n",
       "    <tr>\n",
       "      <th>Каширское шоссе</th>\n",
       "      <td>112</td>\n",
       "      <td>55.10</td>\n",
       "    </tr>\n",
       "    <tr>\n",
       "      <th>Кировоградская улица</th>\n",
       "      <td>110</td>\n",
       "      <td>59.79</td>\n",
       "    </tr>\n",
       "    <tr>\n",
       "      <th>Ходынский бульвар</th>\n",
       "      <td>102</td>\n",
       "      <td>18.95</td>\n",
       "    </tr>\n",
       "    <tr>\n",
       "      <th>Ленинградское шоссе</th>\n",
       "      <td>100</td>\n",
       "      <td>44.68</td>\n",
       "    </tr>\n",
       "    <tr>\n",
       "      <th>Дмитровское шоссе</th>\n",
       "      <td>100</td>\n",
       "      <td>63.19</td>\n",
       "    </tr>\n",
       "    <tr>\n",
       "      <th>улица Новый Арбат</th>\n",
       "      <td>92</td>\n",
       "      <td>54.18</td>\n",
       "    </tr>\n",
       "    <tr>\n",
       "      <th>улица Ленинская Слобода</th>\n",
       "      <td>89</td>\n",
       "      <td>34.06</td>\n",
       "    </tr>\n",
       "    <tr>\n",
       "      <th>улица Сущёвский Вал</th>\n",
       "      <td>86</td>\n",
       "      <td>30.65</td>\n",
       "    </tr>\n",
       "  </tbody>\n",
       "</table>\n",
       "</div>"
      ],
      "text/plain": [
       "                          id  number\n",
       "street                              \n",
       "Профсоюзная улица        183   47.36\n",
       "Варшавское шоссе         165   52.28\n",
       "Каширское шоссе          112   55.10\n",
       "Кировоградская улица     110   59.79\n",
       "Ходынский бульвар        102   18.95\n",
       "Ленинградское шоссе      100   44.68\n",
       "Дмитровское шоссе        100   63.19\n",
       "улица Новый Арбат         92   54.18\n",
       "улица Ленинская Слобода   89   34.06\n",
       "улица Сущёвский Вал       86   30.65"
      ]
     },
     "execution_count": 29,
     "metadata": {},
     "output_type": "execute_result"
    }
   ],
   "source": [
    "top_seats_ten = rest_data.groupby('street').agg({'id' : 'count', 'number' : 'mean'}).sort_values(by='id',ascending = False).round(2).head(10)\n",
    "top_seats_ten  #посмотрим на распределение количества посадочных мест для улиц с большим количеством объектов общественного питания"
   ]
  },
  {
   "cell_type": "code",
   "execution_count": 30,
   "metadata": {
    "scrolled": true
   },
   "outputs": [
    {
     "data": {
      "image/png": "[encoded data removed]",
      "text/plain": [
       "<Figure size 432x432 with 3 Axes>"
      ]
     },
     "metadata": {
      "needs_background": "light"
     },
     "output_type": "display_data"
    }
   ],
   "source": [
    "a = sns.jointplot(x = \"id\", y = \"number\", data = top_seats_ten)\n",
    "a.set_axis_labels('Количество заведений', 'Число посадочных мест')\n",
    "a.fig.suptitle('Взаимосвязь количества заведений сети и среднего количества посадочных мест')\n",
    "a.fig.subplots_adjust(top=0.95)"
   ]
  },
  {
   "cell_type": "markdown",
   "metadata": {},
   "source": [
    "**Вывод**\n",
    "\n",
    "Однозначно сделать вывод не представляется возможным. Большое число посадочных мест есть как у заведений от 100 объектов общественного питания, так и свыше 200."
   ]
  },
  {
   "cell_type": "markdown",
   "metadata": {},
   "source": [
    "**Посмотрим на распределение количества посадочных мест для улиц всех объектов общественного питания**"
   ]
  },
  {
   "cell_type": "code",
   "execution_count": 31,
   "metadata": {
    "scrolled": true
   },
   "outputs": [
    {
     "data": {
      "text/html": [
       "<div>\n",
       "<style scoped>\n",
       "    .dataframe tbody tr th:only-of-type {\n",
       "        vertical-align: middle;\n",
       "    }\n",
       "\n",
       "    .dataframe tbody tr th {\n",
       "        vertical-align: top;\n",
       "    }\n",
       "\n",
       "    .dataframe thead th {\n",
       "        text-align: right;\n",
       "    }\n",
       "</style>\n",
       "<table border=\"1\" class=\"dataframe\">\n",
       "  <thead>\n",
       "    <tr style=\"text-align: right;\">\n",
       "      <th></th>\n",
       "      <th>id</th>\n",
       "      <th>number</th>\n",
       "    </tr>\n",
       "    <tr>\n",
       "      <th>street</th>\n",
       "      <th></th>\n",
       "      <th></th>\n",
       "    </tr>\n",
       "  </thead>\n",
       "  <tbody>\n",
       "    <tr>\n",
       "      <th>Профсоюзная улица</th>\n",
       "      <td>183</td>\n",
       "      <td>47.36</td>\n",
       "    </tr>\n",
       "    <tr>\n",
       "      <th>Варшавское шоссе</th>\n",
       "      <td>165</td>\n",
       "      <td>52.28</td>\n",
       "    </tr>\n",
       "    <tr>\n",
       "      <th>Каширское шоссе</th>\n",
       "      <td>112</td>\n",
       "      <td>55.10</td>\n",
       "    </tr>\n",
       "    <tr>\n",
       "      <th>Кировоградская улица</th>\n",
       "      <td>110</td>\n",
       "      <td>59.79</td>\n",
       "    </tr>\n",
       "    <tr>\n",
       "      <th>Ходынский бульвар</th>\n",
       "      <td>102</td>\n",
       "      <td>18.95</td>\n",
       "    </tr>\n",
       "    <tr>\n",
       "      <th>...</th>\n",
       "      <td>...</td>\n",
       "      <td>...</td>\n",
       "    </tr>\n",
       "    <tr>\n",
       "      <th>Большая Юшуньская улица</th>\n",
       "      <td>1</td>\n",
       "      <td>55.00</td>\n",
       "    </tr>\n",
       "    <tr>\n",
       "      <th>Боровая улица</th>\n",
       "      <td>1</td>\n",
       "      <td>10.00</td>\n",
       "    </tr>\n",
       "    <tr>\n",
       "      <th>Боровский проезд</th>\n",
       "      <td>1</td>\n",
       "      <td>96.00</td>\n",
       "    </tr>\n",
       "    <tr>\n",
       "      <th>Янтарный проезд</th>\n",
       "      <td>1</td>\n",
       "      <td>300.00</td>\n",
       "    </tr>\n",
       "    <tr>\n",
       "      <th>Большая Внуковская улица</th>\n",
       "      <td>1</td>\n",
       "      <td>46.00</td>\n",
       "    </tr>\n",
       "  </tbody>\n",
       "</table>\n",
       "<p>1466 rows × 2 columns</p>\n",
       "</div>"
      ],
      "text/plain": [
       "                           id  number\n",
       "street                               \n",
       "Профсоюзная улица         183   47.36\n",
       "Варшавское шоссе          165   52.28\n",
       "Каширское шоссе           112   55.10\n",
       "Кировоградская улица      110   59.79\n",
       "Ходынский бульвар         102   18.95\n",
       "...                       ...     ...\n",
       "Большая Юшуньская улица     1   55.00\n",
       "Боровая улица               1   10.00\n",
       "Боровский проезд            1   96.00\n",
       "Янтарный проезд             1  300.00\n",
       "Большая Внуковская улица    1   46.00\n",
       "\n",
       "[1466 rows x 2 columns]"
      ]
     },
     "execution_count": 31,
     "metadata": {},
     "output_type": "execute_result"
    }
   ],
   "source": [
    "top_seats = rest_data.groupby('street').agg({'id' : 'count', 'number' : 'mean'}).sort_values(by='id',ascending = False).round(2)\n",
    "top_seats  #посмотрим на распределение количества посадочных мест для улиц всех объектов общественного питания"
   ]
  },
  {
   "cell_type": "code",
   "execution_count": 32,
   "metadata": {
    "scrolled": true
   },
   "outputs": [
    {
     "data": {
      "image/png": "[encoded data removed]",
      "text/plain": [
       "<Figure size 432x432 with 3 Axes>"
      ]
     },
     "metadata": {
      "needs_background": "light"
     },
     "output_type": "display_data"
    }
   ],
   "source": [
    "b = sns.jointplot(x = \"id\", y = \"number\", data = top_seats)\n",
    "b.set_axis_labels('Количество заведений', 'Число посадочных мест')\n",
    "b.fig.suptitle('Взаимосвязь количества заведений сети и среднего количества посадочных мест')\n",
    "b.fig.subplots_adjust(top=0.95)"
   ]
  },
  {
   "cell_type": "markdown",
   "metadata": {},
   "source": [
    "**Вывод**\n",
    "Чем меньше количество заведений, тем больше число посадочных мест."
   ]
  },
  {
   "cell_type": "markdown",
   "metadata": {},
   "source": [
    "**Общий вывод**\n",
    "\n",
    "Провели исследование соотношения видов объектов общественного питания по количеству. Больше всего в Москве представлены из объектов общественного питания- Кафе(из них сетевые только 23%). \n",
    "У Кафе среднее количество посадочных мест - 40. Так как планируем открыть небольшое кафе, то 40 посадочных мест вполне достаточно. \n",
    "\n",
    "При обработке данных были выявлены дубликаты в названиях заведений - это скорее всего дубликаты названия сетевых точек(не удаляем).И дубликаты в адресе местоположения - возможно связаны с тем, что в одном здании находится несколько разных заведений общественного питания.\n",
    "\n",
    "Место расположение нового кафе лучше выбрать в центру города, где в основном население работает/проводит свое время. А также ввиду 1 заведения на улицу можно посмотреть Юго-Западный, Южный административный округ и муниципальный округ Чертаново.\n",
    "\n",
    "Также можно рассмотреть заведение быстрого обслуживания (наибольшую долю сетевых заведений в Москве имеют предприятия быстрого обслуживания - 42%), где роботы смогут выполнять упрощенные функции - например еда на вынос или кофе с собой.\n",
    "\n",
    "Презентация: https://disk.yandex.ru/i/ssEm6okVT2Dwug\n",
    "\n"
   ]
  }
 ],
 "metadata": {
  "ExecuteTimeLog": [
   {
    "duration": 2115,
    "start_time": "2022-03-25T11:26:46.925Z"
   },
   {
    "duration": 23,
    "start_time": "2022-03-25T11:28:38.890Z"
   },
   {
    "duration": 13,
    "start_time": "2022-03-25T11:40:57.053Z"
   },
   {
    "duration": 26,
    "start_time": "2022-03-25T11:41:35.107Z"
   },
   {
    "duration": 84,
    "start_time": "2022-03-25T11:50:07.771Z"
   },
   {
    "duration": 10,
    "start_time": "2022-03-25T11:53:39.807Z"
   },
   {
    "duration": 10,
    "start_time": "2022-03-25T11:54:24.822Z"
   },
   {
    "duration": 24,
    "start_time": "2022-03-25T13:01:37.089Z"
   },
   {
    "duration": 27,
    "start_time": "2022-03-25T13:02:25.359Z"
   },
   {
    "duration": 27,
    "start_time": "2022-03-25T13:02:44.599Z"
   },
   {
    "duration": 22,
    "start_time": "2022-03-25T14:11:08.536Z"
   },
   {
    "duration": 9,
    "start_time": "2022-03-25T14:14:16.582Z"
   },
   {
    "duration": 5,
    "start_time": "2022-03-25T14:33:58.629Z"
   },
   {
    "duration": 10,
    "start_time": "2022-03-25T14:34:25.059Z"
   },
   {
    "duration": 303,
    "start_time": "2022-03-25T14:34:44.737Z"
   },
   {
    "duration": 267,
    "start_time": "2022-03-25T14:35:03.241Z"
   },
   {
    "duration": 1962,
    "start_time": "2022-03-25T18:58:20.874Z"
   },
   {
    "duration": 40,
    "start_time": "2022-03-25T18:58:22.842Z"
   },
   {
    "duration": 15,
    "start_time": "2022-03-25T18:58:22.885Z"
   },
   {
    "duration": 20,
    "start_time": "2022-03-25T18:58:22.903Z"
   },
   {
    "duration": 66,
    "start_time": "2022-03-25T18:58:22.926Z"
   },
   {
    "duration": 8,
    "start_time": "2022-03-25T18:58:22.995Z"
   },
   {
    "duration": 7,
    "start_time": "2022-03-25T18:58:23.006Z"
   },
   {
    "duration": 10,
    "start_time": "2022-03-25T18:58:23.016Z"
   },
   {
    "duration": 331,
    "start_time": "2022-03-25T18:58:23.028Z"
   },
   {
    "duration": 8,
    "start_time": "2022-03-25T19:03:01.554Z"
   },
   {
    "duration": 208,
    "start_time": "2022-03-25T19:04:24.180Z"
   },
   {
    "duration": 85,
    "start_time": "2022-03-25T19:05:00.332Z"
   },
   {
    "duration": 27,
    "start_time": "2022-03-25T19:05:12.897Z"
   },
   {
    "duration": 16,
    "start_time": "2022-03-25T19:05:17.264Z"
   },
   {
    "duration": 10,
    "start_time": "2022-03-25T19:05:52.497Z"
   },
   {
    "duration": 10,
    "start_time": "2022-03-25T19:28:10.879Z"
   },
   {
    "duration": 177,
    "start_time": "2022-03-25T19:31:39.571Z"
   },
   {
    "duration": 1404,
    "start_time": "2022-03-26T17:30:54.447Z"
   },
   {
    "duration": 15,
    "start_time": "2022-03-26T17:30:55.853Z"
   },
   {
    "duration": 17,
    "start_time": "2022-03-26T17:30:55.869Z"
   },
   {
    "duration": 19,
    "start_time": "2022-03-26T17:30:55.888Z"
   },
   {
    "duration": 30,
    "start_time": "2022-03-26T17:30:55.909Z"
   },
   {
    "duration": 6,
    "start_time": "2022-03-26T17:30:55.940Z"
   },
   {
    "duration": 11,
    "start_time": "2022-03-26T17:30:55.947Z"
   },
   {
    "duration": 14,
    "start_time": "2022-03-26T17:30:55.959Z"
   },
   {
    "duration": 174,
    "start_time": "2022-03-26T17:30:55.975Z"
   },
   {
    "duration": 7,
    "start_time": "2022-03-26T17:30:56.152Z"
   },
   {
    "duration": 115,
    "start_time": "2022-03-26T17:30:56.160Z"
   },
   {
    "duration": 7,
    "start_time": "2022-03-26T18:01:21.143Z"
   },
   {
    "duration": 17,
    "start_time": "2022-03-26T18:01:46.822Z"
   },
   {
    "duration": 103,
    "start_time": "2022-03-26T18:03:45.516Z"
   },
   {
    "duration": 1867,
    "start_time": "2022-03-26T20:05:05.322Z"
   },
   {
    "duration": 21,
    "start_time": "2022-03-26T20:05:07.192Z"
   },
   {
    "duration": 33,
    "start_time": "2022-03-26T20:05:07.215Z"
   },
   {
    "duration": 20,
    "start_time": "2022-03-26T20:05:07.251Z"
   },
   {
    "duration": 30,
    "start_time": "2022-03-26T20:05:07.273Z"
   },
   {
    "duration": 7,
    "start_time": "2022-03-26T20:05:07.306Z"
   },
   {
    "duration": 8,
    "start_time": "2022-03-26T20:05:07.344Z"
   },
   {
    "duration": 12,
    "start_time": "2022-03-26T20:05:07.355Z"
   },
   {
    "duration": 294,
    "start_time": "2022-03-26T20:05:07.369Z"
   },
   {
    "duration": 8,
    "start_time": "2022-03-26T20:05:07.666Z"
   },
   {
    "duration": 188,
    "start_time": "2022-03-26T20:05:07.676Z"
   },
   {
    "duration": 12,
    "start_time": "2022-03-26T20:05:07.866Z"
   },
   {
    "duration": 167,
    "start_time": "2022-03-26T20:05:07.880Z"
   },
   {
    "duration": 5,
    "start_time": "2022-03-26T20:05:57.297Z"
   },
   {
    "duration": 12,
    "start_time": "2022-03-26T20:10:54.502Z"
   },
   {
    "duration": 6,
    "start_time": "2022-03-26T20:11:08.577Z"
   },
   {
    "duration": 6,
    "start_time": "2022-03-26T20:12:37.296Z"
   },
   {
    "duration": 28,
    "start_time": "2022-03-26T20:23:07.410Z"
   },
   {
    "duration": 19,
    "start_time": "2022-03-26T20:24:13.862Z"
   },
   {
    "duration": 23,
    "start_time": "2022-03-26T20:31:59.148Z"
   },
   {
    "duration": 21,
    "start_time": "2022-03-26T20:32:15.434Z"
   },
   {
    "duration": 14,
    "start_time": "2022-03-26T20:47:47.931Z"
   },
   {
    "duration": 19,
    "start_time": "2022-03-26T20:52:01.838Z"
   },
   {
    "duration": 1499,
    "start_time": "2022-03-27T13:33:37.160Z"
   },
   {
    "duration": 18,
    "start_time": "2022-03-27T13:33:38.661Z"
   },
   {
    "duration": 10,
    "start_time": "2022-03-27T13:33:38.681Z"
   },
   {
    "duration": 19,
    "start_time": "2022-03-27T13:33:38.694Z"
   },
   {
    "duration": 19,
    "start_time": "2022-03-27T13:33:38.715Z"
   },
   {
    "duration": 31,
    "start_time": "2022-03-27T13:33:38.735Z"
   },
   {
    "duration": 15,
    "start_time": "2022-03-27T13:33:38.768Z"
   },
   {
    "duration": 10,
    "start_time": "2022-03-27T13:33:38.785Z"
   },
   {
    "duration": 251,
    "start_time": "2022-03-27T13:33:38.797Z"
   },
   {
    "duration": 16,
    "start_time": "2022-03-27T13:33:39.051Z"
   },
   {
    "duration": 114,
    "start_time": "2022-03-27T13:33:39.069Z"
   },
   {
    "duration": 22,
    "start_time": "2022-03-27T13:33:39.185Z"
   },
   {
    "duration": 11,
    "start_time": "2022-03-27T13:33:39.209Z"
   },
   {
    "duration": 1827,
    "start_time": "2022-03-27T16:59:47.981Z"
   },
   {
    "duration": 19,
    "start_time": "2022-03-27T16:59:49.811Z"
   },
   {
    "duration": 10,
    "start_time": "2022-03-27T16:59:49.833Z"
   },
   {
    "duration": 42,
    "start_time": "2022-03-27T16:59:49.846Z"
   },
   {
    "duration": 30,
    "start_time": "2022-03-27T16:59:49.890Z"
   },
   {
    "duration": 8,
    "start_time": "2022-03-27T16:59:49.922Z"
   },
   {
    "duration": 9,
    "start_time": "2022-03-27T16:59:49.932Z"
   },
   {
    "duration": 37,
    "start_time": "2022-03-27T16:59:49.943Z"
   },
   {
    "duration": 297,
    "start_time": "2022-03-27T16:59:49.982Z"
   },
   {
    "duration": 9,
    "start_time": "2022-03-27T16:59:50.282Z"
   },
   {
    "duration": 194,
    "start_time": "2022-03-27T16:59:50.293Z"
   },
   {
    "duration": 24,
    "start_time": "2022-03-27T16:59:50.489Z"
   },
   {
    "duration": 15,
    "start_time": "2022-03-27T16:59:50.515Z"
   },
   {
    "duration": 20,
    "start_time": "2022-03-27T17:19:47.411Z"
   },
   {
    "duration": 23,
    "start_time": "2022-03-27T17:21:36.661Z"
   },
   {
    "duration": 18,
    "start_time": "2022-03-27T17:22:10.668Z"
   },
   {
    "duration": 20,
    "start_time": "2022-03-27T17:47:38.541Z"
   },
   {
    "duration": 255,
    "start_time": "2022-03-27T17:55:43.174Z"
   },
   {
    "duration": 27,
    "start_time": "2022-03-27T17:59:42.413Z"
   },
   {
    "duration": 307,
    "start_time": "2022-03-27T17:59:48.522Z"
   },
   {
    "duration": 30,
    "start_time": "2022-03-27T18:00:41.049Z"
   },
   {
    "duration": 257,
    "start_time": "2022-03-27T18:00:48.116Z"
   },
   {
    "duration": 29,
    "start_time": "2022-03-27T18:01:02.705Z"
   },
   {
    "duration": 341,
    "start_time": "2022-03-27T18:01:13.729Z"
   },
   {
    "duration": 31,
    "start_time": "2022-03-27T18:01:53.906Z"
   },
   {
    "duration": 257,
    "start_time": "2022-03-27T18:02:02.630Z"
   },
   {
    "duration": 14,
    "start_time": "2022-03-27T18:16:00.042Z"
   },
   {
    "duration": 18,
    "start_time": "2022-03-27T18:16:24.171Z"
   },
   {
    "duration": 41,
    "start_time": "2022-03-27T18:16:44.001Z"
   },
   {
    "duration": 385,
    "start_time": "2022-03-27T18:16:50.999Z"
   },
   {
    "duration": 1306,
    "start_time": "2022-03-27T20:02:53.281Z"
   },
   {
    "duration": 14,
    "start_time": "2022-03-27T20:02:54.590Z"
   },
   {
    "duration": 28,
    "start_time": "2022-03-27T20:02:54.609Z"
   },
   {
    "duration": 14,
    "start_time": "2022-03-27T20:02:54.639Z"
   },
   {
    "duration": 30,
    "start_time": "2022-03-27T20:02:54.655Z"
   },
   {
    "duration": 6,
    "start_time": "2022-03-27T20:02:54.687Z"
   },
   {
    "duration": 13,
    "start_time": "2022-03-27T20:02:54.695Z"
   },
   {
    "duration": 16,
    "start_time": "2022-03-27T20:02:54.710Z"
   },
   {
    "duration": 172,
    "start_time": "2022-03-27T20:02:54.737Z"
   },
   {
    "duration": 7,
    "start_time": "2022-03-27T20:02:54.911Z"
   },
   {
    "duration": 124,
    "start_time": "2022-03-27T20:02:54.919Z"
   },
   {
    "duration": 15,
    "start_time": "2022-03-27T20:02:55.045Z"
   },
   {
    "duration": 16,
    "start_time": "2022-03-27T20:02:55.062Z"
   },
   {
    "duration": 24,
    "start_time": "2022-03-27T20:02:55.080Z"
   },
   {
    "duration": 159,
    "start_time": "2022-03-27T20:02:55.106Z"
   },
   {
    "duration": 10,
    "start_time": "2022-03-27T20:02:55.267Z"
   },
   {
    "duration": 513,
    "start_time": "2022-03-27T20:07:52.916Z"
   },
   {
    "duration": 402,
    "start_time": "2022-03-27T20:08:21.963Z"
   },
   {
    "duration": 405,
    "start_time": "2022-03-27T20:08:58.742Z"
   },
   {
    "duration": 10,
    "start_time": "2022-03-27T20:11:32.783Z"
   },
   {
    "duration": 402,
    "start_time": "2022-03-27T20:16:38.212Z"
   },
   {
    "duration": 409,
    "start_time": "2022-03-27T20:16:49.233Z"
   },
   {
    "duration": 400,
    "start_time": "2022-03-27T20:17:26.315Z"
   },
   {
    "duration": 486,
    "start_time": "2022-03-27T20:17:34.990Z"
   },
   {
    "duration": 427,
    "start_time": "2022-03-27T20:18:28.918Z"
   },
   {
    "duration": 434,
    "start_time": "2022-03-27T20:18:52.591Z"
   },
   {
    "duration": 433,
    "start_time": "2022-03-27T20:21:00.543Z"
   },
   {
    "duration": 404,
    "start_time": "2022-03-27T20:21:11.618Z"
   },
   {
    "duration": 414,
    "start_time": "2022-03-27T20:21:25.520Z"
   },
   {
    "duration": 453,
    "start_time": "2022-03-27T20:21:34.646Z"
   },
   {
    "duration": 444,
    "start_time": "2022-03-27T20:21:43.292Z"
   },
   {
    "duration": 494,
    "start_time": "2022-03-27T20:22:17.783Z"
   },
   {
    "duration": 2046,
    "start_time": "2022-03-27T20:47:21.102Z"
   },
   {
    "duration": 123,
    "start_time": "2022-03-27T20:48:58.479Z"
   },
   {
    "duration": 14,
    "start_time": "2022-03-27T21:10:12.663Z"
   },
   {
    "duration": 10,
    "start_time": "2022-03-27T21:10:57.232Z"
   },
   {
    "duration": 18,
    "start_time": "2022-03-27T21:14:09.717Z"
   },
   {
    "duration": 15,
    "start_time": "2022-03-27T21:14:55.982Z"
   },
   {
    "duration": 14,
    "start_time": "2022-03-27T21:18:47.011Z"
   },
   {
    "duration": 199,
    "start_time": "2022-03-27T21:18:58.615Z"
   },
   {
    "duration": 207,
    "start_time": "2022-03-27T21:19:10.690Z"
   },
   {
    "duration": 198,
    "start_time": "2022-03-27T21:19:59.982Z"
   },
   {
    "duration": 1400,
    "start_time": "2022-03-28T07:59:47.821Z"
   },
   {
    "duration": 17,
    "start_time": "2022-03-28T07:59:49.224Z"
   },
   {
    "duration": 12,
    "start_time": "2022-03-28T07:59:49.242Z"
   },
   {
    "duration": 15,
    "start_time": "2022-03-28T07:59:49.256Z"
   },
   {
    "duration": 19,
    "start_time": "2022-03-28T07:59:49.273Z"
   },
   {
    "duration": 7,
    "start_time": "2022-03-28T07:59:49.294Z"
   },
   {
    "duration": 7,
    "start_time": "2022-03-28T07:59:49.333Z"
   },
   {
    "duration": 9,
    "start_time": "2022-03-28T07:59:49.342Z"
   },
   {
    "duration": 181,
    "start_time": "2022-03-28T07:59:49.353Z"
   },
   {
    "duration": 6,
    "start_time": "2022-03-28T07:59:49.537Z"
   },
   {
    "duration": 117,
    "start_time": "2022-03-28T07:59:49.546Z"
   },
   {
    "duration": 17,
    "start_time": "2022-03-28T07:59:49.665Z"
   },
   {
    "duration": 12,
    "start_time": "2022-03-28T07:59:49.684Z"
   },
   {
    "duration": 41,
    "start_time": "2022-03-28T07:59:49.698Z"
   },
   {
    "duration": 164,
    "start_time": "2022-03-28T07:59:49.741Z"
   },
   {
    "duration": 14,
    "start_time": "2022-03-28T07:59:49.907Z"
   },
   {
    "duration": 450,
    "start_time": "2022-03-28T07:59:49.933Z"
   },
   {
    "duration": 54,
    "start_time": "2022-03-28T07:59:50.385Z"
   },
   {
    "duration": 14,
    "start_time": "2022-03-28T07:59:50.440Z"
   },
   {
    "duration": 204,
    "start_time": "2022-03-28T07:59:50.456Z"
   },
   {
    "duration": 23,
    "start_time": "2022-03-28T08:31:58.010Z"
   },
   {
    "duration": 109,
    "start_time": "2022-03-28T08:47:32.967Z"
   },
   {
    "duration": 17,
    "start_time": "2022-03-28T08:48:14.397Z"
   },
   {
    "duration": 16,
    "start_time": "2022-03-28T08:49:00.070Z"
   },
   {
    "duration": 19,
    "start_time": "2022-03-28T08:50:08.716Z"
   },
   {
    "duration": 1559,
    "start_time": "2022-03-28T10:12:57.569Z"
   },
   {
    "duration": 16,
    "start_time": "2022-03-28T10:12:59.130Z"
   },
   {
    "duration": 13,
    "start_time": "2022-03-28T10:12:59.148Z"
   },
   {
    "duration": 15,
    "start_time": "2022-03-28T10:12:59.163Z"
   },
   {
    "duration": 22,
    "start_time": "2022-03-28T10:12:59.200Z"
   },
   {
    "duration": 7,
    "start_time": "2022-03-28T10:12:59.224Z"
   },
   {
    "duration": 13,
    "start_time": "2022-03-28T10:12:59.233Z"
   },
   {
    "duration": 10,
    "start_time": "2022-03-28T10:12:59.247Z"
   },
   {
    "duration": 214,
    "start_time": "2022-03-28T10:12:59.259Z"
   },
   {
    "duration": 7,
    "start_time": "2022-03-28T10:12:59.476Z"
   },
   {
    "duration": 136,
    "start_time": "2022-03-28T10:12:59.485Z"
   },
   {
    "duration": 17,
    "start_time": "2022-03-28T10:12:59.623Z"
   },
   {
    "duration": 11,
    "start_time": "2022-03-28T10:12:59.641Z"
   },
   {
    "duration": 20,
    "start_time": "2022-03-28T10:12:59.654Z"
   },
   {
    "duration": 171,
    "start_time": "2022-03-28T10:12:59.701Z"
   },
   {
    "duration": 13,
    "start_time": "2022-03-28T10:12:59.874Z"
   },
   {
    "duration": 502,
    "start_time": "2022-03-28T10:12:59.902Z"
   },
   {
    "duration": 43,
    "start_time": "2022-03-28T10:13:00.407Z"
   },
   {
    "duration": 16,
    "start_time": "2022-03-28T10:13:00.451Z"
   },
   {
    "duration": 235,
    "start_time": "2022-03-28T10:13:00.469Z"
   },
   {
    "duration": 25,
    "start_time": "2022-03-28T10:13:00.705Z"
   },
   {
    "duration": 18,
    "start_time": "2022-03-28T10:13:00.732Z"
   },
   {
    "duration": 339,
    "start_time": "2022-03-28T10:13:00.752Z"
   },
   {
    "duration": 765,
    "start_time": "2022-03-28T10:56:02.590Z"
   },
   {
    "duration": 27,
    "start_time": "2022-03-28T11:08:14.535Z"
   },
   {
    "duration": 434,
    "start_time": "2022-03-28T11:08:37.470Z"
   },
   {
    "duration": 21,
    "start_time": "2022-03-28T11:10:29.038Z"
   },
   {
    "duration": 829,
    "start_time": "2022-03-28T11:12:48.523Z"
   },
   {
    "duration": 47,
    "start_time": "2022-03-28T12:54:51.371Z"
   },
   {
    "duration": 1453,
    "start_time": "2022-03-28T12:55:13.319Z"
   },
   {
    "duration": 15,
    "start_time": "2022-03-28T12:55:14.774Z"
   },
   {
    "duration": 11,
    "start_time": "2022-03-28T12:55:14.790Z"
   },
   {
    "duration": 33,
    "start_time": "2022-03-28T12:55:14.803Z"
   },
   {
    "duration": 18,
    "start_time": "2022-03-28T12:55:14.838Z"
   },
   {
    "duration": 6,
    "start_time": "2022-03-28T12:55:14.857Z"
   },
   {
    "duration": 15,
    "start_time": "2022-03-28T12:55:14.864Z"
   },
   {
    "duration": 9,
    "start_time": "2022-03-28T12:55:14.880Z"
   },
   {
    "duration": 183,
    "start_time": "2022-03-28T12:55:14.890Z"
   },
   {
    "duration": 6,
    "start_time": "2022-03-28T12:55:15.077Z"
   },
   {
    "duration": 117,
    "start_time": "2022-03-28T12:55:15.085Z"
   },
   {
    "duration": 16,
    "start_time": "2022-03-28T12:55:15.204Z"
   },
   {
    "duration": 11,
    "start_time": "2022-03-28T12:55:15.233Z"
   },
   {
    "duration": 190,
    "start_time": "2022-03-28T12:55:15.246Z"
   },
   {
    "duration": 18,
    "start_time": "2022-03-28T12:55:15.438Z"
   },
   {
    "duration": 154,
    "start_time": "2022-03-28T12:55:15.458Z"
   },
   {
    "duration": 25,
    "start_time": "2022-03-28T12:55:15.614Z"
   },
   {
    "duration": 446,
    "start_time": "2022-03-28T12:55:15.641Z"
   },
   {
    "duration": 49,
    "start_time": "2022-03-28T12:55:16.089Z"
   },
   {
    "duration": 13,
    "start_time": "2022-03-28T12:55:16.140Z"
   },
   {
    "duration": 194,
    "start_time": "2022-03-28T12:55:16.154Z"
   },
   {
    "duration": 23,
    "start_time": "2022-03-28T12:55:16.350Z"
   },
   {
    "duration": 17,
    "start_time": "2022-03-28T12:55:16.375Z"
   },
   {
    "duration": 522,
    "start_time": "2022-03-28T12:55:16.394Z"
   },
   {
    "duration": 24,
    "start_time": "2022-03-28T12:55:16.918Z"
   },
   {
    "duration": 723,
    "start_time": "2022-03-28T12:55:16.944Z"
   },
   {
    "duration": 171,
    "start_time": "2022-03-28T12:57:25.978Z"
   },
   {
    "duration": 1494,
    "start_time": "2022-03-28T14:40:02.666Z"
   },
   {
    "duration": 15,
    "start_time": "2022-03-28T14:40:04.162Z"
   },
   {
    "duration": 9,
    "start_time": "2022-03-28T14:40:04.179Z"
   },
   {
    "duration": 14,
    "start_time": "2022-03-28T14:40:04.202Z"
   },
   {
    "duration": 19,
    "start_time": "2022-03-28T14:40:04.218Z"
   },
   {
    "duration": 6,
    "start_time": "2022-03-28T14:40:04.239Z"
   },
   {
    "duration": 7,
    "start_time": "2022-03-28T14:40:04.247Z"
   },
   {
    "duration": 9,
    "start_time": "2022-03-28T14:40:04.256Z"
   },
   {
    "duration": 199,
    "start_time": "2022-03-28T14:40:04.267Z"
   },
   {
    "duration": 7,
    "start_time": "2022-03-28T14:40:04.468Z"
   },
   {
    "duration": 119,
    "start_time": "2022-03-28T14:40:04.477Z"
   },
   {
    "duration": 19,
    "start_time": "2022-03-28T14:40:04.601Z"
   },
   {
    "duration": 10,
    "start_time": "2022-03-28T14:40:04.622Z"
   },
   {
    "duration": 193,
    "start_time": "2022-03-28T14:40:04.634Z"
   },
   {
    "duration": 18,
    "start_time": "2022-03-28T14:40:04.829Z"
   },
   {
    "duration": 169,
    "start_time": "2022-03-28T14:40:04.849Z"
   },
   {
    "duration": 11,
    "start_time": "2022-03-28T14:40:05.020Z"
   },
   {
    "duration": 446,
    "start_time": "2022-03-28T14:40:05.033Z"
   },
   {
    "duration": 48,
    "start_time": "2022-03-28T14:40:05.482Z"
   },
   {
    "duration": 16,
    "start_time": "2022-03-28T14:40:05.532Z"
   },
   {
    "duration": 196,
    "start_time": "2022-03-28T14:40:05.550Z"
   },
   {
    "duration": 22,
    "start_time": "2022-03-28T14:40:05.748Z"
   },
   {
    "duration": 33,
    "start_time": "2022-03-28T14:40:05.771Z"
   },
   {
    "duration": 590,
    "start_time": "2022-03-28T14:40:05.806Z"
   },
   {
    "duration": 19,
    "start_time": "2022-03-28T14:40:06.398Z"
   },
   {
    "duration": 764,
    "start_time": "2022-03-28T14:40:06.419Z"
   },
   {
    "duration": 1167,
    "start_time": "2022-03-28T19:20:40.920Z"
   },
   {
    "duration": 14,
    "start_time": "2022-03-28T19:20:42.089Z"
   },
   {
    "duration": 9,
    "start_time": "2022-03-28T19:20:42.109Z"
   },
   {
    "duration": 12,
    "start_time": "2022-03-28T19:20:42.119Z"
   },
   {
    "duration": 19,
    "start_time": "2022-03-28T19:20:42.133Z"
   },
   {
    "duration": 5,
    "start_time": "2022-03-28T19:20:42.154Z"
   },
   {
    "duration": 10,
    "start_time": "2022-03-28T19:20:42.160Z"
   },
   {
    "duration": 8,
    "start_time": "2022-03-28T19:20:42.172Z"
   },
   {
    "duration": 204,
    "start_time": "2022-03-28T19:20:42.182Z"
   },
   {
    "duration": 21,
    "start_time": "2022-03-28T19:20:42.388Z"
   },
   {
    "duration": 112,
    "start_time": "2022-03-28T19:20:42.410Z"
   },
   {
    "duration": 15,
    "start_time": "2022-03-28T19:20:42.524Z"
   },
   {
    "duration": 10,
    "start_time": "2022-03-28T19:20:42.540Z"
   },
   {
    "duration": 210,
    "start_time": "2022-03-28T19:20:42.552Z"
   },
   {
    "duration": 17,
    "start_time": "2022-03-28T19:20:42.763Z"
   },
   {
    "duration": 165,
    "start_time": "2022-03-28T19:20:42.782Z"
   },
   {
    "duration": 12,
    "start_time": "2022-03-28T19:20:42.948Z"
   },
   {
    "duration": 483,
    "start_time": "2022-03-28T19:20:42.961Z"
   },
   {
    "duration": 41,
    "start_time": "2022-03-28T19:20:43.446Z"
   },
   {
    "duration": 27,
    "start_time": "2022-03-28T19:20:43.489Z"
   },
   {
    "duration": 209,
    "start_time": "2022-03-28T19:20:43.517Z"
   },
   {
    "duration": 22,
    "start_time": "2022-03-28T19:20:43.728Z"
   },
   {
    "duration": 18,
    "start_time": "2022-03-28T19:20:43.752Z"
   },
   {
    "duration": 542,
    "start_time": "2022-03-28T19:20:43.772Z"
   },
   {
    "duration": 20,
    "start_time": "2022-03-28T19:20:44.316Z"
   },
   {
    "duration": 814,
    "start_time": "2022-03-28T19:20:44.338Z"
   },
   {
    "duration": 1421,
    "start_time": "2022-03-30T07:27:57.871Z"
   },
   {
    "duration": 14,
    "start_time": "2022-03-30T07:27:59.293Z"
   },
   {
    "duration": 9,
    "start_time": "2022-03-30T07:27:59.309Z"
   },
   {
    "duration": 24,
    "start_time": "2022-03-30T07:27:59.320Z"
   },
   {
    "duration": 19,
    "start_time": "2022-03-30T07:27:59.346Z"
   },
   {
    "duration": 6,
    "start_time": "2022-03-30T07:27:59.366Z"
   },
   {
    "duration": 19,
    "start_time": "2022-03-30T07:27:59.374Z"
   },
   {
    "duration": 9,
    "start_time": "2022-03-30T07:27:59.395Z"
   },
   {
    "duration": 178,
    "start_time": "2022-03-30T07:27:59.406Z"
   },
   {
    "duration": 7,
    "start_time": "2022-03-30T07:27:59.587Z"
   },
   {
    "duration": 126,
    "start_time": "2022-03-30T07:27:59.596Z"
   },
   {
    "duration": 18,
    "start_time": "2022-03-30T07:27:59.725Z"
   },
   {
    "duration": 11,
    "start_time": "2022-03-30T07:27:59.745Z"
   },
   {
    "duration": 200,
    "start_time": "2022-03-30T07:27:59.758Z"
   },
   {
    "duration": 18,
    "start_time": "2022-03-30T07:27:59.961Z"
   },
   {
    "duration": 168,
    "start_time": "2022-03-30T07:27:59.982Z"
   },
   {
    "duration": 12,
    "start_time": "2022-03-30T07:28:00.151Z"
   },
   {
    "duration": 457,
    "start_time": "2022-03-30T07:28:00.165Z"
   },
   {
    "duration": 45,
    "start_time": "2022-03-30T07:28:00.624Z"
   },
   {
    "duration": 14,
    "start_time": "2022-03-30T07:28:00.671Z"
   },
   {
    "duration": 199,
    "start_time": "2022-03-30T07:28:00.687Z"
   },
   {
    "duration": 22,
    "start_time": "2022-03-30T07:28:00.888Z"
   },
   {
    "duration": 29,
    "start_time": "2022-03-30T07:28:00.912Z"
   },
   {
    "duration": 587,
    "start_time": "2022-03-30T07:28:00.942Z"
   },
   {
    "duration": 19,
    "start_time": "2022-03-30T07:28:01.532Z"
   },
   {
    "duration": 749,
    "start_time": "2022-03-30T07:28:01.553Z"
   },
   {
    "duration": 1265,
    "start_time": "2022-03-30T07:33:44.412Z"
   },
   {
    "duration": 13,
    "start_time": "2022-03-30T07:33:45.679Z"
   },
   {
    "duration": 10,
    "start_time": "2022-03-30T07:33:45.694Z"
   },
   {
    "duration": 34,
    "start_time": "2022-03-30T07:33:45.706Z"
   },
   {
    "duration": 18,
    "start_time": "2022-03-30T07:33:45.742Z"
   },
   {
    "duration": 7,
    "start_time": "2022-03-30T07:33:45.762Z"
   },
   {
    "duration": 10,
    "start_time": "2022-03-30T07:33:45.770Z"
   },
   {
    "duration": 8,
    "start_time": "2022-03-30T07:33:45.781Z"
   },
   {
    "duration": 191,
    "start_time": "2022-03-30T07:33:45.790Z"
   },
   {
    "duration": 6,
    "start_time": "2022-03-30T07:33:45.984Z"
   },
   {
    "duration": 110,
    "start_time": "2022-03-30T07:33:45.992Z"
   },
   {
    "duration": 15,
    "start_time": "2022-03-30T07:33:46.104Z"
   },
   {
    "duration": 11,
    "start_time": "2022-03-30T07:33:46.132Z"
   },
   {
    "duration": 180,
    "start_time": "2022-03-30T07:33:46.145Z"
   },
   {
    "duration": 21,
    "start_time": "2022-03-30T07:33:46.327Z"
   },
   {
    "duration": 167,
    "start_time": "2022-03-30T07:33:46.350Z"
   },
   {
    "duration": 17,
    "start_time": "2022-03-30T07:33:46.518Z"
   },
   {
    "duration": 467,
    "start_time": "2022-03-30T07:33:46.537Z"
   },
   {
    "duration": 51,
    "start_time": "2022-03-30T07:33:47.007Z"
   },
   {
    "duration": 20,
    "start_time": "2022-03-30T07:33:47.060Z"
   },
   {
    "duration": 212,
    "start_time": "2022-03-30T07:33:47.082Z"
   },
   {
    "duration": 24,
    "start_time": "2022-03-30T07:33:47.295Z"
   },
   {
    "duration": 25,
    "start_time": "2022-03-30T07:33:47.320Z"
   },
   {
    "duration": 518,
    "start_time": "2022-03-30T07:33:47.347Z"
   },
   {
    "duration": 20,
    "start_time": "2022-03-30T07:33:47.866Z"
   },
   {
    "duration": 722,
    "start_time": "2022-03-30T07:33:47.887Z"
   },
   {
    "duration": 10,
    "start_time": "2022-03-30T07:35:13.268Z"
   },
   {
    "duration": 11,
    "start_time": "2022-03-30T07:36:44.798Z"
   },
   {
    "duration": 5,
    "start_time": "2022-03-30T07:39:01.355Z"
   },
   {
    "duration": 58,
    "start_time": "2022-03-30T07:51:04.133Z"
   },
   {
    "duration": 58,
    "start_time": "2022-03-30T07:52:05.163Z"
   },
   {
    "duration": 14,
    "start_time": "2022-03-30T07:52:28.136Z"
   },
   {
    "duration": 186,
    "start_time": "2022-03-30T07:52:37.406Z"
   },
   {
    "duration": 1182,
    "start_time": "2022-03-30T07:57:37.136Z"
   },
   {
    "duration": 14,
    "start_time": "2022-03-30T07:57:38.320Z"
   },
   {
    "duration": 13,
    "start_time": "2022-03-30T07:57:38.336Z"
   },
   {
    "duration": 14,
    "start_time": "2022-03-30T07:57:38.351Z"
   },
   {
    "duration": 13,
    "start_time": "2022-03-30T07:57:38.368Z"
   },
   {
    "duration": 22,
    "start_time": "2022-03-30T07:57:38.383Z"
   },
   {
    "duration": 6,
    "start_time": "2022-03-30T07:57:38.406Z"
   },
   {
    "duration": 7,
    "start_time": "2022-03-30T07:57:38.434Z"
   },
   {
    "duration": 6,
    "start_time": "2022-03-30T07:57:38.443Z"
   },
   {
    "duration": 8,
    "start_time": "2022-03-30T07:57:38.450Z"
   },
   {
    "duration": 191,
    "start_time": "2022-03-30T07:57:38.460Z"
   },
   {
    "duration": 7,
    "start_time": "2022-03-30T07:57:38.653Z"
   },
   {
    "duration": 122,
    "start_time": "2022-03-30T07:57:38.662Z"
   },
   {
    "duration": 16,
    "start_time": "2022-03-30T07:57:38.788Z"
   },
   {
    "duration": 27,
    "start_time": "2022-03-30T07:57:38.806Z"
   },
   {
    "duration": 180,
    "start_time": "2022-03-30T07:57:38.835Z"
   },
   {
    "duration": 27,
    "start_time": "2022-03-30T07:57:39.017Z"
   },
   {
    "duration": 159,
    "start_time": "2022-03-30T07:57:39.046Z"
   },
   {
    "duration": 12,
    "start_time": "2022-03-30T07:57:39.207Z"
   },
   {
    "duration": 462,
    "start_time": "2022-03-30T07:57:39.233Z"
   },
   {
    "duration": 66,
    "start_time": "2022-03-30T07:57:39.697Z"
   },
   {
    "duration": 2,
    "start_time": "2022-03-30T07:57:39.765Z"
   },
   {
    "duration": 16,
    "start_time": "2022-03-30T07:57:39.768Z"
   },
   {
    "duration": 214,
    "start_time": "2022-03-30T07:57:39.786Z"
   },
   {
    "duration": 32,
    "start_time": "2022-03-30T07:57:40.002Z"
   },
   {
    "duration": 17,
    "start_time": "2022-03-30T07:57:40.036Z"
   },
   {
    "duration": 454,
    "start_time": "2022-03-30T07:57:40.055Z"
   },
   {
    "duration": 26,
    "start_time": "2022-03-30T07:57:40.511Z"
   },
   {
    "duration": 744,
    "start_time": "2022-03-30T07:57:40.539Z"
   },
   {
    "duration": 12,
    "start_time": "2022-03-30T07:59:24.859Z"
   },
   {
    "duration": 201,
    "start_time": "2022-03-30T08:01:08.619Z"
   },
   {
    "duration": 93,
    "start_time": "2022-03-30T08:01:14.055Z"
   },
   {
    "duration": 76,
    "start_time": "2022-03-30T08:01:18.889Z"
   },
   {
    "duration": 346,
    "start_time": "2022-03-30T08:07:41.140Z"
   },
   {
    "duration": 1823,
    "start_time": "2022-03-30T10:09:42.966Z"
   },
   {
    "duration": 18,
    "start_time": "2022-03-30T10:09:44.793Z"
   },
   {
    "duration": 32,
    "start_time": "2022-03-30T10:09:44.813Z"
   },
   {
    "duration": 31,
    "start_time": "2022-03-30T10:09:44.848Z"
   },
   {
    "duration": 30,
    "start_time": "2022-03-30T10:09:44.881Z"
   },
   {
    "duration": 43,
    "start_time": "2022-03-30T10:09:44.913Z"
   },
   {
    "duration": 8,
    "start_time": "2022-03-30T10:09:44.959Z"
   },
   {
    "duration": 28,
    "start_time": "2022-03-30T10:09:44.969Z"
   },
   {
    "duration": 20,
    "start_time": "2022-03-30T10:09:44.999Z"
   },
   {
    "duration": 20,
    "start_time": "2022-03-30T10:09:45.023Z"
   },
   {
    "duration": 273,
    "start_time": "2022-03-30T10:09:45.045Z"
   },
   {
    "duration": 8,
    "start_time": "2022-03-30T10:09:45.321Z"
   },
   {
    "duration": 213,
    "start_time": "2022-03-30T10:09:45.331Z"
   },
   {
    "duration": 36,
    "start_time": "2022-03-30T10:09:45.547Z"
   },
   {
    "duration": 14,
    "start_time": "2022-03-30T10:09:45.585Z"
   },
   {
    "duration": 286,
    "start_time": "2022-03-30T10:09:45.601Z"
   },
   {
    "duration": 26,
    "start_time": "2022-03-30T10:09:45.889Z"
   },
   {
    "duration": 265,
    "start_time": "2022-03-30T10:09:45.917Z"
   },
   {
    "duration": 16,
    "start_time": "2022-03-30T10:09:46.184Z"
   },
   {
    "duration": 866,
    "start_time": "2022-03-30T10:09:46.202Z"
   },
   {
    "duration": 91,
    "start_time": "2022-03-30T10:09:47.071Z"
   },
   {
    "duration": 17,
    "start_time": "2022-03-30T10:09:47.165Z"
   },
   {
    "duration": 20,
    "start_time": "2022-03-30T10:09:47.184Z"
   },
   {
    "duration": 336,
    "start_time": "2022-03-30T10:09:47.207Z"
   },
   {
    "duration": 527,
    "start_time": "2022-03-30T10:09:47.546Z"
   },
   {
    "duration": 0,
    "start_time": "2022-03-30T10:09:48.076Z"
   },
   {
    "duration": 0,
    "start_time": "2022-03-30T10:09:48.078Z"
   },
   {
    "duration": 0,
    "start_time": "2022-03-30T10:09:48.082Z"
   },
   {
    "duration": 0,
    "start_time": "2022-03-30T10:09:48.083Z"
   },
   {
    "duration": 0,
    "start_time": "2022-03-30T10:09:48.085Z"
   },
   {
    "duration": 205,
    "start_time": "2022-03-30T10:12:07.397Z"
   },
   {
    "duration": 248,
    "start_time": "2022-03-30T10:40:05.341Z"
   },
   {
    "duration": 35,
    "start_time": "2022-03-30T10:43:49.023Z"
   },
   {
    "duration": 10,
    "start_time": "2022-03-30T10:44:31.571Z"
   },
   {
    "duration": 24,
    "start_time": "2022-03-30T10:44:39.741Z"
   },
   {
    "duration": 316,
    "start_time": "2022-03-30T10:56:08.975Z"
   },
   {
    "duration": 1753,
    "start_time": "2022-03-30T11:10:42.995Z"
   },
   {
    "duration": 34,
    "start_time": "2022-03-30T11:10:44.751Z"
   },
   {
    "duration": 16,
    "start_time": "2022-03-30T11:10:44.788Z"
   },
   {
    "duration": 33,
    "start_time": "2022-03-30T11:10:44.808Z"
   },
   {
    "duration": 39,
    "start_time": "2022-03-30T11:10:44.844Z"
   },
   {
    "duration": 27,
    "start_time": "2022-03-30T11:10:44.886Z"
   },
   {
    "duration": 23,
    "start_time": "2022-03-30T11:10:44.916Z"
   },
   {
    "duration": 31,
    "start_time": "2022-03-30T11:10:44.941Z"
   },
   {
    "duration": 23,
    "start_time": "2022-03-30T11:10:44.974Z"
   },
   {
    "duration": 23,
    "start_time": "2022-03-30T11:10:45.002Z"
   },
   {
    "duration": 276,
    "start_time": "2022-03-30T11:10:45.027Z"
   },
   {
    "duration": 9,
    "start_time": "2022-03-30T11:10:45.306Z"
   },
   {
    "duration": 213,
    "start_time": "2022-03-30T11:10:45.316Z"
   },
   {
    "duration": 22,
    "start_time": "2022-03-30T11:10:45.531Z"
   },
   {
    "duration": 34,
    "start_time": "2022-03-30T11:10:45.555Z"
   },
   {
    "duration": 294,
    "start_time": "2022-03-30T11:10:45.591Z"
   },
   {
    "duration": 25,
    "start_time": "2022-03-30T11:10:45.888Z"
   },
   {
    "duration": 256,
    "start_time": "2022-03-30T11:10:45.915Z"
   },
   {
    "duration": 22,
    "start_time": "2022-03-30T11:10:46.173Z"
   },
   {
    "duration": 803,
    "start_time": "2022-03-30T11:10:46.197Z"
   },
   {
    "duration": 100,
    "start_time": "2022-03-30T11:10:47.003Z"
   },
   {
    "duration": 4,
    "start_time": "2022-03-30T11:10:47.106Z"
   },
   {
    "duration": 18,
    "start_time": "2022-03-30T11:10:47.112Z"
   },
   {
    "duration": 338,
    "start_time": "2022-03-30T11:10:47.133Z"
   },
   {
    "duration": 214,
    "start_time": "2022-03-30T11:10:47.473Z"
   },
   {
    "duration": 35,
    "start_time": "2022-03-30T11:10:47.690Z"
   },
   {
    "duration": 63,
    "start_time": "2022-03-30T11:10:47.728Z"
   },
   {
    "duration": 32,
    "start_time": "2022-03-30T11:10:47.797Z"
   },
   {
    "duration": 658,
    "start_time": "2022-03-30T11:10:47.832Z"
   },
   {
    "duration": 24,
    "start_time": "2022-03-30T11:10:48.492Z"
   },
   {
    "duration": 1164,
    "start_time": "2022-03-30T11:10:48.518Z"
   },
   {
    "duration": 1899,
    "start_time": "2022-03-30T11:38:23.546Z"
   },
   {
    "duration": 20,
    "start_time": "2022-03-30T11:38:25.448Z"
   },
   {
    "duration": 12,
    "start_time": "2022-03-30T11:38:25.483Z"
   },
   {
    "duration": 19,
    "start_time": "2022-03-30T11:38:25.498Z"
   },
   {
    "duration": 12,
    "start_time": "2022-03-30T11:38:25.519Z"
   },
   {
    "duration": 60,
    "start_time": "2022-03-30T11:38:25.533Z"
   },
   {
    "duration": 9,
    "start_time": "2022-03-30T11:38:25.595Z"
   },
   {
    "duration": 10,
    "start_time": "2022-03-30T11:38:25.607Z"
   },
   {
    "duration": 12,
    "start_time": "2022-03-30T11:38:25.619Z"
   },
   {
    "duration": 9,
    "start_time": "2022-03-30T11:38:25.635Z"
   },
   {
    "duration": 315,
    "start_time": "2022-03-30T11:38:25.646Z"
   },
   {
    "duration": 9,
    "start_time": "2022-03-30T11:38:25.963Z"
   },
   {
    "duration": 202,
    "start_time": "2022-03-30T11:38:25.985Z"
   },
   {
    "duration": 27,
    "start_time": "2022-03-30T11:38:26.189Z"
   },
   {
    "duration": 16,
    "start_time": "2022-03-30T11:38:26.219Z"
   },
   {
    "duration": 334,
    "start_time": "2022-03-30T11:38:26.239Z"
   },
   {
    "duration": 32,
    "start_time": "2022-03-30T11:38:26.576Z"
   },
   {
    "duration": 278,
    "start_time": "2022-03-30T11:38:26.612Z"
   },
   {
    "duration": 17,
    "start_time": "2022-03-30T11:38:26.892Z"
   },
   {
    "duration": 856,
    "start_time": "2022-03-30T11:38:26.911Z"
   },
   {
    "duration": 91,
    "start_time": "2022-03-30T11:38:27.770Z"
   },
   {
    "duration": 3,
    "start_time": "2022-03-30T11:38:27.863Z"
   },
   {
    "duration": 42,
    "start_time": "2022-03-30T11:38:27.884Z"
   },
   {
    "duration": 345,
    "start_time": "2022-03-30T11:38:27.928Z"
   },
   {
    "duration": 244,
    "start_time": "2022-03-30T11:38:28.275Z"
   },
   {
    "duration": 26,
    "start_time": "2022-03-30T11:38:28.521Z"
   },
   {
    "duration": 41,
    "start_time": "2022-03-30T11:38:28.550Z"
   },
   {
    "duration": 24,
    "start_time": "2022-03-30T11:38:28.597Z"
   },
   {
    "duration": 718,
    "start_time": "2022-03-30T11:38:28.624Z"
   },
   {
    "duration": 25,
    "start_time": "2022-03-30T11:38:29.344Z"
   },
   {
    "duration": 1142,
    "start_time": "2022-03-30T11:38:29.384Z"
   },
   {
    "duration": 31,
    "start_time": "2022-03-30T11:40:23.943Z"
   },
   {
    "duration": 28,
    "start_time": "2022-03-30T11:41:49.931Z"
   },
   {
    "duration": 32,
    "start_time": "2022-03-30T11:43:54.994Z"
   },
   {
    "duration": 10,
    "start_time": "2022-03-30T11:46:32.000Z"
   },
   {
    "duration": 1380,
    "start_time": "2022-06-22T08:30:14.162Z"
   },
   {
    "duration": 14,
    "start_time": "2022-06-22T08:30:15.544Z"
   },
   {
    "duration": 16,
    "start_time": "2022-06-22T08:30:15.559Z"
   },
   {
    "duration": 14,
    "start_time": "2022-06-22T08:30:15.577Z"
   },
   {
    "duration": 10,
    "start_time": "2022-06-22T08:30:15.592Z"
   },
   {
    "duration": 28,
    "start_time": "2022-06-22T08:30:15.604Z"
   },
   {
    "duration": 7,
    "start_time": "2022-06-22T08:30:15.634Z"
   },
   {
    "duration": 8,
    "start_time": "2022-06-22T08:30:15.642Z"
   },
   {
    "duration": 7,
    "start_time": "2022-06-22T08:30:15.652Z"
   },
   {
    "duration": 6,
    "start_time": "2022-06-22T08:30:15.661Z"
   },
   {
    "duration": 203,
    "start_time": "2022-06-22T08:30:15.668Z"
   },
   {
    "duration": 8,
    "start_time": "2022-06-22T08:30:15.872Z"
   },
   {
    "duration": 145,
    "start_time": "2022-06-22T08:30:15.882Z"
   },
   {
    "duration": 17,
    "start_time": "2022-06-22T08:30:16.029Z"
   },
   {
    "duration": 12,
    "start_time": "2022-06-22T08:30:16.048Z"
   },
   {
    "duration": 208,
    "start_time": "2022-06-22T08:30:16.061Z"
   },
   {
    "duration": 18,
    "start_time": "2022-06-22T08:30:16.272Z"
   },
   {
    "duration": 166,
    "start_time": "2022-06-22T08:30:16.292Z"
   },
   {
    "duration": 11,
    "start_time": "2022-06-22T08:30:16.460Z"
   },
   {
    "duration": 556,
    "start_time": "2022-06-22T08:30:16.473Z"
   },
   {
    "duration": 51,
    "start_time": "2022-06-22T08:30:17.031Z"
   },
   {
    "duration": 2,
    "start_time": "2022-06-22T08:30:17.084Z"
   },
   {
    "duration": 17,
    "start_time": "2022-06-22T08:30:17.088Z"
   },
   {
    "duration": 213,
    "start_time": "2022-06-22T08:30:17.126Z"
   },
   {
    "duration": 284,
    "start_time": "2022-06-22T08:30:17.340Z"
   },
   {
    "duration": 15,
    "start_time": "2022-06-22T08:30:17.626Z"
   },
   {
    "duration": 21,
    "start_time": "2022-06-22T08:30:17.643Z"
   },
   {
    "duration": 17,
    "start_time": "2022-06-22T08:30:17.668Z"
   },
   {
    "duration": 6,
    "start_time": "2022-06-22T08:30:17.686Z"
   },
   {
    "duration": 16,
    "start_time": "2022-06-22T08:30:17.726Z"
   },
   {
    "duration": 505,
    "start_time": "2022-06-22T08:30:17.744Z"
   },
   {
    "duration": 17,
    "start_time": "2022-06-22T08:30:18.250Z"
   },
   {
    "duration": 810,
    "start_time": "2022-06-22T08:30:18.269Z"
   },
   {
    "duration": 1260,
    "start_time": "2022-06-22T08:36:02.344Z"
   },
   {
    "duration": 13,
    "start_time": "2022-06-22T08:36:03.607Z"
   },
   {
    "duration": 8,
    "start_time": "2022-06-22T08:36:03.623Z"
   },
   {
    "duration": 13,
    "start_time": "2022-06-22T08:36:03.634Z"
   },
   {
    "duration": 14,
    "start_time": "2022-06-22T08:36:03.649Z"
   },
   {
    "duration": 21,
    "start_time": "2022-06-22T08:36:03.665Z"
   },
   {
    "duration": 6,
    "start_time": "2022-06-22T08:36:03.688Z"
   },
   {
    "duration": 7,
    "start_time": "2022-06-22T08:36:03.728Z"
   },
   {
    "duration": 10,
    "start_time": "2022-06-22T08:36:03.737Z"
   },
   {
    "duration": 7,
    "start_time": "2022-06-22T08:36:03.749Z"
   },
   {
    "duration": 200,
    "start_time": "2022-06-22T08:36:03.758Z"
   },
   {
    "duration": 8,
    "start_time": "2022-06-22T08:36:03.960Z"
   },
   {
    "duration": 147,
    "start_time": "2022-06-22T08:36:03.970Z"
   },
   {
    "duration": 22,
    "start_time": "2022-06-22T08:36:04.119Z"
   },
   {
    "duration": 10,
    "start_time": "2022-06-22T08:36:04.142Z"
   },
   {
    "duration": 199,
    "start_time": "2022-06-22T08:36:04.154Z"
   },
   {
    "duration": 17,
    "start_time": "2022-06-22T08:36:04.354Z"
   },
   {
    "duration": 166,
    "start_time": "2022-06-22T08:36:04.372Z"
   },
   {
    "duration": 11,
    "start_time": "2022-06-22T08:36:04.539Z"
   },
   {
    "duration": 451,
    "start_time": "2022-06-22T08:36:04.552Z"
   },
   {
    "duration": 74,
    "start_time": "2022-06-22T08:36:05.005Z"
   },
   {
    "duration": 10,
    "start_time": "2022-06-22T08:36:05.081Z"
   },
   {
    "duration": 226,
    "start_time": "2022-06-22T08:36:05.093Z"
   },
   {
    "duration": 234,
    "start_time": "2022-06-22T08:36:05.325Z"
   },
   {
    "duration": 15,
    "start_time": "2022-06-22T08:36:05.561Z"
   },
   {
    "duration": 20,
    "start_time": "2022-06-22T08:36:05.578Z"
   },
   {
    "duration": 28,
    "start_time": "2022-06-22T08:36:05.599Z"
   },
   {
    "duration": 7,
    "start_time": "2022-06-22T08:36:05.630Z"
   },
   {
    "duration": 27,
    "start_time": "2022-06-22T08:36:05.638Z"
   },
   {
    "duration": 436,
    "start_time": "2022-06-22T08:36:05.666Z"
   },
   {
    "duration": 25,
    "start_time": "2022-06-22T08:36:06.104Z"
   },
   {
    "duration": 889,
    "start_time": "2022-06-22T08:36:06.131Z"
   },
   {
    "duration": 1192,
    "start_time": "2022-06-22T08:37:38.717Z"
   },
   {
    "duration": 13,
    "start_time": "2022-06-22T08:37:39.911Z"
   },
   {
    "duration": 9,
    "start_time": "2022-06-22T08:37:39.926Z"
   },
   {
    "duration": 16,
    "start_time": "2022-06-22T08:37:39.938Z"
   },
   {
    "duration": 11,
    "start_time": "2022-06-22T08:37:39.956Z"
   },
   {
    "duration": 19,
    "start_time": "2022-06-22T08:37:39.969Z"
   },
   {
    "duration": 5,
    "start_time": "2022-06-22T08:37:39.990Z"
   },
   {
    "duration": 33,
    "start_time": "2022-06-22T08:37:39.997Z"
   },
   {
    "duration": 10,
    "start_time": "2022-06-22T08:37:40.032Z"
   },
   {
    "duration": 13,
    "start_time": "2022-06-22T08:37:40.044Z"
   },
   {
    "duration": 173,
    "start_time": "2022-06-22T08:37:40.059Z"
   },
   {
    "duration": 6,
    "start_time": "2022-06-22T08:37:40.233Z"
   },
   {
    "duration": 122,
    "start_time": "2022-06-22T08:37:40.240Z"
   },
   {
    "duration": 15,
    "start_time": "2022-06-22T08:37:40.364Z"
   },
   {
    "duration": 10,
    "start_time": "2022-06-22T08:37:40.380Z"
   },
   {
    "duration": 209,
    "start_time": "2022-06-22T08:37:40.391Z"
   },
   {
    "duration": 24,
    "start_time": "2022-06-22T08:37:40.602Z"
   },
   {
    "duration": 162,
    "start_time": "2022-06-22T08:37:40.628Z"
   },
   {
    "duration": 12,
    "start_time": "2022-06-22T08:37:40.793Z"
   },
   {
    "duration": 446,
    "start_time": "2022-06-22T08:37:40.806Z"
   },
   {
    "duration": 54,
    "start_time": "2022-06-22T08:37:41.254Z"
   },
   {
    "duration": 23,
    "start_time": "2022-06-22T08:37:41.310Z"
   },
   {
    "duration": 211,
    "start_time": "2022-06-22T08:37:41.335Z"
   },
   {
    "duration": 301,
    "start_time": "2022-06-22T08:37:41.548Z"
   },
   {
    "duration": 15,
    "start_time": "2022-06-22T08:37:41.851Z"
   },
   {
    "duration": 19,
    "start_time": "2022-06-22T08:37:41.868Z"
   },
   {
    "duration": 17,
    "start_time": "2022-06-22T08:37:41.889Z"
   },
   {
    "duration": 21,
    "start_time": "2022-06-22T08:37:41.909Z"
   },
   {
    "duration": 19,
    "start_time": "2022-06-22T08:37:41.932Z"
   },
   {
    "duration": 445,
    "start_time": "2022-06-22T08:37:41.953Z"
   },
   {
    "duration": 26,
    "start_time": "2022-06-22T08:37:42.400Z"
   },
   {
    "duration": 797,
    "start_time": "2022-06-22T08:37:42.428Z"
   }
  ],
  "kernelspec": {
   "display_name": "Python 3 (ipykernel)",
   "language": "python",
   "name": "python3"
  },
  "language_info": {
   "codemirror_mode": {
    "name": "ipython",
    "version": 3
   },
   "file_extension": ".py",
   "mimetype": "text/x-python",
   "name": "python",
   "nbconvert_exporter": "python",
   "pygments_lexer": "ipython3",
   "version": "3.9.5"
  },
  "toc": {
   "base_numbering": 1,
   "nav_menu": {},
   "number_sections": true,
   "sideBar": true,
   "skip_h1_title": true,
   "title_cell": "Table of Contents",
   "title_sidebar": "Contents",
   "toc_cell": false,
   "toc_position": {},
   "toc_section_display": true,
   "toc_window_display": false
  }
 },
 "nbformat": 4,
 "nbformat_minor": 2
}
