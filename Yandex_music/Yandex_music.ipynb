{
 "cells": [
  {
   "cell_type": "markdown",
   "metadata": {
    "id": "E0vqbgi9ay0H"
   },
   "source": [
    "# Яндекс.Музыка"
   ]
  },
  {
   "cell_type": "markdown",
   "metadata": {
    "id": "VUC88oWjTJw2"
   },
   "source": [
    "На данных Яндекс.Музыки необходимо сравнить поведение пользователей двух столиц.\n",
    "\n",
    "**Цель исследования** — проверить три гипотезы:\n",
    "1. Активность пользователей зависит от дня недели. Причём в Москве и Петербурге это проявляется по-разному.\n",
    "2. В понедельник утром в Москве преобладают одни жанры, а в Петербурге — другие. Так же и вечером пятницы преобладают разные жанры — в зависимости от города. \n",
    "3. Москва и Петербург предпочитают разные жанры музыки. В Москве чаще слушают поп-музыку, в Петербурге — русский рэп.\n",
    "\n",
    "\n",
    "**Описание данных**\n",
    "\n",
    "* `userID` — идентификатор пользователя;\n",
    "* `Track` — название трека;  \n",
    "* `artist` — имя исполнителя;\n",
    "* `genre` — название жанра;\n",
    "* `City` — город пользователя;\n",
    "* `time` — время начала прослушивания;\n",
    "* `Day` — день недели.\n"
   ]
  },
  {
   "cell_type": "markdown",
   "metadata": {
    "id": "Ml1hmfXC_Zcs"
   },
   "source": [
    "## Изучение данных из файла и подготовка к анализу\n",
    "\n",
    "\n",
    "\n"
   ]
  },
  {
   "cell_type": "code",
   "execution_count": 1,
   "metadata": {
    "id": "AXN7PHPN_Zcs"
   },
   "outputs": [],
   "source": [
    "import pandas as pd # импорт библиотеки pandas"
   ]
  },
  {
   "cell_type": "code",
   "execution_count": 2,
   "metadata": {
    "id": "fFVu7vqh_Zct"
   },
   "outputs": [],
   "source": [
    "df = pd.read_csv('/datasets/yandex_music_project.csv') # чтение файла с данными и сохранение в df"
   ]
  },
  {
   "cell_type": "code",
   "execution_count": 3,
   "metadata": {
    "id": "oWTVX3gW_Zct"
   },
   "outputs": [
    {
     "data": {
      "text/html": [
       "<div>\n",
       "<style scoped>\n",
       "    .dataframe tbody tr th:only-of-type {\n",
       "        vertical-align: middle;\n",
       "    }\n",
       "\n",
       "    .dataframe tbody tr th {\n",
       "        vertical-align: top;\n",
       "    }\n",
       "\n",
       "    .dataframe thead th {\n",
       "        text-align: right;\n",
       "    }\n",
       "</style>\n",
       "<table border=\"1\" class=\"dataframe\">\n",
       "  <thead>\n",
       "    <tr style=\"text-align: right;\">\n",
       "      <th></th>\n",
       "      <th>userID</th>\n",
       "      <th>Track</th>\n",
       "      <th>artist</th>\n",
       "      <th>genre</th>\n",
       "      <th>City</th>\n",
       "      <th>time</th>\n",
       "      <th>Day</th>\n",
       "    </tr>\n",
       "  </thead>\n",
       "  <tbody>\n",
       "    <tr>\n",
       "      <th>0</th>\n",
       "      <td>FFB692EC</td>\n",
       "      <td>Kamigata To Boots</td>\n",
       "      <td>The Mass Missile</td>\n",
       "      <td>rock</td>\n",
       "      <td>Saint-Petersburg</td>\n",
       "      <td>20:28:33</td>\n",
       "      <td>Wednesday</td>\n",
       "    </tr>\n",
       "    <tr>\n",
       "      <th>1</th>\n",
       "      <td>55204538</td>\n",
       "      <td>Delayed Because of Accident</td>\n",
       "      <td>Andreas Rönnberg</td>\n",
       "      <td>rock</td>\n",
       "      <td>Moscow</td>\n",
       "      <td>14:07:09</td>\n",
       "      <td>Friday</td>\n",
       "    </tr>\n",
       "    <tr>\n",
       "      <th>2</th>\n",
       "      <td>20EC38</td>\n",
       "      <td>Funiculì funiculà</td>\n",
       "      <td>Mario Lanza</td>\n",
       "      <td>pop</td>\n",
       "      <td>Saint-Petersburg</td>\n",
       "      <td>20:58:07</td>\n",
       "      <td>Wednesday</td>\n",
       "    </tr>\n",
       "    <tr>\n",
       "      <th>3</th>\n",
       "      <td>A3DD03C9</td>\n",
       "      <td>Dragons in the Sunset</td>\n",
       "      <td>Fire + Ice</td>\n",
       "      <td>folk</td>\n",
       "      <td>Saint-Petersburg</td>\n",
       "      <td>08:37:09</td>\n",
       "      <td>Monday</td>\n",
       "    </tr>\n",
       "    <tr>\n",
       "      <th>4</th>\n",
       "      <td>E2DC1FAE</td>\n",
       "      <td>Soul People</td>\n",
       "      <td>Space Echo</td>\n",
       "      <td>dance</td>\n",
       "      <td>Moscow</td>\n",
       "      <td>08:34:34</td>\n",
       "      <td>Monday</td>\n",
       "    </tr>\n",
       "    <tr>\n",
       "      <th>5</th>\n",
       "      <td>842029A1</td>\n",
       "      <td>Преданная</td>\n",
       "      <td>IMPERVTOR</td>\n",
       "      <td>rusrap</td>\n",
       "      <td>Saint-Petersburg</td>\n",
       "      <td>13:09:41</td>\n",
       "      <td>Friday</td>\n",
       "    </tr>\n",
       "    <tr>\n",
       "      <th>6</th>\n",
       "      <td>4CB90AA5</td>\n",
       "      <td>True</td>\n",
       "      <td>Roman Messer</td>\n",
       "      <td>dance</td>\n",
       "      <td>Moscow</td>\n",
       "      <td>13:00:07</td>\n",
       "      <td>Wednesday</td>\n",
       "    </tr>\n",
       "    <tr>\n",
       "      <th>7</th>\n",
       "      <td>F03E1C1F</td>\n",
       "      <td>Feeling This Way</td>\n",
       "      <td>Polina Griffith</td>\n",
       "      <td>dance</td>\n",
       "      <td>Moscow</td>\n",
       "      <td>20:47:49</td>\n",
       "      <td>Wednesday</td>\n",
       "    </tr>\n",
       "    <tr>\n",
       "      <th>8</th>\n",
       "      <td>8FA1D3BE</td>\n",
       "      <td>И вновь продолжается бой</td>\n",
       "      <td>NaN</td>\n",
       "      <td>ruspop</td>\n",
       "      <td>Moscow</td>\n",
       "      <td>09:17:40</td>\n",
       "      <td>Friday</td>\n",
       "    </tr>\n",
       "    <tr>\n",
       "      <th>9</th>\n",
       "      <td>E772D5C0</td>\n",
       "      <td>Pessimist</td>\n",
       "      <td>NaN</td>\n",
       "      <td>dance</td>\n",
       "      <td>Saint-Petersburg</td>\n",
       "      <td>21:20:49</td>\n",
       "      <td>Wednesday</td>\n",
       "    </tr>\n",
       "  </tbody>\n",
       "</table>\n",
       "</div>"
      ],
      "text/plain": [
       "     userID                        Track            artist   genre  \\\n",
       "0  FFB692EC            Kamigata To Boots  The Mass Missile    rock   \n",
       "1  55204538  Delayed Because of Accident  Andreas Rönnberg    rock   \n",
       "2    20EC38            Funiculì funiculà       Mario Lanza     pop   \n",
       "3  A3DD03C9        Dragons in the Sunset        Fire + Ice    folk   \n",
       "4  E2DC1FAE                  Soul People        Space Echo   dance   \n",
       "5  842029A1                    Преданная         IMPERVTOR  rusrap   \n",
       "6  4CB90AA5                         True      Roman Messer   dance   \n",
       "7  F03E1C1F             Feeling This Way   Polina Griffith   dance   \n",
       "8  8FA1D3BE     И вновь продолжается бой               NaN  ruspop   \n",
       "9  E772D5C0                    Pessimist               NaN   dance   \n",
       "\n",
       "             City        time        Day  \n",
       "0  Saint-Petersburg  20:28:33  Wednesday  \n",
       "1            Moscow  14:07:09     Friday  \n",
       "2  Saint-Petersburg  20:58:07  Wednesday  \n",
       "3  Saint-Petersburg  08:37:09     Monday  \n",
       "4            Moscow  08:34:34     Monday  \n",
       "5  Saint-Petersburg  13:09:41     Friday  \n",
       "6            Moscow  13:00:07  Wednesday  \n",
       "7            Moscow  20:47:49  Wednesday  \n",
       "8            Moscow  09:17:40     Friday  \n",
       "9  Saint-Petersburg  21:20:49  Wednesday  "
      ]
     },
     "execution_count": 3,
     "metadata": {},
     "output_type": "execute_result"
    }
   ],
   "source": [
    "df.head(10) # получение первых 10 строк таблицы df"
   ]
  },
  {
   "cell_type": "code",
   "execution_count": 4,
   "metadata": {
    "id": "DSf2kIb-_Zct"
   },
   "outputs": [
    {
     "name": "stdout",
     "output_type": "stream",
     "text": [
      "<class 'pandas.core.frame.DataFrame'>\n",
      "RangeIndex: 65079 entries, 0 to 65078\n",
      "Data columns (total 7 columns):\n",
      " #   Column    Non-Null Count  Dtype \n",
      "---  ------    --------------  ----- \n",
      " 0     userID  65079 non-null  object\n",
      " 1   Track     63848 non-null  object\n",
      " 2   artist    57876 non-null  object\n",
      " 3   genre     63881 non-null  object\n",
      " 4     City    65079 non-null  object\n",
      " 5   time      65079 non-null  object\n",
      " 6   Day       65079 non-null  object\n",
      "dtypes: object(7)\n",
      "memory usage: 3.5+ MB\n"
     ]
    }
   ],
   "source": [
    "df.info() # получение общей информации о данных в таблице df"
   ]
  },
  {
   "cell_type": "markdown",
   "metadata": {
    "id": "TaQ2Iwbr_Zct"
   },
   "source": [
    "**Вывод**\n",
    "\n",
    "В таблице семь столбцов. Тип данных во всех столбцах — `object`.\n",
    "\n",
    "В названиях колонок видны три нарушения стиля:\n",
    "1. Строчные буквы сочетаются с прописными.\n",
    "2. Встречаются пробелы.\n",
    "3. userID прописан без 'змеиного регистра' # Найдите ещё одну проблему в названии колонок и опишите её в этом пункте.\n",
    "\n",
    "Количество значений в столбцах различается. Значит, в данных есть пропущенные значения.\n"
   ]
  },
  {
   "cell_type": "code",
   "execution_count": 5,
   "metadata": {
    "id": "oKOTdF_Q_Zct"
   },
   "outputs": [
    {
     "data": {
      "text/plain": [
       "Index(['  userID', 'Track', 'artist', 'genre', '  City  ', 'time', 'Day'], dtype='object')"
      ]
     },
     "execution_count": 5,
     "metadata": {},
     "output_type": "execute_result"
    }
   ],
   "source": [
    "df.columns # перечень названий столбцов таблицы df"
   ]
  },
  {
   "cell_type": "code",
   "execution_count": 6,
   "metadata": {
    "id": "ISlFqs5y_Zct"
   },
   "outputs": [],
   "source": [
    "df = df.rename(columns={'  userID':'user_id','Track':'track','  City  ':'city','Day':'day'}) # переименование столбцов"
   ]
  },
  {
   "cell_type": "markdown",
   "metadata": {
    "id": "1dqbh00J_Zct"
   },
   "source": [
    "Проверьте результат. Для этого ещё раз выведите на экран названия столбцов:"
   ]
  },
  {
   "cell_type": "code",
   "execution_count": 7,
   "metadata": {
    "id": "d4NOAmTW_Zct"
   },
   "outputs": [
    {
     "data": {
      "text/plain": [
       "Index(['user_id', 'track', 'artist', 'genre', 'city', 'time', 'day'], dtype='object')"
      ]
     },
     "execution_count": 7,
     "metadata": {},
     "output_type": "execute_result"
    }
   ],
   "source": [
    "df.columns # проверка результатов - перечень названий столбцов"
   ]
  },
  {
   "cell_type": "code",
   "execution_count": 8,
   "metadata": {
    "id": "RskX29qr_Zct"
   },
   "outputs": [
    {
     "data": {
      "text/plain": [
       "user_id       0\n",
       "track      1231\n",
       "artist     7203\n",
       "genre      1198\n",
       "city          0\n",
       "time          0\n",
       "day           0\n",
       "dtype: int64"
      ]
     },
     "execution_count": 8,
     "metadata": {},
     "output_type": "execute_result"
    }
   ],
   "source": [
    "df.isna().sum() # посчитаем пропуски"
   ]
  },
  {
   "cell_type": "code",
   "execution_count": 9,
   "metadata": {
    "id": "KplB5qWs_Zct"
   },
   "outputs": [],
   "source": [
    "columns_to_replace = ['track','artist','genre']\n",
    "for column in columns_to_replace:\n",
    "    df[column] = df[column].fillna('unknown') # перебор названий столбцов в цикле и замена пропущенных значений на 'unknown'"
   ]
  },
  {
   "cell_type": "code",
   "execution_count": 10,
   "metadata": {
    "id": "Tq4nYRX4_Zct"
   },
   "outputs": [
    {
     "name": "stdout",
     "output_type": "stream",
     "text": [
      "user_id    0\n",
      "track      0\n",
      "artist     0\n",
      "genre      0\n",
      "city       0\n",
      "time       0\n",
      "day        0\n",
      "dtype: int64\n"
     ]
    }
   ],
   "source": [
    "print(df.isna().sum()) # проверим действие -подсчёт пропусков"
   ]
  },
  {
   "cell_type": "code",
   "execution_count": 11,
   "metadata": {
    "id": "36eES_S0_Zct"
   },
   "outputs": [
    {
     "data": {
      "text/plain": [
       "3826"
      ]
     },
     "execution_count": 11,
     "metadata": {},
     "output_type": "execute_result"
    }
   ],
   "source": [
    "df.duplicated().sum()# подсчёт явных дубликатов"
   ]
  },
  {
   "cell_type": "code",
   "execution_count": 12,
   "metadata": {
    "id": "exFHq6tt_Zct"
   },
   "outputs": [],
   "source": [
    "df = df.drop_duplicates().reset_index(drop=True) # удаление явных дубликатов (с удалением старых индексов и формированием новых)"
   ]
  },
  {
   "cell_type": "code",
   "execution_count": 13,
   "metadata": {
    "id": "-8PuNWQ0_Zct"
   },
   "outputs": [
    {
     "name": "stdout",
     "output_type": "stream",
     "text": [
      "0\n"
     ]
    }
   ],
   "source": [
    "print(df.duplicated().sum()) # проверка на отсутствие дубликатов"
   ]
  },
  {
   "cell_type": "code",
   "execution_count": 14,
   "metadata": {
    "id": "JIUcqzZN_Zct"
   },
   "outputs": [
    {
     "name": "stdout",
     "output_type": "stream",
     "text": [
      "['acid', 'acoustic', 'action', 'adult', 'africa', 'afrikaans', 'alternative', 'alternativepunk', 'ambient', 'americana', 'animated', 'anime', 'arabesk', 'arabic', 'arena', 'argentinetango', 'art', 'audiobook', 'author', 'avantgarde', 'axé', 'baile', 'balkan', 'beats', 'bigroom', 'black', 'bluegrass', 'blues', 'bollywood', 'bossa', 'brazilian', 'breakbeat', 'breaks', 'broadway', 'cantautori', 'cantopop', 'canzone', 'caribbean', 'caucasian', 'celtic', 'chamber', 'chanson', 'children', 'chill', 'chinese', 'choral', 'christian', 'christmas', 'classical', 'classicmetal', 'club', 'colombian', 'comedy', 'conjazz', 'contemporary', 'country', 'cuban', 'dance', 'dancehall', 'dancepop', 'dark', 'death', 'deep', 'deutschrock', 'deutschspr', 'dirty', 'disco', 'dnb', 'documentary', 'downbeat', 'downtempo', 'drum', 'dub', 'dubstep', 'eastern', 'easy', 'electronic', 'electropop', 'emo', 'entehno', 'epicmetal', 'estrada', 'ethnic', 'eurofolk', 'european', 'experimental', 'extrememetal', 'fado', 'fairytail', 'film', 'fitness', 'flamenco', 'folk', 'folklore', 'folkmetal', 'folkrock', 'folktronica', 'forró', 'frankreich', 'französisch', 'french', 'funk', 'future', 'gangsta', 'garage', 'german', 'ghazal', 'gitarre', 'glitch', 'gospel', 'gothic', 'grime', 'grunge', 'gypsy', 'handsup', \"hard'n'heavy\", 'hardcore', 'hardstyle', 'hardtechno', 'hip', 'hip-hop', 'hiphop', 'historisch', 'holiday', 'hop', 'horror', 'house', 'hymn', 'idm', 'independent', 'indian', 'indie', 'indipop', 'industrial', 'inspirational', 'instrumental', 'international', 'irish', 'jam', 'japanese', 'jazz', 'jewish', 'jpop', 'jungle', 'k-pop', 'karadeniz', 'karaoke', 'kayokyoku', 'korean', 'laiko', 'latin', 'latino', 'leftfield', 'local', 'lounge', 'loungeelectronic', 'lovers', 'malaysian', 'mandopop', 'marschmusik', 'meditative', 'mediterranean', 'melodic', 'metal', 'metalcore', 'mexican', 'middle', 'minimal', 'miscellaneous', 'modern', 'mood', 'mpb', 'muslim', 'native', 'neoklassik', 'neue', 'new', 'newage', 'newwave', 'nu', 'nujazz', 'numetal', 'oceania', 'old', 'opera', 'orchestral', 'other', 'piano', 'podcasts', 'pop', 'popdance', 'popelectronic', 'popeurodance', 'poprussian', 'post', 'posthardcore', 'postrock', 'power', 'progmetal', 'progressive', 'psychedelic', 'punjabi', 'punk', 'quebecois', 'ragga', 'ram', 'rancheras', 'rap', 'rave', 'reggae', 'reggaeton', 'regional', 'relax', 'religious', 'retro', 'rhythm', 'rnb', 'rnr', 'rock', 'rockabilly', 'rockalternative', 'rockindie', 'rockother', 'romance', 'roots', 'ruspop', 'rusrap', 'rusrock', 'russian', 'salsa', 'samba', 'scenic', 'schlager', 'self', 'sertanejo', 'shanson', 'shoegazing', 'showtunes', 'singer', 'ska', 'skarock', 'slow', 'smooth', 'soft', 'soul', 'soulful', 'sound', 'soundtrack', 'southern', 'specialty', 'speech', 'spiritual', 'sport', 'stonerrock', 'surf', 'swing', 'synthpop', 'synthrock', 'sängerportrait', 'tango', 'tanzorchester', 'taraftar', 'tatar', 'tech', 'techno', 'teen', 'thrash', 'top', 'traditional', 'tradjazz', 'trance', 'tribal', 'trip', 'triphop', 'tropical', 'türk', 'türkçe', 'ukrrock', 'unknown', 'urban', 'uzbek', 'variété', 'vi', 'videogame', 'vocal', 'western', 'world', 'worldbeat', 'ïîï', 'электроника']\n"
     ]
    }
   ],
   "source": [
    "print(sorted(df['genre'].unique()))  #Просмотр уникальных названий жанров"
   ]
  },
  {
   "cell_type": "markdown",
   "metadata": {
    "id": "qej-Qmuo_Zct"
   },
   "source": [
    "**Вывод**\n",
    "\n",
    "Выявлены неявные дубликаты названия `hiphop`. "
   ]
  },
  {
   "cell_type": "code",
   "execution_count": 15,
   "metadata": {
    "id": "ErNDkmns_Zct"
   },
   "outputs": [],
   "source": [
    "def replace_wrong_genres(wrong_genres,correct_genre):\n",
    "    for wrong_genres in wrong_genres:\n",
    "        df['genre'] = df['genre'].replace(wrong_genres,correct_genre)\n",
    "duplicates = ['hip','hop','hip-hop']\n",
    "name = 'hiphop' # Функция для замены неявных дубликатов"
   ]
  },
  {
   "cell_type": "code",
   "execution_count": 16,
   "metadata": {
    "id": "YN5i2hpmSo09"
   },
   "outputs": [],
   "source": [
    "replace_wrong_genres(duplicates,name) # Устранение неявных дубликатов"
   ]
  },
  {
   "cell_type": "code",
   "execution_count": 17,
   "metadata": {
    "id": "wvixALnFG15m",
    "scrolled": true
   },
   "outputs": [
    {
     "data": {
      "text/plain": [
       "array(['rock', 'pop', 'folk', 'dance', 'rusrap', 'ruspop', 'world',\n",
       "       'electronic', 'unknown', 'alternative', 'children', 'rnb',\n",
       "       'hiphop', 'jazz', 'postrock', 'latin', 'classical', 'metal',\n",
       "       'reggae', 'tatar', 'blues', 'instrumental', 'rusrock', 'dnb',\n",
       "       'türk', 'post', 'country', 'psychedelic', 'conjazz', 'indie',\n",
       "       'posthardcore', 'local', 'avantgarde', 'punk', 'videogame',\n",
       "       'techno', 'house', 'christmas', 'melodic', 'caucasian',\n",
       "       'reggaeton', 'soundtrack', 'singer', 'ska', 'shanson', 'ambient',\n",
       "       'film', 'western', 'rap', 'beats', \"hard'n'heavy\", 'progmetal',\n",
       "       'minimal', 'contemporary', 'new', 'soul', 'holiday', 'german',\n",
       "       'tropical', 'fairytail', 'spiritual', 'urban', 'gospel', 'nujazz',\n",
       "       'folkmetal', 'trance', 'miscellaneous', 'anime', 'hardcore',\n",
       "       'progressive', 'chanson', 'numetal', 'vocal', 'estrada', 'russian',\n",
       "       'classicmetal', 'dubstep', 'club', 'deep', 'southern', 'black',\n",
       "       'folkrock', 'fitness', 'french', 'disco', 'religious', 'drum',\n",
       "       'extrememetal', 'türkçe', 'experimental', 'easy', 'metalcore',\n",
       "       'modern', 'argentinetango', 'old', 'breaks', 'eurofolk',\n",
       "       'stonerrock', 'industrial', 'funk', 'jpop', 'middle', 'variété',\n",
       "       'other', 'adult', 'christian', 'gothic', 'international', 'muslim',\n",
       "       'relax', 'schlager', 'caribbean', 'ukrrock', 'nu', 'breakbeat',\n",
       "       'comedy', 'chill', 'newage', 'specialty', 'uzbek', 'k-pop',\n",
       "       'balkan', 'chinese', 'meditative', 'dub', 'power', 'death',\n",
       "       'grime', 'arabesk', 'romance', 'flamenco', 'leftfield', 'european',\n",
       "       'tech', 'newwave', 'dancehall', 'mpb', 'piano', 'top', 'bigroom',\n",
       "       'opera', 'celtic', 'tradjazz', 'acoustic', 'epicmetal',\n",
       "       'historisch', 'downbeat', 'downtempo', 'africa', 'audiobook',\n",
       "       'jewish', 'sängerportrait', 'deutschrock', 'eastern', 'action',\n",
       "       'future', 'electropop', 'folklore', 'bollywood', 'marschmusik',\n",
       "       'rnr', 'karaoke', 'indian', 'rancheras', 'электроника',\n",
       "       'afrikaans', 'tango', 'rhythm', 'sound', 'deutschspr', 'trip',\n",
       "       'lovers', 'choral', 'dancepop', 'podcasts', 'retro', 'smooth',\n",
       "       'mexican', 'brazilian', 'ïîï', 'mood', 'surf', 'author', 'gangsta',\n",
       "       'triphop', 'inspirational', 'idm', 'ethnic', 'bluegrass',\n",
       "       'broadway', 'animated', 'americana', 'karadeniz', 'rockabilly',\n",
       "       'colombian', 'self', 'synthrock', 'sertanejo', 'japanese',\n",
       "       'canzone', 'swing', 'lounge', 'sport', 'korean', 'ragga',\n",
       "       'traditional', 'gitarre', 'frankreich', 'alternativepunk', 'emo',\n",
       "       'laiko', 'cantopop', 'glitch', 'documentary', 'rockalternative',\n",
       "       'thrash', 'hymn', 'oceania', 'rockother', 'popeurodance', 'dark',\n",
       "       'vi', 'grunge', 'hardstyle', 'samba', 'garage', 'soft', 'art',\n",
       "       'folktronica', 'entehno', 'mediterranean', 'chamber', 'cuban',\n",
       "       'taraftar', 'rockindie', 'gypsy', 'hardtechno', 'shoegazing',\n",
       "       'skarock', 'bossa', 'salsa', 'latino', 'worldbeat', 'malaysian',\n",
       "       'baile', 'ghazal', 'loungeelectronic', 'arabic', 'popelectronic',\n",
       "       'acid', 'kayokyoku', 'neoklassik', 'tribal', 'tanzorchester',\n",
       "       'native', 'independent', 'cantautori', 'handsup', 'poprussian',\n",
       "       'punjabi', 'synthpop', 'rave', 'französisch', 'quebecois',\n",
       "       'speech', 'soulful', 'teen', 'jam', 'ram', 'horror', 'scenic',\n",
       "       'orchestral', 'neue', 'roots', 'slow', 'jungle', 'indipop', 'axé',\n",
       "       'fado', 'showtunes', 'arena', 'irish', 'mandopop', 'forró',\n",
       "       'popdance', 'dirty', 'regional'], dtype=object)"
      ]
     },
     "execution_count": 17,
     "metadata": {},
     "output_type": "execute_result"
    }
   ],
   "source": [
    "df['genre'].unique()# Проверка на неявные дубликаты"
   ]
  },
  {
   "cell_type": "markdown",
   "metadata": {
    "id": "WttZHXH0SqKk"
   },
   "source": [
    "## Проверка гипотез"
   ]
  },
  {
   "cell_type": "markdown",
   "metadata": {
    "id": "Im936VVi_Zcu"
   },
   "source": [
    "### Сравнение поведения пользователей двух столиц"
   ]
  },
  {
   "cell_type": "markdown",
   "metadata": {
    "id": "nwt_MuaL_Zcu"
   },
   "source": [
    "Первая гипотеза утверждает, что пользователи по-разному слушают музыку в Москве и Санкт-Петербурге. Проверим это предположение по данным о трёх днях недели — понедельнике, среде и пятнице. Для этого:\n",
    "\n",
    "* Разделим пользователей Москвы и Санкт-Петербурга\n",
    "* Сравним, сколько треков послушала каждая группа пользователей в понедельник, среду и пятницу.\n"
   ]
  },
  {
   "cell_type": "code",
   "execution_count": 18,
   "metadata": {
    "id": "0_Qs96oh_Zcu"
   },
   "outputs": [
    {
     "data": {
      "text/plain": [
       "city\n",
       "Moscow              42741\n",
       "Saint-Petersburg    18512\n",
       "Name: time, dtype: int64"
      ]
     },
     "execution_count": 18,
     "metadata": {},
     "output_type": "execute_result"
    }
   ],
   "source": [
    "df.groupby('city')['time'].count() # Подсчёт прослушиваний в каждом городе"
   ]
  },
  {
   "cell_type": "markdown",
   "metadata": {
    "id": "dzli3w8o_Zcu"
   },
   "source": [
    "**Вывод**\n",
    "\n",
    "В Москве прослушиваний больше, чем в Петербурге. Из этого не следует, что московские пользователи чаще слушают музыку. Просто самих пользователей в Москве больше.\n"
   ]
  },
  {
   "cell_type": "markdown",
   "metadata": {},
   "source": [
    "Сгруппируем данные по дню недели и подсчитаем прослушивания в понедельник, среду и пятницу. "
   ]
  },
  {
   "cell_type": "code",
   "execution_count": 19,
   "metadata": {
    "id": "uZMKjiJz_Zcu"
   },
   "outputs": [
    {
     "data": {
      "text/plain": [
       "day\n",
       "Friday       21840\n",
       "Monday       21354\n",
       "Wednesday    18059\n",
       "Name: time, dtype: int64"
      ]
     },
     "execution_count": 19,
     "metadata": {},
     "output_type": "execute_result"
    }
   ],
   "source": [
    "df.groupby('day')['time'].count() # Подсчёт прослушиваний в каждый из трёх дней"
   ]
  },
  {
   "cell_type": "markdown",
   "metadata": {
    "id": "cC2tNrlL_Zcu"
   },
   "source": [
    "В среднем пользователи из двух городов менее активны по средам. Но картина может измениться, если рассмотреть каждый город в отдельности."
   ]
  },
  {
   "cell_type": "code",
   "execution_count": 20,
   "metadata": {
    "id": "Nz3GdQB1_Zcu"
   },
   "outputs": [],
   "source": [
    "def number_tracks(day,city):# <создание функции number_tracks()> # Объявляется функция с двумя параметрами: day, city.\n",
    "    track_list = df[df['day'] == day] # В переменной track_list сохраняются те строки таблицы df, для которых # значение в столбце 'day' равно параметру day и одновременно значение\n",
    "    track_list = track_list[track_list['city'] == city] # в столбце 'city' равно параметру city (используйте последовательную фильтрацию\n",
    "# с помощью логической индексации).\n",
    "    track_list_count = track_list['user_id'].count() # В переменной track_list_count сохраняется число значений столбца 'user_id',\n",
    "# рассчитанное методом count() для таблицы track_list.\n",
    "    return track_list_count # Функция возвращает число - значение track_list_count.\n",
    "\n",
    "\n",
    "# Функция для подсчёта прослушиваний для конкретного города и дня.\n",
    "# С помощью последовательной фильтрации с логической индексацией она \n",
    "# сначала получит из исходной таблицы строки с нужным днём,\n",
    "# затем из результата отфильтрует строки с нужным городом,\n",
    "# методом count() посчитает количество значений в колонке user_id. \n",
    "# Это количество функция вернёт в качестве результата"
   ]
  },
  {
   "cell_type": "code",
   "execution_count": 21,
   "metadata": {
    "id": "rJcRATNQ_Zcu"
   },
   "outputs": [
    {
     "data": {
      "text/plain": [
       "15740"
      ]
     },
     "execution_count": 21,
     "metadata": {},
     "output_type": "execute_result"
    }
   ],
   "source": [
    "number_tracks('Monday','Moscow')# количество прослушиваний в Москве по понедельникам"
   ]
  },
  {
   "cell_type": "code",
   "execution_count": 22,
   "metadata": {
    "id": "hq_ncZ5T_Zcu"
   },
   "outputs": [
    {
     "data": {
      "text/plain": [
       "5614"
      ]
     },
     "execution_count": 22,
     "metadata": {},
     "output_type": "execute_result"
    }
   ],
   "source": [
    "number_tracks('Monday','Saint-Petersburg')# количество прослушиваний в Санкт-Петербурге по понедельникам"
   ]
  },
  {
   "cell_type": "code",
   "execution_count": 23,
   "metadata": {
    "id": "_NTy2VPU_Zcu"
   },
   "outputs": [
    {
     "data": {
      "text/plain": [
       "11056"
      ]
     },
     "execution_count": 23,
     "metadata": {},
     "output_type": "execute_result"
    }
   ],
   "source": [
    "number_tracks('Wednesday','Moscow')# количество прослушиваний в Москве по средам"
   ]
  },
  {
   "cell_type": "code",
   "execution_count": 24,
   "metadata": {
    "id": "j2y3TAwo_Zcu"
   },
   "outputs": [
    {
     "data": {
      "text/plain": [
       "7003"
      ]
     },
     "execution_count": 24,
     "metadata": {},
     "output_type": "execute_result"
    }
   ],
   "source": [
    "number_tracks('Wednesday','Saint-Petersburg')# количество прослушиваний в Санкт-Петербурге по средам"
   ]
  },
  {
   "cell_type": "code",
   "execution_count": 25,
   "metadata": {
    "id": "vYDw5u_K_Zcu"
   },
   "outputs": [
    {
     "data": {
      "text/plain": [
       "15945"
      ]
     },
     "execution_count": 25,
     "metadata": {},
     "output_type": "execute_result"
    }
   ],
   "source": [
    "number_tracks('Friday','Moscow')# количество прослушиваний в Москве по пятницам"
   ]
  },
  {
   "cell_type": "code",
   "execution_count": 26,
   "metadata": {
    "id": "8_yzFtW3_Zcu"
   },
   "outputs": [
    {
     "data": {
      "text/plain": [
       "5895"
      ]
     },
     "execution_count": 26,
     "metadata": {},
     "output_type": "execute_result"
    }
   ],
   "source": [
    "number_tracks('Friday','Saint-Petersburg')# количество прослушиваний в Санкт-Петербурге по пятницам"
   ]
  },
  {
   "cell_type": "markdown",
   "metadata": {
    "id": "7QXffbO-_Zcu"
   },
   "source": [
    "Создадим c помощью конструктора `pd.DataFrame` таблицу, где\n",
    "* названия колонок — `['city', 'monday', 'wednesday', 'friday']`;\n",
    "* данные — результаты, которые вы получили с помощью `number_tracks`."
   ]
  },
  {
   "cell_type": "code",
   "execution_count": 27,
   "metadata": {
    "id": "APAcLpOr_Zcu",
    "scrolled": true
   },
   "outputs": [
    {
     "data": {
      "text/html": [
       "<div>\n",
       "<style scoped>\n",
       "    .dataframe tbody tr th:only-of-type {\n",
       "        vertical-align: middle;\n",
       "    }\n",
       "\n",
       "    .dataframe tbody tr th {\n",
       "        vertical-align: top;\n",
       "    }\n",
       "\n",
       "    .dataframe thead th {\n",
       "        text-align: right;\n",
       "    }\n",
       "</style>\n",
       "<table border=\"1\" class=\"dataframe\">\n",
       "  <thead>\n",
       "    <tr style=\"text-align: right;\">\n",
       "      <th></th>\n",
       "      <th>city</th>\n",
       "      <th>monday</th>\n",
       "      <th>wednesday</th>\n",
       "      <th>friday</th>\n",
       "    </tr>\n",
       "  </thead>\n",
       "  <tbody>\n",
       "    <tr>\n",
       "      <th>0</th>\n",
       "      <td>Moscow</td>\n",
       "      <td>15740</td>\n",
       "      <td>11056</td>\n",
       "      <td>15945</td>\n",
       "    </tr>\n",
       "    <tr>\n",
       "      <th>1</th>\n",
       "      <td>Saint-Petersburg</td>\n",
       "      <td>5614</td>\n",
       "      <td>7003</td>\n",
       "      <td>5895</td>\n",
       "    </tr>\n",
       "  </tbody>\n",
       "</table>\n",
       "</div>"
      ],
      "text/plain": [
       "               city  monday  wednesday  friday\n",
       "0            Moscow   15740      11056   15945\n",
       "1  Saint-Petersburg    5614       7003    5895"
      ]
     },
     "metadata": {},
     "output_type": "display_data"
    }
   ],
   "source": [
    "data = [\n",
    "    ['Moscow',number_tracks('Monday','Moscow'),number_tracks('Wednesday','Moscow'),number_tracks('Friday','Moscow')],\n",
    "    ['Saint-Petersburg', number_tracks('Monday','Saint-Petersburg'),number_tracks('Wednesday','Saint-Petersburg'),number_tracks('Friday','Saint-Petersburg')]\n",
    "]       \n",
    "columns = ['city', 'monday', 'wednesday', 'friday']\n",
    "table = pd.DataFrame(data=data,columns=columns)\n",
    "display(table) # Таблица с результатами"
   ]
  },
  {
   "cell_type": "markdown",
   "metadata": {
    "id": "-EgPIHYu_Zcu"
   },
   "source": [
    "**Выводы**\n",
    "\n",
    "Данные показывают разницу поведения пользователей:\n",
    "\n",
    "- В Москве пик прослушиваний приходится на понедельник и пятницу, а в среду заметен спад.\n",
    "- В Петербурге, наоборот, больше слушают музыку по средам. Активность в понедельник и пятницу здесь почти в равной мере уступает среде.\n",
    "\n",
    "Значит, данные говорят в пользу первой гипотезы."
   ]
  },
  {
   "cell_type": "markdown",
   "metadata": {
    "id": "atZAxtq4_Zcu"
   },
   "source": [
    "### Музыка в начале и в конце недели"
   ]
  },
  {
   "cell_type": "markdown",
   "metadata": {
    "id": "eXrQqXFH_Zcu"
   },
   "source": [
    "Согласно второй гипотезе, утром в понедельник в Москве преобладают одни жанры, а в Петербурге — другие. Так же и вечером пятницы преобладают разные жанры — в зависимости от города."
   ]
  },
  {
   "cell_type": "code",
   "execution_count": 28,
   "metadata": {
    "id": "qeaFfM_P_Zcu"
   },
   "outputs": [],
   "source": [
    "moscow_general = df[df['city'] == 'Moscow'] # получение таблицы moscow_general из тех строк таблицы df, \n",
    "# для которых значение в столбце 'city' равно 'Moscow'\n"
   ]
  },
  {
   "cell_type": "code",
   "execution_count": 29,
   "metadata": {
    "id": "ORaVRKto_Zcu"
   },
   "outputs": [],
   "source": [
    "spb_general = df[df['city'] == 'Saint-Petersburg'] # получение таблицы spb_general из тех строк таблицы df,\n",
    "# для которых значение в столбце 'city' равно 'Saint-Petersburg'\n"
   ]
  },
  {
   "cell_type": "markdown",
   "metadata": {
    "id": "MEJV-CX2_Zcu"
   },
   "source": [
    "\n",
    "Создадим функцию,которая должна вернуть информацию о топ-10 жанров тех треков, которые прослушивали в указанный день, в промежутке между двумя отметками времени."
   ]
  },
  {
   "cell_type": "code",
   "execution_count": 30,
   "metadata": {
    "id": "laJT9BYl_Zcu"
   },
   "outputs": [],
   "source": [
    "def genre_weekday(table, day, time1, time2): # Объявление функции genre_weekday() с параметрами table, day, time1, time2,\n",
    "# которая возвращает информацию о самых популярных жанрах в указанный день в заданное время:  # 1) в переменную genre_df сохраняются те строки переданного датафрейма table, для которых одновременно:\n",
    "    genre_df = table[table['day'] == day]  # - значение в столбце day равно значению аргумента day\n",
    "    genre_df = genre_df[genre_df['time'] > time1] # - значение в столбце time больше значения аргумента time1\n",
    "    genre_df = genre_df[genre_df['time'] < time2] # - значение в столбце time меньше значения аргумента time2\n",
    "    genre_df_count = genre_df.groupby('genre').count() # Используйте последовательную фильтрацию с помощью логической индексации.# 2) сгруппировать датафрейм genre_df по столбцу genre, взять один из его\n",
    "#    столбцов и посчитать методом count() количество записей для каждого из присутствующих жанров, получившийся Series записать в переменную genre_df_count\n",
    "    genre_df_sorted = genre_df_count.sort_values(by='city',ascending=False) # 3) отсортировать genre_df_count по убыванию встречаемости и сохранить в переменную genre_df_sorted\n",
    "    return genre_df_sorted.head(10)  # 4) вернуть Series из 10 первых значений genre_df_sorted, это будут топ-10 популярных жанров (в указанный день, в заданное время)\n",
    "\n",
    "\n",
    "\n"
   ]
  },
  {
   "cell_type": "markdown",
   "metadata": {
    "id": "la2s2_PF_Zcu"
   },
   "source": [
    "Cравним результаты функции `genre_weekday()` для Москвы и Санкт-Петербурга в понедельник утром (с 7:00 до 11:00) и в пятницу вечером (с 17:00 до 23:00):"
   ]
  },
  {
   "cell_type": "code",
   "execution_count": 31,
   "metadata": {
    "id": "yz7itPUQ_Zcu"
   },
   "outputs": [
    {
     "data": {
      "text/html": [
       "<div>\n",
       "<style scoped>\n",
       "    .dataframe tbody tr th:only-of-type {\n",
       "        vertical-align: middle;\n",
       "    }\n",
       "\n",
       "    .dataframe tbody tr th {\n",
       "        vertical-align: top;\n",
       "    }\n",
       "\n",
       "    .dataframe thead th {\n",
       "        text-align: right;\n",
       "    }\n",
       "</style>\n",
       "<table border=\"1\" class=\"dataframe\">\n",
       "  <thead>\n",
       "    <tr style=\"text-align: right;\">\n",
       "      <th></th>\n",
       "      <th>user_id</th>\n",
       "      <th>track</th>\n",
       "      <th>artist</th>\n",
       "      <th>city</th>\n",
       "      <th>time</th>\n",
       "      <th>day</th>\n",
       "    </tr>\n",
       "    <tr>\n",
       "      <th>genre</th>\n",
       "      <th></th>\n",
       "      <th></th>\n",
       "      <th></th>\n",
       "      <th></th>\n",
       "      <th></th>\n",
       "      <th></th>\n",
       "    </tr>\n",
       "  </thead>\n",
       "  <tbody>\n",
       "    <tr>\n",
       "      <th>pop</th>\n",
       "      <td>781</td>\n",
       "      <td>781</td>\n",
       "      <td>781</td>\n",
       "      <td>781</td>\n",
       "      <td>781</td>\n",
       "      <td>781</td>\n",
       "    </tr>\n",
       "    <tr>\n",
       "      <th>dance</th>\n",
       "      <td>549</td>\n",
       "      <td>549</td>\n",
       "      <td>549</td>\n",
       "      <td>549</td>\n",
       "      <td>549</td>\n",
       "      <td>549</td>\n",
       "    </tr>\n",
       "    <tr>\n",
       "      <th>electronic</th>\n",
       "      <td>480</td>\n",
       "      <td>480</td>\n",
       "      <td>480</td>\n",
       "      <td>480</td>\n",
       "      <td>480</td>\n",
       "      <td>480</td>\n",
       "    </tr>\n",
       "    <tr>\n",
       "      <th>rock</th>\n",
       "      <td>474</td>\n",
       "      <td>474</td>\n",
       "      <td>474</td>\n",
       "      <td>474</td>\n",
       "      <td>474</td>\n",
       "      <td>474</td>\n",
       "    </tr>\n",
       "    <tr>\n",
       "      <th>hiphop</th>\n",
       "      <td>286</td>\n",
       "      <td>286</td>\n",
       "      <td>286</td>\n",
       "      <td>286</td>\n",
       "      <td>286</td>\n",
       "      <td>286</td>\n",
       "    </tr>\n",
       "    <tr>\n",
       "      <th>ruspop</th>\n",
       "      <td>186</td>\n",
       "      <td>186</td>\n",
       "      <td>186</td>\n",
       "      <td>186</td>\n",
       "      <td>186</td>\n",
       "      <td>186</td>\n",
       "    </tr>\n",
       "    <tr>\n",
       "      <th>world</th>\n",
       "      <td>181</td>\n",
       "      <td>181</td>\n",
       "      <td>181</td>\n",
       "      <td>181</td>\n",
       "      <td>181</td>\n",
       "      <td>181</td>\n",
       "    </tr>\n",
       "    <tr>\n",
       "      <th>rusrap</th>\n",
       "      <td>175</td>\n",
       "      <td>175</td>\n",
       "      <td>175</td>\n",
       "      <td>175</td>\n",
       "      <td>175</td>\n",
       "      <td>175</td>\n",
       "    </tr>\n",
       "    <tr>\n",
       "      <th>alternative</th>\n",
       "      <td>164</td>\n",
       "      <td>164</td>\n",
       "      <td>164</td>\n",
       "      <td>164</td>\n",
       "      <td>164</td>\n",
       "      <td>164</td>\n",
       "    </tr>\n",
       "    <tr>\n",
       "      <th>unknown</th>\n",
       "      <td>161</td>\n",
       "      <td>161</td>\n",
       "      <td>161</td>\n",
       "      <td>161</td>\n",
       "      <td>161</td>\n",
       "      <td>161</td>\n",
       "    </tr>\n",
       "  </tbody>\n",
       "</table>\n",
       "</div>"
      ],
      "text/plain": [
       "             user_id  track  artist  city  time  day\n",
       "genre                                               \n",
       "pop              781    781     781   781   781  781\n",
       "dance            549    549     549   549   549  549\n",
       "electronic       480    480     480   480   480  480\n",
       "rock             474    474     474   474   474  474\n",
       "hiphop           286    286     286   286   286  286\n",
       "ruspop           186    186     186   186   186  186\n",
       "world            181    181     181   181   181  181\n",
       "rusrap           175    175     175   175   175  175\n",
       "alternative      164    164     164   164   164  164\n",
       "unknown          161    161     161   161   161  161"
      ]
     },
     "execution_count": 31,
     "metadata": {},
     "output_type": "execute_result"
    }
   ],
   "source": [
    "genre_weekday(moscow_general, 'Monday', '07:00', '11:00')\n",
    "# вызов функции для утра понедельника в Москве (вместо df — таблица moscow_general)\n",
    "# объекты, хранящие время, являются строками и сравниваются как строки\n",
    "# пример вызова: genre_weekday(moscow_general, 'Monday', '07:00', '11:00')"
   ]
  },
  {
   "cell_type": "code",
   "execution_count": 32,
   "metadata": {
    "id": "kwUcHPdy_Zcu"
   },
   "outputs": [
    {
     "data": {
      "text/html": [
       "<div>\n",
       "<style scoped>\n",
       "    .dataframe tbody tr th:only-of-type {\n",
       "        vertical-align: middle;\n",
       "    }\n",
       "\n",
       "    .dataframe tbody tr th {\n",
       "        vertical-align: top;\n",
       "    }\n",
       "\n",
       "    .dataframe thead th {\n",
       "        text-align: right;\n",
       "    }\n",
       "</style>\n",
       "<table border=\"1\" class=\"dataframe\">\n",
       "  <thead>\n",
       "    <tr style=\"text-align: right;\">\n",
       "      <th></th>\n",
       "      <th>user_id</th>\n",
       "      <th>track</th>\n",
       "      <th>artist</th>\n",
       "      <th>city</th>\n",
       "      <th>time</th>\n",
       "      <th>day</th>\n",
       "    </tr>\n",
       "    <tr>\n",
       "      <th>genre</th>\n",
       "      <th></th>\n",
       "      <th></th>\n",
       "      <th></th>\n",
       "      <th></th>\n",
       "      <th></th>\n",
       "      <th></th>\n",
       "    </tr>\n",
       "  </thead>\n",
       "  <tbody>\n",
       "    <tr>\n",
       "      <th>pop</th>\n",
       "      <td>218</td>\n",
       "      <td>218</td>\n",
       "      <td>218</td>\n",
       "      <td>218</td>\n",
       "      <td>218</td>\n",
       "      <td>218</td>\n",
       "    </tr>\n",
       "    <tr>\n",
       "      <th>dance</th>\n",
       "      <td>182</td>\n",
       "      <td>182</td>\n",
       "      <td>182</td>\n",
       "      <td>182</td>\n",
       "      <td>182</td>\n",
       "      <td>182</td>\n",
       "    </tr>\n",
       "    <tr>\n",
       "      <th>rock</th>\n",
       "      <td>162</td>\n",
       "      <td>162</td>\n",
       "      <td>162</td>\n",
       "      <td>162</td>\n",
       "      <td>162</td>\n",
       "      <td>162</td>\n",
       "    </tr>\n",
       "    <tr>\n",
       "      <th>electronic</th>\n",
       "      <td>147</td>\n",
       "      <td>147</td>\n",
       "      <td>147</td>\n",
       "      <td>147</td>\n",
       "      <td>147</td>\n",
       "      <td>147</td>\n",
       "    </tr>\n",
       "    <tr>\n",
       "      <th>hiphop</th>\n",
       "      <td>80</td>\n",
       "      <td>80</td>\n",
       "      <td>80</td>\n",
       "      <td>80</td>\n",
       "      <td>80</td>\n",
       "      <td>80</td>\n",
       "    </tr>\n",
       "    <tr>\n",
       "      <th>ruspop</th>\n",
       "      <td>64</td>\n",
       "      <td>64</td>\n",
       "      <td>64</td>\n",
       "      <td>64</td>\n",
       "      <td>64</td>\n",
       "      <td>64</td>\n",
       "    </tr>\n",
       "    <tr>\n",
       "      <th>alternative</th>\n",
       "      <td>58</td>\n",
       "      <td>58</td>\n",
       "      <td>58</td>\n",
       "      <td>58</td>\n",
       "      <td>58</td>\n",
       "      <td>58</td>\n",
       "    </tr>\n",
       "    <tr>\n",
       "      <th>rusrap</th>\n",
       "      <td>55</td>\n",
       "      <td>55</td>\n",
       "      <td>55</td>\n",
       "      <td>55</td>\n",
       "      <td>55</td>\n",
       "      <td>55</td>\n",
       "    </tr>\n",
       "    <tr>\n",
       "      <th>jazz</th>\n",
       "      <td>44</td>\n",
       "      <td>44</td>\n",
       "      <td>44</td>\n",
       "      <td>44</td>\n",
       "      <td>44</td>\n",
       "      <td>44</td>\n",
       "    </tr>\n",
       "    <tr>\n",
       "      <th>classical</th>\n",
       "      <td>40</td>\n",
       "      <td>40</td>\n",
       "      <td>40</td>\n",
       "      <td>40</td>\n",
       "      <td>40</td>\n",
       "      <td>40</td>\n",
       "    </tr>\n",
       "  </tbody>\n",
       "</table>\n",
       "</div>"
      ],
      "text/plain": [
       "             user_id  track  artist  city  time  day\n",
       "genre                                               \n",
       "pop              218    218     218   218   218  218\n",
       "dance            182    182     182   182   182  182\n",
       "rock             162    162     162   162   162  162\n",
       "electronic       147    147     147   147   147  147\n",
       "hiphop            80     80      80    80    80   80\n",
       "ruspop            64     64      64    64    64   64\n",
       "alternative       58     58      58    58    58   58\n",
       "rusrap            55     55      55    55    55   55\n",
       "jazz              44     44      44    44    44   44\n",
       "classical         40     40      40    40    40   40"
      ]
     },
     "execution_count": 32,
     "metadata": {},
     "output_type": "execute_result"
    }
   ],
   "source": [
    "genre_weekday(spb_general, 'Monday', '07:00', '11:00')\n",
    "# вызов функции для утра понедельника в Петербурге (вместо df — таблица spb_general)"
   ]
  },
  {
   "cell_type": "code",
   "execution_count": 33,
   "metadata": {
    "id": "EzXVRE1o_Zcu"
   },
   "outputs": [
    {
     "data": {
      "text/html": [
       "<div>\n",
       "<style scoped>\n",
       "    .dataframe tbody tr th:only-of-type {\n",
       "        vertical-align: middle;\n",
       "    }\n",
       "\n",
       "    .dataframe tbody tr th {\n",
       "        vertical-align: top;\n",
       "    }\n",
       "\n",
       "    .dataframe thead th {\n",
       "        text-align: right;\n",
       "    }\n",
       "</style>\n",
       "<table border=\"1\" class=\"dataframe\">\n",
       "  <thead>\n",
       "    <tr style=\"text-align: right;\">\n",
       "      <th></th>\n",
       "      <th>user_id</th>\n",
       "      <th>track</th>\n",
       "      <th>artist</th>\n",
       "      <th>city</th>\n",
       "      <th>time</th>\n",
       "      <th>day</th>\n",
       "    </tr>\n",
       "    <tr>\n",
       "      <th>genre</th>\n",
       "      <th></th>\n",
       "      <th></th>\n",
       "      <th></th>\n",
       "      <th></th>\n",
       "      <th></th>\n",
       "      <th></th>\n",
       "    </tr>\n",
       "  </thead>\n",
       "  <tbody>\n",
       "    <tr>\n",
       "      <th>pop</th>\n",
       "      <td>713</td>\n",
       "      <td>713</td>\n",
       "      <td>713</td>\n",
       "      <td>713</td>\n",
       "      <td>713</td>\n",
       "      <td>713</td>\n",
       "    </tr>\n",
       "    <tr>\n",
       "      <th>rock</th>\n",
       "      <td>517</td>\n",
       "      <td>517</td>\n",
       "      <td>517</td>\n",
       "      <td>517</td>\n",
       "      <td>517</td>\n",
       "      <td>517</td>\n",
       "    </tr>\n",
       "    <tr>\n",
       "      <th>dance</th>\n",
       "      <td>495</td>\n",
       "      <td>495</td>\n",
       "      <td>495</td>\n",
       "      <td>495</td>\n",
       "      <td>495</td>\n",
       "      <td>495</td>\n",
       "    </tr>\n",
       "    <tr>\n",
       "      <th>electronic</th>\n",
       "      <td>482</td>\n",
       "      <td>482</td>\n",
       "      <td>482</td>\n",
       "      <td>482</td>\n",
       "      <td>482</td>\n",
       "      <td>482</td>\n",
       "    </tr>\n",
       "    <tr>\n",
       "      <th>hiphop</th>\n",
       "      <td>273</td>\n",
       "      <td>273</td>\n",
       "      <td>273</td>\n",
       "      <td>273</td>\n",
       "      <td>273</td>\n",
       "      <td>273</td>\n",
       "    </tr>\n",
       "    <tr>\n",
       "      <th>world</th>\n",
       "      <td>208</td>\n",
       "      <td>208</td>\n",
       "      <td>208</td>\n",
       "      <td>208</td>\n",
       "      <td>208</td>\n",
       "      <td>208</td>\n",
       "    </tr>\n",
       "    <tr>\n",
       "      <th>ruspop</th>\n",
       "      <td>170</td>\n",
       "      <td>170</td>\n",
       "      <td>170</td>\n",
       "      <td>170</td>\n",
       "      <td>170</td>\n",
       "      <td>170</td>\n",
       "    </tr>\n",
       "    <tr>\n",
       "      <th>alternative</th>\n",
       "      <td>163</td>\n",
       "      <td>163</td>\n",
       "      <td>163</td>\n",
       "      <td>163</td>\n",
       "      <td>163</td>\n",
       "      <td>163</td>\n",
       "    </tr>\n",
       "    <tr>\n",
       "      <th>classical</th>\n",
       "      <td>163</td>\n",
       "      <td>163</td>\n",
       "      <td>163</td>\n",
       "      <td>163</td>\n",
       "      <td>163</td>\n",
       "      <td>163</td>\n",
       "    </tr>\n",
       "    <tr>\n",
       "      <th>rusrap</th>\n",
       "      <td>142</td>\n",
       "      <td>142</td>\n",
       "      <td>142</td>\n",
       "      <td>142</td>\n",
       "      <td>142</td>\n",
       "      <td>142</td>\n",
       "    </tr>\n",
       "  </tbody>\n",
       "</table>\n",
       "</div>"
      ],
      "text/plain": [
       "             user_id  track  artist  city  time  day\n",
       "genre                                               \n",
       "pop              713    713     713   713   713  713\n",
       "rock             517    517     517   517   517  517\n",
       "dance            495    495     495   495   495  495\n",
       "electronic       482    482     482   482   482  482\n",
       "hiphop           273    273     273   273   273  273\n",
       "world            208    208     208   208   208  208\n",
       "ruspop           170    170     170   170   170  170\n",
       "alternative      163    163     163   163   163  163\n",
       "classical        163    163     163   163   163  163\n",
       "rusrap           142    142     142   142   142  142"
      ]
     },
     "execution_count": 33,
     "metadata": {},
     "output_type": "execute_result"
    }
   ],
   "source": [
    "genre_weekday(moscow_general, 'Friday', '17:00', '23:00') # вызов функции для вечера пятницы в Москве"
   ]
  },
  {
   "cell_type": "code",
   "execution_count": 34,
   "metadata": {
    "id": "JZaEKu5v_Zcu"
   },
   "outputs": [
    {
     "data": {
      "text/html": [
       "<div>\n",
       "<style scoped>\n",
       "    .dataframe tbody tr th:only-of-type {\n",
       "        vertical-align: middle;\n",
       "    }\n",
       "\n",
       "    .dataframe tbody tr th {\n",
       "        vertical-align: top;\n",
       "    }\n",
       "\n",
       "    .dataframe thead th {\n",
       "        text-align: right;\n",
       "    }\n",
       "</style>\n",
       "<table border=\"1\" class=\"dataframe\">\n",
       "  <thead>\n",
       "    <tr style=\"text-align: right;\">\n",
       "      <th></th>\n",
       "      <th>user_id</th>\n",
       "      <th>track</th>\n",
       "      <th>artist</th>\n",
       "      <th>city</th>\n",
       "      <th>time</th>\n",
       "      <th>day</th>\n",
       "    </tr>\n",
       "    <tr>\n",
       "      <th>genre</th>\n",
       "      <th></th>\n",
       "      <th></th>\n",
       "      <th></th>\n",
       "      <th></th>\n",
       "      <th></th>\n",
       "      <th></th>\n",
       "    </tr>\n",
       "  </thead>\n",
       "  <tbody>\n",
       "    <tr>\n",
       "      <th>pop</th>\n",
       "      <td>256</td>\n",
       "      <td>256</td>\n",
       "      <td>256</td>\n",
       "      <td>256</td>\n",
       "      <td>256</td>\n",
       "      <td>256</td>\n",
       "    </tr>\n",
       "    <tr>\n",
       "      <th>electronic</th>\n",
       "      <td>216</td>\n",
       "      <td>216</td>\n",
       "      <td>216</td>\n",
       "      <td>216</td>\n",
       "      <td>216</td>\n",
       "      <td>216</td>\n",
       "    </tr>\n",
       "    <tr>\n",
       "      <th>rock</th>\n",
       "      <td>216</td>\n",
       "      <td>216</td>\n",
       "      <td>216</td>\n",
       "      <td>216</td>\n",
       "      <td>216</td>\n",
       "      <td>216</td>\n",
       "    </tr>\n",
       "    <tr>\n",
       "      <th>dance</th>\n",
       "      <td>210</td>\n",
       "      <td>210</td>\n",
       "      <td>210</td>\n",
       "      <td>210</td>\n",
       "      <td>210</td>\n",
       "      <td>210</td>\n",
       "    </tr>\n",
       "    <tr>\n",
       "      <th>hiphop</th>\n",
       "      <td>97</td>\n",
       "      <td>97</td>\n",
       "      <td>97</td>\n",
       "      <td>97</td>\n",
       "      <td>97</td>\n",
       "      <td>97</td>\n",
       "    </tr>\n",
       "    <tr>\n",
       "      <th>alternative</th>\n",
       "      <td>63</td>\n",
       "      <td>63</td>\n",
       "      <td>63</td>\n",
       "      <td>63</td>\n",
       "      <td>63</td>\n",
       "      <td>63</td>\n",
       "    </tr>\n",
       "    <tr>\n",
       "      <th>jazz</th>\n",
       "      <td>61</td>\n",
       "      <td>61</td>\n",
       "      <td>61</td>\n",
       "      <td>61</td>\n",
       "      <td>61</td>\n",
       "      <td>61</td>\n",
       "    </tr>\n",
       "    <tr>\n",
       "      <th>classical</th>\n",
       "      <td>60</td>\n",
       "      <td>60</td>\n",
       "      <td>60</td>\n",
       "      <td>60</td>\n",
       "      <td>60</td>\n",
       "      <td>60</td>\n",
       "    </tr>\n",
       "    <tr>\n",
       "      <th>rusrap</th>\n",
       "      <td>59</td>\n",
       "      <td>59</td>\n",
       "      <td>59</td>\n",
       "      <td>59</td>\n",
       "      <td>59</td>\n",
       "      <td>59</td>\n",
       "    </tr>\n",
       "    <tr>\n",
       "      <th>world</th>\n",
       "      <td>54</td>\n",
       "      <td>54</td>\n",
       "      <td>54</td>\n",
       "      <td>54</td>\n",
       "      <td>54</td>\n",
       "      <td>54</td>\n",
       "    </tr>\n",
       "  </tbody>\n",
       "</table>\n",
       "</div>"
      ],
      "text/plain": [
       "             user_id  track  artist  city  time  day\n",
       "genre                                               \n",
       "pop              256    256     256   256   256  256\n",
       "electronic       216    216     216   216   216  216\n",
       "rock             216    216     216   216   216  216\n",
       "dance            210    210     210   210   210  210\n",
       "hiphop            97     97      97    97    97   97\n",
       "alternative       63     63      63    63    63   63\n",
       "jazz              61     61      61    61    61   61\n",
       "classical         60     60      60    60    60   60\n",
       "rusrap            59     59      59    59    59   59\n",
       "world             54     54      54    54    54   54"
      ]
     },
     "execution_count": 34,
     "metadata": {},
     "output_type": "execute_result"
    }
   ],
   "source": [
    "genre_weekday(spb_general, 'Friday', '17:00', '23:00') # вызов функции для вечера пятницы в Петербурге"
   ]
  },
  {
   "cell_type": "markdown",
   "metadata": {
    "id": "wrCe4MNX_Zcu"
   },
   "source": [
    "**Вывод**\n",
    "\n",
    "Если сравнить топ-10 жанров в понедельник утром, можно сделать такие выводы:\n",
    "\n",
    "1. В Москве и Санкт-Петербурге слушают похожую музыку. Единственное отличие — в московский рейтинг вошёл жанр “world”, а в петербургский — джаз и классика.\n",
    "\n",
    "2. В Москве пропущенных значений оказалось так много, что значение `'unknown'` заняло десятое место среди самых популярных жанров. Значит, пропущенные значения занимают существенную долю в данных и угрожают достоверности исследования.\n",
    "\n",
    "Вечер пятницы не меняет эту картину. Некоторые жанры поднимаются немного выше, другие спускаются, но в целом топ-10 остаётся тем же самым.\n",
    "\n",
    "Таким образом, вторая гипотеза подтвердилась лишь частично:\n",
    "* Пользователи слушают похожую музыку в начале недели и в конце.\n",
    "* Разница между Москвой и Санкт-Петербургом не слишком выражена. В Москве чаще слушают русскую популярную музыку, в Санкт-Петербурге — джаз.\n"
   ]
  },
  {
   "cell_type": "markdown",
   "metadata": {
    "id": "JolODAqr_Zcu"
   },
   "source": [
    "### Жанровые предпочтения в Москве и Санкт-Петербурге\n",
    "\n",
    "Гипотеза: Санкт-Петербург — столица рэпа, музыку этого жанра там слушают чаще, чем в Москве.  А Москва — город контрастов, в котором, тем не менее, преобладает поп-музыка."
   ]
  },
  {
   "cell_type": "code",
   "execution_count": 35,
   "metadata": {
    "id": "r19lIPke_Zcu"
   },
   "outputs": [],
   "source": [
    "moscow_genres = moscow_general.groupby('genre')['genre'].count().sort_values(ascending=False)\n",
    "# одной строкой: группировка таблицы moscow_general по столбцу 'genre', \n",
    "# подсчёт числа значений 'genre' в этой группировке методом count(), \n",
    "# сортировка получившегося Series в порядке убывания и сохранение в moscow_genres"
   ]
  },
  {
   "cell_type": "code",
   "execution_count": 36,
   "metadata": {
    "id": "WhCSooF8_Zcv"
   },
   "outputs": [
    {
     "data": {
      "text/plain": [
       "genre\n",
       "pop            5892\n",
       "dance          4435\n",
       "rock           3965\n",
       "electronic     3786\n",
       "hiphop         2096\n",
       "classical      1616\n",
       "world          1432\n",
       "alternative    1379\n",
       "ruspop         1372\n",
       "rusrap         1161\n",
       "Name: genre, dtype: int64"
      ]
     },
     "execution_count": 36,
     "metadata": {},
     "output_type": "execute_result"
    }
   ],
   "source": [
    "moscow_genres.head(10)# просмотр первых 10 строк moscow_genres"
   ]
  },
  {
   "cell_type": "code",
   "execution_count": 37,
   "metadata": {
    "id": "gluLIpE7_Zcv"
   },
   "outputs": [],
   "source": [
    "spb_genres = spb_general.groupby('genre')['genre'].count().sort_values(ascending=False)# одной строкой: группировка таблицы spb_general по столбцу 'genre', \n",
    "# подсчёт числа значений 'genre' в этой группировке методом count(), \n",
    "# сортировка получившегося Series в порядке убывания и сохранение в spb_genres"
   ]
  },
  {
   "cell_type": "code",
   "execution_count": 38,
   "metadata": {
    "id": "uaGJHjVU_Zcv"
   },
   "outputs": [
    {
     "data": {
      "text/plain": [
       "genre\n",
       "pop            2431\n",
       "dance          1932\n",
       "rock           1879\n",
       "electronic     1736\n",
       "hiphop          960\n",
       "alternative     649\n",
       "classical       646\n",
       "rusrap          564\n",
       "ruspop          538\n",
       "world           515\n",
       "Name: genre, dtype: int64"
      ]
     },
     "execution_count": 38,
     "metadata": {},
     "output_type": "execute_result"
    }
   ],
   "source": [
    "spb_genres.head(10)# просмотр первых 10 строк spb_genres"
   ]
  },
  {
   "cell_type": "markdown",
   "metadata": {
    "id": "RY51YJYu_Zcv"
   },
   "source": [
    "**Вывод**\n",
    "\n",
    "Гипотеза частично подтвердилась:\n",
    "* Поп-музыка — самый популярный жанр в Москве, как и предполагала гипотеза. Более того, в топ-10 жанров встречается близкий жанр — русская популярная музыка.\n",
    "* Вопреки ожиданиям, рэп одинаково популярен в Москве и Петербурге. \n"
   ]
  },
  {
   "cell_type": "markdown",
   "metadata": {
    "id": "ykKQ0N65_Zcv"
   },
   "source": [
    "## Общий вывод"
   ]
  },
  {
   "cell_type": "markdown",
   "metadata": {
    "id": "tjUwbHb3_Zcv"
   },
   "source": [
    "Проверили три гипотезы и установили:\n",
    "\n",
    "1. День недели по-разному влияет на активность пользователей в Москве и Петербурге.Первая гипотеза полностью подтвердилась.\n",
    "\n",
    "2. Музыкальные предпочтения не сильно меняются в течение недели — будь то Москва или Петербург. Небольшие различия заметны в начале недели, по понедельникам:\n",
    "* в Москве слушают музыку жанра “world”,\n",
    "* в Петербурге — джаз и классику.\n",
    "Таким образом, вторая гипотеза подтвердилась лишь отчасти.\n",
    "\n",
    "3. Во вкусах пользователей Москвы и Петербурга больше общего чем различий. Третья гипотеза не подтвердилась. Если различия в предпочтениях и существуют, на основной массе пользователей они незаметны.\n"
   ]
  }
 ],
 "metadata": {
  "ExecuteTimeLog": [
   {
    "duration": 580,
    "start_time": "2021-11-24T11:27:01.468Z"
   },
   {
    "duration": 124,
    "start_time": "2021-11-24T11:33:40.124Z"
   },
   {
    "duration": 15,
    "start_time": "2021-11-24T11:48:37.304Z"
   },
   {
    "duration": 9,
    "start_time": "2021-11-24T11:52:22.657Z"
   },
   {
    "duration": 371,
    "start_time": "2021-11-24T11:53:55.938Z"
   },
   {
    "duration": 23,
    "start_time": "2021-11-24T11:54:45.420Z"
   },
   {
    "duration": 11,
    "start_time": "2021-11-24T12:07:54.030Z"
   },
   {
    "duration": 18,
    "start_time": "2021-11-24T12:17:23.365Z"
   },
   {
    "duration": 11,
    "start_time": "2021-11-24T12:18:03.947Z"
   },
   {
    "duration": 25,
    "start_time": "2021-11-24T12:28:09.660Z"
   },
   {
    "duration": 15,
    "start_time": "2021-11-24T13:03:51.161Z"
   },
   {
    "duration": 20,
    "start_time": "2021-11-24T13:04:28.936Z"
   },
   {
    "duration": 53,
    "start_time": "2021-11-24T13:06:33.640Z"
   },
   {
    "duration": 59,
    "start_time": "2021-11-24T13:09:25.312Z"
   },
   {
    "duration": 45,
    "start_time": "2021-11-24T13:10:03.548Z"
   },
   {
    "duration": 6,
    "start_time": "2021-11-24T13:14:28.640Z"
   },
   {
    "duration": 4,
    "start_time": "2021-11-24T13:24:54.744Z"
   },
   {
    "duration": 9,
    "start_time": "2021-11-24T13:25:55.713Z"
   },
   {
    "duration": 6,
    "start_time": "2021-11-24T13:27:36.568Z"
   },
   {
    "duration": 10,
    "start_time": "2021-11-24T13:40:35.087Z"
   },
   {
    "duration": 10,
    "start_time": "2021-11-24T13:42:34.277Z"
   },
   {
    "duration": 4,
    "start_time": "2021-11-24T14:41:00.122Z"
   },
   {
    "duration": 14,
    "start_time": "2021-11-24T14:51:31.526Z"
   },
   {
    "duration": 2,
    "start_time": "2021-11-24T14:51:35.878Z"
   },
   {
    "duration": 16,
    "start_time": "2021-11-24T14:54:28.262Z"
   },
   {
    "duration": 14,
    "start_time": "2021-11-24T14:55:40.072Z"
   },
   {
    "duration": 15,
    "start_time": "2021-11-24T14:56:49.092Z"
   },
   {
    "duration": 14,
    "start_time": "2021-11-24T14:57:17.380Z"
   },
   {
    "duration": 293,
    "start_time": "2021-11-24T15:05:39.999Z"
   },
   {
    "duration": 14,
    "start_time": "2021-11-24T15:14:32.182Z"
   },
   {
    "duration": 13,
    "start_time": "2021-11-24T15:14:34.911Z"
   },
   {
    "duration": 15,
    "start_time": "2021-11-24T15:14:42.183Z"
   },
   {
    "duration": 14,
    "start_time": "2021-11-24T15:14:42.982Z"
   },
   {
    "duration": 14,
    "start_time": "2021-11-24T15:14:43.881Z"
   },
   {
    "duration": 12,
    "start_time": "2021-11-24T15:14:44.830Z"
   },
   {
    "duration": 16,
    "start_time": "2021-11-24T15:14:46.462Z"
   },
   {
    "duration": 15,
    "start_time": "2021-11-24T15:14:47.460Z"
   },
   {
    "duration": 3,
    "start_time": "2021-11-24T15:14:58.624Z"
   },
   {
    "duration": 16,
    "start_time": "2021-11-24T15:15:01.600Z"
   },
   {
    "duration": 14,
    "start_time": "2021-11-24T15:15:02.184Z"
   },
   {
    "duration": 13,
    "start_time": "2021-11-24T15:15:02.712Z"
   },
   {
    "duration": 13,
    "start_time": "2021-11-24T15:15:02.901Z"
   },
   {
    "duration": 15,
    "start_time": "2021-11-24T15:15:04.235Z"
   },
   {
    "duration": 13,
    "start_time": "2021-11-24T15:15:05.305Z"
   },
   {
    "duration": 293,
    "start_time": "2021-11-24T15:20:38.736Z"
   },
   {
    "duration": 8,
    "start_time": "2021-11-24T15:22:05.682Z"
   },
   {
    "duration": 15,
    "start_time": "2021-11-24T15:22:15.514Z"
   },
   {
    "duration": 295,
    "start_time": "2021-11-24T15:32:52.602Z"
   },
   {
    "duration": 70,
    "start_time": "2021-11-24T15:35:45.772Z"
   },
   {
    "duration": 64,
    "start_time": "2021-11-24T15:35:52.840Z"
   },
   {
    "duration": 60,
    "start_time": "2021-11-24T15:36:52.528Z"
   },
   {
    "duration": 318,
    "start_time": "2021-11-25T11:53:24.258Z"
   },
   {
    "duration": 731,
    "start_time": "2021-11-25T11:54:24.963Z"
   },
   {
    "duration": 201,
    "start_time": "2021-11-25T11:54:25.697Z"
   },
   {
    "duration": 34,
    "start_time": "2021-11-25T11:54:25.901Z"
   },
   {
    "duration": 32,
    "start_time": "2021-11-25T11:54:25.938Z"
   },
   {
    "duration": 21,
    "start_time": "2021-11-25T11:54:25.973Z"
   },
   {
    "duration": 56,
    "start_time": "2021-11-25T11:54:25.997Z"
   },
   {
    "duration": 19,
    "start_time": "2021-11-25T11:54:26.056Z"
   },
   {
    "duration": 57,
    "start_time": "2021-11-25T11:54:26.081Z"
   },
   {
    "duration": 45,
    "start_time": "2021-11-25T11:54:26.141Z"
   },
   {
    "duration": 31,
    "start_time": "2021-11-25T11:54:26.189Z"
   },
   {
    "duration": 87,
    "start_time": "2021-11-25T11:54:26.222Z"
   },
   {
    "duration": 118,
    "start_time": "2021-11-25T11:54:26.311Z"
   },
   {
    "duration": 75,
    "start_time": "2021-11-25T11:54:26.431Z"
   },
   {
    "duration": 25,
    "start_time": "2021-11-25T11:54:26.509Z"
   },
   {
    "duration": 5,
    "start_time": "2021-11-25T11:54:26.536Z"
   },
   {
    "duration": 24,
    "start_time": "2021-11-25T11:54:26.543Z"
   },
   {
    "duration": 9,
    "start_time": "2021-11-25T11:54:26.570Z"
   },
   {
    "duration": 51,
    "start_time": "2021-11-25T11:54:26.582Z"
   },
   {
    "duration": 15,
    "start_time": "2021-11-25T11:54:26.635Z"
   },
   {
    "duration": 4,
    "start_time": "2021-11-25T11:54:26.653Z"
   },
   {
    "duration": 70,
    "start_time": "2021-11-25T11:54:26.661Z"
   },
   {
    "duration": 22,
    "start_time": "2021-11-25T11:54:26.733Z"
   },
   {
    "duration": 22,
    "start_time": "2021-11-25T11:54:26.762Z"
   },
   {
    "duration": 54,
    "start_time": "2021-11-25T11:54:26.788Z"
   },
   {
    "duration": 23,
    "start_time": "2021-11-25T11:54:26.845Z"
   },
   {
    "duration": 21,
    "start_time": "2021-11-25T11:54:26.870Z"
   },
   {
    "duration": 107,
    "start_time": "2021-11-25T11:54:26.932Z"
   },
   {
    "duration": 20,
    "start_time": "2021-11-25T11:54:27.042Z"
   },
   {
    "duration": 5,
    "start_time": "2021-11-25T11:54:27.065Z"
   },
   {
    "duration": 13,
    "start_time": "2021-11-25T11:54:27.073Z"
   },
   {
    "duration": 11,
    "start_time": "2021-11-25T11:54:27.098Z"
   },
   {
    "duration": 6,
    "start_time": "2021-11-25T11:54:27.111Z"
   },
   {
    "duration": 7,
    "start_time": "2021-11-25T11:54:27.133Z"
   },
   {
    "duration": 18,
    "start_time": "2021-11-25T11:54:27.143Z"
   },
   {
    "duration": 17,
    "start_time": "2021-11-25T11:54:27.163Z"
   },
   {
    "duration": 14,
    "start_time": "2021-11-25T11:54:27.183Z"
   },
   {
    "duration": 29,
    "start_time": "2021-11-25T11:54:27.199Z"
   },
   {
    "duration": 27,
    "start_time": "2021-11-25T11:54:27.231Z"
   },
   {
    "duration": 18,
    "start_time": "2021-11-25T11:54:58.802Z"
   },
   {
    "duration": 12,
    "start_time": "2021-11-25T11:55:42.652Z"
   },
   {
    "duration": 5,
    "start_time": "2021-11-25T12:59:34.262Z"
   },
   {
    "duration": 33,
    "start_time": "2021-11-25T13:02:46.024Z"
   },
   {
    "duration": 25,
    "start_time": "2021-11-25T13:04:06.914Z"
   },
   {
    "duration": 31,
    "start_time": "2021-11-25T13:05:50.680Z"
   },
   {
    "duration": 27,
    "start_time": "2021-11-25T13:06:38.888Z"
   },
   {
    "duration": 341,
    "start_time": "2021-11-25T13:18:47.861Z"
   },
   {
    "duration": 94,
    "start_time": "2021-11-25T13:18:57.799Z"
   },
   {
    "duration": 79,
    "start_time": "2021-11-25T13:20:13.254Z"
   },
   {
    "duration": 85,
    "start_time": "2021-11-25T13:20:22.259Z"
   },
   {
    "duration": 84,
    "start_time": "2021-11-25T13:20:41.438Z"
   },
   {
    "duration": 88,
    "start_time": "2021-11-25T13:21:20.452Z"
   },
   {
    "duration": 281,
    "start_time": "2021-11-25T13:21:28.915Z"
   },
   {
    "duration": 276,
    "start_time": "2021-11-25T13:26:31.399Z"
   },
   {
    "duration": 85,
    "start_time": "2021-11-25T13:26:42.249Z"
   },
   {
    "duration": 13,
    "start_time": "2021-11-25T13:30:44.502Z"
   },
   {
    "duration": 6,
    "start_time": "2021-11-25T13:32:51.789Z"
   },
   {
    "duration": 7,
    "start_time": "2021-11-25T13:33:04.675Z"
   },
   {
    "duration": 12,
    "start_time": "2021-11-25T13:34:35.169Z"
   },
   {
    "duration": 7,
    "start_time": "2021-11-25T13:34:54.003Z"
   },
   {
    "duration": 592,
    "start_time": "2021-11-25T14:34:09.053Z"
   },
   {
    "duration": 144,
    "start_time": "2021-11-25T14:34:09.647Z"
   },
   {
    "duration": 18,
    "start_time": "2021-11-25T14:34:09.793Z"
   },
   {
    "duration": 36,
    "start_time": "2021-11-25T14:34:09.813Z"
   },
   {
    "duration": 11,
    "start_time": "2021-11-25T14:34:09.851Z"
   },
   {
    "duration": 20,
    "start_time": "2021-11-25T14:34:09.864Z"
   },
   {
    "duration": 13,
    "start_time": "2021-11-25T14:34:09.886Z"
   },
   {
    "duration": 52,
    "start_time": "2021-11-25T14:34:09.901Z"
   },
   {
    "duration": 18,
    "start_time": "2021-11-25T14:34:09.955Z"
   },
   {
    "duration": 22,
    "start_time": "2021-11-25T14:34:09.975Z"
   },
   {
    "duration": 80,
    "start_time": "2021-11-25T14:34:09.999Z"
   },
   {
    "duration": 77,
    "start_time": "2021-11-25T14:34:10.081Z"
   },
   {
    "duration": 51,
    "start_time": "2021-11-25T14:34:10.160Z"
   },
   {
    "duration": 7,
    "start_time": "2021-11-25T14:34:10.213Z"
   },
   {
    "duration": 25,
    "start_time": "2021-11-25T14:34:10.222Z"
   },
   {
    "duration": 15,
    "start_time": "2021-11-25T14:34:10.249Z"
   },
   {
    "duration": 9,
    "start_time": "2021-11-25T14:34:10.265Z"
   },
   {
    "duration": 14,
    "start_time": "2021-11-25T14:34:10.276Z"
   },
   {
    "duration": 10,
    "start_time": "2021-11-25T14:34:10.292Z"
   },
   {
    "duration": 3,
    "start_time": "2021-11-25T14:34:10.304Z"
   },
   {
    "duration": 45,
    "start_time": "2021-11-25T14:34:10.309Z"
   },
   {
    "duration": 15,
    "start_time": "2021-11-25T14:34:10.356Z"
   },
   {
    "duration": 14,
    "start_time": "2021-11-25T14:34:10.374Z"
   },
   {
    "duration": 13,
    "start_time": "2021-11-25T14:34:10.391Z"
   },
   {
    "duration": 47,
    "start_time": "2021-11-25T14:34:10.406Z"
   },
   {
    "duration": 14,
    "start_time": "2021-11-25T14:34:10.454Z"
   },
   {
    "duration": 82,
    "start_time": "2021-11-25T14:34:10.470Z"
   },
   {
    "duration": 11,
    "start_time": "2021-11-25T14:34:10.553Z"
   },
   {
    "duration": 9,
    "start_time": "2021-11-25T14:34:10.566Z"
   },
   {
    "duration": 5,
    "start_time": "2021-11-25T14:34:10.576Z"
   },
   {
    "duration": 26,
    "start_time": "2021-11-25T14:34:10.583Z"
   },
   {
    "duration": 43,
    "start_time": "2021-11-25T14:34:10.611Z"
   },
   {
    "duration": 23,
    "start_time": "2021-11-25T14:34:10.656Z"
   },
   {
    "duration": 16,
    "start_time": "2021-11-25T14:34:10.681Z"
   },
   {
    "duration": 9,
    "start_time": "2021-11-25T14:34:10.698Z"
   },
   {
    "duration": 39,
    "start_time": "2021-11-25T14:34:10.708Z"
   },
   {
    "duration": 7,
    "start_time": "2021-11-25T14:34:10.748Z"
   },
   {
    "duration": 4,
    "start_time": "2021-11-25T14:34:10.757Z"
   },
   {
    "duration": 1609,
    "start_time": "2021-11-25T15:12:57.697Z"
   },
   {
    "duration": 993,
    "start_time": "2021-11-25T15:12:59.308Z"
   },
   {
    "duration": 22,
    "start_time": "2021-11-25T15:13:00.304Z"
   },
   {
    "duration": 37,
    "start_time": "2021-11-25T15:13:00.328Z"
   },
   {
    "duration": 19,
    "start_time": "2021-11-25T15:13:00.367Z"
   },
   {
    "duration": 32,
    "start_time": "2021-11-25T15:13:00.388Z"
   },
   {
    "duration": 20,
    "start_time": "2021-11-25T15:13:00.422Z"
   },
   {
    "duration": 54,
    "start_time": "2021-11-25T15:13:00.444Z"
   },
   {
    "duration": 43,
    "start_time": "2021-11-25T15:13:00.501Z"
   },
   {
    "duration": 32,
    "start_time": "2021-11-25T15:13:00.547Z"
   },
   {
    "duration": 84,
    "start_time": "2021-11-25T15:13:00.580Z"
   },
   {
    "duration": 75,
    "start_time": "2021-11-25T15:13:00.666Z"
   },
   {
    "duration": 51,
    "start_time": "2021-11-25T15:13:00.743Z"
   },
   {
    "duration": 14,
    "start_time": "2021-11-25T15:13:00.796Z"
   },
   {
    "duration": 21,
    "start_time": "2021-11-25T15:13:00.812Z"
   },
   {
    "duration": 26,
    "start_time": "2021-11-25T15:13:00.834Z"
   },
   {
    "duration": 13,
    "start_time": "2021-11-25T15:13:00.862Z"
   },
   {
    "duration": 45,
    "start_time": "2021-11-25T15:13:00.877Z"
   },
   {
    "duration": 35,
    "start_time": "2021-11-25T15:13:00.924Z"
   },
   {
    "duration": 7,
    "start_time": "2021-11-25T15:13:00.961Z"
   },
   {
    "duration": 58,
    "start_time": "2021-11-25T15:13:00.970Z"
   },
   {
    "duration": 56,
    "start_time": "2021-11-25T15:13:01.031Z"
   },
   {
    "duration": 36,
    "start_time": "2021-11-25T15:13:01.090Z"
   },
   {
    "duration": 30,
    "start_time": "2021-11-25T15:13:01.128Z"
   },
   {
    "duration": 53,
    "start_time": "2021-11-25T15:13:01.160Z"
   },
   {
    "duration": 28,
    "start_time": "2021-11-25T15:13:01.215Z"
   },
   {
    "duration": 80,
    "start_time": "2021-11-25T15:13:01.247Z"
   },
   {
    "duration": 10,
    "start_time": "2021-11-25T15:13:01.329Z"
   },
   {
    "duration": 62,
    "start_time": "2021-11-25T15:13:01.341Z"
   },
   {
    "duration": 17,
    "start_time": "2021-11-25T15:13:01.405Z"
   },
   {
    "duration": 42,
    "start_time": "2021-11-25T15:13:01.424Z"
   },
   {
    "duration": 22,
    "start_time": "2021-11-25T15:13:01.468Z"
   },
   {
    "duration": 22,
    "start_time": "2021-11-25T15:13:01.492Z"
   },
   {
    "duration": 16,
    "start_time": "2021-11-25T15:13:01.516Z"
   },
   {
    "duration": 25,
    "start_time": "2021-11-25T15:13:01.534Z"
   },
   {
    "duration": 7,
    "start_time": "2021-11-25T15:13:01.561Z"
   },
   {
    "duration": 12,
    "start_time": "2021-11-25T15:13:01.570Z"
   },
   {
    "duration": 7,
    "start_time": "2021-11-25T15:13:01.584Z"
   },
   {
    "duration": 644,
    "start_time": "2021-11-25T15:13:03.404Z"
   },
   {
    "duration": 146,
    "start_time": "2021-11-25T15:13:04.050Z"
   },
   {
    "duration": 16,
    "start_time": "2021-11-25T15:13:04.198Z"
   },
   {
    "duration": 145,
    "start_time": "2021-11-25T15:13:04.216Z"
   },
   {
    "duration": 36,
    "start_time": "2021-11-25T15:13:04.363Z"
   },
   {
    "duration": 23,
    "start_time": "2021-11-25T15:13:04.401Z"
   },
   {
    "duration": 16,
    "start_time": "2021-11-25T15:13:04.426Z"
   },
   {
    "duration": 41,
    "start_time": "2021-11-25T15:13:04.444Z"
   },
   {
    "duration": 24,
    "start_time": "2021-11-25T15:13:04.487Z"
   },
   {
    "duration": 30,
    "start_time": "2021-11-25T15:13:04.513Z"
   },
   {
    "duration": 63,
    "start_time": "2021-11-25T15:13:04.544Z"
   },
   {
    "duration": 71,
    "start_time": "2021-11-25T15:13:04.609Z"
   },
   {
    "duration": 84,
    "start_time": "2021-11-25T15:13:04.681Z"
   },
   {
    "duration": 5,
    "start_time": "2021-11-25T15:13:04.767Z"
   },
   {
    "duration": 45,
    "start_time": "2021-11-25T15:13:04.774Z"
   },
   {
    "duration": 28,
    "start_time": "2021-11-25T15:13:04.821Z"
   },
   {
    "duration": 7,
    "start_time": "2021-11-25T15:13:04.850Z"
   },
   {
    "duration": 23,
    "start_time": "2021-11-25T15:13:04.859Z"
   },
   {
    "duration": 12,
    "start_time": "2021-11-25T15:13:04.883Z"
   },
   {
    "duration": 4,
    "start_time": "2021-11-25T15:13:04.897Z"
   },
   {
    "duration": 45,
    "start_time": "2021-11-25T15:13:04.902Z"
   },
   {
    "duration": 15,
    "start_time": "2021-11-25T15:13:04.949Z"
   },
   {
    "duration": 25,
    "start_time": "2021-11-25T15:13:04.968Z"
   },
   {
    "duration": 16,
    "start_time": "2021-11-25T15:13:04.996Z"
   },
   {
    "duration": 32,
    "start_time": "2021-11-25T15:13:05.014Z"
   },
   {
    "duration": 17,
    "start_time": "2021-11-25T15:13:05.048Z"
   },
   {
    "duration": 79,
    "start_time": "2021-11-25T15:13:05.067Z"
   },
   {
    "duration": 12,
    "start_time": "2021-11-25T15:13:05.148Z"
   },
   {
    "duration": 27,
    "start_time": "2021-11-25T15:13:05.162Z"
   },
   {
    "duration": 6,
    "start_time": "2021-11-25T15:13:05.191Z"
   },
   {
    "duration": 45,
    "start_time": "2021-11-25T15:13:05.199Z"
   },
   {
    "duration": 21,
    "start_time": "2021-11-25T15:13:05.246Z"
   },
   {
    "duration": 26,
    "start_time": "2021-11-25T15:13:05.269Z"
   },
   {
    "duration": 23,
    "start_time": "2021-11-25T15:13:05.296Z"
   },
   {
    "duration": 8,
    "start_time": "2021-11-25T15:13:05.320Z"
   },
   {
    "duration": 5,
    "start_time": "2021-11-25T15:13:05.330Z"
   },
   {
    "duration": 18,
    "start_time": "2021-11-25T15:13:05.336Z"
   },
   {
    "duration": 24,
    "start_time": "2021-11-25T15:13:05.356Z"
   },
   {
    "duration": 5,
    "start_time": "2021-11-25T15:17:43.884Z"
   },
   {
    "duration": 4,
    "start_time": "2021-11-25T15:23:38.984Z"
   },
   {
    "duration": 261,
    "start_time": "2021-11-25T19:20:59.678Z"
   },
   {
    "duration": 586,
    "start_time": "2021-11-26T13:10:44.948Z"
   },
   {
    "duration": 143,
    "start_time": "2021-11-26T13:10:45.536Z"
   },
   {
    "duration": 25,
    "start_time": "2021-11-26T13:10:45.682Z"
   },
   {
    "duration": 26,
    "start_time": "2021-11-26T13:10:45.709Z"
   },
   {
    "duration": 5,
    "start_time": "2021-11-26T13:10:45.737Z"
   },
   {
    "duration": 51,
    "start_time": "2021-11-26T13:10:45.744Z"
   },
   {
    "duration": 7,
    "start_time": "2021-11-26T13:10:45.797Z"
   },
   {
    "duration": 38,
    "start_time": "2021-11-26T13:10:45.808Z"
   },
   {
    "duration": 44,
    "start_time": "2021-11-26T13:10:45.849Z"
   },
   {
    "duration": 21,
    "start_time": "2021-11-26T13:10:45.895Z"
   },
   {
    "duration": 90,
    "start_time": "2021-11-26T13:10:45.918Z"
   },
   {
    "duration": 84,
    "start_time": "2021-11-26T13:10:46.010Z"
   },
   {
    "duration": 51,
    "start_time": "2021-11-26T13:10:46.096Z"
   },
   {
    "duration": 7,
    "start_time": "2021-11-26T13:10:46.148Z"
   },
   {
    "duration": 3,
    "start_time": "2021-11-26T13:10:46.157Z"
   },
   {
    "duration": 36,
    "start_time": "2021-11-26T13:10:46.162Z"
   },
   {
    "duration": 6,
    "start_time": "2021-11-26T13:10:46.200Z"
   },
   {
    "duration": 16,
    "start_time": "2021-11-26T13:10:46.208Z"
   },
   {
    "duration": 13,
    "start_time": "2021-11-26T13:10:46.225Z"
   },
   {
    "duration": 5,
    "start_time": "2021-11-26T13:10:46.240Z"
   },
   {
    "duration": 61,
    "start_time": "2021-11-26T13:10:46.247Z"
   },
   {
    "duration": 22,
    "start_time": "2021-11-26T13:10:46.310Z"
   },
   {
    "duration": 22,
    "start_time": "2021-11-26T13:10:46.336Z"
   },
   {
    "duration": 44,
    "start_time": "2021-11-26T13:10:46.361Z"
   },
   {
    "duration": 19,
    "start_time": "2021-11-26T13:10:46.407Z"
   },
   {
    "duration": 14,
    "start_time": "2021-11-26T13:10:46.428Z"
   },
   {
    "duration": 114,
    "start_time": "2021-11-26T13:10:46.444Z"
   },
   {
    "duration": 11,
    "start_time": "2021-11-26T13:10:46.560Z"
   },
   {
    "duration": 29,
    "start_time": "2021-11-26T13:10:46.572Z"
   },
   {
    "duration": 12,
    "start_time": "2021-11-26T13:10:46.603Z"
   },
   {
    "duration": 38,
    "start_time": "2021-11-26T13:10:46.617Z"
   },
   {
    "duration": 26,
    "start_time": "2021-11-26T13:10:46.657Z"
   },
   {
    "duration": 32,
    "start_time": "2021-11-26T13:10:46.691Z"
   },
   {
    "duration": 21,
    "start_time": "2021-11-26T13:10:46.725Z"
   },
   {
    "duration": 13,
    "start_time": "2021-11-26T13:10:46.748Z"
   },
   {
    "duration": 31,
    "start_time": "2021-11-26T13:10:46.763Z"
   },
   {
    "duration": 28,
    "start_time": "2021-11-26T13:10:46.796Z"
   },
   {
    "duration": 12,
    "start_time": "2021-11-26T13:10:46.827Z"
   },
   {
    "duration": 84,
    "start_time": "2022-06-20T13:44:43.153Z"
   },
   {
    "duration": 8,
    "start_time": "2022-06-20T13:45:04.760Z"
   },
   {
    "duration": 440,
    "start_time": "2022-06-20T13:45:18.063Z"
   },
   {
    "duration": 598,
    "start_time": "2022-06-20T13:45:18.505Z"
   },
   {
    "duration": 22,
    "start_time": "2022-06-20T13:45:19.106Z"
   },
   {
    "duration": 67,
    "start_time": "2022-06-20T13:45:19.130Z"
   },
   {
    "duration": 25,
    "start_time": "2022-06-20T13:45:19.199Z"
   },
   {
    "duration": 49,
    "start_time": "2022-06-20T13:45:19.225Z"
   },
   {
    "duration": 24,
    "start_time": "2022-06-20T13:45:19.276Z"
   },
   {
    "duration": 48,
    "start_time": "2022-06-20T13:45:19.302Z"
   },
   {
    "duration": 45,
    "start_time": "2022-06-20T13:45:19.352Z"
   },
   {
    "duration": 29,
    "start_time": "2022-06-20T13:45:19.399Z"
   },
   {
    "duration": 130,
    "start_time": "2022-06-20T13:45:19.429Z"
   },
   {
    "duration": 110,
    "start_time": "2022-06-20T13:45:19.561Z"
   },
   {
    "duration": 79,
    "start_time": "2022-06-20T13:45:19.673Z"
   },
   {
    "duration": 13,
    "start_time": "2022-06-20T13:45:19.758Z"
   },
   {
    "duration": 10,
    "start_time": "2022-06-20T13:45:19.773Z"
   },
   {
    "duration": 38,
    "start_time": "2022-06-20T13:45:19.785Z"
   },
   {
    "duration": 59,
    "start_time": "2022-06-20T13:45:19.825Z"
   },
   {
    "duration": 26,
    "start_time": "2022-06-20T13:45:19.886Z"
   },
   {
    "duration": 12,
    "start_time": "2022-06-20T13:45:19.914Z"
   },
   {
    "duration": 7,
    "start_time": "2022-06-20T13:45:19.928Z"
   },
   {
    "duration": 49,
    "start_time": "2022-06-20T13:45:19.937Z"
   },
   {
    "duration": 15,
    "start_time": "2022-06-20T13:45:19.988Z"
   },
   {
    "duration": 16,
    "start_time": "2022-06-20T13:45:20.005Z"
   },
   {
    "duration": 17,
    "start_time": "2022-06-20T13:45:20.022Z"
   },
   {
    "duration": 50,
    "start_time": "2022-06-20T13:45:20.041Z"
   },
   {
    "duration": 14,
    "start_time": "2022-06-20T13:45:20.093Z"
   },
   {
    "duration": 97,
    "start_time": "2022-06-20T13:45:20.109Z"
   },
   {
    "duration": 12,
    "start_time": "2022-06-20T13:45:20.208Z"
   },
   {
    "duration": 17,
    "start_time": "2022-06-20T13:45:20.222Z"
   },
   {
    "duration": 27,
    "start_time": "2022-06-20T13:45:20.241Z"
   },
   {
    "duration": 37,
    "start_time": "2022-06-20T13:45:20.270Z"
   },
   {
    "duration": 15,
    "start_time": "2022-06-20T13:45:20.309Z"
   },
   {
    "duration": 39,
    "start_time": "2022-06-20T13:45:20.326Z"
   },
   {
    "duration": 19,
    "start_time": "2022-06-20T13:45:20.367Z"
   },
   {
    "duration": 8,
    "start_time": "2022-06-20T13:45:20.388Z"
   },
   {
    "duration": 12,
    "start_time": "2022-06-20T13:45:20.397Z"
   },
   {
    "duration": 11,
    "start_time": "2022-06-20T13:45:20.411Z"
   },
   {
    "duration": 38,
    "start_time": "2022-06-20T13:45:20.423Z"
   },
   {
    "duration": 29,
    "start_time": "2022-06-20T13:45:35.169Z"
   },
   {
    "duration": 423,
    "start_time": "2022-06-20T13:45:48.675Z"
   },
   {
    "duration": 206,
    "start_time": "2022-06-20T13:45:49.100Z"
   },
   {
    "duration": 28,
    "start_time": "2022-06-20T13:45:49.309Z"
   },
   {
    "duration": 51,
    "start_time": "2022-06-20T13:45:49.340Z"
   },
   {
    "duration": 5,
    "start_time": "2022-06-20T13:45:49.392Z"
   },
   {
    "duration": 16,
    "start_time": "2022-06-20T13:45:49.398Z"
   },
   {
    "duration": 18,
    "start_time": "2022-06-20T13:45:49.416Z"
   },
   {
    "duration": 61,
    "start_time": "2022-06-20T13:45:49.436Z"
   },
   {
    "duration": 19,
    "start_time": "2022-06-20T13:45:49.499Z"
   },
   {
    "duration": 28,
    "start_time": "2022-06-20T13:45:49.521Z"
   },
   {
    "duration": 84,
    "start_time": "2022-06-20T13:45:49.552Z"
   },
   {
    "duration": 100,
    "start_time": "2022-06-20T13:45:49.638Z"
   },
   {
    "duration": 79,
    "start_time": "2022-06-20T13:45:49.740Z"
   },
   {
    "duration": 15,
    "start_time": "2022-06-20T13:45:49.821Z"
   },
   {
    "duration": 38,
    "start_time": "2022-06-20T13:45:49.838Z"
   },
   {
    "duration": 12,
    "start_time": "2022-06-20T13:45:49.878Z"
   },
   {
    "duration": 8,
    "start_time": "2022-06-20T13:45:49.891Z"
   },
   {
    "duration": 16,
    "start_time": "2022-06-20T13:45:49.900Z"
   },
   {
    "duration": 16,
    "start_time": "2022-06-20T13:45:49.918Z"
   },
   {
    "duration": 36,
    "start_time": "2022-06-20T13:45:49.936Z"
   },
   {
    "duration": 25,
    "start_time": "2022-06-20T13:45:49.974Z"
   },
   {
    "duration": 15,
    "start_time": "2022-06-20T13:45:50.000Z"
   },
   {
    "duration": 28,
    "start_time": "2022-06-20T13:45:50.017Z"
   },
   {
    "duration": 40,
    "start_time": "2022-06-20T13:45:50.047Z"
   },
   {
    "duration": 18,
    "start_time": "2022-06-20T13:45:50.089Z"
   },
   {
    "duration": 16,
    "start_time": "2022-06-20T13:45:50.109Z"
   },
   {
    "duration": 122,
    "start_time": "2022-06-20T13:45:50.127Z"
   },
   {
    "duration": 16,
    "start_time": "2022-06-20T13:45:50.266Z"
   },
   {
    "duration": 15,
    "start_time": "2022-06-20T13:45:50.284Z"
   },
   {
    "duration": 5,
    "start_time": "2022-06-20T13:45:50.300Z"
   },
   {
    "duration": 39,
    "start_time": "2022-06-20T13:45:50.306Z"
   },
   {
    "duration": 45,
    "start_time": "2022-06-20T13:45:50.347Z"
   },
   {
    "duration": 23,
    "start_time": "2022-06-20T13:45:50.393Z"
   },
   {
    "duration": 37,
    "start_time": "2022-06-20T13:45:50.418Z"
   },
   {
    "duration": 10,
    "start_time": "2022-06-20T13:45:50.462Z"
   },
   {
    "duration": 8,
    "start_time": "2022-06-20T13:45:50.474Z"
   },
   {
    "duration": 12,
    "start_time": "2022-06-20T13:45:50.484Z"
   },
   {
    "duration": 6,
    "start_time": "2022-06-20T13:45:50.497Z"
   },
   {
    "duration": 67,
    "start_time": "2022-06-20T13:50:45.766Z"
   },
   {
    "duration": 420,
    "start_time": "2022-06-20T13:50:56.157Z"
   },
   {
    "duration": 201,
    "start_time": "2022-06-20T13:50:56.579Z"
   },
   {
    "duration": 17,
    "start_time": "2022-06-20T13:50:56.782Z"
   },
   {
    "duration": 49,
    "start_time": "2022-06-20T13:50:56.801Z"
   },
   {
    "duration": 15,
    "start_time": "2022-06-20T13:50:56.852Z"
   },
   {
    "duration": 14,
    "start_time": "2022-06-20T13:50:56.869Z"
   },
   {
    "duration": 6,
    "start_time": "2022-06-20T13:50:56.885Z"
   },
   {
    "duration": 46,
    "start_time": "2022-06-20T13:50:56.893Z"
   },
   {
    "duration": 38,
    "start_time": "2022-06-20T13:50:56.940Z"
   },
   {
    "duration": 21,
    "start_time": "2022-06-20T13:50:56.980Z"
   },
   {
    "duration": 79,
    "start_time": "2022-06-20T13:50:57.003Z"
   },
   {
    "duration": 93,
    "start_time": "2022-06-20T13:50:57.084Z"
   },
   {
    "duration": 82,
    "start_time": "2022-06-20T13:50:57.179Z"
   },
   {
    "duration": 6,
    "start_time": "2022-06-20T13:50:57.263Z"
   },
   {
    "duration": 4,
    "start_time": "2022-06-20T13:50:57.271Z"
   },
   {
    "duration": 11,
    "start_time": "2022-06-20T13:50:57.277Z"
   },
   {
    "duration": 7,
    "start_time": "2022-06-20T13:50:57.289Z"
   },
   {
    "duration": 11,
    "start_time": "2022-06-20T13:50:57.297Z"
   },
   {
    "duration": 16,
    "start_time": "2022-06-20T13:50:57.328Z"
   },
   {
    "duration": 17,
    "start_time": "2022-06-20T13:50:57.346Z"
   },
   {
    "duration": 22,
    "start_time": "2022-06-20T13:50:57.364Z"
   },
   {
    "duration": 14,
    "start_time": "2022-06-20T13:50:57.388Z"
   },
   {
    "duration": 32,
    "start_time": "2022-06-20T13:50:57.404Z"
   },
   {
    "duration": 23,
    "start_time": "2022-06-20T13:50:57.439Z"
   },
   {
    "duration": 18,
    "start_time": "2022-06-20T13:50:57.466Z"
   },
   {
    "duration": 15,
    "start_time": "2022-06-20T13:50:57.486Z"
   },
   {
    "duration": 105,
    "start_time": "2022-06-20T13:50:57.502Z"
   },
   {
    "duration": 9,
    "start_time": "2022-06-20T13:50:57.610Z"
   },
   {
    "duration": 15,
    "start_time": "2022-06-20T13:50:57.630Z"
   },
   {
    "duration": 15,
    "start_time": "2022-06-20T13:50:57.647Z"
   },
   {
    "duration": 29,
    "start_time": "2022-06-20T13:50:57.664Z"
   },
   {
    "duration": 17,
    "start_time": "2022-06-20T13:50:57.695Z"
   },
   {
    "duration": 35,
    "start_time": "2022-06-20T13:50:57.713Z"
   },
   {
    "duration": 25,
    "start_time": "2022-06-20T13:50:57.749Z"
   },
   {
    "duration": 8,
    "start_time": "2022-06-20T13:50:57.776Z"
   },
   {
    "duration": 7,
    "start_time": "2022-06-20T13:50:57.785Z"
   },
   {
    "duration": 10,
    "start_time": "2022-06-20T13:50:57.793Z"
   },
   {
    "duration": 7,
    "start_time": "2022-06-20T13:50:57.804Z"
   },
   {
    "duration": 7,
    "start_time": "2022-06-20T13:56:17.865Z"
   },
   {
    "duration": 397,
    "start_time": "2022-06-20T13:56:27.062Z"
   },
   {
    "duration": 198,
    "start_time": "2022-06-20T13:56:27.461Z"
   },
   {
    "duration": 18,
    "start_time": "2022-06-20T13:56:27.661Z"
   },
   {
    "duration": 34,
    "start_time": "2022-06-20T13:56:27.681Z"
   },
   {
    "duration": 5,
    "start_time": "2022-06-20T13:56:27.729Z"
   },
   {
    "duration": 35,
    "start_time": "2022-06-20T13:56:27.736Z"
   },
   {
    "duration": 14,
    "start_time": "2022-06-20T13:56:27.772Z"
   },
   {
    "duration": 26,
    "start_time": "2022-06-20T13:56:27.787Z"
   },
   {
    "duration": 23,
    "start_time": "2022-06-20T13:56:27.815Z"
   },
   {
    "duration": 42,
    "start_time": "2022-06-20T13:56:27.841Z"
   },
   {
    "duration": 82,
    "start_time": "2022-06-20T13:56:27.885Z"
   },
   {
    "duration": 89,
    "start_time": "2022-06-20T13:56:27.969Z"
   },
   {
    "duration": 71,
    "start_time": "2022-06-20T13:56:28.060Z"
   },
   {
    "duration": 10,
    "start_time": "2022-06-20T13:56:28.135Z"
   },
   {
    "duration": 20,
    "start_time": "2022-06-20T13:56:28.146Z"
   },
   {
    "duration": 13,
    "start_time": "2022-06-20T13:56:28.168Z"
   },
   {
    "duration": 13,
    "start_time": "2022-06-20T13:56:28.183Z"
   },
   {
    "duration": 14,
    "start_time": "2022-06-20T13:56:28.197Z"
   },
   {
    "duration": 21,
    "start_time": "2022-06-20T13:56:28.213Z"
   },
   {
    "duration": 5,
    "start_time": "2022-06-20T13:56:28.235Z"
   },
   {
    "duration": 37,
    "start_time": "2022-06-20T13:56:28.242Z"
   },
   {
    "duration": 17,
    "start_time": "2022-06-20T13:56:28.281Z"
   },
   {
    "duration": 17,
    "start_time": "2022-06-20T13:56:28.300Z"
   },
   {
    "duration": 25,
    "start_time": "2022-06-20T13:56:28.319Z"
   },
   {
    "duration": 32,
    "start_time": "2022-06-20T13:56:28.346Z"
   },
   {
    "duration": 17,
    "start_time": "2022-06-20T13:56:28.380Z"
   },
   {
    "duration": 119,
    "start_time": "2022-06-20T13:56:28.399Z"
   },
   {
    "duration": 16,
    "start_time": "2022-06-20T13:56:28.521Z"
   },
   {
    "duration": 32,
    "start_time": "2022-06-20T13:56:28.538Z"
   },
   {
    "duration": 6,
    "start_time": "2022-06-20T13:56:28.571Z"
   },
   {
    "duration": 35,
    "start_time": "2022-06-20T13:56:28.578Z"
   },
   {
    "duration": 22,
    "start_time": "2022-06-20T13:56:28.614Z"
   },
   {
    "duration": 33,
    "start_time": "2022-06-20T13:56:28.638Z"
   },
   {
    "duration": 17,
    "start_time": "2022-06-20T13:56:28.673Z"
   },
   {
    "duration": 7,
    "start_time": "2022-06-20T13:56:28.692Z"
   },
   {
    "duration": 38,
    "start_time": "2022-06-20T13:56:28.701Z"
   },
   {
    "duration": 30,
    "start_time": "2022-06-20T13:56:28.741Z"
   },
   {
    "duration": 5,
    "start_time": "2022-06-20T13:56:28.773Z"
   },
   {
    "duration": 453,
    "start_time": "2022-06-20T14:35:30.800Z"
   },
   {
    "duration": 197,
    "start_time": "2022-06-20T14:35:31.254Z"
   },
   {
    "duration": 27,
    "start_time": "2022-06-20T14:35:31.453Z"
   },
   {
    "duration": 47,
    "start_time": "2022-06-20T14:35:31.482Z"
   },
   {
    "duration": 31,
    "start_time": "2022-06-20T14:35:31.532Z"
   },
   {
    "duration": 14,
    "start_time": "2022-06-20T14:35:31.565Z"
   },
   {
    "duration": 10,
    "start_time": "2022-06-20T14:35:31.581Z"
   },
   {
    "duration": 30,
    "start_time": "2022-06-20T14:35:31.592Z"
   },
   {
    "duration": 27,
    "start_time": "2022-06-20T14:35:31.624Z"
   },
   {
    "duration": 25,
    "start_time": "2022-06-20T14:35:31.652Z"
   },
   {
    "duration": 90,
    "start_time": "2022-06-20T14:35:31.679Z"
   },
   {
    "duration": 109,
    "start_time": "2022-06-20T14:35:31.771Z"
   },
   {
    "duration": 77,
    "start_time": "2022-06-20T14:35:31.882Z"
   },
   {
    "duration": 10,
    "start_time": "2022-06-20T14:35:31.965Z"
   },
   {
    "duration": 8,
    "start_time": "2022-06-20T14:35:31.977Z"
   },
   {
    "duration": 13,
    "start_time": "2022-06-20T14:35:31.987Z"
   },
   {
    "duration": 32,
    "start_time": "2022-06-20T14:35:32.002Z"
   },
   {
    "duration": 27,
    "start_time": "2022-06-20T14:35:32.036Z"
   },
   {
    "duration": 16,
    "start_time": "2022-06-20T14:35:32.065Z"
   },
   {
    "duration": 4,
    "start_time": "2022-06-20T14:35:32.082Z"
   },
   {
    "duration": 32,
    "start_time": "2022-06-20T14:35:32.088Z"
   },
   {
    "duration": 22,
    "start_time": "2022-06-20T14:35:32.122Z"
   },
   {
    "duration": 27,
    "start_time": "2022-06-20T14:35:32.147Z"
   },
   {
    "duration": 15,
    "start_time": "2022-06-20T14:35:32.176Z"
   },
   {
    "duration": 43,
    "start_time": "2022-06-20T14:35:32.193Z"
   },
   {
    "duration": 24,
    "start_time": "2022-06-20T14:35:32.238Z"
   },
   {
    "duration": 110,
    "start_time": "2022-06-20T14:35:32.264Z"
   },
   {
    "duration": 12,
    "start_time": "2022-06-20T14:35:32.376Z"
   },
   {
    "duration": 11,
    "start_time": "2022-06-20T14:35:32.390Z"
   },
   {
    "duration": 26,
    "start_time": "2022-06-20T14:35:32.403Z"
   },
   {
    "duration": 43,
    "start_time": "2022-06-20T14:35:32.431Z"
   },
   {
    "duration": 19,
    "start_time": "2022-06-20T14:35:32.476Z"
   },
   {
    "duration": 33,
    "start_time": "2022-06-20T14:35:32.497Z"
   },
   {
    "duration": 23,
    "start_time": "2022-06-20T14:35:32.533Z"
   },
   {
    "duration": 10,
    "start_time": "2022-06-20T14:35:32.558Z"
   },
   {
    "duration": 15,
    "start_time": "2022-06-20T14:35:32.570Z"
   },
   {
    "duration": 23,
    "start_time": "2022-06-20T14:35:32.588Z"
   },
   {
    "duration": 18,
    "start_time": "2022-06-20T14:35:32.613Z"
   }
  ],
  "colab": {
   "collapsed_sections": [
    "E0vqbgi9ay0H",
    "VUC88oWjTJw2"
   ],
   "name": "yandex_music_project_2021.2.ipynb",
   "provenance": []
  },
  "kernelspec": {
   "display_name": "Python 3 (ipykernel)",
   "language": "python",
   "name": "python3"
  },
  "language_info": {
   "codemirror_mode": {
    "name": "ipython",
    "version": 3
   },
   "file_extension": ".py",
   "mimetype": "text/x-python",
   "name": "python",
   "nbconvert_exporter": "python",
   "pygments_lexer": "ipython3",
   "version": "3.9.5"
  },
  "toc": {
   "base_numbering": 1,
   "nav_menu": {},
   "number_sections": true,
   "sideBar": true,
   "skip_h1_title": true,
   "title_cell": "Table of Contents",
   "title_sidebar": "Contents",
   "toc_cell": false,
   "toc_position": {},
   "toc_section_display": true,
   "toc_window_display": false
  }
 },
 "nbformat": 4,
 "nbformat_minor": 1
}
