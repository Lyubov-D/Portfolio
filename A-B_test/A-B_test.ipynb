{
 "cells": [
  {
   "cell_type": "markdown",
   "metadata": {},
   "source": [
    "# Проверка гипотез для увеличения выручки интернет-магазина\n",
    "\n",
    "Необходимо приоритизировать гипотезы, запустить A/B-тест и проанализировать результаты.\n",
    "\n",
    "**Описание данных**\n",
    "\n",
    "Таблица hypothesis:\n",
    "\n",
    "- Hypothesis — краткое описание гипотезы;\n",
    "- Reach — охват пользователей по 10-балльной шкале;\n",
    "- Impact — влияние на пользователей по 10-балльной шкале;\n",
    "- Confidence — уверенность в гипотезе по 10-балльной шкале;\n",
    "- Efforts — затраты ресурсов на проверку гипотезы по 10-балльной шкале. Чем больше значение Efforts, тем дороже проверка гипотезы.\n",
    "\n",
    "Таблица orders:\n",
    "\n",
    "- transactionId — идентификатор заказа;\n",
    "- visitorId — идентификатор пользователя, совершившего заказ;\n",
    "- date — дата, когда был совершён заказ;\n",
    "- revenue — выручка заказа;\n",
    "- group — группа A/B-теста, в которую попал заказ.\n",
    "\n",
    "Таблица visitors:\n",
    "\n",
    "- date — дата;\n",
    "- group — группа A/B-теста;\n",
    "- visitors — количество пользователей в указанную дату в указанной группе A/B-теста.\n"
   ]
  },
  {
   "cell_type": "markdown",
   "metadata": {},
   "source": [
    "## Изучение данных из файла"
   ]
  },
  {
   "cell_type": "code",
   "execution_count": 1,
   "metadata": {
    "scrolled": false
   },
   "outputs": [
    {
     "data": {
      "text/html": [
       "<div>\n",
       "<style scoped>\n",
       "    .dataframe tbody tr th:only-of-type {\n",
       "        vertical-align: middle;\n",
       "    }\n",
       "\n",
       "    .dataframe tbody tr th {\n",
       "        vertical-align: top;\n",
       "    }\n",
       "\n",
       "    .dataframe thead th {\n",
       "        text-align: right;\n",
       "    }\n",
       "</style>\n",
       "<table border=\"1\" class=\"dataframe\">\n",
       "  <thead>\n",
       "    <tr style=\"text-align: right;\">\n",
       "      <th></th>\n",
       "      <th>Hypothesis</th>\n",
       "      <th>Reach</th>\n",
       "      <th>Impact</th>\n",
       "      <th>Confidence</th>\n",
       "      <th>Efforts</th>\n",
       "    </tr>\n",
       "  </thead>\n",
       "  <tbody>\n",
       "    <tr>\n",
       "      <th>0</th>\n",
       "      <td>Добавить два новых канала привлечения трафика, что позволит привлекать на 30% больше пользователей</td>\n",
       "      <td>3</td>\n",
       "      <td>10</td>\n",
       "      <td>8</td>\n",
       "      <td>6</td>\n",
       "    </tr>\n",
       "    <tr>\n",
       "      <th>1</th>\n",
       "      <td>Запустить собственную службу доставки, что сократит срок доставки заказов</td>\n",
       "      <td>2</td>\n",
       "      <td>5</td>\n",
       "      <td>4</td>\n",
       "      <td>10</td>\n",
       "    </tr>\n",
       "    <tr>\n",
       "      <th>2</th>\n",
       "      <td>Добавить блоки рекомендаций товаров на сайт интернет магазина, чтобы повысить конверсию и средний чек заказа</td>\n",
       "      <td>8</td>\n",
       "      <td>3</td>\n",
       "      <td>7</td>\n",
       "      <td>3</td>\n",
       "    </tr>\n",
       "    <tr>\n",
       "      <th>3</th>\n",
       "      <td>Изменить структура категорий, что увеличит конверсию, т.к. пользователи быстрее найдут нужный товар</td>\n",
       "      <td>8</td>\n",
       "      <td>3</td>\n",
       "      <td>3</td>\n",
       "      <td>8</td>\n",
       "    </tr>\n",
       "    <tr>\n",
       "      <th>4</th>\n",
       "      <td>Изменить цвет фона главной страницы, чтобы увеличить вовлеченность пользователей</td>\n",
       "      <td>3</td>\n",
       "      <td>1</td>\n",
       "      <td>1</td>\n",
       "      <td>1</td>\n",
       "    </tr>\n",
       "    <tr>\n",
       "      <th>5</th>\n",
       "      <td>Добавить страницу отзывов клиентов о магазине, что позволит увеличить количество заказов</td>\n",
       "      <td>3</td>\n",
       "      <td>2</td>\n",
       "      <td>2</td>\n",
       "      <td>3</td>\n",
       "    </tr>\n",
       "    <tr>\n",
       "      <th>6</th>\n",
       "      <td>Показать на главной странице баннеры с актуальными акциями и распродажами, чтобы увеличить конверсию</td>\n",
       "      <td>5</td>\n",
       "      <td>3</td>\n",
       "      <td>8</td>\n",
       "      <td>3</td>\n",
       "    </tr>\n",
       "    <tr>\n",
       "      <th>7</th>\n",
       "      <td>Добавить форму подписки на все основные страницы, чтобы собрать базу клиентов для email-рассылок</td>\n",
       "      <td>10</td>\n",
       "      <td>7</td>\n",
       "      <td>8</td>\n",
       "      <td>5</td>\n",
       "    </tr>\n",
       "    <tr>\n",
       "      <th>8</th>\n",
       "      <td>Запустить акцию, дающую скидку на товар в день рождения</td>\n",
       "      <td>1</td>\n",
       "      <td>9</td>\n",
       "      <td>9</td>\n",
       "      <td>5</td>\n",
       "    </tr>\n",
       "  </tbody>\n",
       "</table>\n",
       "</div>"
      ],
      "text/plain": [
       "                                                                                                     Hypothesis  \\\n",
       "0            Добавить два новых канала привлечения трафика, что позволит привлекать на 30% больше пользователей   \n",
       "1                                     Запустить собственную службу доставки, что сократит срок доставки заказов   \n",
       "2  Добавить блоки рекомендаций товаров на сайт интернет магазина, чтобы повысить конверсию и средний чек заказа   \n",
       "3           Изменить структура категорий, что увеличит конверсию, т.к. пользователи быстрее найдут нужный товар   \n",
       "4                              Изменить цвет фона главной страницы, чтобы увеличить вовлеченность пользователей   \n",
       "5                      Добавить страницу отзывов клиентов о магазине, что позволит увеличить количество заказов   \n",
       "6          Показать на главной странице баннеры с актуальными акциями и распродажами, чтобы увеличить конверсию   \n",
       "7              Добавить форму подписки на все основные страницы, чтобы собрать базу клиентов для email-рассылок   \n",
       "8                                                       Запустить акцию, дающую скидку на товар в день рождения   \n",
       "\n",
       "   Reach  Impact  Confidence  Efforts  \n",
       "0      3      10           8        6  \n",
       "1      2       5           4       10  \n",
       "2      8       3           7        3  \n",
       "3      8       3           3        8  \n",
       "4      3       1           1        1  \n",
       "5      3       2           2        3  \n",
       "6      5       3           8        3  \n",
       "7     10       7           8        5  \n",
       "8      1       9           9        5  "
      ]
     },
     "metadata": {},
     "output_type": "display_data"
    },
    {
     "name": "stdout",
     "output_type": "stream",
     "text": [
      ",Hypothesis,Reach,Impact,Confidence,Efforts\n",
      "0,\"Добавить два новых канала привлечения трафика, что позволит привлекать на 30% больше пользователей\",3,10,8,6\n",
      "1,\"Запустить собственную службу доставки, что сократит срок доставки заказов\",2,5,4,10\n",
      "2,\"Добавить блоки рекомендаций товаров на сайт интернет магазина, чтобы повысить конверсию и средний чек заказа\",8,3,7,3\n",
      "3,\"Изменить структура категорий, что увеличит конверсию, т.к. пользователи быстрее найдут нужный товар\",8,3,3,8\n",
      "4,\"Изменить цвет фона главной страницы, чтобы увеличить вовлеченность пользователей\",3,1,1,1\n",
      "5,\"Добавить страницу отзывов клиентов о магазине, что позволит увеличить количество заказов\",3,2,2,3\n",
      "6,\"Показать на главной странице баннеры с актуальными акциями и распродажами, чтобы увеличить конверсию\",5,3,8,3\n",
      "7,\"Добавить форму подписки на все основные страницы, чтобы собрать базу клиентов для email-рассылок\",10,7,8,5\n",
      "8,\"Запустить акцию, дающую скидку на товар в день рождения\",1,9,9,5\n"
     ]
    },
    {
     "data": {
      "text/html": [
       "<div>\n",
       "<style scoped>\n",
       "    .dataframe tbody tr th:only-of-type {\n",
       "        vertical-align: middle;\n",
       "    }\n",
       "\n",
       "    .dataframe tbody tr th {\n",
       "        vertical-align: top;\n",
       "    }\n",
       "\n",
       "    .dataframe thead th {\n",
       "        text-align: right;\n",
       "    }\n",
       "</style>\n",
       "<table border=\"1\" class=\"dataframe\">\n",
       "  <thead>\n",
       "    <tr style=\"text-align: right;\">\n",
       "      <th></th>\n",
       "      <th>transactionId</th>\n",
       "      <th>visitorId</th>\n",
       "      <th>date</th>\n",
       "      <th>revenue</th>\n",
       "      <th>group</th>\n",
       "    </tr>\n",
       "  </thead>\n",
       "  <tbody>\n",
       "    <tr>\n",
       "      <th>0</th>\n",
       "      <td>3667963787</td>\n",
       "      <td>3312258926</td>\n",
       "      <td>2019-08-15</td>\n",
       "      <td>1650</td>\n",
       "      <td>B</td>\n",
       "    </tr>\n",
       "    <tr>\n",
       "      <th>1</th>\n",
       "      <td>2804400009</td>\n",
       "      <td>3642806036</td>\n",
       "      <td>2019-08-15</td>\n",
       "      <td>730</td>\n",
       "      <td>B</td>\n",
       "    </tr>\n",
       "    <tr>\n",
       "      <th>2</th>\n",
       "      <td>2961555356</td>\n",
       "      <td>4069496402</td>\n",
       "      <td>2019-08-15</td>\n",
       "      <td>400</td>\n",
       "      <td>A</td>\n",
       "    </tr>\n",
       "    <tr>\n",
       "      <th>3</th>\n",
       "      <td>3797467345</td>\n",
       "      <td>1196621759</td>\n",
       "      <td>2019-08-15</td>\n",
       "      <td>9759</td>\n",
       "      <td>B</td>\n",
       "    </tr>\n",
       "    <tr>\n",
       "      <th>4</th>\n",
       "      <td>2282983706</td>\n",
       "      <td>2322279887</td>\n",
       "      <td>2019-08-15</td>\n",
       "      <td>2308</td>\n",
       "      <td>B</td>\n",
       "    </tr>\n",
       "    <tr>\n",
       "      <th>5</th>\n",
       "      <td>182168103</td>\n",
       "      <td>935554773</td>\n",
       "      <td>2019-08-15</td>\n",
       "      <td>2210</td>\n",
       "      <td>B</td>\n",
       "    </tr>\n",
       "    <tr>\n",
       "      <th>6</th>\n",
       "      <td>398296753</td>\n",
       "      <td>2900797465</td>\n",
       "      <td>2019-08-15</td>\n",
       "      <td>1860</td>\n",
       "      <td>B</td>\n",
       "    </tr>\n",
       "    <tr>\n",
       "      <th>7</th>\n",
       "      <td>2626614568</td>\n",
       "      <td>78758296</td>\n",
       "      <td>2019-08-15</td>\n",
       "      <td>1044</td>\n",
       "      <td>A</td>\n",
       "    </tr>\n",
       "    <tr>\n",
       "      <th>8</th>\n",
       "      <td>1576988021</td>\n",
       "      <td>295230930</td>\n",
       "      <td>2019-08-15</td>\n",
       "      <td>13710</td>\n",
       "      <td>A</td>\n",
       "    </tr>\n",
       "    <tr>\n",
       "      <th>9</th>\n",
       "      <td>1506739906</td>\n",
       "      <td>1882260405</td>\n",
       "      <td>2019-08-15</td>\n",
       "      <td>1855</td>\n",
       "      <td>B</td>\n",
       "    </tr>\n",
       "  </tbody>\n",
       "</table>\n",
       "</div>"
      ],
      "text/plain": [
       "   transactionId   visitorId        date  revenue group\n",
       "0     3667963787  3312258926  2019-08-15     1650     B\n",
       "1     2804400009  3642806036  2019-08-15      730     B\n",
       "2     2961555356  4069496402  2019-08-15      400     A\n",
       "3     3797467345  1196621759  2019-08-15     9759     B\n",
       "4     2282983706  2322279887  2019-08-15     2308     B\n",
       "5      182168103   935554773  2019-08-15     2210     B\n",
       "6      398296753  2900797465  2019-08-15     1860     B\n",
       "7     2626614568    78758296  2019-08-15     1044     A\n",
       "8     1576988021   295230930  2019-08-15    13710     A\n",
       "9     1506739906  1882260405  2019-08-15     1855     B"
      ]
     },
     "metadata": {},
     "output_type": "display_data"
    },
    {
     "data": {
      "text/html": [
       "<div>\n",
       "<style scoped>\n",
       "    .dataframe tbody tr th:only-of-type {\n",
       "        vertical-align: middle;\n",
       "    }\n",
       "\n",
       "    .dataframe tbody tr th {\n",
       "        vertical-align: top;\n",
       "    }\n",
       "\n",
       "    .dataframe thead th {\n",
       "        text-align: right;\n",
       "    }\n",
       "</style>\n",
       "<table border=\"1\" class=\"dataframe\">\n",
       "  <thead>\n",
       "    <tr style=\"text-align: right;\">\n",
       "      <th></th>\n",
       "      <th>date</th>\n",
       "      <th>group</th>\n",
       "      <th>visitors</th>\n",
       "    </tr>\n",
       "  </thead>\n",
       "  <tbody>\n",
       "    <tr>\n",
       "      <th>0</th>\n",
       "      <td>2019-08-01</td>\n",
       "      <td>A</td>\n",
       "      <td>719</td>\n",
       "    </tr>\n",
       "    <tr>\n",
       "      <th>1</th>\n",
       "      <td>2019-08-02</td>\n",
       "      <td>A</td>\n",
       "      <td>619</td>\n",
       "    </tr>\n",
       "    <tr>\n",
       "      <th>2</th>\n",
       "      <td>2019-08-03</td>\n",
       "      <td>A</td>\n",
       "      <td>507</td>\n",
       "    </tr>\n",
       "    <tr>\n",
       "      <th>3</th>\n",
       "      <td>2019-08-04</td>\n",
       "      <td>A</td>\n",
       "      <td>717</td>\n",
       "    </tr>\n",
       "    <tr>\n",
       "      <th>4</th>\n",
       "      <td>2019-08-05</td>\n",
       "      <td>A</td>\n",
       "      <td>756</td>\n",
       "    </tr>\n",
       "    <tr>\n",
       "      <th>5</th>\n",
       "      <td>2019-08-06</td>\n",
       "      <td>A</td>\n",
       "      <td>667</td>\n",
       "    </tr>\n",
       "    <tr>\n",
       "      <th>6</th>\n",
       "      <td>2019-08-07</td>\n",
       "      <td>A</td>\n",
       "      <td>644</td>\n",
       "    </tr>\n",
       "    <tr>\n",
       "      <th>7</th>\n",
       "      <td>2019-08-08</td>\n",
       "      <td>A</td>\n",
       "      <td>610</td>\n",
       "    </tr>\n",
       "    <tr>\n",
       "      <th>8</th>\n",
       "      <td>2019-08-09</td>\n",
       "      <td>A</td>\n",
       "      <td>617</td>\n",
       "    </tr>\n",
       "    <tr>\n",
       "      <th>9</th>\n",
       "      <td>2019-08-10</td>\n",
       "      <td>A</td>\n",
       "      <td>406</td>\n",
       "    </tr>\n",
       "  </tbody>\n",
       "</table>\n",
       "</div>"
      ],
      "text/plain": [
       "         date group  visitors\n",
       "0  2019-08-01     A       719\n",
       "1  2019-08-02     A       619\n",
       "2  2019-08-03     A       507\n",
       "3  2019-08-04     A       717\n",
       "4  2019-08-05     A       756\n",
       "5  2019-08-06     A       667\n",
       "6  2019-08-07     A       644\n",
       "7  2019-08-08     A       610\n",
       "8  2019-08-09     A       617\n",
       "9  2019-08-10     A       406"
      ]
     },
     "metadata": {},
     "output_type": "display_data"
    }
   ],
   "source": [
    "import pandas as pd\n",
    "import numpy as np\n",
    "from datetime import datetime, timedelta\n",
    "import scipy.stats as stats\n",
    "import datetime as dt\n",
    "import seaborn as sns\n",
    "from matplotlib import pyplot as plt\n",
    "import sys\n",
    "hypothesis = pd.read_csv('/datasets/hypothesis.csv',sep=',') # чтение файла с данными и сохранение в hypothesis\n",
    "pd.options.display.max_colwidth = 150\n",
    "orders = pd.read_csv('/datasets/orders.csv') # чтение файла с данными и сохранение в orders\n",
    "visitors = pd.read_csv('/datasets/visitors.csv') # чтение файла с данными и сохранение в visitors\n",
    "display(hypothesis.head(10))\n",
    "hypothesis.to_csv(sys.stdout) # выводим строки полностью в столбце\n",
    "display()\n",
    "display(orders.head(10))\n",
    "display()\n",
    "display(visitors.head(10))"
   ]
  },
  {
   "cell_type": "code",
   "execution_count": 2,
   "metadata": {},
   "outputs": [
    {
     "data": {
      "text/plain": [
       "Hypothesis    0\n",
       "Reach         0\n",
       "Impact        0\n",
       "Confidence    0\n",
       "Efforts       0\n",
       "dtype: int64"
      ]
     },
     "metadata": {},
     "output_type": "display_data"
    },
    {
     "data": {
      "text/plain": [
       "transactionId    0\n",
       "visitorId        0\n",
       "date             0\n",
       "revenue          0\n",
       "group            0\n",
       "dtype: int64"
      ]
     },
     "metadata": {},
     "output_type": "display_data"
    },
    {
     "data": {
      "text/plain": [
       "date        0\n",
       "group       0\n",
       "visitors    0\n",
       "dtype: int64"
      ]
     },
     "metadata": {},
     "output_type": "display_data"
    }
   ],
   "source": [
    "display(hypothesis.isna().sum()) # подсчёт пропусков\n",
    "display()\n",
    "display(orders.isna().sum())\n",
    "display()\n",
    "display(visitors.isna().sum())\n",
    "display()"
   ]
  },
  {
   "cell_type": "code",
   "execution_count": 3,
   "metadata": {
    "scrolled": true
   },
   "outputs": [
    {
     "data": {
      "text/plain": [
       "0"
      ]
     },
     "metadata": {},
     "output_type": "display_data"
    },
    {
     "data": {
      "text/plain": [
       "0"
      ]
     },
     "metadata": {},
     "output_type": "display_data"
    },
    {
     "data": {
      "text/plain": [
       "0"
      ]
     },
     "metadata": {},
     "output_type": "display_data"
    }
   ],
   "source": [
    "display(hypothesis.duplicated().sum())# подсчёт явных дубликатов\n",
    "display()\n",
    "display(orders.duplicated().sum())\n",
    "display()\n",
    "display(visitors.duplicated().sum())\n",
    "display()"
   ]
  },
  {
   "cell_type": "code",
   "execution_count": 4,
   "metadata": {},
   "outputs": [
    {
     "data": {
      "text/plain": [
       "58"
      ]
     },
     "execution_count": 4,
     "metadata": {},
     "output_type": "execute_result"
    }
   ],
   "source": [
    "mutual_visitors = np.intersect1d(orders.query('group == \"A\"')['visitorId'].unique(),\n",
    "    orders.query('group == \"B\"')['visitorId'].unique())  # проверим пользователей, которые могли попасть в обе группы\n",
    "len(mutual_visitors)"
   ]
  },
  {
   "cell_type": "code",
   "execution_count": 5,
   "metadata": {
    "scrolled": true
   },
   "outputs": [
    {
     "data": {
      "text/plain": [
       "0"
      ]
     },
     "execution_count": 5,
     "metadata": {},
     "output_type": "execute_result"
    }
   ],
   "source": [
    "orders = orders[~orders['visitorId'].isin(mutual_visitors)] #удаляем пользователей, которые попали в обе группы\n",
    "mutual_visitors = np.intersect1d(orders.query('group == \"A\"')['visitorId'].unique(),\n",
    "    orders.query('group == \"B\"')['visitorId'].unique())  # проверим пользователей, которые могли попасть в обе группы\n",
    "len(mutual_visitors)"
   ]
  },
  {
   "cell_type": "markdown",
   "metadata": {},
   "source": [
    "**Вывод**\n",
    "\n",
    "В таблице 9 гипотез по увеличению выручки интернет-магазина, которые необходимо проанализировать. Пропущенные значения и явные дубликаты в данных отсутствуют. Нашли 58 пользователей, которые попали в группы А и B и удалили их."
   ]
  },
  {
   "cell_type": "markdown",
   "metadata": {},
   "source": [
    "# 2. Приоритизация гипотез"
   ]
  },
  {
   "cell_type": "code",
   "execution_count": 6,
   "metadata": {
    "scrolled": true
   },
   "outputs": [
    {
     "data": {
      "text/html": [
       "<div>\n",
       "<style scoped>\n",
       "    .dataframe tbody tr th:only-of-type {\n",
       "        vertical-align: middle;\n",
       "    }\n",
       "\n",
       "    .dataframe tbody tr th {\n",
       "        vertical-align: top;\n",
       "    }\n",
       "\n",
       "    .dataframe thead th {\n",
       "        text-align: right;\n",
       "    }\n",
       "</style>\n",
       "<table border=\"1\" class=\"dataframe\">\n",
       "  <thead>\n",
       "    <tr style=\"text-align: right;\">\n",
       "      <th></th>\n",
       "      <th>Hypothesis</th>\n",
       "      <th>ICE</th>\n",
       "    </tr>\n",
       "  </thead>\n",
       "  <tbody>\n",
       "    <tr>\n",
       "      <th>8</th>\n",
       "      <td>Запустить акцию, дающую скидку на товар в день рождения</td>\n",
       "      <td>16.200000</td>\n",
       "    </tr>\n",
       "    <tr>\n",
       "      <th>0</th>\n",
       "      <td>Добавить два новых канала привлечения трафика, что позволит привлекать на 30% больше пользователей</td>\n",
       "      <td>13.333333</td>\n",
       "    </tr>\n",
       "    <tr>\n",
       "      <th>7</th>\n",
       "      <td>Добавить форму подписки на все основные страницы, чтобы собрать базу клиентов для email-рассылок</td>\n",
       "      <td>11.200000</td>\n",
       "    </tr>\n",
       "    <tr>\n",
       "      <th>6</th>\n",
       "      <td>Показать на главной странице баннеры с актуальными акциями и распродажами, чтобы увеличить конверсию</td>\n",
       "      <td>8.000000</td>\n",
       "    </tr>\n",
       "    <tr>\n",
       "      <th>2</th>\n",
       "      <td>Добавить блоки рекомендаций товаров на сайт интернет магазина, чтобы повысить конверсию и средний чек заказа</td>\n",
       "      <td>7.000000</td>\n",
       "    </tr>\n",
       "    <tr>\n",
       "      <th>1</th>\n",
       "      <td>Запустить собственную службу доставки, что сократит срок доставки заказов</td>\n",
       "      <td>2.000000</td>\n",
       "    </tr>\n",
       "    <tr>\n",
       "      <th>5</th>\n",
       "      <td>Добавить страницу отзывов клиентов о магазине, что позволит увеличить количество заказов</td>\n",
       "      <td>1.333333</td>\n",
       "    </tr>\n",
       "    <tr>\n",
       "      <th>3</th>\n",
       "      <td>Изменить структура категорий, что увеличит конверсию, т.к. пользователи быстрее найдут нужный товар</td>\n",
       "      <td>1.125000</td>\n",
       "    </tr>\n",
       "    <tr>\n",
       "      <th>4</th>\n",
       "      <td>Изменить цвет фона главной страницы, чтобы увеличить вовлеченность пользователей</td>\n",
       "      <td>1.000000</td>\n",
       "    </tr>\n",
       "  </tbody>\n",
       "</table>\n",
       "</div>"
      ],
      "text/plain": [
       "                                                                                                     Hypothesis  \\\n",
       "8                                                       Запустить акцию, дающую скидку на товар в день рождения   \n",
       "0            Добавить два новых канала привлечения трафика, что позволит привлекать на 30% больше пользователей   \n",
       "7              Добавить форму подписки на все основные страницы, чтобы собрать базу клиентов для email-рассылок   \n",
       "6          Показать на главной странице баннеры с актуальными акциями и распродажами, чтобы увеличить конверсию   \n",
       "2  Добавить блоки рекомендаций товаров на сайт интернет магазина, чтобы повысить конверсию и средний чек заказа   \n",
       "1                                     Запустить собственную службу доставки, что сократит срок доставки заказов   \n",
       "5                      Добавить страницу отзывов клиентов о магазине, что позволит увеличить количество заказов   \n",
       "3           Изменить структура категорий, что увеличит конверсию, т.к. пользователи быстрее найдут нужный товар   \n",
       "4                              Изменить цвет фона главной страницы, чтобы увеличить вовлеченность пользователей   \n",
       "\n",
       "         ICE  \n",
       "8  16.200000  \n",
       "0  13.333333  \n",
       "7  11.200000  \n",
       "6   8.000000  \n",
       "2   7.000000  \n",
       "1   2.000000  \n",
       "5   1.333333  \n",
       "3   1.125000  \n",
       "4   1.000000  "
      ]
     },
     "metadata": {},
     "output_type": "display_data"
    }
   ],
   "source": [
    "hypothesis['ICE'] = (hypothesis['Impact']*hypothesis['Confidence'])/hypothesis['Efforts'] #считаем ICE для гипотез.\n",
    "display(hypothesis[['Hypothesis','ICE']].sort_values(by='ICE', ascending=False)) # oтсортировали по убыванию приоритета."
   ]
  },
  {
   "cell_type": "markdown",
   "metadata": {},
   "source": [
    "**Вывод**\n",
    "\n",
    "Наиболее перспективные гипотезы по ICE:1,3,7,8,9"
   ]
  },
  {
   "cell_type": "code",
   "execution_count": 7,
   "metadata": {
    "scrolled": false
   },
   "outputs": [
    {
     "data": {
      "text/html": [
       "<div>\n",
       "<style scoped>\n",
       "    .dataframe tbody tr th:only-of-type {\n",
       "        vertical-align: middle;\n",
       "    }\n",
       "\n",
       "    .dataframe tbody tr th {\n",
       "        vertical-align: top;\n",
       "    }\n",
       "\n",
       "    .dataframe thead th {\n",
       "        text-align: right;\n",
       "    }\n",
       "</style>\n",
       "<table border=\"1\" class=\"dataframe\">\n",
       "  <thead>\n",
       "    <tr style=\"text-align: right;\">\n",
       "      <th></th>\n",
       "      <th>Hypothesis</th>\n",
       "      <th>RICE</th>\n",
       "    </tr>\n",
       "  </thead>\n",
       "  <tbody>\n",
       "    <tr>\n",
       "      <th>7</th>\n",
       "      <td>Добавить форму подписки на все основные страницы, чтобы собрать базу клиентов для email-рассылок</td>\n",
       "      <td>112.0</td>\n",
       "    </tr>\n",
       "    <tr>\n",
       "      <th>2</th>\n",
       "      <td>Добавить блоки рекомендаций товаров на сайт интернет магазина, чтобы повысить конверсию и средний чек заказа</td>\n",
       "      <td>56.0</td>\n",
       "    </tr>\n",
       "    <tr>\n",
       "      <th>0</th>\n",
       "      <td>Добавить два новых канала привлечения трафика, что позволит привлекать на 30% больше пользователей</td>\n",
       "      <td>40.0</td>\n",
       "    </tr>\n",
       "    <tr>\n",
       "      <th>6</th>\n",
       "      <td>Показать на главной странице баннеры с актуальными акциями и распродажами, чтобы увеличить конверсию</td>\n",
       "      <td>40.0</td>\n",
       "    </tr>\n",
       "    <tr>\n",
       "      <th>8</th>\n",
       "      <td>Запустить акцию, дающую скидку на товар в день рождения</td>\n",
       "      <td>16.2</td>\n",
       "    </tr>\n",
       "    <tr>\n",
       "      <th>3</th>\n",
       "      <td>Изменить структура категорий, что увеличит конверсию, т.к. пользователи быстрее найдут нужный товар</td>\n",
       "      <td>9.0</td>\n",
       "    </tr>\n",
       "    <tr>\n",
       "      <th>1</th>\n",
       "      <td>Запустить собственную службу доставки, что сократит срок доставки заказов</td>\n",
       "      <td>4.0</td>\n",
       "    </tr>\n",
       "    <tr>\n",
       "      <th>5</th>\n",
       "      <td>Добавить страницу отзывов клиентов о магазине, что позволит увеличить количество заказов</td>\n",
       "      <td>4.0</td>\n",
       "    </tr>\n",
       "    <tr>\n",
       "      <th>4</th>\n",
       "      <td>Изменить цвет фона главной страницы, чтобы увеличить вовлеченность пользователей</td>\n",
       "      <td>3.0</td>\n",
       "    </tr>\n",
       "  </tbody>\n",
       "</table>\n",
       "</div>"
      ],
      "text/plain": [
       "                                                                                                     Hypothesis  \\\n",
       "7              Добавить форму подписки на все основные страницы, чтобы собрать базу клиентов для email-рассылок   \n",
       "2  Добавить блоки рекомендаций товаров на сайт интернет магазина, чтобы повысить конверсию и средний чек заказа   \n",
       "0            Добавить два новых канала привлечения трафика, что позволит привлекать на 30% больше пользователей   \n",
       "6          Показать на главной странице баннеры с актуальными акциями и распродажами, чтобы увеличить конверсию   \n",
       "8                                                       Запустить акцию, дающую скидку на товар в день рождения   \n",
       "3           Изменить структура категорий, что увеличит конверсию, т.к. пользователи быстрее найдут нужный товар   \n",
       "1                                     Запустить собственную службу доставки, что сократит срок доставки заказов   \n",
       "5                      Добавить страницу отзывов клиентов о магазине, что позволит увеличить количество заказов   \n",
       "4                              Изменить цвет фона главной страницы, чтобы увеличить вовлеченность пользователей   \n",
       "\n",
       "    RICE  \n",
       "7  112.0  \n",
       "2   56.0  \n",
       "0   40.0  \n",
       "6   40.0  \n",
       "8   16.2  \n",
       "3    9.0  \n",
       "1    4.0  \n",
       "5    4.0  \n",
       "4    3.0  "
      ]
     },
     "metadata": {},
     "output_type": "display_data"
    }
   ],
   "source": [
    "hypothesis['RICE'] = (hypothesis['Reach']*hypothesis['Impact']*hypothesis['Confidence'])/hypothesis['Efforts'] #считаем RICE для гипотез.\n",
    "display(hypothesis[['Hypothesis','RICE']].sort_values(by='RICE', ascending=False)) # oтсортировали по убыванию приоритета."
   ]
  },
  {
   "cell_type": "markdown",
   "metadata": {},
   "source": [
    "**Вывод**\n",
    "\n",
    "Наиболее перспективные гипотезы по RICE снова:1,3,7,8,9.\n",
    "\n",
    "Но на первом месте оказалась гипотеза 8, потому что ее параметр Reach (сколько пользователей затронит изменение, которе хоим внести) равен 10 в то время, как у других гипотез он меньше.\n",
    "\n"
   ]
  },
  {
   "cell_type": "markdown",
   "metadata": {},
   "source": [
    "# 3. Анализ A/B-теста"
   ]
  },
  {
   "cell_type": "markdown",
   "metadata": {},
   "source": [
    "**3.1.Построим график кумулятивной выручки по группам**"
   ]
  },
  {
   "cell_type": "code",
   "execution_count": 8,
   "metadata": {},
   "outputs": [
    {
     "data": {
      "text/html": [
       "<div>\n",
       "<style scoped>\n",
       "    .dataframe tbody tr th:only-of-type {\n",
       "        vertical-align: middle;\n",
       "    }\n",
       "\n",
       "    .dataframe tbody tr th {\n",
       "        vertical-align: top;\n",
       "    }\n",
       "\n",
       "    .dataframe thead th {\n",
       "        text-align: right;\n",
       "    }\n",
       "</style>\n",
       "<table border=\"1\" class=\"dataframe\">\n",
       "  <thead>\n",
       "    <tr style=\"text-align: right;\">\n",
       "      <th></th>\n",
       "      <th>date</th>\n",
       "      <th>group</th>\n",
       "      <th>orders</th>\n",
       "      <th>buyers</th>\n",
       "      <th>revenue</th>\n",
       "      <th>visitors</th>\n",
       "    </tr>\n",
       "  </thead>\n",
       "  <tbody>\n",
       "    <tr>\n",
       "      <th>0</th>\n",
       "      <td>2019-08-01</td>\n",
       "      <td>A</td>\n",
       "      <td>23</td>\n",
       "      <td>19</td>\n",
       "      <td>142779</td>\n",
       "      <td>719</td>\n",
       "    </tr>\n",
       "    <tr>\n",
       "      <th>1</th>\n",
       "      <td>2019-08-01</td>\n",
       "      <td>B</td>\n",
       "      <td>17</td>\n",
       "      <td>17</td>\n",
       "      <td>59758</td>\n",
       "      <td>713</td>\n",
       "    </tr>\n",
       "    <tr>\n",
       "      <th>2</th>\n",
       "      <td>2019-08-02</td>\n",
       "      <td>A</td>\n",
       "      <td>42</td>\n",
       "      <td>36</td>\n",
       "      <td>234381</td>\n",
       "      <td>1338</td>\n",
       "    </tr>\n",
       "    <tr>\n",
       "      <th>3</th>\n",
       "      <td>2019-08-02</td>\n",
       "      <td>B</td>\n",
       "      <td>40</td>\n",
       "      <td>39</td>\n",
       "      <td>221801</td>\n",
       "      <td>1294</td>\n",
       "    </tr>\n",
       "    <tr>\n",
       "      <th>4</th>\n",
       "      <td>2019-08-03</td>\n",
       "      <td>A</td>\n",
       "      <td>66</td>\n",
       "      <td>60</td>\n",
       "      <td>346854</td>\n",
       "      <td>1845</td>\n",
       "    </tr>\n",
       "    <tr>\n",
       "      <th>...</th>\n",
       "      <td>...</td>\n",
       "      <td>...</td>\n",
       "      <td>...</td>\n",
       "      <td>...</td>\n",
       "      <td>...</td>\n",
       "      <td>...</td>\n",
       "    </tr>\n",
       "    <tr>\n",
       "      <th>57</th>\n",
       "      <td>2019-08-29</td>\n",
       "      <td>B</td>\n",
       "      <td>510</td>\n",
       "      <td>490</td>\n",
       "      <td>4746610</td>\n",
       "      <td>17708</td>\n",
       "    </tr>\n",
       "    <tr>\n",
       "      <th>58</th>\n",
       "      <td>2019-08-30</td>\n",
       "      <td>A</td>\n",
       "      <td>460</td>\n",
       "      <td>437</td>\n",
       "      <td>3311413</td>\n",
       "      <td>18037</td>\n",
       "    </tr>\n",
       "    <tr>\n",
       "      <th>59</th>\n",
       "      <td>2019-08-30</td>\n",
       "      <td>B</td>\n",
       "      <td>531</td>\n",
       "      <td>511</td>\n",
       "      <td>4955833</td>\n",
       "      <td>18198</td>\n",
       "    </tr>\n",
       "    <tr>\n",
       "      <th>60</th>\n",
       "      <td>2019-08-31</td>\n",
       "      <td>A</td>\n",
       "      <td>468</td>\n",
       "      <td>445</td>\n",
       "      <td>3364656</td>\n",
       "      <td>18736</td>\n",
       "    </tr>\n",
       "    <tr>\n",
       "      <th>61</th>\n",
       "      <td>2019-08-31</td>\n",
       "      <td>B</td>\n",
       "      <td>548</td>\n",
       "      <td>528</td>\n",
       "      <td>5068972</td>\n",
       "      <td>18916</td>\n",
       "    </tr>\n",
       "  </tbody>\n",
       "</table>\n",
       "<p>62 rows × 6 columns</p>\n",
       "</div>"
      ],
      "text/plain": [
       "          date group  orders  buyers  revenue  visitors\n",
       "0   2019-08-01     A      23      19   142779       719\n",
       "1   2019-08-01     B      17      17    59758       713\n",
       "2   2019-08-02     A      42      36   234381      1338\n",
       "3   2019-08-02     B      40      39   221801      1294\n",
       "4   2019-08-03     A      66      60   346854      1845\n",
       "..         ...   ...     ...     ...      ...       ...\n",
       "57  2019-08-29     B     510     490  4746610     17708\n",
       "58  2019-08-30     A     460     437  3311413     18037\n",
       "59  2019-08-30     B     531     511  4955833     18198\n",
       "60  2019-08-31     A     468     445  3364656     18736\n",
       "61  2019-08-31     B     548     528  5068972     18916\n",
       "\n",
       "[62 rows x 6 columns]"
      ]
     },
     "metadata": {},
     "output_type": "display_data"
    }
   ],
   "source": [
    "datesGroups = orders[['date','group']].drop_duplicates() # собираем кумулятивные данные\n",
    "ordersAggregated = datesGroups.apply(lambda x: orders[np.logical_and(orders['date'] <= x['date'], orders['group'] == x['group'])].agg({'date' : 'max', 'group' : 'max', 'transactionId' : 'nunique', 'visitorId' : 'nunique', 'revenue' : 'sum'}), axis=1).sort_values(by=['date','group'])\n",
    "visitorsAggregated = datesGroups.apply(lambda x: visitors[np.logical_and(visitors['date'] <= x['date'], visitors['group'] == x['group'])].agg({'date' : 'max', 'group' : 'max', 'visitors' : 'sum'}), axis=1).sort_values(by=['date','group'])\n",
    "cumulativeData = ordersAggregated.merge(visitorsAggregated, left_on=['date', 'group'], right_on=['date', 'group'])\n",
    "cumulativeData.columns = ['date', 'group', 'orders', 'buyers', 'revenue', 'visitors']\n",
    "display(cumulativeData)"
   ]
  },
  {
   "cell_type": "code",
   "execution_count": 9,
   "metadata": {
    "scrolled": true
   },
   "outputs": [
    {
     "data": {
      "image/png": "[encoded data removed]",
      "text/plain": [
       "<Figure size 432x288 with 1 Axes>"
      ]
     },
     "metadata": {
      "needs_background": "light"
     },
     "output_type": "display_data"
    }
   ],
   "source": [
    "cumulativeRevenueA = cumulativeData[cumulativeData['group']=='A'][['date','revenue', 'orders']] # создаем переменные с данными о датах, выручке и числе заказов в группах A и B\n",
    "cumulativeRevenueB = cumulativeData[cumulativeData['group']=='B'][['date','revenue', 'orders']]\n",
    "plt.plot(cumulativeRevenueA['date'], cumulativeRevenueA['revenue'], label='A') # строим графики кумулятивной выручки по дням по группам.\n",
    "plt.plot(cumulativeRevenueB['date'], cumulativeRevenueB['revenue'], label='B')\n",
    "plt.title('Графики кумулятивной выручки по дням групп А и В')\n",
    "plt.xlabel('Дата')\n",
    "plt.ylabel('Выручка')\n",
    "plt.xticks(rotation=90) # наклон на 90 градусов против часовой стрелки\n",
    "plt.legend()\n",
    "plt.show()"
   ]
  },
  {
   "cell_type": "markdown",
   "metadata": {},
   "source": [
    "**Вывод**\n",
    "\n",
    "Группа В лидирует практически с начала теста."
   ]
  },
  {
   "cell_type": "markdown",
   "metadata": {},
   "source": [
    "**3.2 Построим график кумулятивного среднего чека по группам**"
   ]
  },
  {
   "cell_type": "code",
   "execution_count": 10,
   "metadata": {
    "scrolled": true
   },
   "outputs": [
    {
     "data": {
      "image/png": "[encoded data removed]",
      "text/plain": [
       "<Figure size 432x288 with 1 Axes>"
      ]
     },
     "metadata": {
      "needs_background": "light"
     },
     "output_type": "display_data"
    }
   ],
   "source": [
    "plt.plot(cumulativeRevenueA['date'], cumulativeRevenueA['revenue']/cumulativeRevenueA['orders'], label='A') # строим графики кумулятивного среднего чека по группам.\n",
    "plt.plot(cumulativeRevenueB['date'], cumulativeRevenueB['revenue']/cumulativeRevenueB['orders'], label='B')\n",
    "plt.title('Графики кумулятивного среднего чека по группам А и В')\n",
    "plt.xlabel('Дата')\n",
    "plt.ylabel('Средний чек')\n",
    "plt.xticks(rotation=90) # наклон на 90 градусов против часовой стрелки\n",
    "plt.legend() \n",
    "plt.show()"
   ]
  },
  {
   "cell_type": "markdown",
   "metadata": {},
   "source": [
    "**Вывод**\n",
    "\n",
    "Группа В также лидирует практически с начала теста."
   ]
  },
  {
   "cell_type": "markdown",
   "metadata": {},
   "source": [
    "**3.3 Построим график относительного изменения кумулятивного среднего чека группы B к группе A**"
   ]
  },
  {
   "cell_type": "code",
   "execution_count": 11,
   "metadata": {
    "scrolled": true
   },
   "outputs": [
    {
     "data": {
      "image/png": "[encoded data removed]",
      "text/plain": [
       "<Figure size 432x288 with 1 Axes>"
      ]
     },
     "metadata": {
      "needs_background": "light"
     },
     "output_type": "display_data"
    }
   ],
   "source": [
    "mergedCumulativeRevenue = cumulativeRevenueA.merge(cumulativeRevenueB, left_on='date', right_on='date', how='left', suffixes=['A', 'B']) #Объединяем таблицы cumulativeRevenueA и cumulativeRevenueB\n",
    "plt.plot(mergedCumulativeRevenue['date'], (mergedCumulativeRevenue['revenueB']/mergedCumulativeRevenue['ordersB'])/(mergedCumulativeRevenue['revenueA']/mergedCumulativeRevenue['ordersA'])-1)  # строим график относительно различия кумулятивного среднего чека группы B к группе A.\n",
    "plt.title('График относительно различия кумулятивного среднего чека группы B к группе A')\n",
    "plt.xlabel('Дата')\n",
    "plt.ylabel('Средний чек группы B к группе A')\n",
    "plt.axhline(y=0, color='black', linestyle='--') #добавили пунктирную линию оси X\n",
    "plt.xticks(rotation=90) # наклон на 90 градусов против часовой стрелки\n",
    "plt.show()"
   ]
  },
  {
   "cell_type": "markdown",
   "metadata": {},
   "source": [
    "**Вывод**\n",
    "\n",
    "В нескольких точках график различия между сегментами резко скачет в определенные даты.\n"
   ]
  },
  {
   "cell_type": "markdown",
   "metadata": {},
   "source": [
    "**3.4 Построим график кумулятивной конверсии по группам**\n"
   ]
  },
  {
   "cell_type": "code",
   "execution_count": 12,
   "metadata": {
    "scrolled": true
   },
   "outputs": [
    {
     "data": {
      "image/png": "[encoded data removed]",
      "text/plain": [
       "<Figure size 432x288 with 1 Axes>"
      ]
     },
     "metadata": {
      "needs_background": "light"
     },
     "output_type": "display_data"
    }
   ],
   "source": [
    "cumulativeData['conversion'] = cumulativeData['orders']/cumulativeData['visitors'] # добавим столбец 'conversion' c отношением числа заказов к количеству пользователей в указанной группе в указанный день.\n",
    "cumulativeDataA = cumulativeData[cumulativeData['group']=='A']\n",
    "cumulativeDataB = cumulativeData[cumulativeData['group']=='B']\n",
    "plt.plot(cumulativeDataA['date'], cumulativeDataA['conversion'], label='A') #строим графики кумулятивной конверсии по дням по группам\n",
    "plt.plot(cumulativeDataB['date'], cumulativeDataB['conversion'], label='B')\n",
    "plt.title('Графики кумулятивной конверсии по дням по группам')\n",
    "plt.xlabel('Дата')\n",
    "plt.ylabel('Сonversion')\n",
    "plt.xticks(rotation=90) # наклон на 90 градусов против часовой стрелки\n",
    "plt.legend()\n",
    "plt.show()"
   ]
  },
  {
   "cell_type": "markdown",
   "metadata": {},
   "source": [
    "**Вывод**\n",
    "\n",
    "В начале теста конверсия группы А лидировла, затем начала падать, а коверсия группы В расти и немного колебаться. К концу эксперимента конверсия стабилизировалась."
   ]
  },
  {
   "cell_type": "markdown",
   "metadata": {},
   "source": [
    "**3.5 Построим график относительного изменения кумулятивной конверсии группы B к группе A**"
   ]
  },
  {
   "cell_type": "code",
   "execution_count": 13,
   "metadata": {
    "scrolled": true
   },
   "outputs": [
    {
     "data": {
      "image/png": "[encoded data removed]",
      "text/plain": [
       "<Figure size 432x288 with 1 Axes>"
      ]
     },
     "metadata": {
      "needs_background": "light"
     },
     "output_type": "display_data"
    }
   ],
   "source": [
    "mergedCumulativeConversions = cumulativeDataA[['date','conversion']].merge(cumulativeDataB[['date','conversion']], left_on='date', right_on='date', how='left', suffixes=['A', 'B']) #объединим таблицы группы А и группы В\n",
    "plt.plot(mergedCumulativeConversions['date'], mergedCumulativeConversions['conversionB']/mergedCumulativeConversions['conversionA']-1, label=\"Относительный прирост конверсии группы B относительно группы A\") #график относительного различия кумулятивной конверсии группы B к группе A\n",
    "plt.legend()\n",
    "plt.axhline(y=0, color='black', linestyle ='--') #добавим пунктирные линии оси X\n",
    "plt.axhline(y=0.2, color='grey', linestyle='--')\n",
    "plt.xticks(rotation=90) # наклон на 90 градусов против часовой стрелки\n",
    "plt.show()"
   ]
  },
  {
   "cell_type": "markdown",
   "metadata": {},
   "source": [
    "**Вывод**\n",
    "Группа В лидирует по конверсии."
   ]
  },
  {
   "cell_type": "markdown",
   "metadata": {},
   "source": [
    "**3.6 Построим точечный график количества заказов по пользователям**"
   ]
  },
  {
   "cell_type": "code",
   "execution_count": 14,
   "metadata": {
    "scrolled": true
   },
   "outputs": [
    {
     "data": {
      "image/png": "[encoded data removed]",
      "text/plain": [
       "<Figure size 432x288 with 1 Axes>"
      ]
     },
     "metadata": {
      "needs_background": "light"
     },
     "output_type": "display_data"
    }
   ],
   "source": [
    "ordersByUsers = (orders.groupby('visitorId', as_index=False).agg({'transactionId': pd.Series.nunique}).sort_values(by='transactionId', ascending=False)) # находим число заказов по пользователям\n",
    "ordersByUsers.columns = ['userId', 'orders']\n",
    "x_values = pd.Series(range(0, len(ordersByUsers))) \n",
    "plt.scatter(x_values, ordersByUsers['orders'])  #построим диаграмму\n",
    "plt.title('График количества заказов по пользователям')\n",
    "plt.xlabel('Номера наблюдений')\n",
    "plt.ylabel('Количество заказов')\n",
    "plt.show()"
   ]
  },
  {
   "cell_type": "markdown",
   "metadata": {},
   "source": [
    "**Вывод**\n",
    "\n",
    "Пользователей, оформивших заказ более 2-х раз мало."
   ]
  },
  {
   "cell_type": "markdown",
   "metadata": {},
   "source": [
    "**3.7 Посчитаем 95-й и 99-й перцентили количества заказов на пользователя**"
   ]
  },
  {
   "cell_type": "code",
   "execution_count": 15,
   "metadata": {
    "scrolled": true
   },
   "outputs": [
    {
     "data": {
      "text/html": [
       "<div>\n",
       "<style scoped>\n",
       "    .dataframe tbody tr th:only-of-type {\n",
       "        vertical-align: middle;\n",
       "    }\n",
       "\n",
       "    .dataframe tbody tr th {\n",
       "        vertical-align: top;\n",
       "    }\n",
       "\n",
       "    .dataframe thead th {\n",
       "        text-align: right;\n",
       "    }\n",
       "</style>\n",
       "<table border=\"1\" class=\"dataframe\">\n",
       "  <thead>\n",
       "    <tr style=\"text-align: right;\">\n",
       "      <th></th>\n",
       "      <th>userId</th>\n",
       "      <th>orders</th>\n",
       "    </tr>\n",
       "  </thead>\n",
       "  <tbody>\n",
       "    <tr>\n",
       "      <th>908</th>\n",
       "      <td>3967698036</td>\n",
       "      <td>3</td>\n",
       "    </tr>\n",
       "    <tr>\n",
       "      <th>55</th>\n",
       "      <td>249864742</td>\n",
       "      <td>3</td>\n",
       "    </tr>\n",
       "    <tr>\n",
       "      <th>478</th>\n",
       "      <td>2108163459</td>\n",
       "      <td>3</td>\n",
       "    </tr>\n",
       "    <tr>\n",
       "      <th>687</th>\n",
       "      <td>2988190573</td>\n",
       "      <td>3</td>\n",
       "    </tr>\n",
       "    <tr>\n",
       "      <th>890</th>\n",
       "      <td>3908431265</td>\n",
       "      <td>3</td>\n",
       "    </tr>\n",
       "    <tr>\n",
       "      <th>138</th>\n",
       "      <td>611059232</td>\n",
       "      <td>3</td>\n",
       "    </tr>\n",
       "    <tr>\n",
       "      <th>632</th>\n",
       "      <td>2742574263</td>\n",
       "      <td>3</td>\n",
       "    </tr>\n",
       "    <tr>\n",
       "      <th>157</th>\n",
       "      <td>678354126</td>\n",
       "      <td>2</td>\n",
       "    </tr>\n",
       "    <tr>\n",
       "      <th>323</th>\n",
       "      <td>1404560065</td>\n",
       "      <td>2</td>\n",
       "    </tr>\n",
       "    <tr>\n",
       "      <th>452</th>\n",
       "      <td>1985475298</td>\n",
       "      <td>2</td>\n",
       "    </tr>\n",
       "  </tbody>\n",
       "</table>\n",
       "</div>"
      ],
      "text/plain": [
       "         userId  orders\n",
       "908  3967698036       3\n",
       "55    249864742       3\n",
       "478  2108163459       3\n",
       "687  2988190573       3\n",
       "890  3908431265       3\n",
       "138   611059232       3\n",
       "632  2742574263       3\n",
       "157   678354126       2\n",
       "323  1404560065       2\n",
       "452  1985475298       2"
      ]
     },
     "metadata": {},
     "output_type": "display_data"
    },
    {
     "data": {
      "text/plain": [
       "array([1., 2.])"
      ]
     },
     "execution_count": 15,
     "metadata": {},
     "output_type": "execute_result"
    }
   ],
   "source": [
    "display(ordersByUsers.head(10))\n",
    "display()\n",
    "np.percentile(ordersByUsers['orders'], [95, 99]) #находим 95-й и 99-й перцентили количества заказов на пользователя"
   ]
  },
  {
   "cell_type": "markdown",
   "metadata": {},
   "source": [
    "**Вывод**\n",
    "\n",
    "Не больше 5% пользователей совершали больше 1-го заказа и не более 1% пользователей совершали больше 2-х заказов."
   ]
  },
  {
   "cell_type": "markdown",
   "metadata": {},
   "source": [
    "**3.8 Построим точечный график стоимостей заказов**"
   ]
  },
  {
   "cell_type": "code",
   "execution_count": 16,
   "metadata": {
    "scrolled": true
   },
   "outputs": [
    {
     "data": {
      "image/png": "[encoded data removed]",
      "text/plain": [
       "<Figure size 432x288 with 1 Axes>"
      ]
     },
     "metadata": {
      "needs_background": "light"
     },
     "output_type": "display_data"
    }
   ],
   "source": [
    "x_values = pd.Series(range(0, len(orders['revenue']))) #строим диаграмму методом scatter()\n",
    "plt.scatter(x_values, orders['revenue'])\n",
    "plt.show()"
   ]
  },
  {
   "cell_type": "markdown",
   "metadata": {},
   "source": [
    "**Вывод**\n",
    "\n",
    "Заказы стоимостью в 200 000 и свыше 1200 000 единичны."
   ]
  },
  {
   "cell_type": "markdown",
   "metadata": {},
   "source": [
    "**3.9 Посчитаем 95-й и 99-й перцентили стоимости заказов**"
   ]
  },
  {
   "cell_type": "code",
   "execution_count": 17,
   "metadata": {
    "scrolled": false
   },
   "outputs": [
    {
     "data": {
      "text/html": [
       "<div>\n",
       "<style scoped>\n",
       "    .dataframe tbody tr th:only-of-type {\n",
       "        vertical-align: middle;\n",
       "    }\n",
       "\n",
       "    .dataframe tbody tr th {\n",
       "        vertical-align: top;\n",
       "    }\n",
       "\n",
       "    .dataframe thead th {\n",
       "        text-align: right;\n",
       "    }\n",
       "</style>\n",
       "<table border=\"1\" class=\"dataframe\">\n",
       "  <thead>\n",
       "    <tr style=\"text-align: right;\">\n",
       "      <th></th>\n",
       "      <th>transactionId</th>\n",
       "      <th>visitorId</th>\n",
       "      <th>date</th>\n",
       "      <th>revenue</th>\n",
       "      <th>group</th>\n",
       "    </tr>\n",
       "  </thead>\n",
       "  <tbody>\n",
       "    <tr>\n",
       "      <th>0</th>\n",
       "      <td>3667963787</td>\n",
       "      <td>3312258926</td>\n",
       "      <td>2019-08-15</td>\n",
       "      <td>1650</td>\n",
       "      <td>B</td>\n",
       "    </tr>\n",
       "    <tr>\n",
       "      <th>1</th>\n",
       "      <td>2804400009</td>\n",
       "      <td>3642806036</td>\n",
       "      <td>2019-08-15</td>\n",
       "      <td>730</td>\n",
       "      <td>B</td>\n",
       "    </tr>\n",
       "    <tr>\n",
       "      <th>3</th>\n",
       "      <td>3797467345</td>\n",
       "      <td>1196621759</td>\n",
       "      <td>2019-08-15</td>\n",
       "      <td>9759</td>\n",
       "      <td>B</td>\n",
       "    </tr>\n",
       "    <tr>\n",
       "      <th>4</th>\n",
       "      <td>2282983706</td>\n",
       "      <td>2322279887</td>\n",
       "      <td>2019-08-15</td>\n",
       "      <td>2308</td>\n",
       "      <td>B</td>\n",
       "    </tr>\n",
       "    <tr>\n",
       "      <th>5</th>\n",
       "      <td>182168103</td>\n",
       "      <td>935554773</td>\n",
       "      <td>2019-08-15</td>\n",
       "      <td>2210</td>\n",
       "      <td>B</td>\n",
       "    </tr>\n",
       "    <tr>\n",
       "      <th>6</th>\n",
       "      <td>398296753</td>\n",
       "      <td>2900797465</td>\n",
       "      <td>2019-08-15</td>\n",
       "      <td>1860</td>\n",
       "      <td>B</td>\n",
       "    </tr>\n",
       "    <tr>\n",
       "      <th>7</th>\n",
       "      <td>2626614568</td>\n",
       "      <td>78758296</td>\n",
       "      <td>2019-08-15</td>\n",
       "      <td>1044</td>\n",
       "      <td>A</td>\n",
       "    </tr>\n",
       "    <tr>\n",
       "      <th>8</th>\n",
       "      <td>1576988021</td>\n",
       "      <td>295230930</td>\n",
       "      <td>2019-08-15</td>\n",
       "      <td>13710</td>\n",
       "      <td>A</td>\n",
       "    </tr>\n",
       "    <tr>\n",
       "      <th>9</th>\n",
       "      <td>1506739906</td>\n",
       "      <td>1882260405</td>\n",
       "      <td>2019-08-15</td>\n",
       "      <td>1855</td>\n",
       "      <td>B</td>\n",
       "    </tr>\n",
       "    <tr>\n",
       "      <th>10</th>\n",
       "      <td>3649131742</td>\n",
       "      <td>879864040</td>\n",
       "      <td>2019-08-15</td>\n",
       "      <td>4008</td>\n",
       "      <td>A</td>\n",
       "    </tr>\n",
       "  </tbody>\n",
       "</table>\n",
       "</div>"
      ],
      "text/plain": [
       "    transactionId   visitorId        date  revenue group\n",
       "0      3667963787  3312258926  2019-08-15     1650     B\n",
       "1      2804400009  3642806036  2019-08-15      730     B\n",
       "3      3797467345  1196621759  2019-08-15     9759     B\n",
       "4      2282983706  2322279887  2019-08-15     2308     B\n",
       "5       182168103   935554773  2019-08-15     2210     B\n",
       "6       398296753  2900797465  2019-08-15     1860     B\n",
       "7      2626614568    78758296  2019-08-15     1044     A\n",
       "8      1576988021   295230930  2019-08-15    13710     A\n",
       "9      1506739906  1882260405  2019-08-15     1855     B\n",
       "10     3649131742   879864040  2019-08-15     4008     A"
      ]
     },
     "metadata": {},
     "output_type": "display_data"
    },
    {
     "data": {
      "text/plain": [
       "array([26785., 53904.])"
      ]
     },
     "execution_count": 17,
     "metadata": {},
     "output_type": "execute_result"
    }
   ],
   "source": [
    "display(orders.head(10))\n",
    "display()\n",
    "np.percentile(orders['revenue'], [95, 99]) #находим 95-й и 99-й перцентили количества заказов на пользователя"
   ]
  },
  {
   "cell_type": "markdown",
   "metadata": {},
   "source": [
    "**Вывод**\n",
    "\n",
    "Не более чем у 5% заказов чек дороже 26 785 и не больше, чем у 1% заказов - дороже 53 904."
   ]
  },
  {
   "cell_type": "markdown",
   "metadata": {},
   "source": [
    "**3.10 Посчитаем статистическую значимость различий в конверсии между группами по «сырым» данным**"
   ]
  },
  {
   "cell_type": "markdown",
   "metadata": {},
   "source": [
    "\n",
    "Сформулируем нулевую и альтернативную гипотезы:\n",
    "\n",
    "- H0 - различий в конверсии между группами А и В нет.\n",
    "- H1 - различия в конверсии между группами А и В есть."
   ]
  },
  {
   "cell_type": "code",
   "execution_count": 18,
   "metadata": {},
   "outputs": [
    {
     "data": {
      "text/plain": [
       "'0.01102'"
      ]
     },
     "metadata": {},
     "output_type": "display_data"
    },
    {
     "data": {
      "text/plain": [
       "'0.160'"
      ]
     },
     "metadata": {},
     "output_type": "display_data"
    }
   ],
   "source": [
    "\n",
    "visitorsADaily = visitors[visitors['group'] == 'A'][['date', 'visitors']]\n",
    "visitorsADaily.columns = ['date', 'visitorsPerDateA']\n",
    "\n",
    "visitorsACummulative = visitorsADaily.apply(\n",
    "    lambda x: visitorsADaily[visitorsADaily['date'] <= x['date']].agg(\n",
    "        {'date': 'max', 'visitorsPerDateA': 'sum'}\n",
    "    ),\n",
    "    axis=1,\n",
    ")\n",
    "visitorsACummulative.columns = ['date', 'visitorsCummulativeA']\n",
    "\n",
    "visitorsBDaily = visitors[visitors['group'] == 'B'][['date', 'visitors']]\n",
    "visitorsBDaily.columns = ['date', 'visitorsPerDateB']\n",
    "\n",
    "visitorsBCummulative = visitorsBDaily.apply(\n",
    "    lambda x: visitorsBDaily[visitorsBDaily['date'] <= x['date']].agg(\n",
    "        {'date': 'max', 'visitorsPerDateB': 'sum'}\n",
    "    ),\n",
    "    axis=1,\n",
    ")\n",
    "visitorsBCummulative.columns = ['date', 'visitorsCummulativeB']\n",
    "\n",
    "ordersADaily = (\n",
    "    orders[orders['group'] == 'A'][['date', 'transactionId', 'visitorId', 'revenue']]\n",
    "    .groupby('date', as_index=False)\n",
    "    .agg({'transactionId': pd.Series.nunique, 'revenue': 'sum'})\n",
    ")\n",
    "ordersADaily.columns = ['date', 'ordersPerDateA', 'revenuePerDateA']\n",
    "\n",
    "ordersACummulative = ordersADaily.apply(\n",
    "    lambda x: ordersADaily[ordersADaily['date'] <= x['date']].agg(\n",
    "        {'date': 'max', 'ordersPerDateA': 'sum', 'revenuePerDateA': 'sum'}\n",
    "    ),\n",
    "    axis=1,\n",
    ").sort_values(by=['date'])\n",
    "ordersACummulative.columns = [\n",
    "    'date',\n",
    "    'ordersCummulativeA',\n",
    "    'revenueCummulativeA',\n",
    "]\n",
    "\n",
    "ordersBDaily = (\n",
    "    orders[orders['group'] == 'B'][['date', 'transactionId', 'visitorId', 'revenue']]\n",
    "    .groupby('date', as_index=False)\n",
    "    .agg({'transactionId': pd.Series.nunique, 'revenue': 'sum'})\n",
    ")\n",
    "ordersBDaily.columns = ['date', 'ordersPerDateB', 'revenuePerDateB']\n",
    "\n",
    "ordersBCummulative = ordersBDaily.apply(\n",
    "    lambda x: ordersBDaily[ordersBDaily['date'] <= x['date']].agg(\n",
    "        {'date': 'max', 'ordersPerDateB': 'sum', 'revenuePerDateB': 'sum'}\n",
    "    ),\n",
    "    axis=1,\n",
    ").sort_values(by=['date'])\n",
    "ordersBCummulative.columns = [\n",
    "    'date',\n",
    "    'ordersCummulativeB',\n",
    "    'revenueCummulativeB',\n",
    "]\n",
    "\n",
    "data = (\n",
    "    ordersADaily.merge(\n",
    "        ordersBDaily, left_on='date', right_on='date', how='left'\n",
    "    )\n",
    "    .merge(ordersACummulative, left_on='date', right_on='date', how='left')\n",
    "    .merge(ordersBCummulative, left_on='date', right_on='date', how='left')\n",
    "    .merge(visitorsADaily, left_on='date', right_on='date', how='left')\n",
    "    .merge(visitorsBDaily, left_on='date', right_on='date', how='left')\n",
    "    .merge(visitorsACummulative, left_on='date', right_on='date', how='left')\n",
    "    .merge(visitorsBCummulative, left_on='date', right_on='date', how='left')\n",
    ")\n",
    "ordersByUsersA = (\n",
    "    orders[orders['group'] == 'A']\n",
    "    .groupby('visitorId', as_index=False)\n",
    "    .agg({'transactionId': pd.Series.nunique})\n",
    ")\n",
    "ordersByUsersA.columns = ['userId', 'orders']\n",
    "\n",
    "ordersByUsersB = (\n",
    "    orders[orders['group'] == 'B']\n",
    "    .groupby('visitorId', as_index=False)\n",
    "    .agg({'transactionId': pd.Series.nunique})\n",
    ")\n",
    "ordersByUsersB.columns = ['userId', 'orders']\n",
    "\n",
    "sampleA = pd.concat(\n",
    "    [\n",
    "        ordersByUsersA['orders'],\n",
    "        pd.Series(\n",
    "            0,\n",
    "            index=np.arange(\n",
    "                data['visitorsPerDateA'].sum() - len(ordersByUsersA['orders'])\n",
    "            ),\n",
    "            name='orders',\n",
    "        ),\n",
    "    ],\n",
    "    axis=0,\n",
    ")\n",
    "\n",
    "sampleB = pd.concat(\n",
    "    [\n",
    "        ordersByUsersB['orders'],\n",
    "        pd.Series(\n",
    "            0,\n",
    "            index=np.arange(\n",
    "                data['visitorsPerDateB'].sum() - len(ordersByUsersB['orders'])\n",
    "            ),\n",
    "            name='orders',\n",
    "        ),\n",
    "    ],\n",
    "    axis=0,\n",
    ")\n",
    "\n",
    "display(\"{0:.5f}\".format(stats.mannwhitneyu(sampleA, sampleB)[1]))\n",
    "display()\n",
    "display(\"{0:.3f}\".format((data['ordersPerDateB'].sum()/data['visitorsPerDateB'].sum())/(data['ordersPerDateA'].sum()/data['visitorsPerDateA'].sum())-1))"
   ]
  },
  {
   "cell_type": "markdown",
   "metadata": {},
   "source": [
    "**Вывод**\n",
    "\n",
    "P-value значительно меньше 0.05.  Различия в конверсии между группами А и В есть. Относительный прирост конверсии группы В к конверсии группы А равен 16%."
   ]
  },
  {
   "cell_type": "markdown",
   "metadata": {},
   "source": [
    "**3.11 Посчитаем статистическую значимость различий в среднем чеке заказа между группами по «сырым» данным**"
   ]
  },
  {
   "cell_type": "markdown",
   "metadata": {},
   "source": [
    "Сформулируем нулевую и альтернативную гипотезы:\n",
    "\n",
    "- H0 - различий в среднем чеке между группами А и В нет.\n",
    "- H1 - различия в среднем чеке между группами А и В есть."
   ]
  },
  {
   "cell_type": "code",
   "execution_count": 19,
   "metadata": {
    "scrolled": true
   },
   "outputs": [
    {
     "data": {
      "text/plain": [
       "'0.829'"
      ]
     },
     "metadata": {},
     "output_type": "display_data"
    },
    {
     "data": {
      "text/plain": [
       "'0.287'"
      ]
     },
     "metadata": {},
     "output_type": "display_data"
    }
   ],
   "source": [
    "display('{0:.3f}'.format(stats.mannwhitneyu(orders[orders['group']=='A']['revenue'], orders[orders['group']=='B']['revenue'])[1]))\n",
    "display()\n",
    "display('{0:.3f}'.format(orders[orders['group']=='B']['revenue'].mean()/orders[orders['group']=='A']['revenue'].mean()-1))"
   ]
  },
  {
   "cell_type": "markdown",
   "metadata": {},
   "source": [
    "**Вывод**\n",
    "\n",
    "P-value больше 0.05-статистически значимых отличий в среднем чеке между группами нет. Относительное различие среднего чека между сегменами 28,7%."
   ]
  },
  {
   "cell_type": "markdown",
   "metadata": {},
   "source": [
    "**3.12 Посчитаем статистическую значимость различий в конверсии между группами по «очищенным» данным**"
   ]
  },
  {
   "cell_type": "code",
   "execution_count": 20,
   "metadata": {
    "scrolled": false
   },
   "outputs": [
    {
     "data": {
      "text/plain": [
       "1099    148427295\n",
       "33      249864742\n",
       "58      611059232\n",
       "949     887908475\n",
       "744     888512513\n",
       "dtype: int64"
      ]
     },
     "metadata": {},
     "output_type": "display_data"
    },
    {
     "data": {
      "text/plain": [
       "(16,)"
      ]
     },
     "metadata": {},
     "output_type": "display_data"
    }
   ],
   "source": [
    "usersWithManyOrders = pd.concat(\n",
    "    [\n",
    "        ordersByUsersA[ordersByUsersA['orders'] > 2]['userId'], #убираем 1% пользователей с наибольшим числом заказов \n",
    "        ordersByUsersB[ordersByUsersB['orders'] > 2]['userId'],\n",
    "    ],\n",
    "    axis=0,\n",
    ")\n",
    "usersWithExpensiveOrders = orders[orders['revenue'] > 54000]['visitorId'] #убираем 1% пользователей с наибольшей стоимостью заказов\n",
    "abnormalUsers = (\n",
    "    pd.concat([usersWithManyOrders, usersWithExpensiveOrders], axis=0)\n",
    "    .drop_duplicates()\n",
    "    .sort_values()\n",
    ")\n",
    "display(abnormalUsers.head())\n",
    "display(abnormalUsers.shape) #сколько всего аномальных пользователей "
   ]
  },
  {
   "cell_type": "markdown",
   "metadata": {},
   "source": [
    "Сформулируем нулевую и альтернативную гипотезы:\n",
    "\n",
    "- H0 - статистически значимых различий конверсии между группами А и В после удаления аномальных пользователей нет.\n",
    "- H1 - статистические значимые различия конверсии между группами А и В после удаления аномальных пользователей есть."
   ]
  },
  {
   "cell_type": "code",
   "execution_count": 21,
   "metadata": {},
   "outputs": [
    {
     "data": {
      "text/plain": [
       "'0.00702'"
      ]
     },
     "metadata": {},
     "output_type": "display_data"
    },
    {
     "data": {
      "text/plain": [
       "'0.189'"
      ]
     },
     "metadata": {},
     "output_type": "display_data"
    }
   ],
   "source": [
    "sampleAFiltered = pd.concat(   #считаtv статистическую значимость различия конверсии после удаления аномальных пользователей.\n",
    "    [\n",
    "        ordersByUsersA[\n",
    "            np.logical_not(ordersByUsersA['userId'].isin(abnormalUsers))\n",
    "        ]['orders'],\n",
    "        pd.Series(\n",
    "            0,\n",
    "            index=np.arange(\n",
    "                data['visitorsPerDateA'].sum() - len(ordersByUsersA['orders'])\n",
    "            ),\n",
    "            name='orders',\n",
    "        ),\n",
    "    ],\n",
    "    axis=0,\n",
    ")\n",
    "\n",
    "sampleBFiltered = pd.concat(\n",
    "    [\n",
    "        ordersByUsersB[\n",
    "            np.logical_not(ordersByUsersB['userId'].isin(abnormalUsers))\n",
    "        ]['orders'],\n",
    "        pd.Series(\n",
    "            0,\n",
    "            index=np.arange(\n",
    "                data['visitorsPerDateB'].sum() - len(ordersByUsersB['orders'])\n",
    "            ),\n",
    "            name='orders',\n",
    "        ),\n",
    "    ],\n",
    "    axis=0,\n",
    ") \n",
    "display('{0:.5f}'.format(stats.mannwhitneyu(sampleAFiltered, sampleBFiltered)[1]))\n",
    "display('{0:.3f}'.format(sampleBFiltered.mean()/sampleAFiltered.mean()-1))"
   ]
  },
  {
   "cell_type": "markdown",
   "metadata": {},
   "source": [
    "**Вывод**\n",
    "\n",
    "Всего 16 аномальных пользователей.\n",
    "Статистические значимые различия конверсии между группами А и В после удаления аномальных пользователей есть.\n",
    "Сегмент B значительно лучше А."
   ]
  },
  {
   "cell_type": "markdown",
   "metadata": {},
   "source": [
    "**3.13 Посчитаем статистическую значимость различий в среднем чеке заказа между группами по «очищенным» данным**"
   ]
  },
  {
   "cell_type": "markdown",
   "metadata": {},
   "source": [
    "Сформулируем нулевую и альтернативную гипотезы:\n",
    "\n",
    "- H0 - статистически значимых различий в среднем чеке между группами А и В по «очищенным» данным нет.\n",
    "- H1 - статистические значимые различия в среднем чеке между группами А и В по «очищенным» данным есть."
   ]
  },
  {
   "cell_type": "code",
   "execution_count": 22,
   "metadata": {
    "scrolled": true
   },
   "outputs": [
    {
     "data": {
      "text/plain": [
       "'0.788'"
      ]
     },
     "metadata": {},
     "output_type": "display_data"
    },
    {
     "data": {
      "text/plain": [
       "'-0.032'"
      ]
     },
     "metadata": {},
     "output_type": "display_data"
    }
   ],
   "source": [
    "display(\n",
    "    '{0:.3f}'.format(\n",
    "        stats.mannwhitneyu(\n",
    "            orders[\n",
    "                np.logical_and(\n",
    "                    orders['group'] == 'A',\n",
    "                    np.logical_not(orders['visitorId'].isin(abnormalUsers)),\n",
    "                )\n",
    "            ]['revenue'],\n",
    "            orders[\n",
    "                np.logical_and(\n",
    "                    orders['group'] == 'B',\n",
    "                    np.logical_not(orders['visitorId'].isin(abnormalUsers)),\n",
    "                )\n",
    "            ]['revenue'],\n",
    "        )[1]\n",
    "    )\n",
    ")\n",
    "\n",
    "display(\n",
    "    \"{0:.3f}\".format(\n",
    "        orders[\n",
    "            np.logical_and(\n",
    "                orders['group'] == 'B',\n",
    "                np.logical_not(orders['visitorId'].isin(abnormalUsers)),\n",
    "            )\n",
    "        ]['revenue'].mean()\n",
    "        / orders[\n",
    "            np.logical_and(\n",
    "                orders['group'] == 'A',\n",
    "                np.logical_not(orders['visitorId'].isin(abnormalUsers)),\n",
    "            )\n",
    "        ]['revenue'].mean()\n",
    "        - 1\n",
    "    )\n",
    ") "
   ]
  },
  {
   "cell_type": "markdown",
   "metadata": {},
   "source": [
    "**Вывод**\n",
    "\n",
    "P-value увеличился.Статистически значимых различий в среднем чеке между группами А и В по «очищенным» данным нет Разница между А и В - 3%."
   ]
  },
  {
   "cell_type": "markdown",
   "metadata": {},
   "source": [
    "**Общий вывод**\n",
    "\n",
    "Различия в конверсии между группами А и В, а также статистические значимые различия конверсии между группами А и В после удаления аномальных пользователей есть.\n",
    "\n",
    "По результатам теста принято решение - остановить тест, всвязи с победой группы В.\n",
    "График различия конверсии между группами сообщает, что результаты группы А хуже группы В.\n",
    "График различия среднего чека говорит о том, что результаты группы B ухудшаются незначительно."
   ]
  }
 ],
 "metadata": {
  "ExecuteTimeLog": [
   {
    "duration": 1329,
    "start_time": "2022-03-16T08:13:31.047Z"
   },
   {
    "duration": 61,
    "start_time": "2022-03-16T08:16:42.131Z"
   },
   {
    "duration": 63,
    "start_time": "2022-03-16T08:18:26.694Z"
   },
   {
    "duration": 61,
    "start_time": "2022-03-16T08:24:39.243Z"
   },
   {
    "duration": 16,
    "start_time": "2022-03-16T08:36:34.498Z"
   },
   {
    "duration": 70,
    "start_time": "2022-03-16T08:38:14.685Z"
   },
   {
    "duration": 11,
    "start_time": "2022-03-16T08:38:24.064Z"
   },
   {
    "duration": 68,
    "start_time": "2022-03-16T08:45:27.420Z"
   },
   {
    "duration": 59,
    "start_time": "2022-03-16T08:53:44.851Z"
   },
   {
    "duration": 58,
    "start_time": "2022-03-16T08:55:34.665Z"
   },
   {
    "duration": 11,
    "start_time": "2022-03-16T09:07:08.796Z"
   },
   {
    "duration": 11,
    "start_time": "2022-03-16T09:19:17.776Z"
   },
   {
    "duration": 6611,
    "start_time": "2022-03-16T11:04:30.255Z"
   },
   {
    "duration": 348,
    "start_time": "2022-03-16T11:09:18.169Z"
   },
   {
    "duration": 301,
    "start_time": "2022-03-16T11:14:33.955Z"
   },
   {
    "duration": 436,
    "start_time": "2022-03-16T11:14:58.743Z"
   },
   {
    "duration": 315,
    "start_time": "2022-03-16T11:15:21.966Z"
   },
   {
    "duration": 278,
    "start_time": "2022-03-16T11:27:28.902Z"
   },
   {
    "duration": 378,
    "start_time": "2022-03-16T11:35:14.137Z"
   },
   {
    "duration": 490,
    "start_time": "2022-03-16T11:48:35.706Z"
   },
   {
    "duration": 439,
    "start_time": "2022-03-16T11:50:48.468Z"
   },
   {
    "duration": 422,
    "start_time": "2022-03-16T11:50:57.761Z"
   },
   {
    "duration": 284,
    "start_time": "2022-03-16T11:51:18.134Z"
   },
   {
    "duration": 304,
    "start_time": "2022-03-16T11:51:31.040Z"
   },
   {
    "duration": 309,
    "start_time": "2022-03-16T12:08:41.309Z"
   },
   {
    "duration": 617,
    "start_time": "2022-03-16T12:35:54.994Z"
   },
   {
    "duration": 494,
    "start_time": "2022-03-16T12:36:40.779Z"
   },
   {
    "duration": 445,
    "start_time": "2022-03-16T12:38:25.609Z"
   },
   {
    "duration": 386,
    "start_time": "2022-03-16T13:52:47.024Z"
   },
   {
    "duration": 386,
    "start_time": "2022-03-16T13:54:15.531Z"
   },
   {
    "duration": 515,
    "start_time": "2022-03-16T13:54:33.270Z"
   },
   {
    "duration": 397,
    "start_time": "2022-03-16T14:02:00.313Z"
   },
   {
    "duration": 6,
    "start_time": "2022-03-16T14:04:54.151Z"
   },
   {
    "duration": 11,
    "start_time": "2022-03-16T14:06:16.163Z"
   },
   {
    "duration": 10,
    "start_time": "2022-03-16T14:06:40.118Z"
   },
   {
    "duration": 13,
    "start_time": "2022-03-16T14:11:11.609Z"
   },
   {
    "duration": 335,
    "start_time": "2022-03-16T14:15:38.202Z"
   },
   {
    "duration": 428,
    "start_time": "2022-03-16T14:16:03.101Z"
   },
   {
    "duration": 293,
    "start_time": "2022-03-16T14:16:58.227Z"
   },
   {
    "duration": 7037,
    "start_time": "2022-03-16T14:25:11.524Z"
   },
   {
    "duration": 13,
    "start_time": "2022-03-16T14:29:06.857Z"
   },
   {
    "duration": 1876,
    "start_time": "2022-03-16T21:05:18.901Z"
   },
   {
    "duration": 19,
    "start_time": "2022-03-16T21:05:20.781Z"
   },
   {
    "duration": 48,
    "start_time": "2022-03-16T21:05:20.804Z"
   },
   {
    "duration": 591,
    "start_time": "2022-03-16T21:05:20.855Z"
   },
   {
    "duration": 462,
    "start_time": "2022-03-16T21:05:21.452Z"
   },
   {
    "duration": 483,
    "start_time": "2022-03-16T21:05:21.917Z"
   },
   {
    "duration": 563,
    "start_time": "2022-03-16T21:05:22.403Z"
   },
   {
    "duration": 460,
    "start_time": "2022-03-16T21:05:22.970Z"
   },
   {
    "duration": 571,
    "start_time": "2022-03-16T21:05:23.433Z"
   },
   {
    "duration": 566,
    "start_time": "2022-03-16T21:05:24.007Z"
   },
   {
    "duration": 15,
    "start_time": "2022-03-16T21:05:24.576Z"
   },
   {
    "duration": 487,
    "start_time": "2022-03-16T21:05:24.593Z"
   },
   {
    "duration": 15,
    "start_time": "2022-03-16T21:05:25.083Z"
   },
   {
    "duration": 1208,
    "start_time": "2022-03-16T21:23:52.211Z"
   },
   {
    "duration": 1519,
    "start_time": "2022-03-16T21:25:20.766Z"
   },
   {
    "duration": 18,
    "start_time": "2022-03-16T21:25:22.288Z"
   },
   {
    "duration": 42,
    "start_time": "2022-03-16T21:25:22.309Z"
   },
   {
    "duration": 547,
    "start_time": "2022-03-16T21:25:22.354Z"
   },
   {
    "duration": 459,
    "start_time": "2022-03-16T21:25:22.904Z"
   },
   {
    "duration": 536,
    "start_time": "2022-03-16T21:25:23.365Z"
   },
   {
    "duration": 562,
    "start_time": "2022-03-16T21:25:23.903Z"
   },
   {
    "duration": 472,
    "start_time": "2022-03-16T21:25:24.469Z"
   },
   {
    "duration": 564,
    "start_time": "2022-03-16T21:25:24.952Z"
   },
   {
    "duration": 529,
    "start_time": "2022-03-16T21:25:25.519Z"
   },
   {
    "duration": 14,
    "start_time": "2022-03-16T21:25:26.052Z"
   },
   {
    "duration": 474,
    "start_time": "2022-03-16T21:25:26.068Z"
   },
   {
    "duration": 16,
    "start_time": "2022-03-16T21:25:26.545Z"
   },
   {
    "duration": 1010,
    "start_time": "2022-03-16T21:25:26.564Z"
   },
   {
    "duration": 378,
    "start_time": "2022-03-16T21:26:09.570Z"
   },
   {
    "duration": 379,
    "start_time": "2022-03-16T21:26:18.837Z"
   },
   {
    "duration": 647,
    "start_time": "2022-03-16T21:32:21.745Z"
   },
   {
    "duration": 16,
    "start_time": "2022-03-16T21:43:26.841Z"
   },
   {
    "duration": 4033,
    "start_time": "2022-03-16T21:58:50.098Z"
   },
   {
    "duration": 4796,
    "start_time": "2022-03-16T22:00:52.373Z"
   },
   {
    "duration": 5320,
    "start_time": "2022-03-16T22:09:58.077Z"
   },
   {
    "duration": 4314,
    "start_time": "2022-03-16T22:10:51.812Z"
   },
   {
    "duration": 5521,
    "start_time": "2022-03-16T22:16:00.819Z"
   },
   {
    "duration": 1457,
    "start_time": "2022-03-17T09:23:41.280Z"
   },
   {
    "duration": 11,
    "start_time": "2022-03-17T09:23:42.738Z"
   },
   {
    "duration": 11,
    "start_time": "2022-03-17T09:23:42.751Z"
   },
   {
    "duration": 291,
    "start_time": "2022-03-17T09:23:42.765Z"
   },
   {
    "duration": 299,
    "start_time": "2022-03-17T09:23:43.060Z"
   },
   {
    "duration": 290,
    "start_time": "2022-03-17T09:23:43.363Z"
   },
   {
    "duration": 426,
    "start_time": "2022-03-17T09:23:43.660Z"
   },
   {
    "duration": 303,
    "start_time": "2022-03-17T09:23:44.088Z"
   },
   {
    "duration": 402,
    "start_time": "2022-03-17T09:23:44.392Z"
   },
   {
    "duration": 266,
    "start_time": "2022-03-17T09:23:44.797Z"
   },
   {
    "duration": 13,
    "start_time": "2022-03-17T09:23:45.065Z"
   },
   {
    "duration": 151,
    "start_time": "2022-03-17T09:23:45.079Z"
   },
   {
    "duration": 11,
    "start_time": "2022-03-17T09:23:45.232Z"
   },
   {
    "duration": 399,
    "start_time": "2022-03-17T09:23:45.244Z"
   },
   {
    "duration": 34,
    "start_time": "2022-03-17T09:23:45.644Z"
   },
   {
    "duration": 1389,
    "start_time": "2022-03-17T09:23:45.679Z"
   },
   {
    "duration": 17,
    "start_time": "2022-03-17T09:48:09.782Z"
   },
   {
    "duration": 10,
    "start_time": "2022-03-17T09:49:38.047Z"
   },
   {
    "duration": 16,
    "start_time": "2022-03-17T09:50:13.063Z"
   },
   {
    "duration": 7,
    "start_time": "2022-03-17T09:54:11.036Z"
   },
   {
    "duration": 6,
    "start_time": "2022-03-17T09:54:21.984Z"
   },
   {
    "duration": 8,
    "start_time": "2022-03-17T09:54:58.421Z"
   },
   {
    "duration": 10,
    "start_time": "2022-03-17T09:55:23.389Z"
   },
   {
    "duration": 1194,
    "start_time": "2022-03-17T10:08:51.096Z"
   },
   {
    "duration": 1179,
    "start_time": "2022-03-17T10:10:16.448Z"
   },
   {
    "duration": 9,
    "start_time": "2022-03-17T10:10:50.803Z"
   },
   {
    "duration": 11,
    "start_time": "2022-03-17T10:11:11.370Z"
   },
   {
    "duration": 10,
    "start_time": "2022-03-17T10:11:40.474Z"
   },
   {
    "duration": 14,
    "start_time": "2022-03-17T10:22:52.368Z"
   },
   {
    "duration": 18,
    "start_time": "2022-03-17T10:23:01.164Z"
   },
   {
    "duration": 9,
    "start_time": "2022-03-17T10:23:24.916Z"
   },
   {
    "duration": 13,
    "start_time": "2022-03-17T10:23:36.645Z"
   },
   {
    "duration": 5,
    "start_time": "2022-03-17T10:31:02.049Z"
   },
   {
    "duration": 8,
    "start_time": "2022-03-17T10:48:07.875Z"
   },
   {
    "duration": 7,
    "start_time": "2022-03-17T10:48:17.737Z"
   },
   {
    "duration": 13,
    "start_time": "2022-03-17T10:56:50.398Z"
   },
   {
    "duration": 6,
    "start_time": "2022-03-17T10:57:34.165Z"
   },
   {
    "duration": 8,
    "start_time": "2022-03-17T10:57:40.251Z"
   },
   {
    "duration": 9,
    "start_time": "2022-03-17T11:02:07.440Z"
   },
   {
    "duration": 8,
    "start_time": "2022-03-17T11:02:45.622Z"
   },
   {
    "duration": 5,
    "start_time": "2022-03-17T11:02:55.439Z"
   },
   {
    "duration": 12,
    "start_time": "2022-03-17T11:03:10.199Z"
   },
   {
    "duration": 1226,
    "start_time": "2022-03-17T11:16:52.073Z"
   },
   {
    "duration": 11,
    "start_time": "2022-03-17T11:16:53.301Z"
   },
   {
    "duration": 12,
    "start_time": "2022-03-17T11:16:53.313Z"
   },
   {
    "duration": 9,
    "start_time": "2022-03-17T11:16:53.327Z"
   },
   {
    "duration": 9,
    "start_time": "2022-03-17T11:16:53.337Z"
   },
   {
    "duration": 10,
    "start_time": "2022-03-17T11:16:53.348Z"
   },
   {
    "duration": 10,
    "start_time": "2022-03-17T11:16:53.359Z"
   },
   {
    "duration": 335,
    "start_time": "2022-03-17T11:16:53.371Z"
   },
   {
    "duration": 277,
    "start_time": "2022-03-17T11:16:53.708Z"
   },
   {
    "duration": 268,
    "start_time": "2022-03-17T11:16:53.987Z"
   },
   {
    "duration": 328,
    "start_time": "2022-03-17T11:16:54.257Z"
   },
   {
    "duration": 268,
    "start_time": "2022-03-17T11:16:54.587Z"
   },
   {
    "duration": 371,
    "start_time": "2022-03-17T11:16:54.857Z"
   },
   {
    "duration": 253,
    "start_time": "2022-03-17T11:16:55.230Z"
   },
   {
    "duration": 24,
    "start_time": "2022-03-17T11:16:55.485Z"
   },
   {
    "duration": 129,
    "start_time": "2022-03-17T11:16:55.511Z"
   },
   {
    "duration": 12,
    "start_time": "2022-03-17T11:16:55.641Z"
   },
   {
    "duration": 374,
    "start_time": "2022-03-17T11:16:55.655Z"
   },
   {
    "duration": 10,
    "start_time": "2022-03-17T11:16:56.031Z"
   },
   {
    "duration": 1243,
    "start_time": "2022-03-17T11:16:56.042Z"
   },
   {
    "duration": 1472,
    "start_time": "2022-03-17T11:22:24.844Z"
   },
   {
    "duration": 404,
    "start_time": "2022-03-17T11:23:47.131Z"
   },
   {
    "duration": 1346,
    "start_time": "2022-03-17T11:26:16.919Z"
   },
   {
    "duration": 1459,
    "start_time": "2022-03-17T11:29:03.593Z"
   },
   {
    "duration": 11,
    "start_time": "2022-03-17T11:41:02.452Z"
   },
   {
    "duration": 1882,
    "start_time": "2022-03-17T11:43:31.158Z"
   },
   {
    "duration": 1427,
    "start_time": "2022-03-17T11:44:02.980Z"
   },
   {
    "duration": 12,
    "start_time": "2022-03-17T11:56:12.947Z"
   },
   {
    "duration": 1387,
    "start_time": "2022-03-17T12:01:09.379Z"
   },
   {
    "duration": 1158,
    "start_time": "2022-03-17T12:05:45.934Z"
   },
   {
    "duration": 1333,
    "start_time": "2022-03-18T12:39:05.252Z"
   },
   {
    "duration": 12,
    "start_time": "2022-03-18T12:39:06.587Z"
   },
   {
    "duration": 12,
    "start_time": "2022-03-18T12:39:06.600Z"
   },
   {
    "duration": 18,
    "start_time": "2022-03-18T12:39:06.614Z"
   },
   {
    "duration": 11,
    "start_time": "2022-03-18T12:39:06.634Z"
   },
   {
    "duration": 14,
    "start_time": "2022-03-18T12:39:06.646Z"
   },
   {
    "duration": 18,
    "start_time": "2022-03-18T12:39:06.661Z"
   },
   {
    "duration": 293,
    "start_time": "2022-03-18T12:39:06.680Z"
   },
   {
    "duration": 291,
    "start_time": "2022-03-18T12:39:06.975Z"
   },
   {
    "duration": 278,
    "start_time": "2022-03-18T12:39:07.269Z"
   },
   {
    "duration": 407,
    "start_time": "2022-03-18T12:39:07.549Z"
   },
   {
    "duration": 278,
    "start_time": "2022-03-18T12:39:07.958Z"
   },
   {
    "duration": 380,
    "start_time": "2022-03-18T12:39:08.238Z"
   },
   {
    "duration": 254,
    "start_time": "2022-03-18T12:39:08.620Z"
   },
   {
    "duration": 9,
    "start_time": "2022-03-18T12:39:08.876Z"
   },
   {
    "duration": 144,
    "start_time": "2022-03-18T12:39:08.886Z"
   },
   {
    "duration": 12,
    "start_time": "2022-03-18T12:39:09.032Z"
   },
   {
    "duration": 356,
    "start_time": "2022-03-18T12:39:09.046Z"
   },
   {
    "duration": 10,
    "start_time": "2022-03-18T12:39:09.409Z"
   },
   {
    "duration": 1511,
    "start_time": "2022-03-18T12:39:09.420Z"
   },
   {
    "duration": 0,
    "start_time": "2022-03-18T12:39:10.932Z"
   },
   {
    "duration": 10,
    "start_time": "2022-03-18T12:41:14.404Z"
   },
   {
    "duration": 10,
    "start_time": "2022-03-18T12:52:42.283Z"
   },
   {
    "duration": 10,
    "start_time": "2022-03-18T13:08:26.893Z"
   },
   {
    "duration": 10,
    "start_time": "2022-03-18T13:10:40.931Z"
   },
   {
    "duration": 29,
    "start_time": "2022-03-18T13:13:57.166Z"
   },
   {
    "duration": 1372,
    "start_time": "2022-03-18T13:21:21.990Z"
   },
   {
    "duration": 14,
    "start_time": "2022-03-18T13:22:04.359Z"
   },
   {
    "duration": 1815,
    "start_time": "2022-03-19T11:26:53.442Z"
   },
   {
    "duration": 17,
    "start_time": "2022-03-19T11:26:55.259Z"
   },
   {
    "duration": 18,
    "start_time": "2022-03-19T11:26:55.278Z"
   },
   {
    "duration": 13,
    "start_time": "2022-03-19T11:26:55.298Z"
   },
   {
    "duration": 14,
    "start_time": "2022-03-19T11:26:55.313Z"
   },
   {
    "duration": 57,
    "start_time": "2022-03-19T11:26:55.329Z"
   },
   {
    "duration": 15,
    "start_time": "2022-03-19T11:26:55.389Z"
   },
   {
    "duration": 462,
    "start_time": "2022-03-19T11:26:55.406Z"
   },
   {
    "duration": 403,
    "start_time": "2022-03-19T11:26:55.870Z"
   },
   {
    "duration": 385,
    "start_time": "2022-03-19T11:26:56.277Z"
   },
   {
    "duration": 511,
    "start_time": "2022-03-19T11:26:56.664Z"
   },
   {
    "duration": 390,
    "start_time": "2022-03-19T11:26:57.182Z"
   },
   {
    "duration": 489,
    "start_time": "2022-03-19T11:26:57.575Z"
   },
   {
    "duration": 449,
    "start_time": "2022-03-19T11:26:58.067Z"
   },
   {
    "duration": 13,
    "start_time": "2022-03-19T11:26:58.519Z"
   },
   {
    "duration": 216,
    "start_time": "2022-03-19T11:26:58.534Z"
   },
   {
    "duration": 30,
    "start_time": "2022-03-19T11:26:58.752Z"
   },
   {
    "duration": 623,
    "start_time": "2022-03-19T11:26:58.786Z"
   },
   {
    "duration": 19,
    "start_time": "2022-03-19T11:26:59.412Z"
   },
   {
    "duration": 52,
    "start_time": "2022-03-19T11:26:59.433Z"
   },
   {
    "duration": 38,
    "start_time": "2022-03-19T11:26:59.488Z"
   },
   {
    "duration": 19,
    "start_time": "2022-03-19T11:26:59.528Z"
   },
   {
    "duration": 1458,
    "start_time": "2022-03-19T11:47:49.514Z"
   },
   {
    "duration": 17,
    "start_time": "2022-03-19T11:47:50.976Z"
   },
   {
    "duration": 36,
    "start_time": "2022-03-19T11:47:50.996Z"
   },
   {
    "duration": 36,
    "start_time": "2022-03-19T11:47:51.036Z"
   },
   {
    "duration": 21,
    "start_time": "2022-03-19T11:47:51.075Z"
   },
   {
    "duration": 16,
    "start_time": "2022-03-19T11:47:51.099Z"
   },
   {
    "duration": 15,
    "start_time": "2022-03-19T11:47:51.117Z"
   },
   {
    "duration": 486,
    "start_time": "2022-03-19T11:47:51.134Z"
   },
   {
    "duration": 404,
    "start_time": "2022-03-19T11:47:51.623Z"
   },
   {
    "duration": 416,
    "start_time": "2022-03-19T11:47:52.030Z"
   },
   {
    "duration": 500,
    "start_time": "2022-03-19T11:47:52.448Z"
   },
   {
    "duration": 409,
    "start_time": "2022-03-19T11:47:52.950Z"
   },
   {
    "duration": 530,
    "start_time": "2022-03-19T11:47:53.362Z"
   },
   {
    "duration": 455,
    "start_time": "2022-03-19T11:47:53.895Z"
   },
   {
    "duration": 13,
    "start_time": "2022-03-19T11:47:54.353Z"
   },
   {
    "duration": 213,
    "start_time": "2022-03-19T11:47:54.383Z"
   },
   {
    "duration": 18,
    "start_time": "2022-03-19T11:47:54.599Z"
   },
   {
    "duration": 674,
    "start_time": "2022-03-19T11:47:54.620Z"
   },
   {
    "duration": 16,
    "start_time": "2022-03-19T11:47:55.298Z"
   },
   {
    "duration": 17,
    "start_time": "2022-03-19T11:47:55.317Z"
   },
   {
    "duration": 84,
    "start_time": "2022-03-19T11:47:55.337Z"
   },
   {
    "duration": 63,
    "start_time": "2022-03-19T11:47:55.424Z"
   },
   {
    "duration": 1559,
    "start_time": "2022-03-19T11:48:47.221Z"
   },
   {
    "duration": 17,
    "start_time": "2022-03-19T11:48:48.783Z"
   },
   {
    "duration": 40,
    "start_time": "2022-03-19T11:48:48.802Z"
   },
   {
    "duration": 42,
    "start_time": "2022-03-19T11:48:48.844Z"
   },
   {
    "duration": 16,
    "start_time": "2022-03-19T11:48:48.890Z"
   },
   {
    "duration": 41,
    "start_time": "2022-03-19T11:48:48.908Z"
   },
   {
    "duration": 26,
    "start_time": "2022-03-19T11:48:48.952Z"
   },
   {
    "duration": 480,
    "start_time": "2022-03-19T11:48:48.980Z"
   },
   {
    "duration": 414,
    "start_time": "2022-03-19T11:48:49.462Z"
   },
   {
    "duration": 407,
    "start_time": "2022-03-19T11:48:49.878Z"
   },
   {
    "duration": 471,
    "start_time": "2022-03-19T11:48:50.287Z"
   },
   {
    "duration": 416,
    "start_time": "2022-03-19T11:48:50.760Z"
   },
   {
    "duration": 493,
    "start_time": "2022-03-19T11:48:51.182Z"
   },
   {
    "duration": 437,
    "start_time": "2022-03-19T11:48:51.681Z"
   },
   {
    "duration": 14,
    "start_time": "2022-03-19T11:48:52.121Z"
   },
   {
    "duration": 213,
    "start_time": "2022-03-19T11:48:52.138Z"
   },
   {
    "duration": 30,
    "start_time": "2022-03-19T11:48:52.354Z"
   },
   {
    "duration": 604,
    "start_time": "2022-03-19T11:48:52.386Z"
   },
   {
    "duration": 16,
    "start_time": "2022-03-19T11:48:52.992Z"
   },
   {
    "duration": 16,
    "start_time": "2022-03-19T11:48:53.010Z"
   },
   {
    "duration": 76,
    "start_time": "2022-03-19T11:48:53.028Z"
   },
   {
    "duration": 22,
    "start_time": "2022-03-19T11:48:53.106Z"
   },
   {
    "duration": 2091,
    "start_time": "2022-03-24T09:47:36.210Z"
   },
   {
    "duration": 19,
    "start_time": "2022-03-24T09:47:38.305Z"
   },
   {
    "duration": 49,
    "start_time": "2022-03-24T09:47:38.326Z"
   },
   {
    "duration": 16,
    "start_time": "2022-03-24T09:47:38.378Z"
   },
   {
    "duration": 15,
    "start_time": "2022-03-24T09:47:38.397Z"
   },
   {
    "duration": 55,
    "start_time": "2022-03-24T09:47:38.414Z"
   },
   {
    "duration": 16,
    "start_time": "2022-03-24T09:47:38.471Z"
   },
   {
    "duration": 600,
    "start_time": "2022-03-24T09:47:38.490Z"
   },
   {
    "duration": 477,
    "start_time": "2022-03-24T09:47:39.092Z"
   },
   {
    "duration": 407,
    "start_time": "2022-03-24T09:47:39.573Z"
   },
   {
    "duration": 473,
    "start_time": "2022-03-24T09:47:39.982Z"
   },
   {
    "duration": 396,
    "start_time": "2022-03-24T09:47:40.457Z"
   },
   {
    "duration": 508,
    "start_time": "2022-03-24T09:47:40.855Z"
   },
   {
    "duration": 419,
    "start_time": "2022-03-24T09:47:41.365Z"
   },
   {
    "duration": 13,
    "start_time": "2022-03-24T09:47:41.786Z"
   },
   {
    "duration": 208,
    "start_time": "2022-03-24T09:47:41.801Z"
   },
   {
    "duration": 15,
    "start_time": "2022-03-24T09:47:42.011Z"
   },
   {
    "duration": 628,
    "start_time": "2022-03-24T09:47:42.028Z"
   },
   {
    "duration": 17,
    "start_time": "2022-03-24T09:47:42.666Z"
   },
   {
    "duration": 16,
    "start_time": "2022-03-24T09:47:42.685Z"
   },
   {
    "duration": 71,
    "start_time": "2022-03-24T09:47:42.703Z"
   },
   {
    "duration": 23,
    "start_time": "2022-03-24T09:47:42.777Z"
   },
   {
    "duration": 467,
    "start_time": "2022-03-24T11:35:27.633Z"
   },
   {
    "duration": 520,
    "start_time": "2022-03-24T11:47:45.938Z"
   },
   {
    "duration": 527,
    "start_time": "2022-03-24T11:48:46.911Z"
   },
   {
    "duration": 527,
    "start_time": "2022-03-24T13:06:14.886Z"
   },
   {
    "duration": 386,
    "start_time": "2022-03-24T13:06:58.434Z"
   },
   {
    "duration": 498,
    "start_time": "2022-03-24T13:11:59.572Z"
   },
   {
    "duration": 402,
    "start_time": "2022-03-24T13:13:08.497Z"
   },
   {
    "duration": 397,
    "start_time": "2022-03-24T13:16:11.926Z"
   },
   {
    "duration": 505,
    "start_time": "2022-03-24T14:13:36.964Z"
   },
   {
    "duration": 495,
    "start_time": "2022-03-24T14:15:52.937Z"
   },
   {
    "duration": 450,
    "start_time": "2022-03-24T14:29:07.399Z"
   },
   {
    "duration": 1596,
    "start_time": "2022-03-25T03:27:46.382Z"
   },
   {
    "duration": 17,
    "start_time": "2022-03-25T03:27:47.980Z"
   },
   {
    "duration": 16,
    "start_time": "2022-03-25T03:27:47.999Z"
   },
   {
    "duration": 13,
    "start_time": "2022-03-25T03:27:48.017Z"
   },
   {
    "duration": 14,
    "start_time": "2022-03-25T03:27:48.033Z"
   },
   {
    "duration": 16,
    "start_time": "2022-03-25T03:27:48.049Z"
   },
   {
    "duration": 47,
    "start_time": "2022-03-25T03:27:48.067Z"
   },
   {
    "duration": 294,
    "start_time": "2022-03-25T03:27:48.116Z"
   },
   {
    "duration": 301,
    "start_time": "2022-03-25T03:27:48.413Z"
   },
   {
    "duration": 287,
    "start_time": "2022-03-25T03:27:48.716Z"
   },
   {
    "duration": 410,
    "start_time": "2022-03-25T03:27:49.006Z"
   },
   {
    "duration": 286,
    "start_time": "2022-03-25T03:27:49.418Z"
   },
   {
    "duration": 473,
    "start_time": "2022-03-25T03:27:49.707Z"
   },
   {
    "duration": 289,
    "start_time": "2022-03-25T03:27:50.183Z"
   },
   {
    "duration": 11,
    "start_time": "2022-03-25T03:27:50.474Z"
   },
   {
    "duration": 142,
    "start_time": "2022-03-25T03:27:50.487Z"
   },
   {
    "duration": 12,
    "start_time": "2022-03-25T03:27:50.631Z"
   },
   {
    "duration": 364,
    "start_time": "2022-03-25T03:27:50.645Z"
   },
   {
    "duration": 15,
    "start_time": "2022-03-25T03:27:51.011Z"
   },
   {
    "duration": 56,
    "start_time": "2022-03-25T03:27:51.027Z"
   },
   {
    "duration": 39,
    "start_time": "2022-03-25T03:27:51.086Z"
   },
   {
    "duration": 17,
    "start_time": "2022-03-25T03:27:51.127Z"
   },
   {
    "duration": 367,
    "start_time": "2022-03-25T03:37:22.082Z"
   },
   {
    "duration": 1428,
    "start_time": "2022-03-25T03:40:58.853Z"
   },
   {
    "duration": 15,
    "start_time": "2022-03-25T03:41:00.284Z"
   },
   {
    "duration": 27,
    "start_time": "2022-03-25T03:41:00.301Z"
   },
   {
    "duration": 11,
    "start_time": "2022-03-25T03:41:00.330Z"
   },
   {
    "duration": 23,
    "start_time": "2022-03-25T03:41:00.343Z"
   },
   {
    "duration": 20,
    "start_time": "2022-03-25T03:41:00.368Z"
   },
   {
    "duration": 29,
    "start_time": "2022-03-25T03:41:00.390Z"
   },
   {
    "duration": 294,
    "start_time": "2022-03-25T03:41:00.421Z"
   },
   {
    "duration": 302,
    "start_time": "2022-03-25T03:41:00.717Z"
   },
   {
    "duration": 304,
    "start_time": "2022-03-25T03:41:01.021Z"
   },
   {
    "duration": 385,
    "start_time": "2022-03-25T03:41:01.328Z"
   },
   {
    "duration": 301,
    "start_time": "2022-03-25T03:41:01.715Z"
   },
   {
    "duration": 395,
    "start_time": "2022-03-25T03:41:02.018Z"
   },
   {
    "duration": 286,
    "start_time": "2022-03-25T03:41:02.417Z"
   },
   {
    "duration": 11,
    "start_time": "2022-03-25T03:41:02.705Z"
   },
   {
    "duration": 144,
    "start_time": "2022-03-25T03:41:02.718Z"
   },
   {
    "duration": 14,
    "start_time": "2022-03-25T03:41:02.865Z"
   },
   {
    "duration": 402,
    "start_time": "2022-03-25T03:41:02.881Z"
   },
   {
    "duration": 24,
    "start_time": "2022-03-25T03:41:03.285Z"
   },
   {
    "duration": 22,
    "start_time": "2022-03-25T03:41:03.311Z"
   },
   {
    "duration": 39,
    "start_time": "2022-03-25T03:41:03.334Z"
   },
   {
    "duration": 37,
    "start_time": "2022-03-25T03:41:03.376Z"
   },
   {
    "duration": 1349,
    "start_time": "2022-03-25T03:41:45.971Z"
   },
   {
    "duration": 14,
    "start_time": "2022-03-25T03:41:47.323Z"
   },
   {
    "duration": 18,
    "start_time": "2022-03-25T03:41:47.339Z"
   },
   {
    "duration": 43,
    "start_time": "2022-03-25T03:41:47.360Z"
   },
   {
    "duration": 13,
    "start_time": "2022-03-25T03:41:47.405Z"
   },
   {
    "duration": 11,
    "start_time": "2022-03-25T03:41:47.421Z"
   },
   {
    "duration": 15,
    "start_time": "2022-03-25T03:41:47.434Z"
   },
   {
    "duration": 313,
    "start_time": "2022-03-25T03:41:47.451Z"
   },
   {
    "duration": 281,
    "start_time": "2022-03-25T03:41:47.766Z"
   },
   {
    "duration": 279,
    "start_time": "2022-03-25T03:41:48.050Z"
   },
   {
    "duration": 352,
    "start_time": "2022-03-25T03:41:48.332Z"
   },
   {
    "duration": 283,
    "start_time": "2022-03-25T03:41:48.686Z"
   },
   {
    "duration": 420,
    "start_time": "2022-03-25T03:41:48.970Z"
   },
   {
    "duration": 280,
    "start_time": "2022-03-25T03:41:49.392Z"
   },
   {
    "duration": 12,
    "start_time": "2022-03-25T03:41:49.675Z"
   },
   {
    "duration": 136,
    "start_time": "2022-03-25T03:41:49.701Z"
   },
   {
    "duration": 13,
    "start_time": "2022-03-25T03:41:49.839Z"
   },
   {
    "duration": 527,
    "start_time": "2022-03-25T03:41:49.854Z"
   },
   {
    "duration": 23,
    "start_time": "2022-03-25T03:41:50.383Z"
   },
   {
    "duration": 12,
    "start_time": "2022-03-25T03:41:50.408Z"
   },
   {
    "duration": 49,
    "start_time": "2022-03-25T03:41:50.422Z"
   },
   {
    "duration": 36,
    "start_time": "2022-03-25T03:41:50.472Z"
   },
   {
    "duration": 1302,
    "start_time": "2022-06-21T21:25:30.748Z"
   },
   {
    "duration": 10,
    "start_time": "2022-06-21T21:25:32.052Z"
   },
   {
    "duration": 10,
    "start_time": "2022-06-21T21:25:32.064Z"
   },
   {
    "duration": 9,
    "start_time": "2022-06-21T21:25:32.077Z"
   },
   {
    "duration": 10,
    "start_time": "2022-06-21T21:25:32.087Z"
   },
   {
    "duration": 10,
    "start_time": "2022-06-21T21:25:32.099Z"
   },
   {
    "duration": 48,
    "start_time": "2022-06-21T21:25:32.111Z"
   },
   {
    "duration": 277,
    "start_time": "2022-06-21T21:25:32.161Z"
   },
   {
    "duration": 281,
    "start_time": "2022-06-21T21:25:32.440Z"
   },
   {
    "duration": 258,
    "start_time": "2022-06-21T21:25:32.724Z"
   },
   {
    "duration": 328,
    "start_time": "2022-06-21T21:25:32.984Z"
   },
   {
    "duration": 250,
    "start_time": "2022-06-21T21:25:33.314Z"
   },
   {
    "duration": 351,
    "start_time": "2022-06-21T21:25:33.566Z"
   },
   {
    "duration": 255,
    "start_time": "2022-06-21T21:25:33.919Z"
   },
   {
    "duration": 10,
    "start_time": "2022-06-21T21:25:34.176Z"
   },
   {
    "duration": 126,
    "start_time": "2022-06-21T21:25:34.188Z"
   },
   {
    "duration": 11,
    "start_time": "2022-06-21T21:25:34.316Z"
   },
   {
    "duration": 337,
    "start_time": "2022-06-21T21:25:34.329Z"
   },
   {
    "duration": 11,
    "start_time": "2022-06-21T21:25:34.668Z"
   },
   {
    "duration": 14,
    "start_time": "2022-06-21T21:25:34.681Z"
   },
   {
    "duration": 34,
    "start_time": "2022-06-21T21:25:34.697Z"
   },
   {
    "duration": 31,
    "start_time": "2022-06-21T21:25:34.733Z"
   },
   {
    "duration": 1135,
    "start_time": "2022-06-21T21:27:15.178Z"
   },
   {
    "duration": 11,
    "start_time": "2022-06-21T21:27:16.315Z"
   },
   {
    "duration": 12,
    "start_time": "2022-06-21T21:27:16.327Z"
   },
   {
    "duration": 18,
    "start_time": "2022-06-21T21:27:16.341Z"
   },
   {
    "duration": 9,
    "start_time": "2022-06-21T21:27:16.360Z"
   },
   {
    "duration": 14,
    "start_time": "2022-06-21T21:27:16.370Z"
   },
   {
    "duration": 10,
    "start_time": "2022-06-21T21:27:16.386Z"
   },
   {
    "duration": 257,
    "start_time": "2022-06-21T21:27:16.397Z"
   },
   {
    "duration": 266,
    "start_time": "2022-06-21T21:27:16.655Z"
   },
   {
    "duration": 252,
    "start_time": "2022-06-21T21:27:16.923Z"
   },
   {
    "duration": 344,
    "start_time": "2022-06-21T21:27:17.176Z"
   },
   {
    "duration": 275,
    "start_time": "2022-06-21T21:27:17.522Z"
   },
   {
    "duration": 367,
    "start_time": "2022-06-21T21:27:17.799Z"
   },
   {
    "duration": 237,
    "start_time": "2022-06-21T21:27:18.167Z"
   },
   {
    "duration": 8,
    "start_time": "2022-06-21T21:27:18.406Z"
   },
   {
    "duration": 119,
    "start_time": "2022-06-21T21:27:18.415Z"
   },
   {
    "duration": 17,
    "start_time": "2022-06-21T21:27:18.535Z"
   },
   {
    "duration": 314,
    "start_time": "2022-06-21T21:27:18.554Z"
   },
   {
    "duration": 11,
    "start_time": "2022-06-21T21:27:18.869Z"
   },
   {
    "duration": 12,
    "start_time": "2022-06-21T21:27:18.882Z"
   },
   {
    "duration": 27,
    "start_time": "2022-06-21T21:27:18.895Z"
   },
   {
    "duration": 38,
    "start_time": "2022-06-21T21:27:18.924Z"
   },
   {
    "duration": 1161,
    "start_time": "2022-06-21T21:34:45.179Z"
   },
   {
    "duration": 10,
    "start_time": "2022-06-21T21:34:46.342Z"
   },
   {
    "duration": 12,
    "start_time": "2022-06-21T21:34:46.353Z"
   },
   {
    "duration": 8,
    "start_time": "2022-06-21T21:34:46.367Z"
   },
   {
    "duration": 8,
    "start_time": "2022-06-21T21:34:46.377Z"
   },
   {
    "duration": 10,
    "start_time": "2022-06-21T21:34:46.387Z"
   },
   {
    "duration": 9,
    "start_time": "2022-06-21T21:34:46.398Z"
   },
   {
    "duration": 268,
    "start_time": "2022-06-21T21:34:46.409Z"
   },
   {
    "duration": 247,
    "start_time": "2022-06-21T21:34:46.678Z"
   },
   {
    "duration": 254,
    "start_time": "2022-06-21T21:34:46.927Z"
   },
   {
    "duration": 329,
    "start_time": "2022-06-21T21:34:47.183Z"
   },
   {
    "duration": 241,
    "start_time": "2022-06-21T21:34:47.513Z"
   },
   {
    "duration": 360,
    "start_time": "2022-06-21T21:34:47.755Z"
   },
   {
    "duration": 261,
    "start_time": "2022-06-21T21:34:48.117Z"
   },
   {
    "duration": 9,
    "start_time": "2022-06-21T21:34:48.379Z"
   },
   {
    "duration": 133,
    "start_time": "2022-06-21T21:34:48.389Z"
   },
   {
    "duration": 9,
    "start_time": "2022-06-21T21:34:48.523Z"
   },
   {
    "duration": 305,
    "start_time": "2022-06-21T21:34:48.534Z"
   },
   {
    "duration": 17,
    "start_time": "2022-06-21T21:34:48.840Z"
   },
   {
    "duration": 10,
    "start_time": "2022-06-21T21:34:48.859Z"
   },
   {
    "duration": 27,
    "start_time": "2022-06-21T21:34:48.870Z"
   },
   {
    "duration": 12,
    "start_time": "2022-06-21T21:34:48.898Z"
   }
  ],
  "kernelspec": {
   "display_name": "Python 3 (ipykernel)",
   "language": "python",
   "name": "python3"
  },
  "language_info": {
   "codemirror_mode": {
    "name": "ipython",
    "version": 3
   },
   "file_extension": ".py",
   "mimetype": "text/x-python",
   "name": "python",
   "nbconvert_exporter": "python",
   "pygments_lexer": "ipython3",
   "version": "3.9.5"
  },
  "toc": {
   "base_numbering": 1,
   "nav_menu": {},
   "number_sections": true,
   "sideBar": true,
   "skip_h1_title": true,
   "title_cell": "Table of Contents",
   "title_sidebar": "Contents",
   "toc_cell": false,
   "toc_position": {},
   "toc_section_display": true,
   "toc_window_display": false
  }
 },
 "nbformat": 4,
 "nbformat_minor": 2
}
