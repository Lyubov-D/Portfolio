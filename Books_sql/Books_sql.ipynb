{
 "cells": [
  {
   "cell_type": "markdown",
   "metadata": {},
   "source": [
    "# Проект по SQL\n",
    "\n",
    "Компания купила крупный сервис для чтения книг по подписке. Задача — проанализировать базу данных. В ней — информация о книгах, издательствах, авторах, а также пользовательские обзоры книг. Эти данные помогут сформулировать ценностное предложение для нового продукта.\n",
    "\n",
    "**Описание данных**\n",
    "\n",
    "Таблица ***books***\n",
    "\n",
    "Содержит данные о книгах:\n",
    "- book_id — идентификатор книги;\n",
    "- author_id — идентификатор автора;\n",
    "- title — название книги;\n",
    "- num_pages — количество страниц;\n",
    "- publication_date — дата публикации книги;\n",
    "- publisher_id — идентификатор издателя.\n",
    "\n",
    "\n",
    "Таблица ***authors***\n",
    "\n",
    "Содержит данные об авторах:\n",
    "\n",
    "- author_id — идентификатор автора;\n",
    "- author — имя автора.\n",
    "\n",
    "Таблица ***publishers***\n",
    "\n",
    "Содержит данные об издательствах:\n",
    "\n",
    "- publisher_id — идентификатор издательства;\n",
    "- publisher — название издательства;\n",
    "\n",
    "Таблица ***ratings***\n",
    "\n",
    "Содержит данные о пользовательских оценках книг:\n",
    "\n",
    "- rating_id — идентификатор оценки;\n",
    "- book_id — идентификатор книги;\n",
    "- username — имя пользователя, оставившего оценку;\n",
    "- rating — оценка книги.\n",
    "\n",
    "Таблица ***reviews***\n",
    "\n",
    "Содержит данные о пользовательских обзорах:\n",
    "\n",
    "- review_id — идентификатор обзора;\n",
    "- book_id — идентификатор книги;\n",
    "- username — имя автора обзора;\n",
    "- text — текст обзора.\n"
   ]
  },
  {
   "cell_type": "markdown",
   "metadata": {},
   "source": [
    "## Изучение данных из файлов и подготовка к анализу"
   ]
  },
  {
   "cell_type": "markdown",
   "metadata": {},
   "source": [
    "**Импортируем библиотеки**"
   ]
  },
  {
   "cell_type": "code",
   "execution_count": 1,
   "metadata": {},
   "outputs": [],
   "source": [
    "import pandas as pd \n",
    "from sqlalchemy import create_engine "
   ]
  },
  {
   "cell_type": "code",
   "execution_count": 2,
   "metadata": {},
   "outputs": [],
   "source": [
    "# устанавливаем параметры\n",
    "db_config = {'user': 'praktikum_student', # имя пользователя\n",
    "'pwd': 'Sdf4$2;d-d30pp', # пароль\n",
    "'host': 'rc1b-wcoijxj3yxfsf3fs.mdb.yandexcloud.net', \n",
    "'port': 6432, # порт подключения\n",
    "'db': 'data-analyst-final-project-db'} # название базы данных\n",
    "connection_string = 'postgresql://{}:{}@{}:{}/{}'.format(db_config['user'], \n",
    " db_config['pwd'], \n",
    " db_config['host'], \n",
    " db_config['port'], \n",
    " db_config['db']) \n",
    "# сохраняем коннектор\n",
    "engine = create_engine(connection_string, connect_args={'sslmode':'require'})"
   ]
  },
  {
   "cell_type": "code",
   "execution_count": 3,
   "metadata": {
    "scrolled": true
   },
   "outputs": [
    {
     "data": {
      "text/html": [
       "<div>\n",
       "<style scoped>\n",
       "    .dataframe tbody tr th:only-of-type {\n",
       "        vertical-align: middle;\n",
       "    }\n",
       "\n",
       "    .dataframe tbody tr th {\n",
       "        vertical-align: top;\n",
       "    }\n",
       "\n",
       "    .dataframe thead th {\n",
       "        text-align: right;\n",
       "    }\n",
       "</style>\n",
       "<table border=\"1\" class=\"dataframe\">\n",
       "  <thead>\n",
       "    <tr style=\"text-align: right;\">\n",
       "      <th></th>\n",
       "      <th>book_id</th>\n",
       "      <th>author_id</th>\n",
       "      <th>title</th>\n",
       "      <th>num_pages</th>\n",
       "      <th>publication_date</th>\n",
       "      <th>publisher_id</th>\n",
       "    </tr>\n",
       "  </thead>\n",
       "  <tbody>\n",
       "    <tr>\n",
       "      <th>0</th>\n",
       "      <td>1</td>\n",
       "      <td>546</td>\n",
       "      <td>'Salem's Lot</td>\n",
       "      <td>594</td>\n",
       "      <td>2005-11-01</td>\n",
       "      <td>93</td>\n",
       "    </tr>\n",
       "    <tr>\n",
       "      <th>1</th>\n",
       "      <td>2</td>\n",
       "      <td>465</td>\n",
       "      <td>1 000 Places to See Before You Die</td>\n",
       "      <td>992</td>\n",
       "      <td>2003-05-22</td>\n",
       "      <td>336</td>\n",
       "    </tr>\n",
       "    <tr>\n",
       "      <th>2</th>\n",
       "      <td>3</td>\n",
       "      <td>407</td>\n",
       "      <td>13 Little Blue Envelopes (Little Blue Envelope...</td>\n",
       "      <td>322</td>\n",
       "      <td>2010-12-21</td>\n",
       "      <td>135</td>\n",
       "    </tr>\n",
       "    <tr>\n",
       "      <th>3</th>\n",
       "      <td>4</td>\n",
       "      <td>82</td>\n",
       "      <td>1491: New Revelations of the Americas Before C...</td>\n",
       "      <td>541</td>\n",
       "      <td>2006-10-10</td>\n",
       "      <td>309</td>\n",
       "    </tr>\n",
       "    <tr>\n",
       "      <th>4</th>\n",
       "      <td>5</td>\n",
       "      <td>125</td>\n",
       "      <td>1776</td>\n",
       "      <td>386</td>\n",
       "      <td>2006-07-04</td>\n",
       "      <td>268</td>\n",
       "    </tr>\n",
       "    <tr>\n",
       "      <th>...</th>\n",
       "      <td>...</td>\n",
       "      <td>...</td>\n",
       "      <td>...</td>\n",
       "      <td>...</td>\n",
       "      <td>...</td>\n",
       "      <td>...</td>\n",
       "    </tr>\n",
       "    <tr>\n",
       "      <th>995</th>\n",
       "      <td>996</td>\n",
       "      <td>571</td>\n",
       "      <td>Wyrd Sisters (Discworld  #6; Witches #2)</td>\n",
       "      <td>265</td>\n",
       "      <td>2001-02-06</td>\n",
       "      <td>147</td>\n",
       "    </tr>\n",
       "    <tr>\n",
       "      <th>996</th>\n",
       "      <td>997</td>\n",
       "      <td>454</td>\n",
       "      <td>Xenocide (Ender's Saga  #3)</td>\n",
       "      <td>592</td>\n",
       "      <td>1996-07-15</td>\n",
       "      <td>297</td>\n",
       "    </tr>\n",
       "    <tr>\n",
       "      <th>997</th>\n",
       "      <td>998</td>\n",
       "      <td>201</td>\n",
       "      <td>Year of Wonders</td>\n",
       "      <td>358</td>\n",
       "      <td>2002-04-30</td>\n",
       "      <td>212</td>\n",
       "    </tr>\n",
       "    <tr>\n",
       "      <th>998</th>\n",
       "      <td>999</td>\n",
       "      <td>94</td>\n",
       "      <td>You Suck (A Love Story  #2)</td>\n",
       "      <td>328</td>\n",
       "      <td>2007-01-16</td>\n",
       "      <td>331</td>\n",
       "    </tr>\n",
       "    <tr>\n",
       "      <th>999</th>\n",
       "      <td>1000</td>\n",
       "      <td>509</td>\n",
       "      <td>Zen and the Art of Motorcycle Maintenance: An ...</td>\n",
       "      <td>540</td>\n",
       "      <td>2006-04-25</td>\n",
       "      <td>143</td>\n",
       "    </tr>\n",
       "  </tbody>\n",
       "</table>\n",
       "<p>1000 rows × 6 columns</p>\n",
       "</div>"
      ],
      "text/plain": [
       "     book_id  author_id                                              title  \\\n",
       "0          1        546                                       'Salem's Lot   \n",
       "1          2        465                 1 000 Places to See Before You Die   \n",
       "2          3        407  13 Little Blue Envelopes (Little Blue Envelope...   \n",
       "3          4         82  1491: New Revelations of the Americas Before C...   \n",
       "4          5        125                                               1776   \n",
       "..       ...        ...                                                ...   \n",
       "995      996        571           Wyrd Sisters (Discworld  #6; Witches #2)   \n",
       "996      997        454                        Xenocide (Ender's Saga  #3)   \n",
       "997      998        201                                    Year of Wonders   \n",
       "998      999         94                        You Suck (A Love Story  #2)   \n",
       "999     1000        509  Zen and the Art of Motorcycle Maintenance: An ...   \n",
       "\n",
       "     num_pages publication_date  publisher_id  \n",
       "0          594       2005-11-01            93  \n",
       "1          992       2003-05-22           336  \n",
       "2          322       2010-12-21           135  \n",
       "3          541       2006-10-10           309  \n",
       "4          386       2006-07-04           268  \n",
       "..         ...              ...           ...  \n",
       "995        265       2001-02-06           147  \n",
       "996        592       1996-07-15           297  \n",
       "997        358       2002-04-30           212  \n",
       "998        328       2007-01-16           331  \n",
       "999        540       2006-04-25           143  \n",
       "\n",
       "[1000 rows x 6 columns]"
      ]
     },
     "execution_count": 3,
     "metadata": {},
     "output_type": "execute_result"
    }
   ],
   "source": [
    "query = \"\"\"\n",
    "  SELECT *\n",
    "  FROM books;\n",
    "\"\"\"\n",
    "pd.io.sql.read_sql(query, con = engine)"
   ]
  },
  {
   "cell_type": "code",
   "execution_count": 4,
   "metadata": {
    "scrolled": true
   },
   "outputs": [
    {
     "data": {
      "text/html": [
       "<div>\n",
       "<style scoped>\n",
       "    .dataframe tbody tr th:only-of-type {\n",
       "        vertical-align: middle;\n",
       "    }\n",
       "\n",
       "    .dataframe tbody tr th {\n",
       "        vertical-align: top;\n",
       "    }\n",
       "\n",
       "    .dataframe thead th {\n",
       "        text-align: right;\n",
       "    }\n",
       "</style>\n",
       "<table border=\"1\" class=\"dataframe\">\n",
       "  <thead>\n",
       "    <tr style=\"text-align: right;\">\n",
       "      <th></th>\n",
       "      <th>author_id</th>\n",
       "      <th>author</th>\n",
       "    </tr>\n",
       "  </thead>\n",
       "  <tbody>\n",
       "    <tr>\n",
       "      <th>0</th>\n",
       "      <td>1</td>\n",
       "      <td>A.S. Byatt</td>\n",
       "    </tr>\n",
       "    <tr>\n",
       "      <th>1</th>\n",
       "      <td>2</td>\n",
       "      <td>Aesop/Laura Harris/Laura Gibbs</td>\n",
       "    </tr>\n",
       "    <tr>\n",
       "      <th>2</th>\n",
       "      <td>3</td>\n",
       "      <td>Agatha Christie</td>\n",
       "    </tr>\n",
       "    <tr>\n",
       "      <th>3</th>\n",
       "      <td>4</td>\n",
       "      <td>Alan Brennert</td>\n",
       "    </tr>\n",
       "    <tr>\n",
       "      <th>4</th>\n",
       "      <td>5</td>\n",
       "      <td>Alan Moore/David   Lloyd</td>\n",
       "    </tr>\n",
       "    <tr>\n",
       "      <th>...</th>\n",
       "      <td>...</td>\n",
       "      <td>...</td>\n",
       "    </tr>\n",
       "    <tr>\n",
       "      <th>631</th>\n",
       "      <td>632</td>\n",
       "      <td>William Strunk Jr./E.B. White</td>\n",
       "    </tr>\n",
       "    <tr>\n",
       "      <th>632</th>\n",
       "      <td>633</td>\n",
       "      <td>Zadie Smith</td>\n",
       "    </tr>\n",
       "    <tr>\n",
       "      <th>633</th>\n",
       "      <td>634</td>\n",
       "      <td>Zilpha Keatley Snyder</td>\n",
       "    </tr>\n",
       "    <tr>\n",
       "      <th>634</th>\n",
       "      <td>635</td>\n",
       "      <td>Zora Neale Hurston</td>\n",
       "    </tr>\n",
       "    <tr>\n",
       "      <th>635</th>\n",
       "      <td>636</td>\n",
       "      <td>Åsne Seierstad/Ingrid Christopherson</td>\n",
       "    </tr>\n",
       "  </tbody>\n",
       "</table>\n",
       "<p>636 rows × 2 columns</p>\n",
       "</div>"
      ],
      "text/plain": [
       "     author_id                                author\n",
       "0            1                            A.S. Byatt\n",
       "1            2        Aesop/Laura Harris/Laura Gibbs\n",
       "2            3                       Agatha Christie\n",
       "3            4                         Alan Brennert\n",
       "4            5              Alan Moore/David   Lloyd\n",
       "..         ...                                   ...\n",
       "631        632         William Strunk Jr./E.B. White\n",
       "632        633                           Zadie Smith\n",
       "633        634                 Zilpha Keatley Snyder\n",
       "634        635                    Zora Neale Hurston\n",
       "635        636  Åsne Seierstad/Ingrid Christopherson\n",
       "\n",
       "[636 rows x 2 columns]"
      ]
     },
     "execution_count": 4,
     "metadata": {},
     "output_type": "execute_result"
    }
   ],
   "source": [
    "query = \"\"\"\n",
    "  SELECT *\n",
    "  FROM authors;\n",
    "\"\"\"\n",
    "pd.io.sql.read_sql(query, con = engine)"
   ]
  },
  {
   "cell_type": "code",
   "execution_count": 5,
   "metadata": {},
   "outputs": [
    {
     "data": {
      "text/html": [
       "<div>\n",
       "<style scoped>\n",
       "    .dataframe tbody tr th:only-of-type {\n",
       "        vertical-align: middle;\n",
       "    }\n",
       "\n",
       "    .dataframe tbody tr th {\n",
       "        vertical-align: top;\n",
       "    }\n",
       "\n",
       "    .dataframe thead th {\n",
       "        text-align: right;\n",
       "    }\n",
       "</style>\n",
       "<table border=\"1\" class=\"dataframe\">\n",
       "  <thead>\n",
       "    <tr style=\"text-align: right;\">\n",
       "      <th></th>\n",
       "      <th>publisher_id</th>\n",
       "      <th>publisher</th>\n",
       "    </tr>\n",
       "  </thead>\n",
       "  <tbody>\n",
       "    <tr>\n",
       "      <th>0</th>\n",
       "      <td>1</td>\n",
       "      <td>Ace</td>\n",
       "    </tr>\n",
       "    <tr>\n",
       "      <th>1</th>\n",
       "      <td>2</td>\n",
       "      <td>Ace Book</td>\n",
       "    </tr>\n",
       "    <tr>\n",
       "      <th>2</th>\n",
       "      <td>3</td>\n",
       "      <td>Ace Books</td>\n",
       "    </tr>\n",
       "    <tr>\n",
       "      <th>3</th>\n",
       "      <td>4</td>\n",
       "      <td>Ace Hardcover</td>\n",
       "    </tr>\n",
       "    <tr>\n",
       "      <th>4</th>\n",
       "      <td>5</td>\n",
       "      <td>Addison Wesley Publishing Company</td>\n",
       "    </tr>\n",
       "    <tr>\n",
       "      <th>...</th>\n",
       "      <td>...</td>\n",
       "      <td>...</td>\n",
       "    </tr>\n",
       "    <tr>\n",
       "      <th>335</th>\n",
       "      <td>336</td>\n",
       "      <td>Workman Publishing Company</td>\n",
       "    </tr>\n",
       "    <tr>\n",
       "      <th>336</th>\n",
       "      <td>337</td>\n",
       "      <td>Wyatt Book</td>\n",
       "    </tr>\n",
       "    <tr>\n",
       "      <th>337</th>\n",
       "      <td>338</td>\n",
       "      <td>Yale University Press</td>\n",
       "    </tr>\n",
       "    <tr>\n",
       "      <th>338</th>\n",
       "      <td>339</td>\n",
       "      <td>Yearling</td>\n",
       "    </tr>\n",
       "    <tr>\n",
       "      <th>339</th>\n",
       "      <td>340</td>\n",
       "      <td>Yearling Books</td>\n",
       "    </tr>\n",
       "  </tbody>\n",
       "</table>\n",
       "<p>340 rows × 2 columns</p>\n",
       "</div>"
      ],
      "text/plain": [
       "     publisher_id                          publisher\n",
       "0               1                                Ace\n",
       "1               2                           Ace Book\n",
       "2               3                          Ace Books\n",
       "3               4                      Ace Hardcover\n",
       "4               5  Addison Wesley Publishing Company\n",
       "..            ...                                ...\n",
       "335           336         Workman Publishing Company\n",
       "336           337                         Wyatt Book\n",
       "337           338              Yale University Press\n",
       "338           339                           Yearling\n",
       "339           340                     Yearling Books\n",
       "\n",
       "[340 rows x 2 columns]"
      ]
     },
     "execution_count": 5,
     "metadata": {},
     "output_type": "execute_result"
    }
   ],
   "source": [
    "query = \"\"\"\n",
    "  SELECT *\n",
    "  FROM publishers;\n",
    "\"\"\"\n",
    "pd.io.sql.read_sql(query, con = engine)"
   ]
  },
  {
   "cell_type": "code",
   "execution_count": 6,
   "metadata": {},
   "outputs": [
    {
     "data": {
      "text/html": [
       "<div>\n",
       "<style scoped>\n",
       "    .dataframe tbody tr th:only-of-type {\n",
       "        vertical-align: middle;\n",
       "    }\n",
       "\n",
       "    .dataframe tbody tr th {\n",
       "        vertical-align: top;\n",
       "    }\n",
       "\n",
       "    .dataframe thead th {\n",
       "        text-align: right;\n",
       "    }\n",
       "</style>\n",
       "<table border=\"1\" class=\"dataframe\">\n",
       "  <thead>\n",
       "    <tr style=\"text-align: right;\">\n",
       "      <th></th>\n",
       "      <th>rating_id</th>\n",
       "      <th>book_id</th>\n",
       "      <th>username</th>\n",
       "      <th>rating</th>\n",
       "    </tr>\n",
       "  </thead>\n",
       "  <tbody>\n",
       "    <tr>\n",
       "      <th>0</th>\n",
       "      <td>1</td>\n",
       "      <td>1</td>\n",
       "      <td>ryanfranco</td>\n",
       "      <td>4</td>\n",
       "    </tr>\n",
       "    <tr>\n",
       "      <th>1</th>\n",
       "      <td>2</td>\n",
       "      <td>1</td>\n",
       "      <td>grantpatricia</td>\n",
       "      <td>2</td>\n",
       "    </tr>\n",
       "    <tr>\n",
       "      <th>2</th>\n",
       "      <td>3</td>\n",
       "      <td>1</td>\n",
       "      <td>brandtandrea</td>\n",
       "      <td>5</td>\n",
       "    </tr>\n",
       "    <tr>\n",
       "      <th>3</th>\n",
       "      <td>4</td>\n",
       "      <td>2</td>\n",
       "      <td>lorichen</td>\n",
       "      <td>3</td>\n",
       "    </tr>\n",
       "    <tr>\n",
       "      <th>4</th>\n",
       "      <td>5</td>\n",
       "      <td>2</td>\n",
       "      <td>mariokeller</td>\n",
       "      <td>2</td>\n",
       "    </tr>\n",
       "    <tr>\n",
       "      <th>...</th>\n",
       "      <td>...</td>\n",
       "      <td>...</td>\n",
       "      <td>...</td>\n",
       "      <td>...</td>\n",
       "    </tr>\n",
       "    <tr>\n",
       "      <th>6451</th>\n",
       "      <td>6452</td>\n",
       "      <td>1000</td>\n",
       "      <td>carolrodriguez</td>\n",
       "      <td>4</td>\n",
       "    </tr>\n",
       "    <tr>\n",
       "      <th>6452</th>\n",
       "      <td>6453</td>\n",
       "      <td>1000</td>\n",
       "      <td>wendy18</td>\n",
       "      <td>4</td>\n",
       "    </tr>\n",
       "    <tr>\n",
       "      <th>6453</th>\n",
       "      <td>6454</td>\n",
       "      <td>1000</td>\n",
       "      <td>jarvispaul</td>\n",
       "      <td>5</td>\n",
       "    </tr>\n",
       "    <tr>\n",
       "      <th>6454</th>\n",
       "      <td>6455</td>\n",
       "      <td>1000</td>\n",
       "      <td>zross</td>\n",
       "      <td>2</td>\n",
       "    </tr>\n",
       "    <tr>\n",
       "      <th>6455</th>\n",
       "      <td>6456</td>\n",
       "      <td>1000</td>\n",
       "      <td>fharris</td>\n",
       "      <td>5</td>\n",
       "    </tr>\n",
       "  </tbody>\n",
       "</table>\n",
       "<p>6456 rows × 4 columns</p>\n",
       "</div>"
      ],
      "text/plain": [
       "      rating_id  book_id        username  rating\n",
       "0             1        1      ryanfranco       4\n",
       "1             2        1   grantpatricia       2\n",
       "2             3        1    brandtandrea       5\n",
       "3             4        2        lorichen       3\n",
       "4             5        2     mariokeller       2\n",
       "...         ...      ...             ...     ...\n",
       "6451       6452     1000  carolrodriguez       4\n",
       "6452       6453     1000         wendy18       4\n",
       "6453       6454     1000      jarvispaul       5\n",
       "6454       6455     1000           zross       2\n",
       "6455       6456     1000         fharris       5\n",
       "\n",
       "[6456 rows x 4 columns]"
      ]
     },
     "execution_count": 6,
     "metadata": {},
     "output_type": "execute_result"
    }
   ],
   "source": [
    "query = \"\"\"\n",
    "  SELECT *\n",
    "  FROM ratings;\n",
    "\"\"\"\n",
    "pd.io.sql.read_sql(query, con = engine)"
   ]
  },
  {
   "cell_type": "code",
   "execution_count": 7,
   "metadata": {
    "scrolled": true
   },
   "outputs": [
    {
     "data": {
      "text/html": [
       "<div>\n",
       "<style scoped>\n",
       "    .dataframe tbody tr th:only-of-type {\n",
       "        vertical-align: middle;\n",
       "    }\n",
       "\n",
       "    .dataframe tbody tr th {\n",
       "        vertical-align: top;\n",
       "    }\n",
       "\n",
       "    .dataframe thead th {\n",
       "        text-align: right;\n",
       "    }\n",
       "</style>\n",
       "<table border=\"1\" class=\"dataframe\">\n",
       "  <thead>\n",
       "    <tr style=\"text-align: right;\">\n",
       "      <th></th>\n",
       "      <th>review_id</th>\n",
       "      <th>book_id</th>\n",
       "      <th>username</th>\n",
       "      <th>text</th>\n",
       "    </tr>\n",
       "  </thead>\n",
       "  <tbody>\n",
       "    <tr>\n",
       "      <th>0</th>\n",
       "      <td>1</td>\n",
       "      <td>1</td>\n",
       "      <td>brandtandrea</td>\n",
       "      <td>Mention society tell send professor analysis. ...</td>\n",
       "    </tr>\n",
       "    <tr>\n",
       "      <th>1</th>\n",
       "      <td>2</td>\n",
       "      <td>1</td>\n",
       "      <td>ryanfranco</td>\n",
       "      <td>Foot glass pretty audience hit themselves. Amo...</td>\n",
       "    </tr>\n",
       "    <tr>\n",
       "      <th>2</th>\n",
       "      <td>3</td>\n",
       "      <td>2</td>\n",
       "      <td>lorichen</td>\n",
       "      <td>Listen treat keep worry. Miss husband tax but ...</td>\n",
       "    </tr>\n",
       "    <tr>\n",
       "      <th>3</th>\n",
       "      <td>4</td>\n",
       "      <td>3</td>\n",
       "      <td>johnsonamanda</td>\n",
       "      <td>Finally month interesting blue could nature cu...</td>\n",
       "    </tr>\n",
       "    <tr>\n",
       "      <th>4</th>\n",
       "      <td>5</td>\n",
       "      <td>3</td>\n",
       "      <td>scotttamara</td>\n",
       "      <td>Nation purpose heavy give wait song will. List...</td>\n",
       "    </tr>\n",
       "    <tr>\n",
       "      <th>...</th>\n",
       "      <td>...</td>\n",
       "      <td>...</td>\n",
       "      <td>...</td>\n",
       "      <td>...</td>\n",
       "    </tr>\n",
       "    <tr>\n",
       "      <th>2788</th>\n",
       "      <td>2789</td>\n",
       "      <td>999</td>\n",
       "      <td>martinadam</td>\n",
       "      <td>Later hospital turn easy community. Fact same ...</td>\n",
       "    </tr>\n",
       "    <tr>\n",
       "      <th>2789</th>\n",
       "      <td>2790</td>\n",
       "      <td>1000</td>\n",
       "      <td>wknight</td>\n",
       "      <td>Change lose answer close pressure. Spend so now.</td>\n",
       "    </tr>\n",
       "    <tr>\n",
       "      <th>2790</th>\n",
       "      <td>2791</td>\n",
       "      <td>1000</td>\n",
       "      <td>carolrodriguez</td>\n",
       "      <td>Authority go who television entire hair guy po...</td>\n",
       "    </tr>\n",
       "    <tr>\n",
       "      <th>2791</th>\n",
       "      <td>2792</td>\n",
       "      <td>1000</td>\n",
       "      <td>wendy18</td>\n",
       "      <td>Or western offer wonder ask. More hear phone f...</td>\n",
       "    </tr>\n",
       "    <tr>\n",
       "      <th>2792</th>\n",
       "      <td>2793</td>\n",
       "      <td>1000</td>\n",
       "      <td>jarvispaul</td>\n",
       "      <td>Republican staff bit eat material measure plan...</td>\n",
       "    </tr>\n",
       "  </tbody>\n",
       "</table>\n",
       "<p>2793 rows × 4 columns</p>\n",
       "</div>"
      ],
      "text/plain": [
       "      review_id  book_id        username  \\\n",
       "0             1        1    brandtandrea   \n",
       "1             2        1      ryanfranco   \n",
       "2             3        2        lorichen   \n",
       "3             4        3   johnsonamanda   \n",
       "4             5        3     scotttamara   \n",
       "...         ...      ...             ...   \n",
       "2788       2789      999      martinadam   \n",
       "2789       2790     1000         wknight   \n",
       "2790       2791     1000  carolrodriguez   \n",
       "2791       2792     1000         wendy18   \n",
       "2792       2793     1000      jarvispaul   \n",
       "\n",
       "                                                   text  \n",
       "0     Mention society tell send professor analysis. ...  \n",
       "1     Foot glass pretty audience hit themselves. Amo...  \n",
       "2     Listen treat keep worry. Miss husband tax but ...  \n",
       "3     Finally month interesting blue could nature cu...  \n",
       "4     Nation purpose heavy give wait song will. List...  \n",
       "...                                                 ...  \n",
       "2788  Later hospital turn easy community. Fact same ...  \n",
       "2789   Change lose answer close pressure. Spend so now.  \n",
       "2790  Authority go who television entire hair guy po...  \n",
       "2791  Or western offer wonder ask. More hear phone f...  \n",
       "2792  Republican staff bit eat material measure plan...  \n",
       "\n",
       "[2793 rows x 4 columns]"
      ]
     },
     "execution_count": 7,
     "metadata": {},
     "output_type": "execute_result"
    }
   ],
   "source": [
    "query = \"\"\"\n",
    "  SELECT *\n",
    "  FROM reviews;\n",
    "\"\"\"\n",
    "pd.io.sql.read_sql(query, con = engine)"
   ]
  },
  {
   "cell_type": "markdown",
   "metadata": {},
   "source": [
    "## Анализ данных"
   ]
  },
  {
   "cell_type": "markdown",
   "metadata": {},
   "source": [
    "**Посчитаем, сколько книг вышло после 1 января 2000 года**"
   ]
  },
  {
   "cell_type": "code",
   "execution_count": 8,
   "metadata": {},
   "outputs": [],
   "source": [
    "# Напишем функцию для выполнения запросов.\n",
    "def select(query):\n",
    "    return pd.io.sql.read_sql(query, con = engine)"
   ]
  },
  {
   "cell_type": "code",
   "execution_count": 9,
   "metadata": {},
   "outputs": [
    {
     "data": {
      "text/html": [
       "<div>\n",
       "<style scoped>\n",
       "    .dataframe tbody tr th:only-of-type {\n",
       "        vertical-align: middle;\n",
       "    }\n",
       "\n",
       "    .dataframe tbody tr th {\n",
       "        vertical-align: top;\n",
       "    }\n",
       "\n",
       "    .dataframe thead th {\n",
       "        text-align: right;\n",
       "    }\n",
       "</style>\n",
       "<table border=\"1\" class=\"dataframe\">\n",
       "  <thead>\n",
       "    <tr style=\"text-align: right;\">\n",
       "      <th></th>\n",
       "      <th>pub_date_books</th>\n",
       "    </tr>\n",
       "  </thead>\n",
       "  <tbody>\n",
       "    <tr>\n",
       "      <th>0</th>\n",
       "      <td>821</td>\n",
       "    </tr>\n",
       "  </tbody>\n",
       "</table>\n",
       "</div>"
      ],
      "text/plain": [
       "   pub_date_books\n",
       "0             821"
      ]
     },
     "execution_count": 9,
     "metadata": {},
     "output_type": "execute_result"
    }
   ],
   "source": [
    "pub_date_books = ''' SELECT \n",
    "    COUNT(*) AS pub_date_books                                           --найдем общее количество строк в таблице books\n",
    "FROM \n",
    "    books\n",
    "WHERE \n",
    "    publication_date >= '2000-01-01' '''\n",
    "select(pub_date_books)"
   ]
  },
  {
   "cell_type": "markdown",
   "metadata": {},
   "source": [
    "**Вывод**\n",
    "\n",
    "C 1 января 2000 года выпустили **821** книгу."
   ]
  },
  {
   "cell_type": "markdown",
   "metadata": {},
   "source": [
    "**Для каждой книги посчитаем количество обзоров и среднюю оценку**"
   ]
  },
  {
   "cell_type": "code",
   "execution_count": 10,
   "metadata": {
    "scrolled": true
   },
   "outputs": [
    {
     "data": {
      "text/html": [
       "<div>\n",
       "<style scoped>\n",
       "    .dataframe tbody tr th:only-of-type {\n",
       "        vertical-align: middle;\n",
       "    }\n",
       "\n",
       "    .dataframe tbody tr th {\n",
       "        vertical-align: top;\n",
       "    }\n",
       "\n",
       "    .dataframe thead th {\n",
       "        text-align: right;\n",
       "    }\n",
       "</style>\n",
       "<table border=\"1\" class=\"dataframe\">\n",
       "  <thead>\n",
       "    <tr style=\"text-align: right;\">\n",
       "      <th></th>\n",
       "      <th>title</th>\n",
       "      <th>avg_rating</th>\n",
       "      <th>reviews_count</th>\n",
       "    </tr>\n",
       "  </thead>\n",
       "  <tbody>\n",
       "    <tr>\n",
       "      <th>0</th>\n",
       "      <td>Pop Goes the Weasel (Alex Cross  #5)</td>\n",
       "      <td>5.00</td>\n",
       "      <td>2.0</td>\n",
       "    </tr>\n",
       "    <tr>\n",
       "      <th>1</th>\n",
       "      <td>The Ghost Map: The Story of London's Most Terr...</td>\n",
       "      <td>5.00</td>\n",
       "      <td>2.0</td>\n",
       "    </tr>\n",
       "    <tr>\n",
       "      <th>2</th>\n",
       "      <td>In the Hand of the Goddess (Song of the Liones...</td>\n",
       "      <td>5.00</td>\n",
       "      <td>2.0</td>\n",
       "    </tr>\n",
       "    <tr>\n",
       "      <th>3</th>\n",
       "      <td>Tai-Pan (Asian Saga  #2)</td>\n",
       "      <td>5.00</td>\n",
       "      <td>2.0</td>\n",
       "    </tr>\n",
       "    <tr>\n",
       "      <th>4</th>\n",
       "      <td>How to Be a Domestic Goddess: Baking and the A...</td>\n",
       "      <td>5.00</td>\n",
       "      <td>1.0</td>\n",
       "    </tr>\n",
       "    <tr>\n",
       "      <th>...</th>\n",
       "      <td>...</td>\n",
       "      <td>...</td>\n",
       "      <td>...</td>\n",
       "    </tr>\n",
       "    <tr>\n",
       "      <th>995</th>\n",
       "      <td>The World Is Flat: A Brief History of the Twen...</td>\n",
       "      <td>2.25</td>\n",
       "      <td>3.0</td>\n",
       "    </tr>\n",
       "    <tr>\n",
       "      <th>996</th>\n",
       "      <td>Junky</td>\n",
       "      <td>2.00</td>\n",
       "      <td>2.0</td>\n",
       "    </tr>\n",
       "    <tr>\n",
       "      <th>997</th>\n",
       "      <td>His Excellency: George Washington</td>\n",
       "      <td>2.00</td>\n",
       "      <td>2.0</td>\n",
       "    </tr>\n",
       "    <tr>\n",
       "      <th>998</th>\n",
       "      <td>Drowning Ruth</td>\n",
       "      <td>2.00</td>\n",
       "      <td>3.0</td>\n",
       "    </tr>\n",
       "    <tr>\n",
       "      <th>999</th>\n",
       "      <td>Harvesting the Heart</td>\n",
       "      <td>1.50</td>\n",
       "      <td>2.0</td>\n",
       "    </tr>\n",
       "  </tbody>\n",
       "</table>\n",
       "<p>1000 rows × 3 columns</p>\n",
       "</div>"
      ],
      "text/plain": [
       "                                                 title  avg_rating  \\\n",
       "0                 Pop Goes the Weasel (Alex Cross  #5)        5.00   \n",
       "1    The Ghost Map: The Story of London's Most Terr...        5.00   \n",
       "2    In the Hand of the Goddess (Song of the Liones...        5.00   \n",
       "3                             Tai-Pan (Asian Saga  #2)        5.00   \n",
       "4    How to Be a Domestic Goddess: Baking and the A...        5.00   \n",
       "..                                                 ...         ...   \n",
       "995  The World Is Flat: A Brief History of the Twen...        2.25   \n",
       "996                                              Junky        2.00   \n",
       "997                  His Excellency: George Washington        2.00   \n",
       "998                                      Drowning Ruth        2.00   \n",
       "999                               Harvesting the Heart        1.50   \n",
       "\n",
       "     reviews_count  \n",
       "0              2.0  \n",
       "1              2.0  \n",
       "2              2.0  \n",
       "3              2.0  \n",
       "4              1.0  \n",
       "..             ...  \n",
       "995            3.0  \n",
       "996            2.0  \n",
       "997            2.0  \n",
       "998            3.0  \n",
       "999            2.0  \n",
       "\n",
       "[1000 rows x 3 columns]"
      ]
     },
     "execution_count": 10,
     "metadata": {},
     "output_type": "execute_result"
    }
   ],
   "source": [
    "reviews_rating = '''                              \n",
    "SELECT                                            -- выведем название книги, количество обзоров и средний рейтинг\n",
    "    books.title AS title,\n",
    "    Rat.avg_rat AS avg_rating,                    \n",
    "    Rev.c_rev AS reviews_count             \n",
    "FROM\n",
    "    books\n",
    "LEFT JOIN \n",
    "    (SELECT\n",
    "        book_id,\n",
    "        AVG(rating) AS avg_rat\n",
    "    FROM\n",
    "        ratings\n",
    "    GROUP BY \n",
    "        book_id\n",
    "    ) AS Rat ON Rat.book_id = books.book_id\n",
    "LEFT JOIN\n",
    "    (SELECT \n",
    "        book_id,\n",
    "        COUNT(review_id) AS c_rev\n",
    "    FROM\n",
    "        reviews\n",
    "    GROUP BY \n",
    "        book_id\n",
    "    ) AS Rev ON Rev.book_id = books.book_id\n",
    "ORDER BY\n",
    "    avg_rating DESC;\n",
    "'''\n",
    "select(reviews_rating)"
   ]
  },
  {
   "cell_type": "markdown",
   "metadata": {},
   "source": [
    "**Вывод**\n",
    "\n",
    "\n",
    "По среднему рейтингу можно выделить следующие топ-5 книг:\n",
    "- Pop Goes the Weasel (Alex Cross #5) - 5 / 2\n",
    "- The Ghost Map: The Story of London's Most Terr. - 5 / 2\n",
    "- In the Hand of the Goddess (Song of the Liones. - 5 / 2\n",
    "- Tai-Pan (Asian Saga #2) - 5 / 2\n",
    "- How to Be a Domestic Goddess: Baking and the A. - 5 /\t1\n"
   ]
  },
  {
   "cell_type": "markdown",
   "metadata": {},
   "source": [
    "**Определим издательство, которое выпустило наибольшее число книг толще 50 страниц**"
   ]
  },
  {
   "cell_type": "code",
   "execution_count": 11,
   "metadata": {
    "scrolled": true
   },
   "outputs": [
    {
     "data": {
      "text/html": [
       "<div>\n",
       "<style scoped>\n",
       "    .dataframe tbody tr th:only-of-type {\n",
       "        vertical-align: middle;\n",
       "    }\n",
       "\n",
       "    .dataframe tbody tr th {\n",
       "        vertical-align: top;\n",
       "    }\n",
       "\n",
       "    .dataframe thead th {\n",
       "        text-align: right;\n",
       "    }\n",
       "</style>\n",
       "<table border=\"1\" class=\"dataframe\">\n",
       "  <thead>\n",
       "    <tr style=\"text-align: right;\">\n",
       "      <th></th>\n",
       "      <th>publisher_id</th>\n",
       "      <th>publisher</th>\n",
       "      <th>max_publishes</th>\n",
       "    </tr>\n",
       "  </thead>\n",
       "  <tbody>\n",
       "    <tr>\n",
       "      <th>0</th>\n",
       "      <td>212</td>\n",
       "      <td>Penguin Books</td>\n",
       "      <td>42</td>\n",
       "    </tr>\n",
       "  </tbody>\n",
       "</table>\n",
       "</div>"
      ],
      "text/plain": [
       "   publisher_id      publisher  max_publishes\n",
       "0           212  Penguin Books             42"
      ]
     },
     "execution_count": 11,
     "metadata": {},
     "output_type": "execute_result"
    }
   ],
   "source": [
    "publisher = \"\"\"\n",
    " SELECT\n",
    "   publishers.publisher_id,\n",
    "   publisher,                                                            -- выведем название издательства\n",
    "   MAX(subq.books_count) AS max_publishes                                -- найдем количество книг \n",
    " FROM \n",
    "   publishers\n",
    " LEFT JOIN\n",
    "  (\n",
    "  SELECT \n",
    "    books.publisher_id,\n",
    "    COUNT(books.book_id) AS books_count\n",
    "  FROM books\n",
    "  WHERE books.num_pages > 50                                             -- отфильтруем по количеству страниц в книге больше 50\n",
    "  GROUP BY\n",
    "    books.publisher_id\n",
    "  ) AS subq \n",
    " ON \n",
    "   publishers.publisher_id = subq.publisher_id\n",
    " WHERE\n",
    "   subq.publisher_id IS NOT NULL\n",
    " GROUP BY\n",
    "    publishers.publisher_id\n",
    " ORDER BY\n",
    "     max_publishes DESC                                                  -- отсортируем по количеству книг по убыванию\n",
    " LIMIT \n",
    "     1;                                                                  -- выведем 1 строку таблицы\n",
    "\"\"\"\n",
    "select(publisher)"
   ]
  },
  {
   "cell_type": "markdown",
   "metadata": {},
   "source": [
    "**Вывод**\n",
    "\n",
    "***Penguin books*** -издательство, которое выпустило наибольшее число книг(**42** книги) толще 50 страниц."
   ]
  },
  {
   "cell_type": "markdown",
   "metadata": {},
   "source": [
    "**Определим автора с самой высокой средней оценкой книг(учтём только книги с 50 и более оценками)**"
   ]
  },
  {
   "cell_type": "code",
   "execution_count": 12,
   "metadata": {
    "scrolled": true
   },
   "outputs": [
    {
     "data": {
      "text/html": [
       "<div>\n",
       "<style scoped>\n",
       "    .dataframe tbody tr th:only-of-type {\n",
       "        vertical-align: middle;\n",
       "    }\n",
       "\n",
       "    .dataframe tbody tr th {\n",
       "        vertical-align: top;\n",
       "    }\n",
       "\n",
       "    .dataframe thead th {\n",
       "        text-align: right;\n",
       "    }\n",
       "</style>\n",
       "<table border=\"1\" class=\"dataframe\">\n",
       "  <thead>\n",
       "    <tr style=\"text-align: right;\">\n",
       "      <th></th>\n",
       "      <th>author</th>\n",
       "      <th>avg_author_rating</th>\n",
       "    </tr>\n",
       "  </thead>\n",
       "  <tbody>\n",
       "    <tr>\n",
       "      <th>0</th>\n",
       "      <td>J.K. Rowling/Mary GrandPré</td>\n",
       "      <td>4.283844</td>\n",
       "    </tr>\n",
       "  </tbody>\n",
       "</table>\n",
       "</div>"
      ],
      "text/plain": [
       "                       author  avg_author_rating\n",
       "0  J.K. Rowling/Mary GrandPré           4.283844"
      ]
     },
     "execution_count": 12,
     "metadata": {},
     "output_type": "execute_result"
    }
   ],
   "source": [
    "best_author = \"\"\"                                            -- найдём количество и средний рейтинг по автору в подзапросе,\n",
    " SELECT                                                      -- во внешнем запросе рассчитаем среднее полученных значений \n",
    "    authors.author AS author,\n",
    "    AVG(subq.avg_rating) AS avg_author_rating\n",
    " FROM\n",
    "    authors\n",
    " INNER JOIN\n",
    "    books ON books.author_id = authors.author_id\n",
    " INNER JOIN\n",
    "   ( \n",
    "    SELECT\n",
    "      book_id,\n",
    "      AVG(rating) AS avg_rating,\n",
    "      COUNT(rating_id) AS ratings_count\n",
    "    FROM\n",
    "      ratings\n",
    "    GROUP BY\n",
    "      book_id\n",
    "    ) AS subq \n",
    "    ON subq.book_id = books.book_id\n",
    "    WHERE\n",
    "      subq.ratings_count > 50\n",
    "  GROUP BY\n",
    "    author\n",
    "  ORDER BY\n",
    "    avg_author_rating DESC                                                   -- отсортируем рейтинг авторов по убыванию\n",
    "   LIMIT \n",
    "     1;                                                                      -- выведем 1 строку таблицы\n",
    "   \"\"\"\n",
    "select(best_author)"
   ]
  },
  {
   "cell_type": "markdown",
   "metadata": {},
   "source": [
    "**Вывод**\n",
    "\n",
    "***J.K. Rowling/Mary GrandPré*** - автор с самой высокой средней оценкой книг(**4.3**)"
   ]
  },
  {
   "cell_type": "markdown",
   "metadata": {},
   "source": [
    "**Посчитаем среднее количество обзоров от пользователей, которые поставили больше 50 оценок**"
   ]
  },
  {
   "cell_type": "code",
   "execution_count": 13,
   "metadata": {
    "scrolled": true
   },
   "outputs": [
    {
     "data": {
      "text/html": [
       "<div>\n",
       "<style scoped>\n",
       "    .dataframe tbody tr th:only-of-type {\n",
       "        vertical-align: middle;\n",
       "    }\n",
       "\n",
       "    .dataframe tbody tr th {\n",
       "        vertical-align: top;\n",
       "    }\n",
       "\n",
       "    .dataframe thead th {\n",
       "        text-align: right;\n",
       "    }\n",
       "</style>\n",
       "<table border=\"1\" class=\"dataframe\">\n",
       "  <thead>\n",
       "    <tr style=\"text-align: right;\">\n",
       "      <th></th>\n",
       "      <th>rounded_avg_review</th>\n",
       "    </tr>\n",
       "  </thead>\n",
       "  <tbody>\n",
       "    <tr>\n",
       "      <th>0</th>\n",
       "      <td>24.333333</td>\n",
       "    </tr>\n",
       "  </tbody>\n",
       "</table>\n",
       "</div>"
      ],
      "text/plain": [
       "   rounded_avg_review\n",
       "0           24.333333"
      ]
     },
     "execution_count": 13,
     "metadata": {},
     "output_type": "execute_result"
    }
   ],
   "source": [
    "avg = '''                                                                            -- выведем среднее по количеству обзоров\n",
    "SELECT \n",
    "    avg(count) AS rounded_avg_review    \n",
    "FROM\n",
    "    (SELECT\n",
    "        COUNT(text)\n",
    "    FROM \n",
    "        reviews\n",
    "    FULL OUTER JOIN (SELECT username, COUNT(rating_id) as cnt FROM ratings GROUP BY username) AS cnt_rating\n",
    "    ON cnt_rating.username = reviews.username where cnt > 50\n",
    "    GROUP BY reviews.username) as count;                                  \n",
    "'''\n",
    "select(avg)"
   ]
  },
  {
   "cell_type": "markdown",
   "metadata": {},
   "source": [
    "**Вывод**\n",
    "\n",
    "В среднем около 24.33 текстовых обзоров пользователей, которые поставили более 50 оценок."
   ]
  },
  {
   "cell_type": "markdown",
   "metadata": {},
   "source": [
    "# Общий вывод\n",
    "\n",
    "C 1 января 2000 года выпустили **821** книгу.\n",
    "\n",
    "По среднему рейтингу можно выделить следующие топ-5 книг:\n",
    "- Pop Goes the Weasel (Alex Cross #5) - 5 / 2\n",
    "- The Ghost Map: The Story of London's Most Terr. - 5 / 2\n",
    "- In the Hand of the Goddess (Song of the Liones. - 5 / 2\n",
    "- Tai-Pan (Asian Saga #2) - 5 / 2\n",
    "- How to Be a Domestic Goddess: Baking and the A. - 5 /\t1\n",
    "\n",
    "**Penguin books** - издательство, которое выпустило наибольшее число книг(**42** книги) толще 50 страниц.\n",
    "\n",
    "**J.K. Rowling/Mary GrandPré** - автор с самой высокой средней оценкой книг(**4.3**).\n",
    "\n",
    "В среднем около **24.33** текстовых обзоров пользователей, которые поставили более 50 оценок."
   ]
  }
 ],
 "metadata": {
  "ExecuteTimeLog": [
   {
    "duration": 706,
    "start_time": "2022-06-03T12:17:40.942Z"
   },
   {
    "duration": 63,
    "start_time": "2022-06-03T12:17:44.751Z"
   },
   {
    "duration": 485,
    "start_time": "2022-06-03T12:22:32.250Z"
   },
   {
    "duration": 41,
    "start_time": "2022-06-03T12:22:32.737Z"
   },
   {
    "duration": 64,
    "start_time": "2022-06-03T12:22:32.780Z"
   },
   {
    "duration": 16,
    "start_time": "2022-06-03T12:24:31.410Z"
   },
   {
    "duration": 14,
    "start_time": "2022-06-03T12:44:06.894Z"
   },
   {
    "duration": 28,
    "start_time": "2022-06-03T12:44:18.331Z"
   },
   {
    "duration": 26,
    "start_time": "2022-06-03T12:44:24.812Z"
   },
   {
    "duration": 80,
    "start_time": "2022-06-03T12:56:09.868Z"
   },
   {
    "duration": 4,
    "start_time": "2022-06-03T12:56:22.654Z"
   },
   {
    "duration": 4,
    "start_time": "2022-06-03T12:57:55.747Z"
   },
   {
    "duration": 3,
    "start_time": "2022-06-03T12:57:58.294Z"
   },
   {
    "duration": 4,
    "start_time": "2022-06-03T12:59:15.359Z"
   },
   {
    "duration": 7,
    "start_time": "2022-06-03T12:59:42.979Z"
   },
   {
    "duration": 3,
    "start_time": "2022-06-03T13:00:55.680Z"
   },
   {
    "duration": 11,
    "start_time": "2022-06-03T13:00:59.232Z"
   },
   {
    "duration": 92,
    "start_time": "2022-06-03T13:13:52.820Z"
   },
   {
    "duration": 14,
    "start_time": "2022-06-03T13:29:14.673Z"
   },
   {
    "duration": 15,
    "start_time": "2022-06-03T13:39:08.546Z"
   },
   {
    "duration": 15,
    "start_time": "2022-06-03T14:20:11.260Z"
   },
   {
    "duration": 466,
    "start_time": "2022-06-03T19:52:32.784Z"
   },
   {
    "duration": 41,
    "start_time": "2022-06-03T19:52:33.252Z"
   },
   {
    "duration": 75,
    "start_time": "2022-06-03T19:52:33.294Z"
   },
   {
    "duration": 15,
    "start_time": "2022-06-03T19:52:33.371Z"
   },
   {
    "duration": 14,
    "start_time": "2022-06-03T19:52:33.387Z"
   },
   {
    "duration": 26,
    "start_time": "2022-06-03T19:52:33.402Z"
   },
   {
    "duration": 29,
    "start_time": "2022-06-03T19:52:33.430Z"
   },
   {
    "duration": 2,
    "start_time": "2022-06-03T19:52:33.461Z"
   },
   {
    "duration": 15,
    "start_time": "2022-06-03T19:52:33.464Z"
   },
   {
    "duration": 90,
    "start_time": "2022-06-03T19:52:33.482Z"
   },
   {
    "duration": 12,
    "start_time": "2022-06-03T19:52:33.573Z"
   },
   {
    "duration": 25,
    "start_time": "2022-06-03T19:52:33.587Z"
   },
   {
    "duration": 22,
    "start_time": "2022-06-03T19:52:33.614Z"
   },
   {
    "duration": 581,
    "start_time": "2022-06-04T11:36:00.508Z"
   },
   {
    "duration": 53,
    "start_time": "2022-06-04T11:36:01.094Z"
   },
   {
    "duration": 86,
    "start_time": "2022-06-04T11:36:01.149Z"
   },
   {
    "duration": 16,
    "start_time": "2022-06-04T11:36:01.237Z"
   },
   {
    "duration": 16,
    "start_time": "2022-06-04T11:36:01.256Z"
   },
   {
    "duration": 54,
    "start_time": "2022-06-04T11:36:01.274Z"
   },
   {
    "duration": 23,
    "start_time": "2022-06-04T11:36:01.330Z"
   },
   {
    "duration": 2,
    "start_time": "2022-06-04T11:36:01.355Z"
   },
   {
    "duration": 16,
    "start_time": "2022-06-04T11:36:01.359Z"
   },
   {
    "duration": 100,
    "start_time": "2022-06-04T11:36:01.377Z"
   },
   {
    "duration": 20,
    "start_time": "2022-06-04T11:36:01.480Z"
   },
   {
    "duration": 24,
    "start_time": "2022-06-04T11:36:01.502Z"
   },
   {
    "duration": 16,
    "start_time": "2022-06-04T11:36:01.528Z"
   },
   {
    "duration": 18,
    "start_time": "2022-06-04T13:10:20.909Z"
   },
   {
    "duration": 5966,
    "start_time": "2022-06-04T13:11:01.835Z"
   },
   {
    "duration": 78893,
    "start_time": "2022-06-04T13:11:32.533Z"
   },
   {
    "duration": 16,
    "start_time": "2022-06-04T13:13:07.523Z"
   },
   {
    "duration": 193,
    "start_time": "2022-06-04T13:49:32.438Z"
   },
   {
    "duration": 155,
    "start_time": "2022-06-04T13:52:26.712Z"
   },
   {
    "duration": 94,
    "start_time": "2022-06-04T13:53:13.166Z"
   },
   {
    "duration": 13,
    "start_time": "2022-06-04T13:53:25.913Z"
   },
   {
    "duration": 51,
    "start_time": "2022-06-04T13:53:35.712Z"
   },
   {
    "duration": 14,
    "start_time": "2022-06-04T13:54:39.756Z"
   },
   {
    "duration": 49,
    "start_time": "2022-06-04T13:54:48.735Z"
   },
   {
    "duration": 59,
    "start_time": "2022-06-04T13:55:11.511Z"
   },
   {
    "duration": 70,
    "start_time": "2022-06-04T13:55:17.651Z"
   },
   {
    "duration": 23,
    "start_time": "2022-06-04T13:59:08.257Z"
   },
   {
    "duration": 560,
    "start_time": "2022-06-04T16:32:35.345Z"
   },
   {
    "duration": 77,
    "start_time": "2022-06-04T16:32:35.907Z"
   },
   {
    "duration": 114,
    "start_time": "2022-06-04T16:32:35.986Z"
   },
   {
    "duration": 42,
    "start_time": "2022-06-04T16:32:36.102Z"
   },
   {
    "duration": 17,
    "start_time": "2022-06-04T16:32:36.145Z"
   },
   {
    "duration": 45,
    "start_time": "2022-06-04T16:32:36.163Z"
   },
   {
    "duration": 42,
    "start_time": "2022-06-04T16:32:36.210Z"
   },
   {
    "duration": 3,
    "start_time": "2022-06-04T16:32:36.254Z"
   },
   {
    "duration": 18,
    "start_time": "2022-06-04T16:32:36.259Z"
   },
   {
    "duration": 14,
    "start_time": "2022-06-04T16:32:36.280Z"
   },
   {
    "duration": 43,
    "start_time": "2022-06-04T16:32:36.298Z"
   },
   {
    "duration": 15,
    "start_time": "2022-06-04T16:32:36.343Z"
   },
   {
    "duration": 14,
    "start_time": "2022-06-04T16:32:36.360Z"
   },
   {
    "duration": 599,
    "start_time": "2022-06-04T16:49:38.274Z"
   },
   {
    "duration": 71,
    "start_time": "2022-06-04T16:49:38.875Z"
   },
   {
    "duration": 101,
    "start_time": "2022-06-04T16:49:38.948Z"
   },
   {
    "duration": 17,
    "start_time": "2022-06-04T16:49:39.051Z"
   },
   {
    "duration": 19,
    "start_time": "2022-06-04T16:49:39.071Z"
   },
   {
    "duration": 49,
    "start_time": "2022-06-04T16:49:39.092Z"
   },
   {
    "duration": 22,
    "start_time": "2022-06-04T16:49:39.143Z"
   },
   {
    "duration": 4,
    "start_time": "2022-06-04T16:49:39.167Z"
   },
   {
    "duration": 56,
    "start_time": "2022-06-04T16:49:39.173Z"
   },
   {
    "duration": 14,
    "start_time": "2022-06-04T16:49:39.231Z"
   },
   {
    "duration": 35,
    "start_time": "2022-06-04T16:49:39.247Z"
   },
   {
    "duration": 39,
    "start_time": "2022-06-04T16:49:39.284Z"
   },
   {
    "duration": 17,
    "start_time": "2022-06-04T16:49:39.325Z"
   },
   {
    "duration": 102,
    "start_time": "2022-06-04T16:59:05.020Z"
   },
   {
    "duration": 49,
    "start_time": "2022-06-04T17:03:03.335Z"
   },
   {
    "duration": 56,
    "start_time": "2022-06-04T17:03:07.012Z"
   },
   {
    "duration": 170,
    "start_time": "2022-06-04T17:05:46.605Z"
   },
   {
    "duration": 67,
    "start_time": "2022-06-04T17:06:12.041Z"
   },
   {
    "duration": 512,
    "start_time": "2022-06-04T17:06:32.720Z"
   },
   {
    "duration": 31,
    "start_time": "2022-06-04T17:08:18.114Z"
   },
   {
    "duration": 29,
    "start_time": "2022-06-04T17:08:21.641Z"
   },
   {
    "duration": 63,
    "start_time": "2022-06-04T17:08:41.005Z"
   },
   {
    "duration": 69,
    "start_time": "2022-06-04T18:33:07.004Z"
   },
   {
    "duration": 25,
    "start_time": "2022-06-04T18:33:34.943Z"
   },
   {
    "duration": 223,
    "start_time": "2022-06-04T18:35:10.512Z"
   },
   {
    "duration": 55,
    "start_time": "2022-06-04T18:35:38.378Z"
   },
   {
    "duration": 105,
    "start_time": "2022-06-04T18:39:13.911Z"
   },
   {
    "duration": 52,
    "start_time": "2022-06-04T18:39:33.414Z"
   },
   {
    "duration": 27,
    "start_time": "2022-06-04T18:41:15.634Z"
   },
   {
    "duration": 44,
    "start_time": "2022-06-04T18:41:35.924Z"
   },
   {
    "duration": 72,
    "start_time": "2022-06-04T18:41:50.980Z"
   },
   {
    "duration": 22,
    "start_time": "2022-06-04T18:54:36.749Z"
   },
   {
    "duration": 50,
    "start_time": "2022-06-04T18:54:48.594Z"
   },
   {
    "duration": 585,
    "start_time": "2022-06-22T20:54:09.911Z"
   },
   {
    "duration": 6482,
    "start_time": "2022-06-22T20:54:10.499Z"
   },
   {
    "duration": 308,
    "start_time": "2022-06-22T20:54:16.983Z"
   },
   {
    "duration": 89,
    "start_time": "2022-06-22T20:54:17.294Z"
   },
   {
    "duration": 92,
    "start_time": "2022-06-22T20:54:17.385Z"
   },
   {
    "duration": 106,
    "start_time": "2022-06-22T20:54:17.479Z"
   },
   {
    "duration": 118,
    "start_time": "2022-06-22T20:54:17.586Z"
   },
   {
    "duration": 3,
    "start_time": "2022-06-22T20:54:17.705Z"
   },
   {
    "duration": 90,
    "start_time": "2022-06-22T20:54:17.709Z"
   },
   {
    "duration": 95,
    "start_time": "2022-06-22T20:54:17.802Z"
   },
   {
    "duration": 80,
    "start_time": "2022-06-22T20:54:17.898Z"
   },
   {
    "duration": 83,
    "start_time": "2022-06-22T20:54:17.980Z"
   },
   {
    "duration": 86,
    "start_time": "2022-06-22T20:54:18.064Z"
   },
   {
    "duration": 566,
    "start_time": "2022-06-22T21:01:04.667Z"
   },
   {
    "duration": 8663,
    "start_time": "2022-06-22T21:01:05.235Z"
   },
   {
    "duration": 351,
    "start_time": "2022-06-22T21:01:13.900Z"
   },
   {
    "duration": 113,
    "start_time": "2022-06-22T21:01:14.255Z"
   },
   {
    "duration": 102,
    "start_time": "2022-06-22T21:01:14.373Z"
   },
   {
    "duration": 127,
    "start_time": "2022-06-22T21:01:14.477Z"
   },
   {
    "duration": 130,
    "start_time": "2022-06-22T21:01:14.606Z"
   },
   {
    "duration": 10,
    "start_time": "2022-06-22T21:01:14.742Z"
   },
   {
    "duration": 121,
    "start_time": "2022-06-22T21:01:14.758Z"
   },
   {
    "duration": 98,
    "start_time": "2022-06-22T21:01:14.881Z"
   },
   {
    "duration": 105,
    "start_time": "2022-06-22T21:01:14.982Z"
   },
   {
    "duration": 100,
    "start_time": "2022-06-22T21:01:15.089Z"
   },
   {
    "duration": 93,
    "start_time": "2022-06-22T21:01:15.191Z"
   }
  ],
  "kernelspec": {
   "display_name": "Python 3 (ipykernel)",
   "language": "python",
   "name": "python3"
  },
  "language_info": {
   "codemirror_mode": {
    "name": "ipython",
    "version": 3
   },
   "file_extension": ".py",
   "mimetype": "text/x-python",
   "name": "python",
   "nbconvert_exporter": "python",
   "pygments_lexer": "ipython3",
   "version": "3.9.5"
  },
  "toc": {
   "base_numbering": 1,
   "nav_menu": {},
   "number_sections": true,
   "sideBar": true,
   "skip_h1_title": true,
   "title_cell": "Table of Contents",
   "title_sidebar": "Contents",
   "toc_cell": false,
   "toc_position": {},
   "toc_section_display": true,
   "toc_window_display": false
  }
 },
 "nbformat": 4,
 "nbformat_minor": 2
}
