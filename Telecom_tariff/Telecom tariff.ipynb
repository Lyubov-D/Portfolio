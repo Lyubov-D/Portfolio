{
 "cells": [
  {
   "cell_type": "markdown",
   "metadata": {},
   "source": [
    "# Определение перспективного тарифа для телеком-компании\n",
    "\n",
    "Компания «Мегалайн» — федерального оператора сотовой связи. Клиентам предлагают два тарифных плана: «Смарт» и «Ультра». Чтобы скорректировать рекламный бюджет, коммерческий департамент хочет понять, какой тариф приносит больше денег.\n",
    "Необходимо провести предварительный анализ тарифов на небольшой выборке клиентов. \n",
    "\n",
    "В распоряжении данные 500 пользователей «Мегалайна»: кто они, откуда, каким тарифом пользуются, сколько звонков и сообщений каждый отправил за 2018 год. Нужно проанализировать поведение клиентов и сделать вывод — какой тариф лучше.  \n",
    "\n",
    "**Описание тарифов**\n",
    "\n",
    "*Тариф «Смарт»*  \n",
    "\n",
    "Ежемесячная плата: 550 рублей\n",
    "Включено 500 минут разговора, 50 сообщений и 15 Гб интернет-трафика\n",
    "Стоимость услуг сверх тарифного пакета: 1. минута разговора: 3 рубля («Мегалайн» всегда округляет вверх значения минут и мегабайтов. Если пользователь проговорил всего 1 секунду, в тарифе засчитывается целая минута); 2. сообщение: 3 рубля; 3. 1 Гб интернет-трафика: 200 рублей.\n",
    "\n",
    "*Тариф «Ультра»*  \n",
    "\n",
    "Ежемесячная плата: 1950 рублей\n",
    "Включено 3000 минут разговора, 1000 сообщений и 30 Гб интернет-трафика\n",
    "Стоимость услуг сверх тарифного пакета: 1. минута разговора: 1 рубль; 2. сообщение: 1 рубль; 3. 1 Гб интернет-трафика: 150 рублей.\n",
    "\n",
    "**Примечание:**\n",
    "\n",
    "«Мегалайн» всегда округляет секунды до минут, а мегабайты — до гигабайт. Каждый звонок округляется отдельно: даже если он длился всего 1 секунду, будет засчитан как 1 минута.\n",
    "Для веб-трафика отдельные сессии не считаются. Вместо этого общая сумма за месяц округляется в бо́льшую сторону. Если абонент использует 1025 мегабайт в этом месяце, с него возьмут плату за 2 гигабайта.\n",
    "\n",
    "**Описание данных**\n",
    "\n",
    "*Таблица users (информация о пользователях):*\n",
    "\n",
    "- user_id — уникальный идентификатор пользователя\n",
    "- first_name — имя пользователя\n",
    "- last_name — фамилия пользователя\n",
    "- age — возраст пользователя (годы)\n",
    "- reg_date — дата подключения тарифа (день, месяц, год)\n",
    "- churn_date — дата прекращения пользования тарифом (если значение пропущено, то тариф ещё действовал на момент выгрузки данных)\n",
    "- city — город проживания пользователя\n",
    "- tarif — название тарифного плана\n",
    "\n",
    "*Таблица calls (информация о звонках):* \n",
    "\n",
    "- id — уникальный номер звонка\n",
    "- call_date — дата звонка\n",
    "- duration — длительность звонка в минутах\n",
    "- user_id — идентификатор пользователя, сделавшего звонок\n",
    "\n",
    "*Таблица messages (информация о сообщениях):*  \n",
    "\n",
    "- id — уникальный номер сообщения\n",
    "- message_date — дата сообщения\n",
    "- user_id — идентификатор пользователя, отправившего сообщение\n",
    "\n",
    "*Таблица internet (информация об интернет-сессиях):*  \n",
    "\n",
    "- id — уникальный номер сессии\n",
    "- mb_used — объём потраченного за сессию интернет-трафика (в мегабайтах)\n",
    "- session_date — дата интернет-сессии\n",
    "- user_id — идентификатор пользователя\n",
    "\n",
    "*Таблица tariffs (информация о тарифах):*\n",
    "\n",
    "- tariff_name — название тарифа\n",
    "- rub_monthly_fee — ежемесячная абонентская плата в рублях\n",
    "- minutes_included — количество минут разговора в месяц, включённых в абонентскую плату\n",
    "- messages_included — количество сообщений в месяц, включённых в абонентскую плату\n",
    "- mb_per_month_included — объём интернет-трафика, включённого в абонентскую плату (в мегабайтах)\n",
    "- rub_per_minute — стоимость минуты разговора сверх тарифного пакета (например, если в тарифе 100 минут разговора в месяц, то со 101 минуты будет взиматься плата)\n",
    "- rub_per_message — стоимость отправки сообщения сверх тарифного пакета\n",
    "- rub_per_gb — стоимость дополнительного гигабайта интернет-трафика сверх тарифного пакета (1 гигабайт = 1024 мегабайта)"
   ]
  },
  {
   "cell_type": "markdown",
   "metadata": {},
   "source": [
    "## Изучение данных из файлов и предобработка данных"
   ]
  },
  {
   "cell_type": "code",
   "execution_count": 1,
   "metadata": {},
   "outputs": [
    {
     "data": {
      "text/html": [
       "<div>\n",
       "<style scoped>\n",
       "    .dataframe tbody tr th:only-of-type {\n",
       "        vertical-align: middle;\n",
       "    }\n",
       "\n",
       "    .dataframe tbody tr th {\n",
       "        vertical-align: top;\n",
       "    }\n",
       "\n",
       "    .dataframe thead th {\n",
       "        text-align: right;\n",
       "    }\n",
       "</style>\n",
       "<table border=\"1\" class=\"dataframe\">\n",
       "  <thead>\n",
       "    <tr style=\"text-align: right;\">\n",
       "      <th></th>\n",
       "      <th>id</th>\n",
       "      <th>call_date</th>\n",
       "      <th>duration</th>\n",
       "      <th>user_id</th>\n",
       "    </tr>\n",
       "  </thead>\n",
       "  <tbody>\n",
       "    <tr>\n",
       "      <th>0</th>\n",
       "      <td>1000_0</td>\n",
       "      <td>2018-07-25</td>\n",
       "      <td>0.00</td>\n",
       "      <td>1000</td>\n",
       "    </tr>\n",
       "    <tr>\n",
       "      <th>1</th>\n",
       "      <td>1000_1</td>\n",
       "      <td>2018-08-17</td>\n",
       "      <td>0.00</td>\n",
       "      <td>1000</td>\n",
       "    </tr>\n",
       "    <tr>\n",
       "      <th>2</th>\n",
       "      <td>1000_2</td>\n",
       "      <td>2018-06-11</td>\n",
       "      <td>2.85</td>\n",
       "      <td>1000</td>\n",
       "    </tr>\n",
       "    <tr>\n",
       "      <th>3</th>\n",
       "      <td>1000_3</td>\n",
       "      <td>2018-09-21</td>\n",
       "      <td>13.80</td>\n",
       "      <td>1000</td>\n",
       "    </tr>\n",
       "    <tr>\n",
       "      <th>4</th>\n",
       "      <td>1000_4</td>\n",
       "      <td>2018-12-15</td>\n",
       "      <td>5.18</td>\n",
       "      <td>1000</td>\n",
       "    </tr>\n",
       "    <tr>\n",
       "      <th>5</th>\n",
       "      <td>1000_5</td>\n",
       "      <td>2018-11-02</td>\n",
       "      <td>0.00</td>\n",
       "      <td>1000</td>\n",
       "    </tr>\n",
       "    <tr>\n",
       "      <th>6</th>\n",
       "      <td>1000_6</td>\n",
       "      <td>2018-10-18</td>\n",
       "      <td>0.00</td>\n",
       "      <td>1000</td>\n",
       "    </tr>\n",
       "    <tr>\n",
       "      <th>7</th>\n",
       "      <td>1000_7</td>\n",
       "      <td>2018-08-22</td>\n",
       "      <td>18.31</td>\n",
       "      <td>1000</td>\n",
       "    </tr>\n",
       "    <tr>\n",
       "      <th>8</th>\n",
       "      <td>1000_8</td>\n",
       "      <td>2018-09-15</td>\n",
       "      <td>18.44</td>\n",
       "      <td>1000</td>\n",
       "    </tr>\n",
       "    <tr>\n",
       "      <th>9</th>\n",
       "      <td>1000_9</td>\n",
       "      <td>2018-08-15</td>\n",
       "      <td>0.00</td>\n",
       "      <td>1000</td>\n",
       "    </tr>\n",
       "  </tbody>\n",
       "</table>\n",
       "</div>"
      ],
      "text/plain": [
       "       id   call_date  duration  user_id\n",
       "0  1000_0  2018-07-25      0.00     1000\n",
       "1  1000_1  2018-08-17      0.00     1000\n",
       "2  1000_2  2018-06-11      2.85     1000\n",
       "3  1000_3  2018-09-21     13.80     1000\n",
       "4  1000_4  2018-12-15      5.18     1000\n",
       "5  1000_5  2018-11-02      0.00     1000\n",
       "6  1000_6  2018-10-18      0.00     1000\n",
       "7  1000_7  2018-08-22     18.31     1000\n",
       "8  1000_8  2018-09-15     18.44     1000\n",
       "9  1000_9  2018-08-15      0.00     1000"
      ]
     },
     "execution_count": 1,
     "metadata": {},
     "output_type": "execute_result"
    }
   ],
   "source": [
    "import pandas as pd # импорт библиотеки pandas\n",
    "import matplotlib.pyplot as plt #\n",
    "import numpy as np\n",
    "from scipy import stats as st\n",
    "сalls = pd.read_csv('/datasets/calls.csv')  # чтение файла с данными\n",
    "сalls.head(10) # получение первых 10 строк таблицы"
   ]
  },
  {
   "cell_type": "code",
   "execution_count": 2,
   "metadata": {
    "scrolled": false
   },
   "outputs": [
    {
     "name": "stdout",
     "output_type": "stream",
     "text": [
      "<class 'pandas.core.frame.DataFrame'>\n",
      "RangeIndex: 202607 entries, 0 to 202606\n",
      "Data columns (total 4 columns):\n",
      " #   Column     Non-Null Count   Dtype  \n",
      "---  ------     --------------   -----  \n",
      " 0   id         202607 non-null  object \n",
      " 1   call_date  202607 non-null  object \n",
      " 2   duration   202607 non-null  float64\n",
      " 3   user_id    202607 non-null  int64  \n",
      "dtypes: float64(1), int64(1), object(2)\n",
      "memory usage: 6.2+ MB\n"
     ]
    }
   ],
   "source": [
    "сalls.info() # посмотрим информацию об общем количестве строк,колонок и их названии, о типе данных"
   ]
  },
  {
   "cell_type": "code",
   "execution_count": 3,
   "metadata": {},
   "outputs": [
    {
     "data": {
      "text/html": [
       "<div>\n",
       "<style scoped>\n",
       "    .dataframe tbody tr th:only-of-type {\n",
       "        vertical-align: middle;\n",
       "    }\n",
       "\n",
       "    .dataframe tbody tr th {\n",
       "        vertical-align: top;\n",
       "    }\n",
       "\n",
       "    .dataframe thead th {\n",
       "        text-align: right;\n",
       "    }\n",
       "</style>\n",
       "<table border=\"1\" class=\"dataframe\">\n",
       "  <thead>\n",
       "    <tr style=\"text-align: right;\">\n",
       "      <th></th>\n",
       "      <th>id</th>\n",
       "      <th>call_date</th>\n",
       "      <th>duration</th>\n",
       "      <th>user_id</th>\n",
       "      <th>month</th>\n",
       "    </tr>\n",
       "  </thead>\n",
       "  <tbody>\n",
       "    <tr>\n",
       "      <th>0</th>\n",
       "      <td>1000_0</td>\n",
       "      <td>2018-07-25</td>\n",
       "      <td>0</td>\n",
       "      <td>1000</td>\n",
       "      <td>7</td>\n",
       "    </tr>\n",
       "    <tr>\n",
       "      <th>1</th>\n",
       "      <td>1000_1</td>\n",
       "      <td>2018-08-17</td>\n",
       "      <td>0</td>\n",
       "      <td>1000</td>\n",
       "      <td>8</td>\n",
       "    </tr>\n",
       "    <tr>\n",
       "      <th>2</th>\n",
       "      <td>1000_2</td>\n",
       "      <td>2018-06-11</td>\n",
       "      <td>3</td>\n",
       "      <td>1000</td>\n",
       "      <td>6</td>\n",
       "    </tr>\n",
       "    <tr>\n",
       "      <th>3</th>\n",
       "      <td>1000_3</td>\n",
       "      <td>2018-09-21</td>\n",
       "      <td>14</td>\n",
       "      <td>1000</td>\n",
       "      <td>9</td>\n",
       "    </tr>\n",
       "    <tr>\n",
       "      <th>4</th>\n",
       "      <td>1000_4</td>\n",
       "      <td>2018-12-15</td>\n",
       "      <td>6</td>\n",
       "      <td>1000</td>\n",
       "      <td>12</td>\n",
       "    </tr>\n",
       "  </tbody>\n",
       "</table>\n",
       "</div>"
      ],
      "text/plain": [
       "       id   call_date  duration  user_id  month\n",
       "0  1000_0  2018-07-25         0     1000      7\n",
       "1  1000_1  2018-08-17         0     1000      8\n",
       "2  1000_2  2018-06-11         3     1000      6\n",
       "3  1000_3  2018-09-21        14     1000      9\n",
       "4  1000_4  2018-12-15         6     1000     12"
      ]
     },
     "execution_count": 3,
     "metadata": {},
     "output_type": "execute_result"
    }
   ],
   "source": [
    "сalls['month'] = pd.DatetimeIndex(сalls['call_date']).month #создаем столбец с месяцем\n",
    "сalls['month'] = сalls['month'].astype('Int64') #меняем тип данных\n",
    "сalls['duration'] = np.ceil(сalls['duration']).astype(int) # округляем звонки до минут в большую сторону\n",
    "сalls.head() # проверим выполнение действий"
   ]
  },
  {
   "cell_type": "code",
   "execution_count": 4,
   "metadata": {},
   "outputs": [
    {
     "data": {
      "text/plain": [
       "0     39613\n",
       "7     11510\n",
       "6     11457\n",
       "5     11411\n",
       "8     11272\n",
       "9     10973\n",
       "4     10918\n",
       "3     10362\n",
       "10    10186\n",
       "11     9385\n",
       "2      9194\n",
       "12     8448\n",
       "1      8402\n",
       "13     7486\n",
       "14     6554\n",
       "15     5505\n",
       "16     4551\n",
       "17     3671\n",
       "18     2984\n",
       "19     2411\n",
       "20     1806\n",
       "21     1304\n",
       "22      975\n",
       "23      720\n",
       "24      468\n",
       "25      363\n",
       "26      257\n",
       "27      151\n",
       "28      104\n",
       "29       56\n",
       "30       39\n",
       "31       30\n",
       "32       17\n",
       "33       10\n",
       "35        5\n",
       "34        3\n",
       "36        2\n",
       "37        2\n",
       "38        2\n",
       "Name: duration, dtype: int64"
      ]
     },
     "execution_count": 4,
     "metadata": {},
     "output_type": "execute_result"
    }
   ],
   "source": [
    "сalls['duration'].value_counts() #поиск неявных дубликатов в столбце"
   ]
  },
  {
   "cell_type": "code",
   "execution_count": 5,
   "metadata": {},
   "outputs": [
    {
     "data": {
      "text/plain": [
       "'Количество израсходованных минут разговора и количество сделанных звонков'"
      ]
     },
     "metadata": {},
     "output_type": "display_data"
    },
    {
     "data": {
      "text/html": [
       "<div>\n",
       "<style scoped>\n",
       "    .dataframe tbody tr th:only-of-type {\n",
       "        vertical-align: middle;\n",
       "    }\n",
       "\n",
       "    .dataframe tbody tr th {\n",
       "        vertical-align: top;\n",
       "    }\n",
       "\n",
       "    .dataframe thead tr th {\n",
       "        text-align: left;\n",
       "    }\n",
       "</style>\n",
       "<table border=\"1\" class=\"dataframe\">\n",
       "  <thead>\n",
       "    <tr>\n",
       "      <th></th>\n",
       "      <th>user_id</th>\n",
       "      <th>month</th>\n",
       "      <th>count</th>\n",
       "      <th>sum</th>\n",
       "    </tr>\n",
       "    <tr>\n",
       "      <th></th>\n",
       "      <th></th>\n",
       "      <th></th>\n",
       "      <th>duration</th>\n",
       "      <th>duration</th>\n",
       "    </tr>\n",
       "  </thead>\n",
       "  <tbody>\n",
       "    <tr>\n",
       "      <th>0</th>\n",
       "      <td>1000</td>\n",
       "      <td>5</td>\n",
       "      <td>22</td>\n",
       "      <td>159</td>\n",
       "    </tr>\n",
       "    <tr>\n",
       "      <th>1</th>\n",
       "      <td>1000</td>\n",
       "      <td>6</td>\n",
       "      <td>43</td>\n",
       "      <td>172</td>\n",
       "    </tr>\n",
       "    <tr>\n",
       "      <th>2</th>\n",
       "      <td>1000</td>\n",
       "      <td>7</td>\n",
       "      <td>47</td>\n",
       "      <td>340</td>\n",
       "    </tr>\n",
       "    <tr>\n",
       "      <th>3</th>\n",
       "      <td>1000</td>\n",
       "      <td>8</td>\n",
       "      <td>52</td>\n",
       "      <td>408</td>\n",
       "    </tr>\n",
       "    <tr>\n",
       "      <th>4</th>\n",
       "      <td>1000</td>\n",
       "      <td>9</td>\n",
       "      <td>58</td>\n",
       "      <td>466</td>\n",
       "    </tr>\n",
       "    <tr>\n",
       "      <th>5</th>\n",
       "      <td>1000</td>\n",
       "      <td>10</td>\n",
       "      <td>57</td>\n",
       "      <td>350</td>\n",
       "    </tr>\n",
       "    <tr>\n",
       "      <th>6</th>\n",
       "      <td>1000</td>\n",
       "      <td>11</td>\n",
       "      <td>43</td>\n",
       "      <td>338</td>\n",
       "    </tr>\n",
       "    <tr>\n",
       "      <th>7</th>\n",
       "      <td>1000</td>\n",
       "      <td>12</td>\n",
       "      <td>46</td>\n",
       "      <td>333</td>\n",
       "    </tr>\n",
       "    <tr>\n",
       "      <th>8</th>\n",
       "      <td>1001</td>\n",
       "      <td>11</td>\n",
       "      <td>59</td>\n",
       "      <td>430</td>\n",
       "    </tr>\n",
       "    <tr>\n",
       "      <th>9</th>\n",
       "      <td>1001</td>\n",
       "      <td>12</td>\n",
       "      <td>63</td>\n",
       "      <td>414</td>\n",
       "    </tr>\n",
       "  </tbody>\n",
       "</table>\n",
       "</div>"
      ],
      "text/plain": [
       "  user_id month    count      sum\n",
       "                duration duration\n",
       "0    1000     5       22      159\n",
       "1    1000     6       43      172\n",
       "2    1000     7       47      340\n",
       "3    1000     8       52      408\n",
       "4    1000     9       58      466\n",
       "5    1000    10       57      350\n",
       "6    1000    11       43      338\n",
       "7    1000    12       46      333\n",
       "8    1001    11       59      430\n",
       "9    1001    12       63      414"
      ]
     },
     "metadata": {},
     "output_type": "display_data"
    }
   ],
   "source": [
    "pivot_table_сalls = (сalls.pivot_table(index=['user_id','month'],values='duration',aggfunc=['count','sum'],fill_value=0)).reset_index()\n",
    "display('Количество израсходованных минут разговора и количество сделанных звонков',pivot_table_сalls.head(10))"
   ]
  },
  {
   "cell_type": "code",
   "execution_count": 6,
   "metadata": {},
   "outputs": [
    {
     "data": {
      "text/html": [
       "<div>\n",
       "<style scoped>\n",
       "    .dataframe tbody tr th:only-of-type {\n",
       "        vertical-align: middle;\n",
       "    }\n",
       "\n",
       "    .dataframe tbody tr th {\n",
       "        vertical-align: top;\n",
       "    }\n",
       "\n",
       "    .dataframe thead th {\n",
       "        text-align: right;\n",
       "    }\n",
       "</style>\n",
       "<table border=\"1\" class=\"dataframe\">\n",
       "  <thead>\n",
       "    <tr style=\"text-align: right;\">\n",
       "      <th></th>\n",
       "      <th>user_id</th>\n",
       "      <th>month</th>\n",
       "      <th>calls_count</th>\n",
       "      <th>calls_sum</th>\n",
       "    </tr>\n",
       "  </thead>\n",
       "  <tbody>\n",
       "    <tr>\n",
       "      <th>0</th>\n",
       "      <td>1000</td>\n",
       "      <td>5</td>\n",
       "      <td>22</td>\n",
       "      <td>159</td>\n",
       "    </tr>\n",
       "    <tr>\n",
       "      <th>1</th>\n",
       "      <td>1000</td>\n",
       "      <td>6</td>\n",
       "      <td>43</td>\n",
       "      <td>172</td>\n",
       "    </tr>\n",
       "    <tr>\n",
       "      <th>2</th>\n",
       "      <td>1000</td>\n",
       "      <td>7</td>\n",
       "      <td>47</td>\n",
       "      <td>340</td>\n",
       "    </tr>\n",
       "    <tr>\n",
       "      <th>3</th>\n",
       "      <td>1000</td>\n",
       "      <td>8</td>\n",
       "      <td>52</td>\n",
       "      <td>408</td>\n",
       "    </tr>\n",
       "    <tr>\n",
       "      <th>4</th>\n",
       "      <td>1000</td>\n",
       "      <td>9</td>\n",
       "      <td>58</td>\n",
       "      <td>466</td>\n",
       "    </tr>\n",
       "    <tr>\n",
       "      <th>5</th>\n",
       "      <td>1000</td>\n",
       "      <td>10</td>\n",
       "      <td>57</td>\n",
       "      <td>350</td>\n",
       "    </tr>\n",
       "    <tr>\n",
       "      <th>6</th>\n",
       "      <td>1000</td>\n",
       "      <td>11</td>\n",
       "      <td>43</td>\n",
       "      <td>338</td>\n",
       "    </tr>\n",
       "    <tr>\n",
       "      <th>7</th>\n",
       "      <td>1000</td>\n",
       "      <td>12</td>\n",
       "      <td>46</td>\n",
       "      <td>333</td>\n",
       "    </tr>\n",
       "    <tr>\n",
       "      <th>8</th>\n",
       "      <td>1001</td>\n",
       "      <td>11</td>\n",
       "      <td>59</td>\n",
       "      <td>430</td>\n",
       "    </tr>\n",
       "    <tr>\n",
       "      <th>9</th>\n",
       "      <td>1001</td>\n",
       "      <td>12</td>\n",
       "      <td>63</td>\n",
       "      <td>414</td>\n",
       "    </tr>\n",
       "  </tbody>\n",
       "</table>\n",
       "</div>"
      ],
      "text/plain": [
       "   user_id  month  calls_count  calls_sum\n",
       "0     1000      5           22        159\n",
       "1     1000      6           43        172\n",
       "2     1000      7           47        340\n",
       "3     1000      8           52        408\n",
       "4     1000      9           58        466\n",
       "5     1000     10           57        350\n",
       "6     1000     11           43        338\n",
       "7     1000     12           46        333\n",
       "8     1001     11           59        430\n",
       "9     1001     12           63        414"
      ]
     },
     "metadata": {},
     "output_type": "display_data"
    }
   ],
   "source": [
    "pivot_table_сalls.columns=['user_id','month','calls_count','calls_sum'] # переименовала два последних столбца\n",
    "display(pivot_table_сalls.head(10))"
   ]
  },
  {
   "cell_type": "markdown",
   "metadata": {},
   "source": [
    "**Вывод**\n",
    "\n",
    "Звонки с нулевой продолжительностью это не ошибочные данные: нулями обозначены пропущенные звонки.Округлили звонки до минут, изменив тип данных на целое число.\n",
    "Добавила столбцы с месяцами.\n",
    "\n",
    "Количество израсходованных минут разговора и количество сделанных звонков по месяцам."
   ]
  },
  {
   "cell_type": "code",
   "execution_count": 7,
   "metadata": {},
   "outputs": [
    {
     "data": {
      "text/html": [
       "<div>\n",
       "<style scoped>\n",
       "    .dataframe tbody tr th:only-of-type {\n",
       "        vertical-align: middle;\n",
       "    }\n",
       "\n",
       "    .dataframe tbody tr th {\n",
       "        vertical-align: top;\n",
       "    }\n",
       "\n",
       "    .dataframe thead th {\n",
       "        text-align: right;\n",
       "    }\n",
       "</style>\n",
       "<table border=\"1\" class=\"dataframe\">\n",
       "  <thead>\n",
       "    <tr style=\"text-align: right;\">\n",
       "      <th></th>\n",
       "      <th>Unnamed: 0</th>\n",
       "      <th>id</th>\n",
       "      <th>mb_used</th>\n",
       "      <th>session_date</th>\n",
       "      <th>user_id</th>\n",
       "    </tr>\n",
       "  </thead>\n",
       "  <tbody>\n",
       "    <tr>\n",
       "      <th>0</th>\n",
       "      <td>0</td>\n",
       "      <td>1000_0</td>\n",
       "      <td>112.95</td>\n",
       "      <td>2018-11-25</td>\n",
       "      <td>1000</td>\n",
       "    </tr>\n",
       "    <tr>\n",
       "      <th>1</th>\n",
       "      <td>1</td>\n",
       "      <td>1000_1</td>\n",
       "      <td>1052.81</td>\n",
       "      <td>2018-09-07</td>\n",
       "      <td>1000</td>\n",
       "    </tr>\n",
       "    <tr>\n",
       "      <th>2</th>\n",
       "      <td>2</td>\n",
       "      <td>1000_2</td>\n",
       "      <td>1197.26</td>\n",
       "      <td>2018-06-25</td>\n",
       "      <td>1000</td>\n",
       "    </tr>\n",
       "    <tr>\n",
       "      <th>3</th>\n",
       "      <td>3</td>\n",
       "      <td>1000_3</td>\n",
       "      <td>550.27</td>\n",
       "      <td>2018-08-22</td>\n",
       "      <td>1000</td>\n",
       "    </tr>\n",
       "    <tr>\n",
       "      <th>4</th>\n",
       "      <td>4</td>\n",
       "      <td>1000_4</td>\n",
       "      <td>302.56</td>\n",
       "      <td>2018-09-24</td>\n",
       "      <td>1000</td>\n",
       "    </tr>\n",
       "    <tr>\n",
       "      <th>5</th>\n",
       "      <td>5</td>\n",
       "      <td>1000_5</td>\n",
       "      <td>399.97</td>\n",
       "      <td>2018-10-02</td>\n",
       "      <td>1000</td>\n",
       "    </tr>\n",
       "    <tr>\n",
       "      <th>6</th>\n",
       "      <td>6</td>\n",
       "      <td>1000_6</td>\n",
       "      <td>540.08</td>\n",
       "      <td>2018-09-07</td>\n",
       "      <td>1000</td>\n",
       "    </tr>\n",
       "    <tr>\n",
       "      <th>7</th>\n",
       "      <td>7</td>\n",
       "      <td>1000_7</td>\n",
       "      <td>415.70</td>\n",
       "      <td>2018-07-11</td>\n",
       "      <td>1000</td>\n",
       "    </tr>\n",
       "    <tr>\n",
       "      <th>8</th>\n",
       "      <td>8</td>\n",
       "      <td>1000_8</td>\n",
       "      <td>505.40</td>\n",
       "      <td>2018-10-08</td>\n",
       "      <td>1000</td>\n",
       "    </tr>\n",
       "    <tr>\n",
       "      <th>9</th>\n",
       "      <td>9</td>\n",
       "      <td>1000_9</td>\n",
       "      <td>345.54</td>\n",
       "      <td>2018-09-03</td>\n",
       "      <td>1000</td>\n",
       "    </tr>\n",
       "  </tbody>\n",
       "</table>\n",
       "</div>"
      ],
      "text/plain": [
       "   Unnamed: 0      id  mb_used session_date  user_id\n",
       "0           0  1000_0   112.95   2018-11-25     1000\n",
       "1           1  1000_1  1052.81   2018-09-07     1000\n",
       "2           2  1000_2  1197.26   2018-06-25     1000\n",
       "3           3  1000_3   550.27   2018-08-22     1000\n",
       "4           4  1000_4   302.56   2018-09-24     1000\n",
       "5           5  1000_5   399.97   2018-10-02     1000\n",
       "6           6  1000_6   540.08   2018-09-07     1000\n",
       "7           7  1000_7   415.70   2018-07-11     1000\n",
       "8           8  1000_8   505.40   2018-10-08     1000\n",
       "9           9  1000_9   345.54   2018-09-03     1000"
      ]
     },
     "execution_count": 7,
     "metadata": {},
     "output_type": "execute_result"
    }
   ],
   "source": [
    "internet = pd.read_csv('/datasets/internet.csv') #чтение файла с данными\n",
    "internet.head(10) # получение первых 10 строк таблицы"
   ]
  },
  {
   "cell_type": "code",
   "execution_count": 8,
   "metadata": {},
   "outputs": [
    {
     "name": "stdout",
     "output_type": "stream",
     "text": [
      "<class 'pandas.core.frame.DataFrame'>\n",
      "RangeIndex: 149396 entries, 0 to 149395\n",
      "Data columns (total 5 columns):\n",
      " #   Column        Non-Null Count   Dtype  \n",
      "---  ------        --------------   -----  \n",
      " 0   Unnamed: 0    149396 non-null  int64  \n",
      " 1   id            149396 non-null  object \n",
      " 2   mb_used       149396 non-null  float64\n",
      " 3   session_date  149396 non-null  object \n",
      " 4   user_id       149396 non-null  int64  \n",
      "dtypes: float64(1), int64(2), object(2)\n",
      "memory usage: 5.7+ MB\n"
     ]
    }
   ],
   "source": [
    "internet.info() # посмотрим информацию об общем количестве строк,колонок и их названии, о типе данных"
   ]
  },
  {
   "cell_type": "code",
   "execution_count": 9,
   "metadata": {
    "scrolled": true
   },
   "outputs": [
    {
     "data": {
      "text/html": [
       "<div>\n",
       "<style scoped>\n",
       "    .dataframe tbody tr th:only-of-type {\n",
       "        vertical-align: middle;\n",
       "    }\n",
       "\n",
       "    .dataframe tbody tr th {\n",
       "        vertical-align: top;\n",
       "    }\n",
       "\n",
       "    .dataframe thead th {\n",
       "        text-align: right;\n",
       "    }\n",
       "</style>\n",
       "<table border=\"1\" class=\"dataframe\">\n",
       "  <thead>\n",
       "    <tr style=\"text-align: right;\">\n",
       "      <th></th>\n",
       "      <th>Unnamed: 0</th>\n",
       "      <th>id</th>\n",
       "      <th>mb_used</th>\n",
       "      <th>session_date</th>\n",
       "      <th>user_id</th>\n",
       "      <th>month</th>\n",
       "    </tr>\n",
       "  </thead>\n",
       "  <tbody>\n",
       "    <tr>\n",
       "      <th>0</th>\n",
       "      <td>0</td>\n",
       "      <td>1000_0</td>\n",
       "      <td>0.110303</td>\n",
       "      <td>2018-11-25</td>\n",
       "      <td>1000</td>\n",
       "      <td>11</td>\n",
       "    </tr>\n",
       "    <tr>\n",
       "      <th>1</th>\n",
       "      <td>1</td>\n",
       "      <td>1000_1</td>\n",
       "      <td>1.028135</td>\n",
       "      <td>2018-09-07</td>\n",
       "      <td>1000</td>\n",
       "      <td>9</td>\n",
       "    </tr>\n",
       "    <tr>\n",
       "      <th>2</th>\n",
       "      <td>2</td>\n",
       "      <td>1000_2</td>\n",
       "      <td>1.169199</td>\n",
       "      <td>2018-06-25</td>\n",
       "      <td>1000</td>\n",
       "      <td>6</td>\n",
       "    </tr>\n",
       "    <tr>\n",
       "      <th>3</th>\n",
       "      <td>3</td>\n",
       "      <td>1000_3</td>\n",
       "      <td>0.537373</td>\n",
       "      <td>2018-08-22</td>\n",
       "      <td>1000</td>\n",
       "      <td>8</td>\n",
       "    </tr>\n",
       "    <tr>\n",
       "      <th>4</th>\n",
       "      <td>4</td>\n",
       "      <td>1000_4</td>\n",
       "      <td>0.295469</td>\n",
       "      <td>2018-09-24</td>\n",
       "      <td>1000</td>\n",
       "      <td>9</td>\n",
       "    </tr>\n",
       "    <tr>\n",
       "      <th>5</th>\n",
       "      <td>5</td>\n",
       "      <td>1000_5</td>\n",
       "      <td>0.390596</td>\n",
       "      <td>2018-10-02</td>\n",
       "      <td>1000</td>\n",
       "      <td>10</td>\n",
       "    </tr>\n",
       "    <tr>\n",
       "      <th>6</th>\n",
       "      <td>6</td>\n",
       "      <td>1000_6</td>\n",
       "      <td>0.527422</td>\n",
       "      <td>2018-09-07</td>\n",
       "      <td>1000</td>\n",
       "      <td>9</td>\n",
       "    </tr>\n",
       "    <tr>\n",
       "      <th>7</th>\n",
       "      <td>7</td>\n",
       "      <td>1000_7</td>\n",
       "      <td>0.405957</td>\n",
       "      <td>2018-07-11</td>\n",
       "      <td>1000</td>\n",
       "      <td>7</td>\n",
       "    </tr>\n",
       "    <tr>\n",
       "      <th>8</th>\n",
       "      <td>8</td>\n",
       "      <td>1000_8</td>\n",
       "      <td>0.493555</td>\n",
       "      <td>2018-10-08</td>\n",
       "      <td>1000</td>\n",
       "      <td>10</td>\n",
       "    </tr>\n",
       "    <tr>\n",
       "      <th>9</th>\n",
       "      <td>9</td>\n",
       "      <td>1000_9</td>\n",
       "      <td>0.337441</td>\n",
       "      <td>2018-09-03</td>\n",
       "      <td>1000</td>\n",
       "      <td>9</td>\n",
       "    </tr>\n",
       "  </tbody>\n",
       "</table>\n",
       "</div>"
      ],
      "text/plain": [
       "   Unnamed: 0      id   mb_used session_date  user_id  month\n",
       "0           0  1000_0  0.110303   2018-11-25     1000     11\n",
       "1           1  1000_1  1.028135   2018-09-07     1000      9\n",
       "2           2  1000_2  1.169199   2018-06-25     1000      6\n",
       "3           3  1000_3  0.537373   2018-08-22     1000      8\n",
       "4           4  1000_4  0.295469   2018-09-24     1000      9\n",
       "5           5  1000_5  0.390596   2018-10-02     1000     10\n",
       "6           6  1000_6  0.527422   2018-09-07     1000      9\n",
       "7           7  1000_7  0.405957   2018-07-11     1000      7\n",
       "8           8  1000_8  0.493555   2018-10-08     1000     10\n",
       "9           9  1000_9  0.337441   2018-09-03     1000      9"
      ]
     },
     "execution_count": 9,
     "metadata": {},
     "output_type": "execute_result"
    }
   ],
   "source": [
    "internet['month'] = pd.DatetimeIndex(internet['session_date']).month #создаем столбец с месяцем\n",
    "internet['month'] = internet['month'].astype('Int64') #меняем тип данных\n",
    "internet['mb_used'] = internet['mb_used']/1024 # переводим мегабайты в гигабайты\n",
    "internet.head(10)"
   ]
  },
  {
   "cell_type": "code",
   "execution_count": 10,
   "metadata": {},
   "outputs": [
    {
     "data": {
      "text/plain": [
       "'Объем израсходованного интернет-трафика'"
      ]
     },
     "metadata": {},
     "output_type": "display_data"
    },
    {
     "data": {
      "text/html": [
       "<div>\n",
       "<style scoped>\n",
       "    .dataframe tbody tr th:only-of-type {\n",
       "        vertical-align: middle;\n",
       "    }\n",
       "\n",
       "    .dataframe tbody tr th {\n",
       "        vertical-align: top;\n",
       "    }\n",
       "\n",
       "    .dataframe thead th {\n",
       "        text-align: right;\n",
       "    }\n",
       "</style>\n",
       "<table border=\"1\" class=\"dataframe\">\n",
       "  <thead>\n",
       "    <tr style=\"text-align: right;\">\n",
       "      <th></th>\n",
       "      <th>user_id</th>\n",
       "      <th>month</th>\n",
       "      <th>mb_used</th>\n",
       "    </tr>\n",
       "  </thead>\n",
       "  <tbody>\n",
       "    <tr>\n",
       "      <th>0</th>\n",
       "      <td>1000</td>\n",
       "      <td>5</td>\n",
       "      <td>3</td>\n",
       "    </tr>\n",
       "    <tr>\n",
       "      <th>1</th>\n",
       "      <td>1000</td>\n",
       "      <td>6</td>\n",
       "      <td>23</td>\n",
       "    </tr>\n",
       "    <tr>\n",
       "      <th>2</th>\n",
       "      <td>1000</td>\n",
       "      <td>7</td>\n",
       "      <td>14</td>\n",
       "    </tr>\n",
       "    <tr>\n",
       "      <th>3</th>\n",
       "      <td>1000</td>\n",
       "      <td>8</td>\n",
       "      <td>14</td>\n",
       "    </tr>\n",
       "    <tr>\n",
       "      <th>4</th>\n",
       "      <td>1000</td>\n",
       "      <td>9</td>\n",
       "      <td>15</td>\n",
       "    </tr>\n",
       "    <tr>\n",
       "      <th>5</th>\n",
       "      <td>1000</td>\n",
       "      <td>10</td>\n",
       "      <td>15</td>\n",
       "    </tr>\n",
       "    <tr>\n",
       "      <th>6</th>\n",
       "      <td>1000</td>\n",
       "      <td>11</td>\n",
       "      <td>15</td>\n",
       "    </tr>\n",
       "    <tr>\n",
       "      <th>7</th>\n",
       "      <td>1000</td>\n",
       "      <td>12</td>\n",
       "      <td>10</td>\n",
       "    </tr>\n",
       "    <tr>\n",
       "      <th>8</th>\n",
       "      <td>1001</td>\n",
       "      <td>11</td>\n",
       "      <td>18</td>\n",
       "    </tr>\n",
       "    <tr>\n",
       "      <th>9</th>\n",
       "      <td>1001</td>\n",
       "      <td>12</td>\n",
       "      <td>14</td>\n",
       "    </tr>\n",
       "  </tbody>\n",
       "</table>\n",
       "</div>"
      ],
      "text/plain": [
       "   user_id  month  mb_used\n",
       "0     1000      5        3\n",
       "1     1000      6       23\n",
       "2     1000      7       14\n",
       "3     1000      8       14\n",
       "4     1000      9       15\n",
       "5     1000     10       15\n",
       "6     1000     11       15\n",
       "7     1000     12       10\n",
       "8     1001     11       18\n",
       "9     1001     12       14"
      ]
     },
     "metadata": {},
     "output_type": "display_data"
    }
   ],
   "source": [
    "pivot_table_internet =(internet.pivot_table(index=['user_id','month'],values='mb_used',aggfunc='sum',fill_value=0)).reset_index() # объединяем данные из двух таблиц\n",
    "pivot_table_internet['mb_used'] = np.ceil(pivot_table_internet['mb_used']).astype(int) # округляем в большую сторону занчения.\n",
    "display('Объем израсходованного интернет-трафика',pivot_table_internet.head(10))\n"
   ]
  },
  {
   "cell_type": "markdown",
   "metadata": {},
   "source": [
    "**Вывод**\n",
    "\n",
    "Добавила столбец с месяцами,изменила тип данных.\n",
    "\n",
    "Перевела мегабайты в гигабайты, округлив в большую сторону.\n",
    "Было выявлено, что не все пользуются мобильным интернетом, в связи с чем трафик получается нулевым в 19598 случаев.\n",
    "\n",
    "Посчитала объем израсходованного интернет-трафика по месяцам.\n"
   ]
  },
  {
   "cell_type": "code",
   "execution_count": 11,
   "metadata": {},
   "outputs": [
    {
     "data": {
      "text/html": [
       "<div>\n",
       "<style scoped>\n",
       "    .dataframe tbody tr th:only-of-type {\n",
       "        vertical-align: middle;\n",
       "    }\n",
       "\n",
       "    .dataframe tbody tr th {\n",
       "        vertical-align: top;\n",
       "    }\n",
       "\n",
       "    .dataframe thead th {\n",
       "        text-align: right;\n",
       "    }\n",
       "</style>\n",
       "<table border=\"1\" class=\"dataframe\">\n",
       "  <thead>\n",
       "    <tr style=\"text-align: right;\">\n",
       "      <th></th>\n",
       "      <th>id</th>\n",
       "      <th>message_date</th>\n",
       "      <th>user_id</th>\n",
       "    </tr>\n",
       "  </thead>\n",
       "  <tbody>\n",
       "    <tr>\n",
       "      <th>0</th>\n",
       "      <td>1000_0</td>\n",
       "      <td>2018-06-27</td>\n",
       "      <td>1000</td>\n",
       "    </tr>\n",
       "    <tr>\n",
       "      <th>1</th>\n",
       "      <td>1000_1</td>\n",
       "      <td>2018-10-08</td>\n",
       "      <td>1000</td>\n",
       "    </tr>\n",
       "    <tr>\n",
       "      <th>2</th>\n",
       "      <td>1000_2</td>\n",
       "      <td>2018-08-04</td>\n",
       "      <td>1000</td>\n",
       "    </tr>\n",
       "    <tr>\n",
       "      <th>3</th>\n",
       "      <td>1000_3</td>\n",
       "      <td>2018-06-16</td>\n",
       "      <td>1000</td>\n",
       "    </tr>\n",
       "    <tr>\n",
       "      <th>4</th>\n",
       "      <td>1000_4</td>\n",
       "      <td>2018-12-05</td>\n",
       "      <td>1000</td>\n",
       "    </tr>\n",
       "    <tr>\n",
       "      <th>5</th>\n",
       "      <td>1000_5</td>\n",
       "      <td>2018-06-20</td>\n",
       "      <td>1000</td>\n",
       "    </tr>\n",
       "    <tr>\n",
       "      <th>6</th>\n",
       "      <td>1000_6</td>\n",
       "      <td>2018-11-19</td>\n",
       "      <td>1000</td>\n",
       "    </tr>\n",
       "    <tr>\n",
       "      <th>7</th>\n",
       "      <td>1000_7</td>\n",
       "      <td>2018-10-29</td>\n",
       "      <td>1000</td>\n",
       "    </tr>\n",
       "    <tr>\n",
       "      <th>8</th>\n",
       "      <td>1000_8</td>\n",
       "      <td>2018-06-25</td>\n",
       "      <td>1000</td>\n",
       "    </tr>\n",
       "    <tr>\n",
       "      <th>9</th>\n",
       "      <td>1000_9</td>\n",
       "      <td>2018-12-18</td>\n",
       "      <td>1000</td>\n",
       "    </tr>\n",
       "  </tbody>\n",
       "</table>\n",
       "</div>"
      ],
      "text/plain": [
       "       id message_date  user_id\n",
       "0  1000_0   2018-06-27     1000\n",
       "1  1000_1   2018-10-08     1000\n",
       "2  1000_2   2018-08-04     1000\n",
       "3  1000_3   2018-06-16     1000\n",
       "4  1000_4   2018-12-05     1000\n",
       "5  1000_5   2018-06-20     1000\n",
       "6  1000_6   2018-11-19     1000\n",
       "7  1000_7   2018-10-29     1000\n",
       "8  1000_8   2018-06-25     1000\n",
       "9  1000_9   2018-12-18     1000"
      ]
     },
     "execution_count": 11,
     "metadata": {},
     "output_type": "execute_result"
    }
   ],
   "source": [
    "messages = pd.read_csv('/datasets/messages.csv') # чтение файла с данными\n",
    "messages.head(10) # получение первых 10 строк таблицы"
   ]
  },
  {
   "cell_type": "code",
   "execution_count": 12,
   "metadata": {},
   "outputs": [
    {
     "name": "stdout",
     "output_type": "stream",
     "text": [
      "<class 'pandas.core.frame.DataFrame'>\n",
      "RangeIndex: 123036 entries, 0 to 123035\n",
      "Data columns (total 3 columns):\n",
      " #   Column        Non-Null Count   Dtype \n",
      "---  ------        --------------   ----- \n",
      " 0   id            123036 non-null  object\n",
      " 1   message_date  123036 non-null  object\n",
      " 2   user_id       123036 non-null  int64 \n",
      "dtypes: int64(1), object(2)\n",
      "memory usage: 2.8+ MB\n"
     ]
    }
   ],
   "source": [
    "messages.info() # посмотрим информацию об общем количестве строк,колонок и их названии, о типе данных"
   ]
  },
  {
   "cell_type": "code",
   "execution_count": 13,
   "metadata": {},
   "outputs": [
    {
     "data": {
      "text/html": [
       "<div>\n",
       "<style scoped>\n",
       "    .dataframe tbody tr th:only-of-type {\n",
       "        vertical-align: middle;\n",
       "    }\n",
       "\n",
       "    .dataframe tbody tr th {\n",
       "        vertical-align: top;\n",
       "    }\n",
       "\n",
       "    .dataframe thead th {\n",
       "        text-align: right;\n",
       "    }\n",
       "</style>\n",
       "<table border=\"1\" class=\"dataframe\">\n",
       "  <thead>\n",
       "    <tr style=\"text-align: right;\">\n",
       "      <th></th>\n",
       "      <th>id</th>\n",
       "      <th>message_date</th>\n",
       "      <th>user_id</th>\n",
       "      <th>month</th>\n",
       "    </tr>\n",
       "  </thead>\n",
       "  <tbody>\n",
       "    <tr>\n",
       "      <th>0</th>\n",
       "      <td>1000_0</td>\n",
       "      <td>2018-06-27</td>\n",
       "      <td>1000</td>\n",
       "      <td>6</td>\n",
       "    </tr>\n",
       "    <tr>\n",
       "      <th>1</th>\n",
       "      <td>1000_1</td>\n",
       "      <td>2018-10-08</td>\n",
       "      <td>1000</td>\n",
       "      <td>10</td>\n",
       "    </tr>\n",
       "    <tr>\n",
       "      <th>2</th>\n",
       "      <td>1000_2</td>\n",
       "      <td>2018-08-04</td>\n",
       "      <td>1000</td>\n",
       "      <td>8</td>\n",
       "    </tr>\n",
       "    <tr>\n",
       "      <th>3</th>\n",
       "      <td>1000_3</td>\n",
       "      <td>2018-06-16</td>\n",
       "      <td>1000</td>\n",
       "      <td>6</td>\n",
       "    </tr>\n",
       "    <tr>\n",
       "      <th>4</th>\n",
       "      <td>1000_4</td>\n",
       "      <td>2018-12-05</td>\n",
       "      <td>1000</td>\n",
       "      <td>12</td>\n",
       "    </tr>\n",
       "    <tr>\n",
       "      <th>5</th>\n",
       "      <td>1000_5</td>\n",
       "      <td>2018-06-20</td>\n",
       "      <td>1000</td>\n",
       "      <td>6</td>\n",
       "    </tr>\n",
       "    <tr>\n",
       "      <th>6</th>\n",
       "      <td>1000_6</td>\n",
       "      <td>2018-11-19</td>\n",
       "      <td>1000</td>\n",
       "      <td>11</td>\n",
       "    </tr>\n",
       "    <tr>\n",
       "      <th>7</th>\n",
       "      <td>1000_7</td>\n",
       "      <td>2018-10-29</td>\n",
       "      <td>1000</td>\n",
       "      <td>10</td>\n",
       "    </tr>\n",
       "    <tr>\n",
       "      <th>8</th>\n",
       "      <td>1000_8</td>\n",
       "      <td>2018-06-25</td>\n",
       "      <td>1000</td>\n",
       "      <td>6</td>\n",
       "    </tr>\n",
       "    <tr>\n",
       "      <th>9</th>\n",
       "      <td>1000_9</td>\n",
       "      <td>2018-12-18</td>\n",
       "      <td>1000</td>\n",
       "      <td>12</td>\n",
       "    </tr>\n",
       "  </tbody>\n",
       "</table>\n",
       "</div>"
      ],
      "text/plain": [
       "       id message_date  user_id  month\n",
       "0  1000_0   2018-06-27     1000      6\n",
       "1  1000_1   2018-10-08     1000     10\n",
       "2  1000_2   2018-08-04     1000      8\n",
       "3  1000_3   2018-06-16     1000      6\n",
       "4  1000_4   2018-12-05     1000     12\n",
       "5  1000_5   2018-06-20     1000      6\n",
       "6  1000_6   2018-11-19     1000     11\n",
       "7  1000_7   2018-10-29     1000     10\n",
       "8  1000_8   2018-06-25     1000      6\n",
       "9  1000_9   2018-12-18     1000     12"
      ]
     },
     "execution_count": 13,
     "metadata": {},
     "output_type": "execute_result"
    }
   ],
   "source": [
    "messages['month'] = pd.DatetimeIndex(messages['message_date']).month #создаем столбец с месяцем\n",
    "messages['month'] = messages['month'].astype('Int64') #меняем тип данных\n",
    "messages.head(10)"
   ]
  },
  {
   "cell_type": "code",
   "execution_count": 14,
   "metadata": {},
   "outputs": [
    {
     "data": {
      "text/plain": [
       "'Количество отправленных сообщений'"
      ]
     },
     "metadata": {},
     "output_type": "display_data"
    },
    {
     "data": {
      "text/html": [
       "<div>\n",
       "<style scoped>\n",
       "    .dataframe tbody tr th:only-of-type {\n",
       "        vertical-align: middle;\n",
       "    }\n",
       "\n",
       "    .dataframe tbody tr th {\n",
       "        vertical-align: top;\n",
       "    }\n",
       "\n",
       "    .dataframe thead th {\n",
       "        text-align: right;\n",
       "    }\n",
       "</style>\n",
       "<table border=\"1\" class=\"dataframe\">\n",
       "  <thead>\n",
       "    <tr style=\"text-align: right;\">\n",
       "      <th></th>\n",
       "      <th>user_id</th>\n",
       "      <th>month</th>\n",
       "      <th>id</th>\n",
       "    </tr>\n",
       "  </thead>\n",
       "  <tbody>\n",
       "    <tr>\n",
       "      <th>0</th>\n",
       "      <td>1000</td>\n",
       "      <td>5</td>\n",
       "      <td>22</td>\n",
       "    </tr>\n",
       "    <tr>\n",
       "      <th>1</th>\n",
       "      <td>1000</td>\n",
       "      <td>6</td>\n",
       "      <td>60</td>\n",
       "    </tr>\n",
       "    <tr>\n",
       "      <th>2</th>\n",
       "      <td>1000</td>\n",
       "      <td>7</td>\n",
       "      <td>75</td>\n",
       "    </tr>\n",
       "    <tr>\n",
       "      <th>3</th>\n",
       "      <td>1000</td>\n",
       "      <td>8</td>\n",
       "      <td>81</td>\n",
       "    </tr>\n",
       "    <tr>\n",
       "      <th>4</th>\n",
       "      <td>1000</td>\n",
       "      <td>9</td>\n",
       "      <td>57</td>\n",
       "    </tr>\n",
       "    <tr>\n",
       "      <th>5</th>\n",
       "      <td>1000</td>\n",
       "      <td>10</td>\n",
       "      <td>73</td>\n",
       "    </tr>\n",
       "    <tr>\n",
       "      <th>6</th>\n",
       "      <td>1000</td>\n",
       "      <td>11</td>\n",
       "      <td>58</td>\n",
       "    </tr>\n",
       "    <tr>\n",
       "      <th>7</th>\n",
       "      <td>1000</td>\n",
       "      <td>12</td>\n",
       "      <td>70</td>\n",
       "    </tr>\n",
       "    <tr>\n",
       "      <th>8</th>\n",
       "      <td>1002</td>\n",
       "      <td>6</td>\n",
       "      <td>4</td>\n",
       "    </tr>\n",
       "    <tr>\n",
       "      <th>9</th>\n",
       "      <td>1002</td>\n",
       "      <td>7</td>\n",
       "      <td>11</td>\n",
       "    </tr>\n",
       "  </tbody>\n",
       "</table>\n",
       "</div>"
      ],
      "text/plain": [
       "   user_id  month  id\n",
       "0     1000      5  22\n",
       "1     1000      6  60\n",
       "2     1000      7  75\n",
       "3     1000      8  81\n",
       "4     1000      9  57\n",
       "5     1000     10  73\n",
       "6     1000     11  58\n",
       "7     1000     12  70\n",
       "8     1002      6   4\n",
       "9     1002      7  11"
      ]
     },
     "metadata": {},
     "output_type": "display_data"
    }
   ],
   "source": [
    "pivot_table_messages_count= (messages.pivot_table(index=['user_id','month'],values='id',aggfunc='count',fill_value=0)).reset_index()  # объединяем данные из двух таблиц\n",
    "display('Количество отправленных сообщений',pivot_table_messages_count.head(10))"
   ]
  },
  {
   "cell_type": "markdown",
   "metadata": {},
   "source": [
    "**Вывод**\n",
    "\n",
    "Добавила столбец с месяцами,изменила тип данных.\n",
    "\n",
    "Посчитала количество отправленных сообщений по месяцам"
   ]
  },
  {
   "cell_type": "code",
   "execution_count": 15,
   "metadata": {},
   "outputs": [
    {
     "data": {
      "text/html": [
       "<div>\n",
       "<style scoped>\n",
       "    .dataframe tbody tr th:only-of-type {\n",
       "        vertical-align: middle;\n",
       "    }\n",
       "\n",
       "    .dataframe tbody tr th {\n",
       "        vertical-align: top;\n",
       "    }\n",
       "\n",
       "    .dataframe thead th {\n",
       "        text-align: right;\n",
       "    }\n",
       "</style>\n",
       "<table border=\"1\" class=\"dataframe\">\n",
       "  <thead>\n",
       "    <tr style=\"text-align: right;\">\n",
       "      <th></th>\n",
       "      <th>messages_included</th>\n",
       "      <th>gb_per_month_included</th>\n",
       "      <th>minutes_included</th>\n",
       "      <th>rub_monthly_fee</th>\n",
       "      <th>rub_per_gb</th>\n",
       "      <th>rub_per_message</th>\n",
       "      <th>rub_per_minute</th>\n",
       "      <th>tariff</th>\n",
       "    </tr>\n",
       "  </thead>\n",
       "  <tbody>\n",
       "    <tr>\n",
       "      <th>0</th>\n",
       "      <td>50</td>\n",
       "      <td>15.0</td>\n",
       "      <td>500</td>\n",
       "      <td>550</td>\n",
       "      <td>200</td>\n",
       "      <td>3</td>\n",
       "      <td>3</td>\n",
       "      <td>smart</td>\n",
       "    </tr>\n",
       "    <tr>\n",
       "      <th>1</th>\n",
       "      <td>1000</td>\n",
       "      <td>30.0</td>\n",
       "      <td>3000</td>\n",
       "      <td>1950</td>\n",
       "      <td>150</td>\n",
       "      <td>1</td>\n",
       "      <td>1</td>\n",
       "      <td>ultra</td>\n",
       "    </tr>\n",
       "  </tbody>\n",
       "</table>\n",
       "</div>"
      ],
      "text/plain": [
       "   messages_included  gb_per_month_included  minutes_included  \\\n",
       "0                 50                   15.0               500   \n",
       "1               1000                   30.0              3000   \n",
       "\n",
       "   rub_monthly_fee  rub_per_gb  rub_per_message  rub_per_minute tariff  \n",
       "0              550         200                3               3  smart  \n",
       "1             1950         150                1               1  ultra  "
      ]
     },
     "execution_count": 15,
     "metadata": {},
     "output_type": "execute_result"
    }
   ],
   "source": [
    "tariffs = pd.read_csv('/datasets/tariffs.csv') # чтение файла с данными\n",
    "#tariffs.head(10) # получение первых 10 строк таблицы\n",
    "tariffs['mb_per_month_included'] = tariffs['mb_per_month_included']/1024 #переводим мегабайты в гигабайты\n",
    "tariffs.columns =['messages_included','gb_per_month_included','minutes_included','rub_monthly_fee','rub_per_gb','rub_per_message','rub_per_minute','tariff'] # переименовала последний столбец\n",
    "tariffs.head(10)"
   ]
  },
  {
   "cell_type": "code",
   "execution_count": 16,
   "metadata": {},
   "outputs": [
    {
     "name": "stdout",
     "output_type": "stream",
     "text": [
      "<class 'pandas.core.frame.DataFrame'>\n",
      "RangeIndex: 2 entries, 0 to 1\n",
      "Data columns (total 8 columns):\n",
      " #   Column                 Non-Null Count  Dtype  \n",
      "---  ------                 --------------  -----  \n",
      " 0   messages_included      2 non-null      int64  \n",
      " 1   gb_per_month_included  2 non-null      float64\n",
      " 2   minutes_included       2 non-null      int64  \n",
      " 3   rub_monthly_fee        2 non-null      int64  \n",
      " 4   rub_per_gb             2 non-null      int64  \n",
      " 5   rub_per_message        2 non-null      int64  \n",
      " 6   rub_per_minute         2 non-null      int64  \n",
      " 7   tariff                 2 non-null      object \n",
      "dtypes: float64(1), int64(6), object(1)\n",
      "memory usage: 256.0+ bytes\n"
     ]
    }
   ],
   "source": [
    "tariffs.info() # посмотрим информацию об общем количестве строк,колонок и их названии, о типе данных"
   ]
  },
  {
   "cell_type": "code",
   "execution_count": 17,
   "metadata": {},
   "outputs": [
    {
     "data": {
      "text/html": [
       "<div>\n",
       "<style scoped>\n",
       "    .dataframe tbody tr th:only-of-type {\n",
       "        vertical-align: middle;\n",
       "    }\n",
       "\n",
       "    .dataframe tbody tr th {\n",
       "        vertical-align: top;\n",
       "    }\n",
       "\n",
       "    .dataframe thead th {\n",
       "        text-align: right;\n",
       "    }\n",
       "</style>\n",
       "<table border=\"1\" class=\"dataframe\">\n",
       "  <thead>\n",
       "    <tr style=\"text-align: right;\">\n",
       "      <th></th>\n",
       "      <th>user_id</th>\n",
       "      <th>age</th>\n",
       "      <th>churn_date</th>\n",
       "      <th>city</th>\n",
       "      <th>first_name</th>\n",
       "      <th>last_name</th>\n",
       "      <th>reg_date</th>\n",
       "      <th>tariff</th>\n",
       "    </tr>\n",
       "  </thead>\n",
       "  <tbody>\n",
       "    <tr>\n",
       "      <th>0</th>\n",
       "      <td>1000</td>\n",
       "      <td>52</td>\n",
       "      <td>NaN</td>\n",
       "      <td>Краснодар</td>\n",
       "      <td>Рафаил</td>\n",
       "      <td>Верещагин</td>\n",
       "      <td>2018-05-25</td>\n",
       "      <td>ultra</td>\n",
       "    </tr>\n",
       "    <tr>\n",
       "      <th>1</th>\n",
       "      <td>1001</td>\n",
       "      <td>41</td>\n",
       "      <td>NaN</td>\n",
       "      <td>Москва</td>\n",
       "      <td>Иван</td>\n",
       "      <td>Ежов</td>\n",
       "      <td>2018-11-01</td>\n",
       "      <td>smart</td>\n",
       "    </tr>\n",
       "    <tr>\n",
       "      <th>2</th>\n",
       "      <td>1002</td>\n",
       "      <td>59</td>\n",
       "      <td>NaN</td>\n",
       "      <td>Стерлитамак</td>\n",
       "      <td>Евгений</td>\n",
       "      <td>Абрамович</td>\n",
       "      <td>2018-06-17</td>\n",
       "      <td>smart</td>\n",
       "    </tr>\n",
       "    <tr>\n",
       "      <th>3</th>\n",
       "      <td>1003</td>\n",
       "      <td>23</td>\n",
       "      <td>NaN</td>\n",
       "      <td>Москва</td>\n",
       "      <td>Белла</td>\n",
       "      <td>Белякова</td>\n",
       "      <td>2018-08-17</td>\n",
       "      <td>ultra</td>\n",
       "    </tr>\n",
       "    <tr>\n",
       "      <th>4</th>\n",
       "      <td>1004</td>\n",
       "      <td>68</td>\n",
       "      <td>NaN</td>\n",
       "      <td>Новокузнецк</td>\n",
       "      <td>Татьяна</td>\n",
       "      <td>Авдеенко</td>\n",
       "      <td>2018-05-14</td>\n",
       "      <td>ultra</td>\n",
       "    </tr>\n",
       "    <tr>\n",
       "      <th>5</th>\n",
       "      <td>1005</td>\n",
       "      <td>67</td>\n",
       "      <td>NaN</td>\n",
       "      <td>Набережные Челны</td>\n",
       "      <td>Афанасий</td>\n",
       "      <td>Горлов</td>\n",
       "      <td>2018-01-25</td>\n",
       "      <td>smart</td>\n",
       "    </tr>\n",
       "    <tr>\n",
       "      <th>6</th>\n",
       "      <td>1006</td>\n",
       "      <td>21</td>\n",
       "      <td>NaN</td>\n",
       "      <td>Ульяновск</td>\n",
       "      <td>Леонид</td>\n",
       "      <td>Ермолаев</td>\n",
       "      <td>2018-02-26</td>\n",
       "      <td>smart</td>\n",
       "    </tr>\n",
       "    <tr>\n",
       "      <th>7</th>\n",
       "      <td>1007</td>\n",
       "      <td>65</td>\n",
       "      <td>NaN</td>\n",
       "      <td>Москва</td>\n",
       "      <td>Юна</td>\n",
       "      <td>Березина</td>\n",
       "      <td>2018-04-19</td>\n",
       "      <td>smart</td>\n",
       "    </tr>\n",
       "    <tr>\n",
       "      <th>8</th>\n",
       "      <td>1008</td>\n",
       "      <td>63</td>\n",
       "      <td>NaN</td>\n",
       "      <td>Челябинск</td>\n",
       "      <td>Рустэм</td>\n",
       "      <td>Пономарёв</td>\n",
       "      <td>2018-12-19</td>\n",
       "      <td>smart</td>\n",
       "    </tr>\n",
       "    <tr>\n",
       "      <th>9</th>\n",
       "      <td>1009</td>\n",
       "      <td>24</td>\n",
       "      <td>NaN</td>\n",
       "      <td>Пермь</td>\n",
       "      <td>Василиса</td>\n",
       "      <td>Блинова</td>\n",
       "      <td>2018-03-22</td>\n",
       "      <td>smart</td>\n",
       "    </tr>\n",
       "  </tbody>\n",
       "</table>\n",
       "</div>"
      ],
      "text/plain": [
       "   user_id  age churn_date              city first_name  last_name  \\\n",
       "0     1000   52        NaN         Краснодар     Рафаил  Верещагин   \n",
       "1     1001   41        NaN            Москва       Иван       Ежов   \n",
       "2     1002   59        NaN       Стерлитамак    Евгений  Абрамович   \n",
       "3     1003   23        NaN            Москва      Белла   Белякова   \n",
       "4     1004   68        NaN       Новокузнецк    Татьяна   Авдеенко   \n",
       "5     1005   67        NaN  Набережные Челны   Афанасий     Горлов   \n",
       "6     1006   21        NaN         Ульяновск     Леонид   Ермолаев   \n",
       "7     1007   65        NaN            Москва        Юна   Березина   \n",
       "8     1008   63        NaN         Челябинск     Рустэм  Пономарёв   \n",
       "9     1009   24        NaN             Пермь   Василиса    Блинова   \n",
       "\n",
       "     reg_date tariff  \n",
       "0  2018-05-25  ultra  \n",
       "1  2018-11-01  smart  \n",
       "2  2018-06-17  smart  \n",
       "3  2018-08-17  ultra  \n",
       "4  2018-05-14  ultra  \n",
       "5  2018-01-25  smart  \n",
       "6  2018-02-26  smart  \n",
       "7  2018-04-19  smart  \n",
       "8  2018-12-19  smart  \n",
       "9  2018-03-22  smart  "
      ]
     },
     "execution_count": 17,
     "metadata": {},
     "output_type": "execute_result"
    }
   ],
   "source": [
    "users = pd.read_csv('/datasets/users.csv') # чтение файла с данными\n",
    "users.head(10) # получение первых 10 строк таблицы"
   ]
  },
  {
   "cell_type": "code",
   "execution_count": 18,
   "metadata": {
    "scrolled": true
   },
   "outputs": [
    {
     "name": "stdout",
     "output_type": "stream",
     "text": [
      "<class 'pandas.core.frame.DataFrame'>\n",
      "RangeIndex: 500 entries, 0 to 499\n",
      "Data columns (total 8 columns):\n",
      " #   Column      Non-Null Count  Dtype \n",
      "---  ------      --------------  ----- \n",
      " 0   user_id     500 non-null    int64 \n",
      " 1   age         500 non-null    int64 \n",
      " 2   churn_date  38 non-null     object\n",
      " 3   city        500 non-null    object\n",
      " 4   first_name  500 non-null    object\n",
      " 5   last_name   500 non-null    object\n",
      " 6   reg_date    500 non-null    object\n",
      " 7   tariff      500 non-null    object\n",
      "dtypes: int64(2), object(6)\n",
      "memory usage: 31.4+ KB\n"
     ]
    }
   ],
   "source": [
    "users.info() # посмотрим информацию об общем количестве строк,колонок и их названии, о типе данных"
   ]
  },
  {
   "cell_type": "code",
   "execution_count": 19,
   "metadata": {},
   "outputs": [],
   "source": [
    "users['month'] = pd.DatetimeIndex(users['reg_date']).month  #создаем столбец с месяцем"
   ]
  },
  {
   "cell_type": "code",
   "execution_count": 20,
   "metadata": {},
   "outputs": [
    {
     "data": {
      "text/plain": [
       "user_id         0\n",
       "age             0\n",
       "churn_date    462\n",
       "city            0\n",
       "first_name      0\n",
       "last_name       0\n",
       "reg_date        0\n",
       "tariff          0\n",
       "month           0\n",
       "dtype: int64"
      ]
     },
     "execution_count": 20,
     "metadata": {},
     "output_type": "execute_result"
    }
   ],
   "source": [
    "users.isna().sum()# найдем строки с пропусками"
   ]
  },
  {
   "cell_type": "markdown",
   "metadata": {},
   "source": [
    "**Вывод**\n",
    "\n",
    "В таблице даты прекращения пользования тарифом (churn_date) -462 пропущенных значения.  По условиям данных - если значение пропущено, то тариф ещё действовал на момент выгрузки данных."
   ]
  },
  {
   "cell_type": "code",
   "execution_count": 21,
   "metadata": {
    "scrolled": true
   },
   "outputs": [
    {
     "data": {
      "text/html": [
       "<div>\n",
       "<style scoped>\n",
       "    .dataframe tbody tr th:only-of-type {\n",
       "        vertical-align: middle;\n",
       "    }\n",
       "\n",
       "    .dataframe tbody tr th {\n",
       "        vertical-align: top;\n",
       "    }\n",
       "\n",
       "    .dataframe thead th {\n",
       "        text-align: right;\n",
       "    }\n",
       "</style>\n",
       "<table border=\"1\" class=\"dataframe\">\n",
       "  <thead>\n",
       "    <tr style=\"text-align: right;\">\n",
       "      <th></th>\n",
       "      <th>user_id</th>\n",
       "      <th>month_x</th>\n",
       "      <th>calls_count</th>\n",
       "      <th>calls_sum</th>\n",
       "      <th>gb_used</th>\n",
       "      <th>messages_count</th>\n",
       "      <th>age</th>\n",
       "      <th>churn_date</th>\n",
       "      <th>city</th>\n",
       "      <th>first_name</th>\n",
       "      <th>...</th>\n",
       "      <th>reg_date</th>\n",
       "      <th>tariff</th>\n",
       "      <th>month_y</th>\n",
       "      <th>messages_included</th>\n",
       "      <th>gb_per_month_included</th>\n",
       "      <th>minutes_included</th>\n",
       "      <th>rub_monthly_fee</th>\n",
       "      <th>rub_per_gb</th>\n",
       "      <th>rub_per_message</th>\n",
       "      <th>rub_per_minute</th>\n",
       "    </tr>\n",
       "  </thead>\n",
       "  <tbody>\n",
       "    <tr>\n",
       "      <th>0</th>\n",
       "      <td>1000</td>\n",
       "      <td>5</td>\n",
       "      <td>22.0</td>\n",
       "      <td>159.0</td>\n",
       "      <td>3.0</td>\n",
       "      <td>22.0</td>\n",
       "      <td>52</td>\n",
       "      <td>NaN</td>\n",
       "      <td>Краснодар</td>\n",
       "      <td>Рафаил</td>\n",
       "      <td>...</td>\n",
       "      <td>2018-05-25</td>\n",
       "      <td>ultra</td>\n",
       "      <td>5</td>\n",
       "      <td>1000</td>\n",
       "      <td>30.0</td>\n",
       "      <td>3000</td>\n",
       "      <td>1950</td>\n",
       "      <td>150</td>\n",
       "      <td>1</td>\n",
       "      <td>1</td>\n",
       "    </tr>\n",
       "    <tr>\n",
       "      <th>1</th>\n",
       "      <td>1000</td>\n",
       "      <td>6</td>\n",
       "      <td>43.0</td>\n",
       "      <td>172.0</td>\n",
       "      <td>23.0</td>\n",
       "      <td>60.0</td>\n",
       "      <td>52</td>\n",
       "      <td>NaN</td>\n",
       "      <td>Краснодар</td>\n",
       "      <td>Рафаил</td>\n",
       "      <td>...</td>\n",
       "      <td>2018-05-25</td>\n",
       "      <td>ultra</td>\n",
       "      <td>5</td>\n",
       "      <td>1000</td>\n",
       "      <td>30.0</td>\n",
       "      <td>3000</td>\n",
       "      <td>1950</td>\n",
       "      <td>150</td>\n",
       "      <td>1</td>\n",
       "      <td>1</td>\n",
       "    </tr>\n",
       "    <tr>\n",
       "      <th>2</th>\n",
       "      <td>1000</td>\n",
       "      <td>7</td>\n",
       "      <td>47.0</td>\n",
       "      <td>340.0</td>\n",
       "      <td>14.0</td>\n",
       "      <td>75.0</td>\n",
       "      <td>52</td>\n",
       "      <td>NaN</td>\n",
       "      <td>Краснодар</td>\n",
       "      <td>Рафаил</td>\n",
       "      <td>...</td>\n",
       "      <td>2018-05-25</td>\n",
       "      <td>ultra</td>\n",
       "      <td>5</td>\n",
       "      <td>1000</td>\n",
       "      <td>30.0</td>\n",
       "      <td>3000</td>\n",
       "      <td>1950</td>\n",
       "      <td>150</td>\n",
       "      <td>1</td>\n",
       "      <td>1</td>\n",
       "    </tr>\n",
       "    <tr>\n",
       "      <th>3</th>\n",
       "      <td>1000</td>\n",
       "      <td>8</td>\n",
       "      <td>52.0</td>\n",
       "      <td>408.0</td>\n",
       "      <td>14.0</td>\n",
       "      <td>81.0</td>\n",
       "      <td>52</td>\n",
       "      <td>NaN</td>\n",
       "      <td>Краснодар</td>\n",
       "      <td>Рафаил</td>\n",
       "      <td>...</td>\n",
       "      <td>2018-05-25</td>\n",
       "      <td>ultra</td>\n",
       "      <td>5</td>\n",
       "      <td>1000</td>\n",
       "      <td>30.0</td>\n",
       "      <td>3000</td>\n",
       "      <td>1950</td>\n",
       "      <td>150</td>\n",
       "      <td>1</td>\n",
       "      <td>1</td>\n",
       "    </tr>\n",
       "    <tr>\n",
       "      <th>4</th>\n",
       "      <td>1000</td>\n",
       "      <td>9</td>\n",
       "      <td>58.0</td>\n",
       "      <td>466.0</td>\n",
       "      <td>15.0</td>\n",
       "      <td>57.0</td>\n",
       "      <td>52</td>\n",
       "      <td>NaN</td>\n",
       "      <td>Краснодар</td>\n",
       "      <td>Рафаил</td>\n",
       "      <td>...</td>\n",
       "      <td>2018-05-25</td>\n",
       "      <td>ultra</td>\n",
       "      <td>5</td>\n",
       "      <td>1000</td>\n",
       "      <td>30.0</td>\n",
       "      <td>3000</td>\n",
       "      <td>1950</td>\n",
       "      <td>150</td>\n",
       "      <td>1</td>\n",
       "      <td>1</td>\n",
       "    </tr>\n",
       "    <tr>\n",
       "      <th>5</th>\n",
       "      <td>1000</td>\n",
       "      <td>10</td>\n",
       "      <td>57.0</td>\n",
       "      <td>350.0</td>\n",
       "      <td>15.0</td>\n",
       "      <td>73.0</td>\n",
       "      <td>52</td>\n",
       "      <td>NaN</td>\n",
       "      <td>Краснодар</td>\n",
       "      <td>Рафаил</td>\n",
       "      <td>...</td>\n",
       "      <td>2018-05-25</td>\n",
       "      <td>ultra</td>\n",
       "      <td>5</td>\n",
       "      <td>1000</td>\n",
       "      <td>30.0</td>\n",
       "      <td>3000</td>\n",
       "      <td>1950</td>\n",
       "      <td>150</td>\n",
       "      <td>1</td>\n",
       "      <td>1</td>\n",
       "    </tr>\n",
       "    <tr>\n",
       "      <th>6</th>\n",
       "      <td>1000</td>\n",
       "      <td>11</td>\n",
       "      <td>43.0</td>\n",
       "      <td>338.0</td>\n",
       "      <td>15.0</td>\n",
       "      <td>58.0</td>\n",
       "      <td>52</td>\n",
       "      <td>NaN</td>\n",
       "      <td>Краснодар</td>\n",
       "      <td>Рафаил</td>\n",
       "      <td>...</td>\n",
       "      <td>2018-05-25</td>\n",
       "      <td>ultra</td>\n",
       "      <td>5</td>\n",
       "      <td>1000</td>\n",
       "      <td>30.0</td>\n",
       "      <td>3000</td>\n",
       "      <td>1950</td>\n",
       "      <td>150</td>\n",
       "      <td>1</td>\n",
       "      <td>1</td>\n",
       "    </tr>\n",
       "    <tr>\n",
       "      <th>7</th>\n",
       "      <td>1000</td>\n",
       "      <td>12</td>\n",
       "      <td>46.0</td>\n",
       "      <td>333.0</td>\n",
       "      <td>10.0</td>\n",
       "      <td>70.0</td>\n",
       "      <td>52</td>\n",
       "      <td>NaN</td>\n",
       "      <td>Краснодар</td>\n",
       "      <td>Рафаил</td>\n",
       "      <td>...</td>\n",
       "      <td>2018-05-25</td>\n",
       "      <td>ultra</td>\n",
       "      <td>5</td>\n",
       "      <td>1000</td>\n",
       "      <td>30.0</td>\n",
       "      <td>3000</td>\n",
       "      <td>1950</td>\n",
       "      <td>150</td>\n",
       "      <td>1</td>\n",
       "      <td>1</td>\n",
       "    </tr>\n",
       "    <tr>\n",
       "      <th>8</th>\n",
       "      <td>1001</td>\n",
       "      <td>11</td>\n",
       "      <td>59.0</td>\n",
       "      <td>430.0</td>\n",
       "      <td>18.0</td>\n",
       "      <td>NaN</td>\n",
       "      <td>41</td>\n",
       "      <td>NaN</td>\n",
       "      <td>Москва</td>\n",
       "      <td>Иван</td>\n",
       "      <td>...</td>\n",
       "      <td>2018-11-01</td>\n",
       "      <td>smart</td>\n",
       "      <td>11</td>\n",
       "      <td>50</td>\n",
       "      <td>15.0</td>\n",
       "      <td>500</td>\n",
       "      <td>550</td>\n",
       "      <td>200</td>\n",
       "      <td>3</td>\n",
       "      <td>3</td>\n",
       "    </tr>\n",
       "    <tr>\n",
       "      <th>9</th>\n",
       "      <td>1001</td>\n",
       "      <td>12</td>\n",
       "      <td>63.0</td>\n",
       "      <td>414.0</td>\n",
       "      <td>14.0</td>\n",
       "      <td>NaN</td>\n",
       "      <td>41</td>\n",
       "      <td>NaN</td>\n",
       "      <td>Москва</td>\n",
       "      <td>Иван</td>\n",
       "      <td>...</td>\n",
       "      <td>2018-11-01</td>\n",
       "      <td>smart</td>\n",
       "      <td>11</td>\n",
       "      <td>50</td>\n",
       "      <td>15.0</td>\n",
       "      <td>500</td>\n",
       "      <td>550</td>\n",
       "      <td>200</td>\n",
       "      <td>3</td>\n",
       "      <td>3</td>\n",
       "    </tr>\n",
       "  </tbody>\n",
       "</table>\n",
       "<p>10 rows × 21 columns</p>\n",
       "</div>"
      ],
      "text/plain": [
       "   user_id  month_x  calls_count  calls_sum  gb_used  messages_count  age  \\\n",
       "0     1000        5         22.0      159.0      3.0            22.0   52   \n",
       "1     1000        6         43.0      172.0     23.0            60.0   52   \n",
       "2     1000        7         47.0      340.0     14.0            75.0   52   \n",
       "3     1000        8         52.0      408.0     14.0            81.0   52   \n",
       "4     1000        9         58.0      466.0     15.0            57.0   52   \n",
       "5     1000       10         57.0      350.0     15.0            73.0   52   \n",
       "6     1000       11         43.0      338.0     15.0            58.0   52   \n",
       "7     1000       12         46.0      333.0     10.0            70.0   52   \n",
       "8     1001       11         59.0      430.0     18.0             NaN   41   \n",
       "9     1001       12         63.0      414.0     14.0             NaN   41   \n",
       "\n",
       "  churn_date       city first_name  ...    reg_date tariff month_y  \\\n",
       "0        NaN  Краснодар     Рафаил  ...  2018-05-25  ultra       5   \n",
       "1        NaN  Краснодар     Рафаил  ...  2018-05-25  ultra       5   \n",
       "2        NaN  Краснодар     Рафаил  ...  2018-05-25  ultra       5   \n",
       "3        NaN  Краснодар     Рафаил  ...  2018-05-25  ultra       5   \n",
       "4        NaN  Краснодар     Рафаил  ...  2018-05-25  ultra       5   \n",
       "5        NaN  Краснодар     Рафаил  ...  2018-05-25  ultra       5   \n",
       "6        NaN  Краснодар     Рафаил  ...  2018-05-25  ultra       5   \n",
       "7        NaN  Краснодар     Рафаил  ...  2018-05-25  ultra       5   \n",
       "8        NaN     Москва       Иван  ...  2018-11-01  smart      11   \n",
       "9        NaN     Москва       Иван  ...  2018-11-01  smart      11   \n",
       "\n",
       "   messages_included  gb_per_month_included  minutes_included  \\\n",
       "0               1000                   30.0              3000   \n",
       "1               1000                   30.0              3000   \n",
       "2               1000                   30.0              3000   \n",
       "3               1000                   30.0              3000   \n",
       "4               1000                   30.0              3000   \n",
       "5               1000                   30.0              3000   \n",
       "6               1000                   30.0              3000   \n",
       "7               1000                   30.0              3000   \n",
       "8                 50                   15.0               500   \n",
       "9                 50                   15.0               500   \n",
       "\n",
       "   rub_monthly_fee  rub_per_gb  rub_per_message  rub_per_minute  \n",
       "0             1950         150                1               1  \n",
       "1             1950         150                1               1  \n",
       "2             1950         150                1               1  \n",
       "3             1950         150                1               1  \n",
       "4             1950         150                1               1  \n",
       "5             1950         150                1               1  \n",
       "6             1950         150                1               1  \n",
       "7             1950         150                1               1  \n",
       "8              550         200                3               3  \n",
       "9              550         200                3               3  \n",
       "\n",
       "[10 rows x 21 columns]"
      ]
     },
     "metadata": {},
     "output_type": "display_data"
    }
   ],
   "source": [
    "df_merge = pivot_table_сalls.merge(pivot_table_internet, on=['user_id', 'month'], how='outer') #объединяем несколько таблиц в одну\n",
    "df_merge = df_merge.merge(pivot_table_messages_count, on=['user_id', 'month'], how='outer')\n",
    "df_merge = df_merge.merge(users, on='user_id', how='left')\n",
    "df_merge = df_merge.merge(tariffs, on='tariff', how='left') \n",
    "df_merge = df_merge.rename(columns={'mb_used': \"gb_used\", 'id': \"messages_count\"}) #переименовали столбцы\n",
    "df_merge_smart = df_merge.query('tariff == \"smart\"')\n",
    "df_merge_ultra = df_merge.query('tariff == \"ultra\"')\n",
    "display(df_merge.head(10)) #проверим полученные данные таблицы"
   ]
  },
  {
   "cell_type": "code",
   "execution_count": 22,
   "metadata": {},
   "outputs": [
    {
     "data": {
      "text/html": [
       "<div>\n",
       "<style scoped>\n",
       "    .dataframe tbody tr th:only-of-type {\n",
       "        vertical-align: middle;\n",
       "    }\n",
       "\n",
       "    .dataframe tbody tr th {\n",
       "        vertical-align: top;\n",
       "    }\n",
       "\n",
       "    .dataframe thead th {\n",
       "        text-align: right;\n",
       "    }\n",
       "</style>\n",
       "<table border=\"1\" class=\"dataframe\">\n",
       "  <thead>\n",
       "    <tr style=\"text-align: right;\">\n",
       "      <th></th>\n",
       "      <th>user_id</th>\n",
       "      <th>month_x</th>\n",
       "      <th>calls_count</th>\n",
       "      <th>calls_sum</th>\n",
       "      <th>gb_used</th>\n",
       "      <th>messages_count</th>\n",
       "      <th>age</th>\n",
       "      <th>churn_date</th>\n",
       "      <th>city</th>\n",
       "      <th>first_name</th>\n",
       "      <th>last_name</th>\n",
       "      <th>reg_date</th>\n",
       "      <th>tariff</th>\n",
       "      <th>month_y</th>\n",
       "      <th>messages_included</th>\n",
       "      <th>gb_per_month_included</th>\n",
       "      <th>minutes_included</th>\n",
       "      <th>rub_monthly_fee</th>\n",
       "      <th>rub_per_gb</th>\n",
       "      <th>rub_per_message</th>\n",
       "      <th>rub_per_minute</th>\n",
       "      <th>minutes_overrun</th>\n",
       "      <th>messages_overrun</th>\n",
       "      <th>gb_used_overrun</th>\n",
       "      <th>revenue</th>\n",
       "    </tr>\n",
       "  </thead>\n",
       "  <tbody>\n",
       "    <tr>\n",
       "      <th>0</th>\n",
       "      <td>1000</td>\n",
       "      <td>5</td>\n",
       "      <td>22.0</td>\n",
       "      <td>159.0</td>\n",
       "      <td>3.0</td>\n",
       "      <td>22.0</td>\n",
       "      <td>52</td>\n",
       "      <td>NaN</td>\n",
       "      <td>Краснодар</td>\n",
       "      <td>Рафаил</td>\n",
       "      <td>Верещагин</td>\n",
       "      <td>2018-05-25</td>\n",
       "      <td>ultra</td>\n",
       "      <td>5</td>\n",
       "      <td>1000</td>\n",
       "      <td>30.0</td>\n",
       "      <td>3000</td>\n",
       "      <td>1950</td>\n",
       "      <td>150</td>\n",
       "      <td>1</td>\n",
       "      <td>1</td>\n",
       "      <td>-2841.0</td>\n",
       "      <td>-978.0</td>\n",
       "      <td>-27.0</td>\n",
       "      <td>1950.0</td>\n",
       "    </tr>\n",
       "    <tr>\n",
       "      <th>1</th>\n",
       "      <td>1000</td>\n",
       "      <td>6</td>\n",
       "      <td>43.0</td>\n",
       "      <td>172.0</td>\n",
       "      <td>23.0</td>\n",
       "      <td>60.0</td>\n",
       "      <td>52</td>\n",
       "      <td>NaN</td>\n",
       "      <td>Краснодар</td>\n",
       "      <td>Рафаил</td>\n",
       "      <td>Верещагин</td>\n",
       "      <td>2018-05-25</td>\n",
       "      <td>ultra</td>\n",
       "      <td>5</td>\n",
       "      <td>1000</td>\n",
       "      <td>30.0</td>\n",
       "      <td>3000</td>\n",
       "      <td>1950</td>\n",
       "      <td>150</td>\n",
       "      <td>1</td>\n",
       "      <td>1</td>\n",
       "      <td>-2828.0</td>\n",
       "      <td>-940.0</td>\n",
       "      <td>-7.0</td>\n",
       "      <td>1950.0</td>\n",
       "    </tr>\n",
       "    <tr>\n",
       "      <th>2</th>\n",
       "      <td>1000</td>\n",
       "      <td>7</td>\n",
       "      <td>47.0</td>\n",
       "      <td>340.0</td>\n",
       "      <td>14.0</td>\n",
       "      <td>75.0</td>\n",
       "      <td>52</td>\n",
       "      <td>NaN</td>\n",
       "      <td>Краснодар</td>\n",
       "      <td>Рафаил</td>\n",
       "      <td>Верещагин</td>\n",
       "      <td>2018-05-25</td>\n",
       "      <td>ultra</td>\n",
       "      <td>5</td>\n",
       "      <td>1000</td>\n",
       "      <td>30.0</td>\n",
       "      <td>3000</td>\n",
       "      <td>1950</td>\n",
       "      <td>150</td>\n",
       "      <td>1</td>\n",
       "      <td>1</td>\n",
       "      <td>-2660.0</td>\n",
       "      <td>-925.0</td>\n",
       "      <td>-16.0</td>\n",
       "      <td>1950.0</td>\n",
       "    </tr>\n",
       "    <tr>\n",
       "      <th>3</th>\n",
       "      <td>1000</td>\n",
       "      <td>8</td>\n",
       "      <td>52.0</td>\n",
       "      <td>408.0</td>\n",
       "      <td>14.0</td>\n",
       "      <td>81.0</td>\n",
       "      <td>52</td>\n",
       "      <td>NaN</td>\n",
       "      <td>Краснодар</td>\n",
       "      <td>Рафаил</td>\n",
       "      <td>Верещагин</td>\n",
       "      <td>2018-05-25</td>\n",
       "      <td>ultra</td>\n",
       "      <td>5</td>\n",
       "      <td>1000</td>\n",
       "      <td>30.0</td>\n",
       "      <td>3000</td>\n",
       "      <td>1950</td>\n",
       "      <td>150</td>\n",
       "      <td>1</td>\n",
       "      <td>1</td>\n",
       "      <td>-2592.0</td>\n",
       "      <td>-919.0</td>\n",
       "      <td>-16.0</td>\n",
       "      <td>1950.0</td>\n",
       "    </tr>\n",
       "    <tr>\n",
       "      <th>4</th>\n",
       "      <td>1000</td>\n",
       "      <td>9</td>\n",
       "      <td>58.0</td>\n",
       "      <td>466.0</td>\n",
       "      <td>15.0</td>\n",
       "      <td>57.0</td>\n",
       "      <td>52</td>\n",
       "      <td>NaN</td>\n",
       "      <td>Краснодар</td>\n",
       "      <td>Рафаил</td>\n",
       "      <td>Верещагин</td>\n",
       "      <td>2018-05-25</td>\n",
       "      <td>ultra</td>\n",
       "      <td>5</td>\n",
       "      <td>1000</td>\n",
       "      <td>30.0</td>\n",
       "      <td>3000</td>\n",
       "      <td>1950</td>\n",
       "      <td>150</td>\n",
       "      <td>1</td>\n",
       "      <td>1</td>\n",
       "      <td>-2534.0</td>\n",
       "      <td>-943.0</td>\n",
       "      <td>-15.0</td>\n",
       "      <td>1950.0</td>\n",
       "    </tr>\n",
       "    <tr>\n",
       "      <th>5</th>\n",
       "      <td>1000</td>\n",
       "      <td>10</td>\n",
       "      <td>57.0</td>\n",
       "      <td>350.0</td>\n",
       "      <td>15.0</td>\n",
       "      <td>73.0</td>\n",
       "      <td>52</td>\n",
       "      <td>NaN</td>\n",
       "      <td>Краснодар</td>\n",
       "      <td>Рафаил</td>\n",
       "      <td>Верещагин</td>\n",
       "      <td>2018-05-25</td>\n",
       "      <td>ultra</td>\n",
       "      <td>5</td>\n",
       "      <td>1000</td>\n",
       "      <td>30.0</td>\n",
       "      <td>3000</td>\n",
       "      <td>1950</td>\n",
       "      <td>150</td>\n",
       "      <td>1</td>\n",
       "      <td>1</td>\n",
       "      <td>-2650.0</td>\n",
       "      <td>-927.0</td>\n",
       "      <td>-15.0</td>\n",
       "      <td>1950.0</td>\n",
       "    </tr>\n",
       "    <tr>\n",
       "      <th>6</th>\n",
       "      <td>1000</td>\n",
       "      <td>11</td>\n",
       "      <td>43.0</td>\n",
       "      <td>338.0</td>\n",
       "      <td>15.0</td>\n",
       "      <td>58.0</td>\n",
       "      <td>52</td>\n",
       "      <td>NaN</td>\n",
       "      <td>Краснодар</td>\n",
       "      <td>Рафаил</td>\n",
       "      <td>Верещагин</td>\n",
       "      <td>2018-05-25</td>\n",
       "      <td>ultra</td>\n",
       "      <td>5</td>\n",
       "      <td>1000</td>\n",
       "      <td>30.0</td>\n",
       "      <td>3000</td>\n",
       "      <td>1950</td>\n",
       "      <td>150</td>\n",
       "      <td>1</td>\n",
       "      <td>1</td>\n",
       "      <td>-2662.0</td>\n",
       "      <td>-942.0</td>\n",
       "      <td>-15.0</td>\n",
       "      <td>1950.0</td>\n",
       "    </tr>\n",
       "    <tr>\n",
       "      <th>7</th>\n",
       "      <td>1000</td>\n",
       "      <td>12</td>\n",
       "      <td>46.0</td>\n",
       "      <td>333.0</td>\n",
       "      <td>10.0</td>\n",
       "      <td>70.0</td>\n",
       "      <td>52</td>\n",
       "      <td>NaN</td>\n",
       "      <td>Краснодар</td>\n",
       "      <td>Рафаил</td>\n",
       "      <td>Верещагин</td>\n",
       "      <td>2018-05-25</td>\n",
       "      <td>ultra</td>\n",
       "      <td>5</td>\n",
       "      <td>1000</td>\n",
       "      <td>30.0</td>\n",
       "      <td>3000</td>\n",
       "      <td>1950</td>\n",
       "      <td>150</td>\n",
       "      <td>1</td>\n",
       "      <td>1</td>\n",
       "      <td>-2667.0</td>\n",
       "      <td>-930.0</td>\n",
       "      <td>-20.0</td>\n",
       "      <td>1950.0</td>\n",
       "    </tr>\n",
       "    <tr>\n",
       "      <th>8</th>\n",
       "      <td>1001</td>\n",
       "      <td>11</td>\n",
       "      <td>59.0</td>\n",
       "      <td>430.0</td>\n",
       "      <td>18.0</td>\n",
       "      <td>NaN</td>\n",
       "      <td>41</td>\n",
       "      <td>NaN</td>\n",
       "      <td>Москва</td>\n",
       "      <td>Иван</td>\n",
       "      <td>Ежов</td>\n",
       "      <td>2018-11-01</td>\n",
       "      <td>smart</td>\n",
       "      <td>11</td>\n",
       "      <td>50</td>\n",
       "      <td>15.0</td>\n",
       "      <td>500</td>\n",
       "      <td>550</td>\n",
       "      <td>200</td>\n",
       "      <td>3</td>\n",
       "      <td>3</td>\n",
       "      <td>-70.0</td>\n",
       "      <td>NaN</td>\n",
       "      <td>3.0</td>\n",
       "      <td>1150.0</td>\n",
       "    </tr>\n",
       "    <tr>\n",
       "      <th>9</th>\n",
       "      <td>1001</td>\n",
       "      <td>12</td>\n",
       "      <td>63.0</td>\n",
       "      <td>414.0</td>\n",
       "      <td>14.0</td>\n",
       "      <td>NaN</td>\n",
       "      <td>41</td>\n",
       "      <td>NaN</td>\n",
       "      <td>Москва</td>\n",
       "      <td>Иван</td>\n",
       "      <td>Ежов</td>\n",
       "      <td>2018-11-01</td>\n",
       "      <td>smart</td>\n",
       "      <td>11</td>\n",
       "      <td>50</td>\n",
       "      <td>15.0</td>\n",
       "      <td>500</td>\n",
       "      <td>550</td>\n",
       "      <td>200</td>\n",
       "      <td>3</td>\n",
       "      <td>3</td>\n",
       "      <td>-86.0</td>\n",
       "      <td>NaN</td>\n",
       "      <td>-1.0</td>\n",
       "      <td>550.0</td>\n",
       "    </tr>\n",
       "    <tr>\n",
       "      <th>10</th>\n",
       "      <td>1002</td>\n",
       "      <td>6</td>\n",
       "      <td>15.0</td>\n",
       "      <td>117.0</td>\n",
       "      <td>11.0</td>\n",
       "      <td>4.0</td>\n",
       "      <td>59</td>\n",
       "      <td>NaN</td>\n",
       "      <td>Стерлитамак</td>\n",
       "      <td>Евгений</td>\n",
       "      <td>Абрамович</td>\n",
       "      <td>2018-06-17</td>\n",
       "      <td>smart</td>\n",
       "      <td>6</td>\n",
       "      <td>50</td>\n",
       "      <td>15.0</td>\n",
       "      <td>500</td>\n",
       "      <td>550</td>\n",
       "      <td>200</td>\n",
       "      <td>3</td>\n",
       "      <td>3</td>\n",
       "      <td>-383.0</td>\n",
       "      <td>-46.0</td>\n",
       "      <td>-4.0</td>\n",
       "      <td>550.0</td>\n",
       "    </tr>\n",
       "    <tr>\n",
       "      <th>11</th>\n",
       "      <td>1002</td>\n",
       "      <td>7</td>\n",
       "      <td>26.0</td>\n",
       "      <td>214.0</td>\n",
       "      <td>18.0</td>\n",
       "      <td>11.0</td>\n",
       "      <td>59</td>\n",
       "      <td>NaN</td>\n",
       "      <td>Стерлитамак</td>\n",
       "      <td>Евгений</td>\n",
       "      <td>Абрамович</td>\n",
       "      <td>2018-06-17</td>\n",
       "      <td>smart</td>\n",
       "      <td>6</td>\n",
       "      <td>50</td>\n",
       "      <td>15.0</td>\n",
       "      <td>500</td>\n",
       "      <td>550</td>\n",
       "      <td>200</td>\n",
       "      <td>3</td>\n",
       "      <td>3</td>\n",
       "      <td>-286.0</td>\n",
       "      <td>-39.0</td>\n",
       "      <td>3.0</td>\n",
       "      <td>1150.0</td>\n",
       "    </tr>\n",
       "    <tr>\n",
       "      <th>12</th>\n",
       "      <td>1002</td>\n",
       "      <td>8</td>\n",
       "      <td>42.0</td>\n",
       "      <td>289.0</td>\n",
       "      <td>20.0</td>\n",
       "      <td>13.0</td>\n",
       "      <td>59</td>\n",
       "      <td>NaN</td>\n",
       "      <td>Стерлитамак</td>\n",
       "      <td>Евгений</td>\n",
       "      <td>Абрамович</td>\n",
       "      <td>2018-06-17</td>\n",
       "      <td>smart</td>\n",
       "      <td>6</td>\n",
       "      <td>50</td>\n",
       "      <td>15.0</td>\n",
       "      <td>500</td>\n",
       "      <td>550</td>\n",
       "      <td>200</td>\n",
       "      <td>3</td>\n",
       "      <td>3</td>\n",
       "      <td>-211.0</td>\n",
       "      <td>-37.0</td>\n",
       "      <td>5.0</td>\n",
       "      <td>1550.0</td>\n",
       "    </tr>\n",
       "    <tr>\n",
       "      <th>13</th>\n",
       "      <td>1002</td>\n",
       "      <td>9</td>\n",
       "      <td>36.0</td>\n",
       "      <td>206.0</td>\n",
       "      <td>17.0</td>\n",
       "      <td>4.0</td>\n",
       "      <td>59</td>\n",
       "      <td>NaN</td>\n",
       "      <td>Стерлитамак</td>\n",
       "      <td>Евгений</td>\n",
       "      <td>Абрамович</td>\n",
       "      <td>2018-06-17</td>\n",
       "      <td>smart</td>\n",
       "      <td>6</td>\n",
       "      <td>50</td>\n",
       "      <td>15.0</td>\n",
       "      <td>500</td>\n",
       "      <td>550</td>\n",
       "      <td>200</td>\n",
       "      <td>3</td>\n",
       "      <td>3</td>\n",
       "      <td>-294.0</td>\n",
       "      <td>-46.0</td>\n",
       "      <td>2.0</td>\n",
       "      <td>950.0</td>\n",
       "    </tr>\n",
       "    <tr>\n",
       "      <th>14</th>\n",
       "      <td>1002</td>\n",
       "      <td>10</td>\n",
       "      <td>33.0</td>\n",
       "      <td>212.0</td>\n",
       "      <td>14.0</td>\n",
       "      <td>10.0</td>\n",
       "      <td>59</td>\n",
       "      <td>NaN</td>\n",
       "      <td>Стерлитамак</td>\n",
       "      <td>Евгений</td>\n",
       "      <td>Абрамович</td>\n",
       "      <td>2018-06-17</td>\n",
       "      <td>smart</td>\n",
       "      <td>6</td>\n",
       "      <td>50</td>\n",
       "      <td>15.0</td>\n",
       "      <td>500</td>\n",
       "      <td>550</td>\n",
       "      <td>200</td>\n",
       "      <td>3</td>\n",
       "      <td>3</td>\n",
       "      <td>-288.0</td>\n",
       "      <td>-40.0</td>\n",
       "      <td>-1.0</td>\n",
       "      <td>550.0</td>\n",
       "    </tr>\n",
       "    <tr>\n",
       "      <th>15</th>\n",
       "      <td>1002</td>\n",
       "      <td>11</td>\n",
       "      <td>32.0</td>\n",
       "      <td>243.0</td>\n",
       "      <td>19.0</td>\n",
       "      <td>16.0</td>\n",
       "      <td>59</td>\n",
       "      <td>NaN</td>\n",
       "      <td>Стерлитамак</td>\n",
       "      <td>Евгений</td>\n",
       "      <td>Абрамович</td>\n",
       "      <td>2018-06-17</td>\n",
       "      <td>smart</td>\n",
       "      <td>6</td>\n",
       "      <td>50</td>\n",
       "      <td>15.0</td>\n",
       "      <td>500</td>\n",
       "      <td>550</td>\n",
       "      <td>200</td>\n",
       "      <td>3</td>\n",
       "      <td>3</td>\n",
       "      <td>-257.0</td>\n",
       "      <td>-34.0</td>\n",
       "      <td>4.0</td>\n",
       "      <td>1350.0</td>\n",
       "    </tr>\n",
       "    <tr>\n",
       "      <th>16</th>\n",
       "      <td>1002</td>\n",
       "      <td>12</td>\n",
       "      <td>33.0</td>\n",
       "      <td>236.0</td>\n",
       "      <td>18.0</td>\n",
       "      <td>12.0</td>\n",
       "      <td>59</td>\n",
       "      <td>NaN</td>\n",
       "      <td>Стерлитамак</td>\n",
       "      <td>Евгений</td>\n",
       "      <td>Абрамович</td>\n",
       "      <td>2018-06-17</td>\n",
       "      <td>smart</td>\n",
       "      <td>6</td>\n",
       "      <td>50</td>\n",
       "      <td>15.0</td>\n",
       "      <td>500</td>\n",
       "      <td>550</td>\n",
       "      <td>200</td>\n",
       "      <td>3</td>\n",
       "      <td>3</td>\n",
       "      <td>-264.0</td>\n",
       "      <td>-38.0</td>\n",
       "      <td>3.0</td>\n",
       "      <td>1150.0</td>\n",
       "    </tr>\n",
       "    <tr>\n",
       "      <th>17</th>\n",
       "      <td>1003</td>\n",
       "      <td>8</td>\n",
       "      <td>55.0</td>\n",
       "      <td>380.0</td>\n",
       "      <td>9.0</td>\n",
       "      <td>37.0</td>\n",
       "      <td>23</td>\n",
       "      <td>NaN</td>\n",
       "      <td>Москва</td>\n",
       "      <td>Белла</td>\n",
       "      <td>Белякова</td>\n",
       "      <td>2018-08-17</td>\n",
       "      <td>ultra</td>\n",
       "      <td>8</td>\n",
       "      <td>1000</td>\n",
       "      <td>30.0</td>\n",
       "      <td>3000</td>\n",
       "      <td>1950</td>\n",
       "      <td>150</td>\n",
       "      <td>1</td>\n",
       "      <td>1</td>\n",
       "      <td>-2620.0</td>\n",
       "      <td>-963.0</td>\n",
       "      <td>-21.0</td>\n",
       "      <td>1950.0</td>\n",
       "    </tr>\n",
       "    <tr>\n",
       "      <th>18</th>\n",
       "      <td>1003</td>\n",
       "      <td>9</td>\n",
       "      <td>134.0</td>\n",
       "      <td>961.0</td>\n",
       "      <td>13.0</td>\n",
       "      <td>91.0</td>\n",
       "      <td>23</td>\n",
       "      <td>NaN</td>\n",
       "      <td>Москва</td>\n",
       "      <td>Белла</td>\n",
       "      <td>Белякова</td>\n",
       "      <td>2018-08-17</td>\n",
       "      <td>ultra</td>\n",
       "      <td>8</td>\n",
       "      <td>1000</td>\n",
       "      <td>30.0</td>\n",
       "      <td>3000</td>\n",
       "      <td>1950</td>\n",
       "      <td>150</td>\n",
       "      <td>1</td>\n",
       "      <td>1</td>\n",
       "      <td>-2039.0</td>\n",
       "      <td>-909.0</td>\n",
       "      <td>-17.0</td>\n",
       "      <td>1950.0</td>\n",
       "    </tr>\n",
       "    <tr>\n",
       "      <th>19</th>\n",
       "      <td>1003</td>\n",
       "      <td>10</td>\n",
       "      <td>108.0</td>\n",
       "      <td>855.0</td>\n",
       "      <td>15.0</td>\n",
       "      <td>83.0</td>\n",
       "      <td>23</td>\n",
       "      <td>NaN</td>\n",
       "      <td>Москва</td>\n",
       "      <td>Белла</td>\n",
       "      <td>Белякова</td>\n",
       "      <td>2018-08-17</td>\n",
       "      <td>ultra</td>\n",
       "      <td>8</td>\n",
       "      <td>1000</td>\n",
       "      <td>30.0</td>\n",
       "      <td>3000</td>\n",
       "      <td>1950</td>\n",
       "      <td>150</td>\n",
       "      <td>1</td>\n",
       "      <td>1</td>\n",
       "      <td>-2145.0</td>\n",
       "      <td>-917.0</td>\n",
       "      <td>-15.0</td>\n",
       "      <td>1950.0</td>\n",
       "    </tr>\n",
       "    <tr>\n",
       "      <th>20</th>\n",
       "      <td>1003</td>\n",
       "      <td>11</td>\n",
       "      <td>115.0</td>\n",
       "      <td>824.0</td>\n",
       "      <td>12.0</td>\n",
       "      <td>94.0</td>\n",
       "      <td>23</td>\n",
       "      <td>NaN</td>\n",
       "      <td>Москва</td>\n",
       "      <td>Белла</td>\n",
       "      <td>Белякова</td>\n",
       "      <td>2018-08-17</td>\n",
       "      <td>ultra</td>\n",
       "      <td>8</td>\n",
       "      <td>1000</td>\n",
       "      <td>30.0</td>\n",
       "      <td>3000</td>\n",
       "      <td>1950</td>\n",
       "      <td>150</td>\n",
       "      <td>1</td>\n",
       "      <td>1</td>\n",
       "      <td>-2176.0</td>\n",
       "      <td>-906.0</td>\n",
       "      <td>-18.0</td>\n",
       "      <td>1950.0</td>\n",
       "    </tr>\n",
       "    <tr>\n",
       "      <th>21</th>\n",
       "      <td>1003</td>\n",
       "      <td>12</td>\n",
       "      <td>108.0</td>\n",
       "      <td>802.0</td>\n",
       "      <td>10.0</td>\n",
       "      <td>75.0</td>\n",
       "      <td>23</td>\n",
       "      <td>NaN</td>\n",
       "      <td>Москва</td>\n",
       "      <td>Белла</td>\n",
       "      <td>Белякова</td>\n",
       "      <td>2018-08-17</td>\n",
       "      <td>ultra</td>\n",
       "      <td>8</td>\n",
       "      <td>1000</td>\n",
       "      <td>30.0</td>\n",
       "      <td>3000</td>\n",
       "      <td>1950</td>\n",
       "      <td>150</td>\n",
       "      <td>1</td>\n",
       "      <td>1</td>\n",
       "      <td>-2198.0</td>\n",
       "      <td>-925.0</td>\n",
       "      <td>-20.0</td>\n",
       "      <td>1950.0</td>\n",
       "    </tr>\n",
       "    <tr>\n",
       "      <th>22</th>\n",
       "      <td>1004</td>\n",
       "      <td>5</td>\n",
       "      <td>9.0</td>\n",
       "      <td>35.0</td>\n",
       "      <td>14.0</td>\n",
       "      <td>95.0</td>\n",
       "      <td>68</td>\n",
       "      <td>NaN</td>\n",
       "      <td>Новокузнецк</td>\n",
       "      <td>Татьяна</td>\n",
       "      <td>Авдеенко</td>\n",
       "      <td>2018-05-14</td>\n",
       "      <td>ultra</td>\n",
       "      <td>5</td>\n",
       "      <td>1000</td>\n",
       "      <td>30.0</td>\n",
       "      <td>3000</td>\n",
       "      <td>1950</td>\n",
       "      <td>150</td>\n",
       "      <td>1</td>\n",
       "      <td>1</td>\n",
       "      <td>-2965.0</td>\n",
       "      <td>-905.0</td>\n",
       "      <td>-16.0</td>\n",
       "      <td>1950.0</td>\n",
       "    </tr>\n",
       "    <tr>\n",
       "      <th>23</th>\n",
       "      <td>1004</td>\n",
       "      <td>6</td>\n",
       "      <td>31.0</td>\n",
       "      <td>171.0</td>\n",
       "      <td>18.0</td>\n",
       "      <td>134.0</td>\n",
       "      <td>68</td>\n",
       "      <td>NaN</td>\n",
       "      <td>Новокузнецк</td>\n",
       "      <td>Татьяна</td>\n",
       "      <td>Авдеенко</td>\n",
       "      <td>2018-05-14</td>\n",
       "      <td>ultra</td>\n",
       "      <td>5</td>\n",
       "      <td>1000</td>\n",
       "      <td>30.0</td>\n",
       "      <td>3000</td>\n",
       "      <td>1950</td>\n",
       "      <td>150</td>\n",
       "      <td>1</td>\n",
       "      <td>1</td>\n",
       "      <td>-2829.0</td>\n",
       "      <td>-866.0</td>\n",
       "      <td>-12.0</td>\n",
       "      <td>1950.0</td>\n",
       "    </tr>\n",
       "    <tr>\n",
       "      <th>24</th>\n",
       "      <td>1004</td>\n",
       "      <td>7</td>\n",
       "      <td>22.0</td>\n",
       "      <td>135.0</td>\n",
       "      <td>22.0</td>\n",
       "      <td>181.0</td>\n",
       "      <td>68</td>\n",
       "      <td>NaN</td>\n",
       "      <td>Новокузнецк</td>\n",
       "      <td>Татьяна</td>\n",
       "      <td>Авдеенко</td>\n",
       "      <td>2018-05-14</td>\n",
       "      <td>ultra</td>\n",
       "      <td>5</td>\n",
       "      <td>1000</td>\n",
       "      <td>30.0</td>\n",
       "      <td>3000</td>\n",
       "      <td>1950</td>\n",
       "      <td>150</td>\n",
       "      <td>1</td>\n",
       "      <td>1</td>\n",
       "      <td>-2865.0</td>\n",
       "      <td>-819.0</td>\n",
       "      <td>-8.0</td>\n",
       "      <td>1950.0</td>\n",
       "    </tr>\n",
       "    <tr>\n",
       "      <th>25</th>\n",
       "      <td>1004</td>\n",
       "      <td>8</td>\n",
       "      <td>19.0</td>\n",
       "      <td>137.0</td>\n",
       "      <td>28.0</td>\n",
       "      <td>151.0</td>\n",
       "      <td>68</td>\n",
       "      <td>NaN</td>\n",
       "      <td>Новокузнецк</td>\n",
       "      <td>Татьяна</td>\n",
       "      <td>Авдеенко</td>\n",
       "      <td>2018-05-14</td>\n",
       "      <td>ultra</td>\n",
       "      <td>5</td>\n",
       "      <td>1000</td>\n",
       "      <td>30.0</td>\n",
       "      <td>3000</td>\n",
       "      <td>1950</td>\n",
       "      <td>150</td>\n",
       "      <td>1</td>\n",
       "      <td>1</td>\n",
       "      <td>-2863.0</td>\n",
       "      <td>-849.0</td>\n",
       "      <td>-2.0</td>\n",
       "      <td>1950.0</td>\n",
       "    </tr>\n",
       "    <tr>\n",
       "      <th>26</th>\n",
       "      <td>1004</td>\n",
       "      <td>9</td>\n",
       "      <td>26.0</td>\n",
       "      <td>117.0</td>\n",
       "      <td>15.0</td>\n",
       "      <td>146.0</td>\n",
       "      <td>68</td>\n",
       "      <td>NaN</td>\n",
       "      <td>Новокузнецк</td>\n",
       "      <td>Татьяна</td>\n",
       "      <td>Авдеенко</td>\n",
       "      <td>2018-05-14</td>\n",
       "      <td>ultra</td>\n",
       "      <td>5</td>\n",
       "      <td>1000</td>\n",
       "      <td>30.0</td>\n",
       "      <td>3000</td>\n",
       "      <td>1950</td>\n",
       "      <td>150</td>\n",
       "      <td>1</td>\n",
       "      <td>1</td>\n",
       "      <td>-2883.0</td>\n",
       "      <td>-854.0</td>\n",
       "      <td>-15.0</td>\n",
       "      <td>1950.0</td>\n",
       "    </tr>\n",
       "    <tr>\n",
       "      <th>27</th>\n",
       "      <td>1004</td>\n",
       "      <td>10</td>\n",
       "      <td>29.0</td>\n",
       "      <td>145.0</td>\n",
       "      <td>19.0</td>\n",
       "      <td>165.0</td>\n",
       "      <td>68</td>\n",
       "      <td>NaN</td>\n",
       "      <td>Новокузнецк</td>\n",
       "      <td>Татьяна</td>\n",
       "      <td>Авдеенко</td>\n",
       "      <td>2018-05-14</td>\n",
       "      <td>ultra</td>\n",
       "      <td>5</td>\n",
       "      <td>1000</td>\n",
       "      <td>30.0</td>\n",
       "      <td>3000</td>\n",
       "      <td>1950</td>\n",
       "      <td>150</td>\n",
       "      <td>1</td>\n",
       "      <td>1</td>\n",
       "      <td>-2855.0</td>\n",
       "      <td>-835.0</td>\n",
       "      <td>-11.0</td>\n",
       "      <td>1950.0</td>\n",
       "    </tr>\n",
       "    <tr>\n",
       "      <th>28</th>\n",
       "      <td>1004</td>\n",
       "      <td>11</td>\n",
       "      <td>19.0</td>\n",
       "      <td>117.0</td>\n",
       "      <td>16.0</td>\n",
       "      <td>158.0</td>\n",
       "      <td>68</td>\n",
       "      <td>NaN</td>\n",
       "      <td>Новокузнецк</td>\n",
       "      <td>Татьяна</td>\n",
       "      <td>Авдеенко</td>\n",
       "      <td>2018-05-14</td>\n",
       "      <td>ultra</td>\n",
       "      <td>5</td>\n",
       "      <td>1000</td>\n",
       "      <td>30.0</td>\n",
       "      <td>3000</td>\n",
       "      <td>1950</td>\n",
       "      <td>150</td>\n",
       "      <td>1</td>\n",
       "      <td>1</td>\n",
       "      <td>-2883.0</td>\n",
       "      <td>-842.0</td>\n",
       "      <td>-14.0</td>\n",
       "      <td>1950.0</td>\n",
       "    </tr>\n",
       "    <tr>\n",
       "      <th>29</th>\n",
       "      <td>1004</td>\n",
       "      <td>12</td>\n",
       "      <td>21.0</td>\n",
       "      <td>130.0</td>\n",
       "      <td>18.0</td>\n",
       "      <td>162.0</td>\n",
       "      <td>68</td>\n",
       "      <td>NaN</td>\n",
       "      <td>Новокузнецк</td>\n",
       "      <td>Татьяна</td>\n",
       "      <td>Авдеенко</td>\n",
       "      <td>2018-05-14</td>\n",
       "      <td>ultra</td>\n",
       "      <td>5</td>\n",
       "      <td>1000</td>\n",
       "      <td>30.0</td>\n",
       "      <td>3000</td>\n",
       "      <td>1950</td>\n",
       "      <td>150</td>\n",
       "      <td>1</td>\n",
       "      <td>1</td>\n",
       "      <td>-2870.0</td>\n",
       "      <td>-838.0</td>\n",
       "      <td>-12.0</td>\n",
       "      <td>1950.0</td>\n",
       "    </tr>\n",
       "    <tr>\n",
       "      <th>30</th>\n",
       "      <td>1005</td>\n",
       "      <td>1</td>\n",
       "      <td>15.0</td>\n",
       "      <td>95.0</td>\n",
       "      <td>3.0</td>\n",
       "      <td>7.0</td>\n",
       "      <td>67</td>\n",
       "      <td>NaN</td>\n",
       "      <td>Набережные Челны</td>\n",
       "      <td>Афанасий</td>\n",
       "      <td>Горлов</td>\n",
       "      <td>2018-01-25</td>\n",
       "      <td>smart</td>\n",
       "      <td>1</td>\n",
       "      <td>50</td>\n",
       "      <td>15.0</td>\n",
       "      <td>500</td>\n",
       "      <td>550</td>\n",
       "      <td>200</td>\n",
       "      <td>3</td>\n",
       "      <td>3</td>\n",
       "      <td>-405.0</td>\n",
       "      <td>-43.0</td>\n",
       "      <td>-12.0</td>\n",
       "      <td>550.0</td>\n",
       "    </tr>\n",
       "    <tr>\n",
       "      <th>31</th>\n",
       "      <td>1005</td>\n",
       "      <td>2</td>\n",
       "      <td>69.0</td>\n",
       "      <td>456.0</td>\n",
       "      <td>8.0</td>\n",
       "      <td>38.0</td>\n",
       "      <td>67</td>\n",
       "      <td>NaN</td>\n",
       "      <td>Набережные Челны</td>\n",
       "      <td>Афанасий</td>\n",
       "      <td>Горлов</td>\n",
       "      <td>2018-01-25</td>\n",
       "      <td>smart</td>\n",
       "      <td>1</td>\n",
       "      <td>50</td>\n",
       "      <td>15.0</td>\n",
       "      <td>500</td>\n",
       "      <td>550</td>\n",
       "      <td>200</td>\n",
       "      <td>3</td>\n",
       "      <td>3</td>\n",
       "      <td>-44.0</td>\n",
       "      <td>-12.0</td>\n",
       "      <td>-7.0</td>\n",
       "      <td>550.0</td>\n",
       "    </tr>\n",
       "    <tr>\n",
       "      <th>32</th>\n",
       "      <td>1005</td>\n",
       "      <td>3</td>\n",
       "      <td>77.0</td>\n",
       "      <td>606.0</td>\n",
       "      <td>11.0</td>\n",
       "      <td>56.0</td>\n",
       "      <td>67</td>\n",
       "      <td>NaN</td>\n",
       "      <td>Набережные Челны</td>\n",
       "      <td>Афанасий</td>\n",
       "      <td>Горлов</td>\n",
       "      <td>2018-01-25</td>\n",
       "      <td>smart</td>\n",
       "      <td>1</td>\n",
       "      <td>50</td>\n",
       "      <td>15.0</td>\n",
       "      <td>500</td>\n",
       "      <td>550</td>\n",
       "      <td>200</td>\n",
       "      <td>3</td>\n",
       "      <td>3</td>\n",
       "      <td>106.0</td>\n",
       "      <td>6.0</td>\n",
       "      <td>-4.0</td>\n",
       "      <td>886.0</td>\n",
       "    </tr>\n",
       "    <tr>\n",
       "      <th>33</th>\n",
       "      <td>1005</td>\n",
       "      <td>4</td>\n",
       "      <td>101.0</td>\n",
       "      <td>712.0</td>\n",
       "      <td>10.0</td>\n",
       "      <td>41.0</td>\n",
       "      <td>67</td>\n",
       "      <td>NaN</td>\n",
       "      <td>Набережные Челны</td>\n",
       "      <td>Афанасий</td>\n",
       "      <td>Горлов</td>\n",
       "      <td>2018-01-25</td>\n",
       "      <td>smart</td>\n",
       "      <td>1</td>\n",
       "      <td>50</td>\n",
       "      <td>15.0</td>\n",
       "      <td>500</td>\n",
       "      <td>550</td>\n",
       "      <td>200</td>\n",
       "      <td>3</td>\n",
       "      <td>3</td>\n",
       "      <td>212.0</td>\n",
       "      <td>-9.0</td>\n",
       "      <td>-5.0</td>\n",
       "      <td>1186.0</td>\n",
       "    </tr>\n",
       "    <tr>\n",
       "      <th>34</th>\n",
       "      <td>1005</td>\n",
       "      <td>5</td>\n",
       "      <td>73.0</td>\n",
       "      <td>595.0</td>\n",
       "      <td>8.0</td>\n",
       "      <td>42.0</td>\n",
       "      <td>67</td>\n",
       "      <td>NaN</td>\n",
       "      <td>Набережные Челны</td>\n",
       "      <td>Афанасий</td>\n",
       "      <td>Горлов</td>\n",
       "      <td>2018-01-25</td>\n",
       "      <td>smart</td>\n",
       "      <td>1</td>\n",
       "      <td>50</td>\n",
       "      <td>15.0</td>\n",
       "      <td>500</td>\n",
       "      <td>550</td>\n",
       "      <td>200</td>\n",
       "      <td>3</td>\n",
       "      <td>3</td>\n",
       "      <td>95.0</td>\n",
       "      <td>-8.0</td>\n",
       "      <td>-7.0</td>\n",
       "      <td>835.0</td>\n",
       "    </tr>\n",
       "    <tr>\n",
       "      <th>35</th>\n",
       "      <td>1005</td>\n",
       "      <td>6</td>\n",
       "      <td>80.0</td>\n",
       "      <td>612.0</td>\n",
       "      <td>10.0</td>\n",
       "      <td>47.0</td>\n",
       "      <td>67</td>\n",
       "      <td>NaN</td>\n",
       "      <td>Набережные Челны</td>\n",
       "      <td>Афанасий</td>\n",
       "      <td>Горлов</td>\n",
       "      <td>2018-01-25</td>\n",
       "      <td>smart</td>\n",
       "      <td>1</td>\n",
       "      <td>50</td>\n",
       "      <td>15.0</td>\n",
       "      <td>500</td>\n",
       "      <td>550</td>\n",
       "      <td>200</td>\n",
       "      <td>3</td>\n",
       "      <td>3</td>\n",
       "      <td>112.0</td>\n",
       "      <td>-3.0</td>\n",
       "      <td>-5.0</td>\n",
       "      <td>886.0</td>\n",
       "    </tr>\n",
       "    <tr>\n",
       "      <th>36</th>\n",
       "      <td>1005</td>\n",
       "      <td>7</td>\n",
       "      <td>77.0</td>\n",
       "      <td>569.0</td>\n",
       "      <td>8.0</td>\n",
       "      <td>56.0</td>\n",
       "      <td>67</td>\n",
       "      <td>NaN</td>\n",
       "      <td>Набережные Челны</td>\n",
       "      <td>Афанасий</td>\n",
       "      <td>Горлов</td>\n",
       "      <td>2018-01-25</td>\n",
       "      <td>smart</td>\n",
       "      <td>1</td>\n",
       "      <td>50</td>\n",
       "      <td>15.0</td>\n",
       "      <td>500</td>\n",
       "      <td>550</td>\n",
       "      <td>200</td>\n",
       "      <td>3</td>\n",
       "      <td>3</td>\n",
       "      <td>69.0</td>\n",
       "      <td>6.0</td>\n",
       "      <td>-7.0</td>\n",
       "      <td>775.0</td>\n",
       "    </tr>\n",
       "    <tr>\n",
       "      <th>37</th>\n",
       "      <td>1005</td>\n",
       "      <td>8</td>\n",
       "      <td>71.0</td>\n",
       "      <td>619.0</td>\n",
       "      <td>8.0</td>\n",
       "      <td>64.0</td>\n",
       "      <td>67</td>\n",
       "      <td>NaN</td>\n",
       "      <td>Набережные Челны</td>\n",
       "      <td>Афанасий</td>\n",
       "      <td>Горлов</td>\n",
       "      <td>2018-01-25</td>\n",
       "      <td>smart</td>\n",
       "      <td>1</td>\n",
       "      <td>50</td>\n",
       "      <td>15.0</td>\n",
       "      <td>500</td>\n",
       "      <td>550</td>\n",
       "      <td>200</td>\n",
       "      <td>3</td>\n",
       "      <td>3</td>\n",
       "      <td>119.0</td>\n",
       "      <td>14.0</td>\n",
       "      <td>-7.0</td>\n",
       "      <td>949.0</td>\n",
       "    </tr>\n",
       "    <tr>\n",
       "      <th>38</th>\n",
       "      <td>1005</td>\n",
       "      <td>9</td>\n",
       "      <td>66.0</td>\n",
       "      <td>479.0</td>\n",
       "      <td>7.0</td>\n",
       "      <td>52.0</td>\n",
       "      <td>67</td>\n",
       "      <td>NaN</td>\n",
       "      <td>Набережные Челны</td>\n",
       "      <td>Афанасий</td>\n",
       "      <td>Горлов</td>\n",
       "      <td>2018-01-25</td>\n",
       "      <td>smart</td>\n",
       "      <td>1</td>\n",
       "      <td>50</td>\n",
       "      <td>15.0</td>\n",
       "      <td>500</td>\n",
       "      <td>550</td>\n",
       "      <td>200</td>\n",
       "      <td>3</td>\n",
       "      <td>3</td>\n",
       "      <td>-21.0</td>\n",
       "      <td>2.0</td>\n",
       "      <td>-8.0</td>\n",
       "      <td>556.0</td>\n",
       "    </tr>\n",
       "    <tr>\n",
       "      <th>39</th>\n",
       "      <td>1005</td>\n",
       "      <td>10</td>\n",
       "      <td>100.0</td>\n",
       "      <td>723.0</td>\n",
       "      <td>8.0</td>\n",
       "      <td>44.0</td>\n",
       "      <td>67</td>\n",
       "      <td>NaN</td>\n",
       "      <td>Набережные Челны</td>\n",
       "      <td>Афанасий</td>\n",
       "      <td>Горлов</td>\n",
       "      <td>2018-01-25</td>\n",
       "      <td>smart</td>\n",
       "      <td>1</td>\n",
       "      <td>50</td>\n",
       "      <td>15.0</td>\n",
       "      <td>500</td>\n",
       "      <td>550</td>\n",
       "      <td>200</td>\n",
       "      <td>3</td>\n",
       "      <td>3</td>\n",
       "      <td>223.0</td>\n",
       "      <td>-6.0</td>\n",
       "      <td>-7.0</td>\n",
       "      <td>1219.0</td>\n",
       "    </tr>\n",
       "    <tr>\n",
       "      <th>40</th>\n",
       "      <td>1005</td>\n",
       "      <td>11</td>\n",
       "      <td>75.0</td>\n",
       "      <td>547.0</td>\n",
       "      <td>13.0</td>\n",
       "      <td>51.0</td>\n",
       "      <td>67</td>\n",
       "      <td>NaN</td>\n",
       "      <td>Набережные Челны</td>\n",
       "      <td>Афанасий</td>\n",
       "      <td>Горлов</td>\n",
       "      <td>2018-01-25</td>\n",
       "      <td>smart</td>\n",
       "      <td>1</td>\n",
       "      <td>50</td>\n",
       "      <td>15.0</td>\n",
       "      <td>500</td>\n",
       "      <td>550</td>\n",
       "      <td>200</td>\n",
       "      <td>3</td>\n",
       "      <td>3</td>\n",
       "      <td>47.0</td>\n",
       "      <td>1.0</td>\n",
       "      <td>-2.0</td>\n",
       "      <td>694.0</td>\n",
       "    </tr>\n",
       "    <tr>\n",
       "      <th>41</th>\n",
       "      <td>1005</td>\n",
       "      <td>12</td>\n",
       "      <td>84.0</td>\n",
       "      <td>592.0</td>\n",
       "      <td>9.0</td>\n",
       "      <td>54.0</td>\n",
       "      <td>67</td>\n",
       "      <td>NaN</td>\n",
       "      <td>Набережные Челны</td>\n",
       "      <td>Афанасий</td>\n",
       "      <td>Горлов</td>\n",
       "      <td>2018-01-25</td>\n",
       "      <td>smart</td>\n",
       "      <td>1</td>\n",
       "      <td>50</td>\n",
       "      <td>15.0</td>\n",
       "      <td>500</td>\n",
       "      <td>550</td>\n",
       "      <td>200</td>\n",
       "      <td>3</td>\n",
       "      <td>3</td>\n",
       "      <td>92.0</td>\n",
       "      <td>4.0</td>\n",
       "      <td>-6.0</td>\n",
       "      <td>838.0</td>\n",
       "    </tr>\n",
       "    <tr>\n",
       "      <th>42</th>\n",
       "      <td>1006</td>\n",
       "      <td>2</td>\n",
       "      <td>3.0</td>\n",
       "      <td>42.0</td>\n",
       "      <td>2.0</td>\n",
       "      <td>NaN</td>\n",
       "      <td>21</td>\n",
       "      <td>NaN</td>\n",
       "      <td>Ульяновск</td>\n",
       "      <td>Леонид</td>\n",
       "      <td>Ермолаев</td>\n",
       "      <td>2018-02-26</td>\n",
       "      <td>smart</td>\n",
       "      <td>2</td>\n",
       "      <td>50</td>\n",
       "      <td>15.0</td>\n",
       "      <td>500</td>\n",
       "      <td>550</td>\n",
       "      <td>200</td>\n",
       "      <td>3</td>\n",
       "      <td>3</td>\n",
       "      <td>-458.0</td>\n",
       "      <td>NaN</td>\n",
       "      <td>-13.0</td>\n",
       "      <td>550.0</td>\n",
       "    </tr>\n",
       "    <tr>\n",
       "      <th>43</th>\n",
       "      <td>1006</td>\n",
       "      <td>3</td>\n",
       "      <td>46.0</td>\n",
       "      <td>286.0</td>\n",
       "      <td>17.0</td>\n",
       "      <td>NaN</td>\n",
       "      <td>21</td>\n",
       "      <td>NaN</td>\n",
       "      <td>Ульяновск</td>\n",
       "      <td>Леонид</td>\n",
       "      <td>Ермолаев</td>\n",
       "      <td>2018-02-26</td>\n",
       "      <td>smart</td>\n",
       "      <td>2</td>\n",
       "      <td>50</td>\n",
       "      <td>15.0</td>\n",
       "      <td>500</td>\n",
       "      <td>550</td>\n",
       "      <td>200</td>\n",
       "      <td>3</td>\n",
       "      <td>3</td>\n",
       "      <td>-214.0</td>\n",
       "      <td>NaN</td>\n",
       "      <td>2.0</td>\n",
       "      <td>950.0</td>\n",
       "    </tr>\n",
       "    <tr>\n",
       "      <th>44</th>\n",
       "      <td>1006</td>\n",
       "      <td>4</td>\n",
       "      <td>47.0</td>\n",
       "      <td>356.0</td>\n",
       "      <td>14.0</td>\n",
       "      <td>NaN</td>\n",
       "      <td>21</td>\n",
       "      <td>NaN</td>\n",
       "      <td>Ульяновск</td>\n",
       "      <td>Леонид</td>\n",
       "      <td>Ермолаев</td>\n",
       "      <td>2018-02-26</td>\n",
       "      <td>smart</td>\n",
       "      <td>2</td>\n",
       "      <td>50</td>\n",
       "      <td>15.0</td>\n",
       "      <td>500</td>\n",
       "      <td>550</td>\n",
       "      <td>200</td>\n",
       "      <td>3</td>\n",
       "      <td>3</td>\n",
       "      <td>-144.0</td>\n",
       "      <td>NaN</td>\n",
       "      <td>-1.0</td>\n",
       "      <td>550.0</td>\n",
       "    </tr>\n",
       "    <tr>\n",
       "      <th>45</th>\n",
       "      <td>1006</td>\n",
       "      <td>5</td>\n",
       "      <td>56.0</td>\n",
       "      <td>370.0</td>\n",
       "      <td>13.0</td>\n",
       "      <td>NaN</td>\n",
       "      <td>21</td>\n",
       "      <td>NaN</td>\n",
       "      <td>Ульяновск</td>\n",
       "      <td>Леонид</td>\n",
       "      <td>Ермолаев</td>\n",
       "      <td>2018-02-26</td>\n",
       "      <td>smart</td>\n",
       "      <td>2</td>\n",
       "      <td>50</td>\n",
       "      <td>15.0</td>\n",
       "      <td>500</td>\n",
       "      <td>550</td>\n",
       "      <td>200</td>\n",
       "      <td>3</td>\n",
       "      <td>3</td>\n",
       "      <td>-130.0</td>\n",
       "      <td>NaN</td>\n",
       "      <td>-2.0</td>\n",
       "      <td>550.0</td>\n",
       "    </tr>\n",
       "    <tr>\n",
       "      <th>46</th>\n",
       "      <td>1006</td>\n",
       "      <td>6</td>\n",
       "      <td>53.0</td>\n",
       "      <td>478.0</td>\n",
       "      <td>13.0</td>\n",
       "      <td>NaN</td>\n",
       "      <td>21</td>\n",
       "      <td>NaN</td>\n",
       "      <td>Ульяновск</td>\n",
       "      <td>Леонид</td>\n",
       "      <td>Ермолаев</td>\n",
       "      <td>2018-02-26</td>\n",
       "      <td>smart</td>\n",
       "      <td>2</td>\n",
       "      <td>50</td>\n",
       "      <td>15.0</td>\n",
       "      <td>500</td>\n",
       "      <td>550</td>\n",
       "      <td>200</td>\n",
       "      <td>3</td>\n",
       "      <td>3</td>\n",
       "      <td>-22.0</td>\n",
       "      <td>NaN</td>\n",
       "      <td>-2.0</td>\n",
       "      <td>550.0</td>\n",
       "    </tr>\n",
       "    <tr>\n",
       "      <th>47</th>\n",
       "      <td>1006</td>\n",
       "      <td>7</td>\n",
       "      <td>49.0</td>\n",
       "      <td>316.0</td>\n",
       "      <td>20.0</td>\n",
       "      <td>NaN</td>\n",
       "      <td>21</td>\n",
       "      <td>NaN</td>\n",
       "      <td>Ульяновск</td>\n",
       "      <td>Леонид</td>\n",
       "      <td>Ермолаев</td>\n",
       "      <td>2018-02-26</td>\n",
       "      <td>smart</td>\n",
       "      <td>2</td>\n",
       "      <td>50</td>\n",
       "      <td>15.0</td>\n",
       "      <td>500</td>\n",
       "      <td>550</td>\n",
       "      <td>200</td>\n",
       "      <td>3</td>\n",
       "      <td>3</td>\n",
       "      <td>-184.0</td>\n",
       "      <td>NaN</td>\n",
       "      <td>5.0</td>\n",
       "      <td>1550.0</td>\n",
       "    </tr>\n",
       "    <tr>\n",
       "      <th>48</th>\n",
       "      <td>1006</td>\n",
       "      <td>8</td>\n",
       "      <td>42.0</td>\n",
       "      <td>275.0</td>\n",
       "      <td>19.0</td>\n",
       "      <td>NaN</td>\n",
       "      <td>21</td>\n",
       "      <td>NaN</td>\n",
       "      <td>Ульяновск</td>\n",
       "      <td>Леонид</td>\n",
       "      <td>Ермолаев</td>\n",
       "      <td>2018-02-26</td>\n",
       "      <td>smart</td>\n",
       "      <td>2</td>\n",
       "      <td>50</td>\n",
       "      <td>15.0</td>\n",
       "      <td>500</td>\n",
       "      <td>550</td>\n",
       "      <td>200</td>\n",
       "      <td>3</td>\n",
       "      <td>3</td>\n",
       "      <td>-225.0</td>\n",
       "      <td>NaN</td>\n",
       "      <td>4.0</td>\n",
       "      <td>1350.0</td>\n",
       "    </tr>\n",
       "    <tr>\n",
       "      <th>49</th>\n",
       "      <td>1006</td>\n",
       "      <td>9</td>\n",
       "      <td>54.0</td>\n",
       "      <td>360.0</td>\n",
       "      <td>16.0</td>\n",
       "      <td>NaN</td>\n",
       "      <td>21</td>\n",
       "      <td>NaN</td>\n",
       "      <td>Ульяновск</td>\n",
       "      <td>Леонид</td>\n",
       "      <td>Ермолаев</td>\n",
       "      <td>2018-02-26</td>\n",
       "      <td>smart</td>\n",
       "      <td>2</td>\n",
       "      <td>50</td>\n",
       "      <td>15.0</td>\n",
       "      <td>500</td>\n",
       "      <td>550</td>\n",
       "      <td>200</td>\n",
       "      <td>3</td>\n",
       "      <td>3</td>\n",
       "      <td>-140.0</td>\n",
       "      <td>NaN</td>\n",
       "      <td>1.0</td>\n",
       "      <td>750.0</td>\n",
       "    </tr>\n",
       "  </tbody>\n",
       "</table>\n",
       "</div>"
      ],
      "text/plain": [
       "    user_id  month_x  calls_count  calls_sum  gb_used  messages_count  age  \\\n",
       "0      1000        5         22.0      159.0      3.0            22.0   52   \n",
       "1      1000        6         43.0      172.0     23.0            60.0   52   \n",
       "2      1000        7         47.0      340.0     14.0            75.0   52   \n",
       "3      1000        8         52.0      408.0     14.0            81.0   52   \n",
       "4      1000        9         58.0      466.0     15.0            57.0   52   \n",
       "5      1000       10         57.0      350.0     15.0            73.0   52   \n",
       "6      1000       11         43.0      338.0     15.0            58.0   52   \n",
       "7      1000       12         46.0      333.0     10.0            70.0   52   \n",
       "8      1001       11         59.0      430.0     18.0             NaN   41   \n",
       "9      1001       12         63.0      414.0     14.0             NaN   41   \n",
       "10     1002        6         15.0      117.0     11.0             4.0   59   \n",
       "11     1002        7         26.0      214.0     18.0            11.0   59   \n",
       "12     1002        8         42.0      289.0     20.0            13.0   59   \n",
       "13     1002        9         36.0      206.0     17.0             4.0   59   \n",
       "14     1002       10         33.0      212.0     14.0            10.0   59   \n",
       "15     1002       11         32.0      243.0     19.0            16.0   59   \n",
       "16     1002       12         33.0      236.0     18.0            12.0   59   \n",
       "17     1003        8         55.0      380.0      9.0            37.0   23   \n",
       "18     1003        9        134.0      961.0     13.0            91.0   23   \n",
       "19     1003       10        108.0      855.0     15.0            83.0   23   \n",
       "20     1003       11        115.0      824.0     12.0            94.0   23   \n",
       "21     1003       12        108.0      802.0     10.0            75.0   23   \n",
       "22     1004        5          9.0       35.0     14.0            95.0   68   \n",
       "23     1004        6         31.0      171.0     18.0           134.0   68   \n",
       "24     1004        7         22.0      135.0     22.0           181.0   68   \n",
       "25     1004        8         19.0      137.0     28.0           151.0   68   \n",
       "26     1004        9         26.0      117.0     15.0           146.0   68   \n",
       "27     1004       10         29.0      145.0     19.0           165.0   68   \n",
       "28     1004       11         19.0      117.0     16.0           158.0   68   \n",
       "29     1004       12         21.0      130.0     18.0           162.0   68   \n",
       "30     1005        1         15.0       95.0      3.0             7.0   67   \n",
       "31     1005        2         69.0      456.0      8.0            38.0   67   \n",
       "32     1005        3         77.0      606.0     11.0            56.0   67   \n",
       "33     1005        4        101.0      712.0     10.0            41.0   67   \n",
       "34     1005        5         73.0      595.0      8.0            42.0   67   \n",
       "35     1005        6         80.0      612.0     10.0            47.0   67   \n",
       "36     1005        7         77.0      569.0      8.0            56.0   67   \n",
       "37     1005        8         71.0      619.0      8.0            64.0   67   \n",
       "38     1005        9         66.0      479.0      7.0            52.0   67   \n",
       "39     1005       10        100.0      723.0      8.0            44.0   67   \n",
       "40     1005       11         75.0      547.0     13.0            51.0   67   \n",
       "41     1005       12         84.0      592.0      9.0            54.0   67   \n",
       "42     1006        2          3.0       42.0      2.0             NaN   21   \n",
       "43     1006        3         46.0      286.0     17.0             NaN   21   \n",
       "44     1006        4         47.0      356.0     14.0             NaN   21   \n",
       "45     1006        5         56.0      370.0     13.0             NaN   21   \n",
       "46     1006        6         53.0      478.0     13.0             NaN   21   \n",
       "47     1006        7         49.0      316.0     20.0             NaN   21   \n",
       "48     1006        8         42.0      275.0     19.0             NaN   21   \n",
       "49     1006        9         54.0      360.0     16.0             NaN   21   \n",
       "\n",
       "   churn_date              city first_name  last_name    reg_date tariff  \\\n",
       "0         NaN         Краснодар     Рафаил  Верещагин  2018-05-25  ultra   \n",
       "1         NaN         Краснодар     Рафаил  Верещагин  2018-05-25  ultra   \n",
       "2         NaN         Краснодар     Рафаил  Верещагин  2018-05-25  ultra   \n",
       "3         NaN         Краснодар     Рафаил  Верещагин  2018-05-25  ultra   \n",
       "4         NaN         Краснодар     Рафаил  Верещагин  2018-05-25  ultra   \n",
       "5         NaN         Краснодар     Рафаил  Верещагин  2018-05-25  ultra   \n",
       "6         NaN         Краснодар     Рафаил  Верещагин  2018-05-25  ultra   \n",
       "7         NaN         Краснодар     Рафаил  Верещагин  2018-05-25  ultra   \n",
       "8         NaN            Москва       Иван       Ежов  2018-11-01  smart   \n",
       "9         NaN            Москва       Иван       Ежов  2018-11-01  smart   \n",
       "10        NaN       Стерлитамак    Евгений  Абрамович  2018-06-17  smart   \n",
       "11        NaN       Стерлитамак    Евгений  Абрамович  2018-06-17  smart   \n",
       "12        NaN       Стерлитамак    Евгений  Абрамович  2018-06-17  smart   \n",
       "13        NaN       Стерлитамак    Евгений  Абрамович  2018-06-17  smart   \n",
       "14        NaN       Стерлитамак    Евгений  Абрамович  2018-06-17  smart   \n",
       "15        NaN       Стерлитамак    Евгений  Абрамович  2018-06-17  smart   \n",
       "16        NaN       Стерлитамак    Евгений  Абрамович  2018-06-17  smart   \n",
       "17        NaN            Москва      Белла   Белякова  2018-08-17  ultra   \n",
       "18        NaN            Москва      Белла   Белякова  2018-08-17  ultra   \n",
       "19        NaN            Москва      Белла   Белякова  2018-08-17  ultra   \n",
       "20        NaN            Москва      Белла   Белякова  2018-08-17  ultra   \n",
       "21        NaN            Москва      Белла   Белякова  2018-08-17  ultra   \n",
       "22        NaN       Новокузнецк    Татьяна   Авдеенко  2018-05-14  ultra   \n",
       "23        NaN       Новокузнецк    Татьяна   Авдеенко  2018-05-14  ultra   \n",
       "24        NaN       Новокузнецк    Татьяна   Авдеенко  2018-05-14  ultra   \n",
       "25        NaN       Новокузнецк    Татьяна   Авдеенко  2018-05-14  ultra   \n",
       "26        NaN       Новокузнецк    Татьяна   Авдеенко  2018-05-14  ultra   \n",
       "27        NaN       Новокузнецк    Татьяна   Авдеенко  2018-05-14  ultra   \n",
       "28        NaN       Новокузнецк    Татьяна   Авдеенко  2018-05-14  ultra   \n",
       "29        NaN       Новокузнецк    Татьяна   Авдеенко  2018-05-14  ultra   \n",
       "30        NaN  Набережные Челны   Афанасий     Горлов  2018-01-25  smart   \n",
       "31        NaN  Набережные Челны   Афанасий     Горлов  2018-01-25  smart   \n",
       "32        NaN  Набережные Челны   Афанасий     Горлов  2018-01-25  smart   \n",
       "33        NaN  Набережные Челны   Афанасий     Горлов  2018-01-25  smart   \n",
       "34        NaN  Набережные Челны   Афанасий     Горлов  2018-01-25  smart   \n",
       "35        NaN  Набережные Челны   Афанасий     Горлов  2018-01-25  smart   \n",
       "36        NaN  Набережные Челны   Афанасий     Горлов  2018-01-25  smart   \n",
       "37        NaN  Набережные Челны   Афанасий     Горлов  2018-01-25  smart   \n",
       "38        NaN  Набережные Челны   Афанасий     Горлов  2018-01-25  smart   \n",
       "39        NaN  Набережные Челны   Афанасий     Горлов  2018-01-25  smart   \n",
       "40        NaN  Набережные Челны   Афанасий     Горлов  2018-01-25  smart   \n",
       "41        NaN  Набережные Челны   Афанасий     Горлов  2018-01-25  smart   \n",
       "42        NaN         Ульяновск     Леонид   Ермолаев  2018-02-26  smart   \n",
       "43        NaN         Ульяновск     Леонид   Ермолаев  2018-02-26  smart   \n",
       "44        NaN         Ульяновск     Леонид   Ермолаев  2018-02-26  smart   \n",
       "45        NaN         Ульяновск     Леонид   Ермолаев  2018-02-26  smart   \n",
       "46        NaN         Ульяновск     Леонид   Ермолаев  2018-02-26  smart   \n",
       "47        NaN         Ульяновск     Леонид   Ермолаев  2018-02-26  smart   \n",
       "48        NaN         Ульяновск     Леонид   Ермолаев  2018-02-26  smart   \n",
       "49        NaN         Ульяновск     Леонид   Ермолаев  2018-02-26  smart   \n",
       "\n",
       "    month_y  messages_included  gb_per_month_included  minutes_included  \\\n",
       "0         5               1000                   30.0              3000   \n",
       "1         5               1000                   30.0              3000   \n",
       "2         5               1000                   30.0              3000   \n",
       "3         5               1000                   30.0              3000   \n",
       "4         5               1000                   30.0              3000   \n",
       "5         5               1000                   30.0              3000   \n",
       "6         5               1000                   30.0              3000   \n",
       "7         5               1000                   30.0              3000   \n",
       "8        11                 50                   15.0               500   \n",
       "9        11                 50                   15.0               500   \n",
       "10        6                 50                   15.0               500   \n",
       "11        6                 50                   15.0               500   \n",
       "12        6                 50                   15.0               500   \n",
       "13        6                 50                   15.0               500   \n",
       "14        6                 50                   15.0               500   \n",
       "15        6                 50                   15.0               500   \n",
       "16        6                 50                   15.0               500   \n",
       "17        8               1000                   30.0              3000   \n",
       "18        8               1000                   30.0              3000   \n",
       "19        8               1000                   30.0              3000   \n",
       "20        8               1000                   30.0              3000   \n",
       "21        8               1000                   30.0              3000   \n",
       "22        5               1000                   30.0              3000   \n",
       "23        5               1000                   30.0              3000   \n",
       "24        5               1000                   30.0              3000   \n",
       "25        5               1000                   30.0              3000   \n",
       "26        5               1000                   30.0              3000   \n",
       "27        5               1000                   30.0              3000   \n",
       "28        5               1000                   30.0              3000   \n",
       "29        5               1000                   30.0              3000   \n",
       "30        1                 50                   15.0               500   \n",
       "31        1                 50                   15.0               500   \n",
       "32        1                 50                   15.0               500   \n",
       "33        1                 50                   15.0               500   \n",
       "34        1                 50                   15.0               500   \n",
       "35        1                 50                   15.0               500   \n",
       "36        1                 50                   15.0               500   \n",
       "37        1                 50                   15.0               500   \n",
       "38        1                 50                   15.0               500   \n",
       "39        1                 50                   15.0               500   \n",
       "40        1                 50                   15.0               500   \n",
       "41        1                 50                   15.0               500   \n",
       "42        2                 50                   15.0               500   \n",
       "43        2                 50                   15.0               500   \n",
       "44        2                 50                   15.0               500   \n",
       "45        2                 50                   15.0               500   \n",
       "46        2                 50                   15.0               500   \n",
       "47        2                 50                   15.0               500   \n",
       "48        2                 50                   15.0               500   \n",
       "49        2                 50                   15.0               500   \n",
       "\n",
       "    rub_monthly_fee  rub_per_gb  rub_per_message  rub_per_minute  \\\n",
       "0              1950         150                1               1   \n",
       "1              1950         150                1               1   \n",
       "2              1950         150                1               1   \n",
       "3              1950         150                1               1   \n",
       "4              1950         150                1               1   \n",
       "5              1950         150                1               1   \n",
       "6              1950         150                1               1   \n",
       "7              1950         150                1               1   \n",
       "8               550         200                3               3   \n",
       "9               550         200                3               3   \n",
       "10              550         200                3               3   \n",
       "11              550         200                3               3   \n",
       "12              550         200                3               3   \n",
       "13              550         200                3               3   \n",
       "14              550         200                3               3   \n",
       "15              550         200                3               3   \n",
       "16              550         200                3               3   \n",
       "17             1950         150                1               1   \n",
       "18             1950         150                1               1   \n",
       "19             1950         150                1               1   \n",
       "20             1950         150                1               1   \n",
       "21             1950         150                1               1   \n",
       "22             1950         150                1               1   \n",
       "23             1950         150                1               1   \n",
       "24             1950         150                1               1   \n",
       "25             1950         150                1               1   \n",
       "26             1950         150                1               1   \n",
       "27             1950         150                1               1   \n",
       "28             1950         150                1               1   \n",
       "29             1950         150                1               1   \n",
       "30              550         200                3               3   \n",
       "31              550         200                3               3   \n",
       "32              550         200                3               3   \n",
       "33              550         200                3               3   \n",
       "34              550         200                3               3   \n",
       "35              550         200                3               3   \n",
       "36              550         200                3               3   \n",
       "37              550         200                3               3   \n",
       "38              550         200                3               3   \n",
       "39              550         200                3               3   \n",
       "40              550         200                3               3   \n",
       "41              550         200                3               3   \n",
       "42              550         200                3               3   \n",
       "43              550         200                3               3   \n",
       "44              550         200                3               3   \n",
       "45              550         200                3               3   \n",
       "46              550         200                3               3   \n",
       "47              550         200                3               3   \n",
       "48              550         200                3               3   \n",
       "49              550         200                3               3   \n",
       "\n",
       "    minutes_overrun  messages_overrun  gb_used_overrun  revenue  \n",
       "0           -2841.0            -978.0            -27.0   1950.0  \n",
       "1           -2828.0            -940.0             -7.0   1950.0  \n",
       "2           -2660.0            -925.0            -16.0   1950.0  \n",
       "3           -2592.0            -919.0            -16.0   1950.0  \n",
       "4           -2534.0            -943.0            -15.0   1950.0  \n",
       "5           -2650.0            -927.0            -15.0   1950.0  \n",
       "6           -2662.0            -942.0            -15.0   1950.0  \n",
       "7           -2667.0            -930.0            -20.0   1950.0  \n",
       "8             -70.0               NaN              3.0   1150.0  \n",
       "9             -86.0               NaN             -1.0    550.0  \n",
       "10           -383.0             -46.0             -4.0    550.0  \n",
       "11           -286.0             -39.0              3.0   1150.0  \n",
       "12           -211.0             -37.0              5.0   1550.0  \n",
       "13           -294.0             -46.0              2.0    950.0  \n",
       "14           -288.0             -40.0             -1.0    550.0  \n",
       "15           -257.0             -34.0              4.0   1350.0  \n",
       "16           -264.0             -38.0              3.0   1150.0  \n",
       "17          -2620.0            -963.0            -21.0   1950.0  \n",
       "18          -2039.0            -909.0            -17.0   1950.0  \n",
       "19          -2145.0            -917.0            -15.0   1950.0  \n",
       "20          -2176.0            -906.0            -18.0   1950.0  \n",
       "21          -2198.0            -925.0            -20.0   1950.0  \n",
       "22          -2965.0            -905.0            -16.0   1950.0  \n",
       "23          -2829.0            -866.0            -12.0   1950.0  \n",
       "24          -2865.0            -819.0             -8.0   1950.0  \n",
       "25          -2863.0            -849.0             -2.0   1950.0  \n",
       "26          -2883.0            -854.0            -15.0   1950.0  \n",
       "27          -2855.0            -835.0            -11.0   1950.0  \n",
       "28          -2883.0            -842.0            -14.0   1950.0  \n",
       "29          -2870.0            -838.0            -12.0   1950.0  \n",
       "30           -405.0             -43.0            -12.0    550.0  \n",
       "31            -44.0             -12.0             -7.0    550.0  \n",
       "32            106.0               6.0             -4.0    886.0  \n",
       "33            212.0              -9.0             -5.0   1186.0  \n",
       "34             95.0              -8.0             -7.0    835.0  \n",
       "35            112.0              -3.0             -5.0    886.0  \n",
       "36             69.0               6.0             -7.0    775.0  \n",
       "37            119.0              14.0             -7.0    949.0  \n",
       "38            -21.0               2.0             -8.0    556.0  \n",
       "39            223.0              -6.0             -7.0   1219.0  \n",
       "40             47.0               1.0             -2.0    694.0  \n",
       "41             92.0               4.0             -6.0    838.0  \n",
       "42           -458.0               NaN            -13.0    550.0  \n",
       "43           -214.0               NaN              2.0    950.0  \n",
       "44           -144.0               NaN             -1.0    550.0  \n",
       "45           -130.0               NaN             -2.0    550.0  \n",
       "46            -22.0               NaN             -2.0    550.0  \n",
       "47           -184.0               NaN              5.0   1550.0  \n",
       "48           -225.0               NaN              4.0   1350.0  \n",
       "49           -140.0               NaN              1.0    750.0  "
      ]
     },
     "metadata": {},
     "output_type": "display_data"
    }
   ],
   "source": [
    "df_merge['minutes_overrun']  = df_merge['calls_sum'] - df_merge['minutes_included'] #посчитала перерасход по звонкам\n",
    "df_merge['messages_overrun'] = df_merge['messages_count'] - df_merge['messages_included'] #посчитала перерасход по сообщениям\n",
    "df_merge['gb_used_overrun']  = df_merge['gb_used'] - df_merge['gb_per_month_included'] #посчитала перерасход по интернет-трафику\n",
    "def get_revenue(row):    #создаем функцию для подсчета выручки\n",
    "    revenue_by_min = 0\n",
    "    revenue_by_messages = 0\n",
    "    revenue_gb = 0\n",
    "    if row['minutes_overrun'] > 0:\n",
    "        revenue_by_min = row['minutes_overrun'] * row['rub_per_minute'] \n",
    "    if row['messages_overrun'] >0:\n",
    "        revenue_by_messages = row['messages_overrun'] * row['rub_per_message']\n",
    "    if row['gb_used_overrun'] > 0:\n",
    "        revenue_gb = row['gb_used_overrun'] * row['rub_per_gb']          \n",
    "    return revenue_by_min + revenue_by_messages + revenue_gb\n",
    "df_merge['revenue'] = df_merge.apply(get_revenue,axis=1)\n",
    "df_merge['revenue'] = df_merge['revenue']+df_merge['rub_monthly_fee'] # к столбцу дохода от услуг прибавляем столбец абонентской платы\n",
    "pd.set_option('display.max_columns', None) #выводим все колонки\n",
    "display(df_merge.head(50))"
   ]
  },
  {
   "cell_type": "markdown",
   "metadata": {},
   "source": [
    "**Вывод**\n",
    "\n",
    "Объединила несколько таблиц в одну для дальнейшего подсчета выручки по пользователям. Добавила столбец с подсчитаной выручкой.\n"
   ]
  },
  {
   "cell_type": "markdown",
   "metadata": {},
   "source": [
    "## Анализ данных"
   ]
  },
  {
   "cell_type": "code",
   "execution_count": 23,
   "metadata": {
    "scrolled": true
   },
   "outputs": [
    {
     "data": {
      "text/html": [
       "<div>\n",
       "<style scoped>\n",
       "    .dataframe tbody tr th:only-of-type {\n",
       "        vertical-align: middle;\n",
       "    }\n",
       "\n",
       "    .dataframe tbody tr th {\n",
       "        vertical-align: top;\n",
       "    }\n",
       "\n",
       "    .dataframe thead tr th {\n",
       "        text-align: left;\n",
       "    }\n",
       "\n",
       "    .dataframe thead tr:last-of-type th {\n",
       "        text-align: right;\n",
       "    }\n",
       "</style>\n",
       "<table border=\"1\" class=\"dataframe\">\n",
       "  <thead>\n",
       "    <tr>\n",
       "      <th></th>\n",
       "      <th>mean</th>\n",
       "      <th>var</th>\n",
       "      <th>std</th>\n",
       "    </tr>\n",
       "    <tr>\n",
       "      <th></th>\n",
       "      <th>calls_sum</th>\n",
       "      <th>calls_sum</th>\n",
       "      <th>calls_sum</th>\n",
       "    </tr>\n",
       "    <tr>\n",
       "      <th>tariff</th>\n",
       "      <th></th>\n",
       "      <th></th>\n",
       "      <th></th>\n",
       "    </tr>\n",
       "  </thead>\n",
       "  <tbody>\n",
       "    <tr>\n",
       "      <th>smart</th>\n",
       "      <td>419</td>\n",
       "      <td>35844</td>\n",
       "      <td>189</td>\n",
       "    </tr>\n",
       "    <tr>\n",
       "      <th>ultra</th>\n",
       "      <td>545</td>\n",
       "      <td>94203</td>\n",
       "      <td>306</td>\n",
       "    </tr>\n",
       "  </tbody>\n",
       "</table>\n",
       "</div>"
      ],
      "text/plain": [
       "            mean       var       std\n",
       "       calls_sum calls_sum calls_sum\n",
       "tariff                              \n",
       "smart        419     35844       189\n",
       "ultra        545     94203       306"
      ]
     },
     "metadata": {},
     "output_type": "display_data"
    },
    {
     "name": "stdout",
     "output_type": "stream",
     "text": [
      "_______________________________________________\n"
     ]
    },
    {
     "data": {
      "image/png": "[encoded data removed]",
      "text/plain": [
       "<Figure size 432x288 with 1 Axes>"
      ]
     },
     "metadata": {
      "needs_background": "light"
     },
     "output_type": "display_data"
    }
   ],
   "source": [
    "df_merge_tariff_minutes = df_merge.pivot_table( index= 'tariff', values= 'calls_sum', aggfunc= ['mean', 'var','std']) #объединяем таблицы для подсчета среднего количества, дисперсии и стандартного отклонения минут разговора каждого тарифа в месяц\n",
    "display(df_merge_tariff_minutes.astype(int)) # выводим таблицу на экран, округлив значения до целого числа\n",
    "print('_______________________________________________')\n",
    "(df_merge_smart['calls_sum'].plot(bins=50,kind='hist',color='pink',range=(0,1700),\n",
    "                                 label='smart',legend=True,title='График количества минут'))\n",
    "(df_merge_ultra['calls_sum'].plot(bins=50,kind='hist',alpha=0.7,range=(0,1700),\n",
    "                                 label='ultra',legend=True,title='График количества минут'))\n",
    "plt.show()"
   ]
  },
  {
   "cell_type": "markdown",
   "metadata": {},
   "source": [
    "**Вывод**\n",
    "\n",
    "Объединила таблицы для подсчета среднего количества, дисперсии и стандартного отклонения минут разговора каждого тарифа в месяц.\n",
    "Пользователи тарифа Smart используют меньше звонков, чем пользователи тарифа Ultra."
   ]
  },
  {
   "cell_type": "code",
   "execution_count": 24,
   "metadata": {},
   "outputs": [
    {
     "data": {
      "text/html": [
       "<div>\n",
       "<style scoped>\n",
       "    .dataframe tbody tr th:only-of-type {\n",
       "        vertical-align: middle;\n",
       "    }\n",
       "\n",
       "    .dataframe tbody tr th {\n",
       "        vertical-align: top;\n",
       "    }\n",
       "\n",
       "    .dataframe thead tr th {\n",
       "        text-align: left;\n",
       "    }\n",
       "\n",
       "    .dataframe thead tr:last-of-type th {\n",
       "        text-align: right;\n",
       "    }\n",
       "</style>\n",
       "<table border=\"1\" class=\"dataframe\">\n",
       "  <thead>\n",
       "    <tr>\n",
       "      <th></th>\n",
       "      <th>mean</th>\n",
       "      <th>var</th>\n",
       "      <th>std</th>\n",
       "    </tr>\n",
       "    <tr>\n",
       "      <th></th>\n",
       "      <th>messages_count</th>\n",
       "      <th>messages_count</th>\n",
       "      <th>messages_count</th>\n",
       "    </tr>\n",
       "    <tr>\n",
       "      <th>tariff</th>\n",
       "      <th></th>\n",
       "      <th></th>\n",
       "      <th></th>\n",
       "    </tr>\n",
       "  </thead>\n",
       "  <tbody>\n",
       "    <tr>\n",
       "      <th>smart</th>\n",
       "      <td>38</td>\n",
       "      <td>717</td>\n",
       "      <td>26</td>\n",
       "    </tr>\n",
       "    <tr>\n",
       "      <th>ultra</th>\n",
       "      <td>61</td>\n",
       "      <td>2109</td>\n",
       "      <td>45</td>\n",
       "    </tr>\n",
       "  </tbody>\n",
       "</table>\n",
       "</div>"
      ],
      "text/plain": [
       "                 mean            var            std\n",
       "       messages_count messages_count messages_count\n",
       "tariff                                             \n",
       "smart              38            717             26\n",
       "ultra              61           2109             45"
      ]
     },
     "metadata": {},
     "output_type": "display_data"
    },
    {
     "name": "stdout",
     "output_type": "stream",
     "text": [
      "__________________________________________________\n"
     ]
    },
    {
     "data": {
      "image/png": "[encoded data removed]",
      "text/plain": [
       "<Figure size 432x288 with 1 Axes>"
      ]
     },
     "metadata": {
      "needs_background": "light"
     },
     "output_type": "display_data"
    }
   ],
   "source": [
    "df_merge_tariff_messages = df_merge.pivot_table( index= 'tariff', values= 'messages_count', aggfunc= ['mean', 'var','std']) #объединяем таблицы для подсчета среднего количества, дисперсии и стандартного отклонения сообщений каждого тарифа в месяц\n",
    "display(df_merge_tariff_messages.astype(int)) # выводим таблицу на экран, округлив значения до целого числа\n",
    "print('__________________________________________________')\n",
    "(df_merge_smart['messages_count'].plot(bins=70,kind='hist',color='pink',range=(0,230),\n",
    "                                 label='smart',legend=True,title='График количества сообщений'))\n",
    "(df_merge_ultra['messages_count'].plot(bins=70,kind='hist',alpha=0.5,range=(0,230),\n",
    "                                 label='ultra',legend=True,title='График количества сообщений'))\n",
    "plt.show()"
   ]
  },
  {
   "cell_type": "markdown",
   "metadata": {},
   "source": [
    "**Вывод**\n",
    "\n",
    "Объединяем таблицы для подсчета среднего количества, дисперсии и стандартного отклонения сообщений каждого тарифа в месяц.\n",
    "\n",
    "\n",
    "Пользователи тарифа Smart используют меньше сообщений, чем пользователи тарифа Ultra."
   ]
  },
  {
   "cell_type": "code",
   "execution_count": 25,
   "metadata": {},
   "outputs": [
    {
     "data": {
      "text/html": [
       "<div>\n",
       "<style scoped>\n",
       "    .dataframe tbody tr th:only-of-type {\n",
       "        vertical-align: middle;\n",
       "    }\n",
       "\n",
       "    .dataframe tbody tr th {\n",
       "        vertical-align: top;\n",
       "    }\n",
       "\n",
       "    .dataframe thead tr th {\n",
       "        text-align: left;\n",
       "    }\n",
       "\n",
       "    .dataframe thead tr:last-of-type th {\n",
       "        text-align: right;\n",
       "    }\n",
       "</style>\n",
       "<table border=\"1\" class=\"dataframe\">\n",
       "  <thead>\n",
       "    <tr>\n",
       "      <th></th>\n",
       "      <th>mean</th>\n",
       "      <th>var</th>\n",
       "      <th>std</th>\n",
       "    </tr>\n",
       "    <tr>\n",
       "      <th></th>\n",
       "      <th>gb_used</th>\n",
       "      <th>gb_used</th>\n",
       "      <th>gb_used</th>\n",
       "    </tr>\n",
       "    <tr>\n",
       "      <th>tariff</th>\n",
       "      <th></th>\n",
       "      <th></th>\n",
       "      <th></th>\n",
       "    </tr>\n",
       "  </thead>\n",
       "  <tbody>\n",
       "    <tr>\n",
       "      <th>smart</th>\n",
       "      <td>16</td>\n",
       "      <td>32</td>\n",
       "      <td>5</td>\n",
       "    </tr>\n",
       "    <tr>\n",
       "      <th>ultra</th>\n",
       "      <td>19</td>\n",
       "      <td>94</td>\n",
       "      <td>9</td>\n",
       "    </tr>\n",
       "  </tbody>\n",
       "</table>\n",
       "</div>"
      ],
      "text/plain": [
       "          mean     var     std\n",
       "       gb_used gb_used gb_used\n",
       "tariff                        \n",
       "smart       16      32       5\n",
       "ultra       19      94       9"
      ]
     },
     "metadata": {},
     "output_type": "display_data"
    },
    {
     "name": "stdout",
     "output_type": "stream",
     "text": [
      "__________________________________________________\n"
     ]
    },
    {
     "data": {
      "image/png": "[encoded data removed]",
      "text/plain": [
       "<Figure size 432x288 with 1 Axes>"
      ]
     },
     "metadata": {
      "needs_background": "light"
     },
     "output_type": "display_data"
    }
   ],
   "source": [
    "df_merge_tariff_gb_used = df_merge.pivot_table( index= 'tariff', values= 'gb_used', aggfunc= ['mean', 'var','std']) #объединяем таблицы для подсчета среднего количества, дисперсии и стандартного отклонения потребляемого интернет-трафика каждого тарифа в месяц\n",
    "display(df_merge_tariff_gb_used.astype(int)) # выводим таблицу на экран, округлив значения до целого числа\n",
    "print('__________________________________________________')\n",
    "(df_merge_smart['gb_used'].plot(bins=80,kind='hist',color='pink',range=(0,100),\n",
    "                                 label='smart',legend=True,title='График количества сообщений'))\n",
    "(df_merge_ultra['gb_used'].plot(bins=80,kind='hist',alpha=0.4,range=(0,100),\n",
    "                                 label='ultra',legend=True,title='График количества сообщений'))\n",
    "plt.show()"
   ]
  },
  {
   "cell_type": "markdown",
   "metadata": {},
   "source": [
    "**Вывод**\n",
    "\n",
    "Объединила таблицы для подсчета среднего количества, дисперсии и стандартного отклонения потребляемого интернет-трафика каждого тарифа в месяц\n",
    "\n",
    "Чуть больше используют интернет-трафик пользователи пакета Smart."
   ]
  },
  {
   "cell_type": "markdown",
   "metadata": {},
   "source": [
    "## Проверка гипотез"
   ]
  },
  {
   "cell_type": "markdown",
   "metadata": {},
   "source": [
    "**Средняя выручка пользователей тарифов «Ультра» и «Смарт» различаются**\n",
    "\n",
    "Сформулируем нулевую и альтернативную гипотезы:\n",
    "- H0 - средняя выручка пользователей тарифов «Ультра» и «Смарт» равна\n",
    "- H1 - средняя выручка пользователей тарифов «Ультра» и «Смарт» не равна"
   ]
  },
  {
   "cell_type": "code",
   "execution_count": 26,
   "metadata": {
    "scrolled": true
   },
   "outputs": [
    {
     "name": "stdout",
     "output_type": "stream",
     "text": [
      "p-значение: 4.2606313931076085e-250\n",
      "Отвергаем нулевую гипотезу\n"
     ]
    }
   ],
   "source": [
    "revenue_smart = df_merge.query('tariff == \"smart\"')['revenue']\n",
    "revenue_ultra = df_merge.query('tariff == \"ultra\"')['revenue']\n",
    "alpha =0.05 #задаем критический уровень статистической значимости\n",
    "results = st.ttest_ind(revenue_smart,revenue_ultra,equal_var=False)\n",
    "print('p-значение:',results.pvalue)\n",
    "if results.pvalue < alpha: #сравниваем получившееся p-значение с заданным уровнем статистической значимости\n",
    "    print(\"Отвергаем нулевую гипотезу\")\n",
    "else:\n",
    "    print(\"Не получилось отвергнуть нулевую гипотезу\")"
   ]
  },
  {
   "cell_type": "markdown",
   "metadata": {},
   "source": [
    "**Средняя выручка пользователей из Москвы отличается от выручки пользователей из других регионов**\n",
    "\n",
    "Сформулируем нулевую и альтернативную гипотезы:\n",
    "\n",
    "- H0 - Средняя выручка пользователей из Москвы и других регионов равна\n",
    "- H1 - Средняя выручка пользователей из Москвы и других регионов не равна\n"
   ]
  },
  {
   "cell_type": "code",
   "execution_count": 27,
   "metadata": {},
   "outputs": [
    {
     "name": "stdout",
     "output_type": "stream",
     "text": [
      "p-значение: 0.5440152911670224\n",
      "Не получилось отвергнуть нулевую гипотезу\n"
     ]
    }
   ],
   "source": [
    "from_Moscow = df_merge.query('city == \"Москва\"')['revenue']\n",
    "not_from_Moscow = df_merge.query('city != \"Москва\"')['revenue']\n",
    "alpha =0.05 #задаем критический уровень статистической значимости\n",
    "results = st.ttest_ind(from_Moscow,not_from_Moscow)\n",
    "print('p-значение:',results.pvalue)\n",
    "if results.pvalue < alpha: #сравниваем получившееся p-значение с заданным уровнем статистической значимости\n",
    "    print(\"Отвергаем нулевую гипотезу\")\n",
    "else:\n",
    "    print(\"Не получилось отвергнуть нулевую гипотезу\")"
   ]
  },
  {
   "cell_type": "markdown",
   "metadata": {},
   "source": [
    "**Вывод**\n",
    "\n",
    "После проверки гипотез вывлено, что средняя выручка пользователей тарифов «Ультра» и «Смарт» не равна, а также средняя выручка пользователей из Москвы и других регионов равна.\n",
    "\n"
   ]
  },
  {
   "cell_type": "markdown",
   "metadata": {},
   "source": [
    "## Общий вывод\n",
    "\n",
    "Проанализировав данные выявили, что пользователи тарифа Smart используют меньше звонков и сообщений, чем пользователи тарифа Ultra, а интернет-трафика больше.\n",
    "\n",
    "После проверки гипотез вывлено, что средняя выручка пользователей тарифов «Ультра» и «Смарт» не равна, а средняя выручка пользователей из Москвы и других регионов равна.\n",
    "\n",
    "Тариф Ultra приносит больший доход компании «Мегалайн»."
   ]
  }
 ],
 "metadata": {
  "ExecuteTimeLog": [
   {
    "duration": 3644,
    "start_time": "2022-01-17T09:48:35.373Z"
   },
   {
    "duration": 2641,
    "start_time": "2022-01-17T09:49:31.259Z"
   },
   {
    "duration": 196,
    "start_time": "2022-01-17T09:51:04.264Z"
   },
   {
    "duration": 177,
    "start_time": "2022-01-17T09:55:56.344Z"
   },
   {
    "duration": 211,
    "start_time": "2022-01-17T09:56:38.249Z"
   },
   {
    "duration": 207,
    "start_time": "2022-01-17T09:56:49.014Z"
   },
   {
    "duration": 206,
    "start_time": "2022-01-17T09:57:32.660Z"
   },
   {
    "duration": 26,
    "start_time": "2022-01-17T09:57:39.457Z"
   },
   {
    "duration": 21,
    "start_time": "2022-01-17T09:58:00.596Z"
   },
   {
    "duration": 2442,
    "start_time": "2022-01-17T09:58:54.786Z"
   },
   {
    "duration": 116,
    "start_time": "2022-01-17T09:59:48.379Z"
   },
   {
    "duration": 21,
    "start_time": "2022-01-17T10:18:20.220Z"
   },
   {
    "duration": 23,
    "start_time": "2022-01-17T10:18:57.757Z"
   },
   {
    "duration": 10,
    "start_time": "2022-01-17T10:19:27.364Z"
   },
   {
    "duration": 284,
    "start_time": "2022-01-17T10:20:03.734Z"
   },
   {
    "duration": 38,
    "start_time": "2022-01-17T10:20:10.144Z"
   },
   {
    "duration": 9,
    "start_time": "2022-01-17T10:20:24.229Z"
   },
   {
    "duration": 185,
    "start_time": "2022-01-17T10:23:28.761Z"
   },
   {
    "duration": 167,
    "start_time": "2022-01-17T10:24:31.620Z"
   },
   {
    "duration": 118,
    "start_time": "2022-01-17T10:24:38.368Z"
   },
   {
    "duration": 24,
    "start_time": "2022-01-17T10:24:54.840Z"
   },
   {
    "duration": 36,
    "start_time": "2022-01-17T10:25:08.704Z"
   },
   {
    "duration": 29,
    "start_time": "2022-01-17T12:13:57.579Z"
   },
   {
    "duration": 19,
    "start_time": "2022-01-17T12:15:13.626Z"
   },
   {
    "duration": 23,
    "start_time": "2022-01-17T12:15:52.453Z"
   },
   {
    "duration": 19,
    "start_time": "2022-01-17T12:16:52.704Z"
   },
   {
    "duration": 8,
    "start_time": "2022-01-17T12:17:07.534Z"
   },
   {
    "duration": 8,
    "start_time": "2022-01-17T12:17:51.129Z"
   },
   {
    "duration": 340,
    "start_time": "2022-01-17T12:30:47.313Z"
   },
   {
    "duration": 528,
    "start_time": "2022-01-17T12:34:05.667Z"
   },
   {
    "duration": 76,
    "start_time": "2022-01-17T12:36:48.498Z"
   },
   {
    "duration": 886,
    "start_time": "2022-01-17T12:50:52.703Z"
   },
   {
    "duration": 1013,
    "start_time": "2022-01-17T12:51:19.767Z"
   },
   {
    "duration": 44,
    "start_time": "2022-01-17T12:51:20.784Z"
   },
   {
    "duration": 450,
    "start_time": "2022-01-17T12:51:20.831Z"
   },
   {
    "duration": 443,
    "start_time": "2022-01-17T12:51:20.842Z"
   },
   {
    "duration": 441,
    "start_time": "2022-01-17T12:51:20.846Z"
   },
   {
    "duration": 439,
    "start_time": "2022-01-17T12:51:20.850Z"
   },
   {
    "duration": 437,
    "start_time": "2022-01-17T12:51:20.854Z"
   },
   {
    "duration": 435,
    "start_time": "2022-01-17T12:51:20.859Z"
   },
   {
    "duration": 434,
    "start_time": "2022-01-17T12:51:20.862Z"
   },
   {
    "duration": 432,
    "start_time": "2022-01-17T12:51:20.866Z"
   },
   {
    "duration": 431,
    "start_time": "2022-01-17T12:51:20.869Z"
   },
   {
    "duration": 428,
    "start_time": "2022-01-17T12:51:20.874Z"
   },
   {
    "duration": 426,
    "start_time": "2022-01-17T12:51:20.878Z"
   },
   {
    "duration": 424,
    "start_time": "2022-01-17T12:51:20.882Z"
   },
   {
    "duration": 423,
    "start_time": "2022-01-17T12:51:20.885Z"
   },
   {
    "duration": 421,
    "start_time": "2022-01-17T12:51:20.889Z"
   },
   {
    "duration": 388,
    "start_time": "2022-01-17T12:51:40.010Z"
   },
   {
    "duration": 398,
    "start_time": "2022-01-17T12:51:50.826Z"
   },
   {
    "duration": 381,
    "start_time": "2022-01-17T12:56:40.062Z"
   },
   {
    "duration": 209,
    "start_time": "2022-01-17T12:59:08.208Z"
   },
   {
    "duration": 29,
    "start_time": "2022-01-17T12:59:19.117Z"
   },
   {
    "duration": 381,
    "start_time": "2022-01-17T13:00:38.705Z"
   },
   {
    "duration": 7,
    "start_time": "2022-01-17T13:04:32.133Z"
   },
   {
    "duration": 81,
    "start_time": "2022-01-17T13:04:42.799Z"
   },
   {
    "duration": 46,
    "start_time": "2022-01-17T13:07:21.358Z"
   },
   {
    "duration": 19,
    "start_time": "2022-01-17T13:08:38.625Z"
   },
   {
    "duration": 171,
    "start_time": "2022-01-17T13:10:20.772Z"
   },
   {
    "duration": 22,
    "start_time": "2022-01-17T13:10:54.191Z"
   },
   {
    "duration": 28,
    "start_time": "2022-01-17T13:11:04.970Z"
   },
   {
    "duration": 23,
    "start_time": "2022-01-17T13:14:14.975Z"
   },
   {
    "duration": 125,
    "start_time": "2022-01-17T13:14:39.543Z"
   },
   {
    "duration": 20,
    "start_time": "2022-01-17T13:14:45.493Z"
   },
   {
    "duration": 93,
    "start_time": "2022-01-17T13:37:59.905Z"
   },
   {
    "duration": 12,
    "start_time": "2022-01-17T13:38:21.758Z"
   },
   {
    "duration": 190,
    "start_time": "2022-01-17T13:40:43.081Z"
   },
   {
    "duration": 23,
    "start_time": "2022-01-17T13:40:54.154Z"
   },
   {
    "duration": 22,
    "start_time": "2022-01-17T13:41:12.713Z"
   },
   {
    "duration": 122,
    "start_time": "2022-01-17T13:41:35.565Z"
   },
   {
    "duration": 18,
    "start_time": "2022-01-17T13:42:17.959Z"
   },
   {
    "duration": 18,
    "start_time": "2022-01-17T13:42:49.439Z"
   },
   {
    "duration": 24,
    "start_time": "2022-01-17T13:43:39.515Z"
   },
   {
    "duration": 9,
    "start_time": "2022-01-17T13:43:46.748Z"
   },
   {
    "duration": 7,
    "start_time": "2022-01-17T13:44:14.390Z"
   },
   {
    "duration": 51,
    "start_time": "2022-01-17T13:44:28.066Z"
   },
   {
    "duration": 13,
    "start_time": "2022-01-17T13:45:06.072Z"
   },
   {
    "duration": 8,
    "start_time": "2022-01-17T13:45:44.533Z"
   },
   {
    "duration": 48,
    "start_time": "2022-01-17T13:50:40.881Z"
   },
   {
    "duration": 40,
    "start_time": "2022-01-17T13:51:11.139Z"
   },
   {
    "duration": 17,
    "start_time": "2022-01-17T13:55:21.956Z"
   },
   {
    "duration": 48,
    "start_time": "2022-01-17T13:57:02.312Z"
   },
   {
    "duration": 49,
    "start_time": "2022-01-17T14:05:48.333Z"
   },
   {
    "duration": 41,
    "start_time": "2022-01-17T14:06:34.125Z"
   },
   {
    "duration": 49,
    "start_time": "2022-01-17T14:07:06.180Z"
   },
   {
    "duration": 46,
    "start_time": "2022-01-17T14:09:23.312Z"
   },
   {
    "duration": 49,
    "start_time": "2022-01-17T14:09:27.490Z"
   },
   {
    "duration": 93,
    "start_time": "2022-01-17T14:09:47.483Z"
   },
   {
    "duration": 47,
    "start_time": "2022-01-17T14:09:55.416Z"
   },
   {
    "duration": 40,
    "start_time": "2022-01-17T14:10:10.886Z"
   },
   {
    "duration": 175,
    "start_time": "2022-01-17T14:10:19.265Z"
   },
   {
    "duration": 23,
    "start_time": "2022-01-17T14:10:24.246Z"
   },
   {
    "duration": 60,
    "start_time": "2022-01-17T14:10:27.834Z"
   },
   {
    "duration": 51,
    "start_time": "2022-01-17T14:13:19.432Z"
   },
   {
    "duration": 332,
    "start_time": "2022-01-17T14:30:49.457Z"
   },
   {
    "duration": 40,
    "start_time": "2022-01-17T14:32:37.588Z"
   },
   {
    "duration": 21,
    "start_time": "2022-01-17T14:32:42.044Z"
   },
   {
    "duration": 42,
    "start_time": "2022-01-17T14:32:45.488Z"
   },
   {
    "duration": 18,
    "start_time": "2022-01-17T14:32:53.926Z"
   },
   {
    "duration": 18,
    "start_time": "2022-01-17T14:32:57.172Z"
   },
   {
    "duration": 53,
    "start_time": "2022-01-17T14:33:07.683Z"
   },
   {
    "duration": 12,
    "start_time": "2022-01-17T14:33:10.810Z"
   },
   {
    "duration": 195,
    "start_time": "2022-01-17T14:33:17.926Z"
   },
   {
    "duration": 23,
    "start_time": "2022-01-17T14:33:21.646Z"
   },
   {
    "duration": 62,
    "start_time": "2022-01-17T14:33:29.159Z"
   },
   {
    "duration": 425,
    "start_time": "2022-01-17T14:39:08.885Z"
   },
   {
    "duration": 46,
    "start_time": "2022-01-17T14:40:32.556Z"
   },
   {
    "duration": 8,
    "start_time": "2022-01-17T14:42:40.436Z"
   },
   {
    "duration": 40,
    "start_time": "2022-01-17T14:43:51.279Z"
   },
   {
    "duration": 9,
    "start_time": "2022-01-17T14:44:31.932Z"
   },
   {
    "duration": 41,
    "start_time": "2022-01-17T14:46:19.145Z"
   },
   {
    "duration": 186,
    "start_time": "2022-01-17T14:46:43.365Z"
   },
   {
    "duration": 22,
    "start_time": "2022-01-17T14:46:46.656Z"
   },
   {
    "duration": 62,
    "start_time": "2022-01-17T14:46:50.512Z"
   },
   {
    "duration": 22,
    "start_time": "2022-01-17T14:47:07.814Z"
   },
   {
    "duration": 6,
    "start_time": "2022-01-17T14:48:17.163Z"
   },
   {
    "duration": 15,
    "start_time": "2022-01-17T14:48:34.569Z"
   },
   {
    "duration": 11,
    "start_time": "2022-01-17T14:48:44.839Z"
   },
   {
    "duration": 10,
    "start_time": "2022-01-17T14:50:52.458Z"
   },
   {
    "duration": 1654,
    "start_time": "2022-01-19T12:27:24.527Z"
   },
   {
    "duration": 47,
    "start_time": "2022-01-19T12:27:26.185Z"
   },
   {
    "duration": 144,
    "start_time": "2022-01-19T12:27:26.241Z"
   },
   {
    "duration": 14,
    "start_time": "2022-01-19T12:27:26.388Z"
   },
   {
    "duration": 202,
    "start_time": "2022-01-19T12:27:26.405Z"
   },
   {
    "duration": 24,
    "start_time": "2022-01-19T12:27:26.609Z"
   },
   {
    "duration": 89,
    "start_time": "2022-01-19T12:27:26.635Z"
   },
   {
    "duration": 33,
    "start_time": "2022-01-19T12:27:26.728Z"
   },
   {
    "duration": 10,
    "start_time": "2022-01-19T12:27:26.764Z"
   },
   {
    "duration": 22,
    "start_time": "2022-01-19T12:27:26.776Z"
   },
   {
    "duration": 160,
    "start_time": "2022-01-19T12:27:26.801Z"
   },
   {
    "duration": 19,
    "start_time": "2022-01-19T12:27:26.964Z"
   },
   {
    "duration": 75,
    "start_time": "2022-01-19T12:27:26.985Z"
   },
   {
    "duration": 15,
    "start_time": "2022-01-19T12:27:27.062Z"
   },
   {
    "duration": 34,
    "start_time": "2022-01-19T12:27:27.081Z"
   },
   {
    "duration": 13,
    "start_time": "2022-01-19T12:27:27.118Z"
   },
   {
    "duration": 32,
    "start_time": "2022-01-19T12:27:27.134Z"
   },
   {
    "duration": 54,
    "start_time": "2022-01-19T12:27:27.169Z"
   },
   {
    "duration": 12,
    "start_time": "2022-01-19T12:27:27.227Z"
   },
   {
    "duration": 19,
    "start_time": "2022-01-19T12:27:27.242Z"
   },
   {
    "duration": 13,
    "start_time": "2022-01-19T12:28:43.476Z"
   },
   {
    "duration": 8,
    "start_time": "2022-01-19T12:30:27.254Z"
   },
   {
    "duration": 15,
    "start_time": "2022-01-19T12:30:40.758Z"
   },
   {
    "duration": 49,
    "start_time": "2022-01-19T12:46:25.858Z"
   },
   {
    "duration": 42,
    "start_time": "2022-01-19T12:49:37.936Z"
   },
   {
    "duration": 15,
    "start_time": "2022-01-19T12:50:18.508Z"
   },
   {
    "duration": 32,
    "start_time": "2022-01-19T12:51:27.135Z"
   },
   {
    "duration": 14,
    "start_time": "2022-01-19T12:51:40.110Z"
   },
   {
    "duration": 474,
    "start_time": "2022-01-19T14:50:17.714Z"
   },
   {
    "duration": 1082,
    "start_time": "2022-01-19T14:51:34.096Z"
   },
   {
    "duration": 30,
    "start_time": "2022-01-19T14:51:35.181Z"
   },
   {
    "duration": 106,
    "start_time": "2022-01-19T14:51:35.215Z"
   },
   {
    "duration": 13,
    "start_time": "2022-01-19T14:51:35.325Z"
   },
   {
    "duration": 468,
    "start_time": "2022-01-19T14:51:35.361Z"
   },
   {
    "duration": 263,
    "start_time": "2022-01-19T14:51:35.569Z"
   },
   {
    "duration": 264,
    "start_time": "2022-01-19T14:51:35.570Z"
   },
   {
    "duration": 253,
    "start_time": "2022-01-19T14:51:35.582Z"
   },
   {
    "duration": 253,
    "start_time": "2022-01-19T14:51:35.583Z"
   },
   {
    "duration": 254,
    "start_time": "2022-01-19T14:51:35.584Z"
   },
   {
    "duration": 255,
    "start_time": "2022-01-19T14:51:35.585Z"
   },
   {
    "duration": 256,
    "start_time": "2022-01-19T14:51:35.585Z"
   },
   {
    "duration": 256,
    "start_time": "2022-01-19T14:51:35.586Z"
   },
   {
    "duration": 257,
    "start_time": "2022-01-19T14:51:35.587Z"
   },
   {
    "duration": 258,
    "start_time": "2022-01-19T14:51:35.588Z"
   },
   {
    "duration": 259,
    "start_time": "2022-01-19T14:51:35.589Z"
   },
   {
    "duration": 260,
    "start_time": "2022-01-19T14:51:35.590Z"
   },
   {
    "duration": 261,
    "start_time": "2022-01-19T14:51:35.591Z"
   },
   {
    "duration": 254,
    "start_time": "2022-01-19T14:51:35.600Z"
   },
   {
    "duration": 254,
    "start_time": "2022-01-19T14:51:35.602Z"
   },
   {
    "duration": 256,
    "start_time": "2022-01-19T14:51:35.603Z"
   },
   {
    "duration": 408,
    "start_time": "2022-01-19T14:52:03.949Z"
   },
   {
    "duration": 1919,
    "start_time": "2022-01-19T14:53:19.015Z"
   },
   {
    "duration": 432,
    "start_time": "2022-01-19T14:56:36.913Z"
   },
   {
    "duration": 218,
    "start_time": "2022-01-19T14:56:49.756Z"
   },
   {
    "duration": 27,
    "start_time": "2022-01-19T14:56:57.905Z"
   },
   {
    "duration": 382,
    "start_time": "2022-01-19T14:57:01.139Z"
   },
   {
    "duration": 88,
    "start_time": "2022-01-19T14:57:27.869Z"
   },
   {
    "duration": 83,
    "start_time": "2022-01-19T14:59:43.813Z"
   },
   {
    "duration": 11,
    "start_time": "2022-01-19T14:59:50.374Z"
   },
   {
    "duration": 113,
    "start_time": "2022-01-19T15:00:38.143Z"
   },
   {
    "duration": 529,
    "start_time": "2022-01-19T15:05:31.622Z"
   },
   {
    "duration": 113,
    "start_time": "2022-01-19T15:06:41.798Z"
   },
   {
    "duration": 82,
    "start_time": "2022-01-19T15:11:49.087Z"
   },
   {
    "duration": 81,
    "start_time": "2022-01-19T15:12:59.110Z"
   },
   {
    "duration": 118,
    "start_time": "2022-01-19T15:16:11.767Z"
   },
   {
    "duration": 19,
    "start_time": "2022-01-19T15:16:27.851Z"
   },
   {
    "duration": 55,
    "start_time": "2022-01-19T15:16:44.253Z"
   },
   {
    "duration": 73,
    "start_time": "2022-01-19T15:17:34.122Z"
   },
   {
    "duration": 75,
    "start_time": "2022-01-19T15:25:17.902Z"
   },
   {
    "duration": 1134,
    "start_time": "2022-01-20T13:41:07.429Z"
   },
   {
    "duration": 27,
    "start_time": "2022-01-20T13:41:08.566Z"
   },
   {
    "duration": 105,
    "start_time": "2022-01-20T13:41:08.596Z"
   },
   {
    "duration": 10,
    "start_time": "2022-01-20T13:41:08.704Z"
   },
   {
    "duration": 134,
    "start_time": "2022-01-20T13:41:08.717Z"
   },
   {
    "duration": 133,
    "start_time": "2022-01-20T13:41:08.853Z"
   },
   {
    "duration": 99,
    "start_time": "2022-01-20T13:41:08.988Z"
   },
   {
    "duration": 187,
    "start_time": "2022-01-20T13:41:09.092Z"
   },
   {
    "duration": 21,
    "start_time": "2022-01-20T13:41:09.283Z"
   },
   {
    "duration": 89,
    "start_time": "2022-01-20T13:41:09.307Z"
   },
   {
    "duration": 14,
    "start_time": "2022-01-20T13:41:09.398Z"
   },
   {
    "duration": 8,
    "start_time": "2022-01-20T13:41:09.414Z"
   },
   {
    "duration": 45,
    "start_time": "2022-01-20T13:41:09.424Z"
   },
   {
    "duration": 118,
    "start_time": "2022-01-20T13:41:09.472Z"
   },
   {
    "duration": 19,
    "start_time": "2022-01-20T13:41:09.592Z"
   },
   {
    "duration": 75,
    "start_time": "2022-01-20T13:41:09.613Z"
   },
   {
    "duration": 90,
    "start_time": "2022-01-20T13:41:09.690Z"
   },
   {
    "duration": 85,
    "start_time": "2022-01-20T13:41:09.782Z"
   },
   {
    "duration": 26,
    "start_time": "2022-01-20T13:41:09.870Z"
   },
   {
    "duration": 10,
    "start_time": "2022-01-20T13:41:09.898Z"
   },
   {
    "duration": 7,
    "start_time": "2022-01-20T13:41:09.910Z"
   },
   {
    "duration": 56,
    "start_time": "2022-01-20T13:41:09.920Z"
   },
   {
    "duration": 9,
    "start_time": "2022-01-20T13:41:09.982Z"
   },
   {
    "duration": 14,
    "start_time": "2022-01-20T13:41:09.993Z"
   },
   {
    "duration": 118,
    "start_time": "2022-01-20T15:07:34.923Z"
   },
   {
    "duration": 119,
    "start_time": "2022-01-20T15:11:41.717Z"
   },
   {
    "duration": 57,
    "start_time": "2022-01-20T15:20:29.148Z"
   },
   {
    "duration": 9364,
    "start_time": "2022-01-20T15:26:07.530Z"
   },
   {
    "duration": -387,
    "start_time": "2022-01-20T15:26:17.284Z"
   },
   {
    "duration": 175,
    "start_time": "2022-01-20T15:26:26.620Z"
   },
   {
    "duration": 26,
    "start_time": "2022-01-20T15:26:33.330Z"
   },
   {
    "duration": 71,
    "start_time": "2022-01-20T15:26:41.595Z"
   },
   {
    "duration": 16,
    "start_time": "2022-01-20T15:27:00.176Z"
   },
   {
    "duration": 58,
    "start_time": "2022-01-20T15:29:58.796Z"
   },
   {
    "duration": 1135,
    "start_time": "2022-01-20T15:32:19.726Z"
   },
   {
    "duration": 28,
    "start_time": "2022-01-20T15:32:20.863Z"
   },
   {
    "duration": 103,
    "start_time": "2022-01-20T15:32:20.895Z"
   },
   {
    "duration": 11,
    "start_time": "2022-01-20T15:32:21.000Z"
   },
   {
    "duration": 145,
    "start_time": "2022-01-20T15:32:21.014Z"
   },
   {
    "duration": 165,
    "start_time": "2022-01-20T15:32:21.162Z"
   },
   {
    "duration": 191,
    "start_time": "2022-01-20T15:32:21.330Z"
   },
   {
    "duration": 35,
    "start_time": "2022-01-20T15:32:21.527Z"
   },
   {
    "duration": 73,
    "start_time": "2022-01-20T15:32:21.565Z"
   },
   {
    "duration": 32,
    "start_time": "2022-01-20T15:32:21.640Z"
   },
   {
    "duration": 17,
    "start_time": "2022-01-20T15:32:21.674Z"
   },
   {
    "duration": 80,
    "start_time": "2022-01-20T15:32:21.694Z"
   },
   {
    "duration": 130,
    "start_time": "2022-01-20T15:32:21.778Z"
   },
   {
    "duration": 26,
    "start_time": "2022-01-20T15:32:21.910Z"
   },
   {
    "duration": 78,
    "start_time": "2022-01-20T15:32:21.939Z"
   },
   {
    "duration": 83,
    "start_time": "2022-01-20T15:32:22.020Z"
   },
   {
    "duration": 29,
    "start_time": "2022-01-20T15:32:22.106Z"
   },
   {
    "duration": 28,
    "start_time": "2022-01-20T15:32:22.137Z"
   },
   {
    "duration": 16,
    "start_time": "2022-01-20T15:32:22.167Z"
   },
   {
    "duration": 50,
    "start_time": "2022-01-20T15:32:22.185Z"
   },
   {
    "duration": 10,
    "start_time": "2022-01-20T15:32:22.238Z"
   },
   {
    "duration": 18,
    "start_time": "2022-01-20T15:32:22.251Z"
   },
   {
    "duration": 1128,
    "start_time": "2022-01-20T21:01:09.586Z"
   },
   {
    "duration": 26,
    "start_time": "2022-01-20T21:01:10.716Z"
   },
   {
    "duration": 101,
    "start_time": "2022-01-20T21:01:10.746Z"
   },
   {
    "duration": 22,
    "start_time": "2022-01-20T21:01:10.849Z"
   },
   {
    "duration": 122,
    "start_time": "2022-01-20T21:01:10.874Z"
   },
   {
    "duration": 168,
    "start_time": "2022-01-20T21:01:10.999Z"
   },
   {
    "duration": 180,
    "start_time": "2022-01-20T21:01:11.170Z"
   },
   {
    "duration": 31,
    "start_time": "2022-01-20T21:01:11.353Z"
   },
   {
    "duration": 85,
    "start_time": "2022-01-20T21:01:11.388Z"
   },
   {
    "duration": 14,
    "start_time": "2022-01-20T21:01:11.476Z"
   },
   {
    "duration": 10,
    "start_time": "2022-01-20T21:01:11.493Z"
   },
   {
    "duration": 84,
    "start_time": "2022-01-20T21:01:11.505Z"
   },
   {
    "duration": 127,
    "start_time": "2022-01-20T21:01:11.591Z"
   },
   {
    "duration": 20,
    "start_time": "2022-01-20T21:01:11.721Z"
   },
   {
    "duration": 69,
    "start_time": "2022-01-20T21:01:11.744Z"
   },
   {
    "duration": 71,
    "start_time": "2022-01-20T21:01:11.815Z"
   },
   {
    "duration": 28,
    "start_time": "2022-01-20T21:01:11.889Z"
   },
   {
    "duration": 10,
    "start_time": "2022-01-20T21:01:11.920Z"
   },
   {
    "duration": 33,
    "start_time": "2022-01-20T21:01:11.933Z"
   },
   {
    "duration": 45,
    "start_time": "2022-01-20T21:01:11.968Z"
   },
   {
    "duration": 11,
    "start_time": "2022-01-20T21:01:12.016Z"
   },
   {
    "duration": 7,
    "start_time": "2022-01-20T21:01:12.030Z"
   },
   {
    "duration": 6,
    "start_time": "2022-01-20T22:01:02.387Z"
   },
   {
    "duration": 11,
    "start_time": "2022-01-20T22:01:09.402Z"
   },
   {
    "duration": 6,
    "start_time": "2022-01-20T22:01:13.328Z"
   },
   {
    "duration": 9,
    "start_time": "2022-01-20T22:01:15.877Z"
   },
   {
    "duration": 392,
    "start_time": "2022-01-20T22:07:50.646Z"
   },
   {
    "duration": 112,
    "start_time": "2022-01-20T22:08:51.296Z"
   },
   {
    "duration": 322,
    "start_time": "2022-01-20T22:33:15.392Z"
   },
   {
    "duration": 426,
    "start_time": "2022-01-20T22:35:56.031Z"
   },
   {
    "duration": 28,
    "start_time": "2022-01-20T22:36:31.404Z"
   },
   {
    "duration": 9,
    "start_time": "2022-01-20T22:36:40.611Z"
   },
   {
    "duration": 8,
    "start_time": "2022-01-20T22:36:48.312Z"
   },
   {
    "duration": 42,
    "start_time": "2022-01-20T22:36:52.783Z"
   },
   {
    "duration": 10,
    "start_time": "2022-01-20T22:37:12.918Z"
   },
   {
    "duration": 6,
    "start_time": "2022-01-20T22:37:17.490Z"
   },
   {
    "duration": 10,
    "start_time": "2022-01-20T22:37:20.028Z"
   },
   {
    "duration": 325,
    "start_time": "2022-01-20T22:37:25.804Z"
   },
   {
    "duration": 1063,
    "start_time": "2022-01-20T22:40:21.604Z"
   },
   {
    "duration": 30,
    "start_time": "2022-01-20T22:49:50.074Z"
   },
   {
    "duration": 62,
    "start_time": "2022-01-20T22:50:03.804Z"
   },
   {
    "duration": 65,
    "start_time": "2022-01-20T22:51:17.604Z"
   },
   {
    "duration": 63,
    "start_time": "2022-01-20T22:55:07.190Z"
   },
   {
    "duration": 9444,
    "start_time": "2022-01-20T23:21:23.905Z"
   },
   {
    "duration": 60,
    "start_time": "2022-01-20T23:25:39.695Z"
   },
   {
    "duration": 379,
    "start_time": "2022-01-20T23:29:06.584Z"
   },
   {
    "duration": 64,
    "start_time": "2022-01-20T23:29:29.331Z"
   },
   {
    "duration": 311,
    "start_time": "2022-01-20T23:35:47.310Z"
   },
   {
    "duration": 313,
    "start_time": "2022-01-20T23:36:10.471Z"
   },
   {
    "duration": 313,
    "start_time": "2022-01-20T23:36:24.021Z"
   },
   {
    "duration": 43,
    "start_time": "2022-01-20T23:37:39.745Z"
   },
   {
    "duration": 51,
    "start_time": "2022-01-20T23:38:54.443Z"
   },
   {
    "duration": -728,
    "start_time": "2022-01-20T23:39:46.712Z"
   },
   {
    "duration": -686,
    "start_time": "2022-01-20T23:40:12.600Z"
   },
   {
    "duration": 7341,
    "start_time": "2022-01-20T23:40:13.123Z"
   },
   {
    "duration": 47,
    "start_time": "2022-01-20T23:40:53.181Z"
   },
   {
    "duration": 406,
    "start_time": "2022-01-20T23:42:00.032Z"
   },
   {
    "duration": 53,
    "start_time": "2022-01-20T23:42:23.148Z"
   },
   {
    "duration": 54,
    "start_time": "2022-01-20T23:43:32.999Z"
   },
   {
    "duration": 11,
    "start_time": "2022-01-20T23:44:54.553Z"
   },
   {
    "duration": 14,
    "start_time": "2022-01-20T23:49:36.362Z"
   },
   {
    "duration": 14,
    "start_time": "2022-01-20T23:50:12.688Z"
   },
   {
    "duration": 54,
    "start_time": "2022-01-20T23:51:57.979Z"
   },
   {
    "duration": 60,
    "start_time": "2022-01-20T23:52:07.192Z"
   },
   {
    "duration": 29,
    "start_time": "2022-01-20T23:52:15.858Z"
   },
   {
    "duration": 8,
    "start_time": "2022-01-20T23:52:26.743Z"
   },
   {
    "duration": 44,
    "start_time": "2022-01-20T23:52:30.628Z"
   },
   {
    "duration": 10,
    "start_time": "2022-01-20T23:52:39.327Z"
   },
   {
    "duration": 6,
    "start_time": "2022-01-20T23:52:43.714Z"
   },
   {
    "duration": 13,
    "start_time": "2022-01-20T23:52:47.206Z"
   },
   {
    "duration": 32,
    "start_time": "2022-01-20T23:52:54.774Z"
   },
   {
    "duration": 60,
    "start_time": "2022-01-20T23:53:19.963Z"
   },
   {
    "duration": 69,
    "start_time": "2022-01-20T23:54:05.352Z"
   },
   {
    "duration": 9385,
    "start_time": "2022-01-20T23:55:25.408Z"
   },
   {
    "duration": 14478,
    "start_time": "2022-01-20T23:55:52.234Z"
   },
   {
    "duration": 503,
    "start_time": "2022-01-20T23:58:52.404Z"
   },
   {
    "duration": 297,
    "start_time": "2022-01-20T23:59:01.294Z"
   },
   {
    "duration": 257,
    "start_time": "2022-01-21T00:00:05.560Z"
   },
   {
    "duration": 144,
    "start_time": "2022-01-21T00:00:25.674Z"
   },
   {
    "duration": 139,
    "start_time": "2022-01-21T00:00:43.681Z"
   },
   {
    "duration": 142,
    "start_time": "2022-01-21T00:00:56.392Z"
   },
   {
    "duration": 141,
    "start_time": "2022-01-21T00:01:06.116Z"
   },
   {
    "duration": 167,
    "start_time": "2022-01-21T00:01:44.585Z"
   },
   {
    "duration": 8180,
    "start_time": "2022-01-21T00:12:24.192Z"
   },
   {
    "duration": -741,
    "start_time": "2022-01-21T00:12:33.116Z"
   },
   {
    "duration": 55,
    "start_time": "2022-01-21T00:13:13.082Z"
   },
   {
    "duration": 7992,
    "start_time": "2022-01-21T00:13:20.640Z"
   },
   {
    "duration": 40,
    "start_time": "2022-01-21T00:14:11.276Z"
   },
   {
    "duration": 8219,
    "start_time": "2022-01-21T00:16:27.669Z"
   },
   {
    "duration": 68,
    "start_time": "2022-01-21T00:17:19.775Z"
   },
   {
    "duration": 9039,
    "start_time": "2022-01-21T00:17:39.238Z"
   },
   {
    "duration": 229,
    "start_time": "2022-01-21T00:19:25.533Z"
   },
   {
    "duration": 250,
    "start_time": "2022-01-21T00:23:34.084Z"
   },
   {
    "duration": 541,
    "start_time": "2022-01-21T00:29:21.038Z"
   },
   {
    "duration": 298,
    "start_time": "2022-01-21T00:33:36.226Z"
   },
   {
    "duration": 9,
    "start_time": "2022-01-21T00:33:55.585Z"
   },
   {
    "duration": 493,
    "start_time": "2022-01-21T00:36:04.285Z"
   },
   {
    "duration": 263,
    "start_time": "2022-01-21T00:36:51.012Z"
   },
   {
    "duration": 67,
    "start_time": "2022-01-21T00:39:03.069Z"
   },
   {
    "duration": 964,
    "start_time": "2022-01-21T11:09:56.558Z"
   },
   {
    "duration": 25,
    "start_time": "2022-01-21T11:09:57.525Z"
   },
   {
    "duration": 102,
    "start_time": "2022-01-21T11:09:57.556Z"
   },
   {
    "duration": 10,
    "start_time": "2022-01-21T11:09:57.660Z"
   },
   {
    "duration": 140,
    "start_time": "2022-01-21T11:09:57.673Z"
   },
   {
    "duration": 18,
    "start_time": "2022-01-21T11:09:57.815Z"
   },
   {
    "duration": 166,
    "start_time": "2022-01-21T11:09:57.835Z"
   },
   {
    "duration": 29,
    "start_time": "2022-01-21T11:09:58.005Z"
   },
   {
    "duration": 70,
    "start_time": "2022-01-21T11:09:58.037Z"
   },
   {
    "duration": 27,
    "start_time": "2022-01-21T11:09:58.109Z"
   },
   {
    "duration": 9,
    "start_time": "2022-01-21T11:09:58.139Z"
   },
   {
    "duration": 91,
    "start_time": "2022-01-21T11:09:58.151Z"
   },
   {
    "duration": 124,
    "start_time": "2022-01-21T11:09:58.245Z"
   },
   {
    "duration": 19,
    "start_time": "2022-01-21T11:09:58.371Z"
   },
   {
    "duration": 69,
    "start_time": "2022-01-21T11:09:58.393Z"
   },
   {
    "duration": 68,
    "start_time": "2022-01-21T11:09:58.465Z"
   },
   {
    "duration": 26,
    "start_time": "2022-01-21T11:09:58.536Z"
   },
   {
    "duration": 13,
    "start_time": "2022-01-21T11:09:58.565Z"
   },
   {
    "duration": 9,
    "start_time": "2022-01-21T11:09:58.581Z"
   },
   {
    "duration": 65,
    "start_time": "2022-01-21T11:09:58.592Z"
   },
   {
    "duration": 8,
    "start_time": "2022-01-21T11:09:58.659Z"
   },
   {
    "duration": 10,
    "start_time": "2022-01-21T11:09:58.669Z"
   },
   {
    "duration": 10,
    "start_time": "2022-01-21T11:09:58.681Z"
   },
   {
    "duration": 91,
    "start_time": "2022-01-21T11:09:58.694Z"
   },
   {
    "duration": 257,
    "start_time": "2022-01-21T11:09:58.787Z"
   },
   {
    "duration": 228,
    "start_time": "2022-01-21T11:10:44.448Z"
   },
   {
    "duration": 32,
    "start_time": "2022-01-21T11:51:17.407Z"
   },
   {
    "duration": 32,
    "start_time": "2022-01-21T11:53:06.809Z"
   },
   {
    "duration": 35,
    "start_time": "2022-01-21T11:59:39.527Z"
   },
   {
    "duration": 49,
    "start_time": "2022-01-21T12:04:16.520Z"
   },
   {
    "duration": 620,
    "start_time": "2022-01-21T12:14:27.060Z"
   },
   {
    "duration": 654,
    "start_time": "2022-01-21T12:15:54.330Z"
   },
   {
    "duration": 603,
    "start_time": "2022-01-21T12:22:49.309Z"
   },
   {
    "duration": 665,
    "start_time": "2022-01-21T12:23:06.444Z"
   },
   {
    "duration": 749,
    "start_time": "2022-01-21T12:23:57.685Z"
   },
   {
    "duration": 703,
    "start_time": "2022-01-21T12:24:53.781Z"
   },
   {
    "duration": 699,
    "start_time": "2022-01-21T12:26:25.988Z"
   },
   {
    "duration": 821,
    "start_time": "2022-01-21T12:26:57.845Z"
   },
   {
    "duration": 776,
    "start_time": "2022-01-21T12:27:39.477Z"
   },
   {
    "duration": 769,
    "start_time": "2022-01-21T12:28:56.460Z"
   },
   {
    "duration": 763,
    "start_time": "2022-01-21T12:29:20.160Z"
   },
   {
    "duration": 721,
    "start_time": "2022-01-21T12:29:57.220Z"
   },
   {
    "duration": 870,
    "start_time": "2022-01-21T12:37:28.113Z"
   },
   {
    "duration": 867,
    "start_time": "2022-01-21T12:37:55.510Z"
   },
   {
    "duration": 924,
    "start_time": "2022-01-21T12:38:36.425Z"
   },
   {
    "duration": 872,
    "start_time": "2022-01-21T12:38:59.962Z"
   },
   {
    "duration": 628,
    "start_time": "2022-01-21T12:57:49.733Z"
   },
   {
    "duration": 7886,
    "start_time": "2022-01-21T13:14:12.716Z"
   },
   {
    "duration": 4152,
    "start_time": "2022-01-21T13:22:34.629Z"
   },
   {
    "duration": 14,
    "start_time": "2022-01-21T13:24:24.286Z"
   },
   {
    "duration": 13,
    "start_time": "2022-01-21T13:24:41.490Z"
   },
   {
    "duration": 4249,
    "start_time": "2022-01-21T13:26:00.809Z"
   },
   {
    "duration": 11,
    "start_time": "2022-01-21T13:27:22.638Z"
   },
   {
    "duration": 295,
    "start_time": "2022-01-21T13:28:19.345Z"
   },
   {
    "duration": 15,
    "start_time": "2022-01-21T13:28:39.800Z"
   },
   {
    "duration": 14,
    "start_time": "2022-01-21T13:55:12.949Z"
   },
   {
    "duration": 14,
    "start_time": "2022-01-21T14:13:32.700Z"
   },
   {
    "duration": 15,
    "start_time": "2022-01-21T14:13:59.088Z"
   },
   {
    "duration": 20,
    "start_time": "2022-01-21T14:14:19.708Z"
   },
   {
    "duration": 15,
    "start_time": "2022-01-21T14:54:49.934Z"
   },
   {
    "duration": 4203,
    "start_time": "2022-01-21T15:13:30.502Z"
   },
   {
    "duration": 307,
    "start_time": "2022-01-21T15:14:37.549Z"
   },
   {
    "duration": 14,
    "start_time": "2022-01-21T15:15:31.942Z"
   },
   {
    "duration": 1395,
    "start_time": "2022-01-26T10:20:28.455Z"
   },
   {
    "duration": 20,
    "start_time": "2022-01-26T10:20:29.852Z"
   },
   {
    "duration": 69,
    "start_time": "2022-01-26T10:20:29.874Z"
   },
   {
    "duration": 6,
    "start_time": "2022-01-26T10:20:29.945Z"
   },
   {
    "duration": 109,
    "start_time": "2022-01-26T10:20:29.953Z"
   },
   {
    "duration": 10,
    "start_time": "2022-01-26T10:20:30.064Z"
   },
   {
    "duration": 138,
    "start_time": "2022-01-26T10:20:30.076Z"
   },
   {
    "duration": 17,
    "start_time": "2022-01-26T10:20:30.217Z"
   },
   {
    "duration": 48,
    "start_time": "2022-01-26T10:20:30.236Z"
   },
   {
    "duration": 30,
    "start_time": "2022-01-26T10:20:30.286Z"
   },
   {
    "duration": 7,
    "start_time": "2022-01-26T10:20:30.318Z"
   },
   {
    "duration": 44,
    "start_time": "2022-01-26T10:20:30.326Z"
   },
   {
    "duration": 105,
    "start_time": "2022-01-26T10:20:30.371Z"
   },
   {
    "duration": 13,
    "start_time": "2022-01-26T10:20:30.477Z"
   },
   {
    "duration": 53,
    "start_time": "2022-01-26T10:20:30.492Z"
   },
   {
    "duration": 38,
    "start_time": "2022-01-26T10:20:30.546Z"
   },
   {
    "duration": 29,
    "start_time": "2022-01-26T10:20:30.586Z"
   },
   {
    "duration": 6,
    "start_time": "2022-01-26T10:20:30.617Z"
   },
   {
    "duration": 45,
    "start_time": "2022-01-26T10:20:30.625Z"
   },
   {
    "duration": 5,
    "start_time": "2022-01-26T10:20:30.672Z"
   },
   {
    "duration": 11,
    "start_time": "2022-01-26T10:20:30.679Z"
   },
   {
    "duration": 8,
    "start_time": "2022-01-26T10:20:30.691Z"
   },
   {
    "duration": 47,
    "start_time": "2022-01-26T10:20:30.702Z"
   },
   {
    "duration": 148,
    "start_time": "2022-01-26T10:20:30.750Z"
   },
   {
    "duration": 464,
    "start_time": "2022-01-26T10:20:30.900Z"
   },
   {
    "duration": 512,
    "start_time": "2022-01-26T10:20:31.366Z"
   },
   {
    "duration": 544,
    "start_time": "2022-01-26T10:20:31.880Z"
   },
   {
    "duration": 10,
    "start_time": "2022-01-26T10:20:32.426Z"
   },
   {
    "duration": 9,
    "start_time": "2022-01-26T10:20:32.438Z"
   },
   {
    "duration": 21,
    "start_time": "2022-01-26T10:26:07.733Z"
   },
   {
    "duration": 3,
    "start_time": "2022-01-26T10:27:09.481Z"
   },
   {
    "duration": 20,
    "start_time": "2022-01-26T10:27:09.689Z"
   },
   {
    "duration": 675,
    "start_time": "2022-01-26T10:59:42.545Z"
   },
   {
    "duration": 1668,
    "start_time": "2022-01-26T11:00:12.333Z"
   },
   {
    "duration": 29,
    "start_time": "2022-01-26T11:00:14.004Z"
   },
   {
    "duration": 96,
    "start_time": "2022-01-26T11:00:14.036Z"
   },
   {
    "duration": 9,
    "start_time": "2022-01-26T11:00:14.135Z"
   },
   {
    "duration": 142,
    "start_time": "2022-01-26T11:00:14.147Z"
   },
   {
    "duration": 12,
    "start_time": "2022-01-26T11:00:14.292Z"
   },
   {
    "duration": 193,
    "start_time": "2022-01-26T11:00:14.307Z"
   },
   {
    "duration": 27,
    "start_time": "2022-01-26T11:00:14.504Z"
   },
   {
    "duration": 86,
    "start_time": "2022-01-26T11:00:14.534Z"
   },
   {
    "duration": 70,
    "start_time": "2022-01-26T11:00:14.622Z"
   },
   {
    "duration": 126,
    "start_time": "2022-01-26T11:00:14.694Z"
   },
   {
    "duration": 60,
    "start_time": "2022-01-26T11:00:14.822Z"
   },
   {
    "duration": 77,
    "start_time": "2022-01-26T11:00:14.884Z"
   },
   {
    "duration": 65,
    "start_time": "2022-01-26T11:00:14.964Z"
   },
   {
    "duration": 39,
    "start_time": "2022-01-26T11:00:15.032Z"
   },
   {
    "duration": 20,
    "start_time": "2022-01-26T11:00:15.074Z"
   },
   {
    "duration": 67,
    "start_time": "2022-01-26T11:00:15.097Z"
   },
   {
    "duration": 11,
    "start_time": "2022-01-26T11:00:15.169Z"
   },
   {
    "duration": 5,
    "start_time": "2022-01-26T11:00:15.182Z"
   },
   {
    "duration": 10,
    "start_time": "2022-01-26T11:00:15.189Z"
   },
   {
    "duration": 192,
    "start_time": "2022-01-26T11:00:15.201Z"
   },
   {
    "duration": 340,
    "start_time": "2022-01-26T11:00:15.395Z"
   },
   {
    "duration": 885,
    "start_time": "2022-01-26T11:00:15.739Z"
   },
   {
    "duration": 882,
    "start_time": "2022-01-26T11:00:16.626Z"
   },
   {
    "duration": 973,
    "start_time": "2022-01-26T11:00:17.511Z"
   },
   {
    "duration": 17,
    "start_time": "2022-01-26T11:00:18.486Z"
   },
   {
    "duration": 16,
    "start_time": "2022-01-26T11:00:18.506Z"
   },
   {
    "duration": 84,
    "start_time": "2022-01-26T11:01:30.139Z"
   },
   {
    "duration": 67,
    "start_time": "2022-01-26T11:02:43.846Z"
   },
   {
    "duration": 77,
    "start_time": "2022-01-26T11:02:52.997Z"
   },
   {
    "duration": 226,
    "start_time": "2022-01-26T11:03:09.405Z"
   },
   {
    "duration": 27,
    "start_time": "2022-01-26T11:03:16.100Z"
   },
   {
    "duration": 95,
    "start_time": "2022-01-26T11:03:18.479Z"
   },
   {
    "duration": 14,
    "start_time": "2022-01-26T11:03:23.543Z"
   },
   {
    "duration": 136,
    "start_time": "2022-01-26T11:03:29.010Z"
   },
   {
    "duration": 15,
    "start_time": "2022-01-26T11:03:32.979Z"
   },
   {
    "duration": 185,
    "start_time": "2022-01-26T11:03:39.730Z"
   },
   {
    "duration": 23,
    "start_time": "2022-01-26T11:03:47.699Z"
   },
   {
    "duration": 75,
    "start_time": "2022-01-26T11:03:51.521Z"
   },
   {
    "duration": 65,
    "start_time": "2022-01-26T11:04:03.251Z"
   },
   {
    "duration": 151,
    "start_time": "2022-01-26T11:05:40.129Z"
   },
   {
    "duration": 29,
    "start_time": "2022-01-26T11:05:47.856Z"
   },
   {
    "duration": 87,
    "start_time": "2022-01-26T11:05:50.839Z"
   },
   {
    "duration": 56,
    "start_time": "2022-01-26T11:05:55.485Z"
   },
   {
    "duration": 29,
    "start_time": "2022-01-26T11:06:00.988Z"
   },
   {
    "duration": 51,
    "start_time": "2022-01-26T11:06:30.965Z"
   },
   {
    "duration": 10,
    "start_time": "2022-01-26T11:06:34.384Z"
   },
   {
    "duration": 6,
    "start_time": "2022-01-26T11:06:36.982Z"
   },
   {
    "duration": 8,
    "start_time": "2022-01-26T11:06:40.292Z"
   },
   {
    "duration": 88,
    "start_time": "2022-01-26T11:06:44.087Z"
   },
   {
    "duration": 243,
    "start_time": "2022-01-26T11:06:57.914Z"
   },
   {
    "duration": 282,
    "start_time": "2022-01-26T11:11:16.031Z"
   },
   {
    "duration": 231,
    "start_time": "2022-01-26T11:11:51.403Z"
   },
   {
    "duration": 56,
    "start_time": "2022-01-26T11:34:44.649Z"
   },
   {
    "duration": 55,
    "start_time": "2022-01-26T11:35:11.209Z"
   },
   {
    "duration": 71,
    "start_time": "2022-01-26T11:35:25.684Z"
   },
   {
    "duration": 180,
    "start_time": "2022-01-26T11:35:34.164Z"
   },
   {
    "duration": 25,
    "start_time": "2022-01-26T11:35:36.872Z"
   },
   {
    "duration": 68,
    "start_time": "2022-01-26T11:35:40.532Z"
   },
   {
    "duration": 64,
    "start_time": "2022-01-26T11:35:48.794Z"
   },
   {
    "duration": 62,
    "start_time": "2022-01-26T11:38:08.677Z"
   },
   {
    "duration": 62,
    "start_time": "2022-01-26T11:42:56.307Z"
   },
   {
    "duration": 64,
    "start_time": "2022-01-26T11:43:33.346Z"
   },
   {
    "duration": 72,
    "start_time": "2022-01-26T11:43:55.288Z"
   },
   {
    "duration": 243,
    "start_time": "2022-01-26T11:44:15.833Z"
   },
   {
    "duration": 953,
    "start_time": "2022-01-26T11:53:25.518Z"
   },
   {
    "duration": 243,
    "start_time": "2022-01-26T12:01:02.801Z"
   },
   {
    "duration": 274,
    "start_time": "2022-01-26T12:04:06.804Z"
   },
   {
    "duration": 700,
    "start_time": "2022-01-26T12:04:40.698Z"
   },
   {
    "duration": 830,
    "start_time": "2022-01-26T12:04:51.289Z"
   },
   {
    "duration": 887,
    "start_time": "2022-01-26T12:05:04.940Z"
   },
   {
    "duration": 16,
    "start_time": "2022-01-26T12:05:39.525Z"
   },
   {
    "duration": 15,
    "start_time": "2022-01-26T12:06:19.533Z"
   },
   {
    "duration": 285,
    "start_time": "2022-01-26T12:14:16.654Z"
   },
   {
    "duration": 282,
    "start_time": "2022-01-26T12:15:22.380Z"
   },
   {
    "duration": 716,
    "start_time": "2022-01-26T12:16:19.631Z"
   },
   {
    "duration": 956,
    "start_time": "2022-01-26T12:16:52.808Z"
   },
   {
    "duration": 879,
    "start_time": "2022-01-26T12:17:01.721Z"
   },
   {
    "duration": 16,
    "start_time": "2022-01-26T12:17:27.601Z"
   },
   {
    "duration": 15,
    "start_time": "2022-01-26T12:18:05.205Z"
   },
   {
    "duration": 492,
    "start_time": "2022-01-26T12:23:51.306Z"
   },
   {
    "duration": 351,
    "start_time": "2022-01-26T12:31:13.231Z"
   },
   {
    "duration": 17,
    "start_time": "2022-01-26T12:31:22.445Z"
   },
   {
    "duration": 16,
    "start_time": "2022-01-26T12:32:42.713Z"
   },
   {
    "duration": 364,
    "start_time": "2022-01-26T12:33:13.244Z"
   },
   {
    "duration": 2538,
    "start_time": "2022-01-26T12:35:24.922Z"
   },
   {
    "duration": 9327,
    "start_time": "2022-01-26T12:35:34.983Z"
   },
   {
    "duration": 2634,
    "start_time": "2022-01-26T12:35:49.179Z"
   },
   {
    "duration": 4587,
    "start_time": "2022-01-26T12:52:44.800Z"
   },
   {
    "duration": 14,
    "start_time": "2022-01-26T12:56:02.053Z"
   },
   {
    "duration": 376,
    "start_time": "2022-01-26T13:03:25.851Z"
   },
   {
    "duration": 361,
    "start_time": "2022-01-26T13:04:07.021Z"
   },
   {
    "duration": 427,
    "start_time": "2022-01-26T13:05:40.433Z"
   },
   {
    "duration": 392,
    "start_time": "2022-01-26T13:06:08.568Z"
   },
   {
    "duration": 287,
    "start_time": "2022-01-26T13:07:31.210Z"
   },
   {
    "duration": 1105,
    "start_time": "2022-01-26T16:50:11.827Z"
   },
   {
    "duration": 20,
    "start_time": "2022-01-26T16:50:12.934Z"
   },
   {
    "duration": 78,
    "start_time": "2022-01-26T16:50:12.956Z"
   },
   {
    "duration": 7,
    "start_time": "2022-01-26T16:50:13.035Z"
   },
   {
    "duration": 103,
    "start_time": "2022-01-26T16:50:13.043Z"
   },
   {
    "duration": 9,
    "start_time": "2022-01-26T16:50:13.148Z"
   },
   {
    "duration": 130,
    "start_time": "2022-01-26T16:50:13.159Z"
   },
   {
    "duration": 21,
    "start_time": "2022-01-26T16:50:13.291Z"
   },
   {
    "duration": 46,
    "start_time": "2022-01-26T16:50:13.314Z"
   },
   {
    "duration": 63,
    "start_time": "2022-01-26T16:50:13.362Z"
   },
   {
    "duration": 82,
    "start_time": "2022-01-26T16:50:13.427Z"
   },
   {
    "duration": 15,
    "start_time": "2022-01-26T16:50:13.510Z"
   },
   {
    "duration": 41,
    "start_time": "2022-01-26T16:50:13.526Z"
   },
   {
    "duration": 60,
    "start_time": "2022-01-26T16:50:13.569Z"
   },
   {
    "duration": 20,
    "start_time": "2022-01-26T16:50:13.630Z"
   },
   {
    "duration": 7,
    "start_time": "2022-01-26T16:50:13.652Z"
   },
   {
    "duration": 51,
    "start_time": "2022-01-26T16:50:13.660Z"
   },
   {
    "duration": 5,
    "start_time": "2022-01-26T16:50:13.712Z"
   },
   {
    "duration": 7,
    "start_time": "2022-01-26T16:50:13.719Z"
   },
   {
    "duration": 8,
    "start_time": "2022-01-26T16:50:13.727Z"
   },
   {
    "duration": 45,
    "start_time": "2022-01-26T16:50:13.736Z"
   },
   {
    "duration": 167,
    "start_time": "2022-01-26T16:50:13.783Z"
   },
   {
    "duration": 435,
    "start_time": "2022-01-26T16:50:13.952Z"
   },
   {
    "duration": 498,
    "start_time": "2022-01-26T16:50:14.389Z"
   },
   {
    "duration": 562,
    "start_time": "2022-01-26T16:50:14.889Z"
   },
   {
    "duration": 10,
    "start_time": "2022-01-26T16:50:15.452Z"
   },
   {
    "duration": 8,
    "start_time": "2022-01-26T16:50:15.464Z"
   },
   {
    "duration": 18,
    "start_time": "2022-01-26T16:50:31.597Z"
   },
   {
    "duration": 47,
    "start_time": "2022-06-21T14:19:41.255Z"
   },
   {
    "duration": 1481,
    "start_time": "2022-06-21T14:19:50.555Z"
   },
   {
    "duration": 35,
    "start_time": "2022-06-21T14:19:52.043Z"
   },
   {
    "duration": 72,
    "start_time": "2022-06-21T14:19:52.080Z"
   },
   {
    "duration": 7,
    "start_time": "2022-06-21T14:19:52.155Z"
   },
   {
    "duration": 90,
    "start_time": "2022-06-21T14:19:52.165Z"
   },
   {
    "duration": 11,
    "start_time": "2022-06-21T14:19:52.258Z"
   },
   {
    "duration": 442,
    "start_time": "2022-06-21T14:19:52.271Z"
   },
   {
    "duration": 48,
    "start_time": "2022-06-21T14:19:52.715Z"
   },
   {
    "duration": 71,
    "start_time": "2022-06-21T14:19:52.766Z"
   },
   {
    "duration": 36,
    "start_time": "2022-06-21T14:19:52.842Z"
   },
   {
    "duration": 403,
    "start_time": "2022-06-21T14:19:52.880Z"
   },
   {
    "duration": 21,
    "start_time": "2022-06-21T14:19:53.285Z"
   },
   {
    "duration": 46,
    "start_time": "2022-06-21T14:19:53.308Z"
   },
   {
    "duration": 46,
    "start_time": "2022-06-21T14:19:53.358Z"
   },
   {
    "duration": 87,
    "start_time": "2022-06-21T14:19:53.405Z"
   },
   {
    "duration": 10,
    "start_time": "2022-06-21T14:19:53.494Z"
   },
   {
    "duration": 90,
    "start_time": "2022-06-21T14:19:53.506Z"
   },
   {
    "duration": 10,
    "start_time": "2022-06-21T14:19:53.598Z"
   },
   {
    "duration": 9,
    "start_time": "2022-06-21T14:19:53.610Z"
   },
   {
    "duration": 38,
    "start_time": "2022-06-21T14:19:53.621Z"
   },
   {
    "duration": 51,
    "start_time": "2022-06-21T14:19:53.660Z"
   },
   {
    "duration": 140,
    "start_time": "2022-06-21T14:19:53.713Z"
   },
   {
    "duration": 358,
    "start_time": "2022-06-21T14:19:53.854Z"
   },
   {
    "duration": 423,
    "start_time": "2022-06-21T14:19:54.214Z"
   },
   {
    "duration": 432,
    "start_time": "2022-06-21T14:19:54.641Z"
   },
   {
    "duration": 12,
    "start_time": "2022-06-21T14:19:55.075Z"
   },
   {
    "duration": 11,
    "start_time": "2022-06-21T14:19:55.089Z"
   },
   {
    "duration": 63,
    "start_time": "2022-06-21T14:20:33.384Z"
   },
   {
    "duration": 9,
    "start_time": "2022-06-21T14:20:52.989Z"
   },
   {
    "duration": 38,
    "start_time": "2022-06-21T14:21:33.545Z"
   },
   {
    "duration": 57,
    "start_time": "2022-06-21T14:22:41.890Z"
   },
   {
    "duration": 1377,
    "start_time": "2022-06-21T14:30:31.493Z"
   },
   {
    "duration": 32,
    "start_time": "2022-06-21T14:30:32.872Z"
   },
   {
    "duration": 102,
    "start_time": "2022-06-21T14:30:32.910Z"
   },
   {
    "duration": 7,
    "start_time": "2022-06-21T14:30:33.013Z"
   },
   {
    "duration": 141,
    "start_time": "2022-06-21T14:30:33.022Z"
   },
   {
    "duration": 8,
    "start_time": "2022-06-21T14:30:33.165Z"
   },
   {
    "duration": 189,
    "start_time": "2022-06-21T14:30:33.175Z"
   },
   {
    "duration": 20,
    "start_time": "2022-06-21T14:30:33.366Z"
   },
   {
    "duration": 59,
    "start_time": "2022-06-21T14:30:33.387Z"
   },
   {
    "duration": 36,
    "start_time": "2022-06-21T14:30:33.453Z"
   },
   {
    "duration": 110,
    "start_time": "2022-06-21T14:30:33.490Z"
   },
   {
    "duration": 17,
    "start_time": "2022-06-21T14:30:33.601Z"
   },
   {
    "duration": 58,
    "start_time": "2022-06-21T14:30:33.619Z"
   },
   {
    "duration": 30,
    "start_time": "2022-06-21T14:30:33.680Z"
   },
   {
    "duration": 57,
    "start_time": "2022-06-21T14:30:33.712Z"
   },
   {
    "duration": 11,
    "start_time": "2022-06-21T14:30:33.771Z"
   },
   {
    "duration": 44,
    "start_time": "2022-06-21T14:30:33.783Z"
   },
   {
    "duration": 21,
    "start_time": "2022-06-21T14:30:33.839Z"
   },
   {
    "duration": 8,
    "start_time": "2022-06-21T14:30:33.862Z"
   },
   {
    "duration": 18,
    "start_time": "2022-06-21T14:30:33.871Z"
   },
   {
    "duration": 77,
    "start_time": "2022-06-21T14:30:33.890Z"
   },
   {
    "duration": 137,
    "start_time": "2022-06-21T14:30:33.969Z"
   },
   {
    "duration": 448,
    "start_time": "2022-06-21T14:30:34.108Z"
   },
   {
    "duration": 442,
    "start_time": "2022-06-21T14:30:34.561Z"
   },
   {
    "duration": 503,
    "start_time": "2022-06-21T14:30:35.004Z"
   },
   {
    "duration": 11,
    "start_time": "2022-06-21T14:30:35.509Z"
   },
   {
    "duration": 57,
    "start_time": "2022-06-21T14:30:35.521Z"
   },
   {
    "duration": 1456,
    "start_time": "2022-06-21T14:32:02.047Z"
   },
   {
    "duration": 36,
    "start_time": "2022-06-21T14:32:03.506Z"
   },
   {
    "duration": 65,
    "start_time": "2022-06-21T14:32:03.544Z"
   },
   {
    "duration": 6,
    "start_time": "2022-06-21T14:32:03.611Z"
   },
   {
    "duration": 85,
    "start_time": "2022-06-21T14:32:03.619Z"
   },
   {
    "duration": 7,
    "start_time": "2022-06-21T14:32:03.705Z"
   },
   {
    "duration": 182,
    "start_time": "2022-06-21T14:32:03.714Z"
   },
   {
    "duration": 20,
    "start_time": "2022-06-21T14:32:03.898Z"
   },
   {
    "duration": 59,
    "start_time": "2022-06-21T14:32:03.929Z"
   },
   {
    "duration": 54,
    "start_time": "2022-06-21T14:32:03.990Z"
   },
   {
    "duration": 111,
    "start_time": "2022-06-21T14:32:04.046Z"
   },
   {
    "duration": 18,
    "start_time": "2022-06-21T14:32:04.159Z"
   },
   {
    "duration": 77,
    "start_time": "2022-06-21T14:32:04.178Z"
   },
   {
    "duration": 35,
    "start_time": "2022-06-21T14:32:04.258Z"
   },
   {
    "duration": 22,
    "start_time": "2022-06-21T14:32:04.295Z"
   },
   {
    "duration": 26,
    "start_time": "2022-06-21T14:32:04.319Z"
   },
   {
    "duration": 54,
    "start_time": "2022-06-21T14:32:04.349Z"
   },
   {
    "duration": 10,
    "start_time": "2022-06-21T14:32:04.405Z"
   },
   {
    "duration": 30,
    "start_time": "2022-06-21T14:32:04.417Z"
   },
   {
    "duration": 30,
    "start_time": "2022-06-21T14:32:04.451Z"
   },
   {
    "duration": 60,
    "start_time": "2022-06-21T14:32:04.483Z"
   },
   {
    "duration": 119,
    "start_time": "2022-06-21T14:32:04.544Z"
   },
   {
    "duration": 413,
    "start_time": "2022-06-21T14:32:04.665Z"
   },
   {
    "duration": 412,
    "start_time": "2022-06-21T14:32:05.080Z"
   },
   {
    "duration": 448,
    "start_time": "2022-06-21T14:32:05.494Z"
   },
   {
    "duration": 23,
    "start_time": "2022-06-21T14:32:05.943Z"
   },
   {
    "duration": 18,
    "start_time": "2022-06-21T14:32:05.972Z"
   }
  ],
  "kernelspec": {
   "display_name": "Python 3 (ipykernel)",
   "language": "python",
   "name": "python3"
  },
  "language_info": {
   "codemirror_mode": {
    "name": "ipython",
    "version": 3
   },
   "file_extension": ".py",
   "mimetype": "text/x-python",
   "name": "python",
   "nbconvert_exporter": "python",
   "pygments_lexer": "ipython3",
   "version": "3.9.5"
  },
  "toc": {
   "base_numbering": 1,
   "nav_menu": {},
   "number_sections": true,
   "sideBar": true,
   "skip_h1_title": true,
   "title_cell": "Table of Contents",
   "title_sidebar": "Contents",
   "toc_cell": false,
   "toc_position": {},
   "toc_section_display": true,
   "toc_window_display": false
  }
 },
 "nbformat": 4,
 "nbformat_minor": 2
}
