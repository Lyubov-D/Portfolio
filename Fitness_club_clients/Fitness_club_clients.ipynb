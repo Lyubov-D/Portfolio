{
 "cells": [
  {
   "cell_type": "markdown",
   "metadata": {},
   "source": [
    "# Анализ данных и подготовка плана действий по удержанию клиентов фитнес-клуба «Культуриста-датасаентиста»\n",
    "\n",
    "\n",
    "Проанализировать отток клиентов. Индикаторы оттока зависят от специфики отрасли.Для фитнес-центра можно считать, что клиент попал в отток, если за последний месяц ни разу не посетил спортзал. Чтобы бороться с оттоком, отдел по работе с клиентами «Культуриста-датасаентиста» перевёл в электронный вид множество анкет пользователей. \n",
    "\n",
    "**Задача — провести анализ и подготовить план действий по удержанию клиентов.**\n",
    "\n",
    "План:\n",
    "- научиться прогнозировать вероятность оттока (на уровне следующего месяца) для каждого клиента;\n",
    "- сформировать типичные портреты пользователей: выделить несколько наиболее ярких групп и охарактеризовать их основные свойства;\n",
    "- проанализировать основные признаки, наиболее сильно влияющие на отток;\n",
    "- сформулировать основные выводы и разработать рекомендации по повышению качества работы с клиентами:\n",
    "1) выделить целевые группы клиентов;\n",
    "2) предложить меры по снижению оттока;\n",
    "3) определить другие особенности взаимодействия с клиентами."
   ]
  },
  {
   "cell_type": "markdown",
   "metadata": {},
   "source": [
    "## Изучение данных из файла и подготовка к анализу"
   ]
  },
  {
   "cell_type": "markdown",
   "metadata": {},
   "source": [
    "**Импортируем нужные бибилиотеки**"
   ]
  },
  {
   "cell_type": "code",
   "execution_count": 1,
   "metadata": {},
   "outputs": [],
   "source": [
    "import pandas as pd\n",
    "import seaborn as sns\n",
    "import matplotlib.pyplot as plt\n",
    "import numpy as np\n",
    "import plotly.express as px\n",
    "from plotly import graph_objects as go\n",
    "import sklearn\n",
    "from sklearn.linear_model import LogisticRegression\n",
    "from sklearn.ensemble import RandomForestClassifier\n",
    "from sklearn.metrics import accuracy_score\n",
    "from sklearn.metrics import precision_score\n",
    "from sklearn.metrics import recall_score\n",
    "from sklearn.model_selection import train_test_split\n",
    "from sklearn.metrics import mean_squared_error\n",
    "from sklearn.preprocessing import StandardScaler\n",
    "from sklearn.preprocessing import MinMaxScaler\n",
    "from scipy.cluster.hierarchy import dendrogram, linkage\n",
    "from sklearn.cluster import KMeans\n",
    "import warnings\n",
    "warnings.filterwarnings('ignore')"
   ]
  },
  {
   "cell_type": "markdown",
   "metadata": {},
   "source": [
    "**Откроем файл с данными и изучим общую информацию**"
   ]
  },
  {
   "cell_type": "code",
   "execution_count": 2,
   "metadata": {
    "scrolled": true
   },
   "outputs": [
    {
     "name": "stdout",
     "output_type": "stream",
     "text": [
      "<class 'pandas.core.frame.DataFrame'>\n",
      "RangeIndex: 4000 entries, 0 to 3999\n",
      "Data columns (total 14 columns):\n",
      " #   Column                             Non-Null Count  Dtype  \n",
      "---  ------                             --------------  -----  \n",
      " 0   gender                             4000 non-null   int64  \n",
      " 1   Near_Location                      4000 non-null   int64  \n",
      " 2   Partner                            4000 non-null   int64  \n",
      " 3   Promo_friends                      4000 non-null   int64  \n",
      " 4   Phone                              4000 non-null   int64  \n",
      " 5   Contract_period                    4000 non-null   int64  \n",
      " 6   Group_visits                       4000 non-null   int64  \n",
      " 7   Age                                4000 non-null   int64  \n",
      " 8   Avg_additional_charges_total       4000 non-null   float64\n",
      " 9   Month_to_end_contract              4000 non-null   float64\n",
      " 10  Lifetime                           4000 non-null   int64  \n",
      " 11  Avg_class_frequency_total          4000 non-null   float64\n",
      " 12  Avg_class_frequency_current_month  4000 non-null   float64\n",
      " 13  Churn                              4000 non-null   int64  \n",
      "dtypes: float64(4), int64(10)\n",
      "memory usage: 437.6 KB\n"
     ]
    }
   ],
   "source": [
    "df=pd.read_csv('/datasets/gym_churn.csv')# чтение файла с данными и сохранение в df\n",
    "df.info()"
   ]
  },
  {
   "cell_type": "code",
   "execution_count": 3,
   "metadata": {
    "scrolled": true
   },
   "outputs": [
    {
     "data": {
      "text/html": [
       "<div>\n",
       "<style scoped>\n",
       "    .dataframe tbody tr th:only-of-type {\n",
       "        vertical-align: middle;\n",
       "    }\n",
       "\n",
       "    .dataframe tbody tr th {\n",
       "        vertical-align: top;\n",
       "    }\n",
       "\n",
       "    .dataframe thead th {\n",
       "        text-align: right;\n",
       "    }\n",
       "</style>\n",
       "<table border=\"1\" class=\"dataframe\">\n",
       "  <thead>\n",
       "    <tr style=\"text-align: right;\">\n",
       "      <th></th>\n",
       "      <th>gender</th>\n",
       "      <th>Near_Location</th>\n",
       "      <th>Partner</th>\n",
       "      <th>Promo_friends</th>\n",
       "      <th>Phone</th>\n",
       "      <th>Contract_period</th>\n",
       "      <th>Group_visits</th>\n",
       "      <th>Age</th>\n",
       "      <th>Avg_additional_charges_total</th>\n",
       "      <th>Month_to_end_contract</th>\n",
       "      <th>Lifetime</th>\n",
       "      <th>Avg_class_frequency_total</th>\n",
       "      <th>Avg_class_frequency_current_month</th>\n",
       "      <th>Churn</th>\n",
       "    </tr>\n",
       "  </thead>\n",
       "  <tbody>\n",
       "    <tr>\n",
       "      <th>0</th>\n",
       "      <td>1</td>\n",
       "      <td>1</td>\n",
       "      <td>1</td>\n",
       "      <td>1</td>\n",
       "      <td>0</td>\n",
       "      <td>6</td>\n",
       "      <td>1</td>\n",
       "      <td>29</td>\n",
       "      <td>14.227470</td>\n",
       "      <td>5.0</td>\n",
       "      <td>3</td>\n",
       "      <td>0.020398</td>\n",
       "      <td>0.000000</td>\n",
       "      <td>0</td>\n",
       "    </tr>\n",
       "    <tr>\n",
       "      <th>1</th>\n",
       "      <td>0</td>\n",
       "      <td>1</td>\n",
       "      <td>0</td>\n",
       "      <td>0</td>\n",
       "      <td>1</td>\n",
       "      <td>12</td>\n",
       "      <td>1</td>\n",
       "      <td>31</td>\n",
       "      <td>113.202938</td>\n",
       "      <td>12.0</td>\n",
       "      <td>7</td>\n",
       "      <td>1.922936</td>\n",
       "      <td>1.910244</td>\n",
       "      <td>0</td>\n",
       "    </tr>\n",
       "    <tr>\n",
       "      <th>2</th>\n",
       "      <td>0</td>\n",
       "      <td>1</td>\n",
       "      <td>1</td>\n",
       "      <td>0</td>\n",
       "      <td>1</td>\n",
       "      <td>1</td>\n",
       "      <td>0</td>\n",
       "      <td>28</td>\n",
       "      <td>129.448479</td>\n",
       "      <td>1.0</td>\n",
       "      <td>2</td>\n",
       "      <td>1.859098</td>\n",
       "      <td>1.736502</td>\n",
       "      <td>0</td>\n",
       "    </tr>\n",
       "    <tr>\n",
       "      <th>3</th>\n",
       "      <td>0</td>\n",
       "      <td>1</td>\n",
       "      <td>1</td>\n",
       "      <td>1</td>\n",
       "      <td>1</td>\n",
       "      <td>12</td>\n",
       "      <td>1</td>\n",
       "      <td>33</td>\n",
       "      <td>62.669863</td>\n",
       "      <td>12.0</td>\n",
       "      <td>2</td>\n",
       "      <td>3.205633</td>\n",
       "      <td>3.357215</td>\n",
       "      <td>0</td>\n",
       "    </tr>\n",
       "    <tr>\n",
       "      <th>4</th>\n",
       "      <td>1</td>\n",
       "      <td>1</td>\n",
       "      <td>1</td>\n",
       "      <td>1</td>\n",
       "      <td>1</td>\n",
       "      <td>1</td>\n",
       "      <td>0</td>\n",
       "      <td>26</td>\n",
       "      <td>198.362265</td>\n",
       "      <td>1.0</td>\n",
       "      <td>3</td>\n",
       "      <td>1.113884</td>\n",
       "      <td>1.120078</td>\n",
       "      <td>0</td>\n",
       "    </tr>\n",
       "    <tr>\n",
       "      <th>5</th>\n",
       "      <td>1</td>\n",
       "      <td>1</td>\n",
       "      <td>0</td>\n",
       "      <td>0</td>\n",
       "      <td>1</td>\n",
       "      <td>1</td>\n",
       "      <td>1</td>\n",
       "      <td>34</td>\n",
       "      <td>450.743960</td>\n",
       "      <td>1.0</td>\n",
       "      <td>3</td>\n",
       "      <td>2.623477</td>\n",
       "      <td>2.637007</td>\n",
       "      <td>0</td>\n",
       "    </tr>\n",
       "    <tr>\n",
       "      <th>6</th>\n",
       "      <td>1</td>\n",
       "      <td>1</td>\n",
       "      <td>1</td>\n",
       "      <td>1</td>\n",
       "      <td>0</td>\n",
       "      <td>6</td>\n",
       "      <td>1</td>\n",
       "      <td>32</td>\n",
       "      <td>94.266389</td>\n",
       "      <td>6.0</td>\n",
       "      <td>2</td>\n",
       "      <td>1.138941</td>\n",
       "      <td>1.277242</td>\n",
       "      <td>0</td>\n",
       "    </tr>\n",
       "    <tr>\n",
       "      <th>7</th>\n",
       "      <td>0</td>\n",
       "      <td>1</td>\n",
       "      <td>0</td>\n",
       "      <td>0</td>\n",
       "      <td>1</td>\n",
       "      <td>1</td>\n",
       "      <td>0</td>\n",
       "      <td>30</td>\n",
       "      <td>217.786641</td>\n",
       "      <td>1.0</td>\n",
       "      <td>0</td>\n",
       "      <td>1.213502</td>\n",
       "      <td>1.049387</td>\n",
       "      <td>1</td>\n",
       "    </tr>\n",
       "    <tr>\n",
       "      <th>8</th>\n",
       "      <td>1</td>\n",
       "      <td>1</td>\n",
       "      <td>1</td>\n",
       "      <td>1</td>\n",
       "      <td>1</td>\n",
       "      <td>1</td>\n",
       "      <td>1</td>\n",
       "      <td>23</td>\n",
       "      <td>45.409909</td>\n",
       "      <td>1.0</td>\n",
       "      <td>1</td>\n",
       "      <td>1.106239</td>\n",
       "      <td>1.059333</td>\n",
       "      <td>0</td>\n",
       "    </tr>\n",
       "    <tr>\n",
       "      <th>9</th>\n",
       "      <td>0</td>\n",
       "      <td>1</td>\n",
       "      <td>0</td>\n",
       "      <td>0</td>\n",
       "      <td>1</td>\n",
       "      <td>1</td>\n",
       "      <td>0</td>\n",
       "      <td>31</td>\n",
       "      <td>65.310836</td>\n",
       "      <td>1.0</td>\n",
       "      <td>11</td>\n",
       "      <td>1.810852</td>\n",
       "      <td>1.951368</td>\n",
       "      <td>0</td>\n",
       "    </tr>\n",
       "  </tbody>\n",
       "</table>\n",
       "</div>"
      ],
      "text/plain": [
       "   gender  Near_Location  Partner  Promo_friends  Phone  Contract_period  \\\n",
       "0       1              1        1              1      0                6   \n",
       "1       0              1        0              0      1               12   \n",
       "2       0              1        1              0      1                1   \n",
       "3       0              1        1              1      1               12   \n",
       "4       1              1        1              1      1                1   \n",
       "5       1              1        0              0      1                1   \n",
       "6       1              1        1              1      0                6   \n",
       "7       0              1        0              0      1                1   \n",
       "8       1              1        1              1      1                1   \n",
       "9       0              1        0              0      1                1   \n",
       "\n",
       "   Group_visits  Age  Avg_additional_charges_total  Month_to_end_contract  \\\n",
       "0             1   29                     14.227470                    5.0   \n",
       "1             1   31                    113.202938                   12.0   \n",
       "2             0   28                    129.448479                    1.0   \n",
       "3             1   33                     62.669863                   12.0   \n",
       "4             0   26                    198.362265                    1.0   \n",
       "5             1   34                    450.743960                    1.0   \n",
       "6             1   32                     94.266389                    6.0   \n",
       "7             0   30                    217.786641                    1.0   \n",
       "8             1   23                     45.409909                    1.0   \n",
       "9             0   31                     65.310836                    1.0   \n",
       "\n",
       "   Lifetime  Avg_class_frequency_total  Avg_class_frequency_current_month  \\\n",
       "0         3                   0.020398                           0.000000   \n",
       "1         7                   1.922936                           1.910244   \n",
       "2         2                   1.859098                           1.736502   \n",
       "3         2                   3.205633                           3.357215   \n",
       "4         3                   1.113884                           1.120078   \n",
       "5         3                   2.623477                           2.637007   \n",
       "6         2                   1.138941                           1.277242   \n",
       "7         0                   1.213502                           1.049387   \n",
       "8         1                   1.106239                           1.059333   \n",
       "9        11                   1.810852                           1.951368   \n",
       "\n",
       "   Churn  \n",
       "0      0  \n",
       "1      0  \n",
       "2      0  \n",
       "3      0  \n",
       "4      0  \n",
       "5      0  \n",
       "6      0  \n",
       "7      1  \n",
       "8      0  \n",
       "9      0  "
      ]
     },
     "execution_count": 3,
     "metadata": {},
     "output_type": "execute_result"
    }
   ],
   "source": [
    "df.head(10)"
   ]
  },
  {
   "cell_type": "markdown",
   "metadata": {},
   "source": [
    "**Описание данных:**\n",
    "\n",
    "- 'gender' — пол\n",
    "- 'Near_Location' — проживание или работа в районе, где находится фитнес-центр\n",
    "- 'Partner' — сотрудник компании-партнёра клуба (сотрудничество с компаниями, чьи сотрудники могут получать скидки на абонемент — в таком случае фитнес-центр хранит информацию о работодателе клиента)\n",
    "- Promo_friends — факт первоначальной записи в рамках акции «приведи друга» (использовал промо-код от знакомого при оплате первого абонемента)\n",
    "- 'Phone' — наличие контактного телефона\n",
    "- 'Age' — возраст\n",
    "- 'Lifetime' — время с момента первого обращения в фитнес-центр (в месяцах) Информация на основе журнала посещений, покупок и информация о текущем статусе абонемента клиента\n",
    "- 'Contract_period' — длительность текущего действующего абонемента (месяц, 3 месяца, 6 месяцев, год)\n",
    "- 'Month_to_end_contract' — срок до окончания текущего действующего абонемента (в месяцах)\n",
    "- 'Group_visits' — факт посещения групповых занятий\n",
    "- 'Avg_class_frequency_total' — средняя частота посещений в неделю за все время с начала действия абонемента\n",
    "- 'Avg_class_frequency_current_month' — средняя частота посещений в неделю за предыдущий месяц\n",
    "- 'Avg_additional_charges_total' — суммарная выручка от других услуг фитнес-центра: кафе, спорт-товары, косметический и массажный салон\n",
    "- 'Churn' — факт оттока в текущем месяце"
   ]
  },
  {
   "cell_type": "code",
   "execution_count": 4,
   "metadata": {
    "scrolled": false
   },
   "outputs": [
    {
     "data": {
      "text/plain": [
       "gender                               0\n",
       "Near_Location                        0\n",
       "Partner                              0\n",
       "Promo_friends                        0\n",
       "Phone                                0\n",
       "Contract_period                      0\n",
       "Group_visits                         0\n",
       "Age                                  0\n",
       "Avg_additional_charges_total         0\n",
       "Month_to_end_contract                0\n",
       "Lifetime                             0\n",
       "Avg_class_frequency_total            0\n",
       "Avg_class_frequency_current_month    0\n",
       "Churn                                0\n",
       "dtype: int64"
      ]
     },
     "execution_count": 4,
     "metadata": {},
     "output_type": "execute_result"
    }
   ],
   "source": [
    "df.isna().sum() #проверим наличие пропущенных значений"
   ]
  },
  {
   "cell_type": "markdown",
   "metadata": {},
   "source": [
    "**Вывод**\n",
    "\n",
    "Датасет размером 4000 записей в 14 столбцах.\n",
    "\n",
    "Пропущенных значений нет.\n",
    "Тип данных во всех столбцах числовой."
   ]
  },
  {
   "cell_type": "markdown",
   "metadata": {},
   "source": [
    "## Проведём исследовательский анализ данных (EDA)"
   ]
  },
  {
   "cell_type": "code",
   "execution_count": 5,
   "metadata": {
    "scrolled": true
   },
   "outputs": [
    {
     "data": {
      "text/html": [
       "<div>\n",
       "<style scoped>\n",
       "    .dataframe tbody tr th:only-of-type {\n",
       "        vertical-align: middle;\n",
       "    }\n",
       "\n",
       "    .dataframe tbody tr th {\n",
       "        vertical-align: top;\n",
       "    }\n",
       "\n",
       "    .dataframe thead th {\n",
       "        text-align: right;\n",
       "    }\n",
       "</style>\n",
       "<table border=\"1\" class=\"dataframe\">\n",
       "  <thead>\n",
       "    <tr style=\"text-align: right;\">\n",
       "      <th></th>\n",
       "      <th>count</th>\n",
       "      <th>mean</th>\n",
       "      <th>std</th>\n",
       "      <th>min</th>\n",
       "      <th>25%</th>\n",
       "      <th>50%</th>\n",
       "      <th>75%</th>\n",
       "      <th>max</th>\n",
       "    </tr>\n",
       "  </thead>\n",
       "  <tbody>\n",
       "    <tr>\n",
       "      <th>gender</th>\n",
       "      <td>4000.0</td>\n",
       "      <td>0.510250</td>\n",
       "      <td>0.499957</td>\n",
       "      <td>0.000000</td>\n",
       "      <td>0.000000</td>\n",
       "      <td>1.000000</td>\n",
       "      <td>1.000000</td>\n",
       "      <td>1.000000</td>\n",
       "    </tr>\n",
       "    <tr>\n",
       "      <th>Near_Location</th>\n",
       "      <td>4000.0</td>\n",
       "      <td>0.845250</td>\n",
       "      <td>0.361711</td>\n",
       "      <td>0.000000</td>\n",
       "      <td>1.000000</td>\n",
       "      <td>1.000000</td>\n",
       "      <td>1.000000</td>\n",
       "      <td>1.000000</td>\n",
       "    </tr>\n",
       "    <tr>\n",
       "      <th>Partner</th>\n",
       "      <td>4000.0</td>\n",
       "      <td>0.486750</td>\n",
       "      <td>0.499887</td>\n",
       "      <td>0.000000</td>\n",
       "      <td>0.000000</td>\n",
       "      <td>0.000000</td>\n",
       "      <td>1.000000</td>\n",
       "      <td>1.000000</td>\n",
       "    </tr>\n",
       "    <tr>\n",
       "      <th>Promo_friends</th>\n",
       "      <td>4000.0</td>\n",
       "      <td>0.308500</td>\n",
       "      <td>0.461932</td>\n",
       "      <td>0.000000</td>\n",
       "      <td>0.000000</td>\n",
       "      <td>0.000000</td>\n",
       "      <td>1.000000</td>\n",
       "      <td>1.000000</td>\n",
       "    </tr>\n",
       "    <tr>\n",
       "      <th>Phone</th>\n",
       "      <td>4000.0</td>\n",
       "      <td>0.903500</td>\n",
       "      <td>0.295313</td>\n",
       "      <td>0.000000</td>\n",
       "      <td>1.000000</td>\n",
       "      <td>1.000000</td>\n",
       "      <td>1.000000</td>\n",
       "      <td>1.000000</td>\n",
       "    </tr>\n",
       "    <tr>\n",
       "      <th>Contract_period</th>\n",
       "      <td>4000.0</td>\n",
       "      <td>4.681250</td>\n",
       "      <td>4.549706</td>\n",
       "      <td>1.000000</td>\n",
       "      <td>1.000000</td>\n",
       "      <td>1.000000</td>\n",
       "      <td>6.000000</td>\n",
       "      <td>12.000000</td>\n",
       "    </tr>\n",
       "    <tr>\n",
       "      <th>Group_visits</th>\n",
       "      <td>4000.0</td>\n",
       "      <td>0.412250</td>\n",
       "      <td>0.492301</td>\n",
       "      <td>0.000000</td>\n",
       "      <td>0.000000</td>\n",
       "      <td>0.000000</td>\n",
       "      <td>1.000000</td>\n",
       "      <td>1.000000</td>\n",
       "    </tr>\n",
       "    <tr>\n",
       "      <th>Age</th>\n",
       "      <td>4000.0</td>\n",
       "      <td>29.184250</td>\n",
       "      <td>3.258367</td>\n",
       "      <td>18.000000</td>\n",
       "      <td>27.000000</td>\n",
       "      <td>29.000000</td>\n",
       "      <td>31.000000</td>\n",
       "      <td>41.000000</td>\n",
       "    </tr>\n",
       "    <tr>\n",
       "      <th>Avg_additional_charges_total</th>\n",
       "      <td>4000.0</td>\n",
       "      <td>146.943728</td>\n",
       "      <td>96.355602</td>\n",
       "      <td>0.148205</td>\n",
       "      <td>68.868830</td>\n",
       "      <td>136.220159</td>\n",
       "      <td>210.949625</td>\n",
       "      <td>552.590740</td>\n",
       "    </tr>\n",
       "    <tr>\n",
       "      <th>Month_to_end_contract</th>\n",
       "      <td>4000.0</td>\n",
       "      <td>4.322750</td>\n",
       "      <td>4.191297</td>\n",
       "      <td>1.000000</td>\n",
       "      <td>1.000000</td>\n",
       "      <td>1.000000</td>\n",
       "      <td>6.000000</td>\n",
       "      <td>12.000000</td>\n",
       "    </tr>\n",
       "    <tr>\n",
       "      <th>Lifetime</th>\n",
       "      <td>4000.0</td>\n",
       "      <td>3.724750</td>\n",
       "      <td>3.749267</td>\n",
       "      <td>0.000000</td>\n",
       "      <td>1.000000</td>\n",
       "      <td>3.000000</td>\n",
       "      <td>5.000000</td>\n",
       "      <td>31.000000</td>\n",
       "    </tr>\n",
       "    <tr>\n",
       "      <th>Avg_class_frequency_total</th>\n",
       "      <td>4000.0</td>\n",
       "      <td>1.879020</td>\n",
       "      <td>0.972245</td>\n",
       "      <td>0.000000</td>\n",
       "      <td>1.180875</td>\n",
       "      <td>1.832768</td>\n",
       "      <td>2.536078</td>\n",
       "      <td>6.023668</td>\n",
       "    </tr>\n",
       "    <tr>\n",
       "      <th>Avg_class_frequency_current_month</th>\n",
       "      <td>4000.0</td>\n",
       "      <td>1.767052</td>\n",
       "      <td>1.052906</td>\n",
       "      <td>0.000000</td>\n",
       "      <td>0.963003</td>\n",
       "      <td>1.719574</td>\n",
       "      <td>2.510336</td>\n",
       "      <td>6.146783</td>\n",
       "    </tr>\n",
       "    <tr>\n",
       "      <th>Churn</th>\n",
       "      <td>4000.0</td>\n",
       "      <td>0.265250</td>\n",
       "      <td>0.441521</td>\n",
       "      <td>0.000000</td>\n",
       "      <td>0.000000</td>\n",
       "      <td>0.000000</td>\n",
       "      <td>1.000000</td>\n",
       "      <td>1.000000</td>\n",
       "    </tr>\n",
       "  </tbody>\n",
       "</table>\n",
       "</div>"
      ],
      "text/plain": [
       "                                    count        mean        std        min  \\\n",
       "gender                             4000.0    0.510250   0.499957   0.000000   \n",
       "Near_Location                      4000.0    0.845250   0.361711   0.000000   \n",
       "Partner                            4000.0    0.486750   0.499887   0.000000   \n",
       "Promo_friends                      4000.0    0.308500   0.461932   0.000000   \n",
       "Phone                              4000.0    0.903500   0.295313   0.000000   \n",
       "Contract_period                    4000.0    4.681250   4.549706   1.000000   \n",
       "Group_visits                       4000.0    0.412250   0.492301   0.000000   \n",
       "Age                                4000.0   29.184250   3.258367  18.000000   \n",
       "Avg_additional_charges_total       4000.0  146.943728  96.355602   0.148205   \n",
       "Month_to_end_contract              4000.0    4.322750   4.191297   1.000000   \n",
       "Lifetime                           4000.0    3.724750   3.749267   0.000000   \n",
       "Avg_class_frequency_total          4000.0    1.879020   0.972245   0.000000   \n",
       "Avg_class_frequency_current_month  4000.0    1.767052   1.052906   0.000000   \n",
       "Churn                              4000.0    0.265250   0.441521   0.000000   \n",
       "\n",
       "                                         25%         50%         75%  \\\n",
       "gender                              0.000000    1.000000    1.000000   \n",
       "Near_Location                       1.000000    1.000000    1.000000   \n",
       "Partner                             0.000000    0.000000    1.000000   \n",
       "Promo_friends                       0.000000    0.000000    1.000000   \n",
       "Phone                               1.000000    1.000000    1.000000   \n",
       "Contract_period                     1.000000    1.000000    6.000000   \n",
       "Group_visits                        0.000000    0.000000    1.000000   \n",
       "Age                                27.000000   29.000000   31.000000   \n",
       "Avg_additional_charges_total       68.868830  136.220159  210.949625   \n",
       "Month_to_end_contract               1.000000    1.000000    6.000000   \n",
       "Lifetime                            1.000000    3.000000    5.000000   \n",
       "Avg_class_frequency_total           1.180875    1.832768    2.536078   \n",
       "Avg_class_frequency_current_month   0.963003    1.719574    2.510336   \n",
       "Churn                               0.000000    0.000000    1.000000   \n",
       "\n",
       "                                          max  \n",
       "gender                               1.000000  \n",
       "Near_Location                        1.000000  \n",
       "Partner                              1.000000  \n",
       "Promo_friends                        1.000000  \n",
       "Phone                                1.000000  \n",
       "Contract_period                     12.000000  \n",
       "Group_visits                         1.000000  \n",
       "Age                                 41.000000  \n",
       "Avg_additional_charges_total       552.590740  \n",
       "Month_to_end_contract               12.000000  \n",
       "Lifetime                            31.000000  \n",
       "Avg_class_frequency_total            6.023668  \n",
       "Avg_class_frequency_current_month    6.146783  \n",
       "Churn                                1.000000  "
      ]
     },
     "execution_count": 5,
     "metadata": {},
     "output_type": "execute_result"
    }
   ],
   "source": [
    "df.describe().T  #посмотрим на датасет: есть ли в нем отсутствующие признаки, изучите средние значения и стандартные отклонения"
   ]
  },
  {
   "cell_type": "code",
   "execution_count": 6,
   "metadata": {},
   "outputs": [
    {
     "data": {
      "text/plain": [
       "0    2939\n",
       "1    1061\n",
       "Name: Churn, dtype: int64"
      ]
     },
     "execution_count": 6,
     "metadata": {},
     "output_type": "execute_result"
    }
   ],
   "source": [
    "df['Churn'].value_counts() #посчитаем количество факта оттока в текущем месяце"
   ]
  },
  {
   "cell_type": "code",
   "execution_count": 7,
   "metadata": {
    "scrolled": true
   },
   "outputs": [
    {
     "data": {
      "text/html": [
       "<div>\n",
       "<style scoped>\n",
       "    .dataframe tbody tr th:only-of-type {\n",
       "        vertical-align: middle;\n",
       "    }\n",
       "\n",
       "    .dataframe tbody tr th {\n",
       "        vertical-align: top;\n",
       "    }\n",
       "\n",
       "    .dataframe thead th {\n",
       "        text-align: right;\n",
       "    }\n",
       "</style>\n",
       "<table border=\"1\" class=\"dataframe\">\n",
       "  <thead>\n",
       "    <tr style=\"text-align: right;\">\n",
       "      <th>Churn</th>\n",
       "      <th>0</th>\n",
       "      <th>1</th>\n",
       "    </tr>\n",
       "  </thead>\n",
       "  <tbody>\n",
       "    <tr>\n",
       "      <th>gender</th>\n",
       "      <td>0.510037</td>\n",
       "      <td>0.510839</td>\n",
       "    </tr>\n",
       "    <tr>\n",
       "      <th>Near_Location</th>\n",
       "      <td>0.873086</td>\n",
       "      <td>0.768143</td>\n",
       "    </tr>\n",
       "    <tr>\n",
       "      <th>Partner</th>\n",
       "      <td>0.534195</td>\n",
       "      <td>0.355325</td>\n",
       "    </tr>\n",
       "    <tr>\n",
       "      <th>Promo_friends</th>\n",
       "      <td>0.353522</td>\n",
       "      <td>0.183789</td>\n",
       "    </tr>\n",
       "    <tr>\n",
       "      <th>Phone</th>\n",
       "      <td>0.903709</td>\n",
       "      <td>0.902922</td>\n",
       "    </tr>\n",
       "    <tr>\n",
       "      <th>Contract_period</th>\n",
       "      <td>5.747193</td>\n",
       "      <td>1.728558</td>\n",
       "    </tr>\n",
       "    <tr>\n",
       "      <th>Group_visits</th>\n",
       "      <td>0.464103</td>\n",
       "      <td>0.268615</td>\n",
       "    </tr>\n",
       "    <tr>\n",
       "      <th>Age</th>\n",
       "      <td>29.976523</td>\n",
       "      <td>26.989632</td>\n",
       "    </tr>\n",
       "    <tr>\n",
       "      <th>Avg_additional_charges_total</th>\n",
       "      <td>158.445715</td>\n",
       "      <td>115.082899</td>\n",
       "    </tr>\n",
       "    <tr>\n",
       "      <th>Month_to_end_contract</th>\n",
       "      <td>5.283089</td>\n",
       "      <td>1.662582</td>\n",
       "    </tr>\n",
       "    <tr>\n",
       "      <th>Lifetime</th>\n",
       "      <td>4.711807</td>\n",
       "      <td>0.990575</td>\n",
       "    </tr>\n",
       "    <tr>\n",
       "      <th>Avg_class_frequency_total</th>\n",
       "      <td>2.024876</td>\n",
       "      <td>1.474995</td>\n",
       "    </tr>\n",
       "    <tr>\n",
       "      <th>Avg_class_frequency_current_month</th>\n",
       "      <td>2.027882</td>\n",
       "      <td>1.044546</td>\n",
       "    </tr>\n",
       "  </tbody>\n",
       "</table>\n",
       "</div>"
      ],
      "text/plain": [
       "Churn                                       0           1\n",
       "gender                               0.510037    0.510839\n",
       "Near_Location                        0.873086    0.768143\n",
       "Partner                              0.534195    0.355325\n",
       "Promo_friends                        0.353522    0.183789\n",
       "Phone                                0.903709    0.902922\n",
       "Contract_period                      5.747193    1.728558\n",
       "Group_visits                         0.464103    0.268615\n",
       "Age                                 29.976523   26.989632\n",
       "Avg_additional_charges_total       158.445715  115.082899\n",
       "Month_to_end_contract                5.283089    1.662582\n",
       "Lifetime                             4.711807    0.990575\n",
       "Avg_class_frequency_total            2.024876    1.474995\n",
       "Avg_class_frequency_current_month    2.027882    1.044546"
      ]
     },
     "execution_count": 7,
     "metadata": {},
     "output_type": "execute_result"
    }
   ],
   "source": [
    "#Посмотрим на средние значения признаков в двух группах — тех, кто ушел в отток и тех, кто остался\n",
    "df_churn = df.groupby('Churn')['gender',\n",
    "                               'Near_Location',\n",
    "                               'Partner',\n",
    "                               'Promo_friends',\n",
    "                               'Phone',\n",
    "                               'Contract_period',\n",
    "                               'Group_visits',\n",
    "                               'Age',\n",
    "                               'Avg_additional_charges_total',\n",
    "                               'Month_to_end_contract',\n",
    "                               'Lifetime',\n",
    "                               'Avg_class_frequency_total',\n",
    "                               'Avg_class_frequency_current_month'\n",
    "                               ].mean()\n",
    "df_churn.T"
   ]
  },
  {
   "cell_type": "markdown",
   "metadata": {},
   "source": [
    "**Вывод**\n",
    "\n",
    "Ушедшие клиенты это 1, оставшиеся - 0.\n",
    "\n",
    "Клиенты предпочитают посещать спортивный зал недалеко от дома. Примерно 50% посетителей приходят из партнерских компаний.\n",
    "Примерно 30% посетителей приходят, чтобы заниматься с друзьями. В среднем клиенты покупают абонемент на полгода. 41% посещает груповые занятия. Среднее время посещения зала 3.7 месяцев. Среднее число посещений с момента начала действи я абонемента 1.8.\n",
    "Среднее число посещений с за последний месяц 1.7. Показатель оттока посетителей составляет 26%.\n",
    "\n",
    "Оставшиеся пользователи: ближе живут, у них больше партнерская программа с клубом, у них больше друзей в клубе, Они купили абонемент на больший срок, активнее ходят на групповые занятия, немного старше по возрату, больше тратят денег на другие услуги, абонемент не скоро закончится, дольше ходят в этот клуб и чаще посещают зал."
   ]
  },
  {
   "cell_type": "markdown",
   "metadata": {},
   "source": [
    "**Построим столбчатые гистограммы и распределения признаков для тех, кто ушёл (отток) и тех, кто остался (не попали в отток)**"
   ]
  },
  {
   "cell_type": "code",
   "execution_count": 8,
   "metadata": {
    "scrolled": false
   },
   "outputs": [
    {
     "data": {
      "image/png": "[encoded data removed]",
      "text/plain": [
       "<Figure size 432x288 with 1 Axes>"
      ]
     },
     "metadata": {
      "needs_background": "light"
     },
     "output_type": "display_data"
    },
    {
     "data": {
      "image/png": "[encoded data removed]",
      "text/plain": [
       "<Figure size 432x288 with 1 Axes>"
      ]
     },
     "metadata": {
      "needs_background": "light"
     },
     "output_type": "display_data"
    },
    {
     "data": {
      "image/png": "[encoded data removed]",
      "text/plain": [
       "<Figure size 432x288 with 1 Axes>"
      ]
     },
     "metadata": {
      "needs_background": "light"
     },
     "output_type": "display_data"
    },
    {
     "data": {
      "image/png": "[encoded data removed]",
      "text/plain": [
       "<Figure size 432x288 with 1 Axes>"
      ]
     },
     "metadata": {
      "needs_background": "light"
     },
     "output_type": "display_data"
    },
    {
     "data": {
      "image/png": "[encoded data removed]",
      "text/plain": [
       "<Figure size 432x288 with 1 Axes>"
      ]
     },
     "metadata": {
      "needs_background": "light"
     },
     "output_type": "display_data"
    },
    {
     "data": {
      "image/png": "[encoded data removed]",
      "text/plain": [
       "<Figure size 432x288 with 1 Axes>"
      ]
     },
     "metadata": {
      "needs_background": "light"
     },
     "output_type": "display_data"
    },
    {
     "data": {
      "image/png": "[encoded data removed]",
      "text/plain": [
       "<Figure size 432x288 with 1 Axes>"
      ]
     },
     "metadata": {
      "needs_background": "light"
     },
     "output_type": "display_data"
    },
    {
     "data": {
      "image/png": "[encoded data removed]",
      "text/plain": [
       "<Figure size 432x288 with 1 Axes>"
      ]
     },
     "metadata": {
      "needs_background": "light"
     },
     "output_type": "display_data"
    },
    {
     "data": {
      "image/png": "[encoded data removed]",
      "text/plain": [
       "<Figure size 432x288 with 1 Axes>"
      ]
     },
     "metadata": {
      "needs_background": "light"
     },
     "output_type": "display_data"
    },
    {
     "data": {
      "image/png": "[encoded data removed]",
      "text/plain": [
       "<Figure size 432x288 with 1 Axes>"
      ]
     },
     "metadata": {
      "needs_background": "light"
     },
     "output_type": "display_data"
    },
    {
     "data": {
      "image/png": "[encoded data removed]",
      "text/plain": [
       "<Figure size 432x288 with 1 Axes>"
      ]
     },
     "metadata": {
      "needs_background": "light"
     },
     "output_type": "display_data"
    },
    {
     "data": {
      "image/png": "[encoded data removed]",
      "text/plain": [
       "<Figure size 432x288 with 1 Axes>"
      ]
     },
     "metadata": {
      "needs_background": "light"
     },
     "output_type": "display_data"
    },
    {
     "data": {
      "image/png": "[encoded data removed]",
      "text/plain": [
       "<Figure size 432x288 with 1 Axes>"
      ]
     },
     "metadata": {
      "needs_background": "light"
     },
     "output_type": "display_data"
    },
    {
     "data": {
      "image/png": "[encoded data removed]",
      "text/plain": [
       "<Figure size 432x288 with 1 Axes>"
      ]
     },
     "metadata": {
      "needs_background": "light"
     },
     "output_type": "display_data"
    }
   ],
   "source": [
    "stay = df.query('Churn == 0')\n",
    "left = df.query('Churn == 1')\n",
    "for feature in df.columns:\n",
    "    sns.distplot(stay[feature],label = 'Оставшиеся', bins = 5,kde=False),\n",
    "    sns.distplot(left[feature],label = 'Ушедшие', bins = 5,kde=False)\n",
    "    plt.legend()\n",
    "    plt.show()"
   ]
  },
  {
   "cell_type": "markdown",
   "metadata": {},
   "source": [
    "**Вывод**\n",
    "\n",
    "Клиенты, у которых были длительные контракты, реже покидают фитнесс-клуб. Пользователи, кто уходит контракты заключили не так давно.Ушедшие клиенты практически не тратили деньги в фитнес-клубе, в отличие от освтавшихся клиентов. Ушедшие клиенты практически не тратили деньги в фитнес-клубе, в отличие от оставшихся клиентов."
   ]
  },
  {
   "cell_type": "markdown",
   "metadata": {},
   "source": [
    "**Построим матрицу корреляций и отобразим её**"
   ]
  },
  {
   "cell_type": "code",
   "execution_count": 9,
   "metadata": {
    "scrolled": false
   },
   "outputs": [
    {
     "data": {
      "text/html": [
       "<div>\n",
       "<style scoped>\n",
       "    .dataframe tbody tr th:only-of-type {\n",
       "        vertical-align: middle;\n",
       "    }\n",
       "\n",
       "    .dataframe tbody tr th {\n",
       "        vertical-align: top;\n",
       "    }\n",
       "\n",
       "    .dataframe thead th {\n",
       "        text-align: right;\n",
       "    }\n",
       "</style>\n",
       "<table border=\"1\" class=\"dataframe\">\n",
       "  <thead>\n",
       "    <tr style=\"text-align: right;\">\n",
       "      <th></th>\n",
       "      <th>gender</th>\n",
       "      <th>Near_Location</th>\n",
       "      <th>Partner</th>\n",
       "      <th>Promo_friends</th>\n",
       "      <th>Phone</th>\n",
       "      <th>Contract_period</th>\n",
       "      <th>Group_visits</th>\n",
       "      <th>Age</th>\n",
       "      <th>Avg_additional_charges_total</th>\n",
       "      <th>Month_to_end_contract</th>\n",
       "      <th>Lifetime</th>\n",
       "      <th>Avg_class_frequency_total</th>\n",
       "      <th>Avg_class_frequency_current_month</th>\n",
       "      <th>Churn</th>\n",
       "    </tr>\n",
       "  </thead>\n",
       "  <tbody>\n",
       "    <tr>\n",
       "      <th>gender</th>\n",
       "      <td>1.000000</td>\n",
       "      <td>0.006699</td>\n",
       "      <td>-0.010463</td>\n",
       "      <td>-0.005033</td>\n",
       "      <td>-0.008542</td>\n",
       "      <td>0.000502</td>\n",
       "      <td>0.017879</td>\n",
       "      <td>0.013807</td>\n",
       "      <td>-0.009334</td>\n",
       "      <td>-0.001281</td>\n",
       "      <td>0.013579</td>\n",
       "      <td>0.014620</td>\n",
       "      <td>0.009156</td>\n",
       "      <td>0.000708</td>\n",
       "    </tr>\n",
       "    <tr>\n",
       "      <th>Near_Location</th>\n",
       "      <td>0.006699</td>\n",
       "      <td>1.000000</td>\n",
       "      <td>-0.005119</td>\n",
       "      <td>0.210964</td>\n",
       "      <td>-0.015763</td>\n",
       "      <td>0.150233</td>\n",
       "      <td>0.154728</td>\n",
       "      <td>0.058358</td>\n",
       "      <td>0.040761</td>\n",
       "      <td>0.143961</td>\n",
       "      <td>0.070921</td>\n",
       "      <td>0.043127</td>\n",
       "      <td>0.062664</td>\n",
       "      <td>-0.128098</td>\n",
       "    </tr>\n",
       "    <tr>\n",
       "      <th>Partner</th>\n",
       "      <td>-0.010463</td>\n",
       "      <td>-0.005119</td>\n",
       "      <td>1.000000</td>\n",
       "      <td>0.451960</td>\n",
       "      <td>0.009970</td>\n",
       "      <td>0.306166</td>\n",
       "      <td>0.022710</td>\n",
       "      <td>0.047480</td>\n",
       "      <td>0.022941</td>\n",
       "      <td>0.294632</td>\n",
       "      <td>0.061229</td>\n",
       "      <td>0.024938</td>\n",
       "      <td>0.045561</td>\n",
       "      <td>-0.157986</td>\n",
       "    </tr>\n",
       "    <tr>\n",
       "      <th>Promo_friends</th>\n",
       "      <td>-0.005033</td>\n",
       "      <td>0.210964</td>\n",
       "      <td>0.451960</td>\n",
       "      <td>1.000000</td>\n",
       "      <td>0.001982</td>\n",
       "      <td>0.244552</td>\n",
       "      <td>0.120170</td>\n",
       "      <td>0.050113</td>\n",
       "      <td>0.036898</td>\n",
       "      <td>0.239553</td>\n",
       "      <td>0.072721</td>\n",
       "      <td>0.028063</td>\n",
       "      <td>0.053768</td>\n",
       "      <td>-0.162233</td>\n",
       "    </tr>\n",
       "    <tr>\n",
       "      <th>Phone</th>\n",
       "      <td>-0.008542</td>\n",
       "      <td>-0.015763</td>\n",
       "      <td>0.009970</td>\n",
       "      <td>0.001982</td>\n",
       "      <td>1.000000</td>\n",
       "      <td>-0.006893</td>\n",
       "      <td>-0.010099</td>\n",
       "      <td>-0.011403</td>\n",
       "      <td>0.009279</td>\n",
       "      <td>-0.011196</td>\n",
       "      <td>-0.018801</td>\n",
       "      <td>0.008340</td>\n",
       "      <td>0.013375</td>\n",
       "      <td>-0.001177</td>\n",
       "    </tr>\n",
       "    <tr>\n",
       "      <th>Contract_period</th>\n",
       "      <td>0.000502</td>\n",
       "      <td>0.150233</td>\n",
       "      <td>0.306166</td>\n",
       "      <td>0.244552</td>\n",
       "      <td>-0.006893</td>\n",
       "      <td>1.000000</td>\n",
       "      <td>0.169991</td>\n",
       "      <td>0.138249</td>\n",
       "      <td>0.111445</td>\n",
       "      <td>0.973064</td>\n",
       "      <td>0.170725</td>\n",
       "      <td>0.096211</td>\n",
       "      <td>0.159407</td>\n",
       "      <td>-0.389984</td>\n",
       "    </tr>\n",
       "    <tr>\n",
       "      <th>Group_visits</th>\n",
       "      <td>0.017879</td>\n",
       "      <td>0.154728</td>\n",
       "      <td>0.022710</td>\n",
       "      <td>0.120170</td>\n",
       "      <td>-0.010099</td>\n",
       "      <td>0.169991</td>\n",
       "      <td>1.000000</td>\n",
       "      <td>0.080934</td>\n",
       "      <td>0.032079</td>\n",
       "      <td>0.163703</td>\n",
       "      <td>0.075853</td>\n",
       "      <td>0.056695</td>\n",
       "      <td>0.075923</td>\n",
       "      <td>-0.175325</td>\n",
       "    </tr>\n",
       "    <tr>\n",
       "      <th>Age</th>\n",
       "      <td>0.013807</td>\n",
       "      <td>0.058358</td>\n",
       "      <td>0.047480</td>\n",
       "      <td>0.050113</td>\n",
       "      <td>-0.011403</td>\n",
       "      <td>0.138249</td>\n",
       "      <td>0.080934</td>\n",
       "      <td>1.000000</td>\n",
       "      <td>0.080240</td>\n",
       "      <td>0.134511</td>\n",
       "      <td>0.164693</td>\n",
       "      <td>0.119953</td>\n",
       "      <td>0.183095</td>\n",
       "      <td>-0.404735</td>\n",
       "    </tr>\n",
       "    <tr>\n",
       "      <th>Avg_additional_charges_total</th>\n",
       "      <td>-0.009334</td>\n",
       "      <td>0.040761</td>\n",
       "      <td>0.022941</td>\n",
       "      <td>0.036898</td>\n",
       "      <td>0.009279</td>\n",
       "      <td>0.111445</td>\n",
       "      <td>0.032079</td>\n",
       "      <td>0.080240</td>\n",
       "      <td>1.000000</td>\n",
       "      <td>0.113958</td>\n",
       "      <td>0.079028</td>\n",
       "      <td>0.044426</td>\n",
       "      <td>0.079570</td>\n",
       "      <td>-0.198697</td>\n",
       "    </tr>\n",
       "    <tr>\n",
       "      <th>Month_to_end_contract</th>\n",
       "      <td>-0.001281</td>\n",
       "      <td>0.143961</td>\n",
       "      <td>0.294632</td>\n",
       "      <td>0.239553</td>\n",
       "      <td>-0.011196</td>\n",
       "      <td>0.973064</td>\n",
       "      <td>0.163703</td>\n",
       "      <td>0.134511</td>\n",
       "      <td>0.113958</td>\n",
       "      <td>1.000000</td>\n",
       "      <td>0.161078</td>\n",
       "      <td>0.085387</td>\n",
       "      <td>0.147605</td>\n",
       "      <td>-0.381393</td>\n",
       "    </tr>\n",
       "    <tr>\n",
       "      <th>Lifetime</th>\n",
       "      <td>0.013579</td>\n",
       "      <td>0.070921</td>\n",
       "      <td>0.061229</td>\n",
       "      <td>0.072721</td>\n",
       "      <td>-0.018801</td>\n",
       "      <td>0.170725</td>\n",
       "      <td>0.075853</td>\n",
       "      <td>0.164693</td>\n",
       "      <td>0.079028</td>\n",
       "      <td>0.161078</td>\n",
       "      <td>1.000000</td>\n",
       "      <td>0.112338</td>\n",
       "      <td>0.181975</td>\n",
       "      <td>-0.438220</td>\n",
       "    </tr>\n",
       "    <tr>\n",
       "      <th>Avg_class_frequency_total</th>\n",
       "      <td>0.014620</td>\n",
       "      <td>0.043127</td>\n",
       "      <td>0.024938</td>\n",
       "      <td>0.028063</td>\n",
       "      <td>0.008340</td>\n",
       "      <td>0.096211</td>\n",
       "      <td>0.056695</td>\n",
       "      <td>0.119953</td>\n",
       "      <td>0.044426</td>\n",
       "      <td>0.085387</td>\n",
       "      <td>0.112338</td>\n",
       "      <td>1.000000</td>\n",
       "      <td>0.952739</td>\n",
       "      <td>-0.249715</td>\n",
       "    </tr>\n",
       "    <tr>\n",
       "      <th>Avg_class_frequency_current_month</th>\n",
       "      <td>0.009156</td>\n",
       "      <td>0.062664</td>\n",
       "      <td>0.045561</td>\n",
       "      <td>0.053768</td>\n",
       "      <td>0.013375</td>\n",
       "      <td>0.159407</td>\n",
       "      <td>0.075923</td>\n",
       "      <td>0.183095</td>\n",
       "      <td>0.079570</td>\n",
       "      <td>0.147605</td>\n",
       "      <td>0.181975</td>\n",
       "      <td>0.952739</td>\n",
       "      <td>1.000000</td>\n",
       "      <td>-0.412348</td>\n",
       "    </tr>\n",
       "    <tr>\n",
       "      <th>Churn</th>\n",
       "      <td>0.000708</td>\n",
       "      <td>-0.128098</td>\n",
       "      <td>-0.157986</td>\n",
       "      <td>-0.162233</td>\n",
       "      <td>-0.001177</td>\n",
       "      <td>-0.389984</td>\n",
       "      <td>-0.175325</td>\n",
       "      <td>-0.404735</td>\n",
       "      <td>-0.198697</td>\n",
       "      <td>-0.381393</td>\n",
       "      <td>-0.438220</td>\n",
       "      <td>-0.249715</td>\n",
       "      <td>-0.412348</td>\n",
       "      <td>1.000000</td>\n",
       "    </tr>\n",
       "  </tbody>\n",
       "</table>\n",
       "</div>"
      ],
      "text/plain": [
       "                                     gender  Near_Location   Partner  \\\n",
       "gender                             1.000000       0.006699 -0.010463   \n",
       "Near_Location                      0.006699       1.000000 -0.005119   \n",
       "Partner                           -0.010463      -0.005119  1.000000   \n",
       "Promo_friends                     -0.005033       0.210964  0.451960   \n",
       "Phone                             -0.008542      -0.015763  0.009970   \n",
       "Contract_period                    0.000502       0.150233  0.306166   \n",
       "Group_visits                       0.017879       0.154728  0.022710   \n",
       "Age                                0.013807       0.058358  0.047480   \n",
       "Avg_additional_charges_total      -0.009334       0.040761  0.022941   \n",
       "Month_to_end_contract             -0.001281       0.143961  0.294632   \n",
       "Lifetime                           0.013579       0.070921  0.061229   \n",
       "Avg_class_frequency_total          0.014620       0.043127  0.024938   \n",
       "Avg_class_frequency_current_month  0.009156       0.062664  0.045561   \n",
       "Churn                              0.000708      -0.128098 -0.157986   \n",
       "\n",
       "                                   Promo_friends     Phone  Contract_period  \\\n",
       "gender                                 -0.005033 -0.008542         0.000502   \n",
       "Near_Location                           0.210964 -0.015763         0.150233   \n",
       "Partner                                 0.451960  0.009970         0.306166   \n",
       "Promo_friends                           1.000000  0.001982         0.244552   \n",
       "Phone                                   0.001982  1.000000        -0.006893   \n",
       "Contract_period                         0.244552 -0.006893         1.000000   \n",
       "Group_visits                            0.120170 -0.010099         0.169991   \n",
       "Age                                     0.050113 -0.011403         0.138249   \n",
       "Avg_additional_charges_total            0.036898  0.009279         0.111445   \n",
       "Month_to_end_contract                   0.239553 -0.011196         0.973064   \n",
       "Lifetime                                0.072721 -0.018801         0.170725   \n",
       "Avg_class_frequency_total               0.028063  0.008340         0.096211   \n",
       "Avg_class_frequency_current_month       0.053768  0.013375         0.159407   \n",
       "Churn                                  -0.162233 -0.001177        -0.389984   \n",
       "\n",
       "                                   Group_visits       Age  \\\n",
       "gender                                 0.017879  0.013807   \n",
       "Near_Location                          0.154728  0.058358   \n",
       "Partner                                0.022710  0.047480   \n",
       "Promo_friends                          0.120170  0.050113   \n",
       "Phone                                 -0.010099 -0.011403   \n",
       "Contract_period                        0.169991  0.138249   \n",
       "Group_visits                           1.000000  0.080934   \n",
       "Age                                    0.080934  1.000000   \n",
       "Avg_additional_charges_total           0.032079  0.080240   \n",
       "Month_to_end_contract                  0.163703  0.134511   \n",
       "Lifetime                               0.075853  0.164693   \n",
       "Avg_class_frequency_total              0.056695  0.119953   \n",
       "Avg_class_frequency_current_month      0.075923  0.183095   \n",
       "Churn                                 -0.175325 -0.404735   \n",
       "\n",
       "                                   Avg_additional_charges_total  \\\n",
       "gender                                                -0.009334   \n",
       "Near_Location                                          0.040761   \n",
       "Partner                                                0.022941   \n",
       "Promo_friends                                          0.036898   \n",
       "Phone                                                  0.009279   \n",
       "Contract_period                                        0.111445   \n",
       "Group_visits                                           0.032079   \n",
       "Age                                                    0.080240   \n",
       "Avg_additional_charges_total                           1.000000   \n",
       "Month_to_end_contract                                  0.113958   \n",
       "Lifetime                                               0.079028   \n",
       "Avg_class_frequency_total                              0.044426   \n",
       "Avg_class_frequency_current_month                      0.079570   \n",
       "Churn                                                 -0.198697   \n",
       "\n",
       "                                   Month_to_end_contract  Lifetime  \\\n",
       "gender                                         -0.001281  0.013579   \n",
       "Near_Location                                   0.143961  0.070921   \n",
       "Partner                                         0.294632  0.061229   \n",
       "Promo_friends                                   0.239553  0.072721   \n",
       "Phone                                          -0.011196 -0.018801   \n",
       "Contract_period                                 0.973064  0.170725   \n",
       "Group_visits                                    0.163703  0.075853   \n",
       "Age                                             0.134511  0.164693   \n",
       "Avg_additional_charges_total                    0.113958  0.079028   \n",
       "Month_to_end_contract                           1.000000  0.161078   \n",
       "Lifetime                                        0.161078  1.000000   \n",
       "Avg_class_frequency_total                       0.085387  0.112338   \n",
       "Avg_class_frequency_current_month               0.147605  0.181975   \n",
       "Churn                                          -0.381393 -0.438220   \n",
       "\n",
       "                                   Avg_class_frequency_total  \\\n",
       "gender                                              0.014620   \n",
       "Near_Location                                       0.043127   \n",
       "Partner                                             0.024938   \n",
       "Promo_friends                                       0.028063   \n",
       "Phone                                               0.008340   \n",
       "Contract_period                                     0.096211   \n",
       "Group_visits                                        0.056695   \n",
       "Age                                                 0.119953   \n",
       "Avg_additional_charges_total                        0.044426   \n",
       "Month_to_end_contract                               0.085387   \n",
       "Lifetime                                            0.112338   \n",
       "Avg_class_frequency_total                           1.000000   \n",
       "Avg_class_frequency_current_month                   0.952739   \n",
       "Churn                                              -0.249715   \n",
       "\n",
       "                                   Avg_class_frequency_current_month     Churn  \n",
       "gender                                                      0.009156  0.000708  \n",
       "Near_Location                                               0.062664 -0.128098  \n",
       "Partner                                                     0.045561 -0.157986  \n",
       "Promo_friends                                               0.053768 -0.162233  \n",
       "Phone                                                       0.013375 -0.001177  \n",
       "Contract_period                                             0.159407 -0.389984  \n",
       "Group_visits                                                0.075923 -0.175325  \n",
       "Age                                                         0.183095 -0.404735  \n",
       "Avg_additional_charges_total                                0.079570 -0.198697  \n",
       "Month_to_end_contract                                       0.147605 -0.381393  \n",
       "Lifetime                                                    0.181975 -0.438220  \n",
       "Avg_class_frequency_total                                   0.952739 -0.249715  \n",
       "Avg_class_frequency_current_month                           1.000000 -0.412348  \n",
       "Churn                                                      -0.412348  1.000000  "
      ]
     },
     "execution_count": 9,
     "metadata": {},
     "output_type": "execute_result"
    }
   ],
   "source": [
    "df.corr()"
   ]
  },
  {
   "cell_type": "code",
   "execution_count": 10,
   "metadata": {
    "scrolled": true
   },
   "outputs": [
    {
     "data": {
      "image/png": "[encoded data removed]",
      "text/plain": [
       "<Figure size 936x648 with 2 Axes>"
      ]
     },
     "metadata": {
      "needs_background": "light"
     },
     "output_type": "display_data"
    }
   ],
   "source": [
    "fig, ax = plt.subplots(figsize=(13, 9)) #Отобразим матрицу корреляций на тепловой карте\n",
    "sns.heatmap(df.corr(), annot = True, fmt = '.3f')\n",
    "plt.show()"
   ]
  },
  {
   "cell_type": "markdown",
   "metadata": {},
   "source": [
    "**Вывод**\n",
    "\n",
    "Чем больше компаний-партнеров, тем больше приводят друзей с дальнейшей покупкой длительных абонеменов и те кто живут и работают рядом со спорт-клубом, соглашаются также приоритетнее.\n",
    "\n",
    "Также большая корреляция у Contract_period('Длительность текущего действующего абонемента') и Month_to_end_contract('срок до окончания текущего действующего абонемента')."
   ]
  },
  {
   "cell_type": "markdown",
   "metadata": {},
   "source": [
    "## Построим модель прогнозирования оттока клиентов"
   ]
  },
  {
   "cell_type": "code",
   "execution_count": 11,
   "metadata": {},
   "outputs": [],
   "source": [
    "X = df.drop('Churn', axis = 1) #разделим данные на признаки (матрица X) и целевую переменную (y)\n",
    "y = df['Churn']"
   ]
  },
  {
   "cell_type": "code",
   "execution_count": 12,
   "metadata": {},
   "outputs": [],
   "source": [
    "X_train, X_test, y_train, y_test = train_test_split(X, y, test_size=0.2, random_state=0) #pазобьем данные на обучающую и валидационную выборку функцией с помощью train_test_split()"
   ]
  },
  {
   "cell_type": "code",
   "execution_count": 13,
   "metadata": {},
   "outputs": [],
   "source": [
    "scaler = StandardScaler() #создадим объект класса StandardScaler и применим его к обучающей и тестовой выборкам\n",
    "X_train_st = scaler.fit_transform(X_train)\n",
    "X_test_st = scaler.transform(X_test)"
   ]
  },
  {
   "cell_type": "markdown",
   "metadata": {},
   "source": [
    "**Обучим модель на train-выборке двумя способами:**\n",
    "\n",
    "**логистической регрессией,\n",
    "случайным лесом**"
   ]
  },
  {
   "cell_type": "code",
   "execution_count": 14,
   "metadata": {},
   "outputs": [],
   "source": [
    "models = [LogisticRegression(random_state = 0),RandomForestClassifier(random_state = 0)]  # зададим список моделей"
   ]
  },
  {
   "cell_type": "code",
   "execution_count": 15,
   "metadata": {},
   "outputs": [],
   "source": [
    "def make_prediction(m, X_train, y_train, X_test, y_test): #создадим функцию, которая принимает на вход модель и данные и выводит метрики\n",
    "    model = m\n",
    "    model.fit(X_train, y_train)\n",
    "    y_pred = model.predict(X_test)\n",
    "    print('Accuracy:{:.2f} Precision:{:.2f} Recall:{:.2f}'.format(accuracy_score(y_test, y_pred), \n",
    "                                                         precision_score(y_test, y_pred),\n",
    "                                                         recall_score(y_test, y_pred)))"
   ]
  },
  {
   "cell_type": "code",
   "execution_count": 16,
   "metadata": {
    "scrolled": true
   },
   "outputs": [
    {
     "name": "stdout",
     "output_type": "stream",
     "text": [
      "LogisticRegression(random_state=0)\n",
      "Accuracy:0.92 Precision:0.85 Recall:0.83\n",
      "RandomForestClassifier(random_state=0)\n",
      "Accuracy:0.92 Precision:0.84 Recall:0.81\n"
     ]
    }
   ],
   "source": [
    "for i in models:\n",
    "    print(i)\n",
    "    make_prediction(i, X_train_st, y_train, X_test_st, y_test)"
   ]
  },
  {
   "cell_type": "markdown",
   "metadata": {},
   "source": [
    "**Вывод**\n",
    "\n",
    "Логистическая регрессия выглядит лучше, чем модель случайного леса."
   ]
  },
  {
   "cell_type": "markdown",
   "metadata": {},
   "source": [
    "## Сделаем кластеризацию клиентов"
   ]
  },
  {
   "cell_type": "code",
   "execution_count": 17,
   "metadata": {},
   "outputs": [],
   "source": [
    "sc = StandardScaler()  #стандартизация данных\n",
    "X_sc = sc.fit_transform(X)"
   ]
  },
  {
   "cell_type": "code",
   "execution_count": 18,
   "metadata": {},
   "outputs": [],
   "source": [
    "linked = linkage(X_sc, method = 'ward') #построим матрицу расстояний функцией linkage() на стандартизованной матрице признаков "
   ]
  },
  {
   "cell_type": "code",
   "execution_count": 19,
   "metadata": {},
   "outputs": [
    {
     "data": {
      "image/png": "[encoded data removed]",
      "text/plain": [
       "<Figure size 1080x720 with 1 Axes>"
      ]
     },
     "metadata": {
      "needs_background": "light"
     },
     "output_type": "display_data"
    }
   ],
   "source": [
    "plt.figure(figsize=(15, 10))  \n",
    "dendrogram(linked, orientation='top')\n",
    "plt.title('Параметры посещения тренажерного зала')\n",
    "plt.show()"
   ]
  },
  {
   "cell_type": "markdown",
   "metadata": {},
   "source": [
    "**Вывод**\n",
    "\n",
    " Получили 4 кластера"
   ]
  },
  {
   "cell_type": "markdown",
   "metadata": {},
   "source": [
    "**Обучим модель кластеризации на основании алгоритма K-Means и спрогнозируем кластеры клиентов**"
   ]
  },
  {
   "cell_type": "code",
   "execution_count": 20,
   "metadata": {},
   "outputs": [],
   "source": [
    "km = KMeans(n_clusters = 4)\n",
    "labels = km.fit_predict(X_sc)"
   ]
  },
  {
   "cell_type": "code",
   "execution_count": 21,
   "metadata": {},
   "outputs": [],
   "source": [
    "df['cluster'] = labels"
   ]
  },
  {
   "cell_type": "code",
   "execution_count": 22,
   "metadata": {
    "scrolled": true
   },
   "outputs": [
    {
     "data": {
      "text/html": [
       "<div>\n",
       "<style scoped>\n",
       "    .dataframe tbody tr th:only-of-type {\n",
       "        vertical-align: middle;\n",
       "    }\n",
       "\n",
       "    .dataframe tbody tr th {\n",
       "        vertical-align: top;\n",
       "    }\n",
       "\n",
       "    .dataframe thead th {\n",
       "        text-align: right;\n",
       "    }\n",
       "</style>\n",
       "<table border=\"1\" class=\"dataframe\">\n",
       "  <thead>\n",
       "    <tr style=\"text-align: right;\">\n",
       "      <th>cluster</th>\n",
       "      <th>0</th>\n",
       "      <th>1</th>\n",
       "      <th>2</th>\n",
       "      <th>3</th>\n",
       "    </tr>\n",
       "  </thead>\n",
       "  <tbody>\n",
       "    <tr>\n",
       "      <th>gender</th>\n",
       "      <td>0.523316</td>\n",
       "      <td>0.545802</td>\n",
       "      <td>0.502321</td>\n",
       "      <td>0.487576</td>\n",
       "    </tr>\n",
       "    <tr>\n",
       "      <th>Near_Location</th>\n",
       "      <td>0.862694</td>\n",
       "      <td>0.863550</td>\n",
       "      <td>0.940576</td>\n",
       "      <td>0.758899</td>\n",
       "    </tr>\n",
       "    <tr>\n",
       "      <th>Partner</th>\n",
       "      <td>0.471503</td>\n",
       "      <td>0.347328</td>\n",
       "      <td>0.777159</td>\n",
       "      <td>0.378778</td>\n",
       "    </tr>\n",
       "    <tr>\n",
       "      <th>Promo_friends</th>\n",
       "      <td>0.305699</td>\n",
       "      <td>0.209924</td>\n",
       "      <td>0.571959</td>\n",
       "      <td>0.188046</td>\n",
       "    </tr>\n",
       "    <tr>\n",
       "      <th>Phone</th>\n",
       "      <td>0.000000</td>\n",
       "      <td>1.000000</td>\n",
       "      <td>1.000000</td>\n",
       "      <td>1.000000</td>\n",
       "    </tr>\n",
       "    <tr>\n",
       "      <th>Contract_period</th>\n",
       "      <td>4.777202</td>\n",
       "      <td>2.430344</td>\n",
       "      <td>10.707521</td>\n",
       "      <td>1.881800</td>\n",
       "    </tr>\n",
       "    <tr>\n",
       "      <th>Group_visits</th>\n",
       "      <td>0.427461</td>\n",
       "      <td>0.453244</td>\n",
       "      <td>0.535747</td>\n",
       "      <td>0.290128</td>\n",
       "    </tr>\n",
       "    <tr>\n",
       "      <th>Age</th>\n",
       "      <td>29.297927</td>\n",
       "      <td>30.033397</td>\n",
       "      <td>29.882080</td>\n",
       "      <td>28.052384</td>\n",
       "    </tr>\n",
       "    <tr>\n",
       "      <th>Avg_additional_charges_total</th>\n",
       "      <td>144.208179</td>\n",
       "      <td>158.217589</td>\n",
       "      <td>161.226639</td>\n",
       "      <td>129.387127</td>\n",
       "    </tr>\n",
       "    <tr>\n",
       "      <th>Month_to_end_contract</th>\n",
       "      <td>4.466321</td>\n",
       "      <td>2.264313</td>\n",
       "      <td>9.778087</td>\n",
       "      <td>1.788449</td>\n",
       "    </tr>\n",
       "    <tr>\n",
       "      <th>Lifetime</th>\n",
       "      <td>3.940415</td>\n",
       "      <td>4.760496</td>\n",
       "      <td>4.699164</td>\n",
       "      <td>2.235057</td>\n",
       "    </tr>\n",
       "    <tr>\n",
       "      <th>Avg_class_frequency_total</th>\n",
       "      <td>1.854211</td>\n",
       "      <td>2.731439</td>\n",
       "      <td>1.975007</td>\n",
       "      <td>1.216066</td>\n",
       "    </tr>\n",
       "    <tr>\n",
       "      <th>Avg_class_frequency_current_month</th>\n",
       "      <td>1.723967</td>\n",
       "      <td>2.720129</td>\n",
       "      <td>1.967116</td>\n",
       "      <td>0.962711</td>\n",
       "    </tr>\n",
       "    <tr>\n",
       "      <th>Churn</th>\n",
       "      <td>0.266839</td>\n",
       "      <td>0.087786</td>\n",
       "      <td>0.029712</td>\n",
       "      <td>0.560107</td>\n",
       "    </tr>\n",
       "  </tbody>\n",
       "</table>\n",
       "</div>"
      ],
      "text/plain": [
       "cluster                                     0           1           2  \\\n",
       "gender                               0.523316    0.545802    0.502321   \n",
       "Near_Location                        0.862694    0.863550    0.940576   \n",
       "Partner                              0.471503    0.347328    0.777159   \n",
       "Promo_friends                        0.305699    0.209924    0.571959   \n",
       "Phone                                0.000000    1.000000    1.000000   \n",
       "Contract_period                      4.777202    2.430344   10.707521   \n",
       "Group_visits                         0.427461    0.453244    0.535747   \n",
       "Age                                 29.297927   30.033397   29.882080   \n",
       "Avg_additional_charges_total       144.208179  158.217589  161.226639   \n",
       "Month_to_end_contract                4.466321    2.264313    9.778087   \n",
       "Lifetime                             3.940415    4.760496    4.699164   \n",
       "Avg_class_frequency_total            1.854211    2.731439    1.975007   \n",
       "Avg_class_frequency_current_month    1.723967    2.720129    1.967116   \n",
       "Churn                                0.266839    0.087786    0.029712   \n",
       "\n",
       "cluster                                     3  \n",
       "gender                               0.487576  \n",
       "Near_Location                        0.758899  \n",
       "Partner                              0.378778  \n",
       "Promo_friends                        0.188046  \n",
       "Phone                                1.000000  \n",
       "Contract_period                      1.881800  \n",
       "Group_visits                         0.290128  \n",
       "Age                                 28.052384  \n",
       "Avg_additional_charges_total       129.387127  \n",
       "Month_to_end_contract                1.788449  \n",
       "Lifetime                             2.235057  \n",
       "Avg_class_frequency_total            1.216066  \n",
       "Avg_class_frequency_current_month    0.962711  \n",
       "Churn                                0.560107  "
      ]
     },
     "execution_count": 22,
     "metadata": {},
     "output_type": "execute_result"
    }
   ],
   "source": [
    "df_cluster = df.groupby('cluster').mean() #посмотрим на средние значения признаков для кластеров\n",
    "df_cluster.T"
   ]
  },
  {
   "cell_type": "markdown",
   "metadata": {},
   "source": [
    "**Вывод**\n",
    "\n",
    "У первого кластера(0) отток 56% и почти все показатели ниже остальных, в том числе Групповые визиты, самый маленький срок до окончания текущего действующего абонемента и средняя частота посещений в неделю за все время с начала действия абонемента.\n",
    "\n",
    "У второго кластера (1) и четвертого кластера(3) стабильно средние показатели.\n",
    "\n",
    "У третьего кластера(2) почти все показатели чуть выше остальных и самый низкий отток посетителей."
   ]
  },
  {
   "cell_type": "markdown",
   "metadata": {},
   "source": [
    "**Построим распределение признаков для кластеров**\n"
   ]
  },
  {
   "cell_type": "code",
   "execution_count": 23,
   "metadata": {},
   "outputs": [],
   "source": [
    "df_1 = df.drop(['Age', 'Avg_additional_charges_total', 'Lifetime', 'Avg_class_frequency_total', 'Avg_class_frequency_current_month'], axis = 1)\n",
    "df_2 = df.drop(['Month_to_end_contract', 'Group_visits', 'Contract_period', 'Phone', 'Promo_friends', 'Partner', 'Churn', 'Near_Location', 'gender'], axis = 1)"
   ]
  },
  {
   "cell_type": "code",
   "execution_count": 24,
   "metadata": {},
   "outputs": [
    {
     "data": {
      "image/png": "[encoded data removed]",
      "text/plain": [
       "<Figure size 360x360 with 1 Axes>"
      ]
     },
     "metadata": {
      "needs_background": "light"
     },
     "output_type": "display_data"
    },
    {
     "data": {
      "image/png": "[encoded data removed]",
      "text/plain": [
       "<Figure size 360x360 with 1 Axes>"
      ]
     },
     "metadata": {
      "needs_background": "light"
     },
     "output_type": "display_data"
    },
    {
     "data": {
      "image/png": "[encoded data removed]",
      "text/plain": [
       "<Figure size 360x360 with 1 Axes>"
      ]
     },
     "metadata": {
      "needs_background": "light"
     },
     "output_type": "display_data"
    },
    {
     "data": {
      "image/png": "[encoded data removed]",
      "text/plain": [
       "<Figure size 360x360 with 1 Axes>"
      ]
     },
     "metadata": {
      "needs_background": "light"
     },
     "output_type": "display_data"
    },
    {
     "data": {
      "image/png": "[encoded data removed]",
      "text/plain": [
       "<Figure size 360x360 with 1 Axes>"
      ]
     },
     "metadata": {
      "needs_background": "light"
     },
     "output_type": "display_data"
    },
    {
     "data": {
      "image/png": "[encoded data removed]",
      "text/plain": [
       "<Figure size 360x360 with 1 Axes>"
      ]
     },
     "metadata": {
      "needs_background": "light"
     },
     "output_type": "display_data"
    },
    {
     "data": {
      "image/png": "[encoded data removed]",
      "text/plain": [
       "<Figure size 360x360 with 1 Axes>"
      ]
     },
     "metadata": {
      "needs_background": "light"
     },
     "output_type": "display_data"
    },
    {
     "data": {
      "image/png": "[encoded data removed]",
      "text/plain": [
       "<Figure size 360x360 with 1 Axes>"
      ]
     },
     "metadata": {
      "needs_background": "light"
     },
     "output_type": "display_data"
    },
    {
     "data": {
      "image/png": "[encoded data removed]",
      "text/plain": [
       "<Figure size 360x360 with 1 Axes>"
      ]
     },
     "metadata": {
      "needs_background": "light"
     },
     "output_type": "display_data"
    },
    {
     "data": {
      "image/png": "[encoded data removed]",
      "text/plain": [
       "<Figure size 360x360 with 1 Axes>"
      ]
     },
     "metadata": {
      "needs_background": "light"
     },
     "output_type": "display_data"
    }
   ],
   "source": [
    "for column in df_1:\n",
    "    sns.catplot(x= 'cluster', y= column, data=df_1, kind = 'bar')\n",
    "    plt.show()"
   ]
  },
  {
   "cell_type": "code",
   "execution_count": 25,
   "metadata": {
    "scrolled": true
   },
   "outputs": [
    {
     "data": {
      "image/png": "[encoded data removed]",
      "text/plain": [
       "<Figure size 432x288 with 1 Axes>"
      ]
     },
     "metadata": {
      "needs_background": "light"
     },
     "output_type": "display_data"
    },
    {
     "data": {
      "image/png": "[encoded data removed]",
      "text/plain": [
       "<Figure size 432x288 with 1 Axes>"
      ]
     },
     "metadata": {
      "needs_background": "light"
     },
     "output_type": "display_data"
    },
    {
     "data": {
      "image/png": "[encoded data removed]",
      "text/plain": [
       "<Figure size 432x288 with 1 Axes>"
      ]
     },
     "metadata": {
      "needs_background": "light"
     },
     "output_type": "display_data"
    },
    {
     "data": {
      "image/png": "[encoded data removed]",
      "text/plain": [
       "<Figure size 432x288 with 1 Axes>"
      ]
     },
     "metadata": {
      "needs_background": "light"
     },
     "output_type": "display_data"
    },
    {
     "data": {
      "image/png": "[encoded data removed]",
      "text/plain": [
       "<Figure size 432x288 with 1 Axes>"
      ]
     },
     "metadata": {
      "needs_background": "light"
     },
     "output_type": "display_data"
    },
    {
     "data": {
      "image/png": "[encoded data removed]",
      "text/plain": [
       "<Figure size 432x288 with 1 Axes>"
      ]
     },
     "metadata": {
      "needs_background": "light"
     },
     "output_type": "display_data"
    }
   ],
   "source": [
    "for column in df_2:\n",
    "    sns.boxplot(x= 'cluster', y= column, data=df_2)\n",
    "    plt.show()"
   ]
  },
  {
   "cell_type": "markdown",
   "metadata": {},
   "source": [
    "**Вывод**\n",
    "\n",
    "Наблюдения в корреляционной матрице подтвердились графиками."
   ]
  },
  {
   "cell_type": "markdown",
   "metadata": {},
   "source": [
    "**Посчитаем долю оттока кластеров**"
   ]
  },
  {
   "cell_type": "code",
   "execution_count": 26,
   "metadata": {
    "scrolled": false
   },
   "outputs": [
    {
     "data": {
      "text/html": [
       "<div>\n",
       "<style scoped>\n",
       "    .dataframe tbody tr th:only-of-type {\n",
       "        vertical-align: middle;\n",
       "    }\n",
       "\n",
       "    .dataframe tbody tr th {\n",
       "        vertical-align: top;\n",
       "    }\n",
       "\n",
       "    .dataframe thead th {\n",
       "        text-align: right;\n",
       "    }\n",
       "</style>\n",
       "<table border=\"1\" class=\"dataframe\">\n",
       "  <thead>\n",
       "    <tr style=\"text-align: right;\">\n",
       "      <th></th>\n",
       "      <th>cluster</th>\n",
       "      <th>count_x</th>\n",
       "      <th>count_y</th>\n",
       "    </tr>\n",
       "  </thead>\n",
       "  <tbody>\n",
       "    <tr>\n",
       "      <th>0</th>\n",
       "      <td>0</td>\n",
       "      <td>386</td>\n",
       "      <td>103</td>\n",
       "    </tr>\n",
       "    <tr>\n",
       "      <th>1</th>\n",
       "      <td>1</td>\n",
       "      <td>1048</td>\n",
       "      <td>92</td>\n",
       "    </tr>\n",
       "    <tr>\n",
       "      <th>2</th>\n",
       "      <td>2</td>\n",
       "      <td>1077</td>\n",
       "      <td>32</td>\n",
       "    </tr>\n",
       "    <tr>\n",
       "      <th>3</th>\n",
       "      <td>3</td>\n",
       "      <td>1489</td>\n",
       "      <td>834</td>\n",
       "    </tr>\n",
       "  </tbody>\n",
       "</table>\n",
       "</div>"
      ],
      "text/plain": [
       "   cluster  count_x  count_y\n",
       "0        0      386      103\n",
       "1        1     1048       92\n",
       "2        2     1077       32\n",
       "3        3     1489      834"
      ]
     },
     "execution_count": 26,
     "metadata": {},
     "output_type": "execute_result"
    }
   ],
   "source": [
    "df['count'] = 1\n",
    "leavers = df.query('Churn == 1')\n",
    "leavers = leavers.groupby('cluster').agg({'count':'sum'}).reset_index()\n",
    "clusters = df.groupby('cluster').agg({'count':'sum'}).reset_index()\n",
    "left_percent = clusters.merge(leavers, on = 'cluster')\n",
    "left_percent"
   ]
  },
  {
   "cell_type": "code",
   "execution_count": 27,
   "metadata": {
    "scrolled": true
   },
   "outputs": [
    {
     "data": {
      "text/html": [
       "<div>\n",
       "<style scoped>\n",
       "    .dataframe tbody tr th:only-of-type {\n",
       "        vertical-align: middle;\n",
       "    }\n",
       "\n",
       "    .dataframe tbody tr th {\n",
       "        vertical-align: top;\n",
       "    }\n",
       "\n",
       "    .dataframe thead th {\n",
       "        text-align: right;\n",
       "    }\n",
       "</style>\n",
       "<table border=\"1\" class=\"dataframe\">\n",
       "  <thead>\n",
       "    <tr style=\"text-align: right;\">\n",
       "      <th></th>\n",
       "      <th>cluster</th>\n",
       "      <th>count_x</th>\n",
       "      <th>count_y</th>\n",
       "      <th>left%</th>\n",
       "    </tr>\n",
       "  </thead>\n",
       "  <tbody>\n",
       "    <tr>\n",
       "      <th>0</th>\n",
       "      <td>0</td>\n",
       "      <td>386</td>\n",
       "      <td>103</td>\n",
       "      <td>27.0</td>\n",
       "    </tr>\n",
       "    <tr>\n",
       "      <th>1</th>\n",
       "      <td>1</td>\n",
       "      <td>1048</td>\n",
       "      <td>92</td>\n",
       "      <td>9.0</td>\n",
       "    </tr>\n",
       "    <tr>\n",
       "      <th>2</th>\n",
       "      <td>2</td>\n",
       "      <td>1077</td>\n",
       "      <td>32</td>\n",
       "      <td>3.0</td>\n",
       "    </tr>\n",
       "    <tr>\n",
       "      <th>3</th>\n",
       "      <td>3</td>\n",
       "      <td>1489</td>\n",
       "      <td>834</td>\n",
       "      <td>57.0</td>\n",
       "    </tr>\n",
       "  </tbody>\n",
       "</table>\n",
       "</div>"
      ],
      "text/plain": [
       "   cluster  count_x  count_y  left%\n",
       "0        0      386      103   27.0\n",
       "1        1     1048       92    9.0\n",
       "2        2     1077       32    3.0\n",
       "3        3     1489      834   57.0"
      ]
     },
     "execution_count": 27,
     "metadata": {},
     "output_type": "execute_result"
    }
   ],
   "source": [
    "left_percent['left%'] = left_percent['count_y'] / left_percent['count_x'] * 100\n",
    "left_percent['left%'] = left_percent['left%'].apply(np.ceil)\n",
    "left_percent"
   ]
  },
  {
   "cell_type": "markdown",
   "metadata": {},
   "source": [
    "**Вывод**\n",
    "\n",
    "У первого кластера(0) отток 57% и почти все показатели ниже остальных, в том числе Групповые визиты, самый маленький срок до окончания текущего действующего абонемента и средняя частота посещений в неделю за все время с начала действия абонемента.\n",
    "\n",
    "У второго кластера (1) отток 10%, у четвертого кластера(3) отток 27%.\n",
    "\n",
    "У третьего кластера(2) почти все показатели чуть выше остальных и самый низкий отток посетителей (3%)."
   ]
  },
  {
   "cell_type": "markdown",
   "metadata": {},
   "source": [
    "**ОБЩИЙ ВЫВОД**\n",
    "\n",
    "В основном отток идет среди тех клиентов, у которых краткосрочные абонементы, которые не очень часто посещают заведение, которые не склонные тратить деньги на какие-то дополнительные услуги. Как вариант удержания- возможно стоит ввести специальные предложения (Пример - продавать выгодные пакеты абонементов, где, допустим будет посещение + еще что-то как подарок(бассейн, сауна, бокс, аэробика).\n",
    "\n",
    "По результатам выделения кластеров можно заметить, что хорошо себя показывают партнерские программы, которые находятся недалеко от спорт-клуба. Предлагать им 6 месячные, годовые абонементы будет выгодно."
   ]
  }
 ],
 "metadata": {
  "ExecuteTimeLog": [
   {
    "duration": 1924,
    "start_time": "2022-05-06T12:50:08.846Z"
   },
   {
    "duration": 25,
    "start_time": "2022-05-06T12:53:41.899Z"
   },
   {
    "duration": 24,
    "start_time": "2022-05-06T12:54:01.747Z"
   },
   {
    "duration": 11,
    "start_time": "2022-05-06T12:54:12.198Z"
   },
   {
    "duration": 25,
    "start_time": "2022-05-06T12:58:43.396Z"
   },
   {
    "duration": 16,
    "start_time": "2022-05-06T12:59:53.921Z"
   },
   {
    "duration": 7,
    "start_time": "2022-05-06T13:25:25.766Z"
   },
   {
    "duration": 38,
    "start_time": "2022-05-06T13:30:53.203Z"
   },
   {
    "duration": 6,
    "start_time": "2022-05-06T13:32:54.716Z"
   },
   {
    "duration": 7,
    "start_time": "2022-05-06T13:35:27.239Z"
   },
   {
    "duration": 14,
    "start_time": "2022-05-06T13:36:00.134Z"
   },
   {
    "duration": 16,
    "start_time": "2022-05-06T13:38:54.947Z"
   },
   {
    "duration": 13,
    "start_time": "2022-05-06T13:39:10.776Z"
   },
   {
    "duration": 13,
    "start_time": "2022-05-06T13:44:05.014Z"
   },
   {
    "duration": 2508,
    "start_time": "2022-05-06T14:13:16.817Z"
   },
   {
    "duration": 3462,
    "start_time": "2022-05-06T14:13:43.311Z"
   },
   {
    "duration": 6,
    "start_time": "2022-05-06T14:15:28.359Z"
   },
   {
    "duration": 1827,
    "start_time": "2022-05-06T14:15:50.142Z"
   },
   {
    "duration": 26,
    "start_time": "2022-05-06T14:15:51.971Z"
   },
   {
    "duration": 17,
    "start_time": "2022-05-06T14:15:51.998Z"
   },
   {
    "duration": 7,
    "start_time": "2022-05-06T14:15:52.017Z"
   },
   {
    "duration": 42,
    "start_time": "2022-05-06T14:15:52.026Z"
   },
   {
    "duration": 24,
    "start_time": "2022-05-06T14:15:52.069Z"
   },
   {
    "duration": 12,
    "start_time": "2022-05-06T14:15:52.095Z"
   },
   {
    "duration": 2550,
    "start_time": "2022-05-06T14:15:52.108Z"
   },
   {
    "duration": 22,
    "start_time": "2022-05-06T14:26:05.865Z"
   },
   {
    "duration": 1459,
    "start_time": "2022-05-06T14:28:07.746Z"
   },
   {
    "duration": 2388,
    "start_time": "2022-05-07T10:43:46.252Z"
   },
   {
    "duration": 38,
    "start_time": "2022-05-07T10:43:48.643Z"
   },
   {
    "duration": 25,
    "start_time": "2022-05-07T10:43:48.683Z"
   },
   {
    "duration": 21,
    "start_time": "2022-05-07T10:43:48.711Z"
   },
   {
    "duration": 69,
    "start_time": "2022-05-07T10:43:48.734Z"
   },
   {
    "duration": 21,
    "start_time": "2022-05-07T10:43:48.805Z"
   },
   {
    "duration": 25,
    "start_time": "2022-05-07T10:43:48.829Z"
   },
   {
    "duration": 4188,
    "start_time": "2022-05-07T10:43:48.856Z"
   },
   {
    "duration": 33,
    "start_time": "2022-05-07T10:43:53.047Z"
   },
   {
    "duration": 2450,
    "start_time": "2022-05-07T10:43:53.083Z"
   },
   {
    "duration": 2417,
    "start_time": "2022-05-07T19:10:44.557Z"
   },
   {
    "duration": 81,
    "start_time": "2022-05-07T19:10:46.977Z"
   },
   {
    "duration": 26,
    "start_time": "2022-05-07T19:10:47.060Z"
   },
   {
    "duration": 9,
    "start_time": "2022-05-07T19:10:47.089Z"
   },
   {
    "duration": 88,
    "start_time": "2022-05-07T19:10:47.100Z"
   },
   {
    "duration": 8,
    "start_time": "2022-05-07T19:10:47.190Z"
   },
   {
    "duration": 19,
    "start_time": "2022-05-07T19:10:47.200Z"
   },
   {
    "duration": 4401,
    "start_time": "2022-05-07T19:10:47.221Z"
   },
   {
    "duration": 43,
    "start_time": "2022-05-07T19:10:51.625Z"
   },
   {
    "duration": 2296,
    "start_time": "2022-05-07T19:10:51.672Z"
   },
   {
    "duration": 10,
    "start_time": "2022-05-07T19:10:53.971Z"
   },
   {
    "duration": 5,
    "start_time": "2022-05-07T19:18:34.662Z"
   },
   {
    "duration": 5,
    "start_time": "2022-05-07T19:29:05.774Z"
   },
   {
    "duration": 165,
    "start_time": "2022-05-07T19:29:53.389Z"
   },
   {
    "duration": 20,
    "start_time": "2022-05-07T19:30:08.527Z"
   },
   {
    "duration": 5,
    "start_time": "2022-05-07T19:30:16.654Z"
   },
   {
    "duration": 6,
    "start_time": "2022-05-07T19:30:19.483Z"
   },
   {
    "duration": 845,
    "start_time": "2022-05-07T19:30:22.585Z"
   },
   {
    "duration": 1989,
    "start_time": "2022-05-07T19:32:30.063Z"
   },
   {
    "duration": 40,
    "start_time": "2022-05-07T19:32:32.054Z"
   },
   {
    "duration": 26,
    "start_time": "2022-05-07T19:32:32.097Z"
   },
   {
    "duration": 25,
    "start_time": "2022-05-07T19:32:32.127Z"
   },
   {
    "duration": 64,
    "start_time": "2022-05-07T19:32:32.155Z"
   },
   {
    "duration": 31,
    "start_time": "2022-05-07T19:32:32.222Z"
   },
   {
    "duration": 18,
    "start_time": "2022-05-07T19:32:32.256Z"
   },
   {
    "duration": 4005,
    "start_time": "2022-05-07T19:32:32.277Z"
   },
   {
    "duration": 31,
    "start_time": "2022-05-07T19:32:36.284Z"
   },
   {
    "duration": 2126,
    "start_time": "2022-05-07T19:32:36.319Z"
   },
   {
    "duration": 20,
    "start_time": "2022-05-07T19:32:38.447Z"
   },
   {
    "duration": 4,
    "start_time": "2022-05-07T19:32:38.469Z"
   },
   {
    "duration": 11,
    "start_time": "2022-05-07T19:32:38.476Z"
   },
   {
    "duration": 936,
    "start_time": "2022-05-07T19:32:38.489Z"
   },
   {
    "duration": 2020,
    "start_time": "2022-05-07T19:35:28.025Z"
   },
   {
    "duration": 31,
    "start_time": "2022-05-07T19:35:30.048Z"
   },
   {
    "duration": 27,
    "start_time": "2022-05-07T19:35:30.081Z"
   },
   {
    "duration": 21,
    "start_time": "2022-05-07T19:35:30.112Z"
   },
   {
    "duration": 70,
    "start_time": "2022-05-07T19:35:30.135Z"
   },
   {
    "duration": 8,
    "start_time": "2022-05-07T19:35:30.208Z"
   },
   {
    "duration": 47,
    "start_time": "2022-05-07T19:35:30.219Z"
   },
   {
    "duration": 4136,
    "start_time": "2022-05-07T19:35:30.268Z"
   },
   {
    "duration": 30,
    "start_time": "2022-05-07T19:35:34.406Z"
   },
   {
    "duration": 2179,
    "start_time": "2022-05-07T19:35:34.453Z"
   },
   {
    "duration": 6,
    "start_time": "2022-05-07T19:35:36.634Z"
   },
   {
    "duration": 11,
    "start_time": "2022-05-07T19:35:36.642Z"
   },
   {
    "duration": 14,
    "start_time": "2022-05-07T19:35:36.655Z"
   },
   {
    "duration": 4,
    "start_time": "2022-05-07T19:35:36.671Z"
   },
   {
    "duration": 6,
    "start_time": "2022-05-07T19:35:36.677Z"
   },
   {
    "duration": 924,
    "start_time": "2022-05-07T19:35:36.685Z"
   },
   {
    "duration": 12,
    "start_time": "2022-05-07T19:56:21.185Z"
   },
   {
    "duration": 11,
    "start_time": "2022-05-07T20:01:27.300Z"
   },
   {
    "duration": 773,
    "start_time": "2022-05-07T20:01:31.903Z"
   },
   {
    "duration": 2025,
    "start_time": "2022-05-07T20:04:55.915Z"
   },
   {
    "duration": 32,
    "start_time": "2022-05-07T20:04:57.942Z"
   },
   {
    "duration": 25,
    "start_time": "2022-05-07T20:04:57.977Z"
   },
   {
    "duration": 9,
    "start_time": "2022-05-07T20:04:58.005Z"
   },
   {
    "duration": 90,
    "start_time": "2022-05-07T20:04:58.016Z"
   },
   {
    "duration": 7,
    "start_time": "2022-05-07T20:04:58.108Z"
   },
   {
    "duration": 41,
    "start_time": "2022-05-07T20:04:58.117Z"
   },
   {
    "duration": 4261,
    "start_time": "2022-05-07T20:04:58.160Z"
   },
   {
    "duration": 44,
    "start_time": "2022-05-07T20:05:02.424Z"
   },
   {
    "duration": 2237,
    "start_time": "2022-05-07T20:05:02.471Z"
   },
   {
    "duration": 6,
    "start_time": "2022-05-07T20:05:04.710Z"
   },
   {
    "duration": 12,
    "start_time": "2022-05-07T20:05:04.718Z"
   },
   {
    "duration": 13,
    "start_time": "2022-05-07T20:05:04.732Z"
   },
   {
    "duration": 4,
    "start_time": "2022-05-07T20:05:04.752Z"
   },
   {
    "duration": 8,
    "start_time": "2022-05-07T20:05:04.758Z"
   },
   {
    "duration": 880,
    "start_time": "2022-05-07T20:05:04.768Z"
   },
   {
    "duration": 13,
    "start_time": "2022-05-07T20:05:05.650Z"
   },
   {
    "duration": 814,
    "start_time": "2022-05-07T20:05:05.665Z"
   },
   {
    "duration": 156363,
    "start_time": "2022-05-07T20:05:06.482Z"
   },
   {
    "duration": 158489,
    "start_time": "2022-05-07T20:13:06.017Z"
   },
   {
    "duration": 177,
    "start_time": "2022-05-07T20:32:52.491Z"
   },
   {
    "duration": 1806,
    "start_time": "2022-05-07T20:32:57.047Z"
   },
   {
    "duration": 4,
    "start_time": "2022-05-07T20:33:03.173Z"
   },
   {
    "duration": 21,
    "start_time": "2022-05-07T20:33:06.671Z"
   },
   {
    "duration": 1508,
    "start_time": "2022-05-07T21:05:19.150Z"
   },
   {
    "duration": 4,
    "start_time": "2022-05-07T21:05:25.610Z"
   },
   {
    "duration": 20,
    "start_time": "2022-05-07T21:05:28.544Z"
   },
   {
    "duration": 2130,
    "start_time": "2022-05-08T10:40:06.071Z"
   },
   {
    "duration": 40,
    "start_time": "2022-05-08T10:40:08.203Z"
   },
   {
    "duration": 15,
    "start_time": "2022-05-08T10:40:08.245Z"
   },
   {
    "duration": 5,
    "start_time": "2022-05-08T10:40:08.262Z"
   },
   {
    "duration": 44,
    "start_time": "2022-05-08T10:40:08.269Z"
   },
   {
    "duration": 5,
    "start_time": "2022-05-08T10:40:08.315Z"
   },
   {
    "duration": 12,
    "start_time": "2022-05-08T10:40:08.322Z"
   },
   {
    "duration": 2357,
    "start_time": "2022-05-08T10:40:08.336Z"
   },
   {
    "duration": 22,
    "start_time": "2022-05-08T10:40:10.695Z"
   },
   {
    "duration": 1450,
    "start_time": "2022-05-08T10:40:10.719Z"
   },
   {
    "duration": 3,
    "start_time": "2022-05-08T10:40:12.171Z"
   },
   {
    "duration": 8,
    "start_time": "2022-05-08T10:40:12.176Z"
   },
   {
    "duration": 9,
    "start_time": "2022-05-08T10:40:12.186Z"
   },
   {
    "duration": 3,
    "start_time": "2022-05-08T10:40:12.196Z"
   },
   {
    "duration": 8,
    "start_time": "2022-05-08T10:40:12.200Z"
   },
   {
    "duration": 593,
    "start_time": "2022-05-08T10:40:12.210Z"
   },
   {
    "duration": 7,
    "start_time": "2022-05-08T10:40:12.805Z"
   },
   {
    "duration": 537,
    "start_time": "2022-05-08T10:40:12.813Z"
   },
   {
    "duration": 92484,
    "start_time": "2022-05-08T10:40:13.351Z"
   },
   {
    "duration": 770,
    "start_time": "2022-05-08T10:41:45.836Z"
   },
   {
    "duration": 4,
    "start_time": "2022-05-08T10:41:46.608Z"
   },
   {
    "duration": 100,
    "start_time": "2022-05-08T10:41:46.614Z"
   },
   {
    "duration": 4,
    "start_time": "2022-05-08T11:09:15.525Z"
   },
   {
    "duration": 183,
    "start_time": "2022-05-08T11:15:15.559Z"
   },
   {
    "duration": 7,
    "start_time": "2022-05-08T11:15:19.621Z"
   },
   {
    "duration": 12,
    "start_time": "2022-05-08T11:15:23.831Z"
   },
   {
    "duration": 3399,
    "start_time": "2022-05-08T11:15:52.080Z"
   },
   {
    "duration": 13,
    "start_time": "2022-05-08T11:17:13.733Z"
   },
   {
    "duration": 6,
    "start_time": "2022-05-08T11:17:51.984Z"
   },
   {
    "duration": 4159,
    "start_time": "2022-05-08T11:17:54.634Z"
   },
   {
    "duration": 17,
    "start_time": "2022-05-08T11:18:08.312Z"
   },
   {
    "duration": 1044,
    "start_time": "2022-05-08T11:27:52.034Z"
   },
   {
    "duration": 187,
    "start_time": "2022-05-08T11:39:02.522Z"
   },
   {
    "duration": 242,
    "start_time": "2022-05-08T11:45:16.660Z"
   },
   {
    "duration": 20,
    "start_time": "2022-05-08T11:49:29.436Z"
   },
   {
    "duration": 11,
    "start_time": "2022-05-08T11:50:12.822Z"
   },
   {
    "duration": 23,
    "start_time": "2022-05-08T11:51:43.098Z"
   },
   {
    "duration": 9,
    "start_time": "2022-05-08T11:52:58.680Z"
   },
   {
    "duration": 1794,
    "start_time": "2022-05-09T10:45:42.613Z"
   },
   {
    "duration": 28,
    "start_time": "2022-05-09T10:45:44.409Z"
   },
   {
    "duration": 23,
    "start_time": "2022-05-09T10:45:44.439Z"
   },
   {
    "duration": 6,
    "start_time": "2022-05-09T10:45:44.464Z"
   },
   {
    "duration": 37,
    "start_time": "2022-05-09T10:45:44.471Z"
   },
   {
    "duration": 5,
    "start_time": "2022-05-09T10:45:44.509Z"
   },
   {
    "duration": 33,
    "start_time": "2022-05-09T10:45:44.516Z"
   },
   {
    "duration": 2519,
    "start_time": "2022-05-09T10:45:44.552Z"
   },
   {
    "duration": 19,
    "start_time": "2022-05-09T10:45:47.073Z"
   },
   {
    "duration": 1539,
    "start_time": "2022-05-09T10:45:47.095Z"
   },
   {
    "duration": 13,
    "start_time": "2022-05-09T10:45:48.636Z"
   },
   {
    "duration": 24,
    "start_time": "2022-05-09T10:45:48.651Z"
   },
   {
    "duration": 13,
    "start_time": "2022-05-09T10:45:48.677Z"
   },
   {
    "duration": 3,
    "start_time": "2022-05-09T10:45:48.691Z"
   },
   {
    "duration": 8,
    "start_time": "2022-05-09T10:45:48.696Z"
   },
   {
    "duration": 673,
    "start_time": "2022-05-09T10:45:48.705Z"
   },
   {
    "duration": 8,
    "start_time": "2022-05-09T10:45:49.379Z"
   },
   {
    "duration": 578,
    "start_time": "2022-05-09T10:45:49.389Z"
   },
   {
    "duration": 98837,
    "start_time": "2022-05-09T10:45:49.969Z"
   },
   {
    "duration": 741,
    "start_time": "2022-05-09T10:47:28.807Z"
   },
   {
    "duration": 5,
    "start_time": "2022-05-09T10:47:29.549Z"
   },
   {
    "duration": 98,
    "start_time": "2022-05-09T10:47:29.556Z"
   },
   {
    "duration": 4,
    "start_time": "2022-05-09T10:47:29.656Z"
   },
   {
    "duration": 3203,
    "start_time": "2022-05-09T10:47:29.662Z"
   },
   {
    "duration": 1098,
    "start_time": "2022-05-09T10:47:32.866Z"
   },
   {
    "duration": 26,
    "start_time": "2022-05-09T10:47:33.966Z"
   },
   {
    "duration": 11,
    "start_time": "2022-05-09T10:47:33.994Z"
   },
   {
    "duration": 2498,
    "start_time": "2022-05-10T16:02:52.973Z"
   },
   {
    "duration": 50,
    "start_time": "2022-05-10T16:02:55.474Z"
   },
   {
    "duration": 27,
    "start_time": "2022-05-10T16:02:55.526Z"
   },
   {
    "duration": 8,
    "start_time": "2022-05-10T16:02:55.555Z"
   },
   {
    "duration": 81,
    "start_time": "2022-05-10T16:02:55.567Z"
   },
   {
    "duration": 7,
    "start_time": "2022-05-10T16:02:55.650Z"
   },
   {
    "duration": 38,
    "start_time": "2022-05-10T16:02:55.660Z"
   },
   {
    "duration": 4863,
    "start_time": "2022-05-10T16:02:55.700Z"
   },
   {
    "duration": 48,
    "start_time": "2022-05-10T16:03:00.566Z"
   },
   {
    "duration": 2322,
    "start_time": "2022-05-10T16:03:00.616Z"
   },
   {
    "duration": 6,
    "start_time": "2022-05-10T16:03:02.940Z"
   },
   {
    "duration": 19,
    "start_time": "2022-05-10T16:03:02.948Z"
   },
   {
    "duration": 16,
    "start_time": "2022-05-10T16:03:02.970Z"
   },
   {
    "duration": 6,
    "start_time": "2022-05-10T16:03:02.999Z"
   },
   {
    "duration": 19,
    "start_time": "2022-05-10T16:03:03.006Z"
   },
   {
    "duration": 858,
    "start_time": "2022-05-10T16:03:03.027Z"
   },
   {
    "duration": 11,
    "start_time": "2022-05-10T16:03:03.892Z"
   },
   {
    "duration": 788,
    "start_time": "2022-05-10T16:03:03.905Z"
   },
   {
    "duration": 3233,
    "start_time": "2022-05-10T16:05:26.105Z"
   },
   {
    "duration": 137,
    "start_time": "2022-05-10T16:05:29.342Z"
   },
   {
    "duration": 35,
    "start_time": "2022-05-10T16:05:29.482Z"
   },
   {
    "duration": 12,
    "start_time": "2022-05-10T16:05:29.519Z"
   },
   {
    "duration": 108,
    "start_time": "2022-05-10T16:05:29.535Z"
   },
   {
    "duration": 10,
    "start_time": "2022-05-10T16:05:29.646Z"
   },
   {
    "duration": 46,
    "start_time": "2022-05-10T16:05:29.659Z"
   },
   {
    "duration": 12069,
    "start_time": "2022-05-10T16:05:29.707Z"
   },
   {
    "duration": 37,
    "start_time": "2022-05-10T16:05:41.779Z"
   },
   {
    "duration": 2276,
    "start_time": "2022-05-10T16:05:41.818Z"
   },
   {
    "duration": 5,
    "start_time": "2022-05-10T16:05:44.096Z"
   },
   {
    "duration": 16,
    "start_time": "2022-05-10T16:05:44.104Z"
   },
   {
    "duration": 16,
    "start_time": "2022-05-10T16:05:44.123Z"
   },
   {
    "duration": 5,
    "start_time": "2022-05-10T16:05:44.144Z"
   },
   {
    "duration": 41,
    "start_time": "2022-05-10T16:05:44.152Z"
   },
   {
    "duration": 979,
    "start_time": "2022-05-10T16:05:44.197Z"
   },
   {
    "duration": 24,
    "start_time": "2022-05-10T16:05:45.178Z"
   },
   {
    "duration": 1157,
    "start_time": "2022-05-10T16:05:45.205Z"
   },
   {
    "duration": 161935,
    "start_time": "2022-05-10T16:05:46.365Z"
   },
   {
    "duration": 1793,
    "start_time": "2022-05-10T16:08:28.302Z"
   },
   {
    "duration": 5,
    "start_time": "2022-05-10T16:08:30.097Z"
   },
   {
    "duration": 25,
    "start_time": "2022-05-10T16:08:30.104Z"
   },
   {
    "duration": 16,
    "start_time": "2022-05-10T16:08:30.131Z"
   },
   {
    "duration": 5551,
    "start_time": "2022-05-10T16:08:30.149Z"
   },
   {
    "duration": 1768,
    "start_time": "2022-05-10T16:08:35.702Z"
   },
   {
    "duration": 45,
    "start_time": "2022-05-10T16:08:37.472Z"
   },
   {
    "duration": 15,
    "start_time": "2022-05-10T16:08:37.520Z"
   },
   {
    "duration": 4910,
    "start_time": "2022-05-10T16:08:37.539Z"
   },
   {
    "duration": 4382,
    "start_time": "2022-05-10T16:13:51.738Z"
   },
   {
    "duration": 4597,
    "start_time": "2022-05-10T16:14:40.456Z"
   },
   {
    "duration": 4685,
    "start_time": "2022-05-10T16:15:36.730Z"
   },
   {
    "duration": 422,
    "start_time": "2022-05-10T16:26:35.871Z"
   },
   {
    "duration": 32,
    "start_time": "2022-05-10T16:45:20.977Z"
   },
   {
    "duration": 22,
    "start_time": "2022-05-10T16:45:37.126Z"
   },
   {
    "duration": 6152,
    "start_time": "2022-05-10T17:01:02.649Z"
   },
   {
    "duration": 15133,
    "start_time": "2022-05-10T17:18:25.281Z"
   },
   {
    "duration": 5161,
    "start_time": "2022-05-10T17:40:12.862Z"
   },
   {
    "duration": 22,
    "start_time": "2022-05-10T17:48:43.536Z"
   },
   {
    "duration": 5058,
    "start_time": "2022-05-10T17:48:59.879Z"
   },
   {
    "duration": 3734,
    "start_time": "2022-05-10T18:01:06.398Z"
   },
   {
    "duration": 4546,
    "start_time": "2022-05-10T18:02:14.420Z"
   },
   {
    "duration": 4321,
    "start_time": "2022-05-10T18:03:16.572Z"
   },
   {
    "duration": 14181,
    "start_time": "2022-05-10T18:12:54.175Z"
   },
   {
    "duration": 4132,
    "start_time": "2022-05-10T18:14:04.506Z"
   },
   {
    "duration": 1856,
    "start_time": "2022-06-22T20:31:48.036Z"
   },
   {
    "duration": 96,
    "start_time": "2022-06-22T20:31:49.895Z"
   },
   {
    "duration": 21,
    "start_time": "2022-06-22T20:31:49.993Z"
   },
   {
    "duration": 29,
    "start_time": "2022-06-22T20:31:50.016Z"
   },
   {
    "duration": 92,
    "start_time": "2022-06-22T20:31:50.048Z"
   },
   {
    "duration": 6,
    "start_time": "2022-06-22T20:31:50.142Z"
   },
   {
    "duration": 39,
    "start_time": "2022-06-22T20:31:50.151Z"
   },
   {
    "duration": 2627,
    "start_time": "2022-06-22T20:31:50.192Z"
   },
   {
    "duration": 36,
    "start_time": "2022-06-22T20:31:52.821Z"
   },
   {
    "duration": 1817,
    "start_time": "2022-06-22T20:31:52.860Z"
   },
   {
    "duration": 5,
    "start_time": "2022-06-22T20:31:54.680Z"
   },
   {
    "duration": 86,
    "start_time": "2022-06-22T20:31:54.687Z"
   },
   {
    "duration": 25,
    "start_time": "2022-06-22T20:31:54.775Z"
   },
   {
    "duration": 43,
    "start_time": "2022-06-22T20:31:54.804Z"
   },
   {
    "duration": 15,
    "start_time": "2022-06-22T20:31:54.856Z"
   },
   {
    "duration": 950,
    "start_time": "2022-06-22T20:31:54.872Z"
   },
   {
    "duration": 12,
    "start_time": "2022-06-22T20:31:55.824Z"
   },
   {
    "duration": 751,
    "start_time": "2022-06-22T20:31:55.838Z"
   },
   {
    "duration": 125022,
    "start_time": "2022-06-22T20:31:56.591Z"
   },
   {
    "duration": 922,
    "start_time": "2022-06-22T20:34:01.615Z"
   },
   {
    "duration": 6,
    "start_time": "2022-06-22T20:34:02.539Z"
   },
   {
    "duration": 27,
    "start_time": "2022-06-22T20:34:02.547Z"
   },
   {
    "duration": 6,
    "start_time": "2022-06-22T20:34:02.576Z"
   },
   {
    "duration": 4002,
    "start_time": "2022-06-22T20:34:02.584Z"
   },
   {
    "duration": 896,
    "start_time": "2022-06-22T20:34:06.588Z"
   },
   {
    "duration": 23,
    "start_time": "2022-06-22T20:34:07.487Z"
   },
   {
    "duration": 32,
    "start_time": "2022-06-22T20:34:07.512Z"
   }
  ],
  "kernelspec": {
   "display_name": "Python 3 (ipykernel)",
   "language": "python",
   "name": "python3"
  },
  "language_info": {
   "codemirror_mode": {
    "name": "ipython",
    "version": 3
   },
   "file_extension": ".py",
   "mimetype": "text/x-python",
   "name": "python",
   "nbconvert_exporter": "python",
   "pygments_lexer": "ipython3",
   "version": "3.9.5"
  },
  "toc": {
   "base_numbering": 1,
   "nav_menu": {},
   "number_sections": true,
   "sideBar": true,
   "skip_h1_title": true,
   "title_cell": "Table of Contents",
   "title_sidebar": "Contents",
   "toc_cell": false,
   "toc_position": {},
   "toc_section_display": true,
   "toc_window_display": false
  }
 },
 "nbformat": 4,
 "nbformat_minor": 2
}
