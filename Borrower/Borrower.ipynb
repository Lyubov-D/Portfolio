{
 "cells": [
  {
   "cell_type": "markdown",
   "metadata": {},
   "source": [
    "# Исследование надёжности заёмщиков\n",
    "\n",
    "Заказчик — кредитный отдел банка. Нужно разобраться, влияет ли семейное положение и количество детей клиента на факт погашения кредита в срок. Входные данные от банка — статистика о платёжеспособности клиентов.\n",
    "\n",
    "Результаты исследования будут учтены при построении модели **кредитного скоринга** — специальной системы, которая оценивает способность потенциального заёмщика вернуть кредит банку.\n",
    "\n",
    "**Описание данных**\n",
    "\n",
    "- children — количество детей в семье\n",
    "- days_employed — общий трудовой стаж в днях\n",
    "- dob_years — возраст клиента в годах\n",
    "- education — уровень образования клиента\n",
    "- education_id — идентификатор уровня образования\n",
    "- family_status — семейное положение\n",
    "- family_status_id — идентификатор семейного положения\n",
    "- gender — пол клиента\n",
    "- income_type — тип занятости\n",
    "- debt — имел ли задолженность по возврату кредитов\n",
    "- total_income — ежемесячный доход\n",
    "- purpose — цель получения кредита"
   ]
  },
  {
   "cell_type": "markdown",
   "metadata": {},
   "source": [
    "## Изучение данных из файла и подготовка к анализу "
   ]
  },
  {
   "cell_type": "code",
   "execution_count": 1,
   "metadata": {
    "scrolled": true
   },
   "outputs": [
    {
     "data": {
      "text/html": [
       "<div>\n",
       "<style scoped>\n",
       "    .dataframe tbody tr th:only-of-type {\n",
       "        vertical-align: middle;\n",
       "    }\n",
       "\n",
       "    .dataframe tbody tr th {\n",
       "        vertical-align: top;\n",
       "    }\n",
       "\n",
       "    .dataframe thead th {\n",
       "        text-align: right;\n",
       "    }\n",
       "</style>\n",
       "<table border=\"1\" class=\"dataframe\">\n",
       "  <thead>\n",
       "    <tr style=\"text-align: right;\">\n",
       "      <th></th>\n",
       "      <th>children</th>\n",
       "      <th>days_employed</th>\n",
       "      <th>dob_years</th>\n",
       "      <th>education</th>\n",
       "      <th>education_id</th>\n",
       "      <th>family_status</th>\n",
       "      <th>family_status_id</th>\n",
       "      <th>gender</th>\n",
       "      <th>income_type</th>\n",
       "      <th>debt</th>\n",
       "      <th>total_income</th>\n",
       "      <th>purpose</th>\n",
       "    </tr>\n",
       "  </thead>\n",
       "  <tbody>\n",
       "    <tr>\n",
       "      <th>0</th>\n",
       "      <td>1</td>\n",
       "      <td>-8437.673028</td>\n",
       "      <td>42</td>\n",
       "      <td>высшее</td>\n",
       "      <td>0</td>\n",
       "      <td>женат / замужем</td>\n",
       "      <td>0</td>\n",
       "      <td>F</td>\n",
       "      <td>сотрудник</td>\n",
       "      <td>0</td>\n",
       "      <td>253875.639453</td>\n",
       "      <td>покупка жилья</td>\n",
       "    </tr>\n",
       "    <tr>\n",
       "      <th>1</th>\n",
       "      <td>1</td>\n",
       "      <td>-4024.803754</td>\n",
       "      <td>36</td>\n",
       "      <td>среднее</td>\n",
       "      <td>1</td>\n",
       "      <td>женат / замужем</td>\n",
       "      <td>0</td>\n",
       "      <td>F</td>\n",
       "      <td>сотрудник</td>\n",
       "      <td>0</td>\n",
       "      <td>112080.014102</td>\n",
       "      <td>приобретение автомобиля</td>\n",
       "    </tr>\n",
       "    <tr>\n",
       "      <th>2</th>\n",
       "      <td>0</td>\n",
       "      <td>-5623.422610</td>\n",
       "      <td>33</td>\n",
       "      <td>Среднее</td>\n",
       "      <td>1</td>\n",
       "      <td>женат / замужем</td>\n",
       "      <td>0</td>\n",
       "      <td>M</td>\n",
       "      <td>сотрудник</td>\n",
       "      <td>0</td>\n",
       "      <td>145885.952297</td>\n",
       "      <td>покупка жилья</td>\n",
       "    </tr>\n",
       "    <tr>\n",
       "      <th>3</th>\n",
       "      <td>3</td>\n",
       "      <td>-4124.747207</td>\n",
       "      <td>32</td>\n",
       "      <td>среднее</td>\n",
       "      <td>1</td>\n",
       "      <td>женат / замужем</td>\n",
       "      <td>0</td>\n",
       "      <td>M</td>\n",
       "      <td>сотрудник</td>\n",
       "      <td>0</td>\n",
       "      <td>267628.550329</td>\n",
       "      <td>дополнительное образование</td>\n",
       "    </tr>\n",
       "    <tr>\n",
       "      <th>4</th>\n",
       "      <td>0</td>\n",
       "      <td>340266.072047</td>\n",
       "      <td>53</td>\n",
       "      <td>среднее</td>\n",
       "      <td>1</td>\n",
       "      <td>гражданский брак</td>\n",
       "      <td>1</td>\n",
       "      <td>F</td>\n",
       "      <td>пенсионер</td>\n",
       "      <td>0</td>\n",
       "      <td>158616.077870</td>\n",
       "      <td>сыграть свадьбу</td>\n",
       "    </tr>\n",
       "    <tr>\n",
       "      <th>5</th>\n",
       "      <td>0</td>\n",
       "      <td>-926.185831</td>\n",
       "      <td>27</td>\n",
       "      <td>высшее</td>\n",
       "      <td>0</td>\n",
       "      <td>гражданский брак</td>\n",
       "      <td>1</td>\n",
       "      <td>M</td>\n",
       "      <td>компаньон</td>\n",
       "      <td>0</td>\n",
       "      <td>255763.565419</td>\n",
       "      <td>покупка жилья</td>\n",
       "    </tr>\n",
       "    <tr>\n",
       "      <th>6</th>\n",
       "      <td>0</td>\n",
       "      <td>-2879.202052</td>\n",
       "      <td>43</td>\n",
       "      <td>высшее</td>\n",
       "      <td>0</td>\n",
       "      <td>женат / замужем</td>\n",
       "      <td>0</td>\n",
       "      <td>F</td>\n",
       "      <td>компаньон</td>\n",
       "      <td>0</td>\n",
       "      <td>240525.971920</td>\n",
       "      <td>операции с жильем</td>\n",
       "    </tr>\n",
       "    <tr>\n",
       "      <th>7</th>\n",
       "      <td>0</td>\n",
       "      <td>-152.779569</td>\n",
       "      <td>50</td>\n",
       "      <td>СРЕДНЕЕ</td>\n",
       "      <td>1</td>\n",
       "      <td>женат / замужем</td>\n",
       "      <td>0</td>\n",
       "      <td>M</td>\n",
       "      <td>сотрудник</td>\n",
       "      <td>0</td>\n",
       "      <td>135823.934197</td>\n",
       "      <td>образование</td>\n",
       "    </tr>\n",
       "    <tr>\n",
       "      <th>8</th>\n",
       "      <td>2</td>\n",
       "      <td>-6929.865299</td>\n",
       "      <td>35</td>\n",
       "      <td>ВЫСШЕЕ</td>\n",
       "      <td>0</td>\n",
       "      <td>гражданский брак</td>\n",
       "      <td>1</td>\n",
       "      <td>F</td>\n",
       "      <td>сотрудник</td>\n",
       "      <td>0</td>\n",
       "      <td>95856.832424</td>\n",
       "      <td>на проведение свадьбы</td>\n",
       "    </tr>\n",
       "    <tr>\n",
       "      <th>9</th>\n",
       "      <td>0</td>\n",
       "      <td>-2188.756445</td>\n",
       "      <td>41</td>\n",
       "      <td>среднее</td>\n",
       "      <td>1</td>\n",
       "      <td>женат / замужем</td>\n",
       "      <td>0</td>\n",
       "      <td>M</td>\n",
       "      <td>сотрудник</td>\n",
       "      <td>0</td>\n",
       "      <td>144425.938277</td>\n",
       "      <td>покупка жилья для семьи</td>\n",
       "    </tr>\n",
       "    <tr>\n",
       "      <th>10</th>\n",
       "      <td>2</td>\n",
       "      <td>-4171.483647</td>\n",
       "      <td>36</td>\n",
       "      <td>высшее</td>\n",
       "      <td>0</td>\n",
       "      <td>женат / замужем</td>\n",
       "      <td>0</td>\n",
       "      <td>M</td>\n",
       "      <td>компаньон</td>\n",
       "      <td>0</td>\n",
       "      <td>113943.491460</td>\n",
       "      <td>покупка недвижимости</td>\n",
       "    </tr>\n",
       "    <tr>\n",
       "      <th>11</th>\n",
       "      <td>0</td>\n",
       "      <td>-792.701887</td>\n",
       "      <td>40</td>\n",
       "      <td>среднее</td>\n",
       "      <td>1</td>\n",
       "      <td>женат / замужем</td>\n",
       "      <td>0</td>\n",
       "      <td>F</td>\n",
       "      <td>сотрудник</td>\n",
       "      <td>0</td>\n",
       "      <td>77069.234271</td>\n",
       "      <td>покупка коммерческой недвижимости</td>\n",
       "    </tr>\n",
       "    <tr>\n",
       "      <th>12</th>\n",
       "      <td>0</td>\n",
       "      <td>NaN</td>\n",
       "      <td>65</td>\n",
       "      <td>среднее</td>\n",
       "      <td>1</td>\n",
       "      <td>гражданский брак</td>\n",
       "      <td>1</td>\n",
       "      <td>M</td>\n",
       "      <td>пенсионер</td>\n",
       "      <td>0</td>\n",
       "      <td>NaN</td>\n",
       "      <td>сыграть свадьбу</td>\n",
       "    </tr>\n",
       "    <tr>\n",
       "      <th>13</th>\n",
       "      <td>0</td>\n",
       "      <td>-1846.641941</td>\n",
       "      <td>54</td>\n",
       "      <td>неоконченное высшее</td>\n",
       "      <td>2</td>\n",
       "      <td>женат / замужем</td>\n",
       "      <td>0</td>\n",
       "      <td>F</td>\n",
       "      <td>сотрудник</td>\n",
       "      <td>0</td>\n",
       "      <td>130458.228857</td>\n",
       "      <td>приобретение автомобиля</td>\n",
       "    </tr>\n",
       "    <tr>\n",
       "      <th>14</th>\n",
       "      <td>0</td>\n",
       "      <td>-1844.956182</td>\n",
       "      <td>56</td>\n",
       "      <td>высшее</td>\n",
       "      <td>0</td>\n",
       "      <td>гражданский брак</td>\n",
       "      <td>1</td>\n",
       "      <td>F</td>\n",
       "      <td>компаньон</td>\n",
       "      <td>1</td>\n",
       "      <td>165127.911772</td>\n",
       "      <td>покупка жилой недвижимости</td>\n",
       "    </tr>\n",
       "    <tr>\n",
       "      <th>15</th>\n",
       "      <td>1</td>\n",
       "      <td>-972.364419</td>\n",
       "      <td>26</td>\n",
       "      <td>среднее</td>\n",
       "      <td>1</td>\n",
       "      <td>женат / замужем</td>\n",
       "      <td>0</td>\n",
       "      <td>F</td>\n",
       "      <td>сотрудник</td>\n",
       "      <td>0</td>\n",
       "      <td>116820.904450</td>\n",
       "      <td>строительство собственной недвижимости</td>\n",
       "    </tr>\n",
       "    <tr>\n",
       "      <th>16</th>\n",
       "      <td>0</td>\n",
       "      <td>-1719.934226</td>\n",
       "      <td>35</td>\n",
       "      <td>среднее</td>\n",
       "      <td>1</td>\n",
       "      <td>женат / замужем</td>\n",
       "      <td>0</td>\n",
       "      <td>F</td>\n",
       "      <td>сотрудник</td>\n",
       "      <td>0</td>\n",
       "      <td>289202.704229</td>\n",
       "      <td>недвижимость</td>\n",
       "    </tr>\n",
       "    <tr>\n",
       "      <th>17</th>\n",
       "      <td>0</td>\n",
       "      <td>-2369.999720</td>\n",
       "      <td>33</td>\n",
       "      <td>высшее</td>\n",
       "      <td>0</td>\n",
       "      <td>гражданский брак</td>\n",
       "      <td>1</td>\n",
       "      <td>M</td>\n",
       "      <td>сотрудник</td>\n",
       "      <td>0</td>\n",
       "      <td>90410.586745</td>\n",
       "      <td>строительство недвижимости</td>\n",
       "    </tr>\n",
       "    <tr>\n",
       "      <th>18</th>\n",
       "      <td>0</td>\n",
       "      <td>400281.136913</td>\n",
       "      <td>53</td>\n",
       "      <td>среднее</td>\n",
       "      <td>1</td>\n",
       "      <td>вдовец / вдова</td>\n",
       "      <td>2</td>\n",
       "      <td>F</td>\n",
       "      <td>пенсионер</td>\n",
       "      <td>0</td>\n",
       "      <td>56823.777243</td>\n",
       "      <td>на покупку подержанного автомобиля</td>\n",
       "    </tr>\n",
       "    <tr>\n",
       "      <th>19</th>\n",
       "      <td>0</td>\n",
       "      <td>-10038.818549</td>\n",
       "      <td>48</td>\n",
       "      <td>СРЕДНЕЕ</td>\n",
       "      <td>1</td>\n",
       "      <td>в разводе</td>\n",
       "      <td>3</td>\n",
       "      <td>F</td>\n",
       "      <td>сотрудник</td>\n",
       "      <td>0</td>\n",
       "      <td>242831.107982</td>\n",
       "      <td>на покупку своего автомобиля</td>\n",
       "    </tr>\n",
       "    <tr>\n",
       "      <th>20</th>\n",
       "      <td>1</td>\n",
       "      <td>-1311.604166</td>\n",
       "      <td>36</td>\n",
       "      <td>среднее</td>\n",
       "      <td>1</td>\n",
       "      <td>женат / замужем</td>\n",
       "      <td>0</td>\n",
       "      <td>M</td>\n",
       "      <td>сотрудник</td>\n",
       "      <td>0</td>\n",
       "      <td>209552.644578</td>\n",
       "      <td>недвижимость</td>\n",
       "    </tr>\n",
       "    <tr>\n",
       "      <th>21</th>\n",
       "      <td>1</td>\n",
       "      <td>-253.685166</td>\n",
       "      <td>33</td>\n",
       "      <td>среднее</td>\n",
       "      <td>1</td>\n",
       "      <td>гражданский брак</td>\n",
       "      <td>1</td>\n",
       "      <td>F</td>\n",
       "      <td>сотрудник</td>\n",
       "      <td>0</td>\n",
       "      <td>131812.203909</td>\n",
       "      <td>приобретение автомобиля</td>\n",
       "    </tr>\n",
       "    <tr>\n",
       "      <th>22</th>\n",
       "      <td>1</td>\n",
       "      <td>-1766.644138</td>\n",
       "      <td>24</td>\n",
       "      <td>среднее</td>\n",
       "      <td>1</td>\n",
       "      <td>гражданский брак</td>\n",
       "      <td>1</td>\n",
       "      <td>F</td>\n",
       "      <td>сотрудник</td>\n",
       "      <td>0</td>\n",
       "      <td>149681.140731</td>\n",
       "      <td>на покупку подержанного автомобиля</td>\n",
       "    </tr>\n",
       "    <tr>\n",
       "      <th>23</th>\n",
       "      <td>0</td>\n",
       "      <td>-272.981385</td>\n",
       "      <td>21</td>\n",
       "      <td>высшее</td>\n",
       "      <td>0</td>\n",
       "      <td>гражданский брак</td>\n",
       "      <td>1</td>\n",
       "      <td>M</td>\n",
       "      <td>сотрудник</td>\n",
       "      <td>0</td>\n",
       "      <td>128265.720871</td>\n",
       "      <td>сыграть свадьбу</td>\n",
       "    </tr>\n",
       "    <tr>\n",
       "      <th>24</th>\n",
       "      <td>1</td>\n",
       "      <td>338551.952911</td>\n",
       "      <td>57</td>\n",
       "      <td>среднее</td>\n",
       "      <td>1</td>\n",
       "      <td>Не женат / не замужем</td>\n",
       "      <td>4</td>\n",
       "      <td>F</td>\n",
       "      <td>пенсионер</td>\n",
       "      <td>0</td>\n",
       "      <td>290547.235997</td>\n",
       "      <td>операции с коммерческой недвижимостью</td>\n",
       "    </tr>\n",
       "    <tr>\n",
       "      <th>25</th>\n",
       "      <td>0</td>\n",
       "      <td>363548.489348</td>\n",
       "      <td>67</td>\n",
       "      <td>среднее</td>\n",
       "      <td>1</td>\n",
       "      <td>женат / замужем</td>\n",
       "      <td>0</td>\n",
       "      <td>M</td>\n",
       "      <td>пенсионер</td>\n",
       "      <td>0</td>\n",
       "      <td>55112.757732</td>\n",
       "      <td>покупка недвижимости</td>\n",
       "    </tr>\n",
       "    <tr>\n",
       "      <th>26</th>\n",
       "      <td>0</td>\n",
       "      <td>NaN</td>\n",
       "      <td>41</td>\n",
       "      <td>среднее</td>\n",
       "      <td>1</td>\n",
       "      <td>женат / замужем</td>\n",
       "      <td>0</td>\n",
       "      <td>M</td>\n",
       "      <td>госслужащий</td>\n",
       "      <td>0</td>\n",
       "      <td>NaN</td>\n",
       "      <td>образование</td>\n",
       "    </tr>\n",
       "    <tr>\n",
       "      <th>27</th>\n",
       "      <td>0</td>\n",
       "      <td>-529.191635</td>\n",
       "      <td>28</td>\n",
       "      <td>высшее</td>\n",
       "      <td>0</td>\n",
       "      <td>женат / замужем</td>\n",
       "      <td>0</td>\n",
       "      <td>M</td>\n",
       "      <td>сотрудник</td>\n",
       "      <td>0</td>\n",
       "      <td>308848.983691</td>\n",
       "      <td>строительство собственной недвижимости</td>\n",
       "    </tr>\n",
       "    <tr>\n",
       "      <th>28</th>\n",
       "      <td>1</td>\n",
       "      <td>-717.274324</td>\n",
       "      <td>26</td>\n",
       "      <td>высшее</td>\n",
       "      <td>0</td>\n",
       "      <td>женат / замужем</td>\n",
       "      <td>0</td>\n",
       "      <td>F</td>\n",
       "      <td>сотрудник</td>\n",
       "      <td>0</td>\n",
       "      <td>187863.237306</td>\n",
       "      <td>строительство собственной недвижимости</td>\n",
       "    </tr>\n",
       "    <tr>\n",
       "      <th>29</th>\n",
       "      <td>0</td>\n",
       "      <td>NaN</td>\n",
       "      <td>63</td>\n",
       "      <td>среднее</td>\n",
       "      <td>1</td>\n",
       "      <td>Не женат / не замужем</td>\n",
       "      <td>4</td>\n",
       "      <td>F</td>\n",
       "      <td>пенсионер</td>\n",
       "      <td>0</td>\n",
       "      <td>NaN</td>\n",
       "      <td>строительство жилой недвижимости</td>\n",
       "    </tr>\n",
       "  </tbody>\n",
       "</table>\n",
       "</div>"
      ],
      "text/plain": [
       "    children  days_employed  dob_years            education  education_id  \\\n",
       "0          1   -8437.673028         42               высшее             0   \n",
       "1          1   -4024.803754         36              среднее             1   \n",
       "2          0   -5623.422610         33              Среднее             1   \n",
       "3          3   -4124.747207         32              среднее             1   \n",
       "4          0  340266.072047         53              среднее             1   \n",
       "5          0    -926.185831         27               высшее             0   \n",
       "6          0   -2879.202052         43               высшее             0   \n",
       "7          0    -152.779569         50              СРЕДНЕЕ             1   \n",
       "8          2   -6929.865299         35               ВЫСШЕЕ             0   \n",
       "9          0   -2188.756445         41              среднее             1   \n",
       "10         2   -4171.483647         36               высшее             0   \n",
       "11         0    -792.701887         40              среднее             1   \n",
       "12         0            NaN         65              среднее             1   \n",
       "13         0   -1846.641941         54  неоконченное высшее             2   \n",
       "14         0   -1844.956182         56               высшее             0   \n",
       "15         1    -972.364419         26              среднее             1   \n",
       "16         0   -1719.934226         35              среднее             1   \n",
       "17         0   -2369.999720         33               высшее             0   \n",
       "18         0  400281.136913         53              среднее             1   \n",
       "19         0  -10038.818549         48              СРЕДНЕЕ             1   \n",
       "20         1   -1311.604166         36              среднее             1   \n",
       "21         1    -253.685166         33              среднее             1   \n",
       "22         1   -1766.644138         24              среднее             1   \n",
       "23         0    -272.981385         21               высшее             0   \n",
       "24         1  338551.952911         57              среднее             1   \n",
       "25         0  363548.489348         67              среднее             1   \n",
       "26         0            NaN         41              среднее             1   \n",
       "27         0    -529.191635         28               высшее             0   \n",
       "28         1    -717.274324         26               высшее             0   \n",
       "29         0            NaN         63              среднее             1   \n",
       "\n",
       "            family_status  family_status_id gender  income_type  debt  \\\n",
       "0         женат / замужем                 0      F    сотрудник     0   \n",
       "1         женат / замужем                 0      F    сотрудник     0   \n",
       "2         женат / замужем                 0      M    сотрудник     0   \n",
       "3         женат / замужем                 0      M    сотрудник     0   \n",
       "4        гражданский брак                 1      F    пенсионер     0   \n",
       "5        гражданский брак                 1      M    компаньон     0   \n",
       "6         женат / замужем                 0      F    компаньон     0   \n",
       "7         женат / замужем                 0      M    сотрудник     0   \n",
       "8        гражданский брак                 1      F    сотрудник     0   \n",
       "9         женат / замужем                 0      M    сотрудник     0   \n",
       "10        женат / замужем                 0      M    компаньон     0   \n",
       "11        женат / замужем                 0      F    сотрудник     0   \n",
       "12       гражданский брак                 1      M    пенсионер     0   \n",
       "13        женат / замужем                 0      F    сотрудник     0   \n",
       "14       гражданский брак                 1      F    компаньон     1   \n",
       "15        женат / замужем                 0      F    сотрудник     0   \n",
       "16        женат / замужем                 0      F    сотрудник     0   \n",
       "17       гражданский брак                 1      M    сотрудник     0   \n",
       "18         вдовец / вдова                 2      F    пенсионер     0   \n",
       "19              в разводе                 3      F    сотрудник     0   \n",
       "20        женат / замужем                 0      M    сотрудник     0   \n",
       "21       гражданский брак                 1      F    сотрудник     0   \n",
       "22       гражданский брак                 1      F    сотрудник     0   \n",
       "23       гражданский брак                 1      M    сотрудник     0   \n",
       "24  Не женат / не замужем                 4      F    пенсионер     0   \n",
       "25        женат / замужем                 0      M    пенсионер     0   \n",
       "26        женат / замужем                 0      M  госслужащий     0   \n",
       "27        женат / замужем                 0      M    сотрудник     0   \n",
       "28        женат / замужем                 0      F    сотрудник     0   \n",
       "29  Не женат / не замужем                 4      F    пенсионер     0   \n",
       "\n",
       "     total_income                                 purpose  \n",
       "0   253875.639453                           покупка жилья  \n",
       "1   112080.014102                 приобретение автомобиля  \n",
       "2   145885.952297                           покупка жилья  \n",
       "3   267628.550329              дополнительное образование  \n",
       "4   158616.077870                         сыграть свадьбу  \n",
       "5   255763.565419                           покупка жилья  \n",
       "6   240525.971920                       операции с жильем  \n",
       "7   135823.934197                             образование  \n",
       "8    95856.832424                   на проведение свадьбы  \n",
       "9   144425.938277                 покупка жилья для семьи  \n",
       "10  113943.491460                    покупка недвижимости  \n",
       "11   77069.234271       покупка коммерческой недвижимости  \n",
       "12            NaN                         сыграть свадьбу  \n",
       "13  130458.228857                 приобретение автомобиля  \n",
       "14  165127.911772              покупка жилой недвижимости  \n",
       "15  116820.904450  строительство собственной недвижимости  \n",
       "16  289202.704229                            недвижимость  \n",
       "17   90410.586745              строительство недвижимости  \n",
       "18   56823.777243      на покупку подержанного автомобиля  \n",
       "19  242831.107982            на покупку своего автомобиля  \n",
       "20  209552.644578                            недвижимость  \n",
       "21  131812.203909                 приобретение автомобиля  \n",
       "22  149681.140731      на покупку подержанного автомобиля  \n",
       "23  128265.720871                         сыграть свадьбу  \n",
       "24  290547.235997   операции с коммерческой недвижимостью  \n",
       "25   55112.757732                    покупка недвижимости  \n",
       "26            NaN                             образование  \n",
       "27  308848.983691  строительство собственной недвижимости  \n",
       "28  187863.237306  строительство собственной недвижимости  \n",
       "29            NaN        строительство жилой недвижимости  "
      ]
     },
     "execution_count": 1,
     "metadata": {},
     "output_type": "execute_result"
    }
   ],
   "source": [
    "import pandas as pd  # импорт библиотеки pandas\n",
    "df = pd.read_csv('/datasets/data.csv') # чтение файла с данными и сохранение в df\n",
    "df.head(30) # получение первых 30 строк таблицы df"
   ]
  },
  {
   "cell_type": "code",
   "execution_count": 2,
   "metadata": {},
   "outputs": [
    {
     "name": "stdout",
     "output_type": "stream",
     "text": [
      "<class 'pandas.core.frame.DataFrame'>\n",
      "RangeIndex: 21525 entries, 0 to 21524\n",
      "Data columns (total 12 columns):\n",
      " #   Column            Non-Null Count  Dtype  \n",
      "---  ------            --------------  -----  \n",
      " 0   children          21525 non-null  int64  \n",
      " 1   days_employed     19351 non-null  float64\n",
      " 2   dob_years         21525 non-null  int64  \n",
      " 3   education         21525 non-null  object \n",
      " 4   education_id      21525 non-null  int64  \n",
      " 5   family_status     21525 non-null  object \n",
      " 6   family_status_id  21525 non-null  int64  \n",
      " 7   gender            21525 non-null  object \n",
      " 8   income_type       21525 non-null  object \n",
      " 9   debt              21525 non-null  int64  \n",
      " 10  total_income      19351 non-null  float64\n",
      " 11  purpose           21525 non-null  object \n",
      "dtypes: float64(2), int64(5), object(5)\n",
      "memory usage: 2.0+ MB\n"
     ]
    }
   ],
   "source": [
    "df.info()"
   ]
  },
  {
   "cell_type": "code",
   "execution_count": 3,
   "metadata": {},
   "outputs": [
    {
     "data": {
      "text/html": [
       "<div>\n",
       "<style scoped>\n",
       "    .dataframe tbody tr th:only-of-type {\n",
       "        vertical-align: middle;\n",
       "    }\n",
       "\n",
       "    .dataframe tbody tr th {\n",
       "        vertical-align: top;\n",
       "    }\n",
       "\n",
       "    .dataframe thead th {\n",
       "        text-align: right;\n",
       "    }\n",
       "</style>\n",
       "<table border=\"1\" class=\"dataframe\">\n",
       "  <thead>\n",
       "    <tr style=\"text-align: right;\">\n",
       "      <th></th>\n",
       "      <th>children</th>\n",
       "      <th>days_employed</th>\n",
       "      <th>dob_years</th>\n",
       "      <th>education_id</th>\n",
       "      <th>family_status_id</th>\n",
       "      <th>debt</th>\n",
       "      <th>total_income</th>\n",
       "    </tr>\n",
       "  </thead>\n",
       "  <tbody>\n",
       "    <tr>\n",
       "      <th>count</th>\n",
       "      <td>21525.000000</td>\n",
       "      <td>19351.000000</td>\n",
       "      <td>21525.000000</td>\n",
       "      <td>21525.000000</td>\n",
       "      <td>21525.000000</td>\n",
       "      <td>21525.000000</td>\n",
       "      <td>1.935100e+04</td>\n",
       "    </tr>\n",
       "    <tr>\n",
       "      <th>mean</th>\n",
       "      <td>0.538908</td>\n",
       "      <td>63046.497661</td>\n",
       "      <td>43.293380</td>\n",
       "      <td>0.817236</td>\n",
       "      <td>0.972544</td>\n",
       "      <td>0.080883</td>\n",
       "      <td>1.674223e+05</td>\n",
       "    </tr>\n",
       "    <tr>\n",
       "      <th>std</th>\n",
       "      <td>1.381587</td>\n",
       "      <td>140827.311974</td>\n",
       "      <td>12.574584</td>\n",
       "      <td>0.548138</td>\n",
       "      <td>1.420324</td>\n",
       "      <td>0.272661</td>\n",
       "      <td>1.029716e+05</td>\n",
       "    </tr>\n",
       "    <tr>\n",
       "      <th>min</th>\n",
       "      <td>-1.000000</td>\n",
       "      <td>-18388.949901</td>\n",
       "      <td>0.000000</td>\n",
       "      <td>0.000000</td>\n",
       "      <td>0.000000</td>\n",
       "      <td>0.000000</td>\n",
       "      <td>2.066726e+04</td>\n",
       "    </tr>\n",
       "    <tr>\n",
       "      <th>25%</th>\n",
       "      <td>0.000000</td>\n",
       "      <td>-2747.423625</td>\n",
       "      <td>33.000000</td>\n",
       "      <td>1.000000</td>\n",
       "      <td>0.000000</td>\n",
       "      <td>0.000000</td>\n",
       "      <td>1.030532e+05</td>\n",
       "    </tr>\n",
       "    <tr>\n",
       "      <th>50%</th>\n",
       "      <td>0.000000</td>\n",
       "      <td>-1203.369529</td>\n",
       "      <td>42.000000</td>\n",
       "      <td>1.000000</td>\n",
       "      <td>0.000000</td>\n",
       "      <td>0.000000</td>\n",
       "      <td>1.450179e+05</td>\n",
       "    </tr>\n",
       "    <tr>\n",
       "      <th>75%</th>\n",
       "      <td>1.000000</td>\n",
       "      <td>-291.095954</td>\n",
       "      <td>53.000000</td>\n",
       "      <td>1.000000</td>\n",
       "      <td>1.000000</td>\n",
       "      <td>0.000000</td>\n",
       "      <td>2.034351e+05</td>\n",
       "    </tr>\n",
       "    <tr>\n",
       "      <th>max</th>\n",
       "      <td>20.000000</td>\n",
       "      <td>401755.400475</td>\n",
       "      <td>75.000000</td>\n",
       "      <td>4.000000</td>\n",
       "      <td>4.000000</td>\n",
       "      <td>1.000000</td>\n",
       "      <td>2.265604e+06</td>\n",
       "    </tr>\n",
       "  </tbody>\n",
       "</table>\n",
       "</div>"
      ],
      "text/plain": [
       "           children  days_employed     dob_years  education_id  \\\n",
       "count  21525.000000   19351.000000  21525.000000  21525.000000   \n",
       "mean       0.538908   63046.497661     43.293380      0.817236   \n",
       "std        1.381587  140827.311974     12.574584      0.548138   \n",
       "min       -1.000000  -18388.949901      0.000000      0.000000   \n",
       "25%        0.000000   -2747.423625     33.000000      1.000000   \n",
       "50%        0.000000   -1203.369529     42.000000      1.000000   \n",
       "75%        1.000000    -291.095954     53.000000      1.000000   \n",
       "max       20.000000  401755.400475     75.000000      4.000000   \n",
       "\n",
       "       family_status_id          debt  total_income  \n",
       "count      21525.000000  21525.000000  1.935100e+04  \n",
       "mean           0.972544      0.080883  1.674223e+05  \n",
       "std            1.420324      0.272661  1.029716e+05  \n",
       "min            0.000000      0.000000  2.066726e+04  \n",
       "25%            0.000000      0.000000  1.030532e+05  \n",
       "50%            0.000000      0.000000  1.450179e+05  \n",
       "75%            1.000000      0.000000  2.034351e+05  \n",
       "max            4.000000      1.000000  2.265604e+06  "
      ]
     },
     "execution_count": 3,
     "metadata": {},
     "output_type": "execute_result"
    }
   ],
   "source": [
    "df.describe()"
   ]
  },
  {
   "cell_type": "markdown",
   "metadata": {},
   "source": [
    "**Вывод**"
   ]
  },
  {
   "cell_type": "markdown",
   "metadata": {},
   "source": [
    "В какждой стороке данные о потенциальном заемщике: о возрасте, образовании, семейном положении, кол-ве детей, данные о ежемесячном доходе, трудовом стаже, типе занятости, цели получения кредита. \n",
    "Данные об общем трудовом стаже и ежемесячном доходе указаны в определенному формате, который не удобен для восприятия, а также встречаются пропуски в данных.\n",
    "В столбце total_income и dob_years исходные данные относятся к вещественному типу."
   ]
  },
  {
   "cell_type": "markdown",
   "metadata": {},
   "source": [
    "**Обработка пропусков**"
   ]
  },
  {
   "cell_type": "code",
   "execution_count": 4,
   "metadata": {
    "scrolled": true
   },
   "outputs": [
    {
     "data": {
      "text/plain": [
       "children               0\n",
       "days_employed       2174\n",
       "dob_years              0\n",
       "education              0\n",
       "education_id           0\n",
       "family_status          0\n",
       "family_status_id       0\n",
       "gender                 0\n",
       "income_type            0\n",
       "debt                   0\n",
       "total_income        2174\n",
       "purpose                0\n",
       "dtype: int64"
      ]
     },
     "execution_count": 4,
     "metadata": {},
     "output_type": "execute_result"
    }
   ],
   "source": [
    "df.isna().sum() # найдем строки с пропусками"
   ]
  },
  {
   "cell_type": "code",
   "execution_count": 5,
   "metadata": {},
   "outputs": [
    {
     "data": {
      "text/plain": [
       "children               0\n",
       "days_employed       2174\n",
       "dob_years              0\n",
       "education              0\n",
       "education_id           0\n",
       "family_status          0\n",
       "family_status_id       0\n",
       "gender                 0\n",
       "income_type            0\n",
       "debt                   0\n",
       "total_income           0\n",
       "purpose                0\n",
       "dtype: int64"
      ]
     },
     "execution_count": 5,
     "metadata": {},
     "output_type": "execute_result"
    }
   ],
   "source": [
    "df['total_income'] = df['total_income'].fillna(df.groupby('income_type')['total_income'].transform('median'))\n",
    "#заполняем пропуски дохода медианным значением\n",
    "df.isna().sum()# проверяем, остались ли пропуски в столбце total_income"
   ]
  },
  {
   "cell_type": "code",
   "execution_count": 6,
   "metadata": {},
   "outputs": [
    {
     "data": {
      "text/plain": [
       "children               0\n",
       "days_employed       2174\n",
       "dob_years            101\n",
       "education              0\n",
       "education_id           0\n",
       "family_status          0\n",
       "family_status_id       0\n",
       "gender                 0\n",
       "income_type            0\n",
       "debt                   0\n",
       "total_income           0\n",
       "purpose                0\n",
       "dtype: int64"
      ]
     },
     "execution_count": 6,
     "metadata": {},
     "output_type": "execute_result"
    }
   ],
   "source": [
    "df['dob_years'].value_counts() # найдем пропуски в столбце dob_years\n",
    "import numpy as np #импортируем библиотеку numpy\n",
    "df['dob_years'].replace(0,np.NaN,inplace=True) #заменим нулевые занчения в столбце dob_years на NaN\n",
    "df.isna().sum()# проверим замену столбце dob_years нулевого значения на Nan"
   ]
  },
  {
   "cell_type": "code",
   "execution_count": 7,
   "metadata": {},
   "outputs": [
    {
     "data": {
      "text/plain": [
       "children               0\n",
       "days_employed       2174\n",
       "dob_years              0\n",
       "education              0\n",
       "education_id           0\n",
       "family_status          0\n",
       "family_status_id       0\n",
       "gender                 0\n",
       "income_type            0\n",
       "debt                   0\n",
       "total_income           0\n",
       "purpose                0\n",
       "dtype: int64"
      ]
     },
     "execution_count": 7,
     "metadata": {},
     "output_type": "execute_result"
    }
   ],
   "source": [
    "df['dob_years'] = df['dob_years'].fillna(df.groupby('income_type')['dob_years'].transform('median')) #заполняем пропуски возраста медианным значением\n",
    "df.isna().sum() #проверяем, остались ли пропуски в столбце dob_years"
   ]
  },
  {
   "cell_type": "markdown",
   "metadata": {},
   "source": [
    "**Вывод**"
   ]
  },
  {
   "cell_type": "markdown",
   "metadata": {},
   "source": [
    "Данные столбца days_employed указаны с отцитательным занчениями, как результат разницы между суммами дат увольнения и приемов на работу. Столбец days_employed не участвует в анализе семейного положения/количества детей клиента на факт погашения кредита в срок, всвязи с чем данные оставила без изменений. \n",
    "\n",
    "Заполнила колличественные пропуски столбца total_income медианным значением.Убедилась, что в столбце о доходе не осталось пропусков.\n",
    "\n",
    "В столбце dob_years выявлено нулевое значение возраста - 101 раз, что является ошибочным. Заменила нулевое значение на Nan, далее заполнила пропуски медианным значением."
   ]
  },
  {
   "cell_type": "markdown",
   "metadata": {},
   "source": [
    "***Замена типа данных***"
   ]
  },
  {
   "cell_type": "code",
   "execution_count": 8,
   "metadata": {},
   "outputs": [
    {
     "name": "stdout",
     "output_type": "stream",
     "text": [
      "<class 'pandas.core.frame.DataFrame'>\n",
      "RangeIndex: 21525 entries, 0 to 21524\n",
      "Data columns (total 12 columns):\n",
      " #   Column            Non-Null Count  Dtype  \n",
      "---  ------            --------------  -----  \n",
      " 0   children          21525 non-null  int64  \n",
      " 1   days_employed     19351 non-null  float64\n",
      " 2   dob_years         21525 non-null  int64  \n",
      " 3   education         21525 non-null  object \n",
      " 4   education_id      21525 non-null  int64  \n",
      " 5   family_status     21525 non-null  object \n",
      " 6   family_status_id  21525 non-null  int64  \n",
      " 7   gender            21525 non-null  object \n",
      " 8   income_type       21525 non-null  object \n",
      " 9   debt              21525 non-null  int64  \n",
      " 10  total_income      21525 non-null  int64  \n",
      " 11  purpose           21525 non-null  object \n",
      "dtypes: float64(1), int64(6), object(5)\n",
      "memory usage: 2.0+ MB\n"
     ]
    }
   ],
   "source": [
    "#df.info() # получение общей информации о данных в таблице df\n",
    "df['total_income'] = df['total_income'].round().astype('int64') # преобразуем тип данных к нужному, предварительно округлив\n",
    "df['dob_years'] = df['dob_years'].astype('int64')\n",
    "df.info() # проверяем, изменился ли тип данных в столбце total_income и dob_years"
   ]
  },
  {
   "cell_type": "markdown",
   "metadata": {},
   "source": [
    "\n"
   ]
  },
  {
   "cell_type": "markdown",
   "metadata": {},
   "source": [
    "В столбце total_income и dob_years исходные данные относились к вещественному типу, что некорректно для дальнейшего анализа данных. Методом astype() перевела в целое число. Данные в столбцах получились более читаемы."
   ]
  },
  {
   "cell_type": "markdown",
   "metadata": {},
   "source": [
    "**Обработка дубликатов**"
   ]
  },
  {
   "cell_type": "code",
   "execution_count": 9,
   "metadata": {
    "scrolled": true
   },
   "outputs": [
    {
     "name": "stdout",
     "output_type": "stream",
     "text": [
      "0    14149\n",
      "1     4865\n",
      "2     2131\n",
      "3      330\n",
      "4       41\n",
      "5        9\n",
      "Name: children, dtype: int64\n"
     ]
    }
   ],
   "source": [
    "df['children'].unique() #поиск неявных дубликатов в столбце children\n",
    "df['children'] = df['children'].replace(-1,1) # замена неправильны значений\n",
    "df['children'] = df['children'].replace(20,2)\n",
    "print(df['children'].value_counts()) # проверим наличие неявных дублей в столбце children"
   ]
  },
  {
   "cell_type": "code",
   "execution_count": 10,
   "metadata": {},
   "outputs": [
    {
     "data": {
      "text/plain": [
       "среднее                15233\n",
       "высшее                  5260\n",
       "неоконченное высшее      744\n",
       "начальное                282\n",
       "ученая степень             6\n",
       "Name: education, dtype: int64"
      ]
     },
     "execution_count": 10,
     "metadata": {},
     "output_type": "execute_result"
    }
   ],
   "source": [
    "df['education'].value_counts() #поиск неявных дубликатов в столбце education\n",
    "df['education'] = df['education'].str.lower() # приводим к нижнему регистру\n",
    "df['education'].value_counts() # проверяем действие"
   ]
  },
  {
   "cell_type": "code",
   "execution_count": 11,
   "metadata": {},
   "outputs": [
    {
     "name": "stdout",
     "output_type": "stream",
     "text": [
      "71\n"
     ]
    },
    {
     "data": {
      "text/plain": [
       "0"
      ]
     },
     "execution_count": 11,
     "metadata": {},
     "output_type": "execute_result"
    }
   ],
   "source": [
    "print(df.duplicated().sum()) #поиск явных дубликатов \n",
    "df = df.drop_duplicates() #удаляем яные дубликаты\n",
    "df.duplicated().sum() #проверим действие"
   ]
  },
  {
   "cell_type": "markdown",
   "metadata": {},
   "source": [
    "**Вывод**"
   ]
  },
  {
   "cell_type": "markdown",
   "metadata": {},
   "source": [
    "Нашла методом duplicated() явные дубликаты, следующим действием избавилась от них и проверила.\n",
    "В столбце children выявлено два неправильных значения (-1 и 20) - скорее всего это опечатки, в связи с чем методом replace() заменила нежелательные значения и проверила выполнение.\n",
    "В столбце education указаны некоторые данные в верхнем регистре. Методом str.lower()привела к нижнему регистру и проверила действие."
   ]
  },
  {
   "cell_type": "markdown",
   "metadata": {},
   "source": [
    "**Лемматизация**"
   ]
  },
  {
   "cell_type": "code",
   "execution_count": 12,
   "metadata": {},
   "outputs": [
    {
     "name": "stdout",
     "output_type": "stream",
     "text": [
      "недвижимость          10811\n",
      "покупка автомобиля     4306\n",
      "образование            4013\n",
      "свадьба                2324\n",
      "Name: purpose_category, dtype: int64\n"
     ]
    }
   ],
   "source": [
    "df['purpose'].value_counts() #какие есть занчения в столбце purpose и считаем их кол-во\n",
    "from pymystem3 import Mystem #запускаем библиотеку с функцией лемматизации\n",
    "m = Mystem()\n",
    "def category_purpose(row):  #создаем функцию для поиска слов(лемматизации)\n",
    "    lem_purpose = m.lemmatize(row['purpose'])\n",
    "    if 'свадьба' in lem_purpose:\n",
    "        return 'свадьба'\n",
    "    if ('жилье' in lem_purpose) or ('недвижимость' in lem_purpose):\n",
    "        return 'недвижимость'\n",
    "    if 'автомобиль' in lem_purpose:\n",
    "        return 'покупка автомобиля'\n",
    "    if 'образование' in lem_purpose:\n",
    "        return 'образование'\n",
    "    return 'иные цели'\n",
    "df['purpose_category'] = df.apply(category_purpose,axis=1)\n",
    "print(df['purpose_category'].value_counts()) #посчитали значения каждой полученной категории       "
   ]
  },
  {
   "cell_type": "code",
   "execution_count": 13,
   "metadata": {},
   "outputs": [
    {
     "name": "stdout",
     "output_type": "stream",
     "text": [
      "Counter({'автомобиль': 2, 'покупка жилье': 1, 'приобретение автомобиль': 1, 'дополнительный образование': 1, 'сыграть свадьба': 1, 'операция с жилье': 1, 'образование': 1, 'на проведение свадьба': 1, 'покупка жилье для семья': 1, 'покупка недвижимость': 1, 'покупка коммерческий недвижимость': 1, 'покупка жилой недвижимость': 1, 'строительство собственный недвижимость': 1, 'недвижимость': 1, 'строительство недвижимость': 1, 'на покупка подержать автомобиль': 1, 'на покупка свой автомобиль': 1, 'операция с коммерческий недвижимость': 1, 'строительство жилой недвижимость': 1, 'жилье': 1, 'операция со свой недвижимость': 1, 'заниматься образование': 1, 'сделка с подержанный автомобиль': 1, 'получение образование': 1, 'свадьба': 1, 'получение дополнительный образование': 1, 'покупка свой жилье': 1, 'операция с недвижимость': 1, 'получение высокий образование': 1, 'свой автомобиль': 1, 'сделка с автомобиль': 1, 'профильный образование': 1, 'высокий образование': 1, 'покупка жилье для сдача': 1, 'на покупка автомобиль': 1, 'ремонт жилье': 1, 'заниматься высокий образование': 1})\n"
     ]
    }
   ],
   "source": [
    "from collections import Counter # вызываем специальный контейнер из модуля collections для подсчета числа упоминаемых слов в столбце purpose\n",
    "unique_purpose = df['purpose'].unique()\n",
    "lemmas = []\n",
    "for purpose in unique_purpose:\n",
    "    lem = ''.join(m.lemmatize(purpose)).strip()\n",
    "    lemmas.append(lem)\n",
    "print(Counter(lemmas))"
   ]
  },
  {
   "cell_type": "markdown",
   "metadata": {},
   "source": [
    "**Вывод**"
   ]
  },
  {
   "cell_type": "markdown",
   "metadata": {},
   "source": [
    "В столбце purpose содержаться данные о цели получения кредита с многочисленными повторами в разных формах. Применила лемматизацию для поиска слов, тем самым определила 4 категории с подсчетом значений."
   ]
  },
  {
   "cell_type": "markdown",
   "metadata": {},
   "source": [
    "**Категоризация данных**"
   ]
  },
  {
   "cell_type": "code",
   "execution_count": 14,
   "metadata": {},
   "outputs": [
    {
     "data": {
      "text/html": [
       "<div>\n",
       "<style scoped>\n",
       "    .dataframe tbody tr th:only-of-type {\n",
       "        vertical-align: middle;\n",
       "    }\n",
       "\n",
       "    .dataframe tbody tr th {\n",
       "        vertical-align: top;\n",
       "    }\n",
       "\n",
       "    .dataframe thead th {\n",
       "        text-align: right;\n",
       "    }\n",
       "</style>\n",
       "<table border=\"1\" class=\"dataframe\">\n",
       "  <thead>\n",
       "    <tr style=\"text-align: right;\">\n",
       "      <th></th>\n",
       "      <th>children</th>\n",
       "      <th>days_employed</th>\n",
       "      <th>dob_years</th>\n",
       "      <th>education</th>\n",
       "      <th>education_id</th>\n",
       "      <th>family_status</th>\n",
       "      <th>family_status_id</th>\n",
       "      <th>gender</th>\n",
       "      <th>income_type</th>\n",
       "      <th>debt</th>\n",
       "      <th>total_income</th>\n",
       "      <th>purpose</th>\n",
       "      <th>purpose_category</th>\n",
       "      <th>children_group</th>\n",
       "    </tr>\n",
       "  </thead>\n",
       "  <tbody>\n",
       "    <tr>\n",
       "      <th>0</th>\n",
       "      <td>1</td>\n",
       "      <td>-8437.673028</td>\n",
       "      <td>42</td>\n",
       "      <td>высшее</td>\n",
       "      <td>0</td>\n",
       "      <td>женат / замужем</td>\n",
       "      <td>0</td>\n",
       "      <td>F</td>\n",
       "      <td>сотрудник</td>\n",
       "      <td>0</td>\n",
       "      <td>253876</td>\n",
       "      <td>покупка жилья</td>\n",
       "      <td>недвижимость</td>\n",
       "      <td>есть дети</td>\n",
       "    </tr>\n",
       "    <tr>\n",
       "      <th>1</th>\n",
       "      <td>1</td>\n",
       "      <td>-4024.803754</td>\n",
       "      <td>36</td>\n",
       "      <td>среднее</td>\n",
       "      <td>1</td>\n",
       "      <td>женат / замужем</td>\n",
       "      <td>0</td>\n",
       "      <td>F</td>\n",
       "      <td>сотрудник</td>\n",
       "      <td>0</td>\n",
       "      <td>112080</td>\n",
       "      <td>приобретение автомобиля</td>\n",
       "      <td>покупка автомобиля</td>\n",
       "      <td>есть дети</td>\n",
       "    </tr>\n",
       "    <tr>\n",
       "      <th>2</th>\n",
       "      <td>0</td>\n",
       "      <td>-5623.422610</td>\n",
       "      <td>33</td>\n",
       "      <td>среднее</td>\n",
       "      <td>1</td>\n",
       "      <td>женат / замужем</td>\n",
       "      <td>0</td>\n",
       "      <td>M</td>\n",
       "      <td>сотрудник</td>\n",
       "      <td>0</td>\n",
       "      <td>145886</td>\n",
       "      <td>покупка жилья</td>\n",
       "      <td>недвижимость</td>\n",
       "      <td>без детей</td>\n",
       "    </tr>\n",
       "    <tr>\n",
       "      <th>3</th>\n",
       "      <td>3</td>\n",
       "      <td>-4124.747207</td>\n",
       "      <td>32</td>\n",
       "      <td>среднее</td>\n",
       "      <td>1</td>\n",
       "      <td>женат / замужем</td>\n",
       "      <td>0</td>\n",
       "      <td>M</td>\n",
       "      <td>сотрудник</td>\n",
       "      <td>0</td>\n",
       "      <td>267629</td>\n",
       "      <td>дополнительное образование</td>\n",
       "      <td>образование</td>\n",
       "      <td>многодетные</td>\n",
       "    </tr>\n",
       "    <tr>\n",
       "      <th>4</th>\n",
       "      <td>0</td>\n",
       "      <td>340266.072047</td>\n",
       "      <td>53</td>\n",
       "      <td>среднее</td>\n",
       "      <td>1</td>\n",
       "      <td>гражданский брак</td>\n",
       "      <td>1</td>\n",
       "      <td>F</td>\n",
       "      <td>пенсионер</td>\n",
       "      <td>0</td>\n",
       "      <td>158616</td>\n",
       "      <td>сыграть свадьбу</td>\n",
       "      <td>свадьба</td>\n",
       "      <td>без детей</td>\n",
       "    </tr>\n",
       "  </tbody>\n",
       "</table>\n",
       "</div>"
      ],
      "text/plain": [
       "   children  days_employed  dob_years education  education_id  \\\n",
       "0         1   -8437.673028         42    высшее             0   \n",
       "1         1   -4024.803754         36   среднее             1   \n",
       "2         0   -5623.422610         33   среднее             1   \n",
       "3         3   -4124.747207         32   среднее             1   \n",
       "4         0  340266.072047         53   среднее             1   \n",
       "\n",
       "      family_status  family_status_id gender income_type  debt  total_income  \\\n",
       "0   женат / замужем                 0      F   сотрудник     0        253876   \n",
       "1   женат / замужем                 0      F   сотрудник     0        112080   \n",
       "2   женат / замужем                 0      M   сотрудник     0        145886   \n",
       "3   женат / замужем                 0      M   сотрудник     0        267629   \n",
       "4  гражданский брак                 1      F   пенсионер     0        158616   \n",
       "\n",
       "                      purpose    purpose_category children_group  \n",
       "0               покупка жилья        недвижимость      есть дети  \n",
       "1     приобретение автомобиля  покупка автомобиля      есть дети  \n",
       "2               покупка жилья        недвижимость      без детей  \n",
       "3  дополнительное образование         образование    многодетные  \n",
       "4             сыграть свадьбу             свадьба      без детей  "
      ]
     },
     "metadata": {},
     "output_type": "display_data"
    }
   ],
   "source": [
    "def group_children(child): #создаем функцию для определения категорий по количеству детей\n",
    "    if child == 0:\n",
    "        return 'без детей'\n",
    "    if 1 <= child < 3:\n",
    "        return 'есть дети'\n",
    "    return 'многодетные'\n",
    "df['children_group'] = df['children'].apply(group_children)\n",
    "display(df.head()) # проверим новый столбец с записями значений функции"
   ]
  },
  {
   "cell_type": "code",
   "execution_count": 15,
   "metadata": {},
   "outputs": [
    {
     "data": {
      "text/html": [
       "<div>\n",
       "<style scoped>\n",
       "    .dataframe tbody tr th:only-of-type {\n",
       "        vertical-align: middle;\n",
       "    }\n",
       "\n",
       "    .dataframe tbody tr th {\n",
       "        vertical-align: top;\n",
       "    }\n",
       "\n",
       "    .dataframe thead th {\n",
       "        text-align: right;\n",
       "    }\n",
       "</style>\n",
       "<table border=\"1\" class=\"dataframe\">\n",
       "  <thead>\n",
       "    <tr style=\"text-align: right;\">\n",
       "      <th></th>\n",
       "      <th>children</th>\n",
       "      <th>days_employed</th>\n",
       "      <th>dob_years</th>\n",
       "      <th>education</th>\n",
       "      <th>education_id</th>\n",
       "      <th>family_status</th>\n",
       "      <th>family_status_id</th>\n",
       "      <th>gender</th>\n",
       "      <th>income_type</th>\n",
       "      <th>debt</th>\n",
       "      <th>total_income</th>\n",
       "      <th>purpose</th>\n",
       "      <th>purpose_category</th>\n",
       "      <th>children_group</th>\n",
       "      <th>total_group</th>\n",
       "    </tr>\n",
       "  </thead>\n",
       "  <tbody>\n",
       "    <tr>\n",
       "      <th>0</th>\n",
       "      <td>1</td>\n",
       "      <td>-8437.673028</td>\n",
       "      <td>42</td>\n",
       "      <td>высшее</td>\n",
       "      <td>0</td>\n",
       "      <td>женат / замужем</td>\n",
       "      <td>0</td>\n",
       "      <td>F</td>\n",
       "      <td>сотрудник</td>\n",
       "      <td>0</td>\n",
       "      <td>253876</td>\n",
       "      <td>покупка жилья</td>\n",
       "      <td>недвижимость</td>\n",
       "      <td>есть дети</td>\n",
       "      <td>сверхвысокий доход</td>\n",
       "    </tr>\n",
       "    <tr>\n",
       "      <th>1</th>\n",
       "      <td>1</td>\n",
       "      <td>-4024.803754</td>\n",
       "      <td>36</td>\n",
       "      <td>среднее</td>\n",
       "      <td>1</td>\n",
       "      <td>женат / замужем</td>\n",
       "      <td>0</td>\n",
       "      <td>F</td>\n",
       "      <td>сотрудник</td>\n",
       "      <td>0</td>\n",
       "      <td>112080</td>\n",
       "      <td>приобретение автомобиля</td>\n",
       "      <td>покупка автомобиля</td>\n",
       "      <td>есть дети</td>\n",
       "      <td>средний доход</td>\n",
       "    </tr>\n",
       "    <tr>\n",
       "      <th>2</th>\n",
       "      <td>0</td>\n",
       "      <td>-5623.422610</td>\n",
       "      <td>33</td>\n",
       "      <td>среднее</td>\n",
       "      <td>1</td>\n",
       "      <td>женат / замужем</td>\n",
       "      <td>0</td>\n",
       "      <td>M</td>\n",
       "      <td>сотрудник</td>\n",
       "      <td>0</td>\n",
       "      <td>145886</td>\n",
       "      <td>покупка жилья</td>\n",
       "      <td>недвижимость</td>\n",
       "      <td>без детей</td>\n",
       "      <td>средний доход</td>\n",
       "    </tr>\n",
       "    <tr>\n",
       "      <th>3</th>\n",
       "      <td>3</td>\n",
       "      <td>-4124.747207</td>\n",
       "      <td>32</td>\n",
       "      <td>среднее</td>\n",
       "      <td>1</td>\n",
       "      <td>женат / замужем</td>\n",
       "      <td>0</td>\n",
       "      <td>M</td>\n",
       "      <td>сотрудник</td>\n",
       "      <td>0</td>\n",
       "      <td>267629</td>\n",
       "      <td>дополнительное образование</td>\n",
       "      <td>образование</td>\n",
       "      <td>многодетные</td>\n",
       "      <td>сверхвысокий доход</td>\n",
       "    </tr>\n",
       "    <tr>\n",
       "      <th>4</th>\n",
       "      <td>0</td>\n",
       "      <td>340266.072047</td>\n",
       "      <td>53</td>\n",
       "      <td>среднее</td>\n",
       "      <td>1</td>\n",
       "      <td>гражданский брак</td>\n",
       "      <td>1</td>\n",
       "      <td>F</td>\n",
       "      <td>пенсионер</td>\n",
       "      <td>0</td>\n",
       "      <td>158616</td>\n",
       "      <td>сыграть свадьбу</td>\n",
       "      <td>свадьба</td>\n",
       "      <td>без детей</td>\n",
       "      <td>высокий доход</td>\n",
       "    </tr>\n",
       "  </tbody>\n",
       "</table>\n",
       "</div>"
      ],
      "text/plain": [
       "   children  days_employed  dob_years education  education_id  \\\n",
       "0         1   -8437.673028         42    высшее             0   \n",
       "1         1   -4024.803754         36   среднее             1   \n",
       "2         0   -5623.422610         33   среднее             1   \n",
       "3         3   -4124.747207         32   среднее             1   \n",
       "4         0  340266.072047         53   среднее             1   \n",
       "\n",
       "      family_status  family_status_id gender income_type  debt  total_income  \\\n",
       "0   женат / замужем                 0      F   сотрудник     0        253876   \n",
       "1   женат / замужем                 0      F   сотрудник     0        112080   \n",
       "2   женат / замужем                 0      M   сотрудник     0        145886   \n",
       "3   женат / замужем                 0      M   сотрудник     0        267629   \n",
       "4  гражданский брак                 1      F   пенсионер     0        158616   \n",
       "\n",
       "                      purpose    purpose_category children_group  \\\n",
       "0               покупка жилья        недвижимость      есть дети   \n",
       "1     приобретение автомобиля  покупка автомобиля      есть дети   \n",
       "2               покупка жилья        недвижимость      без детей   \n",
       "3  дополнительное образование         образование    многодетные   \n",
       "4             сыграть свадьбу             свадьба      без детей   \n",
       "\n",
       "          total_group  \n",
       "0  сверхвысокий доход  \n",
       "1       средний доход  \n",
       "2       средний доход  \n",
       "3  сверхвысокий доход  \n",
       "4       высокий доход  "
      ]
     },
     "metadata": {},
     "output_type": "display_data"
    }
   ],
   "source": [
    "def group_total(total):#создаем функцию для определения категорий по величине ежемесячного дохода\n",
    "    if total <= 100000:\n",
    "        return 'низкий доход'\n",
    "    if total <= 150000:\n",
    "        return 'средний доход'\n",
    "    if total <= 200000:\n",
    "        return 'высокий доход'\n",
    "    return 'сверхвысокий доход'\n",
    "df['total_group'] = df['total_income'].apply(group_total)\n",
    "display(df.head()) # проверим новый столбец с записями значений функции"
   ]
  },
  {
   "cell_type": "code",
   "execution_count": 16,
   "metadata": {},
   "outputs": [
    {
     "name": "stdout",
     "output_type": "stream",
     "text": [
      "           family_status  family_status_id\n",
      "0        женат / замужем                 0\n",
      "1       гражданский брак                 1\n",
      "2         вдовец / вдова                 2\n",
      "3              в разводе                 3\n",
      "4  Не женат / не замужем                 4\n"
     ]
    }
   ],
   "source": [
    "status_id_family = df[['family_status','family_status_id']] # создадим \"семейный\" словарь\n",
    "status_id_family = status_id_family.drop_duplicates().reset_index(drop=True)# в словаре удалили большое количество дубликатов\n",
    "print(status_id_family.head()) # проверяем результат"
   ]
  },
  {
   "cell_type": "code",
   "execution_count": 17,
   "metadata": {},
   "outputs": [
    {
     "name": "stdout",
     "output_type": "stream",
     "text": [
      "             education  education_id\n",
      "0               высшее             0\n",
      "1              среднее             1\n",
      "2  неоконченное высшее             2\n",
      "3            начальное             3\n",
      "4       ученая степень             4\n"
     ]
    }
   ],
   "source": [
    "status_id_education = df[['education','education_id']] # создадим словарь уровней образования\n",
    "status_id_education = status_id_education.drop_duplicates().reset_index(drop=True)# в словаре удалили большое количество дубликатов\n",
    "print(status_id_education.head()) # проверяем результат"
   ]
  },
  {
   "cell_type": "markdown",
   "metadata": {},
   "source": [
    "**Вывод**"
   ]
  },
  {
   "cell_type": "markdown",
   "metadata": {},
   "source": [
    "При помощи вызова функции запишем категории по кол-ву детей в новый столбец children_group,категории по величине ежемесячного дохода в столбец total_group.\n",
    "Создала два словаря с данными семейного статуса, уровнем образования и их идентификаторами."
   ]
  },
  {
   "cell_type": "markdown",
   "metadata": {},
   "source": [
    "**Проверим eсть ли зависимость между наличием детей и возвратом кредита в срок?**"
   ]
  },
  {
   "cell_type": "code",
   "execution_count": 18,
   "metadata": {},
   "outputs": [
    {
     "data": {
      "text/html": [
       "<div>\n",
       "<style scoped>\n",
       "    .dataframe tbody tr th:only-of-type {\n",
       "        vertical-align: middle;\n",
       "    }\n",
       "\n",
       "    .dataframe tbody tr th {\n",
       "        vertical-align: top;\n",
       "    }\n",
       "\n",
       "    .dataframe thead th {\n",
       "        text-align: right;\n",
       "    }\n",
       "</style>\n",
       "<table border=\"1\" class=\"dataframe\">\n",
       "  <thead>\n",
       "    <tr style=\"text-align: right;\">\n",
       "      <th>debt</th>\n",
       "      <th>0</th>\n",
       "      <th>1</th>\n",
       "      <th>percent_1</th>\n",
       "    </tr>\n",
       "    <tr>\n",
       "      <th>children_group</th>\n",
       "      <th></th>\n",
       "      <th></th>\n",
       "      <th></th>\n",
       "    </tr>\n",
       "  </thead>\n",
       "  <tbody>\n",
       "    <tr>\n",
       "      <th>без детей</th>\n",
       "      <td>11758</td>\n",
       "      <td>952</td>\n",
       "      <td>7.49</td>\n",
       "    </tr>\n",
       "    <tr>\n",
       "      <th>есть дети</th>\n",
       "      <td>5711</td>\n",
       "      <td>594</td>\n",
       "      <td>9.42</td>\n",
       "    </tr>\n",
       "    <tr>\n",
       "      <th>многодетные</th>\n",
       "      <td>311</td>\n",
       "      <td>25</td>\n",
       "      <td>7.44</td>\n",
       "    </tr>\n",
       "  </tbody>\n",
       "</table>\n",
       "</div>"
      ],
      "text/plain": [
       "debt                0    1  percent_1\n",
       "children_group                       \n",
       "без детей       11758  952       7.49\n",
       "есть дети        5711  594       9.42\n",
       "многодетные       311   25       7.44"
      ]
     },
     "metadata": {},
     "output_type": "display_data"
    }
   ],
   "source": [
    "pivot_table_children = df.pivot_table(index='children_group',columns='debt',values='days_employed',aggfunc='count') \n",
    "#построим сводную таблицу для наглядного представления как кол-во детей влияет на возврат кредита\n",
    "pivot_table_children['percent_1'] = (pivot_table_children[1]/(pivot_table_children[1]+pivot_table_children[0])*100).round(2) \n",
    "#найдем соотношение величин в процентах\n",
    "display(pivot_table_children.head()) #выведем результат на экран"
   ]
  },
  {
   "cell_type": "markdown",
   "metadata": {},
   "source": [
    "**Вывод**"
   ]
  },
  {
   "cell_type": "markdown",
   "metadata": {},
   "source": [
    "Наличие детей не совсем влияет на возврат кредита в срок, так как в полученных данных сводной таблицы при среднем кол-ве наличия детей отличается на 2% от большого кол-ва детей и вовсе их отсутвия, тем не менее многодетных семей не так много."
   ]
  },
  {
   "cell_type": "markdown",
   "metadata": {},
   "source": [
    "**Проверим eсть ли зависимость между семейным положением и возвратом кредита в срок?**"
   ]
  },
  {
   "cell_type": "code",
   "execution_count": 19,
   "metadata": {},
   "outputs": [
    {
     "data": {
      "text/html": [
       "<div>\n",
       "<style scoped>\n",
       "    .dataframe tbody tr th:only-of-type {\n",
       "        vertical-align: middle;\n",
       "    }\n",
       "\n",
       "    .dataframe tbody tr th {\n",
       "        vertical-align: top;\n",
       "    }\n",
       "\n",
       "    .dataframe thead th {\n",
       "        text-align: right;\n",
       "    }\n",
       "</style>\n",
       "<table border=\"1\" class=\"dataframe\">\n",
       "  <thead>\n",
       "    <tr style=\"text-align: right;\">\n",
       "      <th>debt</th>\n",
       "      <th>0</th>\n",
       "      <th>1</th>\n",
       "      <th>percent_1</th>\n",
       "    </tr>\n",
       "    <tr>\n",
       "      <th>family_status</th>\n",
       "      <th></th>\n",
       "      <th></th>\n",
       "      <th></th>\n",
       "    </tr>\n",
       "  </thead>\n",
       "  <tbody>\n",
       "    <tr>\n",
       "      <th>Не женат / не замужем</th>\n",
       "      <td>2271</td>\n",
       "      <td>254</td>\n",
       "      <td>10.06</td>\n",
       "    </tr>\n",
       "    <tr>\n",
       "      <th>в разводе</th>\n",
       "      <td>1007</td>\n",
       "      <td>76</td>\n",
       "      <td>7.02</td>\n",
       "    </tr>\n",
       "    <tr>\n",
       "      <th>вдовец / вдова</th>\n",
       "      <td>809</td>\n",
       "      <td>56</td>\n",
       "      <td>6.47</td>\n",
       "    </tr>\n",
       "    <tr>\n",
       "      <th>гражданский брак</th>\n",
       "      <td>3396</td>\n",
       "      <td>339</td>\n",
       "      <td>9.08</td>\n",
       "    </tr>\n",
       "    <tr>\n",
       "      <th>женат / замужем</th>\n",
       "      <td>10297</td>\n",
       "      <td>846</td>\n",
       "      <td>7.59</td>\n",
       "    </tr>\n",
       "  </tbody>\n",
       "</table>\n",
       "</div>"
      ],
      "text/plain": [
       "debt                       0    1  percent_1\n",
       "family_status                               \n",
       "Не женат / не замужем   2271  254      10.06\n",
       "в разводе               1007   76       7.02\n",
       "вдовец / вдова           809   56       6.47\n",
       "гражданский брак        3396  339       9.08\n",
       "женат / замужем        10297  846       7.59"
      ]
     },
     "metadata": {},
     "output_type": "display_data"
    }
   ],
   "source": [
    "pivot_table_family_status = df.pivot_table(index='family_status',columns='debt',values='days_employed',aggfunc='count') \n",
    "#построим сводную таблицу для наглядного представления как семейное положение влияет на возврат кредита\n",
    "pivot_table_family_status['percent_1'] =(pivot_table_family_status[1]/(pivot_table_family_status[1]+pivot_table_family_status[0])*100).round(2)\n",
    "#найдем соотношение величин в процентах\n",
    "display(pivot_table_family_status.head()) #выведем результат на экран"
   ]
  },
  {
   "cell_type": "markdown",
   "metadata": {},
   "source": [
    "**Вывод**"
   ]
  },
  {
   "cell_type": "markdown",
   "metadata": {},
   "source": [
    "На основании полученных данных сводной таблицы можем сделать вывод, что свободные/холостые потенциальные заемщики менее дисциплинированы в возврате кредитных обязательств в установленные сроки."
   ]
  },
  {
   "cell_type": "markdown",
   "metadata": {},
   "source": [
    "**Проверим есть ли зависимость между уровнем дохода и возвратом кредита в срок?**"
   ]
  },
  {
   "cell_type": "code",
   "execution_count": 20,
   "metadata": {},
   "outputs": [
    {
     "data": {
      "text/html": [
       "<div>\n",
       "<style scoped>\n",
       "    .dataframe tbody tr th:only-of-type {\n",
       "        vertical-align: middle;\n",
       "    }\n",
       "\n",
       "    .dataframe tbody tr th {\n",
       "        vertical-align: top;\n",
       "    }\n",
       "\n",
       "    .dataframe thead th {\n",
       "        text-align: right;\n",
       "    }\n",
       "</style>\n",
       "<table border=\"1\" class=\"dataframe\">\n",
       "  <thead>\n",
       "    <tr style=\"text-align: right;\">\n",
       "      <th>debt</th>\n",
       "      <th>0</th>\n",
       "      <th>1</th>\n",
       "      <th>percent_1</th>\n",
       "    </tr>\n",
       "    <tr>\n",
       "      <th>total_group</th>\n",
       "      <th></th>\n",
       "      <th></th>\n",
       "      <th></th>\n",
       "    </tr>\n",
       "  </thead>\n",
       "  <tbody>\n",
       "    <tr>\n",
       "      <th>высокий доход</th>\n",
       "      <td>3750</td>\n",
       "      <td>368</td>\n",
       "      <td>8.94</td>\n",
       "    </tr>\n",
       "    <tr>\n",
       "      <th>низкий доход</th>\n",
       "      <td>4109</td>\n",
       "      <td>354</td>\n",
       "      <td>7.93</td>\n",
       "    </tr>\n",
       "    <tr>\n",
       "      <th>сверхвысокий доход</th>\n",
       "      <td>4708</td>\n",
       "      <td>358</td>\n",
       "      <td>7.07</td>\n",
       "    </tr>\n",
       "    <tr>\n",
       "      <th>средний доход</th>\n",
       "      <td>5213</td>\n",
       "      <td>491</td>\n",
       "      <td>8.61</td>\n",
       "    </tr>\n",
       "  </tbody>\n",
       "</table>\n",
       "</div>"
      ],
      "text/plain": [
       "debt                   0    1  percent_1\n",
       "total_group                             \n",
       "высокий доход       3750  368       8.94\n",
       "низкий доход        4109  354       7.93\n",
       "сверхвысокий доход  4708  358       7.07\n",
       "средний доход       5213  491       8.61"
      ]
     },
     "metadata": {},
     "output_type": "display_data"
    }
   ],
   "source": [
    "pivot_table_total_group = df.pivot_table(index='total_group',columns='debt',values='days_employed',aggfunc='count')\n",
    "#построим сводную таблицу для наглядного представления как уровень влияет на возврат кредита\n",
    "pivot_table_total_group['percent_1'] = (pivot_table_total_group[1]/(pivot_table_total_group[1]+pivot_table_total_group[0])*100).round(2)\n",
    "#найдем соотношение величин в процентах\n",
    "display(pivot_table_total_group.head()) #выведем результат на экран"
   ]
  },
  {
   "cell_type": "markdown",
   "metadata": {},
   "source": [
    "**Вывод**"
   ]
  },
  {
   "cell_type": "markdown",
   "metadata": {},
   "source": [
    "Из полученной сводной таблицы можно выделить наличие сверхвысокого дохода, что влияет на возврат обязательств в срок, НО клиенты с высоким и средним доходами отличаются на 2% от клиентов со сверхвысоким доходом. \n",
    "\n",
    "Вывод: явная зависимость между величиной уровнем дохода и возвратом кредита в срок отсутствует."
   ]
  },
  {
   "cell_type": "markdown",
   "metadata": {},
   "source": [
    "**Проверим как разные цели кредита влияют на его возврат в срок?**"
   ]
  },
  {
   "cell_type": "code",
   "execution_count": 21,
   "metadata": {},
   "outputs": [
    {
     "data": {
      "text/html": [
       "<div>\n",
       "<style scoped>\n",
       "    .dataframe tbody tr th:only-of-type {\n",
       "        vertical-align: middle;\n",
       "    }\n",
       "\n",
       "    .dataframe tbody tr th {\n",
       "        vertical-align: top;\n",
       "    }\n",
       "\n",
       "    .dataframe thead th {\n",
       "        text-align: right;\n",
       "    }\n",
       "</style>\n",
       "<table border=\"1\" class=\"dataframe\">\n",
       "  <thead>\n",
       "    <tr style=\"text-align: right;\">\n",
       "      <th>debt</th>\n",
       "      <th>0</th>\n",
       "      <th>1</th>\n",
       "      <th>percent_1</th>\n",
       "    </tr>\n",
       "    <tr>\n",
       "      <th>purpose_category</th>\n",
       "      <th></th>\n",
       "      <th></th>\n",
       "      <th></th>\n",
       "    </tr>\n",
       "  </thead>\n",
       "  <tbody>\n",
       "    <tr>\n",
       "      <th>недвижимость</th>\n",
       "      <td>9043</td>\n",
       "      <td>715</td>\n",
       "      <td>7.33</td>\n",
       "    </tr>\n",
       "    <tr>\n",
       "      <th>образование</th>\n",
       "      <td>3266</td>\n",
       "      <td>331</td>\n",
       "      <td>9.20</td>\n",
       "    </tr>\n",
       "    <tr>\n",
       "      <th>покупка автомобиля</th>\n",
       "      <td>3530</td>\n",
       "      <td>367</td>\n",
       "      <td>9.42</td>\n",
       "    </tr>\n",
       "    <tr>\n",
       "      <th>свадьба</th>\n",
       "      <td>1941</td>\n",
       "      <td>158</td>\n",
       "      <td>7.53</td>\n",
       "    </tr>\n",
       "  </tbody>\n",
       "</table>\n",
       "</div>"
      ],
      "text/plain": [
       "debt                   0    1  percent_1\n",
       "purpose_category                        \n",
       "недвижимость        9043  715       7.33\n",
       "образование         3266  331       9.20\n",
       "покупка автомобиля  3530  367       9.42\n",
       "свадьба             1941  158       7.53"
      ]
     },
     "metadata": {},
     "output_type": "display_data"
    }
   ],
   "source": [
    "pivot_table_purpose = df.pivot_table(index='purpose_category',columns='debt',values='days_employed',aggfunc='count') \n",
    "#построим сводную таблицу для наглядного представления как цели кредита влияют на возврат кредита\n",
    "pivot_table_purpose['percent_1'] = (pivot_table_purpose[1]/(pivot_table_purpose[1]+pivot_table_purpose[0])*100).round(2)\n",
    "#найдем соотношение величин в процентах\n",
    "display(pivot_table_purpose.head()) #выведем результат на экран"
   ]
  },
  {
   "cell_type": "markdown",
   "metadata": {},
   "source": [
    "**Вывод**"
   ]
  },
  {
   "cell_type": "markdown",
   "metadata": {},
   "source": [
    "Из полученной сводной таблицы можно сделать вывод, что долгосрочные кредиты обязывают погашать обязательства в срок."
   ]
  },
  {
   "cell_type": "markdown",
   "metadata": {},
   "source": [
    "## Общий вывод"
   ]
  },
  {
   "cell_type": "markdown",
   "metadata": {},
   "source": [
    "В ходе проведенного исследования было выявлено, что наличие детей может влиять на возврат кредитных обязательсв в установленный срок - 2% достаточно большой показатель между отсутвием детей и их наличием, при том,что многодетных семей не так много.\n",
    "\n",
    "Семейное положение влияет на возврат кредитных обязательсв в установленный срок - клиенты категорий женатые/замужние/вдовец / вдова/р разводе более дисциплинированы.\n",
    "\n",
    "Также можно выделить маркер \"цель кредита\" для будущего построения модели скоринга. Из полученного анализа данных выявлено, что долгосрочные кредиты (недвижимость) обязывают погашать обязательства в установленный срок."
   ]
  }
 ],
 "metadata": {
  "ExecuteTimeLog": [
   {
    "duration": 2130,
    "start_time": "2021-12-09T10:15:38.573Z"
   },
   {
    "duration": 58,
    "start_time": "2021-12-09T10:20:37.195Z"
   },
   {
    "duration": 58,
    "start_time": "2021-12-09T10:21:05.039Z"
   },
   {
    "duration": 59,
    "start_time": "2021-12-09T10:22:30.423Z"
   },
   {
    "duration": 58,
    "start_time": "2021-12-09T10:23:59.936Z"
   },
   {
    "duration": 56,
    "start_time": "2021-12-09T10:37:29.219Z"
   },
   {
    "duration": 61,
    "start_time": "2021-12-09T10:38:02.806Z"
   },
   {
    "duration": 692,
    "start_time": "2021-12-10T09:25:39.369Z"
   },
   {
    "duration": 377,
    "start_time": "2021-12-10T09:57:12.863Z"
   },
   {
    "duration": 10,
    "start_time": "2021-12-10T09:58:00.807Z"
   },
   {
    "duration": 10,
    "start_time": "2021-12-10T09:59:28.302Z"
   },
   {
    "duration": 16,
    "start_time": "2021-12-10T10:02:38.485Z"
   },
   {
    "duration": 9,
    "start_time": "2021-12-10T10:03:24.250Z"
   },
   {
    "duration": 240,
    "start_time": "2021-12-10T10:19:13.783Z"
   },
   {
    "duration": 286,
    "start_time": "2021-12-10T10:19:59.811Z"
   },
   {
    "duration": 10,
    "start_time": "2021-12-10T10:54:32.445Z"
   },
   {
    "duration": 11,
    "start_time": "2021-12-10T10:54:50.765Z"
   },
   {
    "duration": 23,
    "start_time": "2021-12-10T10:56:47.095Z"
   },
   {
    "duration": 56,
    "start_time": "2021-12-10T11:17:08.216Z"
   },
   {
    "duration": 12,
    "start_time": "2021-12-10T11:24:00.529Z"
   },
   {
    "duration": 15,
    "start_time": "2021-12-10T11:27:15.153Z"
   },
   {
    "duration": 244,
    "start_time": "2021-12-10T11:29:03.941Z"
   },
   {
    "duration": 250,
    "start_time": "2021-12-10T11:29:18.110Z"
   },
   {
    "duration": 248,
    "start_time": "2021-12-10T11:29:28.085Z"
   },
   {
    "duration": 11,
    "start_time": "2021-12-10T11:37:44.758Z"
   },
   {
    "duration": 15,
    "start_time": "2021-12-10T11:46:18.749Z"
   },
   {
    "duration": 263,
    "start_time": "2021-12-10T14:05:57.535Z"
   },
   {
    "duration": 18,
    "start_time": "2021-12-10T14:07:03.322Z"
   },
   {
    "duration": 307,
    "start_time": "2021-12-10T14:13:08.002Z"
   },
   {
    "duration": 276,
    "start_time": "2021-12-10T14:13:38.100Z"
   },
   {
    "duration": 279,
    "start_time": "2021-12-10T14:14:25.857Z"
   },
   {
    "duration": 806,
    "start_time": "2021-12-10T14:14:44.444Z"
   },
   {
    "duration": 324,
    "start_time": "2021-12-10T14:15:21.726Z"
   },
   {
    "duration": 14,
    "start_time": "2021-12-10T14:16:51.401Z"
   },
   {
    "duration": 275,
    "start_time": "2021-12-10T14:17:01.294Z"
   },
   {
    "duration": 10,
    "start_time": "2021-12-10T14:18:41.095Z"
   },
   {
    "duration": 243,
    "start_time": "2021-12-10T14:19:54.642Z"
   },
   {
    "duration": 232,
    "start_time": "2021-12-10T14:20:18.900Z"
   },
   {
    "duration": 45,
    "start_time": "2021-12-10T15:14:37.899Z"
   },
   {
    "duration": 58,
    "start_time": "2021-12-10T15:14:52.463Z"
   },
   {
    "duration": 12,
    "start_time": "2021-12-10T15:15:17.529Z"
   },
   {
    "duration": 11,
    "start_time": "2021-12-10T15:16:15.931Z"
   },
   {
    "duration": 13,
    "start_time": "2021-12-10T15:19:16.125Z"
   },
   {
    "duration": 293,
    "start_time": "2021-12-11T13:10:54.125Z"
   },
   {
    "duration": 711,
    "start_time": "2021-12-11T13:12:00.255Z"
   },
   {
    "duration": 64,
    "start_time": "2021-12-11T13:12:12.287Z"
   },
   {
    "duration": 13,
    "start_time": "2021-12-11T13:12:34.110Z"
   },
   {
    "duration": 12,
    "start_time": "2021-12-11T13:12:57.134Z"
   },
   {
    "duration": 15,
    "start_time": "2021-12-11T13:13:21.087Z"
   },
   {
    "duration": 18,
    "start_time": "2021-12-11T13:15:12.605Z"
   },
   {
    "duration": 10,
    "start_time": "2021-12-11T13:18:05.899Z"
   },
   {
    "duration": 17,
    "start_time": "2021-12-11T13:19:53.208Z"
   },
   {
    "duration": 24,
    "start_time": "2021-12-11T13:23:48.413Z"
   },
   {
    "duration": 38,
    "start_time": "2021-12-11T13:24:17.297Z"
   },
   {
    "duration": 286,
    "start_time": "2021-12-11T13:31:30.723Z"
   },
   {
    "duration": 36,
    "start_time": "2021-12-11T13:32:39.886Z"
   },
   {
    "duration": 36,
    "start_time": "2021-12-11T13:32:58.884Z"
   },
   {
    "duration": 270,
    "start_time": "2021-12-11T13:40:23.674Z"
   },
   {
    "duration": 1815,
    "start_time": "2021-12-11T13:40:39.671Z"
   },
   {
    "duration": 296,
    "start_time": "2021-12-11T13:41:06.713Z"
   },
   {
    "duration": 268,
    "start_time": "2021-12-11T13:41:16.057Z"
   },
   {
    "duration": 268,
    "start_time": "2021-12-11T13:43:11.914Z"
   },
   {
    "duration": 271,
    "start_time": "2021-12-11T13:43:32.916Z"
   },
   {
    "duration": 7,
    "start_time": "2021-12-11T13:44:07.897Z"
   },
   {
    "duration": 40,
    "start_time": "2021-12-11T13:52:38.001Z"
   },
   {
    "duration": 41,
    "start_time": "2021-12-11T13:53:22.543Z"
   },
   {
    "duration": 40,
    "start_time": "2021-12-11T13:53:56.777Z"
   },
   {
    "duration": 14,
    "start_time": "2021-12-11T14:36:55.474Z"
   },
   {
    "duration": 11,
    "start_time": "2021-12-11T14:37:39.093Z"
   },
   {
    "duration": 15,
    "start_time": "2021-12-11T14:37:48.188Z"
   },
   {
    "duration": 41,
    "start_time": "2021-12-11T15:05:09.879Z"
   },
   {
    "duration": 52,
    "start_time": "2021-12-11T15:10:03.251Z"
   },
   {
    "duration": 59,
    "start_time": "2021-12-11T15:14:37.600Z"
   },
   {
    "duration": 57,
    "start_time": "2021-12-11T15:15:07.918Z"
   },
   {
    "duration": 64,
    "start_time": "2021-12-11T15:16:39.972Z"
   },
   {
    "duration": 61,
    "start_time": "2021-12-11T15:24:47.716Z"
   },
   {
    "duration": 61,
    "start_time": "2021-12-11T15:25:09.283Z"
   },
   {
    "duration": 124,
    "start_time": "2021-12-11T15:25:28.272Z"
   },
   {
    "duration": 9,
    "start_time": "2021-12-11T15:27:39.384Z"
   },
   {
    "duration": 96,
    "start_time": "2021-12-11T15:27:51.267Z"
   },
   {
    "duration": 82,
    "start_time": "2021-12-11T17:19:56.798Z"
   },
   {
    "duration": 4639,
    "start_time": "2021-12-11T17:20:34.712Z"
   },
   {
    "duration": 4778,
    "start_time": "2021-12-11T17:21:42.676Z"
   },
   {
    "duration": 4513,
    "start_time": "2021-12-11T17:33:49.236Z"
   },
   {
    "duration": 76,
    "start_time": "2021-12-11T18:16:19.158Z"
   },
   {
    "duration": 237,
    "start_time": "2021-12-11T18:16:26.884Z"
   },
   {
    "duration": 240,
    "start_time": "2021-12-11T18:17:40.585Z"
   },
   {
    "duration": 235,
    "start_time": "2021-12-11T18:18:58.791Z"
   },
   {
    "duration": 241,
    "start_time": "2021-12-11T18:19:42.575Z"
   },
   {
    "duration": 260,
    "start_time": "2021-12-11T18:21:02.655Z"
   },
   {
    "duration": 826,
    "start_time": "2021-12-11T18:21:32.845Z"
   },
   {
    "duration": 15,
    "start_time": "2021-12-11T18:22:46.848Z"
   },
   {
    "duration": 14,
    "start_time": "2021-12-11T18:24:35.072Z"
   },
   {
    "duration": 17,
    "start_time": "2021-12-11T18:24:46.122Z"
   },
   {
    "duration": 14,
    "start_time": "2021-12-11T18:24:58.299Z"
   },
   {
    "duration": 13,
    "start_time": "2021-12-11T18:26:07.722Z"
   },
   {
    "duration": 11,
    "start_time": "2021-12-11T18:26:26.010Z"
   },
   {
    "duration": 13,
    "start_time": "2021-12-11T18:26:59.179Z"
   },
   {
    "duration": 63,
    "start_time": "2021-12-11T18:30:18.052Z"
   },
   {
    "duration": 10,
    "start_time": "2021-12-11T18:30:44.848Z"
   },
   {
    "duration": 15,
    "start_time": "2021-12-11T18:31:17.257Z"
   },
   {
    "duration": 12,
    "start_time": "2021-12-11T18:31:31.682Z"
   },
   {
    "duration": 10,
    "start_time": "2021-12-11T18:31:49.071Z"
   },
   {
    "duration": 917,
    "start_time": "2021-12-12T13:21:58.446Z"
   },
   {
    "duration": 22,
    "start_time": "2021-12-12T13:22:11.119Z"
   },
   {
    "duration": 391,
    "start_time": "2021-12-12T13:24:47.922Z"
   },
   {
    "duration": 271,
    "start_time": "2021-12-12T13:26:27.020Z"
   },
   {
    "duration": 12,
    "start_time": "2021-12-12T13:35:19.162Z"
   },
   {
    "duration": 14,
    "start_time": "2021-12-12T13:36:18.763Z"
   },
   {
    "duration": 84,
    "start_time": "2021-12-12T13:36:43.323Z"
   },
   {
    "duration": 14,
    "start_time": "2021-12-12T13:37:12.387Z"
   },
   {
    "duration": 18,
    "start_time": "2021-12-12T13:39:59.283Z"
   },
   {
    "duration": 13,
    "start_time": "2021-12-12T13:40:08.597Z"
   },
   {
    "duration": 17,
    "start_time": "2021-12-12T13:40:26.129Z"
   },
   {
    "duration": 18,
    "start_time": "2021-12-12T13:40:54.697Z"
   },
   {
    "duration": 8,
    "start_time": "2021-12-12T13:41:11.440Z"
   },
   {
    "duration": 84,
    "start_time": "2021-12-12T13:41:22.506Z"
   },
   {
    "duration": 8,
    "start_time": "2021-12-12T13:41:37.607Z"
   },
   {
    "duration": 17,
    "start_time": "2021-12-12T14:01:07.583Z"
   },
   {
    "duration": 17,
    "start_time": "2021-12-12T14:01:28.156Z"
   },
   {
    "duration": 18,
    "start_time": "2021-12-12T14:01:35.051Z"
   },
   {
    "duration": 11,
    "start_time": "2021-12-12T14:01:48.723Z"
   },
   {
    "duration": 10,
    "start_time": "2021-12-12T14:01:58.532Z"
   },
   {
    "duration": 10,
    "start_time": "2021-12-12T14:02:01.419Z"
   },
   {
    "duration": 14,
    "start_time": "2021-12-12T14:05:16.681Z"
   },
   {
    "duration": 15,
    "start_time": "2021-12-12T14:09:24.652Z"
   },
   {
    "duration": 289,
    "start_time": "2021-12-12T14:13:01.519Z"
   },
   {
    "duration": 329,
    "start_time": "2021-12-12T14:13:42.345Z"
   },
   {
    "duration": 372,
    "start_time": "2021-12-12T14:14:04.325Z"
   },
   {
    "duration": 334,
    "start_time": "2021-12-12T14:14:13.682Z"
   },
   {
    "duration": 284,
    "start_time": "2021-12-12T14:14:15.654Z"
   },
   {
    "duration": 20,
    "start_time": "2021-12-12T14:15:13.865Z"
   },
   {
    "duration": 20,
    "start_time": "2021-12-12T14:15:22.894Z"
   },
   {
    "duration": 285,
    "start_time": "2021-12-12T14:16:28.936Z"
   },
   {
    "duration": 27,
    "start_time": "2021-12-12T14:20:27.327Z"
   },
   {
    "duration": 20,
    "start_time": "2021-12-12T14:22:46.413Z"
   },
   {
    "duration": 771,
    "start_time": "2021-12-13T08:45:42.256Z"
   },
   {
    "duration": 642,
    "start_time": "2021-12-13T08:45:43.030Z"
   },
   {
    "duration": -433,
    "start_time": "2021-12-13T08:45:44.108Z"
   },
   {
    "duration": -436,
    "start_time": "2021-12-13T08:45:44.113Z"
   },
   {
    "duration": -444,
    "start_time": "2021-12-13T08:45:44.124Z"
   },
   {
    "duration": 305,
    "start_time": "2021-12-13T08:47:07.363Z"
   },
   {
    "duration": 22,
    "start_time": "2021-12-13T08:51:44.081Z"
   },
   {
    "duration": 27,
    "start_time": "2021-12-13T08:53:48.543Z"
   },
   {
    "duration": 29,
    "start_time": "2021-12-13T08:54:03.138Z"
   },
   {
    "duration": 75,
    "start_time": "2021-12-13T08:54:52.881Z"
   },
   {
    "duration": 5815,
    "start_time": "2021-12-13T08:55:41.458Z"
   },
   {
    "duration": 21,
    "start_time": "2021-12-13T10:19:32.809Z"
   },
   {
    "duration": 30,
    "start_time": "2021-12-13T10:41:37.134Z"
   },
   {
    "duration": 33,
    "start_time": "2021-12-13T10:41:54.745Z"
   },
   {
    "duration": 34,
    "start_time": "2021-12-13T10:43:02.212Z"
   },
   {
    "duration": 28,
    "start_time": "2021-12-13T10:46:52.933Z"
   },
   {
    "duration": 49,
    "start_time": "2021-12-13T11:26:00.702Z"
   },
   {
    "duration": 303,
    "start_time": "2021-12-13T11:27:19.548Z"
   },
   {
    "duration": 31,
    "start_time": "2021-12-13T11:27:39.617Z"
   },
   {
    "duration": 28,
    "start_time": "2021-12-13T11:27:57.919Z"
   },
   {
    "duration": 27,
    "start_time": "2021-12-13T11:28:07.819Z"
   },
   {
    "duration": 25,
    "start_time": "2021-12-13T11:57:05.922Z"
   },
   {
    "duration": 399,
    "start_time": "2021-12-13T11:59:22.655Z"
   },
   {
    "duration": 27,
    "start_time": "2021-12-13T12:01:01.367Z"
   },
   {
    "duration": 30,
    "start_time": "2021-12-13T12:03:10.550Z"
   },
   {
    "duration": 38,
    "start_time": "2021-12-13T12:10:39.525Z"
   },
   {
    "duration": 36,
    "start_time": "2021-12-13T12:10:49.124Z"
   },
   {
    "duration": 308,
    "start_time": "2021-12-13T12:14:17.817Z"
   },
   {
    "duration": 315,
    "start_time": "2021-12-13T12:14:34.425Z"
   },
   {
    "duration": 309,
    "start_time": "2021-12-13T12:16:37.601Z"
   },
   {
    "duration": 9442,
    "start_time": "2021-12-13T12:16:49.776Z"
   },
   {
    "duration": 9466,
    "start_time": "2021-12-13T12:17:00.553Z"
   },
   {
    "duration": 33,
    "start_time": "2021-12-13T12:20:20.280Z"
   },
   {
    "duration": 28,
    "start_time": "2021-12-13T12:36:06.819Z"
   },
   {
    "duration": 31,
    "start_time": "2021-12-13T13:01:11.120Z"
   },
   {
    "duration": 30,
    "start_time": "2021-12-13T13:04:09.943Z"
   },
   {
    "duration": 640,
    "start_time": "2021-12-14T09:50:23.075Z"
   },
   {
    "duration": 16,
    "start_time": "2021-12-14T09:50:23.717Z"
   },
   {
    "duration": 29,
    "start_time": "2021-12-14T09:50:23.735Z"
   },
   {
    "duration": 55,
    "start_time": "2021-12-14T09:50:23.767Z"
   },
   {
    "duration": 4413,
    "start_time": "2021-12-14T09:50:23.823Z"
   },
   {
    "duration": 41,
    "start_time": "2021-12-14T09:50:28.238Z"
   },
   {
    "duration": 24,
    "start_time": "2021-12-14T09:50:28.280Z"
   },
   {
    "duration": 18,
    "start_time": "2021-12-14T09:50:28.306Z"
   },
   {
    "duration": 38,
    "start_time": "2021-12-14T09:50:28.326Z"
   },
   {
    "duration": 20,
    "start_time": "2021-12-14T09:50:28.366Z"
   },
   {
    "duration": 21,
    "start_time": "2021-12-14T09:57:33.348Z"
   },
   {
    "duration": 269,
    "start_time": "2021-12-14T10:57:05.906Z"
   },
   {
    "duration": 623,
    "start_time": "2021-12-14T10:57:22.505Z"
   },
   {
    "duration": 9,
    "start_time": "2021-12-14T10:57:36.965Z"
   },
   {
    "duration": 12,
    "start_time": "2021-12-14T10:57:46.745Z"
   },
   {
    "duration": 12,
    "start_time": "2021-12-14T10:58:00.021Z"
   },
   {
    "duration": 12,
    "start_time": "2021-12-14T10:58:20.644Z"
   },
   {
    "duration": 10,
    "start_time": "2021-12-14T11:50:49.700Z"
   },
   {
    "duration": 32,
    "start_time": "2021-12-14T11:51:25.863Z"
   },
   {
    "duration": 7,
    "start_time": "2021-12-14T11:54:56.842Z"
   },
   {
    "duration": 18,
    "start_time": "2021-12-14T11:55:14.471Z"
   },
   {
    "duration": 40,
    "start_time": "2021-12-14T11:55:19.946Z"
   },
   {
    "duration": 12,
    "start_time": "2021-12-14T13:43:00.185Z"
   },
   {
    "duration": 15,
    "start_time": "2021-12-14T13:43:13.985Z"
   },
   {
    "duration": 13,
    "start_time": "2021-12-14T13:43:24.938Z"
   },
   {
    "duration": 10,
    "start_time": "2021-12-14T13:43:30.314Z"
   },
   {
    "duration": 312,
    "start_time": "2021-12-14T13:53:38.320Z"
   },
   {
    "duration": 30,
    "start_time": "2021-12-14T13:54:02.230Z"
   },
   {
    "duration": 85,
    "start_time": "2021-12-14T13:57:15.610Z"
   },
   {
    "duration": 94,
    "start_time": "2021-12-14T13:57:46.403Z"
   },
   {
    "duration": 18,
    "start_time": "2021-12-14T13:58:20.428Z"
   },
   {
    "duration": 268,
    "start_time": "2021-12-14T14:01:56.981Z"
   },
   {
    "duration": 258,
    "start_time": "2021-12-14T14:02:21.985Z"
   },
   {
    "duration": 271,
    "start_time": "2021-12-14T14:02:28.164Z"
   },
   {
    "duration": 244,
    "start_time": "2021-12-14T14:02:33.581Z"
   },
   {
    "duration": 5,
    "start_time": "2021-12-14T14:08:10.214Z"
   },
   {
    "duration": 5,
    "start_time": "2021-12-14T14:08:54.054Z"
   },
   {
    "duration": 4228,
    "start_time": "2021-12-14T14:09:01.748Z"
   },
   {
    "duration": 24,
    "start_time": "2021-12-14T14:19:35.438Z"
   },
   {
    "duration": 258,
    "start_time": "2021-12-14T14:21:28.617Z"
   },
   {
    "duration": 257,
    "start_time": "2021-12-14T14:22:04.894Z"
   },
   {
    "duration": 240,
    "start_time": "2021-12-14T14:23:40.746Z"
   },
   {
    "duration": 258,
    "start_time": "2021-12-14T14:23:58.663Z"
   },
   {
    "duration": 26,
    "start_time": "2021-12-14T14:26:14.467Z"
   },
   {
    "duration": 78,
    "start_time": "2021-12-14T14:26:23.740Z"
   },
   {
    "duration": 86,
    "start_time": "2021-12-14T14:26:39.574Z"
   },
   {
    "duration": 18,
    "start_time": "2021-12-14T14:26:50.902Z"
   },
   {
    "duration": 18,
    "start_time": "2021-12-14T14:27:26.948Z"
   },
   {
    "duration": 18,
    "start_time": "2021-12-14T14:27:42.728Z"
   },
   {
    "duration": 18,
    "start_time": "2021-12-14T14:27:51.974Z"
   },
   {
    "duration": 660,
    "start_time": "2021-12-15T04:39:23.207Z"
   },
   {
    "duration": 11,
    "start_time": "2021-12-15T04:39:23.869Z"
   },
   {
    "duration": 40,
    "start_time": "2021-12-15T04:39:23.882Z"
   },
   {
    "duration": 9,
    "start_time": "2021-12-15T04:39:23.924Z"
   },
   {
    "duration": 14,
    "start_time": "2021-12-15T04:39:23.935Z"
   },
   {
    "duration": 13,
    "start_time": "2021-12-15T04:39:23.950Z"
   },
   {
    "duration": 46,
    "start_time": "2021-12-15T04:39:23.965Z"
   },
   {
    "duration": 15,
    "start_time": "2021-12-15T04:39:24.013Z"
   },
   {
    "duration": 7,
    "start_time": "2021-12-15T04:39:24.032Z"
   },
   {
    "duration": 23,
    "start_time": "2021-12-15T04:39:24.041Z"
   },
   {
    "duration": 69,
    "start_time": "2021-12-15T04:39:24.066Z"
   },
   {
    "duration": 6,
    "start_time": "2021-12-15T04:39:24.136Z"
   },
   {
    "duration": 4680,
    "start_time": "2021-12-15T04:39:24.144Z"
   },
   {
    "duration": 13,
    "start_time": "2021-12-15T04:39:28.826Z"
   },
   {
    "duration": 17,
    "start_time": "2021-12-15T04:39:28.841Z"
   },
   {
    "duration": 12,
    "start_time": "2021-12-15T04:39:28.860Z"
   },
   {
    "duration": 33,
    "start_time": "2021-12-15T04:39:28.874Z"
   },
   {
    "duration": 25,
    "start_time": "2021-12-15T04:39:28.909Z"
   },
   {
    "duration": 19,
    "start_time": "2021-12-15T04:39:28.935Z"
   },
   {
    "duration": 18,
    "start_time": "2021-12-15T04:39:28.956Z"
   },
   {
    "duration": 44,
    "start_time": "2021-12-15T04:39:28.976Z"
   },
   {
    "duration": 348,
    "start_time": "2021-12-15T10:44:41.661Z"
   },
   {
    "duration": 678,
    "start_time": "2021-12-15T10:45:17.061Z"
   },
   {
    "duration": 12,
    "start_time": "2021-12-15T10:45:17.741Z"
   },
   {
    "duration": 32,
    "start_time": "2021-12-15T10:45:17.756Z"
   },
   {
    "duration": 11,
    "start_time": "2021-12-15T10:45:17.790Z"
   },
   {
    "duration": 14,
    "start_time": "2021-12-15T10:45:17.803Z"
   },
   {
    "duration": 39,
    "start_time": "2021-12-15T10:45:17.819Z"
   },
   {
    "duration": 13,
    "start_time": "2021-12-15T10:45:17.860Z"
   },
   {
    "duration": 14,
    "start_time": "2021-12-15T10:45:17.877Z"
   },
   {
    "duration": 8,
    "start_time": "2021-12-15T10:45:17.893Z"
   },
   {
    "duration": 58,
    "start_time": "2021-12-15T10:45:17.903Z"
   },
   {
    "duration": 42,
    "start_time": "2021-12-15T10:45:17.962Z"
   },
   {
    "duration": 5,
    "start_time": "2021-12-15T10:45:18.006Z"
   },
   {
    "duration": 4487,
    "start_time": "2021-12-15T10:45:18.013Z"
   },
   {
    "duration": 14,
    "start_time": "2021-12-15T10:45:22.502Z"
   },
   {
    "duration": 33,
    "start_time": "2021-12-15T10:45:22.518Z"
   },
   {
    "duration": 17,
    "start_time": "2021-12-15T10:45:22.553Z"
   },
   {
    "duration": 9,
    "start_time": "2021-12-15T10:45:22.572Z"
   },
   {
    "duration": 29,
    "start_time": "2021-12-15T10:45:22.583Z"
   },
   {
    "duration": 48,
    "start_time": "2021-12-15T10:45:22.614Z"
   },
   {
    "duration": 24,
    "start_time": "2021-12-15T10:45:22.664Z"
   },
   {
    "duration": 22,
    "start_time": "2021-12-15T10:45:22.690Z"
   },
   {
    "duration": 65,
    "start_time": "2021-12-15T10:45:33.697Z"
   },
   {
    "duration": 11,
    "start_time": "2021-12-15T10:45:38.597Z"
   },
   {
    "duration": 31,
    "start_time": "2021-12-15T10:45:46.284Z"
   },
   {
    "duration": 10,
    "start_time": "2021-12-15T10:46:07.077Z"
   },
   {
    "duration": 38,
    "start_time": "2021-12-15T10:49:25.079Z"
   },
   {
    "duration": 344,
    "start_time": "2021-12-15T11:08:58.167Z"
   },
   {
    "duration": 268,
    "start_time": "2021-12-15T11:09:12.613Z"
   },
   {
    "duration": 302,
    "start_time": "2021-12-15T11:09:36.952Z"
   },
   {
    "duration": 11,
    "start_time": "2021-12-15T11:14:36.725Z"
   },
   {
    "duration": 278,
    "start_time": "2021-12-15T11:15:27.236Z"
   },
   {
    "duration": 277,
    "start_time": "2021-12-15T11:15:56.084Z"
   },
   {
    "duration": 14,
    "start_time": "2021-12-15T11:16:08.988Z"
   },
   {
    "duration": 290,
    "start_time": "2021-12-15T11:19:30.561Z"
   },
   {
    "duration": 12,
    "start_time": "2021-12-15T11:20:14.345Z"
   },
   {
    "duration": 274,
    "start_time": "2021-12-15T11:20:49.471Z"
   },
   {
    "duration": 11,
    "start_time": "2021-12-15T11:22:17.688Z"
   },
   {
    "duration": 269,
    "start_time": "2021-12-15T11:23:43.334Z"
   },
   {
    "duration": 12,
    "start_time": "2021-12-15T11:23:58.644Z"
   },
   {
    "duration": 279,
    "start_time": "2021-12-15T11:26:52.000Z"
   },
   {
    "duration": 376,
    "start_time": "2021-12-15T11:27:16.916Z"
   },
   {
    "duration": 334,
    "start_time": "2021-12-15T11:27:46.972Z"
   },
   {
    "duration": 12,
    "start_time": "2021-12-15T11:28:07.778Z"
   },
   {
    "duration": 348,
    "start_time": "2021-12-15T11:30:10.557Z"
   },
   {
    "duration": 12,
    "start_time": "2021-12-15T11:33:12.502Z"
   },
   {
    "duration": 18,
    "start_time": "2021-12-15T11:36:18.486Z"
   },
   {
    "duration": 21,
    "start_time": "2021-12-15T11:36:53.946Z"
   },
   {
    "duration": 61,
    "start_time": "2022-06-21T12:07:34.990Z"
   },
   {
    "duration": 940,
    "start_time": "2022-06-21T12:07:42.948Z"
   },
   {
    "duration": 24,
    "start_time": "2022-06-21T12:07:43.890Z"
   },
   {
    "duration": 44,
    "start_time": "2022-06-21T12:07:43.916Z"
   },
   {
    "duration": 39,
    "start_time": "2022-06-21T12:07:43.963Z"
   },
   {
    "duration": 17,
    "start_time": "2022-06-21T12:07:44.005Z"
   },
   {
    "duration": 29,
    "start_time": "2022-06-21T12:07:44.027Z"
   },
   {
    "duration": 36,
    "start_time": "2022-06-21T12:07:44.058Z"
   },
   {
    "duration": 19,
    "start_time": "2022-06-21T12:07:44.095Z"
   },
   {
    "duration": 18,
    "start_time": "2022-06-21T12:07:44.117Z"
   },
   {
    "duration": 60,
    "start_time": "2022-06-21T12:07:44.137Z"
   },
   {
    "duration": 76,
    "start_time": "2022-06-21T12:07:44.199Z"
   },
   {
    "duration": 5492,
    "start_time": "2022-06-21T12:07:44.283Z"
   },
   {
    "duration": 14,
    "start_time": "2022-06-21T12:07:49.781Z"
   },
   {
    "duration": 50,
    "start_time": "2022-06-21T12:07:49.797Z"
   },
   {
    "duration": 57,
    "start_time": "2022-06-21T12:07:49.848Z"
   },
   {
    "duration": 102,
    "start_time": "2022-06-21T12:07:49.907Z"
   },
   {
    "duration": 44,
    "start_time": "2022-06-21T12:07:50.012Z"
   },
   {
    "duration": 64,
    "start_time": "2022-06-21T12:07:50.058Z"
   },
   {
    "duration": 59,
    "start_time": "2022-06-21T12:07:50.130Z"
   },
   {
    "duration": 36,
    "start_time": "2022-06-21T12:07:50.190Z"
   },
   {
    "duration": 68,
    "start_time": "2022-06-21T12:07:50.228Z"
   },
   {
    "duration": 18,
    "start_time": "2022-06-21T12:08:16.002Z"
   },
   {
    "duration": 637,
    "start_time": "2022-06-21T12:08:25.941Z"
   },
   {
    "duration": 28,
    "start_time": "2022-06-21T12:08:26.588Z"
   },
   {
    "duration": 69,
    "start_time": "2022-06-21T12:08:26.618Z"
   },
   {
    "duration": 27,
    "start_time": "2022-06-21T12:08:26.689Z"
   },
   {
    "duration": 31,
    "start_time": "2022-06-21T12:08:26.718Z"
   },
   {
    "duration": 57,
    "start_time": "2022-06-21T12:08:26.751Z"
   },
   {
    "duration": 17,
    "start_time": "2022-06-21T12:08:26.810Z"
   },
   {
    "duration": 37,
    "start_time": "2022-06-21T12:08:26.829Z"
   },
   {
    "duration": 32,
    "start_time": "2022-06-21T12:08:26.869Z"
   },
   {
    "duration": 25,
    "start_time": "2022-06-21T12:08:26.904Z"
   },
   {
    "duration": 103,
    "start_time": "2022-06-21T12:08:26.931Z"
   },
   {
    "duration": 6155,
    "start_time": "2022-06-21T12:08:27.039Z"
   },
   {
    "duration": 17,
    "start_time": "2022-06-21T12:08:33.198Z"
   },
   {
    "duration": 91,
    "start_time": "2022-06-21T12:08:33.217Z"
   },
   {
    "duration": 39,
    "start_time": "2022-06-21T12:08:33.310Z"
   },
   {
    "duration": 108,
    "start_time": "2022-06-21T12:08:33.355Z"
   },
   {
    "duration": 39,
    "start_time": "2022-06-21T12:08:33.466Z"
   },
   {
    "duration": 65,
    "start_time": "2022-06-21T12:08:33.507Z"
   },
   {
    "duration": 34,
    "start_time": "2022-06-21T12:08:33.574Z"
   },
   {
    "duration": 35,
    "start_time": "2022-06-21T12:08:33.610Z"
   },
   {
    "duration": 57,
    "start_time": "2022-06-21T12:08:33.652Z"
   },
   {
    "duration": 485,
    "start_time": "2022-06-21T12:12:55.879Z"
   },
   {
    "duration": 15,
    "start_time": "2022-06-21T12:12:56.366Z"
   },
   {
    "duration": 54,
    "start_time": "2022-06-21T12:12:56.382Z"
   },
   {
    "duration": 14,
    "start_time": "2022-06-21T12:12:56.438Z"
   },
   {
    "duration": 20,
    "start_time": "2022-06-21T12:12:56.455Z"
   },
   {
    "duration": 24,
    "start_time": "2022-06-21T12:12:56.476Z"
   },
   {
    "duration": 23,
    "start_time": "2022-06-21T12:12:56.502Z"
   },
   {
    "duration": 29,
    "start_time": "2022-06-21T12:12:56.527Z"
   },
   {
    "duration": 8,
    "start_time": "2022-06-21T12:12:56.558Z"
   },
   {
    "duration": 24,
    "start_time": "2022-06-21T12:12:56.567Z"
   },
   {
    "duration": 70,
    "start_time": "2022-06-21T12:12:56.593Z"
   },
   {
    "duration": 4422,
    "start_time": "2022-06-21T12:12:56.665Z"
   },
   {
    "duration": 15,
    "start_time": "2022-06-21T12:13:01.090Z"
   },
   {
    "duration": 86,
    "start_time": "2022-06-21T12:13:01.107Z"
   },
   {
    "duration": 60,
    "start_time": "2022-06-21T12:13:01.196Z"
   },
   {
    "duration": 68,
    "start_time": "2022-06-21T12:13:01.258Z"
   },
   {
    "duration": 44,
    "start_time": "2022-06-21T12:13:01.331Z"
   },
   {
    "duration": 107,
    "start_time": "2022-06-21T12:13:01.378Z"
   },
   {
    "duration": 22,
    "start_time": "2022-06-21T12:13:01.487Z"
   },
   {
    "duration": 37,
    "start_time": "2022-06-21T12:13:01.511Z"
   },
   {
    "duration": 63,
    "start_time": "2022-06-21T12:13:01.550Z"
   },
   {
    "duration": 547,
    "start_time": "2022-06-21T12:22:36.714Z"
   },
   {
    "duration": 21,
    "start_time": "2022-06-21T12:22:37.263Z"
   },
   {
    "duration": 40,
    "start_time": "2022-06-21T12:22:37.286Z"
   },
   {
    "duration": 19,
    "start_time": "2022-06-21T12:22:37.329Z"
   },
   {
    "duration": 42,
    "start_time": "2022-06-21T12:22:37.350Z"
   },
   {
    "duration": 19,
    "start_time": "2022-06-21T12:22:37.394Z"
   },
   {
    "duration": 20,
    "start_time": "2022-06-21T12:22:37.415Z"
   },
   {
    "duration": 55,
    "start_time": "2022-06-21T12:22:37.436Z"
   },
   {
    "duration": 8,
    "start_time": "2022-06-21T12:22:37.493Z"
   },
   {
    "duration": 34,
    "start_time": "2022-06-21T12:22:37.504Z"
   },
   {
    "duration": 121,
    "start_time": "2022-06-21T12:22:37.540Z"
   },
   {
    "duration": 4691,
    "start_time": "2022-06-21T12:22:37.663Z"
   },
   {
    "duration": 13,
    "start_time": "2022-06-21T12:22:42.356Z"
   },
   {
    "duration": 19,
    "start_time": "2022-06-21T12:22:42.371Z"
   },
   {
    "duration": 52,
    "start_time": "2022-06-21T12:22:42.392Z"
   },
   {
    "duration": 22,
    "start_time": "2022-06-21T12:22:42.454Z"
   },
   {
    "duration": 9,
    "start_time": "2022-06-21T12:22:42.478Z"
   },
   {
    "duration": 21,
    "start_time": "2022-06-21T12:22:42.488Z"
   },
   {
    "duration": 36,
    "start_time": "2022-06-21T12:22:42.511Z"
   },
   {
    "duration": 37,
    "start_time": "2022-06-21T12:22:42.554Z"
   },
   {
    "duration": 28,
    "start_time": "2022-06-21T12:22:42.594Z"
   }
  ],
  "kernelspec": {
   "display_name": "Python 3 (ipykernel)",
   "language": "python",
   "name": "python3"
  },
  "language_info": {
   "codemirror_mode": {
    "name": "ipython",
    "version": 3
   },
   "file_extension": ".py",
   "mimetype": "text/x-python",
   "name": "python",
   "nbconvert_exporter": "python",
   "pygments_lexer": "ipython3",
   "version": "3.9.5"
  },
  "toc": {
   "base_numbering": 1,
   "nav_menu": {},
   "number_sections": true,
   "sideBar": true,
   "skip_h1_title": true,
   "title_cell": "Table of Contents",
   "title_sidebar": "Contents",
   "toc_cell": false,
   "toc_position": {},
   "toc_section_display": true,
   "toc_window_display": false
  }
 },
 "nbformat": 4,
 "nbformat_minor": 2
}
